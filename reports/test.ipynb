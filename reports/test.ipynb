{
 "cells": [
  {
   "cell_type": "code",
   "execution_count": 1,
   "id": "c2950eb0",
   "metadata": {},
   "outputs": [
    {
     "name": "stderr",
     "output_type": "stream",
     "text": [
      "D:\\anaconda3\\lib\\site-packages\\IPython\\core\\interactiveshell.py:3444: DtypeWarning: Columns (16) have mixed types.Specify dtype option on import or set low_memory=False.\n",
      "  exec(code_obj, self.user_global_ns, self.user_ns)\n"
     ]
    }
   ],
   "source": [
    "# Load modules\n",
    "from dash import Dash, dcc, html, Input, Output,callback, State\n",
    "from jupyter_dash import JupyterDash\n",
    "import dash_bootstrap_components as dbc\n",
    "import plotly.express as px\n",
    "import dash\n",
    "\n",
    "import altair as alt\n",
    "import numpy as np\n",
    "import pandas as pd\n",
    "\n",
    "murder = pd.read_csv(\"database.csv/database.csv\")\n",
    "\n",
    "#remove space to conduct query\n",
    "murder.columns =['Record_ID', 'Agency_Code', 'Agency_Name', 'Agency_Type', 'City',\n",
    "       'State', 'Year', 'Month', 'Incident', 'Crime_Type', 'Crime_Solved',\n",
    "       'Victim_Sex', 'Victim_Age', 'Victim_Race', 'Victim_Ethnicity',\n",
    "       'Perpetrator_Sex', 'Perpetrator_Age', 'Perpetrator_Race',\n",
    "       'Perpetrator_Ethnicity', 'Relationship', 'Weapon', 'Victim_Count',\n",
    "       'Perpetrator_Count', 'Record_Source']"
   ]
  },
  {
   "cell_type": "code",
   "execution_count": 2,
   "id": "4e5e1192",
   "metadata": {},
   "outputs": [],
   "source": [
    "#Map state names to state codes (Needed for plotting)\n",
    "us_state_to_abbrev = {\n",
    "    \"Alabama\": \"AL\",\n",
    "    \"Alaska\": \"AK\",\n",
    "    \"Arizona\": \"AZ\",\n",
    "    \"Arkansas\": \"AR\",\n",
    "    \"California\": \"CA\",\n",
    "    \"Colorado\": \"CO\",\n",
    "    \"Connecticut\": \"CT\",\n",
    "    \"Delaware\": \"DE\",\n",
    "    \"Florida\": \"FL\",\n",
    "    \"Georgia\": \"GA\",\n",
    "    \"Hawaii\": \"HI\",\n",
    "    \"Idaho\": \"ID\",\n",
    "    \"Illinois\": \"IL\",\n",
    "    \"Indiana\": \"IN\",\n",
    "    \"Iowa\": \"IA\",\n",
    "    \"Kansas\": \"KS\",\n",
    "    \"Kentucky\": \"KY\",\n",
    "    \"Louisiana\": \"LA\",\n",
    "    \"Maine\": \"ME\",\n",
    "    \"Maryland\": \"MD\",\n",
    "    \"Massachusetts\": \"MA\",\n",
    "    \"Michigan\": \"MI\",\n",
    "    \"Minnesota\": \"MN\",\n",
    "    \"Mississippi\": \"MS\",\n",
    "    \"Missouri\": \"MO\",\n",
    "    \"Montana\": \"MT\",\n",
    "    \"Nebraska\": \"NE\",\n",
    "    \"Nevada\": \"NV\",\n",
    "    \"New Hampshire\": \"NH\",\n",
    "    \"New Jersey\": \"NJ\",\n",
    "    \"New Mexico\": \"NM\",\n",
    "    \"New York\": \"NY\",\n",
    "    \"North Carolina\": \"NC\",\n",
    "    \"North Dakota\": \"ND\",\n",
    "    \"Ohio\": \"OH\",\n",
    "    \"Oklahoma\": \"OK\",\n",
    "    \"Oregon\": \"OR\",\n",
    "    \"Pennsylvania\": \"PA\",\n",
    "    \"Rhode Island\": \"RI\",\n",
    "    \"South Carolina\": \"SC\",\n",
    "    \"South Dakota\": \"SD\",\n",
    "    \"Tennessee\": \"TN\",\n",
    "    \"Texas\": \"TX\",\n",
    "    \"Utah\": \"UT\",\n",
    "    \"Vermont\": \"VT\",\n",
    "    \"Virginia\": \"VA\",\n",
    "    \"Washington\": \"WA\",\n",
    "    \"West Virginia\": \"WV\",\n",
    "    \"Wisconsin\": \"WI\",\n",
    "    \"Wyoming\": \"WY\",\n",
    "    \"District of Columbia\": \"DC\",\n",
    "    \"American Samoa\": \"AS\",\n",
    "    \"Guam\": \"GU\",\n",
    "    \"Northern Mariana Islands\": \"MP\",\n",
    "    \"Puerto Rico\": \"PR\",\n",
    "    \"United States Minor Outlying Islands\": \"UM\",\n",
    "    \"U.S. Virgin Islands\": \"VI\",\n",
    "}\n",
    "\n",
    "#The actual mapping \n",
    "murder[\"State_Code\"] = murder[\"State\"].replace(us_state_to_abbrev, inplace = False)\n",
    "\n",
    "def df_text_generate(df_group,var):\n",
    "    text_dic = {}\n",
    "    for idx in df_group.index:\n",
    "        if idx not in text_dic:\n",
    "            temp = var.replace('_',' ') + '<br>'\n",
    "            for i in range(0,len(df_group.loc[idx][var])):\n",
    "                temp += df_group.loc[idx][var][i] + ': ' + str(df_group.loc[idx]['Record_ID'][i]) + '<br>'\n",
    "            text_dic[idx] = temp\n",
    "    return text_dic\n",
    "\n",
    "def plot_text_generate(df):\n",
    "    murder_group1 = df.groupby(['State_Code','Victim_Sex']).count().reset_index(level=1)\n",
    "    text_lst1 = df_text_generate(murder_group1,'Victim_Sex')\n",
    "    murder_group2 = df.groupby(['State_Code','Perpetrator_Sex']).count().reset_index(level=1)\n",
    "    text_lst2 = df_text_generate(murder_group2,'Perpetrator_Sex')\n",
    "    \n",
    "    df_trial = df.groupby('State_Code').count().reset_index(level=0)\n",
    "    plot_text_lst = [x+y for x,y in zip(list(text_lst1.values()), list(text_lst2.values()))]\n",
    "    df_trial['temp_text'] = plot_text_lst\n",
    "    df_trial[\"Record_ID\"] = df_trial[\"Record_ID\"].astype(\"str\")\n",
    "    df_trial['plot_text'] = 'State Code: ' + df_trial['State_Code'] + '<br>Record Number: ' + df_trial['Record_ID'] + '<br>' + df_trial['temp_text']\n",
    "    return df_trial"
   ]
  },
  {
   "cell_type": "code",
   "execution_count": 3,
   "id": "ba82af5c",
   "metadata": {},
   "outputs": [
    {
     "name": "stdout",
     "output_type": "stream",
     "text": [
      " * Serving Flask app \"__main__\" (lazy loading)\n",
      " * Environment: production\n",
      "\u001b[31m   WARNING: This is a development server. Do not use it in a production deployment.\u001b[0m\n",
      "\u001b[2m   Use a production WSGI server instead.\u001b[0m\n",
      " * Debug mode: off\n"
     ]
    },
    {
     "name": "stderr",
     "output_type": "stream",
     "text": [
      " * Running on http://127.0.0.1:8000/ (Press CTRL+C to quit)\n",
      "127.0.0.1 - - [01/Mar/2023 18:09:15] \"GET / HTTP/1.1\" 200 -\n",
      "127.0.0.1 - - [01/Mar/2023 18:09:15] \"GET /_dash-layout HTTP/1.1\" 200 -\n",
      "127.0.0.1 - - [01/Mar/2023 18:09:15] \"GET /_dash-dependencies HTTP/1.1\" 200 -\n",
      "127.0.0.1 - - [01/Mar/2023 18:09:15] \"POST /_dash-update-component HTTP/1.1\" 500 -\n",
      "127.0.0.1 - - [01/Mar/2023 18:09:15] \"GET /_dash-component-suites/dash/dcc/async-graph.js HTTP/1.1\" 200 -\n",
      "127.0.0.1 - - [01/Mar/2023 18:09:15] \"GET /_dash-component-suites/dash/dcc/async-slider.js HTTP/1.1\" 200 -\n",
      "127.0.0.1 - - [01/Mar/2023 18:09:15] \"GET /_favicon.ico?v=2.8.1 HTTP/1.1\" 200 -\n",
      "127.0.0.1 - - [01/Mar/2023 18:09:15] \"GET /_dash-component-suites/dash/dcc/async-plotlyjs.js HTTP/1.1\" 200 -\n",
      "127.0.0.1 - - [01/Mar/2023 18:09:19] \"POST /_dash-update-component HTTP/1.1\" 500 -\n",
      "127.0.0.1 - - [01/Mar/2023 18:09:21] \"POST /_dash-update-component HTTP/1.1\" 500 -\n",
      "127.0.0.1 - - [01/Mar/2023 18:09:21] \"POST /_dash-update-component HTTP/1.1\" 500 -\n",
      "127.0.0.1 - - [01/Mar/2023 18:09:22] \"POST /_dash-update-component HTTP/1.1\" 500 -\n",
      "127.0.0.1 - - [01/Mar/2023 18:09:23] \"POST /_dash-update-component HTTP/1.1\" 500 -\n"
     ]
    }
   ],
   "source": [
    "# Instantiate the app\n",
    "#Jupyter dash\n",
    "app = JupyterDash(external_stylesheets=[dbc.themes.BOOTSTRAP])\n",
    "\n",
    "server = app.server\n",
    "\n",
    "# CSS Styles\n",
    "css_dd = {\n",
    "    \"font-size\": \"smaller\",\n",
    "}\n",
    "\n",
    "css_list = {\n",
    "    \"column-count\": 2,\n",
    "}\n",
    "\n",
    "css_sources = {\n",
    "    \"font-size\": \"xx-small\",\n",
    "}\n",
    "\n",
    "YEARS = [2010, 2011, 2012, 2013, 2014]\n",
    "WEAPONS = [w.strip() for w in list(murder['Weapon'].dropna().unique())]\n",
    "#### Set Layout\n",
    "app.layout = dbc.Container([\n",
    "        \n",
    "    html.H1(\"Dashboard of US Murder Cases by Cities\"),\n",
    "    html.P(\"some sentence\"),\n",
    "    \n",
    "    html.Div(\n",
    "    [\n",
    "        dbc.Row(\n",
    "            [\n",
    "                dbc.Col([html.Label(\"Year: \"),\n",
    "                       dcc.Slider(id=\"years_slider\",\n",
    "                                  min=min(YEARS),\n",
    "                                  max=max(YEARS),\n",
    "                                  step=1,\n",
    "                                  value=min(YEARS),\n",
    "                                  marks={str(year): {\"label\": str(year),\n",
    "                                                     \"style\": {\"color\": \"#7fafdf\"}}\n",
    "                                         for year in YEARS})]),\n",
    "                dbc.Col([html.Label(\"Weapon: \"),\n",
    "                        dbc.DropdownMenu(\n",
    "                            style=css_dd,\n",
    "                            children=[\n",
    "                                dcc.Checklist(\n",
    "                                    id='weapons_checklist',\n",
    "                                    options=WEAPONS,\n",
    "                                    value=[],\n",
    "                                    labelStyle = {'display': 'block'},\n",
    "                                    className=\"css_list\",)\n",
    "                            ],\n",
    "                            label='choices',\n",
    "                        )])\n",
    "            ]),\n",
    "        \n",
    "        #map graph\n",
    "        dbc.Row(\n",
    "            [\n",
    "                dcc.Graph(\n",
    "                    id=\"map_graph\",\n",
    "                )\n",
    "            ]),\n",
    "    ])\n",
    "])\n",
    "\n",
    "#### Callback \n",
    "@app.callback(\n",
    "    Output(\"map_graph\", \"figure\"),\n",
    "    Input(\"years_slider\", \"value\"),\n",
    "    Input(\"weapons_checklist\", \"value\"),\n",
    ")\n",
    "\n",
    "def plot_map(years_slider,weapons_checklist):\n",
    "    #filter\n",
    "    murder_selected = murder.loc[(murder['Year']==years_slider) & \n",
    "                                (murder['Weapon'].isin(weapons_checklist))]\n",
    "    murder_trial = plot_text_generate(murder_selected)\n",
    "    \n",
    "    #graph\n",
    "    base = px.choropleth(murder_trial,\n",
    "                         locations='State_Code', \n",
    "                         locationmode=\"USA-states\", \n",
    "                         scope=\"usa\",\n",
    "                         color='Record_ID',color_continuous_scale=\"Viridis_r\", \n",
    "                        )\n",
    "    fig.update_geos(fitbounds=\"locations\", visible=False)\n",
    "    fig.update_layout(margin={\"r\":0,\"t\":0,\"l\":0,\"b\":0})\n",
    "    return base\n",
    "    \n",
    "    \n",
    "\n",
    "if __name__ == '__main__':\n",
    "    app.server.run(port=8000, host='127.0.0.1')"
   ]
  },
  {
   "cell_type": "code",
   "execution_count": 7,
   "id": "8810246d",
   "metadata": {},
   "outputs": [],
   "source": [
    "murder_selected = murder.loc[(murder['Year']==2010)]"
   ]
  },
  {
   "cell_type": "code",
   "execution_count": 8,
   "id": "84bbe9f1",
   "metadata": {},
   "outputs": [],
   "source": [
    "#The actual mapping \n",
    "murder[\"State_Code\"] = murder[\"State\"].replace(us_state_to_abbrev, inplace = False)\n",
    "\n",
    "def df_text_generate(df_group,var):\n",
    "    text_dic = {}\n",
    "    for idx in df_group.index:\n",
    "        if idx not in text_dic:\n",
    "            temp = var.replace('_',' ') + '<br>'\n",
    "            if type(df_group.loc[idx][var]) == str:\n",
    "                temp += df_group.loc[idx][var] + ': ' + str(df_group.loc[idx]['Record_ID']) + '<br>'\n",
    "            else:\n",
    "                for i in range(0,len(df_group.loc[idx][var])):\n",
    "                    temp += df_group.loc[idx][var][i] + ': ' + str(df_group.loc[idx]['Record_ID'][i]) + '<br>'\n",
    "            text_dic[idx] = temp\n",
    "    return text_dic\n",
    "\n",
    "def plot_text_generate(df):\n",
    "    murder_group1 = df.groupby(['State_Code','Victim_Sex']).count().reset_index(level=1)\n",
    "    text_lst1 = df_text_generate(murder_group1,'Victim_Sex')\n",
    "    murder_group2 = df.groupby(['State_Code','Perpetrator_Sex']).count().reset_index(level=1)\n",
    "    text_lst2 = df_text_generate(murder_group2,'Perpetrator_Sex')\n",
    "    \n",
    "    df_trial = df.groupby(['State_Code','State']).count().reset_index(level=1).reset_index(level=0)\n",
    "    plot_text_lst = [x+y for x,y in zip(list(text_lst1.values()), list(text_lst2.values()))]\n",
    "    df_trial['temp_text'] = plot_text_lst\n",
    "    df_trial[\"Record_ID\"] = df_trial[\"Record_ID\"].astype(\"str\")\n",
    "    df_trial['plot_text'] = 'State: ' + df_trial['State'] + '<br>' + df_trial['temp_text']\n",
    "    return df_trial"
   ]
  },
  {
   "cell_type": "code",
   "execution_count": 9,
   "id": "7ecd805a",
   "metadata": {},
   "outputs": [
    {
     "ename": "NameError",
     "evalue": "name 'data' is not defined",
     "output_type": "error",
     "traceback": [
      "\u001b[1;31m---------------------------------------------------------------------------\u001b[0m",
      "\u001b[1;31mNameError\u001b[0m                                 Traceback (most recent call last)",
      "\u001b[1;32mC:\\Users\\YUXINC~1\\AppData\\Local\\Temp/ipykernel_23584/2479988064.py\u001b[0m in \u001b[0;36m<module>\u001b[1;34m\u001b[0m\n\u001b[1;32m----> 1\u001b[1;33m \u001b[0mpop\u001b[0m \u001b[1;33m=\u001b[0m \u001b[0mdata\u001b[0m\u001b[1;33m.\u001b[0m\u001b[0mpopulation_engineers_hurricanes\u001b[0m\u001b[1;33m(\u001b[0m\u001b[1;33m)\u001b[0m\u001b[1;33m\u001b[0m\u001b[1;33m\u001b[0m\u001b[0m\n\u001b[0m\u001b[0;32m      2\u001b[0m \u001b[0mpop\u001b[0m\u001b[1;33m.\u001b[0m\u001b[0mhead\u001b[0m\u001b[1;33m(\u001b[0m\u001b[1;33m)\u001b[0m\u001b[1;33m\u001b[0m\u001b[1;33m\u001b[0m\u001b[0m\n",
      "\u001b[1;31mNameError\u001b[0m: name 'data' is not defined"
     ]
    }
   ],
   "source": [
    "pop = data.population_engineers_hurricanes()\n",
    "pop.head()"
   ]
  },
  {
   "cell_type": "code",
   "execution_count": 10,
   "id": "d548348c",
   "metadata": {},
   "outputs": [
    {
     "ename": "NameError",
     "evalue": "name 'pop' is not defined",
     "output_type": "error",
     "traceback": [
      "\u001b[1;31m---------------------------------------------------------------------------\u001b[0m",
      "\u001b[1;31mNameError\u001b[0m                                 Traceback (most recent call last)",
      "\u001b[1;32mC:\\Users\\YUXINC~1\\AppData\\Local\\Temp/ipykernel_23584/2939307011.py\u001b[0m in \u001b[0;36m<module>\u001b[1;34m\u001b[0m\n\u001b[1;32m----> 1\u001b[1;33m \u001b[0mus_state_to_id\u001b[0m \u001b[1;33m=\u001b[0m \u001b[0mdict\u001b[0m\u001b[1;33m(\u001b[0m\u001b[0mzip\u001b[0m\u001b[1;33m(\u001b[0m\u001b[0mpop\u001b[0m\u001b[1;33m[\u001b[0m\u001b[1;34m'state'\u001b[0m\u001b[1;33m]\u001b[0m\u001b[1;33m,\u001b[0m \u001b[0mpop\u001b[0m\u001b[1;33m[\u001b[0m\u001b[1;34m'id'\u001b[0m\u001b[1;33m]\u001b[0m\u001b[1;33m)\u001b[0m\u001b[1;33m)\u001b[0m\u001b[1;33m\u001b[0m\u001b[1;33m\u001b[0m\u001b[0m\n\u001b[0m\u001b[0;32m      2\u001b[0m \u001b[0mmurder\u001b[0m\u001b[1;33m[\u001b[0m\u001b[1;34m\"id\"\u001b[0m\u001b[1;33m]\u001b[0m \u001b[1;33m=\u001b[0m \u001b[0mmurder\u001b[0m\u001b[1;33m[\u001b[0m\u001b[1;34m\"State\"\u001b[0m\u001b[1;33m]\u001b[0m\u001b[1;33m.\u001b[0m\u001b[0mreplace\u001b[0m\u001b[1;33m(\u001b[0m\u001b[0mus_state_to_id\u001b[0m\u001b[1;33m,\u001b[0m \u001b[0minplace\u001b[0m \u001b[1;33m=\u001b[0m \u001b[1;32mFalse\u001b[0m\u001b[1;33m)\u001b[0m\u001b[1;33m\u001b[0m\u001b[1;33m\u001b[0m\u001b[0m\n",
      "\u001b[1;31mNameError\u001b[0m: name 'pop' is not defined"
     ]
    }
   ],
   "source": [
    "us_state_to_id = dict(zip(pop['state'], pop['id']))\n",
    "murder[\"id\"] = murder[\"State\"].replace(us_state_to_id, inplace = False)"
   ]
  },
  {
   "cell_type": "code",
   "execution_count": 11,
   "id": "68dec06b",
   "metadata": {},
   "outputs": [],
   "source": [
    "murder_selected = murder.loc[(murder['Year']==2013) & (murder['Weapon']=='Gun')]"
   ]
  },
  {
   "cell_type": "code",
   "execution_count": 12,
   "id": "62f3c66a",
   "metadata": {},
   "outputs": [],
   "source": [
    "murder_trial = plot_text_generate(murder_selected)"
   ]
  },
  {
   "cell_type": "code",
   "execution_count": 13,
   "id": "3c67f62c",
   "metadata": {},
   "outputs": [],
   "source": [
    "state_selected = list(murder_trial['State_Code'])"
   ]
  },
  {
   "cell_type": "code",
   "execution_count": 14,
   "id": "133821bd",
   "metadata": {},
   "outputs": [],
   "source": [
    "Month_sort = ['January','February','March','April','May','June','July','August','September','October','November','December']\n",
    "gender = ['Female','Male','Unknown']\n",
    "month_gender = [(gen,mon) for gen in gender for mon in Month_sort]"
   ]
  },
  {
   "cell_type": "code",
   "execution_count": 15,
   "id": "e2f1a4b1",
   "metadata": {},
   "outputs": [],
   "source": [
    "def line_graph_sta(df_selected):\n",
    "    df_filter = df_selected.groupby(['Month','Perpetrator_Sex']).count().reset_index(level=0).reset_index(level=0).groupby(['Perpetrator_Sex','Month']).sum().iloc[:,:1]\n",
    "    df_month_pair = list(df_filter.index)\n",
    "    miss_month_pair = [mp for mp in month_gender if mp not in df_month_pair]\n",
    "    index=pd.MultiIndex.from_tuples(miss_month_pair, names=['Perpetrator_Sex', 'Month'])\n",
    "    new=pd.DataFrame([{'Record_ID':0}],index=index)\n",
    "    return pd.concat([new,df_filter]).groupby(['Month','Perpetrator_Sex']).sum().reindex(Month_sort,level=0).reset_index(level=0).reset_index(level=0)"
   ]
  },
  {
   "cell_type": "code",
   "execution_count": 23,
   "id": "bfb4b0ff",
   "metadata": {},
   "outputs": [],
   "source": [
    "a=line_graph_sta(murder_selected)"
   ]
  },
  {
   "cell_type": "code",
   "execution_count": 24,
   "id": "d0322866",
   "metadata": {},
   "outputs": [
    {
     "data": {
      "application/vnd.plotly.v1+json": {
       "config": {
        "plotlyServerURL": "https://plot.ly"
       },
       "data": [
        {
         "hovertemplate": "Perpetrator_Sex=Female<br>Month=%{x}<br>Record_ID=%{y}<extra></extra>",
         "legendgroup": "Female",
         "line": {
          "color": "#636efa",
          "dash": "solid"
         },
         "marker": {
          "symbol": "circle"
         },
         "mode": "lines",
         "name": "Female",
         "orientation": "v",
         "showlegend": true,
         "type": "scatter",
         "x": [
          "January",
          "February",
          "March",
          "April",
          "May",
          "June",
          "July",
          "August",
          "September",
          "October",
          "November",
          "December"
         ],
         "xaxis": "x",
         "y": [
          0,
          0,
          1,
          0,
          0,
          1,
          2,
          0,
          0,
          0,
          0,
          1
         ],
         "yaxis": "y"
        },
        {
         "hovertemplate": "Perpetrator_Sex=Male<br>Month=%{x}<br>Record_ID=%{y}<extra></extra>",
         "legendgroup": "Male",
         "line": {
          "color": "#EF553B",
          "dash": "solid"
         },
         "marker": {
          "symbol": "circle"
         },
         "mode": "lines",
         "name": "Male",
         "orientation": "v",
         "showlegend": true,
         "type": "scatter",
         "x": [
          "January",
          "February",
          "March",
          "April",
          "May",
          "June",
          "July",
          "August",
          "September",
          "October",
          "November",
          "December"
         ],
         "xaxis": "x",
         "y": [
          3,
          7,
          5,
          6,
          7,
          5,
          5,
          4,
          6,
          5,
          7,
          7
         ],
         "yaxis": "y"
        },
        {
         "hovertemplate": "Perpetrator_Sex=Unknown<br>Month=%{x}<br>Record_ID=%{y}<extra></extra>",
         "legendgroup": "Unknown",
         "line": {
          "color": "#00cc96",
          "dash": "solid"
         },
         "marker": {
          "symbol": "circle"
         },
         "mode": "lines",
         "name": "Unknown",
         "orientation": "v",
         "showlegend": true,
         "type": "scatter",
         "x": [
          "January",
          "February",
          "March",
          "April",
          "May",
          "June",
          "July",
          "August",
          "September",
          "October",
          "November",
          "December"
         ],
         "xaxis": "x",
         "y": [
          7,
          5,
          4,
          6,
          0,
          3,
          5,
          8,
          3,
          6,
          6,
          2
         ],
         "yaxis": "y"
        }
       ],
       "layout": {
        "legend": {
         "title": {
          "text": "Perpetrator_Sex"
         },
         "tracegroupgap": 0
        },
        "margin": {
         "t": 60
        },
        "template": {
         "data": {
          "bar": [
           {
            "error_x": {
             "color": "#2a3f5f"
            },
            "error_y": {
             "color": "#2a3f5f"
            },
            "marker": {
             "line": {
              "color": "#E5ECF6",
              "width": 0.5
             },
             "pattern": {
              "fillmode": "overlay",
              "size": 10,
              "solidity": 0.2
             }
            },
            "type": "bar"
           }
          ],
          "barpolar": [
           {
            "marker": {
             "line": {
              "color": "#E5ECF6",
              "width": 0.5
             },
             "pattern": {
              "fillmode": "overlay",
              "size": 10,
              "solidity": 0.2
             }
            },
            "type": "barpolar"
           }
          ],
          "carpet": [
           {
            "aaxis": {
             "endlinecolor": "#2a3f5f",
             "gridcolor": "white",
             "linecolor": "white",
             "minorgridcolor": "white",
             "startlinecolor": "#2a3f5f"
            },
            "baxis": {
             "endlinecolor": "#2a3f5f",
             "gridcolor": "white",
             "linecolor": "white",
             "minorgridcolor": "white",
             "startlinecolor": "#2a3f5f"
            },
            "type": "carpet"
           }
          ],
          "choropleth": [
           {
            "colorbar": {
             "outlinewidth": 0,
             "ticks": ""
            },
            "type": "choropleth"
           }
          ],
          "contour": [
           {
            "colorbar": {
             "outlinewidth": 0,
             "ticks": ""
            },
            "colorscale": [
             [
              0,
              "#0d0887"
             ],
             [
              0.1111111111111111,
              "#46039f"
             ],
             [
              0.2222222222222222,
              "#7201a8"
             ],
             [
              0.3333333333333333,
              "#9c179e"
             ],
             [
              0.4444444444444444,
              "#bd3786"
             ],
             [
              0.5555555555555556,
              "#d8576b"
             ],
             [
              0.6666666666666666,
              "#ed7953"
             ],
             [
              0.7777777777777778,
              "#fb9f3a"
             ],
             [
              0.8888888888888888,
              "#fdca26"
             ],
             [
              1,
              "#f0f921"
             ]
            ],
            "type": "contour"
           }
          ],
          "contourcarpet": [
           {
            "colorbar": {
             "outlinewidth": 0,
             "ticks": ""
            },
            "type": "contourcarpet"
           }
          ],
          "heatmap": [
           {
            "colorbar": {
             "outlinewidth": 0,
             "ticks": ""
            },
            "colorscale": [
             [
              0,
              "#0d0887"
             ],
             [
              0.1111111111111111,
              "#46039f"
             ],
             [
              0.2222222222222222,
              "#7201a8"
             ],
             [
              0.3333333333333333,
              "#9c179e"
             ],
             [
              0.4444444444444444,
              "#bd3786"
             ],
             [
              0.5555555555555556,
              "#d8576b"
             ],
             [
              0.6666666666666666,
              "#ed7953"
             ],
             [
              0.7777777777777778,
              "#fb9f3a"
             ],
             [
              0.8888888888888888,
              "#fdca26"
             ],
             [
              1,
              "#f0f921"
             ]
            ],
            "type": "heatmap"
           }
          ],
          "heatmapgl": [
           {
            "colorbar": {
             "outlinewidth": 0,
             "ticks": ""
            },
            "colorscale": [
             [
              0,
              "#0d0887"
             ],
             [
              0.1111111111111111,
              "#46039f"
             ],
             [
              0.2222222222222222,
              "#7201a8"
             ],
             [
              0.3333333333333333,
              "#9c179e"
             ],
             [
              0.4444444444444444,
              "#bd3786"
             ],
             [
              0.5555555555555556,
              "#d8576b"
             ],
             [
              0.6666666666666666,
              "#ed7953"
             ],
             [
              0.7777777777777778,
              "#fb9f3a"
             ],
             [
              0.8888888888888888,
              "#fdca26"
             ],
             [
              1,
              "#f0f921"
             ]
            ],
            "type": "heatmapgl"
           }
          ],
          "histogram": [
           {
            "marker": {
             "pattern": {
              "fillmode": "overlay",
              "size": 10,
              "solidity": 0.2
             }
            },
            "type": "histogram"
           }
          ],
          "histogram2d": [
           {
            "colorbar": {
             "outlinewidth": 0,
             "ticks": ""
            },
            "colorscale": [
             [
              0,
              "#0d0887"
             ],
             [
              0.1111111111111111,
              "#46039f"
             ],
             [
              0.2222222222222222,
              "#7201a8"
             ],
             [
              0.3333333333333333,
              "#9c179e"
             ],
             [
              0.4444444444444444,
              "#bd3786"
             ],
             [
              0.5555555555555556,
              "#d8576b"
             ],
             [
              0.6666666666666666,
              "#ed7953"
             ],
             [
              0.7777777777777778,
              "#fb9f3a"
             ],
             [
              0.8888888888888888,
              "#fdca26"
             ],
             [
              1,
              "#f0f921"
             ]
            ],
            "type": "histogram2d"
           }
          ],
          "histogram2dcontour": [
           {
            "colorbar": {
             "outlinewidth": 0,
             "ticks": ""
            },
            "colorscale": [
             [
              0,
              "#0d0887"
             ],
             [
              0.1111111111111111,
              "#46039f"
             ],
             [
              0.2222222222222222,
              "#7201a8"
             ],
             [
              0.3333333333333333,
              "#9c179e"
             ],
             [
              0.4444444444444444,
              "#bd3786"
             ],
             [
              0.5555555555555556,
              "#d8576b"
             ],
             [
              0.6666666666666666,
              "#ed7953"
             ],
             [
              0.7777777777777778,
              "#fb9f3a"
             ],
             [
              0.8888888888888888,
              "#fdca26"
             ],
             [
              1,
              "#f0f921"
             ]
            ],
            "type": "histogram2dcontour"
           }
          ],
          "mesh3d": [
           {
            "colorbar": {
             "outlinewidth": 0,
             "ticks": ""
            },
            "type": "mesh3d"
           }
          ],
          "parcoords": [
           {
            "line": {
             "colorbar": {
              "outlinewidth": 0,
              "ticks": ""
             }
            },
            "type": "parcoords"
           }
          ],
          "pie": [
           {
            "automargin": true,
            "type": "pie"
           }
          ],
          "scatter": [
           {
            "fillpattern": {
             "fillmode": "overlay",
             "size": 10,
             "solidity": 0.2
            },
            "type": "scatter"
           }
          ],
          "scatter3d": [
           {
            "line": {
             "colorbar": {
              "outlinewidth": 0,
              "ticks": ""
             }
            },
            "marker": {
             "colorbar": {
              "outlinewidth": 0,
              "ticks": ""
             }
            },
            "type": "scatter3d"
           }
          ],
          "scattercarpet": [
           {
            "marker": {
             "colorbar": {
              "outlinewidth": 0,
              "ticks": ""
             }
            },
            "type": "scattercarpet"
           }
          ],
          "scattergeo": [
           {
            "marker": {
             "colorbar": {
              "outlinewidth": 0,
              "ticks": ""
             }
            },
            "type": "scattergeo"
           }
          ],
          "scattergl": [
           {
            "marker": {
             "colorbar": {
              "outlinewidth": 0,
              "ticks": ""
             }
            },
            "type": "scattergl"
           }
          ],
          "scattermapbox": [
           {
            "marker": {
             "colorbar": {
              "outlinewidth": 0,
              "ticks": ""
             }
            },
            "type": "scattermapbox"
           }
          ],
          "scatterpolar": [
           {
            "marker": {
             "colorbar": {
              "outlinewidth": 0,
              "ticks": ""
             }
            },
            "type": "scatterpolar"
           }
          ],
          "scatterpolargl": [
           {
            "marker": {
             "colorbar": {
              "outlinewidth": 0,
              "ticks": ""
             }
            },
            "type": "scatterpolargl"
           }
          ],
          "scatterternary": [
           {
            "marker": {
             "colorbar": {
              "outlinewidth": 0,
              "ticks": ""
             }
            },
            "type": "scatterternary"
           }
          ],
          "surface": [
           {
            "colorbar": {
             "outlinewidth": 0,
             "ticks": ""
            },
            "colorscale": [
             [
              0,
              "#0d0887"
             ],
             [
              0.1111111111111111,
              "#46039f"
             ],
             [
              0.2222222222222222,
              "#7201a8"
             ],
             [
              0.3333333333333333,
              "#9c179e"
             ],
             [
              0.4444444444444444,
              "#bd3786"
             ],
             [
              0.5555555555555556,
              "#d8576b"
             ],
             [
              0.6666666666666666,
              "#ed7953"
             ],
             [
              0.7777777777777778,
              "#fb9f3a"
             ],
             [
              0.8888888888888888,
              "#fdca26"
             ],
             [
              1,
              "#f0f921"
             ]
            ],
            "type": "surface"
           }
          ],
          "table": [
           {
            "cells": {
             "fill": {
              "color": "#EBF0F8"
             },
             "line": {
              "color": "white"
             }
            },
            "header": {
             "fill": {
              "color": "#C8D4E3"
             },
             "line": {
              "color": "white"
             }
            },
            "type": "table"
           }
          ]
         },
         "layout": {
          "annotationdefaults": {
           "arrowcolor": "#2a3f5f",
           "arrowhead": 0,
           "arrowwidth": 1
          },
          "autotypenumbers": "strict",
          "coloraxis": {
           "colorbar": {
            "outlinewidth": 0,
            "ticks": ""
           }
          },
          "colorscale": {
           "diverging": [
            [
             0,
             "#8e0152"
            ],
            [
             0.1,
             "#c51b7d"
            ],
            [
             0.2,
             "#de77ae"
            ],
            [
             0.3,
             "#f1b6da"
            ],
            [
             0.4,
             "#fde0ef"
            ],
            [
             0.5,
             "#f7f7f7"
            ],
            [
             0.6,
             "#e6f5d0"
            ],
            [
             0.7,
             "#b8e186"
            ],
            [
             0.8,
             "#7fbc41"
            ],
            [
             0.9,
             "#4d9221"
            ],
            [
             1,
             "#276419"
            ]
           ],
           "sequential": [
            [
             0,
             "#0d0887"
            ],
            [
             0.1111111111111111,
             "#46039f"
            ],
            [
             0.2222222222222222,
             "#7201a8"
            ],
            [
             0.3333333333333333,
             "#9c179e"
            ],
            [
             0.4444444444444444,
             "#bd3786"
            ],
            [
             0.5555555555555556,
             "#d8576b"
            ],
            [
             0.6666666666666666,
             "#ed7953"
            ],
            [
             0.7777777777777778,
             "#fb9f3a"
            ],
            [
             0.8888888888888888,
             "#fdca26"
            ],
            [
             1,
             "#f0f921"
            ]
           ],
           "sequentialminus": [
            [
             0,
             "#0d0887"
            ],
            [
             0.1111111111111111,
             "#46039f"
            ],
            [
             0.2222222222222222,
             "#7201a8"
            ],
            [
             0.3333333333333333,
             "#9c179e"
            ],
            [
             0.4444444444444444,
             "#bd3786"
            ],
            [
             0.5555555555555556,
             "#d8576b"
            ],
            [
             0.6666666666666666,
             "#ed7953"
            ],
            [
             0.7777777777777778,
             "#fb9f3a"
            ],
            [
             0.8888888888888888,
             "#fdca26"
            ],
            [
             1,
             "#f0f921"
            ]
           ]
          },
          "colorway": [
           "#636efa",
           "#EF553B",
           "#00cc96",
           "#ab63fa",
           "#FFA15A",
           "#19d3f3",
           "#FF6692",
           "#B6E880",
           "#FF97FF",
           "#FECB52"
          ],
          "font": {
           "color": "#2a3f5f"
          },
          "geo": {
           "bgcolor": "white",
           "lakecolor": "white",
           "landcolor": "#E5ECF6",
           "showlakes": true,
           "showland": true,
           "subunitcolor": "white"
          },
          "hoverlabel": {
           "align": "left"
          },
          "hovermode": "closest",
          "mapbox": {
           "style": "light"
          },
          "paper_bgcolor": "white",
          "plot_bgcolor": "#E5ECF6",
          "polar": {
           "angularaxis": {
            "gridcolor": "white",
            "linecolor": "white",
            "ticks": ""
           },
           "bgcolor": "#E5ECF6",
           "radialaxis": {
            "gridcolor": "white",
            "linecolor": "white",
            "ticks": ""
           }
          },
          "scene": {
           "xaxis": {
            "backgroundcolor": "#E5ECF6",
            "gridcolor": "white",
            "gridwidth": 2,
            "linecolor": "white",
            "showbackground": true,
            "ticks": "",
            "zerolinecolor": "white"
           },
           "yaxis": {
            "backgroundcolor": "#E5ECF6",
            "gridcolor": "white",
            "gridwidth": 2,
            "linecolor": "white",
            "showbackground": true,
            "ticks": "",
            "zerolinecolor": "white"
           },
           "zaxis": {
            "backgroundcolor": "#E5ECF6",
            "gridcolor": "white",
            "gridwidth": 2,
            "linecolor": "white",
            "showbackground": true,
            "ticks": "",
            "zerolinecolor": "white"
           }
          },
          "shapedefaults": {
           "line": {
            "color": "#2a3f5f"
           }
          },
          "ternary": {
           "aaxis": {
            "gridcolor": "white",
            "linecolor": "white",
            "ticks": ""
           },
           "baxis": {
            "gridcolor": "white",
            "linecolor": "white",
            "ticks": ""
           },
           "bgcolor": "#E5ECF6",
           "caxis": {
            "gridcolor": "white",
            "linecolor": "white",
            "ticks": ""
           }
          },
          "title": {
           "x": 0.05
          },
          "xaxis": {
           "automargin": true,
           "gridcolor": "white",
           "linecolor": "white",
           "ticks": "",
           "title": {
            "standoff": 15
           },
           "zerolinecolor": "white",
           "zerolinewidth": 2
          },
          "yaxis": {
           "automargin": true,
           "gridcolor": "white",
           "linecolor": "white",
           "ticks": "",
           "title": {
            "standoff": 15
           },
           "zerolinecolor": "white",
           "zerolinewidth": 2
          }
         }
        },
        "xaxis": {
         "anchor": "y",
         "domain": [
          0,
          1
         ],
         "title": {
          "text": "Month"
         }
        },
        "yaxis": {
         "anchor": "x",
         "domain": [
          0,
          1
         ],
         "title": {
          "text": "Record_ID"
         }
        }
       }
      },
      "text/html": [
       "<div>                            <div id=\"a30d987a-c985-418c-88f5-50bb50b0ad5d\" class=\"plotly-graph-div\" style=\"height:525px; width:100%;\"></div>            <script type=\"text/javascript\">                require([\"plotly\"], function(Plotly) {                    window.PLOTLYENV=window.PLOTLYENV || {};                                    if (document.getElementById(\"a30d987a-c985-418c-88f5-50bb50b0ad5d\")) {                    Plotly.newPlot(                        \"a30d987a-c985-418c-88f5-50bb50b0ad5d\",                        [{\"hovertemplate\":\"Perpetrator_Sex=Female<br>Month=%{x}<br>Record_ID=%{y}<extra></extra>\",\"legendgroup\":\"Female\",\"line\":{\"color\":\"#636efa\",\"dash\":\"solid\"},\"marker\":{\"symbol\":\"circle\"},\"mode\":\"lines\",\"name\":\"Female\",\"orientation\":\"v\",\"showlegend\":true,\"x\":[\"January\",\"February\",\"March\",\"April\",\"May\",\"June\",\"July\",\"August\",\"September\",\"October\",\"November\",\"December\"],\"xaxis\":\"x\",\"y\":[0,0,1,0,0,1,2,0,0,0,0,1],\"yaxis\":\"y\",\"type\":\"scatter\"},{\"hovertemplate\":\"Perpetrator_Sex=Male<br>Month=%{x}<br>Record_ID=%{y}<extra></extra>\",\"legendgroup\":\"Male\",\"line\":{\"color\":\"#EF553B\",\"dash\":\"solid\"},\"marker\":{\"symbol\":\"circle\"},\"mode\":\"lines\",\"name\":\"Male\",\"orientation\":\"v\",\"showlegend\":true,\"x\":[\"January\",\"February\",\"March\",\"April\",\"May\",\"June\",\"July\",\"August\",\"September\",\"October\",\"November\",\"December\"],\"xaxis\":\"x\",\"y\":[3,7,5,6,7,5,5,4,6,5,7,7],\"yaxis\":\"y\",\"type\":\"scatter\"},{\"hovertemplate\":\"Perpetrator_Sex=Unknown<br>Month=%{x}<br>Record_ID=%{y}<extra></extra>\",\"legendgroup\":\"Unknown\",\"line\":{\"color\":\"#00cc96\",\"dash\":\"solid\"},\"marker\":{\"symbol\":\"circle\"},\"mode\":\"lines\",\"name\":\"Unknown\",\"orientation\":\"v\",\"showlegend\":true,\"x\":[\"January\",\"February\",\"March\",\"April\",\"May\",\"June\",\"July\",\"August\",\"September\",\"October\",\"November\",\"December\"],\"xaxis\":\"x\",\"y\":[7,5,4,6,0,3,5,8,3,6,6,2],\"yaxis\":\"y\",\"type\":\"scatter\"}],                        {\"template\":{\"data\":{\"histogram2dcontour\":[{\"type\":\"histogram2dcontour\",\"colorbar\":{\"outlinewidth\":0,\"ticks\":\"\"},\"colorscale\":[[0.0,\"#0d0887\"],[0.1111111111111111,\"#46039f\"],[0.2222222222222222,\"#7201a8\"],[0.3333333333333333,\"#9c179e\"],[0.4444444444444444,\"#bd3786\"],[0.5555555555555556,\"#d8576b\"],[0.6666666666666666,\"#ed7953\"],[0.7777777777777778,\"#fb9f3a\"],[0.8888888888888888,\"#fdca26\"],[1.0,\"#f0f921\"]]}],\"choropleth\":[{\"type\":\"choropleth\",\"colorbar\":{\"outlinewidth\":0,\"ticks\":\"\"}}],\"histogram2d\":[{\"type\":\"histogram2d\",\"colorbar\":{\"outlinewidth\":0,\"ticks\":\"\"},\"colorscale\":[[0.0,\"#0d0887\"],[0.1111111111111111,\"#46039f\"],[0.2222222222222222,\"#7201a8\"],[0.3333333333333333,\"#9c179e\"],[0.4444444444444444,\"#bd3786\"],[0.5555555555555556,\"#d8576b\"],[0.6666666666666666,\"#ed7953\"],[0.7777777777777778,\"#fb9f3a\"],[0.8888888888888888,\"#fdca26\"],[1.0,\"#f0f921\"]]}],\"heatmap\":[{\"type\":\"heatmap\",\"colorbar\":{\"outlinewidth\":0,\"ticks\":\"\"},\"colorscale\":[[0.0,\"#0d0887\"],[0.1111111111111111,\"#46039f\"],[0.2222222222222222,\"#7201a8\"],[0.3333333333333333,\"#9c179e\"],[0.4444444444444444,\"#bd3786\"],[0.5555555555555556,\"#d8576b\"],[0.6666666666666666,\"#ed7953\"],[0.7777777777777778,\"#fb9f3a\"],[0.8888888888888888,\"#fdca26\"],[1.0,\"#f0f921\"]]}],\"heatmapgl\":[{\"type\":\"heatmapgl\",\"colorbar\":{\"outlinewidth\":0,\"ticks\":\"\"},\"colorscale\":[[0.0,\"#0d0887\"],[0.1111111111111111,\"#46039f\"],[0.2222222222222222,\"#7201a8\"],[0.3333333333333333,\"#9c179e\"],[0.4444444444444444,\"#bd3786\"],[0.5555555555555556,\"#d8576b\"],[0.6666666666666666,\"#ed7953\"],[0.7777777777777778,\"#fb9f3a\"],[0.8888888888888888,\"#fdca26\"],[1.0,\"#f0f921\"]]}],\"contourcarpet\":[{\"type\":\"contourcarpet\",\"colorbar\":{\"outlinewidth\":0,\"ticks\":\"\"}}],\"contour\":[{\"type\":\"contour\",\"colorbar\":{\"outlinewidth\":0,\"ticks\":\"\"},\"colorscale\":[[0.0,\"#0d0887\"],[0.1111111111111111,\"#46039f\"],[0.2222222222222222,\"#7201a8\"],[0.3333333333333333,\"#9c179e\"],[0.4444444444444444,\"#bd3786\"],[0.5555555555555556,\"#d8576b\"],[0.6666666666666666,\"#ed7953\"],[0.7777777777777778,\"#fb9f3a\"],[0.8888888888888888,\"#fdca26\"],[1.0,\"#f0f921\"]]}],\"surface\":[{\"type\":\"surface\",\"colorbar\":{\"outlinewidth\":0,\"ticks\":\"\"},\"colorscale\":[[0.0,\"#0d0887\"],[0.1111111111111111,\"#46039f\"],[0.2222222222222222,\"#7201a8\"],[0.3333333333333333,\"#9c179e\"],[0.4444444444444444,\"#bd3786\"],[0.5555555555555556,\"#d8576b\"],[0.6666666666666666,\"#ed7953\"],[0.7777777777777778,\"#fb9f3a\"],[0.8888888888888888,\"#fdca26\"],[1.0,\"#f0f921\"]]}],\"mesh3d\":[{\"type\":\"mesh3d\",\"colorbar\":{\"outlinewidth\":0,\"ticks\":\"\"}}],\"scatter\":[{\"fillpattern\":{\"fillmode\":\"overlay\",\"size\":10,\"solidity\":0.2},\"type\":\"scatter\"}],\"parcoords\":[{\"type\":\"parcoords\",\"line\":{\"colorbar\":{\"outlinewidth\":0,\"ticks\":\"\"}}}],\"scatterpolargl\":[{\"type\":\"scatterpolargl\",\"marker\":{\"colorbar\":{\"outlinewidth\":0,\"ticks\":\"\"}}}],\"bar\":[{\"error_x\":{\"color\":\"#2a3f5f\"},\"error_y\":{\"color\":\"#2a3f5f\"},\"marker\":{\"line\":{\"color\":\"#E5ECF6\",\"width\":0.5},\"pattern\":{\"fillmode\":\"overlay\",\"size\":10,\"solidity\":0.2}},\"type\":\"bar\"}],\"scattergeo\":[{\"type\":\"scattergeo\",\"marker\":{\"colorbar\":{\"outlinewidth\":0,\"ticks\":\"\"}}}],\"scatterpolar\":[{\"type\":\"scatterpolar\",\"marker\":{\"colorbar\":{\"outlinewidth\":0,\"ticks\":\"\"}}}],\"histogram\":[{\"marker\":{\"pattern\":{\"fillmode\":\"overlay\",\"size\":10,\"solidity\":0.2}},\"type\":\"histogram\"}],\"scattergl\":[{\"type\":\"scattergl\",\"marker\":{\"colorbar\":{\"outlinewidth\":0,\"ticks\":\"\"}}}],\"scatter3d\":[{\"type\":\"scatter3d\",\"line\":{\"colorbar\":{\"outlinewidth\":0,\"ticks\":\"\"}},\"marker\":{\"colorbar\":{\"outlinewidth\":0,\"ticks\":\"\"}}}],\"scattermapbox\":[{\"type\":\"scattermapbox\",\"marker\":{\"colorbar\":{\"outlinewidth\":0,\"ticks\":\"\"}}}],\"scatterternary\":[{\"type\":\"scatterternary\",\"marker\":{\"colorbar\":{\"outlinewidth\":0,\"ticks\":\"\"}}}],\"scattercarpet\":[{\"type\":\"scattercarpet\",\"marker\":{\"colorbar\":{\"outlinewidth\":0,\"ticks\":\"\"}}}],\"carpet\":[{\"aaxis\":{\"endlinecolor\":\"#2a3f5f\",\"gridcolor\":\"white\",\"linecolor\":\"white\",\"minorgridcolor\":\"white\",\"startlinecolor\":\"#2a3f5f\"},\"baxis\":{\"endlinecolor\":\"#2a3f5f\",\"gridcolor\":\"white\",\"linecolor\":\"white\",\"minorgridcolor\":\"white\",\"startlinecolor\":\"#2a3f5f\"},\"type\":\"carpet\"}],\"table\":[{\"cells\":{\"fill\":{\"color\":\"#EBF0F8\"},\"line\":{\"color\":\"white\"}},\"header\":{\"fill\":{\"color\":\"#C8D4E3\"},\"line\":{\"color\":\"white\"}},\"type\":\"table\"}],\"barpolar\":[{\"marker\":{\"line\":{\"color\":\"#E5ECF6\",\"width\":0.5},\"pattern\":{\"fillmode\":\"overlay\",\"size\":10,\"solidity\":0.2}},\"type\":\"barpolar\"}],\"pie\":[{\"automargin\":true,\"type\":\"pie\"}]},\"layout\":{\"autotypenumbers\":\"strict\",\"colorway\":[\"#636efa\",\"#EF553B\",\"#00cc96\",\"#ab63fa\",\"#FFA15A\",\"#19d3f3\",\"#FF6692\",\"#B6E880\",\"#FF97FF\",\"#FECB52\"],\"font\":{\"color\":\"#2a3f5f\"},\"hovermode\":\"closest\",\"hoverlabel\":{\"align\":\"left\"},\"paper_bgcolor\":\"white\",\"plot_bgcolor\":\"#E5ECF6\",\"polar\":{\"bgcolor\":\"#E5ECF6\",\"angularaxis\":{\"gridcolor\":\"white\",\"linecolor\":\"white\",\"ticks\":\"\"},\"radialaxis\":{\"gridcolor\":\"white\",\"linecolor\":\"white\",\"ticks\":\"\"}},\"ternary\":{\"bgcolor\":\"#E5ECF6\",\"aaxis\":{\"gridcolor\":\"white\",\"linecolor\":\"white\",\"ticks\":\"\"},\"baxis\":{\"gridcolor\":\"white\",\"linecolor\":\"white\",\"ticks\":\"\"},\"caxis\":{\"gridcolor\":\"white\",\"linecolor\":\"white\",\"ticks\":\"\"}},\"coloraxis\":{\"colorbar\":{\"outlinewidth\":0,\"ticks\":\"\"}},\"colorscale\":{\"sequential\":[[0.0,\"#0d0887\"],[0.1111111111111111,\"#46039f\"],[0.2222222222222222,\"#7201a8\"],[0.3333333333333333,\"#9c179e\"],[0.4444444444444444,\"#bd3786\"],[0.5555555555555556,\"#d8576b\"],[0.6666666666666666,\"#ed7953\"],[0.7777777777777778,\"#fb9f3a\"],[0.8888888888888888,\"#fdca26\"],[1.0,\"#f0f921\"]],\"sequentialminus\":[[0.0,\"#0d0887\"],[0.1111111111111111,\"#46039f\"],[0.2222222222222222,\"#7201a8\"],[0.3333333333333333,\"#9c179e\"],[0.4444444444444444,\"#bd3786\"],[0.5555555555555556,\"#d8576b\"],[0.6666666666666666,\"#ed7953\"],[0.7777777777777778,\"#fb9f3a\"],[0.8888888888888888,\"#fdca26\"],[1.0,\"#f0f921\"]],\"diverging\":[[0,\"#8e0152\"],[0.1,\"#c51b7d\"],[0.2,\"#de77ae\"],[0.3,\"#f1b6da\"],[0.4,\"#fde0ef\"],[0.5,\"#f7f7f7\"],[0.6,\"#e6f5d0\"],[0.7,\"#b8e186\"],[0.8,\"#7fbc41\"],[0.9,\"#4d9221\"],[1,\"#276419\"]]},\"xaxis\":{\"gridcolor\":\"white\",\"linecolor\":\"white\",\"ticks\":\"\",\"title\":{\"standoff\":15},\"zerolinecolor\":\"white\",\"automargin\":true,\"zerolinewidth\":2},\"yaxis\":{\"gridcolor\":\"white\",\"linecolor\":\"white\",\"ticks\":\"\",\"title\":{\"standoff\":15},\"zerolinecolor\":\"white\",\"automargin\":true,\"zerolinewidth\":2},\"scene\":{\"xaxis\":{\"backgroundcolor\":\"#E5ECF6\",\"gridcolor\":\"white\",\"linecolor\":\"white\",\"showbackground\":true,\"ticks\":\"\",\"zerolinecolor\":\"white\",\"gridwidth\":2},\"yaxis\":{\"backgroundcolor\":\"#E5ECF6\",\"gridcolor\":\"white\",\"linecolor\":\"white\",\"showbackground\":true,\"ticks\":\"\",\"zerolinecolor\":\"white\",\"gridwidth\":2},\"zaxis\":{\"backgroundcolor\":\"#E5ECF6\",\"gridcolor\":\"white\",\"linecolor\":\"white\",\"showbackground\":true,\"ticks\":\"\",\"zerolinecolor\":\"white\",\"gridwidth\":2}},\"shapedefaults\":{\"line\":{\"color\":\"#2a3f5f\"}},\"annotationdefaults\":{\"arrowcolor\":\"#2a3f5f\",\"arrowhead\":0,\"arrowwidth\":1},\"geo\":{\"bgcolor\":\"white\",\"landcolor\":\"#E5ECF6\",\"subunitcolor\":\"white\",\"showland\":true,\"showlakes\":true,\"lakecolor\":\"white\"},\"title\":{\"x\":0.05},\"mapbox\":{\"style\":\"light\"}}},\"xaxis\":{\"anchor\":\"y\",\"domain\":[0.0,1.0],\"title\":{\"text\":\"Month\"}},\"yaxis\":{\"anchor\":\"x\",\"domain\":[0.0,1.0],\"title\":{\"text\":\"Record_ID\"}},\"legend\":{\"title\":{\"text\":\"Perpetrator_Sex\"},\"tracegroupgap\":0},\"margin\":{\"t\":60}},                        {\"responsive\": true}                    ).then(function(){\n",
       "                            \n",
       "var gd = document.getElementById('a30d987a-c985-418c-88f5-50bb50b0ad5d');\n",
       "var x = new MutationObserver(function (mutations, observer) {{\n",
       "        var display = window.getComputedStyle(gd).display;\n",
       "        if (!display || display === 'none') {{\n",
       "            console.log([gd, 'removed!']);\n",
       "            Plotly.purge(gd);\n",
       "            observer.disconnect();\n",
       "        }}\n",
       "}});\n",
       "\n",
       "// Listen for the removal of the full notebook cells\n",
       "var notebookContainer = gd.closest('#notebook-container');\n",
       "if (notebookContainer) {{\n",
       "    x.observe(notebookContainer, {childList: true});\n",
       "}}\n",
       "\n",
       "// Listen for the clearing of the current output cell\n",
       "var outputEl = gd.closest('.output');\n",
       "if (outputEl) {{\n",
       "    x.observe(outputEl, {childList: true});\n",
       "}}\n",
       "\n",
       "                        })                };                });            </script>        </div>"
      ]
     },
     "metadata": {},
     "output_type": "display_data"
    }
   ],
   "source": [
    "fig1 = px.line(a,\n",
    "              x=\"Month\", y=\"Record_ID\", color='Perpetrator_Sex')\n",
    "fig1.show()"
   ]
  },
  {
   "cell_type": "code",
   "execution_count": 25,
   "id": "7f43bb5b",
   "metadata": {},
   "outputs": [
    {
     "data": {
      "text/plain": [
       "{'Asian/Pacific Islander',\n",
       " 'Black',\n",
       " 'Native American/Alaska Native',\n",
       " 'Unknown',\n",
       " 'White'}"
      ]
     },
     "execution_count": 25,
     "metadata": {},
     "output_type": "execute_result"
    }
   ],
   "source": [
    "set(murder['Perpetrator_Race'])"
   ]
  },
  {
   "cell_type": "code",
   "execution_count": 26,
   "id": "b261d712",
   "metadata": {},
   "outputs": [
    {
     "data": {
      "text/html": [
       "<div>\n",
       "<style scoped>\n",
       "    .dataframe tbody tr th:only-of-type {\n",
       "        vertical-align: middle;\n",
       "    }\n",
       "\n",
       "    .dataframe tbody tr th {\n",
       "        vertical-align: top;\n",
       "    }\n",
       "\n",
       "    .dataframe thead th {\n",
       "        text-align: right;\n",
       "    }\n",
       "</style>\n",
       "<table border=\"1\" class=\"dataframe\">\n",
       "  <thead>\n",
       "    <tr style=\"text-align: right;\">\n",
       "      <th></th>\n",
       "      <th>Record_ID</th>\n",
       "      <th>Agency_Code</th>\n",
       "      <th>Agency_Name</th>\n",
       "      <th>Agency_Type</th>\n",
       "      <th>City</th>\n",
       "      <th>State</th>\n",
       "      <th>Year</th>\n",
       "      <th>Month</th>\n",
       "      <th>Incident</th>\n",
       "      <th>Crime_Type</th>\n",
       "      <th>...</th>\n",
       "      <th>Perpetrator_Sex</th>\n",
       "      <th>Perpetrator_Age</th>\n",
       "      <th>Perpetrator_Race</th>\n",
       "      <th>Perpetrator_Ethnicity</th>\n",
       "      <th>Relationship</th>\n",
       "      <th>Weapon</th>\n",
       "      <th>Victim_Count</th>\n",
       "      <th>Perpetrator_Count</th>\n",
       "      <th>Record_Source</th>\n",
       "      <th>State_Code</th>\n",
       "    </tr>\n",
       "  </thead>\n",
       "  <tbody>\n",
       "    <tr>\n",
       "      <th>595912</th>\n",
       "      <td>595913</td>\n",
       "      <td>AR03501</td>\n",
       "      <td>Pine Bluff</td>\n",
       "      <td>Municipal Police</td>\n",
       "      <td>Jefferson</td>\n",
       "      <td>Arkansas</td>\n",
       "      <td>2013</td>\n",
       "      <td>May</td>\n",
       "      <td>1</td>\n",
       "      <td>Murder or Manslaughter</td>\n",
       "      <td>...</td>\n",
       "      <td>Male</td>\n",
       "      <td>21</td>\n",
       "      <td>Black</td>\n",
       "      <td>Unknown</td>\n",
       "      <td>Unknown</td>\n",
       "      <td>Gun</td>\n",
       "      <td>0</td>\n",
       "      <td>0</td>\n",
       "      <td>FBI</td>\n",
       "      <td>AR</td>\n",
       "    </tr>\n",
       "    <tr>\n",
       "      <th>596072</th>\n",
       "      <td>596073</td>\n",
       "      <td>AZ00717</td>\n",
       "      <td>Mesa</td>\n",
       "      <td>Municipal Police</td>\n",
       "      <td>Maricopa</td>\n",
       "      <td>Arizona</td>\n",
       "      <td>2013</td>\n",
       "      <td>January</td>\n",
       "      <td>1</td>\n",
       "      <td>Murder or Manslaughter</td>\n",
       "      <td>...</td>\n",
       "      <td>Unknown</td>\n",
       "      <td>0</td>\n",
       "      <td>Unknown</td>\n",
       "      <td>Unknown</td>\n",
       "      <td>Unknown</td>\n",
       "      <td>Gun</td>\n",
       "      <td>0</td>\n",
       "      <td>0</td>\n",
       "      <td>FBI</td>\n",
       "      <td>AZ</td>\n",
       "    </tr>\n",
       "    <tr>\n",
       "      <th>596172</th>\n",
       "      <td>596173</td>\n",
       "      <td>AZ00723</td>\n",
       "      <td>Phoenix</td>\n",
       "      <td>Municipal Police</td>\n",
       "      <td>Maricopa</td>\n",
       "      <td>Arizona</td>\n",
       "      <td>2013</td>\n",
       "      <td>June</td>\n",
       "      <td>5</td>\n",
       "      <td>Murder or Manslaughter</td>\n",
       "      <td>...</td>\n",
       "      <td>Male</td>\n",
       "      <td>32</td>\n",
       "      <td>White</td>\n",
       "      <td>Not Hispanic</td>\n",
       "      <td>Unknown</td>\n",
       "      <td>Gun</td>\n",
       "      <td>0</td>\n",
       "      <td>0</td>\n",
       "      <td>FBI</td>\n",
       "      <td>AZ</td>\n",
       "    </tr>\n",
       "    <tr>\n",
       "      <th>596233</th>\n",
       "      <td>596234</td>\n",
       "      <td>AZ00723</td>\n",
       "      <td>Phoenix</td>\n",
       "      <td>Municipal Police</td>\n",
       "      <td>Maricopa</td>\n",
       "      <td>Arizona</td>\n",
       "      <td>2013</td>\n",
       "      <td>October</td>\n",
       "      <td>14</td>\n",
       "      <td>Murder or Manslaughter</td>\n",
       "      <td>...</td>\n",
       "      <td>Male</td>\n",
       "      <td>54</td>\n",
       "      <td>White</td>\n",
       "      <td>Not Hispanic</td>\n",
       "      <td>Unknown</td>\n",
       "      <td>Gun</td>\n",
       "      <td>0</td>\n",
       "      <td>0</td>\n",
       "      <td>FBI</td>\n",
       "      <td>AZ</td>\n",
       "    </tr>\n",
       "    <tr>\n",
       "      <th>596302</th>\n",
       "      <td>596303</td>\n",
       "      <td>AZ01001</td>\n",
       "      <td>South Tucson</td>\n",
       "      <td>Municipal Police</td>\n",
       "      <td>Pima</td>\n",
       "      <td>Arizona</td>\n",
       "      <td>2013</td>\n",
       "      <td>August</td>\n",
       "      <td>1</td>\n",
       "      <td>Murder or Manslaughter</td>\n",
       "      <td>...</td>\n",
       "      <td>Unknown</td>\n",
       "      <td>0</td>\n",
       "      <td>Unknown</td>\n",
       "      <td>Unknown</td>\n",
       "      <td>Unknown</td>\n",
       "      <td>Gun</td>\n",
       "      <td>0</td>\n",
       "      <td>0</td>\n",
       "      <td>FBI</td>\n",
       "      <td>AZ</td>\n",
       "    </tr>\n",
       "    <tr>\n",
       "      <th>...</th>\n",
       "      <td>...</td>\n",
       "      <td>...</td>\n",
       "      <td>...</td>\n",
       "      <td>...</td>\n",
       "      <td>...</td>\n",
       "      <td>...</td>\n",
       "      <td>...</td>\n",
       "      <td>...</td>\n",
       "      <td>...</td>\n",
       "      <td>...</td>\n",
       "      <td>...</td>\n",
       "      <td>...</td>\n",
       "      <td>...</td>\n",
       "      <td>...</td>\n",
       "      <td>...</td>\n",
       "      <td>...</td>\n",
       "      <td>...</td>\n",
       "      <td>...</td>\n",
       "      <td>...</td>\n",
       "      <td>...</td>\n",
       "      <td>...</td>\n",
       "    </tr>\n",
       "    <tr>\n",
       "      <th>609917</th>\n",
       "      <td>609918</td>\n",
       "      <td>WA03100</td>\n",
       "      <td>Snohomish County</td>\n",
       "      <td>Sheriff</td>\n",
       "      <td>Snohomish</td>\n",
       "      <td>Washington</td>\n",
       "      <td>2013</td>\n",
       "      <td>March</td>\n",
       "      <td>1</td>\n",
       "      <td>Murder or Manslaughter</td>\n",
       "      <td>...</td>\n",
       "      <td>Female</td>\n",
       "      <td>32</td>\n",
       "      <td>White</td>\n",
       "      <td>Not Hispanic</td>\n",
       "      <td>Acquaintance</td>\n",
       "      <td>Gun</td>\n",
       "      <td>0</td>\n",
       "      <td>0</td>\n",
       "      <td>FBI</td>\n",
       "      <td>WA</td>\n",
       "    </tr>\n",
       "    <tr>\n",
       "      <th>609944</th>\n",
       "      <td>609945</td>\n",
       "      <td>WA03204</td>\n",
       "      <td>Spokane</td>\n",
       "      <td>Municipal Police</td>\n",
       "      <td>Spokane</td>\n",
       "      <td>Washington</td>\n",
       "      <td>2013</td>\n",
       "      <td>October</td>\n",
       "      <td>1</td>\n",
       "      <td>Murder or Manslaughter</td>\n",
       "      <td>...</td>\n",
       "      <td>Male</td>\n",
       "      <td>34</td>\n",
       "      <td>White</td>\n",
       "      <td>Not Hispanic</td>\n",
       "      <td>Unknown</td>\n",
       "      <td>Gun</td>\n",
       "      <td>0</td>\n",
       "      <td>0</td>\n",
       "      <td>FBI</td>\n",
       "      <td>WA</td>\n",
       "    </tr>\n",
       "    <tr>\n",
       "      <th>609982</th>\n",
       "      <td>609983</td>\n",
       "      <td>WASPD00</td>\n",
       "      <td>Seattle</td>\n",
       "      <td>Municipal Police</td>\n",
       "      <td>King</td>\n",
       "      <td>Washington</td>\n",
       "      <td>2013</td>\n",
       "      <td>March</td>\n",
       "      <td>1</td>\n",
       "      <td>Murder or Manslaughter</td>\n",
       "      <td>...</td>\n",
       "      <td>Male</td>\n",
       "      <td>19</td>\n",
       "      <td>Black</td>\n",
       "      <td>Unknown</td>\n",
       "      <td>Unknown</td>\n",
       "      <td>Gun</td>\n",
       "      <td>0</td>\n",
       "      <td>0</td>\n",
       "      <td>FBI</td>\n",
       "      <td>WA</td>\n",
       "    </tr>\n",
       "    <tr>\n",
       "      <th>610091</th>\n",
       "      <td>610092</td>\n",
       "      <td>WIMPD00</td>\n",
       "      <td>Milwaukee</td>\n",
       "      <td>Municipal Police</td>\n",
       "      <td>Milwaukee</td>\n",
       "      <td>Wisconsin</td>\n",
       "      <td>2013</td>\n",
       "      <td>April</td>\n",
       "      <td>2</td>\n",
       "      <td>Murder or Manslaughter</td>\n",
       "      <td>...</td>\n",
       "      <td>Male</td>\n",
       "      <td>41</td>\n",
       "      <td>Black</td>\n",
       "      <td>Unknown</td>\n",
       "      <td>Girlfriend</td>\n",
       "      <td>Gun</td>\n",
       "      <td>0</td>\n",
       "      <td>0</td>\n",
       "      <td>FBI</td>\n",
       "      <td>WI</td>\n",
       "    </tr>\n",
       "    <tr>\n",
       "      <th>610223</th>\n",
       "      <td>610224</td>\n",
       "      <td>WVWSP01</td>\n",
       "      <td>State Police: Beckley</td>\n",
       "      <td>State Police</td>\n",
       "      <td>Raleigh</td>\n",
       "      <td>West Virginia</td>\n",
       "      <td>2013</td>\n",
       "      <td>April</td>\n",
       "      <td>1</td>\n",
       "      <td>Murder or Manslaughter</td>\n",
       "      <td>...</td>\n",
       "      <td>Male</td>\n",
       "      <td>18</td>\n",
       "      <td>White</td>\n",
       "      <td>Unknown</td>\n",
       "      <td>Stranger</td>\n",
       "      <td>Gun</td>\n",
       "      <td>0</td>\n",
       "      <td>0</td>\n",
       "      <td>FBI</td>\n",
       "      <td>WV</td>\n",
       "    </tr>\n",
       "  </tbody>\n",
       "</table>\n",
       "<p>127 rows × 25 columns</p>\n",
       "</div>"
      ],
      "text/plain": [
       "        Record_ID Agency_Code            Agency_Name       Agency_Type  \\\n",
       "595912     595913     AR03501             Pine Bluff  Municipal Police   \n",
       "596072     596073     AZ00717                   Mesa  Municipal Police   \n",
       "596172     596173     AZ00723                Phoenix  Municipal Police   \n",
       "596233     596234     AZ00723                Phoenix  Municipal Police   \n",
       "596302     596303     AZ01001           South Tucson  Municipal Police   \n",
       "...           ...         ...                    ...               ...   \n",
       "609917     609918     WA03100       Snohomish County           Sheriff   \n",
       "609944     609945     WA03204                Spokane  Municipal Police   \n",
       "609982     609983     WASPD00                Seattle  Municipal Police   \n",
       "610091     610092     WIMPD00              Milwaukee  Municipal Police   \n",
       "610223     610224     WVWSP01  State Police: Beckley      State Police   \n",
       "\n",
       "             City          State  Year    Month  Incident  \\\n",
       "595912  Jefferson       Arkansas  2013      May         1   \n",
       "596072   Maricopa        Arizona  2013  January         1   \n",
       "596172   Maricopa        Arizona  2013     June         5   \n",
       "596233   Maricopa        Arizona  2013  October        14   \n",
       "596302       Pima        Arizona  2013   August         1   \n",
       "...           ...            ...   ...      ...       ...   \n",
       "609917  Snohomish     Washington  2013    March         1   \n",
       "609944    Spokane     Washington  2013  October         1   \n",
       "609982       King     Washington  2013    March         1   \n",
       "610091  Milwaukee      Wisconsin  2013    April         2   \n",
       "610223    Raleigh  West Virginia  2013    April         1   \n",
       "\n",
       "                    Crime_Type  ... Perpetrator_Sex Perpetrator_Age  \\\n",
       "595912  Murder or Manslaughter  ...            Male              21   \n",
       "596072  Murder or Manslaughter  ...         Unknown               0   \n",
       "596172  Murder or Manslaughter  ...            Male              32   \n",
       "596233  Murder or Manslaughter  ...            Male              54   \n",
       "596302  Murder or Manslaughter  ...         Unknown               0   \n",
       "...                        ...  ...             ...             ...   \n",
       "609917  Murder or Manslaughter  ...          Female              32   \n",
       "609944  Murder or Manslaughter  ...            Male              34   \n",
       "609982  Murder or Manslaughter  ...            Male              19   \n",
       "610091  Murder or Manslaughter  ...            Male              41   \n",
       "610223  Murder or Manslaughter  ...            Male              18   \n",
       "\n",
       "        Perpetrator_Race Perpetrator_Ethnicity  Relationship Weapon  \\\n",
       "595912             Black               Unknown       Unknown    Gun   \n",
       "596072           Unknown               Unknown       Unknown    Gun   \n",
       "596172             White          Not Hispanic       Unknown    Gun   \n",
       "596233             White          Not Hispanic       Unknown    Gun   \n",
       "596302           Unknown               Unknown       Unknown    Gun   \n",
       "...                  ...                   ...           ...    ...   \n",
       "609917             White          Not Hispanic  Acquaintance    Gun   \n",
       "609944             White          Not Hispanic       Unknown    Gun   \n",
       "609982             Black               Unknown       Unknown    Gun   \n",
       "610091             Black               Unknown    Girlfriend    Gun   \n",
       "610223             White               Unknown      Stranger    Gun   \n",
       "\n",
       "       Victim_Count Perpetrator_Count Record_Source State_Code  \n",
       "595912            0                 0           FBI         AR  \n",
       "596072            0                 0           FBI         AZ  \n",
       "596172            0                 0           FBI         AZ  \n",
       "596233            0                 0           FBI         AZ  \n",
       "596302            0                 0           FBI         AZ  \n",
       "...             ...               ...           ...        ...  \n",
       "609917            0                 0           FBI         WA  \n",
       "609944            0                 0           FBI         WA  \n",
       "609982            0                 0           FBI         WA  \n",
       "610091            0                 0           FBI         WI  \n",
       "610223            0                 0           FBI         WV  \n",
       "\n",
       "[127 rows x 25 columns]"
      ]
     },
     "execution_count": 26,
     "metadata": {},
     "output_type": "execute_result"
    }
   ],
   "source": [
    "murder_selected"
   ]
  },
  {
   "cell_type": "code",
   "execution_count": 27,
   "id": "32e86896",
   "metadata": {},
   "outputs": [],
   "source": [
    "a= murder_selected.groupby(['Perpetrator_Race','Perpetrator_Sex']).count().reset_index(level=0).reset_index(level=0)"
   ]
  },
  {
   "cell_type": "code",
   "execution_count": 28,
   "id": "d2310f95",
   "metadata": {},
   "outputs": [
    {
     "data": {
      "application/vnd.plotly.v1+json": {
       "config": {
        "plotlyServerURL": "https://plot.ly"
       },
       "data": [
        {
         "alignmentgroup": "True",
         "hovertemplate": "Perpetrator_Sex=Male<br>Perpetrator_Race=%{x}<br>Record_ID=%{y}<extra></extra>",
         "legendgroup": "Male",
         "marker": {
          "color": "#636efa",
          "pattern": {
           "shape": ""
          }
         },
         "name": "Male",
         "offsetgroup": "Male",
         "orientation": "v",
         "showlegend": true,
         "textposition": "auto",
         "type": "bar",
         "x": [
          "Asian/Pacific Islander",
          "Black",
          "Native American/Alaska Native",
          "Unknown",
          "White"
         ],
         "xaxis": "x",
         "y": [
          1,
          43,
          1,
          2,
          20
         ],
         "yaxis": "y"
        },
        {
         "alignmentgroup": "True",
         "hovertemplate": "Perpetrator_Sex=Female<br>Perpetrator_Race=%{x}<br>Record_ID=%{y}<extra></extra>",
         "legendgroup": "Female",
         "marker": {
          "color": "#EF553B",
          "pattern": {
           "shape": ""
          }
         },
         "name": "Female",
         "offsetgroup": "Female",
         "orientation": "v",
         "showlegend": true,
         "textposition": "auto",
         "type": "bar",
         "x": [
          "Black",
          "White"
         ],
         "xaxis": "x",
         "y": [
          4,
          1
         ],
         "yaxis": "y"
        },
        {
         "alignmentgroup": "True",
         "hovertemplate": "Perpetrator_Sex=Unknown<br>Perpetrator_Race=%{x}<br>Record_ID=%{y}<extra></extra>",
         "legendgroup": "Unknown",
         "marker": {
          "color": "#00cc96",
          "pattern": {
           "shape": ""
          }
         },
         "name": "Unknown",
         "offsetgroup": "Unknown",
         "orientation": "v",
         "showlegend": true,
         "textposition": "auto",
         "type": "bar",
         "x": [
          "Unknown"
         ],
         "xaxis": "x",
         "y": [
          55
         ],
         "yaxis": "y"
        }
       ],
       "layout": {
        "barmode": "relative",
        "legend": {
         "title": {
          "text": "Perpetrator_Sex"
         },
         "tracegroupgap": 0
        },
        "margin": {
         "t": 60
        },
        "template": {
         "data": {
          "bar": [
           {
            "error_x": {
             "color": "#2a3f5f"
            },
            "error_y": {
             "color": "#2a3f5f"
            },
            "marker": {
             "line": {
              "color": "#E5ECF6",
              "width": 0.5
             },
             "pattern": {
              "fillmode": "overlay",
              "size": 10,
              "solidity": 0.2
             }
            },
            "type": "bar"
           }
          ],
          "barpolar": [
           {
            "marker": {
             "line": {
              "color": "#E5ECF6",
              "width": 0.5
             },
             "pattern": {
              "fillmode": "overlay",
              "size": 10,
              "solidity": 0.2
             }
            },
            "type": "barpolar"
           }
          ],
          "carpet": [
           {
            "aaxis": {
             "endlinecolor": "#2a3f5f",
             "gridcolor": "white",
             "linecolor": "white",
             "minorgridcolor": "white",
             "startlinecolor": "#2a3f5f"
            },
            "baxis": {
             "endlinecolor": "#2a3f5f",
             "gridcolor": "white",
             "linecolor": "white",
             "minorgridcolor": "white",
             "startlinecolor": "#2a3f5f"
            },
            "type": "carpet"
           }
          ],
          "choropleth": [
           {
            "colorbar": {
             "outlinewidth": 0,
             "ticks": ""
            },
            "type": "choropleth"
           }
          ],
          "contour": [
           {
            "colorbar": {
             "outlinewidth": 0,
             "ticks": ""
            },
            "colorscale": [
             [
              0,
              "#0d0887"
             ],
             [
              0.1111111111111111,
              "#46039f"
             ],
             [
              0.2222222222222222,
              "#7201a8"
             ],
             [
              0.3333333333333333,
              "#9c179e"
             ],
             [
              0.4444444444444444,
              "#bd3786"
             ],
             [
              0.5555555555555556,
              "#d8576b"
             ],
             [
              0.6666666666666666,
              "#ed7953"
             ],
             [
              0.7777777777777778,
              "#fb9f3a"
             ],
             [
              0.8888888888888888,
              "#fdca26"
             ],
             [
              1,
              "#f0f921"
             ]
            ],
            "type": "contour"
           }
          ],
          "contourcarpet": [
           {
            "colorbar": {
             "outlinewidth": 0,
             "ticks": ""
            },
            "type": "contourcarpet"
           }
          ],
          "heatmap": [
           {
            "colorbar": {
             "outlinewidth": 0,
             "ticks": ""
            },
            "colorscale": [
             [
              0,
              "#0d0887"
             ],
             [
              0.1111111111111111,
              "#46039f"
             ],
             [
              0.2222222222222222,
              "#7201a8"
             ],
             [
              0.3333333333333333,
              "#9c179e"
             ],
             [
              0.4444444444444444,
              "#bd3786"
             ],
             [
              0.5555555555555556,
              "#d8576b"
             ],
             [
              0.6666666666666666,
              "#ed7953"
             ],
             [
              0.7777777777777778,
              "#fb9f3a"
             ],
             [
              0.8888888888888888,
              "#fdca26"
             ],
             [
              1,
              "#f0f921"
             ]
            ],
            "type": "heatmap"
           }
          ],
          "heatmapgl": [
           {
            "colorbar": {
             "outlinewidth": 0,
             "ticks": ""
            },
            "colorscale": [
             [
              0,
              "#0d0887"
             ],
             [
              0.1111111111111111,
              "#46039f"
             ],
             [
              0.2222222222222222,
              "#7201a8"
             ],
             [
              0.3333333333333333,
              "#9c179e"
             ],
             [
              0.4444444444444444,
              "#bd3786"
             ],
             [
              0.5555555555555556,
              "#d8576b"
             ],
             [
              0.6666666666666666,
              "#ed7953"
             ],
             [
              0.7777777777777778,
              "#fb9f3a"
             ],
             [
              0.8888888888888888,
              "#fdca26"
             ],
             [
              1,
              "#f0f921"
             ]
            ],
            "type": "heatmapgl"
           }
          ],
          "histogram": [
           {
            "marker": {
             "pattern": {
              "fillmode": "overlay",
              "size": 10,
              "solidity": 0.2
             }
            },
            "type": "histogram"
           }
          ],
          "histogram2d": [
           {
            "colorbar": {
             "outlinewidth": 0,
             "ticks": ""
            },
            "colorscale": [
             [
              0,
              "#0d0887"
             ],
             [
              0.1111111111111111,
              "#46039f"
             ],
             [
              0.2222222222222222,
              "#7201a8"
             ],
             [
              0.3333333333333333,
              "#9c179e"
             ],
             [
              0.4444444444444444,
              "#bd3786"
             ],
             [
              0.5555555555555556,
              "#d8576b"
             ],
             [
              0.6666666666666666,
              "#ed7953"
             ],
             [
              0.7777777777777778,
              "#fb9f3a"
             ],
             [
              0.8888888888888888,
              "#fdca26"
             ],
             [
              1,
              "#f0f921"
             ]
            ],
            "type": "histogram2d"
           }
          ],
          "histogram2dcontour": [
           {
            "colorbar": {
             "outlinewidth": 0,
             "ticks": ""
            },
            "colorscale": [
             [
              0,
              "#0d0887"
             ],
             [
              0.1111111111111111,
              "#46039f"
             ],
             [
              0.2222222222222222,
              "#7201a8"
             ],
             [
              0.3333333333333333,
              "#9c179e"
             ],
             [
              0.4444444444444444,
              "#bd3786"
             ],
             [
              0.5555555555555556,
              "#d8576b"
             ],
             [
              0.6666666666666666,
              "#ed7953"
             ],
             [
              0.7777777777777778,
              "#fb9f3a"
             ],
             [
              0.8888888888888888,
              "#fdca26"
             ],
             [
              1,
              "#f0f921"
             ]
            ],
            "type": "histogram2dcontour"
           }
          ],
          "mesh3d": [
           {
            "colorbar": {
             "outlinewidth": 0,
             "ticks": ""
            },
            "type": "mesh3d"
           }
          ],
          "parcoords": [
           {
            "line": {
             "colorbar": {
              "outlinewidth": 0,
              "ticks": ""
             }
            },
            "type": "parcoords"
           }
          ],
          "pie": [
           {
            "automargin": true,
            "type": "pie"
           }
          ],
          "scatter": [
           {
            "fillpattern": {
             "fillmode": "overlay",
             "size": 10,
             "solidity": 0.2
            },
            "type": "scatter"
           }
          ],
          "scatter3d": [
           {
            "line": {
             "colorbar": {
              "outlinewidth": 0,
              "ticks": ""
             }
            },
            "marker": {
             "colorbar": {
              "outlinewidth": 0,
              "ticks": ""
             }
            },
            "type": "scatter3d"
           }
          ],
          "scattercarpet": [
           {
            "marker": {
             "colorbar": {
              "outlinewidth": 0,
              "ticks": ""
             }
            },
            "type": "scattercarpet"
           }
          ],
          "scattergeo": [
           {
            "marker": {
             "colorbar": {
              "outlinewidth": 0,
              "ticks": ""
             }
            },
            "type": "scattergeo"
           }
          ],
          "scattergl": [
           {
            "marker": {
             "colorbar": {
              "outlinewidth": 0,
              "ticks": ""
             }
            },
            "type": "scattergl"
           }
          ],
          "scattermapbox": [
           {
            "marker": {
             "colorbar": {
              "outlinewidth": 0,
              "ticks": ""
             }
            },
            "type": "scattermapbox"
           }
          ],
          "scatterpolar": [
           {
            "marker": {
             "colorbar": {
              "outlinewidth": 0,
              "ticks": ""
             }
            },
            "type": "scatterpolar"
           }
          ],
          "scatterpolargl": [
           {
            "marker": {
             "colorbar": {
              "outlinewidth": 0,
              "ticks": ""
             }
            },
            "type": "scatterpolargl"
           }
          ],
          "scatterternary": [
           {
            "marker": {
             "colorbar": {
              "outlinewidth": 0,
              "ticks": ""
             }
            },
            "type": "scatterternary"
           }
          ],
          "surface": [
           {
            "colorbar": {
             "outlinewidth": 0,
             "ticks": ""
            },
            "colorscale": [
             [
              0,
              "#0d0887"
             ],
             [
              0.1111111111111111,
              "#46039f"
             ],
             [
              0.2222222222222222,
              "#7201a8"
             ],
             [
              0.3333333333333333,
              "#9c179e"
             ],
             [
              0.4444444444444444,
              "#bd3786"
             ],
             [
              0.5555555555555556,
              "#d8576b"
             ],
             [
              0.6666666666666666,
              "#ed7953"
             ],
             [
              0.7777777777777778,
              "#fb9f3a"
             ],
             [
              0.8888888888888888,
              "#fdca26"
             ],
             [
              1,
              "#f0f921"
             ]
            ],
            "type": "surface"
           }
          ],
          "table": [
           {
            "cells": {
             "fill": {
              "color": "#EBF0F8"
             },
             "line": {
              "color": "white"
             }
            },
            "header": {
             "fill": {
              "color": "#C8D4E3"
             },
             "line": {
              "color": "white"
             }
            },
            "type": "table"
           }
          ]
         },
         "layout": {
          "annotationdefaults": {
           "arrowcolor": "#2a3f5f",
           "arrowhead": 0,
           "arrowwidth": 1
          },
          "autotypenumbers": "strict",
          "coloraxis": {
           "colorbar": {
            "outlinewidth": 0,
            "ticks": ""
           }
          },
          "colorscale": {
           "diverging": [
            [
             0,
             "#8e0152"
            ],
            [
             0.1,
             "#c51b7d"
            ],
            [
             0.2,
             "#de77ae"
            ],
            [
             0.3,
             "#f1b6da"
            ],
            [
             0.4,
             "#fde0ef"
            ],
            [
             0.5,
             "#f7f7f7"
            ],
            [
             0.6,
             "#e6f5d0"
            ],
            [
             0.7,
             "#b8e186"
            ],
            [
             0.8,
             "#7fbc41"
            ],
            [
             0.9,
             "#4d9221"
            ],
            [
             1,
             "#276419"
            ]
           ],
           "sequential": [
            [
             0,
             "#0d0887"
            ],
            [
             0.1111111111111111,
             "#46039f"
            ],
            [
             0.2222222222222222,
             "#7201a8"
            ],
            [
             0.3333333333333333,
             "#9c179e"
            ],
            [
             0.4444444444444444,
             "#bd3786"
            ],
            [
             0.5555555555555556,
             "#d8576b"
            ],
            [
             0.6666666666666666,
             "#ed7953"
            ],
            [
             0.7777777777777778,
             "#fb9f3a"
            ],
            [
             0.8888888888888888,
             "#fdca26"
            ],
            [
             1,
             "#f0f921"
            ]
           ],
           "sequentialminus": [
            [
             0,
             "#0d0887"
            ],
            [
             0.1111111111111111,
             "#46039f"
            ],
            [
             0.2222222222222222,
             "#7201a8"
            ],
            [
             0.3333333333333333,
             "#9c179e"
            ],
            [
             0.4444444444444444,
             "#bd3786"
            ],
            [
             0.5555555555555556,
             "#d8576b"
            ],
            [
             0.6666666666666666,
             "#ed7953"
            ],
            [
             0.7777777777777778,
             "#fb9f3a"
            ],
            [
             0.8888888888888888,
             "#fdca26"
            ],
            [
             1,
             "#f0f921"
            ]
           ]
          },
          "colorway": [
           "#636efa",
           "#EF553B",
           "#00cc96",
           "#ab63fa",
           "#FFA15A",
           "#19d3f3",
           "#FF6692",
           "#B6E880",
           "#FF97FF",
           "#FECB52"
          ],
          "font": {
           "color": "#2a3f5f"
          },
          "geo": {
           "bgcolor": "white",
           "lakecolor": "white",
           "landcolor": "#E5ECF6",
           "showlakes": true,
           "showland": true,
           "subunitcolor": "white"
          },
          "hoverlabel": {
           "align": "left"
          },
          "hovermode": "closest",
          "mapbox": {
           "style": "light"
          },
          "paper_bgcolor": "white",
          "plot_bgcolor": "#E5ECF6",
          "polar": {
           "angularaxis": {
            "gridcolor": "white",
            "linecolor": "white",
            "ticks": ""
           },
           "bgcolor": "#E5ECF6",
           "radialaxis": {
            "gridcolor": "white",
            "linecolor": "white",
            "ticks": ""
           }
          },
          "scene": {
           "xaxis": {
            "backgroundcolor": "#E5ECF6",
            "gridcolor": "white",
            "gridwidth": 2,
            "linecolor": "white",
            "showbackground": true,
            "ticks": "",
            "zerolinecolor": "white"
           },
           "yaxis": {
            "backgroundcolor": "#E5ECF6",
            "gridcolor": "white",
            "gridwidth": 2,
            "linecolor": "white",
            "showbackground": true,
            "ticks": "",
            "zerolinecolor": "white"
           },
           "zaxis": {
            "backgroundcolor": "#E5ECF6",
            "gridcolor": "white",
            "gridwidth": 2,
            "linecolor": "white",
            "showbackground": true,
            "ticks": "",
            "zerolinecolor": "white"
           }
          },
          "shapedefaults": {
           "line": {
            "color": "#2a3f5f"
           }
          },
          "ternary": {
           "aaxis": {
            "gridcolor": "white",
            "linecolor": "white",
            "ticks": ""
           },
           "baxis": {
            "gridcolor": "white",
            "linecolor": "white",
            "ticks": ""
           },
           "bgcolor": "#E5ECF6",
           "caxis": {
            "gridcolor": "white",
            "linecolor": "white",
            "ticks": ""
           }
          },
          "title": {
           "x": 0.05
          },
          "xaxis": {
           "automargin": true,
           "gridcolor": "white",
           "linecolor": "white",
           "ticks": "",
           "title": {
            "standoff": 15
           },
           "zerolinecolor": "white",
           "zerolinewidth": 2
          },
          "yaxis": {
           "automargin": true,
           "gridcolor": "white",
           "linecolor": "white",
           "ticks": "",
           "title": {
            "standoff": 15
           },
           "zerolinecolor": "white",
           "zerolinewidth": 2
          }
         }
        },
        "xaxis": {
         "anchor": "y",
         "domain": [
          0,
          1
         ],
         "title": {
          "text": "Perpetrator_Race"
         }
        },
        "yaxis": {
         "anchor": "x",
         "domain": [
          0,
          1
         ],
         "title": {
          "text": "Record_ID"
         }
        }
       }
      },
      "text/html": [
       "<div>                            <div id=\"03f43671-ce24-40e1-a929-5e87d078b0a9\" class=\"plotly-graph-div\" style=\"height:525px; width:100%;\"></div>            <script type=\"text/javascript\">                require([\"plotly\"], function(Plotly) {                    window.PLOTLYENV=window.PLOTLYENV || {};                                    if (document.getElementById(\"03f43671-ce24-40e1-a929-5e87d078b0a9\")) {                    Plotly.newPlot(                        \"03f43671-ce24-40e1-a929-5e87d078b0a9\",                        [{\"alignmentgroup\":\"True\",\"hovertemplate\":\"Perpetrator_Sex=Male<br>Perpetrator_Race=%{x}<br>Record_ID=%{y}<extra></extra>\",\"legendgroup\":\"Male\",\"marker\":{\"color\":\"#636efa\",\"pattern\":{\"shape\":\"\"}},\"name\":\"Male\",\"offsetgroup\":\"Male\",\"orientation\":\"v\",\"showlegend\":true,\"textposition\":\"auto\",\"x\":[\"Asian/Pacific Islander\",\"Black\",\"Native American/Alaska Native\",\"Unknown\",\"White\"],\"xaxis\":\"x\",\"y\":[1,43,1,2,20],\"yaxis\":\"y\",\"type\":\"bar\"},{\"alignmentgroup\":\"True\",\"hovertemplate\":\"Perpetrator_Sex=Female<br>Perpetrator_Race=%{x}<br>Record_ID=%{y}<extra></extra>\",\"legendgroup\":\"Female\",\"marker\":{\"color\":\"#EF553B\",\"pattern\":{\"shape\":\"\"}},\"name\":\"Female\",\"offsetgroup\":\"Female\",\"orientation\":\"v\",\"showlegend\":true,\"textposition\":\"auto\",\"x\":[\"Black\",\"White\"],\"xaxis\":\"x\",\"y\":[4,1],\"yaxis\":\"y\",\"type\":\"bar\"},{\"alignmentgroup\":\"True\",\"hovertemplate\":\"Perpetrator_Sex=Unknown<br>Perpetrator_Race=%{x}<br>Record_ID=%{y}<extra></extra>\",\"legendgroup\":\"Unknown\",\"marker\":{\"color\":\"#00cc96\",\"pattern\":{\"shape\":\"\"}},\"name\":\"Unknown\",\"offsetgroup\":\"Unknown\",\"orientation\":\"v\",\"showlegend\":true,\"textposition\":\"auto\",\"x\":[\"Unknown\"],\"xaxis\":\"x\",\"y\":[55],\"yaxis\":\"y\",\"type\":\"bar\"}],                        {\"template\":{\"data\":{\"histogram2dcontour\":[{\"type\":\"histogram2dcontour\",\"colorbar\":{\"outlinewidth\":0,\"ticks\":\"\"},\"colorscale\":[[0.0,\"#0d0887\"],[0.1111111111111111,\"#46039f\"],[0.2222222222222222,\"#7201a8\"],[0.3333333333333333,\"#9c179e\"],[0.4444444444444444,\"#bd3786\"],[0.5555555555555556,\"#d8576b\"],[0.6666666666666666,\"#ed7953\"],[0.7777777777777778,\"#fb9f3a\"],[0.8888888888888888,\"#fdca26\"],[1.0,\"#f0f921\"]]}],\"choropleth\":[{\"type\":\"choropleth\",\"colorbar\":{\"outlinewidth\":0,\"ticks\":\"\"}}],\"histogram2d\":[{\"type\":\"histogram2d\",\"colorbar\":{\"outlinewidth\":0,\"ticks\":\"\"},\"colorscale\":[[0.0,\"#0d0887\"],[0.1111111111111111,\"#46039f\"],[0.2222222222222222,\"#7201a8\"],[0.3333333333333333,\"#9c179e\"],[0.4444444444444444,\"#bd3786\"],[0.5555555555555556,\"#d8576b\"],[0.6666666666666666,\"#ed7953\"],[0.7777777777777778,\"#fb9f3a\"],[0.8888888888888888,\"#fdca26\"],[1.0,\"#f0f921\"]]}],\"heatmap\":[{\"type\":\"heatmap\",\"colorbar\":{\"outlinewidth\":0,\"ticks\":\"\"},\"colorscale\":[[0.0,\"#0d0887\"],[0.1111111111111111,\"#46039f\"],[0.2222222222222222,\"#7201a8\"],[0.3333333333333333,\"#9c179e\"],[0.4444444444444444,\"#bd3786\"],[0.5555555555555556,\"#d8576b\"],[0.6666666666666666,\"#ed7953\"],[0.7777777777777778,\"#fb9f3a\"],[0.8888888888888888,\"#fdca26\"],[1.0,\"#f0f921\"]]}],\"heatmapgl\":[{\"type\":\"heatmapgl\",\"colorbar\":{\"outlinewidth\":0,\"ticks\":\"\"},\"colorscale\":[[0.0,\"#0d0887\"],[0.1111111111111111,\"#46039f\"],[0.2222222222222222,\"#7201a8\"],[0.3333333333333333,\"#9c179e\"],[0.4444444444444444,\"#bd3786\"],[0.5555555555555556,\"#d8576b\"],[0.6666666666666666,\"#ed7953\"],[0.7777777777777778,\"#fb9f3a\"],[0.8888888888888888,\"#fdca26\"],[1.0,\"#f0f921\"]]}],\"contourcarpet\":[{\"type\":\"contourcarpet\",\"colorbar\":{\"outlinewidth\":0,\"ticks\":\"\"}}],\"contour\":[{\"type\":\"contour\",\"colorbar\":{\"outlinewidth\":0,\"ticks\":\"\"},\"colorscale\":[[0.0,\"#0d0887\"],[0.1111111111111111,\"#46039f\"],[0.2222222222222222,\"#7201a8\"],[0.3333333333333333,\"#9c179e\"],[0.4444444444444444,\"#bd3786\"],[0.5555555555555556,\"#d8576b\"],[0.6666666666666666,\"#ed7953\"],[0.7777777777777778,\"#fb9f3a\"],[0.8888888888888888,\"#fdca26\"],[1.0,\"#f0f921\"]]}],\"surface\":[{\"type\":\"surface\",\"colorbar\":{\"outlinewidth\":0,\"ticks\":\"\"},\"colorscale\":[[0.0,\"#0d0887\"],[0.1111111111111111,\"#46039f\"],[0.2222222222222222,\"#7201a8\"],[0.3333333333333333,\"#9c179e\"],[0.4444444444444444,\"#bd3786\"],[0.5555555555555556,\"#d8576b\"],[0.6666666666666666,\"#ed7953\"],[0.7777777777777778,\"#fb9f3a\"],[0.8888888888888888,\"#fdca26\"],[1.0,\"#f0f921\"]]}],\"mesh3d\":[{\"type\":\"mesh3d\",\"colorbar\":{\"outlinewidth\":0,\"ticks\":\"\"}}],\"scatter\":[{\"fillpattern\":{\"fillmode\":\"overlay\",\"size\":10,\"solidity\":0.2},\"type\":\"scatter\"}],\"parcoords\":[{\"type\":\"parcoords\",\"line\":{\"colorbar\":{\"outlinewidth\":0,\"ticks\":\"\"}}}],\"scatterpolargl\":[{\"type\":\"scatterpolargl\",\"marker\":{\"colorbar\":{\"outlinewidth\":0,\"ticks\":\"\"}}}],\"bar\":[{\"error_x\":{\"color\":\"#2a3f5f\"},\"error_y\":{\"color\":\"#2a3f5f\"},\"marker\":{\"line\":{\"color\":\"#E5ECF6\",\"width\":0.5},\"pattern\":{\"fillmode\":\"overlay\",\"size\":10,\"solidity\":0.2}},\"type\":\"bar\"}],\"scattergeo\":[{\"type\":\"scattergeo\",\"marker\":{\"colorbar\":{\"outlinewidth\":0,\"ticks\":\"\"}}}],\"scatterpolar\":[{\"type\":\"scatterpolar\",\"marker\":{\"colorbar\":{\"outlinewidth\":0,\"ticks\":\"\"}}}],\"histogram\":[{\"marker\":{\"pattern\":{\"fillmode\":\"overlay\",\"size\":10,\"solidity\":0.2}},\"type\":\"histogram\"}],\"scattergl\":[{\"type\":\"scattergl\",\"marker\":{\"colorbar\":{\"outlinewidth\":0,\"ticks\":\"\"}}}],\"scatter3d\":[{\"type\":\"scatter3d\",\"line\":{\"colorbar\":{\"outlinewidth\":0,\"ticks\":\"\"}},\"marker\":{\"colorbar\":{\"outlinewidth\":0,\"ticks\":\"\"}}}],\"scattermapbox\":[{\"type\":\"scattermapbox\",\"marker\":{\"colorbar\":{\"outlinewidth\":0,\"ticks\":\"\"}}}],\"scatterternary\":[{\"type\":\"scatterternary\",\"marker\":{\"colorbar\":{\"outlinewidth\":0,\"ticks\":\"\"}}}],\"scattercarpet\":[{\"type\":\"scattercarpet\",\"marker\":{\"colorbar\":{\"outlinewidth\":0,\"ticks\":\"\"}}}],\"carpet\":[{\"aaxis\":{\"endlinecolor\":\"#2a3f5f\",\"gridcolor\":\"white\",\"linecolor\":\"white\",\"minorgridcolor\":\"white\",\"startlinecolor\":\"#2a3f5f\"},\"baxis\":{\"endlinecolor\":\"#2a3f5f\",\"gridcolor\":\"white\",\"linecolor\":\"white\",\"minorgridcolor\":\"white\",\"startlinecolor\":\"#2a3f5f\"},\"type\":\"carpet\"}],\"table\":[{\"cells\":{\"fill\":{\"color\":\"#EBF0F8\"},\"line\":{\"color\":\"white\"}},\"header\":{\"fill\":{\"color\":\"#C8D4E3\"},\"line\":{\"color\":\"white\"}},\"type\":\"table\"}],\"barpolar\":[{\"marker\":{\"line\":{\"color\":\"#E5ECF6\",\"width\":0.5},\"pattern\":{\"fillmode\":\"overlay\",\"size\":10,\"solidity\":0.2}},\"type\":\"barpolar\"}],\"pie\":[{\"automargin\":true,\"type\":\"pie\"}]},\"layout\":{\"autotypenumbers\":\"strict\",\"colorway\":[\"#636efa\",\"#EF553B\",\"#00cc96\",\"#ab63fa\",\"#FFA15A\",\"#19d3f3\",\"#FF6692\",\"#B6E880\",\"#FF97FF\",\"#FECB52\"],\"font\":{\"color\":\"#2a3f5f\"},\"hovermode\":\"closest\",\"hoverlabel\":{\"align\":\"left\"},\"paper_bgcolor\":\"white\",\"plot_bgcolor\":\"#E5ECF6\",\"polar\":{\"bgcolor\":\"#E5ECF6\",\"angularaxis\":{\"gridcolor\":\"white\",\"linecolor\":\"white\",\"ticks\":\"\"},\"radialaxis\":{\"gridcolor\":\"white\",\"linecolor\":\"white\",\"ticks\":\"\"}},\"ternary\":{\"bgcolor\":\"#E5ECF6\",\"aaxis\":{\"gridcolor\":\"white\",\"linecolor\":\"white\",\"ticks\":\"\"},\"baxis\":{\"gridcolor\":\"white\",\"linecolor\":\"white\",\"ticks\":\"\"},\"caxis\":{\"gridcolor\":\"white\",\"linecolor\":\"white\",\"ticks\":\"\"}},\"coloraxis\":{\"colorbar\":{\"outlinewidth\":0,\"ticks\":\"\"}},\"colorscale\":{\"sequential\":[[0.0,\"#0d0887\"],[0.1111111111111111,\"#46039f\"],[0.2222222222222222,\"#7201a8\"],[0.3333333333333333,\"#9c179e\"],[0.4444444444444444,\"#bd3786\"],[0.5555555555555556,\"#d8576b\"],[0.6666666666666666,\"#ed7953\"],[0.7777777777777778,\"#fb9f3a\"],[0.8888888888888888,\"#fdca26\"],[1.0,\"#f0f921\"]],\"sequentialminus\":[[0.0,\"#0d0887\"],[0.1111111111111111,\"#46039f\"],[0.2222222222222222,\"#7201a8\"],[0.3333333333333333,\"#9c179e\"],[0.4444444444444444,\"#bd3786\"],[0.5555555555555556,\"#d8576b\"],[0.6666666666666666,\"#ed7953\"],[0.7777777777777778,\"#fb9f3a\"],[0.8888888888888888,\"#fdca26\"],[1.0,\"#f0f921\"]],\"diverging\":[[0,\"#8e0152\"],[0.1,\"#c51b7d\"],[0.2,\"#de77ae\"],[0.3,\"#f1b6da\"],[0.4,\"#fde0ef\"],[0.5,\"#f7f7f7\"],[0.6,\"#e6f5d0\"],[0.7,\"#b8e186\"],[0.8,\"#7fbc41\"],[0.9,\"#4d9221\"],[1,\"#276419\"]]},\"xaxis\":{\"gridcolor\":\"white\",\"linecolor\":\"white\",\"ticks\":\"\",\"title\":{\"standoff\":15},\"zerolinecolor\":\"white\",\"automargin\":true,\"zerolinewidth\":2},\"yaxis\":{\"gridcolor\":\"white\",\"linecolor\":\"white\",\"ticks\":\"\",\"title\":{\"standoff\":15},\"zerolinecolor\":\"white\",\"automargin\":true,\"zerolinewidth\":2},\"scene\":{\"xaxis\":{\"backgroundcolor\":\"#E5ECF6\",\"gridcolor\":\"white\",\"linecolor\":\"white\",\"showbackground\":true,\"ticks\":\"\",\"zerolinecolor\":\"white\",\"gridwidth\":2},\"yaxis\":{\"backgroundcolor\":\"#E5ECF6\",\"gridcolor\":\"white\",\"linecolor\":\"white\",\"showbackground\":true,\"ticks\":\"\",\"zerolinecolor\":\"white\",\"gridwidth\":2},\"zaxis\":{\"backgroundcolor\":\"#E5ECF6\",\"gridcolor\":\"white\",\"linecolor\":\"white\",\"showbackground\":true,\"ticks\":\"\",\"zerolinecolor\":\"white\",\"gridwidth\":2}},\"shapedefaults\":{\"line\":{\"color\":\"#2a3f5f\"}},\"annotationdefaults\":{\"arrowcolor\":\"#2a3f5f\",\"arrowhead\":0,\"arrowwidth\":1},\"geo\":{\"bgcolor\":\"white\",\"landcolor\":\"#E5ECF6\",\"subunitcolor\":\"white\",\"showland\":true,\"showlakes\":true,\"lakecolor\":\"white\"},\"title\":{\"x\":0.05},\"mapbox\":{\"style\":\"light\"}}},\"xaxis\":{\"anchor\":\"y\",\"domain\":[0.0,1.0],\"title\":{\"text\":\"Perpetrator_Race\"}},\"yaxis\":{\"anchor\":\"x\",\"domain\":[0.0,1.0],\"title\":{\"text\":\"Record_ID\"}},\"legend\":{\"title\":{\"text\":\"Perpetrator_Sex\"},\"tracegroupgap\":0},\"margin\":{\"t\":60},\"barmode\":\"relative\"},                        {\"responsive\": true}                    ).then(function(){\n",
       "                            \n",
       "var gd = document.getElementById('03f43671-ce24-40e1-a929-5e87d078b0a9');\n",
       "var x = new MutationObserver(function (mutations, observer) {{\n",
       "        var display = window.getComputedStyle(gd).display;\n",
       "        if (!display || display === 'none') {{\n",
       "            console.log([gd, 'removed!']);\n",
       "            Plotly.purge(gd);\n",
       "            observer.disconnect();\n",
       "        }}\n",
       "}});\n",
       "\n",
       "// Listen for the removal of the full notebook cells\n",
       "var notebookContainer = gd.closest('#notebook-container');\n",
       "if (notebookContainer) {{\n",
       "    x.observe(notebookContainer, {childList: true});\n",
       "}}\n",
       "\n",
       "// Listen for the clearing of the current output cell\n",
       "var outputEl = gd.closest('.output');\n",
       "if (outputEl) {{\n",
       "    x.observe(outputEl, {childList: true});\n",
       "}}\n",
       "\n",
       "                        })                };                });            </script>        </div>"
      ]
     },
     "metadata": {},
     "output_type": "display_data"
    }
   ],
   "source": [
    "fig2 = px.bar(a, x=\"Perpetrator_Race\", y=\"Record_ID\", color=\"Perpetrator_Sex\")\n",
    "fig2.show()"
   ]
  },
  {
   "cell_type": "code",
   "execution_count": 30,
   "id": "120c2366",
   "metadata": {},
   "outputs": [
    {
     "ename": "TypeError",
     "evalue": "unsupported operand type(s) for &: 'Figure' and 'Figure'",
     "output_type": "error",
     "traceback": [
      "\u001b[1;31m---------------------------------------------------------------------------\u001b[0m",
      "\u001b[1;31mTypeError\u001b[0m                                 Traceback (most recent call last)",
      "\u001b[1;32mC:\\Users\\YUXINC~1\\AppData\\Local\\Temp/ipykernel_23584/2700383495.py\u001b[0m in \u001b[0;36m<module>\u001b[1;34m\u001b[0m\n\u001b[1;32m----> 1\u001b[1;33m \u001b[0mfig1\u001b[0m \u001b[1;33m&\u001b[0m \u001b[0mfig2\u001b[0m\u001b[1;33m\u001b[0m\u001b[1;33m\u001b[0m\u001b[0m\n\u001b[0m",
      "\u001b[1;31mTypeError\u001b[0m: unsupported operand type(s) for &: 'Figure' and 'Figure'"
     ]
    }
   ],
   "source": [
    "fig1 & fig2"
   ]
  },
  {
   "cell_type": "markdown",
   "id": "5f94e0fb",
   "metadata": {},
   "source": [
    "## Altair"
   ]
  },
  {
   "cell_type": "code",
   "execution_count": null,
   "id": "b64b73e2",
   "metadata": {},
   "outputs": [],
   "source": [
    "import altair as alt\n",
    "from vega_datasets import data"
   ]
  },
  {
   "cell_type": "code",
   "execution_count": 6,
   "id": "926e4c78",
   "metadata": {},
   "outputs": [
    {
     "ename": "KeyError",
     "evalue": "'id'",
     "output_type": "error",
     "traceback": [
      "\u001b[1;31m---------------------------------------------------------------------------\u001b[0m",
      "\u001b[1;31mKeyError\u001b[0m                                  Traceback (most recent call last)",
      "\u001b[1;32mC:\\Users\\YUXINC~1\\AppData\\Local\\Temp/ipykernel_23584/3883479961.py\u001b[0m in \u001b[0;36m<module>\u001b[1;34m\u001b[0m\n\u001b[0;32m      1\u001b[0m \u001b[0mmurder_selected\u001b[0m \u001b[1;33m=\u001b[0m \u001b[0mmurder\u001b[0m\u001b[1;33m.\u001b[0m\u001b[0mloc\u001b[0m\u001b[1;33m[\u001b[0m\u001b[1;33m(\u001b[0m\u001b[0mmurder\u001b[0m\u001b[1;33m[\u001b[0m\u001b[1;34m'Year'\u001b[0m\u001b[1;33m]\u001b[0m\u001b[1;33m==\u001b[0m\u001b[1;36m2010\u001b[0m\u001b[1;33m)\u001b[0m\u001b[1;33m]\u001b[0m\u001b[1;33m\u001b[0m\u001b[1;33m\u001b[0m\u001b[0m\n\u001b[1;32m----> 2\u001b[1;33m \u001b[0mmurder_trial\u001b[0m \u001b[1;33m=\u001b[0m \u001b[0mmurder_selected\u001b[0m\u001b[1;33m.\u001b[0m\u001b[0mgroupby\u001b[0m\u001b[1;33m(\u001b[0m\u001b[1;33m[\u001b[0m\u001b[1;34m\"id\"\u001b[0m\u001b[1;33m,\u001b[0m\u001b[1;34m'State'\u001b[0m\u001b[1;33m]\u001b[0m\u001b[1;33m)\u001b[0m\u001b[1;33m.\u001b[0m\u001b[0mcount\u001b[0m\u001b[1;33m(\u001b[0m\u001b[1;33m)\u001b[0m\u001b[1;33m.\u001b[0m\u001b[0mreset_index\u001b[0m\u001b[1;33m(\u001b[0m\u001b[1;33m)\u001b[0m\u001b[1;33m\u001b[0m\u001b[1;33m\u001b[0m\u001b[0m\n\u001b[0m",
      "\u001b[1;32mD:\\anaconda3\\lib\\site-packages\\pandas\\core\\frame.py\u001b[0m in \u001b[0;36mgroupby\u001b[1;34m(self, by, axis, level, as_index, sort, group_keys, squeeze, observed, dropna)\u001b[0m\n\u001b[0;32m   7629\u001b[0m         \u001b[1;31m# error: Argument \"squeeze\" to \"DataFrameGroupBy\" has incompatible type\u001b[0m\u001b[1;33m\u001b[0m\u001b[1;33m\u001b[0m\u001b[0m\n\u001b[0;32m   7630\u001b[0m         \u001b[1;31m# \"Union[bool, NoDefault]\"; expected \"bool\"\u001b[0m\u001b[1;33m\u001b[0m\u001b[1;33m\u001b[0m\u001b[0m\n\u001b[1;32m-> 7631\u001b[1;33m         return DataFrameGroupBy(\n\u001b[0m\u001b[0;32m   7632\u001b[0m             \u001b[0mobj\u001b[0m\u001b[1;33m=\u001b[0m\u001b[0mself\u001b[0m\u001b[1;33m,\u001b[0m\u001b[1;33m\u001b[0m\u001b[1;33m\u001b[0m\u001b[0m\n\u001b[0;32m   7633\u001b[0m             \u001b[0mkeys\u001b[0m\u001b[1;33m=\u001b[0m\u001b[0mby\u001b[0m\u001b[1;33m,\u001b[0m\u001b[1;33m\u001b[0m\u001b[1;33m\u001b[0m\u001b[0m\n",
      "\u001b[1;32mD:\\anaconda3\\lib\\site-packages\\pandas\\core\\groupby\\groupby.py\u001b[0m in \u001b[0;36m__init__\u001b[1;34m(self, obj, keys, axis, level, grouper, exclusions, selection, as_index, sort, group_keys, squeeze, observed, mutated, dropna)\u001b[0m\n\u001b[0;32m    887\u001b[0m             \u001b[1;32mfrom\u001b[0m \u001b[0mpandas\u001b[0m\u001b[1;33m.\u001b[0m\u001b[0mcore\u001b[0m\u001b[1;33m.\u001b[0m\u001b[0mgroupby\u001b[0m\u001b[1;33m.\u001b[0m\u001b[0mgrouper\u001b[0m \u001b[1;32mimport\u001b[0m \u001b[0mget_grouper\u001b[0m\u001b[1;33m\u001b[0m\u001b[1;33m\u001b[0m\u001b[0m\n\u001b[0;32m    888\u001b[0m \u001b[1;33m\u001b[0m\u001b[0m\n\u001b[1;32m--> 889\u001b[1;33m             grouper, exclusions, obj = get_grouper(\n\u001b[0m\u001b[0;32m    890\u001b[0m                 \u001b[0mobj\u001b[0m\u001b[1;33m,\u001b[0m\u001b[1;33m\u001b[0m\u001b[1;33m\u001b[0m\u001b[0m\n\u001b[0;32m    891\u001b[0m                 \u001b[0mkeys\u001b[0m\u001b[1;33m,\u001b[0m\u001b[1;33m\u001b[0m\u001b[1;33m\u001b[0m\u001b[0m\n",
      "\u001b[1;32mD:\\anaconda3\\lib\\site-packages\\pandas\\core\\groupby\\grouper.py\u001b[0m in \u001b[0;36mget_grouper\u001b[1;34m(obj, key, axis, level, sort, observed, mutated, validate, dropna)\u001b[0m\n\u001b[0;32m    860\u001b[0m                 \u001b[0min_axis\u001b[0m\u001b[1;33m,\u001b[0m \u001b[0mlevel\u001b[0m\u001b[1;33m,\u001b[0m \u001b[0mgpr\u001b[0m \u001b[1;33m=\u001b[0m \u001b[1;32mFalse\u001b[0m\u001b[1;33m,\u001b[0m \u001b[0mgpr\u001b[0m\u001b[1;33m,\u001b[0m \u001b[1;32mNone\u001b[0m\u001b[1;33m\u001b[0m\u001b[1;33m\u001b[0m\u001b[0m\n\u001b[0;32m    861\u001b[0m             \u001b[1;32melse\u001b[0m\u001b[1;33m:\u001b[0m\u001b[1;33m\u001b[0m\u001b[1;33m\u001b[0m\u001b[0m\n\u001b[1;32m--> 862\u001b[1;33m                 \u001b[1;32mraise\u001b[0m \u001b[0mKeyError\u001b[0m\u001b[1;33m(\u001b[0m\u001b[0mgpr\u001b[0m\u001b[1;33m)\u001b[0m\u001b[1;33m\u001b[0m\u001b[1;33m\u001b[0m\u001b[0m\n\u001b[0m\u001b[0;32m    863\u001b[0m         \u001b[1;32melif\u001b[0m \u001b[0misinstance\u001b[0m\u001b[1;33m(\u001b[0m\u001b[0mgpr\u001b[0m\u001b[1;33m,\u001b[0m \u001b[0mGrouper\u001b[0m\u001b[1;33m)\u001b[0m \u001b[1;32mand\u001b[0m \u001b[0mgpr\u001b[0m\u001b[1;33m.\u001b[0m\u001b[0mkey\u001b[0m \u001b[1;32mis\u001b[0m \u001b[1;32mnot\u001b[0m \u001b[1;32mNone\u001b[0m\u001b[1;33m:\u001b[0m\u001b[1;33m\u001b[0m\u001b[1;33m\u001b[0m\u001b[0m\n\u001b[0;32m    864\u001b[0m             \u001b[1;31m# Add key to exclusions\u001b[0m\u001b[1;33m\u001b[0m\u001b[1;33m\u001b[0m\u001b[0m\n",
      "\u001b[1;31mKeyError\u001b[0m: 'id'"
     ]
    }
   ],
   "source": [
    "murder_selected = murder.loc[(murder['Year']==2010)]\n",
    "murder_trial = murder_selected.groupby([\"id\",'State']).count().reset_index()"
   ]
  },
  {
   "cell_type": "code",
   "execution_count": 108,
   "id": "245c323e",
   "metadata": {},
   "outputs": [],
   "source": [
    "df_filter = murder_selected.groupby(['State','Month','Perpetrator_Sex']).count().reset_index().groupby(['Perpetrator_Sex','Month','State']).sum().iloc[:,:1]"
   ]
  },
  {
   "cell_type": "code",
   "execution_count": 109,
   "id": "2728c989",
   "metadata": {},
   "outputs": [],
   "source": [
    "df_month_pair = list(df_filter.index)"
   ]
  },
  {
   "cell_type": "code",
   "execution_count": 110,
   "id": "11bf46a1",
   "metadata": {},
   "outputs": [],
   "source": [
    "month_gender_state = [(gen,mon,state) for gen in gender for mon in Month_sort for state in set(murder['State'])]"
   ]
  },
  {
   "cell_type": "code",
   "execution_count": 111,
   "id": "296bde75",
   "metadata": {},
   "outputs": [],
   "source": [
    "miss_month_pair = [mp for mp in month_gender_state if mp not in df_month_pair]"
   ]
  },
  {
   "cell_type": "code",
   "execution_count": 112,
   "id": "ce965e12",
   "metadata": {},
   "outputs": [],
   "source": [
    "index=pd.MultiIndex.from_tuples(miss_month_pair, names=['Perpetrator_Sex', 'Month','State'])"
   ]
  },
  {
   "cell_type": "code",
   "execution_count": 113,
   "id": "2a0ced29",
   "metadata": {},
   "outputs": [],
   "source": [
    "new=pd.DataFrame([{'Record_ID':0}],index=index)"
   ]
  },
  {
   "cell_type": "code",
   "execution_count": 114,
   "id": "ff704379",
   "metadata": {},
   "outputs": [],
   "source": [
    "tttt=pd.concat([new,df_filter]).groupby(['Month','Perpetrator_Sex','State']).sum().reindex(Month_sort,level=0).reset_index()"
   ]
  },
  {
   "cell_type": "code",
   "execution_count": 115,
   "id": "00e0cead",
   "metadata": {},
   "outputs": [],
   "source": [
    "tttt[\"id\"] = tttt[\"State\"].replace(us_state_to_id, inplace = False)"
   ]
  },
  {
   "cell_type": "code",
   "execution_count": 117,
   "id": "10060cc3",
   "metadata": {},
   "outputs": [],
   "source": [
    "t2=tttt.groupby(['id','State']).sum().reset_index()"
   ]
  },
  {
   "cell_type": "code",
   "execution_count": 254,
   "id": "b6b50720",
   "metadata": {},
   "outputs": [
    {
     "data": {
      "text/html": [
       "\n",
       "<div id=\"altair-viz-80bb1655c7934e6995589a996e3b555b\"></div>\n",
       "<script type=\"text/javascript\">\n",
       "  var VEGA_DEBUG = (typeof VEGA_DEBUG == \"undefined\") ? {} : VEGA_DEBUG;\n",
       "  (function(spec, embedOpt){\n",
       "    let outputDiv = document.currentScript.previousElementSibling;\n",
       "    if (outputDiv.id !== \"altair-viz-80bb1655c7934e6995589a996e3b555b\") {\n",
       "      outputDiv = document.getElementById(\"altair-viz-80bb1655c7934e6995589a996e3b555b\");\n",
       "    }\n",
       "    const paths = {\n",
       "      \"vega\": \"https://cdn.jsdelivr.net/npm//vega@5?noext\",\n",
       "      \"vega-lib\": \"https://cdn.jsdelivr.net/npm//vega-lib?noext\",\n",
       "      \"vega-lite\": \"https://cdn.jsdelivr.net/npm//vega-lite@4.17.0?noext\",\n",
       "      \"vega-embed\": \"https://cdn.jsdelivr.net/npm//vega-embed@6?noext\",\n",
       "    };\n",
       "\n",
       "    function maybeLoadScript(lib, version) {\n",
       "      var key = `${lib.replace(\"-\", \"\")}_version`;\n",
       "      return (VEGA_DEBUG[key] == version) ?\n",
       "        Promise.resolve(paths[lib]) :\n",
       "        new Promise(function(resolve, reject) {\n",
       "          var s = document.createElement('script');\n",
       "          document.getElementsByTagName(\"head\")[0].appendChild(s);\n",
       "          s.async = true;\n",
       "          s.onload = () => {\n",
       "            VEGA_DEBUG[key] = version;\n",
       "            return resolve(paths[lib]);\n",
       "          };\n",
       "          s.onerror = () => reject(`Error loading script: ${paths[lib]}`);\n",
       "          s.src = paths[lib];\n",
       "        });\n",
       "    }\n",
       "\n",
       "    function showError(err) {\n",
       "      outputDiv.innerHTML = `<div class=\"error\" style=\"color:red;\">${err}</div>`;\n",
       "      throw err;\n",
       "    }\n",
       "\n",
       "    function displayChart(vegaEmbed) {\n",
       "      vegaEmbed(outputDiv, spec, embedOpt)\n",
       "        .catch(err => showError(`Javascript Error: ${err.message}<br>This usually means there's a typo in your chart specification. See the javascript console for the full traceback.`));\n",
       "    }\n",
       "\n",
       "    if(typeof define === \"function\" && define.amd) {\n",
       "      requirejs.config({paths});\n",
       "      require([\"vega-embed\"], displayChart, err => showError(`Error loading script: ${err.message}`));\n",
       "    } else {\n",
       "      maybeLoadScript(\"vega\", \"5\")\n",
       "        .then(() => maybeLoadScript(\"vega-lite\", \"4.17.0\"))\n",
       "        .then(() => maybeLoadScript(\"vega-embed\", \"6\"))\n",
       "        .catch(showError)\n",
       "        .then(() => displayChart(vegaEmbed));\n",
       "    }\n",
       "  })({\"config\": {\"view\": {\"continuousWidth\": 400, \"continuousHeight\": 300}}, \"hconcat\": [{\"data\": {\"url\": \"https://cdn.jsdelivr.net/npm/vega-datasets@v1.29.0/data/us-10m.json\", \"format\": {\"feature\": \"states\", \"type\": \"topojson\"}}, \"mark\": \"geoshape\", \"encoding\": {\"color\": {\"field\": \"Record_ID\", \"type\": \"quantitative\"}, \"opacity\": {\"condition\": {\"value\": 1, \"selection\": \"selector162\"}, \"value\": 0.2}, \"tooltip\": [{\"field\": \"Record_ID\", \"type\": \"quantitative\"}]}, \"height\": 700, \"projection\": {\"type\": \"albersUsa\"}, \"selection\": {\"selector162\": {\"type\": \"multi\", \"fields\": [\"State\"]}}, \"transform\": [{\"lookup\": \"id\", \"from\": {\"data\": {\"name\": \"data-45519db8c94131eb342311fa8eee190e\"}, \"key\": \"id\", \"fields\": [\"id\", \"State\", \"Record_ID\"]}}], \"width\": 500}, {\"vconcat\": [{\"layer\": [{\"mark\": \"line\", \"encoding\": {\"color\": {\"field\": \"Perpetrator_Sex\", \"type\": \"nominal\"}, \"x\": {\"field\": \"Month\", \"sort\": [\"January\", \"February\", \"March\", \"April\", \"May\", \"June\", \"July\", \"August\", \"September\", \"October\", \"November\", \"December\"], \"type\": \"nominal\"}, \"y\": {\"aggregate\": \"sum\", \"field\": \"Record_ID\", \"type\": \"quantitative\"}}, \"selection\": {\"selector164\": {\"type\": \"interval\", \"bind\": \"scales\", \"encodings\": [\"x\", \"y\"]}}, \"transform\": [{\"filter\": {\"selection\": \"selector162\"}}]}, {\"mark\": \"point\", \"encoding\": {\"color\": {\"field\": \"Perpetrator_Sex\", \"type\": \"nominal\"}, \"opacity\": {\"value\": 0}, \"x\": {\"field\": \"Month\", \"sort\": [\"January\", \"February\", \"March\", \"April\", \"May\", \"June\", \"July\", \"August\", \"September\", \"October\", \"November\", \"December\"], \"type\": \"nominal\"}, \"y\": {\"aggregate\": \"sum\", \"field\": \"Record_ID\", \"type\": \"quantitative\"}}, \"selection\": {\"selector163\": {\"type\": \"single\", \"on\": \"mouseover\", \"fields\": [\"Month\"], \"nearest\": true}}, \"transform\": [{\"filter\": {\"selection\": \"selector162\"}}]}, {\"mark\": {\"type\": \"point\", \"size\": 40}, \"encoding\": {\"color\": {\"field\": \"Perpetrator_Sex\", \"type\": \"nominal\"}, \"opacity\": {\"condition\": {\"value\": 1, \"selection\": \"selector163\"}, \"value\": 0}, \"x\": {\"field\": \"Month\", \"sort\": [\"January\", \"February\", \"March\", \"April\", \"May\", \"June\", \"July\", \"August\", \"September\", \"October\", \"November\", \"December\"], \"type\": \"nominal\"}, \"y\": {\"aggregate\": \"sum\", \"field\": \"Record_ID\", \"type\": \"quantitative\"}}, \"transform\": [{\"filter\": {\"selection\": \"selector162\"}}]}, {\"mark\": {\"type\": \"text\", \"align\": \"left\", \"dx\": 5, \"dy\": -5, \"size\": 18}, \"encoding\": {\"color\": {\"field\": \"Perpetrator_Sex\", \"type\": \"nominal\"}, \"text\": {\"condition\": {\"aggregate\": \"sum\", \"field\": \"Record_ID\", \"type\": \"quantitative\", \"selection\": \"selector163\"}, \"value\": \" \"}, \"x\": {\"field\": \"Month\", \"sort\": [\"January\", \"February\", \"March\", \"April\", \"May\", \"June\", \"July\", \"August\", \"September\", \"October\", \"November\", \"December\"], \"type\": \"nominal\"}, \"y\": {\"aggregate\": \"sum\", \"field\": \"Record_ID\", \"type\": \"quantitative\"}}, \"transform\": [{\"filter\": {\"selection\": \"selector162\"}}]}, {\"mark\": \"rule\", \"encoding\": {\"color\": {\"field\": \"Perpetrator_Sex\", \"type\": \"nominal\"}, \"x\": {\"field\": \"Month\", \"sort\": [\"January\", \"February\", \"March\", \"April\", \"May\", \"June\", \"July\", \"August\", \"September\", \"October\", \"November\", \"December\"], \"type\": \"nominal\"}, \"y\": {\"aggregate\": \"sum\", \"field\": \"Record_ID\", \"type\": \"quantitative\"}}, \"transform\": [{\"filter\": {\"selection\": \"selector162\"}}, {\"filter\": {\"selection\": \"selector163\"}}]}], \"data\": {\"name\": \"data-961e75a787d7d6d7078722ab3b0ccae5\"}, \"height\": 300, \"width\": 200}, {\"data\": {\"name\": \"data-c2048d2412cd785201e9c2edfe522c2b\"}, \"mark\": \"bar\", \"encoding\": {\"color\": {\"field\": \"Perpetrator_Sex\", \"type\": \"nominal\"}, \"tooltip\": [{\"field\": \"Perpetrator_Race\", \"type\": \"nominal\"}, {\"field\": \"Perpetrator_Sex\", \"type\": \"nominal\"}, {\"aggregate\": \"sum\", \"field\": \"Record_ID\", \"type\": \"quantitative\"}], \"x\": {\"field\": \"Perpetrator_Race\", \"type\": \"nominal\"}, \"y\": {\"aggregate\": \"sum\", \"field\": \"Record_ID\", \"type\": \"quantitative\"}}, \"height\": 300, \"selection\": {\"selector165\": {\"type\": \"interval\", \"bind\": \"scales\", \"encodings\": [\"x\", \"y\"]}}, \"transform\": [{\"filter\": {\"selection\": \"selector162\"}}], \"width\": 200}]}], \"$schema\": \"https://vega.github.io/schema/vega-lite/v4.17.0.json\", \"datasets\": {\"data-45519db8c94131eb342311fa8eee190e\": [{\"id\": 1, \"State\": \"Alabama\", \"Record_ID\": 191}, {\"id\": 2, \"State\": \"Alaska\", \"Record_ID\": 43}, {\"id\": 4, \"State\": \"Arizona\", \"Record_ID\": 400}, {\"id\": 5, \"State\": \"Arkansas\", \"Record_ID\": 141}, {\"id\": 6, \"State\": \"California\", \"Record_ID\": 1948}, {\"id\": 8, \"State\": \"Colorado\", \"Record_ID\": 145}, {\"id\": 9, \"State\": \"Connecticut\", \"Record_ID\": 134}, {\"id\": 10, \"State\": \"Delaware\", \"Record_ID\": 52}, {\"id\": 11, \"State\": \"District of Columbia\", \"Record_ID\": 134}, {\"id\": 12, \"State\": \"Florida\", \"Record_ID\": 1130}, {\"id\": 13, \"State\": \"Georgia\", \"Record_ID\": 565}, {\"id\": 15, \"State\": \"Hawaii\", \"Record_ID\": 27}, {\"id\": 16, \"State\": \"Idaho\", \"Record_ID\": 22}, {\"id\": 17, \"State\": \"Illinois\", \"Record_ID\": 472}, {\"id\": 18, \"State\": \"Indiana\", \"Record_ID\": 291}, {\"id\": 19, \"State\": \"Iowa\", \"Record_ID\": 39}, {\"id\": 20, \"State\": \"Kansas\", \"Record_ID\": 107}, {\"id\": 21, \"State\": \"Kentucky\", \"Record_ID\": 189}, {\"id\": 22, \"State\": \"Louisiana\", \"Record_ID\": 493}, {\"id\": 23, \"State\": \"Maine\", \"Record_ID\": 27}, {\"id\": 24, \"State\": \"Maryland\", \"Record_ID\": 445}, {\"id\": 25, \"State\": \"Massachusetts\", \"Record_ID\": 219}, {\"id\": 26, \"State\": \"Michigan\", \"Record_ID\": 606}, {\"id\": 27, \"State\": \"Minnesota\", \"Record_ID\": 105}, {\"id\": 28, \"State\": \"Mississippi\", \"Record_ID\": 174}, {\"id\": 29, \"State\": \"Missouri\", \"Record_ID\": 450}, {\"id\": 30, \"State\": \"Montana\", \"Record_ID\": 23}, {\"id\": 31, \"State\": \"Nebraska\", \"Record_ID\": 58}, {\"id\": 32, \"State\": \"Nevada\", \"Record_ID\": 175}, {\"id\": 33, \"State\": \"New Hampshire\", \"Record_ID\": 13}, {\"id\": 34, \"State\": \"New Jersey\", \"Record_ID\": 392}, {\"id\": 35, \"State\": \"New Mexico\", \"Record_ID\": 142}, {\"id\": 36, \"State\": \"New York\", \"Record_ID\": 863}, {\"id\": 37, \"State\": \"North Carolina\", \"Record_ID\": 468}, {\"id\": 38, \"State\": \"North Dakota\", \"Record_ID\": 9}, {\"id\": 39, \"State\": \"Ohio\", \"Record_ID\": 481}, {\"id\": 40, \"State\": \"Oklahoma\", \"Record_ID\": 209}, {\"id\": 41, \"State\": \"Oregon\", \"Record_ID\": 93}, {\"id\": 42, \"State\": \"Pennsylvania\", \"Record_ID\": 699}, {\"id\": 45, \"State\": \"South Carolina\", \"Record_ID\": 278}, {\"id\": 46, \"State\": \"South Dakota\", \"Record_ID\": 17}, {\"id\": 47, \"State\": \"Tennessee\", \"Record_ID\": 397}, {\"id\": 48, \"State\": \"Texas\", \"Record_ID\": 1363}, {\"id\": 49, \"State\": \"Utah\", \"Record_ID\": 58}, {\"id\": 50, \"State\": \"Vermont\", \"Record_ID\": 7}, {\"id\": 51, \"State\": \"Virginia\", \"Record_ID\": 387}, {\"id\": 53, \"State\": \"Washington\", \"Record_ID\": 175}, {\"id\": 54, \"State\": \"West Virginia\", \"Record_ID\": 57}, {\"id\": 55, \"State\": \"Wisconsin\", \"Record_ID\": 170}, {\"id\": 56, \"State\": \"Wyoming\", \"Record_ID\": 8}, {\"id\": \"Rhodes Island\", \"State\": \"Rhodes Island\", \"Record_ID\": 30}], \"data-961e75a787d7d6d7078722ab3b0ccae5\": [{\"Month\": \"January\", \"Perpetrator_Sex\": \"Female\", \"State\": \"Alabama\", \"Record_ID\": 2, \"id\": 1}, {\"Month\": \"January\", \"Perpetrator_Sex\": \"Female\", \"State\": \"Alaska\", \"Record_ID\": 0, \"id\": 2}, {\"Month\": \"January\", \"Perpetrator_Sex\": \"Female\", \"State\": \"Arizona\", \"Record_ID\": 2, \"id\": 4}, {\"Month\": \"January\", \"Perpetrator_Sex\": \"Female\", \"State\": \"Arkansas\", \"Record_ID\": 0, \"id\": 5}, {\"Month\": \"January\", \"Perpetrator_Sex\": \"Female\", \"State\": \"California\", \"Record_ID\": 7, \"id\": 6}, {\"Month\": \"January\", \"Perpetrator_Sex\": \"Female\", \"State\": \"Colorado\", \"Record_ID\": 1, \"id\": 8}, {\"Month\": \"January\", \"Perpetrator_Sex\": \"Female\", \"State\": \"Connecticut\", \"Record_ID\": 0, \"id\": 9}, {\"Month\": \"January\", \"Perpetrator_Sex\": \"Female\", \"State\": \"Delaware\", \"Record_ID\": 0, \"id\": 10}, {\"Month\": \"January\", \"Perpetrator_Sex\": \"Female\", \"State\": \"District of Columbia\", \"Record_ID\": 0, \"id\": 11}, {\"Month\": \"January\", \"Perpetrator_Sex\": \"Female\", \"State\": \"Florida\", \"Record_ID\": 9, \"id\": 12}, {\"Month\": \"January\", \"Perpetrator_Sex\": \"Female\", \"State\": \"Georgia\", \"Record_ID\": 1, \"id\": 13}, {\"Month\": \"January\", \"Perpetrator_Sex\": \"Female\", \"State\": \"Hawaii\", \"Record_ID\": 0, \"id\": 15}, {\"Month\": \"January\", \"Perpetrator_Sex\": \"Female\", \"State\": \"Idaho\", \"Record_ID\": 0, \"id\": 16}, {\"Month\": \"January\", \"Perpetrator_Sex\": \"Female\", \"State\": \"Illinois\", \"Record_ID\": 1, \"id\": 17}, {\"Month\": \"January\", \"Perpetrator_Sex\": \"Female\", \"State\": \"Indiana\", \"Record_ID\": 2, \"id\": 18}, {\"Month\": \"January\", \"Perpetrator_Sex\": \"Female\", \"State\": \"Iowa\", \"Record_ID\": 0, \"id\": 19}, {\"Month\": \"January\", \"Perpetrator_Sex\": \"Female\", \"State\": \"Kansas\", \"Record_ID\": 1, \"id\": 20}, {\"Month\": \"January\", \"Perpetrator_Sex\": \"Female\", \"State\": \"Kentucky\", \"Record_ID\": 2, \"id\": 21}, {\"Month\": \"January\", \"Perpetrator_Sex\": \"Female\", \"State\": \"Louisiana\", \"Record_ID\": 1, \"id\": 22}, {\"Month\": \"January\", \"Perpetrator_Sex\": \"Female\", \"State\": \"Maine\", \"Record_ID\": 0, \"id\": 23}, {\"Month\": \"January\", \"Perpetrator_Sex\": \"Female\", \"State\": \"Maryland\", \"Record_ID\": 0, \"id\": 24}, {\"Month\": \"January\", \"Perpetrator_Sex\": \"Female\", \"State\": \"Massachusetts\", \"Record_ID\": 0, \"id\": 25}, {\"Month\": \"January\", \"Perpetrator_Sex\": \"Female\", \"State\": \"Michigan\", \"Record_ID\": 3, \"id\": 26}, {\"Month\": \"January\", \"Perpetrator_Sex\": \"Female\", \"State\": \"Minnesota\", \"Record_ID\": 0, \"id\": 27}, {\"Month\": \"January\", \"Perpetrator_Sex\": \"Female\", \"State\": \"Mississippi\", \"Record_ID\": 0, \"id\": 28}, {\"Month\": \"January\", \"Perpetrator_Sex\": \"Female\", \"State\": \"Missouri\", \"Record_ID\": 3, \"id\": 29}, {\"Month\": \"January\", \"Perpetrator_Sex\": \"Female\", \"State\": \"Montana\", \"Record_ID\": 0, \"id\": 30}, {\"Month\": \"January\", \"Perpetrator_Sex\": \"Female\", \"State\": \"Nebraska\", \"Record_ID\": 0, \"id\": 31}, {\"Month\": \"January\", \"Perpetrator_Sex\": \"Female\", \"State\": \"Nevada\", \"Record_ID\": 0, \"id\": 32}, {\"Month\": \"January\", \"Perpetrator_Sex\": \"Female\", \"State\": \"New Hampshire\", \"Record_ID\": 0, \"id\": 33}, {\"Month\": \"January\", \"Perpetrator_Sex\": \"Female\", \"State\": \"New Jersey\", \"Record_ID\": 1, \"id\": 34}, {\"Month\": \"January\", \"Perpetrator_Sex\": \"Female\", \"State\": \"New Mexico\", \"Record_ID\": 1, \"id\": 35}, {\"Month\": \"January\", \"Perpetrator_Sex\": \"Female\", \"State\": \"New York\", \"Record_ID\": 6, \"id\": 36}, {\"Month\": \"January\", \"Perpetrator_Sex\": \"Female\", \"State\": \"North Carolina\", \"Record_ID\": 1, \"id\": 37}, {\"Month\": \"January\", \"Perpetrator_Sex\": \"Female\", \"State\": \"North Dakota\", \"Record_ID\": 0, \"id\": 38}, {\"Month\": \"January\", \"Perpetrator_Sex\": \"Female\", \"State\": \"Ohio\", \"Record_ID\": 2, \"id\": 39}, {\"Month\": \"January\", \"Perpetrator_Sex\": \"Female\", \"State\": \"Oklahoma\", \"Record_ID\": 0, \"id\": 40}, {\"Month\": \"January\", \"Perpetrator_Sex\": \"Female\", \"State\": \"Oregon\", \"Record_ID\": 0, \"id\": 41}, {\"Month\": \"January\", \"Perpetrator_Sex\": \"Female\", \"State\": \"Pennsylvania\", \"Record_ID\": 0, \"id\": 42}, {\"Month\": \"January\", \"Perpetrator_Sex\": \"Female\", \"State\": \"Rhodes Island\", \"Record_ID\": 0, \"id\": \"Rhodes Island\"}, {\"Month\": \"January\", \"Perpetrator_Sex\": \"Female\", \"State\": \"South Carolina\", \"Record_ID\": 4, \"id\": 45}, {\"Month\": \"January\", \"Perpetrator_Sex\": \"Female\", \"State\": \"South Dakota\", \"Record_ID\": 0, \"id\": 46}, {\"Month\": \"January\", \"Perpetrator_Sex\": \"Female\", \"State\": \"Tennessee\", \"Record_ID\": 1, \"id\": 47}, {\"Month\": \"January\", \"Perpetrator_Sex\": \"Female\", \"State\": \"Texas\", \"Record_ID\": 6, \"id\": 48}, {\"Month\": \"January\", \"Perpetrator_Sex\": \"Female\", \"State\": \"Utah\", \"Record_ID\": 3, \"id\": 49}, {\"Month\": \"January\", \"Perpetrator_Sex\": \"Female\", \"State\": \"Vermont\", \"Record_ID\": 0, \"id\": 50}, {\"Month\": \"January\", \"Perpetrator_Sex\": \"Female\", \"State\": \"Virginia\", \"Record_ID\": 4, \"id\": 51}, {\"Month\": \"January\", \"Perpetrator_Sex\": \"Female\", \"State\": \"Washington\", \"Record_ID\": 0, \"id\": 53}, {\"Month\": \"January\", \"Perpetrator_Sex\": \"Female\", \"State\": \"West Virginia\", \"Record_ID\": 0, \"id\": 54}, {\"Month\": \"January\", \"Perpetrator_Sex\": \"Female\", \"State\": \"Wisconsin\", \"Record_ID\": 2, \"id\": 55}, {\"Month\": \"January\", \"Perpetrator_Sex\": \"Female\", \"State\": \"Wyoming\", \"Record_ID\": 1, \"id\": 56}, {\"Month\": \"January\", \"Perpetrator_Sex\": \"Male\", \"State\": \"Alabama\", \"Record_ID\": 14, \"id\": 1}, {\"Month\": \"January\", \"Perpetrator_Sex\": \"Male\", \"State\": \"Alaska\", \"Record_ID\": 0, \"id\": 2}, {\"Month\": \"January\", \"Perpetrator_Sex\": \"Male\", \"State\": \"Arizona\", \"Record_ID\": 23, \"id\": 4}, {\"Month\": \"January\", \"Perpetrator_Sex\": \"Male\", \"State\": \"Arkansas\", \"Record_ID\": 11, \"id\": 5}, {\"Month\": \"January\", \"Perpetrator_Sex\": \"Male\", \"State\": \"California\", \"Record_ID\": 94, \"id\": 6}, {\"Month\": \"January\", \"Perpetrator_Sex\": \"Male\", \"State\": \"Colorado\", \"Record_ID\": 6, \"id\": 8}, {\"Month\": \"January\", \"Perpetrator_Sex\": \"Male\", \"State\": \"Connecticut\", \"Record_ID\": 7, \"id\": 9}, {\"Month\": \"January\", \"Perpetrator_Sex\": \"Male\", \"State\": \"Delaware\", \"Record_ID\": 4, \"id\": 10}, {\"Month\": \"January\", \"Perpetrator_Sex\": \"Male\", \"State\": \"District of Columbia\", \"Record_ID\": 5, \"id\": 11}, {\"Month\": \"January\", \"Perpetrator_Sex\": \"Male\", \"State\": \"Florida\", \"Record_ID\": 66, \"id\": 12}, {\"Month\": \"January\", \"Perpetrator_Sex\": \"Male\", \"State\": \"Georgia\", \"Record_ID\": 38, \"id\": 13}, {\"Month\": \"January\", \"Perpetrator_Sex\": \"Male\", \"State\": \"Hawaii\", \"Record_ID\": 5, \"id\": 15}, {\"Month\": \"January\", \"Perpetrator_Sex\": \"Male\", \"State\": \"Idaho\", \"Record_ID\": 2, \"id\": 16}, {\"Month\": \"January\", \"Perpetrator_Sex\": \"Male\", \"State\": \"Illinois\", \"Record_ID\": 11, \"id\": 17}, {\"Month\": \"January\", \"Perpetrator_Sex\": \"Male\", \"State\": \"Indiana\", \"Record_ID\": 22, \"id\": 18}, {\"Month\": \"January\", \"Perpetrator_Sex\": \"Male\", \"State\": \"Iowa\", \"Record_ID\": 6, \"id\": 19}, {\"Month\": \"January\", \"Perpetrator_Sex\": \"Male\", \"State\": \"Kansas\", \"Record_ID\": 9, \"id\": 20}, {\"Month\": \"January\", \"Perpetrator_Sex\": \"Male\", \"State\": \"Kentucky\", \"Record_ID\": 13, \"id\": 21}, {\"Month\": \"January\", \"Perpetrator_Sex\": \"Male\", \"State\": \"Louisiana\", \"Record_ID\": 28, \"id\": 22}, {\"Month\": \"January\", \"Perpetrator_Sex\": \"Male\", \"State\": \"Maine\", \"Record_ID\": 1, \"id\": 23}, {\"Month\": \"January\", \"Perpetrator_Sex\": \"Male\", \"State\": \"Maryland\", \"Record_ID\": 8, \"id\": 24}, {\"Month\": \"January\", \"Perpetrator_Sex\": \"Male\", \"State\": \"Massachusetts\", \"Record_ID\": 10, \"id\": 25}, {\"Month\": \"January\", \"Perpetrator_Sex\": \"Male\", \"State\": \"Michigan\", \"Record_ID\": 36, \"id\": 26}, {\"Month\": \"January\", \"Perpetrator_Sex\": \"Male\", \"State\": \"Minnesota\", \"Record_ID\": 12, \"id\": 27}, {\"Month\": \"January\", \"Perpetrator_Sex\": \"Male\", \"State\": \"Mississippi\", \"Record_ID\": 11, \"id\": 28}, {\"Month\": \"January\", \"Perpetrator_Sex\": \"Male\", \"State\": \"Missouri\", \"Record_ID\": 24, \"id\": 29}, {\"Month\": \"January\", \"Perpetrator_Sex\": \"Male\", \"State\": \"Montana\", \"Record_ID\": 4, \"id\": 30}, {\"Month\": \"January\", \"Perpetrator_Sex\": \"Male\", \"State\": \"Nebraska\", \"Record_ID\": 1, \"id\": 31}, {\"Month\": \"January\", \"Perpetrator_Sex\": \"Male\", \"State\": \"Nevada\", \"Record_ID\": 15, \"id\": 32}, {\"Month\": \"January\", \"Perpetrator_Sex\": \"Male\", \"State\": \"New Hampshire\", \"Record_ID\": 1, \"id\": 33}, {\"Month\": \"January\", \"Perpetrator_Sex\": \"Male\", \"State\": \"New Jersey\", \"Record_ID\": 20, \"id\": 34}, {\"Month\": \"January\", \"Perpetrator_Sex\": \"Male\", \"State\": \"New Mexico\", \"Record_ID\": 13, \"id\": 35}, {\"Month\": \"January\", \"Perpetrator_Sex\": \"Male\", \"State\": \"New York\", \"Record_ID\": 47, \"id\": 36}, {\"Month\": \"January\", \"Perpetrator_Sex\": \"Male\", \"State\": \"North Carolina\", \"Record_ID\": 25, \"id\": 37}, {\"Month\": \"January\", \"Perpetrator_Sex\": \"Male\", \"State\": \"North Dakota\", \"Record_ID\": 0, \"id\": 38}, {\"Month\": \"January\", \"Perpetrator_Sex\": \"Male\", \"State\": \"Ohio\", \"Record_ID\": 18, \"id\": 39}, {\"Month\": \"January\", \"Perpetrator_Sex\": \"Male\", \"State\": \"Oklahoma\", \"Record_ID\": 17, \"id\": 40}, {\"Month\": \"January\", \"Perpetrator_Sex\": \"Male\", \"State\": \"Oregon\", \"Record_ID\": 8, \"id\": 41}, {\"Month\": \"January\", \"Perpetrator_Sex\": \"Male\", \"State\": \"Pennsylvania\", \"Record_ID\": 39, \"id\": 42}, {\"Month\": \"January\", \"Perpetrator_Sex\": \"Male\", \"State\": \"Rhodes Island\", \"Record_ID\": 2, \"id\": \"Rhodes Island\"}, {\"Month\": \"January\", \"Perpetrator_Sex\": \"Male\", \"State\": \"South Carolina\", \"Record_ID\": 16, \"id\": 45}, {\"Month\": \"January\", \"Perpetrator_Sex\": \"Male\", \"State\": \"South Dakota\", \"Record_ID\": 1, \"id\": 46}, {\"Month\": \"January\", \"Perpetrator_Sex\": \"Male\", \"State\": \"Tennessee\", \"Record_ID\": 24, \"id\": 47}, {\"Month\": \"January\", \"Perpetrator_Sex\": \"Male\", \"State\": \"Texas\", \"Record_ID\": 77, \"id\": 48}, {\"Month\": \"January\", \"Perpetrator_Sex\": \"Male\", \"State\": \"Utah\", \"Record_ID\": 3, \"id\": 49}, {\"Month\": \"January\", \"Perpetrator_Sex\": \"Male\", \"State\": \"Vermont\", \"Record_ID\": 0, \"id\": 50}, {\"Month\": \"January\", \"Perpetrator_Sex\": \"Male\", \"State\": \"Virginia\", \"Record_ID\": 28, \"id\": 51}, {\"Month\": \"January\", \"Perpetrator_Sex\": \"Male\", \"State\": \"Washington\", \"Record_ID\": 7, \"id\": 53}, {\"Month\": \"January\", \"Perpetrator_Sex\": \"Male\", \"State\": \"West Virginia\", \"Record_ID\": 3, \"id\": 54}, {\"Month\": \"January\", \"Perpetrator_Sex\": \"Male\", \"State\": \"Wisconsin\", \"Record_ID\": 7, \"id\": 55}, {\"Month\": \"January\", \"Perpetrator_Sex\": \"Male\", \"State\": \"Wyoming\", \"Record_ID\": 1, \"id\": 56}, {\"Month\": \"January\", \"Perpetrator_Sex\": \"Unknown\", \"State\": \"Alabama\", \"Record_ID\": 3, \"id\": 1}, {\"Month\": \"January\", \"Perpetrator_Sex\": \"Unknown\", \"State\": \"Alaska\", \"Record_ID\": 1, \"id\": 2}, {\"Month\": \"January\", \"Perpetrator_Sex\": \"Unknown\", \"State\": \"Arizona\", \"Record_ID\": 4, \"id\": 4}, {\"Month\": \"January\", \"Perpetrator_Sex\": \"Unknown\", \"State\": \"Arkansas\", \"Record_ID\": 3, \"id\": 5}, {\"Month\": \"January\", \"Perpetrator_Sex\": \"Unknown\", \"State\": \"California\", \"Record_ID\": 62, \"id\": 6}, {\"Month\": \"January\", \"Perpetrator_Sex\": \"Unknown\", \"State\": \"Colorado\", \"Record_ID\": 4, \"id\": 8}, {\"Month\": \"January\", \"Perpetrator_Sex\": \"Unknown\", \"State\": \"Connecticut\", \"Record_ID\": 5, \"id\": 9}, {\"Month\": \"January\", \"Perpetrator_Sex\": \"Unknown\", \"State\": \"Delaware\", \"Record_ID\": 0, \"id\": 10}, {\"Month\": \"January\", \"Perpetrator_Sex\": \"Unknown\", \"State\": \"District of Columbia\", \"Record_ID\": 4, \"id\": 11}, {\"Month\": \"January\", \"Perpetrator_Sex\": \"Unknown\", \"State\": \"Florida\", \"Record_ID\": 17, \"id\": 12}, {\"Month\": \"January\", \"Perpetrator_Sex\": \"Unknown\", \"State\": \"Georgia\", \"Record_ID\": 11, \"id\": 13}, {\"Month\": \"January\", \"Perpetrator_Sex\": \"Unknown\", \"State\": \"Hawaii\", \"Record_ID\": 0, \"id\": 15}, {\"Month\": \"January\", \"Perpetrator_Sex\": \"Unknown\", \"State\": \"Idaho\", \"Record_ID\": 0, \"id\": 16}, {\"Month\": \"January\", \"Perpetrator_Sex\": \"Unknown\", \"State\": \"Illinois\", \"Record_ID\": 8, \"id\": 17}, {\"Month\": \"January\", \"Perpetrator_Sex\": \"Unknown\", \"State\": \"Indiana\", \"Record_ID\": 9, \"id\": 18}, {\"Month\": \"January\", \"Perpetrator_Sex\": \"Unknown\", \"State\": \"Iowa\", \"Record_ID\": 0, \"id\": 19}, {\"Month\": \"January\", \"Perpetrator_Sex\": \"Unknown\", \"State\": \"Kansas\", \"Record_ID\": 2, \"id\": 20}, {\"Month\": \"January\", \"Perpetrator_Sex\": \"Unknown\", \"State\": \"Kentucky\", \"Record_ID\": 5, \"id\": 21}, {\"Month\": \"January\", \"Perpetrator_Sex\": \"Unknown\", \"State\": \"Louisiana\", \"Record_ID\": 13, \"id\": 22}, {\"Month\": \"January\", \"Perpetrator_Sex\": \"Unknown\", \"State\": \"Maine\", \"Record_ID\": 1, \"id\": 23}, {\"Month\": \"January\", \"Perpetrator_Sex\": \"Unknown\", \"State\": \"Maryland\", \"Record_ID\": 12, \"id\": 24}, {\"Month\": \"January\", \"Perpetrator_Sex\": \"Unknown\", \"State\": \"Massachusetts\", \"Record_ID\": 8, \"id\": 25}, {\"Month\": \"January\", \"Perpetrator_Sex\": \"Unknown\", \"State\": \"Michigan\", \"Record_ID\": 13, \"id\": 26}, {\"Month\": \"January\", \"Perpetrator_Sex\": \"Unknown\", \"State\": \"Minnesota\", \"Record_ID\": 1, \"id\": 27}, {\"Month\": \"January\", \"Perpetrator_Sex\": \"Unknown\", \"State\": \"Mississippi\", \"Record_ID\": 1, \"id\": 28}, {\"Month\": \"January\", \"Perpetrator_Sex\": \"Unknown\", \"State\": \"Missouri\", \"Record_ID\": 13, \"id\": 29}, {\"Month\": \"January\", \"Perpetrator_Sex\": \"Unknown\", \"State\": \"Montana\", \"Record_ID\": 0, \"id\": 30}, {\"Month\": \"January\", \"Perpetrator_Sex\": \"Unknown\", \"State\": \"Nebraska\", \"Record_ID\": 1, \"id\": 31}, {\"Month\": \"January\", \"Perpetrator_Sex\": \"Unknown\", \"State\": \"Nevada\", \"Record_ID\": 7, \"id\": 32}, {\"Month\": \"January\", \"Perpetrator_Sex\": \"Unknown\", \"State\": \"New Hampshire\", \"Record_ID\": 0, \"id\": 33}, {\"Month\": \"January\", \"Perpetrator_Sex\": \"Unknown\", \"State\": \"New Jersey\", \"Record_ID\": 7, \"id\": 34}, {\"Month\": \"January\", \"Perpetrator_Sex\": \"Unknown\", \"State\": \"New Mexico\", \"Record_ID\": 3, \"id\": 35}, {\"Month\": \"January\", \"Perpetrator_Sex\": \"Unknown\", \"State\": \"New York\", \"Record_ID\": 17, \"id\": 36}, {\"Month\": \"January\", \"Perpetrator_Sex\": \"Unknown\", \"State\": \"North Carolina\", \"Record_ID\": 12, \"id\": 37}, {\"Month\": \"January\", \"Perpetrator_Sex\": \"Unknown\", \"State\": \"North Dakota\", \"Record_ID\": 0, \"id\": 38}, {\"Month\": \"January\", \"Perpetrator_Sex\": \"Unknown\", \"State\": \"Ohio\", \"Record_ID\": 9, \"id\": 39}, {\"Month\": \"January\", \"Perpetrator_Sex\": \"Unknown\", \"State\": \"Oklahoma\", \"Record_ID\": 1, \"id\": 40}, {\"Month\": \"January\", \"Perpetrator_Sex\": \"Unknown\", \"State\": \"Oregon\", \"Record_ID\": 0, \"id\": 41}, {\"Month\": \"January\", \"Perpetrator_Sex\": \"Unknown\", \"State\": \"Pennsylvania\", \"Record_ID\": 7, \"id\": 42}, {\"Month\": \"January\", \"Perpetrator_Sex\": \"Unknown\", \"State\": \"Rhodes Island\", \"Record_ID\": 1, \"id\": \"Rhodes Island\"}, {\"Month\": \"January\", \"Perpetrator_Sex\": \"Unknown\", \"State\": \"South Carolina\", \"Record_ID\": 5, \"id\": 45}, {\"Month\": \"January\", \"Perpetrator_Sex\": \"Unknown\", \"State\": \"South Dakota\", \"Record_ID\": 0, \"id\": 46}, {\"Month\": \"January\", \"Perpetrator_Sex\": \"Unknown\", \"State\": \"Tennessee\", \"Record_ID\": 6, \"id\": 47}, {\"Month\": \"January\", \"Perpetrator_Sex\": \"Unknown\", \"State\": \"Texas\", \"Record_ID\": 24, \"id\": 48}, {\"Month\": \"January\", \"Perpetrator_Sex\": \"Unknown\", \"State\": \"Utah\", \"Record_ID\": 0, \"id\": 49}, {\"Month\": \"January\", \"Perpetrator_Sex\": \"Unknown\", \"State\": \"Vermont\", \"Record_ID\": 0, \"id\": 50}, {\"Month\": \"January\", \"Perpetrator_Sex\": \"Unknown\", \"State\": \"Virginia\", \"Record_ID\": 5, \"id\": 51}, {\"Month\": \"January\", \"Perpetrator_Sex\": \"Unknown\", \"State\": \"Washington\", \"Record_ID\": 4, \"id\": 53}, {\"Month\": \"January\", \"Perpetrator_Sex\": \"Unknown\", \"State\": \"West Virginia\", \"Record_ID\": 1, \"id\": 54}, {\"Month\": \"January\", \"Perpetrator_Sex\": \"Unknown\", \"State\": \"Wisconsin\", \"Record_ID\": 0, \"id\": 55}, {\"Month\": \"January\", \"Perpetrator_Sex\": \"Unknown\", \"State\": \"Wyoming\", \"Record_ID\": 0, \"id\": 56}, {\"Month\": \"February\", \"Perpetrator_Sex\": \"Female\", \"State\": \"Alabama\", \"Record_ID\": 2, \"id\": 1}, {\"Month\": \"February\", \"Perpetrator_Sex\": \"Female\", \"State\": \"Alaska\", \"Record_ID\": 0, \"id\": 2}, {\"Month\": \"February\", \"Perpetrator_Sex\": \"Female\", \"State\": \"Arizona\", \"Record_ID\": 0, \"id\": 4}, {\"Month\": \"February\", \"Perpetrator_Sex\": \"Female\", \"State\": \"Arkansas\", \"Record_ID\": 1, \"id\": 5}, {\"Month\": \"February\", \"Perpetrator_Sex\": \"Female\", \"State\": \"California\", \"Record_ID\": 5, \"id\": 6}, {\"Month\": \"February\", \"Perpetrator_Sex\": \"Female\", \"State\": \"Colorado\", \"Record_ID\": 1, \"id\": 8}, {\"Month\": \"February\", \"Perpetrator_Sex\": \"Female\", \"State\": \"Connecticut\", \"Record_ID\": 0, \"id\": 9}, {\"Month\": \"February\", \"Perpetrator_Sex\": \"Female\", \"State\": \"Delaware\", \"Record_ID\": 0, \"id\": 10}, {\"Month\": \"February\", \"Perpetrator_Sex\": \"Female\", \"State\": \"District of Columbia\", \"Record_ID\": 0, \"id\": 11}, {\"Month\": \"February\", \"Perpetrator_Sex\": \"Female\", \"State\": \"Florida\", \"Record_ID\": 5, \"id\": 12}, {\"Month\": \"February\", \"Perpetrator_Sex\": \"Female\", \"State\": \"Georgia\", \"Record_ID\": 6, \"id\": 13}, {\"Month\": \"February\", \"Perpetrator_Sex\": \"Female\", \"State\": \"Hawaii\", \"Record_ID\": 0, \"id\": 15}, {\"Month\": \"February\", \"Perpetrator_Sex\": \"Female\", \"State\": \"Idaho\", \"Record_ID\": 0, \"id\": 16}, {\"Month\": \"February\", \"Perpetrator_Sex\": \"Female\", \"State\": \"Illinois\", \"Record_ID\": 1, \"id\": 17}, {\"Month\": \"February\", \"Perpetrator_Sex\": \"Female\", \"State\": \"Indiana\", \"Record_ID\": 0, \"id\": 18}, {\"Month\": \"February\", \"Perpetrator_Sex\": \"Female\", \"State\": \"Iowa\", \"Record_ID\": 1, \"id\": 19}, {\"Month\": \"February\", \"Perpetrator_Sex\": \"Female\", \"State\": \"Kansas\", \"Record_ID\": 0, \"id\": 20}, {\"Month\": \"February\", \"Perpetrator_Sex\": \"Female\", \"State\": \"Kentucky\", \"Record_ID\": 2, \"id\": 21}, {\"Month\": \"February\", \"Perpetrator_Sex\": \"Female\", \"State\": \"Louisiana\", \"Record_ID\": 0, \"id\": 22}, {\"Month\": \"February\", \"Perpetrator_Sex\": \"Female\", \"State\": \"Maine\", \"Record_ID\": 0, \"id\": 23}, {\"Month\": \"February\", \"Perpetrator_Sex\": \"Female\", \"State\": \"Maryland\", \"Record_ID\": 0, \"id\": 24}, {\"Month\": \"February\", \"Perpetrator_Sex\": \"Female\", \"State\": \"Massachusetts\", \"Record_ID\": 2, \"id\": 25}, {\"Month\": \"February\", \"Perpetrator_Sex\": \"Female\", \"State\": \"Michigan\", \"Record_ID\": 3, \"id\": 26}, {\"Month\": \"February\", \"Perpetrator_Sex\": \"Female\", \"State\": \"Minnesota\", \"Record_ID\": 0, \"id\": 27}, {\"Month\": \"February\", \"Perpetrator_Sex\": \"Female\", \"State\": \"Mississippi\", \"Record_ID\": 1, \"id\": 28}, {\"Month\": \"February\", \"Perpetrator_Sex\": \"Female\", \"State\": \"Missouri\", \"Record_ID\": 1, \"id\": 29}, {\"Month\": \"February\", \"Perpetrator_Sex\": \"Female\", \"State\": \"Montana\", \"Record_ID\": 0, \"id\": 30}, {\"Month\": \"February\", \"Perpetrator_Sex\": \"Female\", \"State\": \"Nebraska\", \"Record_ID\": 0, \"id\": 31}, {\"Month\": \"February\", \"Perpetrator_Sex\": \"Female\", \"State\": \"Nevada\", \"Record_ID\": 2, \"id\": 32}, {\"Month\": \"February\", \"Perpetrator_Sex\": \"Female\", \"State\": \"New Hampshire\", \"Record_ID\": 0, \"id\": 33}, {\"Month\": \"February\", \"Perpetrator_Sex\": \"Female\", \"State\": \"New Jersey\", \"Record_ID\": 1, \"id\": 34}, {\"Month\": \"February\", \"Perpetrator_Sex\": \"Female\", \"State\": \"New Mexico\", \"Record_ID\": 2, \"id\": 35}, {\"Month\": \"February\", \"Perpetrator_Sex\": \"Female\", \"State\": \"New York\", \"Record_ID\": 5, \"id\": 36}, {\"Month\": \"February\", \"Perpetrator_Sex\": \"Female\", \"State\": \"North Carolina\", \"Record_ID\": 2, \"id\": 37}, {\"Month\": \"February\", \"Perpetrator_Sex\": \"Female\", \"State\": \"North Dakota\", \"Record_ID\": 0, \"id\": 38}, {\"Month\": \"February\", \"Perpetrator_Sex\": \"Female\", \"State\": \"Ohio\", \"Record_ID\": 6, \"id\": 39}, {\"Month\": \"February\", \"Perpetrator_Sex\": \"Female\", \"State\": \"Oklahoma\", \"Record_ID\": 1, \"id\": 40}, {\"Month\": \"February\", \"Perpetrator_Sex\": \"Female\", \"State\": \"Oregon\", \"Record_ID\": 0, \"id\": 41}, {\"Month\": \"February\", \"Perpetrator_Sex\": \"Female\", \"State\": \"Pennsylvania\", \"Record_ID\": 3, \"id\": 42}, {\"Month\": \"February\", \"Perpetrator_Sex\": \"Female\", \"State\": \"Rhodes Island\", \"Record_ID\": 0, \"id\": \"Rhodes Island\"}, {\"Month\": \"February\", \"Perpetrator_Sex\": \"Female\", \"State\": \"South Carolina\", \"Record_ID\": 6, \"id\": 45}, {\"Month\": \"February\", \"Perpetrator_Sex\": \"Female\", \"State\": \"South Dakota\", \"Record_ID\": 0, \"id\": 46}, {\"Month\": \"February\", \"Perpetrator_Sex\": \"Female\", \"State\": \"Tennessee\", \"Record_ID\": 3, \"id\": 47}, {\"Month\": \"February\", \"Perpetrator_Sex\": \"Female\", \"State\": \"Texas\", \"Record_ID\": 9, \"id\": 48}, {\"Month\": \"February\", \"Perpetrator_Sex\": \"Female\", \"State\": \"Utah\", \"Record_ID\": 0, \"id\": 49}, {\"Month\": \"February\", \"Perpetrator_Sex\": \"Female\", \"State\": \"Vermont\", \"Record_ID\": 0, \"id\": 50}, {\"Month\": \"February\", \"Perpetrator_Sex\": \"Female\", \"State\": \"Virginia\", \"Record_ID\": 5, \"id\": 51}, {\"Month\": \"February\", \"Perpetrator_Sex\": \"Female\", \"State\": \"Washington\", \"Record_ID\": 0, \"id\": 53}, {\"Month\": \"February\", \"Perpetrator_Sex\": \"Female\", \"State\": \"West Virginia\", \"Record_ID\": 1, \"id\": 54}, {\"Month\": \"February\", \"Perpetrator_Sex\": \"Female\", \"State\": \"Wisconsin\", \"Record_ID\": 3, \"id\": 55}, {\"Month\": \"February\", \"Perpetrator_Sex\": \"Female\", \"State\": \"Wyoming\", \"Record_ID\": 0, \"id\": 56}, {\"Month\": \"February\", \"Perpetrator_Sex\": \"Male\", \"State\": \"Alabama\", \"Record_ID\": 9, \"id\": 1}, {\"Month\": \"February\", \"Perpetrator_Sex\": \"Male\", \"State\": \"Alaska\", \"Record_ID\": 2, \"id\": 2}, {\"Month\": \"February\", \"Perpetrator_Sex\": \"Male\", \"State\": \"Arizona\", \"Record_ID\": 19, \"id\": 4}, {\"Month\": \"February\", \"Perpetrator_Sex\": \"Male\", \"State\": \"Arkansas\", \"Record_ID\": 7, \"id\": 5}, {\"Month\": \"February\", \"Perpetrator_Sex\": \"Male\", \"State\": \"California\", \"Record_ID\": 67, \"id\": 6}, {\"Month\": \"February\", \"Perpetrator_Sex\": \"Male\", \"State\": \"Colorado\", \"Record_ID\": 4, \"id\": 8}, {\"Month\": \"February\", \"Perpetrator_Sex\": \"Male\", \"State\": \"Connecticut\", \"Record_ID\": 7, \"id\": 9}, {\"Month\": \"February\", \"Perpetrator_Sex\": \"Male\", \"State\": \"Delaware\", \"Record_ID\": 8, \"id\": 10}, {\"Month\": \"February\", \"Perpetrator_Sex\": \"Male\", \"State\": \"District of Columbia\", \"Record_ID\": 3, \"id\": 11}, {\"Month\": \"February\", \"Perpetrator_Sex\": \"Male\", \"State\": \"Florida\", \"Record_ID\": 50, \"id\": 12}, {\"Month\": \"February\", \"Perpetrator_Sex\": \"Male\", \"State\": \"Georgia\", \"Record_ID\": 24, \"id\": 13}, {\"Month\": \"February\", \"Perpetrator_Sex\": \"Male\", \"State\": \"Hawaii\", \"Record_ID\": 1, \"id\": 15}, {\"Month\": \"February\", \"Perpetrator_Sex\": \"Male\", \"State\": \"Idaho\", \"Record_ID\": 1, \"id\": 16}, {\"Month\": \"February\", \"Perpetrator_Sex\": \"Male\", \"State\": \"Illinois\", \"Record_ID\": 16, \"id\": 17}, {\"Month\": \"February\", \"Perpetrator_Sex\": \"Male\", \"State\": \"Indiana\", \"Record_ID\": 12, \"id\": 18}, {\"Month\": \"February\", \"Perpetrator_Sex\": \"Male\", \"State\": \"Iowa\", \"Record_ID\": 1, \"id\": 19}, {\"Month\": \"February\", \"Perpetrator_Sex\": \"Male\", \"State\": \"Kansas\", \"Record_ID\": 4, \"id\": 20}, {\"Month\": \"February\", \"Perpetrator_Sex\": \"Male\", \"State\": \"Kentucky\", \"Record_ID\": 1, \"id\": 21}, {\"Month\": \"February\", \"Perpetrator_Sex\": \"Male\", \"State\": \"Louisiana\", \"Record_ID\": 21, \"id\": 22}, {\"Month\": \"February\", \"Perpetrator_Sex\": \"Male\", \"State\": \"Maine\", \"Record_ID\": 2, \"id\": 23}, {\"Month\": \"February\", \"Perpetrator_Sex\": \"Male\", \"State\": \"Maryland\", \"Record_ID\": 11, \"id\": 24}, {\"Month\": \"February\", \"Perpetrator_Sex\": \"Male\", \"State\": \"Massachusetts\", \"Record_ID\": 10, \"id\": 25}, {\"Month\": \"February\", \"Perpetrator_Sex\": \"Male\", \"State\": \"Michigan\", \"Record_ID\": 25, \"id\": 26}, {\"Month\": \"February\", \"Perpetrator_Sex\": \"Male\", \"State\": \"Minnesota\", \"Record_ID\": 8, \"id\": 27}, {\"Month\": \"February\", \"Perpetrator_Sex\": \"Male\", \"State\": \"Mississippi\", \"Record_ID\": 8, \"id\": 28}, {\"Month\": \"February\", \"Perpetrator_Sex\": \"Male\", \"State\": \"Missouri\", \"Record_ID\": 18, \"id\": 29}, {\"Month\": \"February\", \"Perpetrator_Sex\": \"Male\", \"State\": \"Montana\", \"Record_ID\": 1, \"id\": 30}, {\"Month\": \"February\", \"Perpetrator_Sex\": \"Male\", \"State\": \"Nebraska\", \"Record_ID\": 3, \"id\": 31}, {\"Month\": \"February\", \"Perpetrator_Sex\": \"Male\", \"State\": \"Nevada\", \"Record_ID\": 5, \"id\": 32}, {\"Month\": \"February\", \"Perpetrator_Sex\": \"Male\", \"State\": \"New Hampshire\", \"Record_ID\": 0, \"id\": 33}, {\"Month\": \"February\", \"Perpetrator_Sex\": \"Male\", \"State\": \"New Jersey\", \"Record_ID\": 21, \"id\": 34}, {\"Month\": \"February\", \"Perpetrator_Sex\": \"Male\", \"State\": \"New Mexico\", \"Record_ID\": 10, \"id\": 35}, {\"Month\": \"February\", \"Perpetrator_Sex\": \"Male\", \"State\": \"New York\", \"Record_ID\": 33, \"id\": 36}, {\"Month\": \"February\", \"Perpetrator_Sex\": \"Male\", \"State\": \"North Carolina\", \"Record_ID\": 20, \"id\": 37}, {\"Month\": \"February\", \"Perpetrator_Sex\": \"Male\", \"State\": \"North Dakota\", \"Record_ID\": 2, \"id\": 38}, {\"Month\": \"February\", \"Perpetrator_Sex\": \"Male\", \"State\": \"Ohio\", \"Record_ID\": 18, \"id\": 39}, {\"Month\": \"February\", \"Perpetrator_Sex\": \"Male\", \"State\": \"Oklahoma\", \"Record_ID\": 16, \"id\": 40}, {\"Month\": \"February\", \"Perpetrator_Sex\": \"Male\", \"State\": \"Oregon\", \"Record_ID\": 11, \"id\": 41}, {\"Month\": \"February\", \"Perpetrator_Sex\": \"Male\", \"State\": \"Pennsylvania\", \"Record_ID\": 30, \"id\": 42}, {\"Month\": \"February\", \"Perpetrator_Sex\": \"Male\", \"State\": \"Rhodes Island\", \"Record_ID\": 0, \"id\": \"Rhodes Island\"}, {\"Month\": \"February\", \"Perpetrator_Sex\": \"Male\", \"State\": \"South Carolina\", \"Record_ID\": 12, \"id\": 45}, {\"Month\": \"February\", \"Perpetrator_Sex\": \"Male\", \"State\": \"South Dakota\", \"Record_ID\": 0, \"id\": 46}, {\"Month\": \"February\", \"Perpetrator_Sex\": \"Male\", \"State\": \"Tennessee\", \"Record_ID\": 19, \"id\": 47}, {\"Month\": \"February\", \"Perpetrator_Sex\": \"Male\", \"State\": \"Texas\", \"Record_ID\": 74, \"id\": 48}, {\"Month\": \"February\", \"Perpetrator_Sex\": \"Male\", \"State\": \"Utah\", \"Record_ID\": 3, \"id\": 49}, {\"Month\": \"February\", \"Perpetrator_Sex\": \"Male\", \"State\": \"Vermont\", \"Record_ID\": 0, \"id\": 50}, {\"Month\": \"February\", \"Perpetrator_Sex\": \"Male\", \"State\": \"Virginia\", \"Record_ID\": 11, \"id\": 51}, {\"Month\": \"February\", \"Perpetrator_Sex\": \"Male\", \"State\": \"Washington\", \"Record_ID\": 8, \"id\": 53}, {\"Month\": \"February\", \"Perpetrator_Sex\": \"Male\", \"State\": \"West Virginia\", \"Record_ID\": 2, \"id\": 54}, {\"Month\": \"February\", \"Perpetrator_Sex\": \"Male\", \"State\": \"Wisconsin\", \"Record_ID\": 10, \"id\": 55}, {\"Month\": \"February\", \"Perpetrator_Sex\": \"Male\", \"State\": \"Wyoming\", \"Record_ID\": 1, \"id\": 56}, {\"Month\": \"February\", \"Perpetrator_Sex\": \"Unknown\", \"State\": \"Alabama\", \"Record_ID\": 5, \"id\": 1}, {\"Month\": \"February\", \"Perpetrator_Sex\": \"Unknown\", \"State\": \"Alaska\", \"Record_ID\": 0, \"id\": 2}, {\"Month\": \"February\", \"Perpetrator_Sex\": \"Unknown\", \"State\": \"Arizona\", \"Record_ID\": 4, \"id\": 4}, {\"Month\": \"February\", \"Perpetrator_Sex\": \"Unknown\", \"State\": \"Arkansas\", \"Record_ID\": 3, \"id\": 5}, {\"Month\": \"February\", \"Perpetrator_Sex\": \"Unknown\", \"State\": \"California\", \"Record_ID\": 55, \"id\": 6}, {\"Month\": \"February\", \"Perpetrator_Sex\": \"Unknown\", \"State\": \"Colorado\", \"Record_ID\": 0, \"id\": 8}, {\"Month\": \"February\", \"Perpetrator_Sex\": \"Unknown\", \"State\": \"Connecticut\", \"Record_ID\": 4, \"id\": 9}, {\"Month\": \"February\", \"Perpetrator_Sex\": \"Unknown\", \"State\": \"Delaware\", \"Record_ID\": 0, \"id\": 10}, {\"Month\": \"February\", \"Perpetrator_Sex\": \"Unknown\", \"State\": \"District of Columbia\", \"Record_ID\": 3, \"id\": 11}, {\"Month\": \"February\", \"Perpetrator_Sex\": \"Unknown\", \"State\": \"Florida\", \"Record_ID\": 21, \"id\": 12}, {\"Month\": \"February\", \"Perpetrator_Sex\": \"Unknown\", \"State\": \"Georgia\", \"Record_ID\": 6, \"id\": 13}, {\"Month\": \"February\", \"Perpetrator_Sex\": \"Unknown\", \"State\": \"Hawaii\", \"Record_ID\": 0, \"id\": 15}, {\"Month\": \"February\", \"Perpetrator_Sex\": \"Unknown\", \"State\": \"Idaho\", \"Record_ID\": 0, \"id\": 16}, {\"Month\": \"February\", \"Perpetrator_Sex\": \"Unknown\", \"State\": \"Illinois\", \"Record_ID\": 9, \"id\": 17}, {\"Month\": \"February\", \"Perpetrator_Sex\": \"Unknown\", \"State\": \"Indiana\", \"Record_ID\": 2, \"id\": 18}, {\"Month\": \"February\", \"Perpetrator_Sex\": \"Unknown\", \"State\": \"Iowa\", \"Record_ID\": 0, \"id\": 19}, {\"Month\": \"February\", \"Perpetrator_Sex\": \"Unknown\", \"State\": \"Kansas\", \"Record_ID\": 2, \"id\": 20}, {\"Month\": \"February\", \"Perpetrator_Sex\": \"Unknown\", \"State\": \"Kentucky\", \"Record_ID\": 1, \"id\": 21}, {\"Month\": \"February\", \"Perpetrator_Sex\": \"Unknown\", \"State\": \"Louisiana\", \"Record_ID\": 10, \"id\": 22}, {\"Month\": \"February\", \"Perpetrator_Sex\": \"Unknown\", \"State\": \"Maine\", \"Record_ID\": 0, \"id\": 23}, {\"Month\": \"February\", \"Perpetrator_Sex\": \"Unknown\", \"State\": \"Maryland\", \"Record_ID\": 12, \"id\": 24}, {\"Month\": \"February\", \"Perpetrator_Sex\": \"Unknown\", \"State\": \"Massachusetts\", \"Record_ID\": 3, \"id\": 25}, {\"Month\": \"February\", \"Perpetrator_Sex\": \"Unknown\", \"State\": \"Michigan\", \"Record_ID\": 5, \"id\": 26}, {\"Month\": \"February\", \"Perpetrator_Sex\": \"Unknown\", \"State\": \"Minnesota\", \"Record_ID\": 2, \"id\": 27}, {\"Month\": \"February\", \"Perpetrator_Sex\": \"Unknown\", \"State\": \"Mississippi\", \"Record_ID\": 1, \"id\": 28}, {\"Month\": \"February\", \"Perpetrator_Sex\": \"Unknown\", \"State\": \"Missouri\", \"Record_ID\": 6, \"id\": 29}, {\"Month\": \"February\", \"Perpetrator_Sex\": \"Unknown\", \"State\": \"Montana\", \"Record_ID\": 0, \"id\": 30}, {\"Month\": \"February\", \"Perpetrator_Sex\": \"Unknown\", \"State\": \"Nebraska\", \"Record_ID\": 2, \"id\": 31}, {\"Month\": \"February\", \"Perpetrator_Sex\": \"Unknown\", \"State\": \"Nevada\", \"Record_ID\": 0, \"id\": 32}, {\"Month\": \"February\", \"Perpetrator_Sex\": \"Unknown\", \"State\": \"New Hampshire\", \"Record_ID\": 0, \"id\": 33}, {\"Month\": \"February\", \"Perpetrator_Sex\": \"Unknown\", \"State\": \"New Jersey\", \"Record_ID\": 7, \"id\": 34}, {\"Month\": \"February\", \"Perpetrator_Sex\": \"Unknown\", \"State\": \"New Mexico\", \"Record_ID\": 4, \"id\": 35}, {\"Month\": \"February\", \"Perpetrator_Sex\": \"Unknown\", \"State\": \"New York\", \"Record_ID\": 23, \"id\": 36}, {\"Month\": \"February\", \"Perpetrator_Sex\": \"Unknown\", \"State\": \"North Carolina\", \"Record_ID\": 7, \"id\": 37}, {\"Month\": \"February\", \"Perpetrator_Sex\": \"Unknown\", \"State\": \"North Dakota\", \"Record_ID\": 0, \"id\": 38}, {\"Month\": \"February\", \"Perpetrator_Sex\": \"Unknown\", \"State\": \"Ohio\", \"Record_ID\": 6, \"id\": 39}, {\"Month\": \"February\", \"Perpetrator_Sex\": \"Unknown\", \"State\": \"Oklahoma\", \"Record_ID\": 2, \"id\": 40}, {\"Month\": \"February\", \"Perpetrator_Sex\": \"Unknown\", \"State\": \"Oregon\", \"Record_ID\": 0, \"id\": 41}, {\"Month\": \"February\", \"Perpetrator_Sex\": \"Unknown\", \"State\": \"Pennsylvania\", \"Record_ID\": 6, \"id\": 42}, {\"Month\": \"February\", \"Perpetrator_Sex\": \"Unknown\", \"State\": \"Rhodes Island\", \"Record_ID\": 0, \"id\": \"Rhodes Island\"}, {\"Month\": \"February\", \"Perpetrator_Sex\": \"Unknown\", \"State\": \"South Carolina\", \"Record_ID\": 2, \"id\": 45}, {\"Month\": \"February\", \"Perpetrator_Sex\": \"Unknown\", \"State\": \"South Dakota\", \"Record_ID\": 0, \"id\": 46}, {\"Month\": \"February\", \"Perpetrator_Sex\": \"Unknown\", \"State\": \"Tennessee\", \"Record_ID\": 1, \"id\": 47}, {\"Month\": \"February\", \"Perpetrator_Sex\": \"Unknown\", \"State\": \"Texas\", \"Record_ID\": 22, \"id\": 48}, {\"Month\": \"February\", \"Perpetrator_Sex\": \"Unknown\", \"State\": \"Utah\", \"Record_ID\": 0, \"id\": 49}, {\"Month\": \"February\", \"Perpetrator_Sex\": \"Unknown\", \"State\": \"Vermont\", \"Record_ID\": 0, \"id\": 50}, {\"Month\": \"February\", \"Perpetrator_Sex\": \"Unknown\", \"State\": \"Virginia\", \"Record_ID\": 6, \"id\": 51}, {\"Month\": \"February\", \"Perpetrator_Sex\": \"Unknown\", \"State\": \"Washington\", \"Record_ID\": 2, \"id\": 53}, {\"Month\": \"February\", \"Perpetrator_Sex\": \"Unknown\", \"State\": \"West Virginia\", \"Record_ID\": 1, \"id\": 54}, {\"Month\": \"February\", \"Perpetrator_Sex\": \"Unknown\", \"State\": \"Wisconsin\", \"Record_ID\": 0, \"id\": 55}, {\"Month\": \"February\", \"Perpetrator_Sex\": \"Unknown\", \"State\": \"Wyoming\", \"Record_ID\": 0, \"id\": 56}, {\"Month\": \"March\", \"Perpetrator_Sex\": \"Female\", \"State\": \"Alabama\", \"Record_ID\": 0, \"id\": 1}, {\"Month\": \"March\", \"Perpetrator_Sex\": \"Female\", \"State\": \"Alaska\", \"Record_ID\": 2, \"id\": 2}, {\"Month\": \"March\", \"Perpetrator_Sex\": \"Female\", \"State\": \"Arizona\", \"Record_ID\": 3, \"id\": 4}, {\"Month\": \"March\", \"Perpetrator_Sex\": \"Female\", \"State\": \"Arkansas\", \"Record_ID\": 0, \"id\": 5}, {\"Month\": \"March\", \"Perpetrator_Sex\": \"Female\", \"State\": \"California\", \"Record_ID\": 7, \"id\": 6}, {\"Month\": \"March\", \"Perpetrator_Sex\": \"Female\", \"State\": \"Colorado\", \"Record_ID\": 1, \"id\": 8}, {\"Month\": \"March\", \"Perpetrator_Sex\": \"Female\", \"State\": \"Connecticut\", \"Record_ID\": 0, \"id\": 9}, {\"Month\": \"March\", \"Perpetrator_Sex\": \"Female\", \"State\": \"Delaware\", \"Record_ID\": 0, \"id\": 10}, {\"Month\": \"March\", \"Perpetrator_Sex\": \"Female\", \"State\": \"District of Columbia\", \"Record_ID\": 0, \"id\": 11}, {\"Month\": \"March\", \"Perpetrator_Sex\": \"Female\", \"State\": \"Florida\", \"Record_ID\": 10, \"id\": 12}, {\"Month\": \"March\", \"Perpetrator_Sex\": \"Female\", \"State\": \"Georgia\", \"Record_ID\": 3, \"id\": 13}, {\"Month\": \"March\", \"Perpetrator_Sex\": \"Female\", \"State\": \"Hawaii\", \"Record_ID\": 1, \"id\": 15}, {\"Month\": \"March\", \"Perpetrator_Sex\": \"Female\", \"State\": \"Idaho\", \"Record_ID\": 0, \"id\": 16}, {\"Month\": \"March\", \"Perpetrator_Sex\": \"Female\", \"State\": \"Illinois\", \"Record_ID\": 0, \"id\": 17}, {\"Month\": \"March\", \"Perpetrator_Sex\": \"Female\", \"State\": \"Indiana\", \"Record_ID\": 0, \"id\": 18}, {\"Month\": \"March\", \"Perpetrator_Sex\": \"Female\", \"State\": \"Iowa\", \"Record_ID\": 1, \"id\": 19}, {\"Month\": \"March\", \"Perpetrator_Sex\": \"Female\", \"State\": \"Kansas\", \"Record_ID\": 1, \"id\": 20}, {\"Month\": \"March\", \"Perpetrator_Sex\": \"Female\", \"State\": \"Kentucky\", \"Record_ID\": 2, \"id\": 21}, {\"Month\": \"March\", \"Perpetrator_Sex\": \"Female\", \"State\": \"Louisiana\", \"Record_ID\": 2, \"id\": 22}, {\"Month\": \"March\", \"Perpetrator_Sex\": \"Female\", \"State\": \"Maine\", \"Record_ID\": 0, \"id\": 23}, {\"Month\": \"March\", \"Perpetrator_Sex\": \"Female\", \"State\": \"Maryland\", \"Record_ID\": 3, \"id\": 24}, {\"Month\": \"March\", \"Perpetrator_Sex\": \"Female\", \"State\": \"Massachusetts\", \"Record_ID\": 3, \"id\": 25}, {\"Month\": \"March\", \"Perpetrator_Sex\": \"Female\", \"State\": \"Michigan\", \"Record_ID\": 6, \"id\": 26}, {\"Month\": \"March\", \"Perpetrator_Sex\": \"Female\", \"State\": \"Minnesota\", \"Record_ID\": 0, \"id\": 27}, {\"Month\": \"March\", \"Perpetrator_Sex\": \"Female\", \"State\": \"Mississippi\", \"Record_ID\": 1, \"id\": 28}, {\"Month\": \"March\", \"Perpetrator_Sex\": \"Female\", \"State\": \"Missouri\", \"Record_ID\": 2, \"id\": 29}, {\"Month\": \"March\", \"Perpetrator_Sex\": \"Female\", \"State\": \"Montana\", \"Record_ID\": 0, \"id\": 30}, {\"Month\": \"March\", \"Perpetrator_Sex\": \"Female\", \"State\": \"Nebraska\", \"Record_ID\": 1, \"id\": 31}, {\"Month\": \"March\", \"Perpetrator_Sex\": \"Female\", \"State\": \"Nevada\", \"Record_ID\": 3, \"id\": 32}, {\"Month\": \"March\", \"Perpetrator_Sex\": \"Female\", \"State\": \"New Hampshire\", \"Record_ID\": 0, \"id\": 33}, {\"Month\": \"March\", \"Perpetrator_Sex\": \"Female\", \"State\": \"New Jersey\", \"Record_ID\": 3, \"id\": 34}, {\"Month\": \"March\", \"Perpetrator_Sex\": \"Female\", \"State\": \"New Mexico\", \"Record_ID\": 1, \"id\": 35}, {\"Month\": \"March\", \"Perpetrator_Sex\": \"Female\", \"State\": \"New York\", \"Record_ID\": 7, \"id\": 36}, {\"Month\": \"March\", \"Perpetrator_Sex\": \"Female\", \"State\": \"North Carolina\", \"Record_ID\": 1, \"id\": 37}, {\"Month\": \"March\", \"Perpetrator_Sex\": \"Female\", \"State\": \"North Dakota\", \"Record_ID\": 0, \"id\": 38}, {\"Month\": \"March\", \"Perpetrator_Sex\": \"Female\", \"State\": \"Ohio\", \"Record_ID\": 3, \"id\": 39}, {\"Month\": \"March\", \"Perpetrator_Sex\": \"Female\", \"State\": \"Oklahoma\", \"Record_ID\": 0, \"id\": 40}, {\"Month\": \"March\", \"Perpetrator_Sex\": \"Female\", \"State\": \"Oregon\", \"Record_ID\": 0, \"id\": 41}, {\"Month\": \"March\", \"Perpetrator_Sex\": \"Female\", \"State\": \"Pennsylvania\", \"Record_ID\": 2, \"id\": 42}, {\"Month\": \"March\", \"Perpetrator_Sex\": \"Female\", \"State\": \"Rhodes Island\", \"Record_ID\": 0, \"id\": \"Rhodes Island\"}, {\"Month\": \"March\", \"Perpetrator_Sex\": \"Female\", \"State\": \"South Carolina\", \"Record_ID\": 2, \"id\": 45}, {\"Month\": \"March\", \"Perpetrator_Sex\": \"Female\", \"State\": \"South Dakota\", \"Record_ID\": 0, \"id\": 46}, {\"Month\": \"March\", \"Perpetrator_Sex\": \"Female\", \"State\": \"Tennessee\", \"Record_ID\": 3, \"id\": 47}, {\"Month\": \"March\", \"Perpetrator_Sex\": \"Female\", \"State\": \"Texas\", \"Record_ID\": 5, \"id\": 48}, {\"Month\": \"March\", \"Perpetrator_Sex\": \"Female\", \"State\": \"Utah\", \"Record_ID\": 0, \"id\": 49}, {\"Month\": \"March\", \"Perpetrator_Sex\": \"Female\", \"State\": \"Vermont\", \"Record_ID\": 0, \"id\": 50}, {\"Month\": \"March\", \"Perpetrator_Sex\": \"Female\", \"State\": \"Virginia\", \"Record_ID\": 3, \"id\": 51}, {\"Month\": \"March\", \"Perpetrator_Sex\": \"Female\", \"State\": \"Washington\", \"Record_ID\": 0, \"id\": 53}, {\"Month\": \"March\", \"Perpetrator_Sex\": \"Female\", \"State\": \"West Virginia\", \"Record_ID\": 0, \"id\": 54}, {\"Month\": \"March\", \"Perpetrator_Sex\": \"Female\", \"State\": \"Wisconsin\", \"Record_ID\": 0, \"id\": 55}, {\"Month\": \"March\", \"Perpetrator_Sex\": \"Female\", \"State\": \"Wyoming\", \"Record_ID\": 0, \"id\": 56}, {\"Month\": \"March\", \"Perpetrator_Sex\": \"Male\", \"State\": \"Alabama\", \"Record_ID\": 13, \"id\": 1}, {\"Month\": \"March\", \"Perpetrator_Sex\": \"Male\", \"State\": \"Alaska\", \"Record_ID\": 4, \"id\": 2}, {\"Month\": \"March\", \"Perpetrator_Sex\": \"Male\", \"State\": \"Arizona\", \"Record_ID\": 19, \"id\": 4}, {\"Month\": \"March\", \"Perpetrator_Sex\": \"Male\", \"State\": \"Arkansas\", \"Record_ID\": 5, \"id\": 5}, {\"Month\": \"March\", \"Perpetrator_Sex\": \"Male\", \"State\": \"California\", \"Record_ID\": 99, \"id\": 6}, {\"Month\": \"March\", \"Perpetrator_Sex\": \"Male\", \"State\": \"Colorado\", \"Record_ID\": 8, \"id\": 8}, {\"Month\": \"March\", \"Perpetrator_Sex\": \"Male\", \"State\": \"Connecticut\", \"Record_ID\": 6, \"id\": 9}, {\"Month\": \"March\", \"Perpetrator_Sex\": \"Male\", \"State\": \"Delaware\", \"Record_ID\": 2, \"id\": 10}, {\"Month\": \"March\", \"Perpetrator_Sex\": \"Male\", \"State\": \"District of Columbia\", \"Record_ID\": 8, \"id\": 11}, {\"Month\": \"March\", \"Perpetrator_Sex\": \"Male\", \"State\": \"Florida\", \"Record_ID\": 60, \"id\": 12}, {\"Month\": \"March\", \"Perpetrator_Sex\": \"Male\", \"State\": \"Georgia\", \"Record_ID\": 23, \"id\": 13}, {\"Month\": \"March\", \"Perpetrator_Sex\": \"Male\", \"State\": \"Hawaii\", \"Record_ID\": 2, \"id\": 15}, {\"Month\": \"March\", \"Perpetrator_Sex\": \"Male\", \"State\": \"Idaho\", \"Record_ID\": 2, \"id\": 16}, {\"Month\": \"March\", \"Perpetrator_Sex\": \"Male\", \"State\": \"Illinois\", \"Record_ID\": 17, \"id\": 17}, {\"Month\": \"March\", \"Perpetrator_Sex\": \"Male\", \"State\": \"Indiana\", \"Record_ID\": 18, \"id\": 18}, {\"Month\": \"March\", \"Perpetrator_Sex\": \"Male\", \"State\": \"Iowa\", \"Record_ID\": 1, \"id\": 19}, {\"Month\": \"March\", \"Perpetrator_Sex\": \"Male\", \"State\": \"Kansas\", \"Record_ID\": 5, \"id\": 20}, {\"Month\": \"March\", \"Perpetrator_Sex\": \"Male\", \"State\": \"Kentucky\", \"Record_ID\": 4, \"id\": 21}, {\"Month\": \"March\", \"Perpetrator_Sex\": \"Male\", \"State\": \"Louisiana\", \"Record_ID\": 40, \"id\": 22}, {\"Month\": \"March\", \"Perpetrator_Sex\": \"Male\", \"State\": \"Maine\", \"Record_ID\": 1, \"id\": 23}, {\"Month\": \"March\", \"Perpetrator_Sex\": \"Male\", \"State\": \"Maryland\", \"Record_ID\": 19, \"id\": 24}, {\"Month\": \"March\", \"Perpetrator_Sex\": \"Male\", \"State\": \"Massachusetts\", \"Record_ID\": 11, \"id\": 25}, {\"Month\": \"March\", \"Perpetrator_Sex\": \"Male\", \"State\": \"Michigan\", \"Record_ID\": 30, \"id\": 26}, {\"Month\": \"March\", \"Perpetrator_Sex\": \"Male\", \"State\": \"Minnesota\", \"Record_ID\": 6, \"id\": 27}, {\"Month\": \"March\", \"Perpetrator_Sex\": \"Male\", \"State\": \"Mississippi\", \"Record_ID\": 7, \"id\": 28}, {\"Month\": \"March\", \"Perpetrator_Sex\": \"Male\", \"State\": \"Missouri\", \"Record_ID\": 22, \"id\": 29}, {\"Month\": \"March\", \"Perpetrator_Sex\": \"Male\", \"State\": \"Montana\", \"Record_ID\": 0, \"id\": 30}, {\"Month\": \"March\", \"Perpetrator_Sex\": \"Male\", \"State\": \"Nebraska\", \"Record_ID\": 4, \"id\": 31}, {\"Month\": \"March\", \"Perpetrator_Sex\": \"Male\", \"State\": \"Nevada\", \"Record_ID\": 9, \"id\": 32}, {\"Month\": \"March\", \"Perpetrator_Sex\": \"Male\", \"State\": \"New Hampshire\", \"Record_ID\": 1, \"id\": 33}, {\"Month\": \"March\", \"Perpetrator_Sex\": \"Male\", \"State\": \"New Jersey\", \"Record_ID\": 14, \"id\": 34}, {\"Month\": \"March\", \"Perpetrator_Sex\": \"Male\", \"State\": \"New Mexico\", \"Record_ID\": 11, \"id\": 35}, {\"Month\": \"March\", \"Perpetrator_Sex\": \"Male\", \"State\": \"New York\", \"Record_ID\": 46, \"id\": 36}, {\"Month\": \"March\", \"Perpetrator_Sex\": \"Male\", \"State\": \"North Carolina\", \"Record_ID\": 30, \"id\": 37}, {\"Month\": \"March\", \"Perpetrator_Sex\": \"Male\", \"State\": \"North Dakota\", \"Record_ID\": 2, \"id\": 38}, {\"Month\": \"March\", \"Perpetrator_Sex\": \"Male\", \"State\": \"Ohio\", \"Record_ID\": 36, \"id\": 39}, {\"Month\": \"March\", \"Perpetrator_Sex\": \"Male\", \"State\": \"Oklahoma\", \"Record_ID\": 8, \"id\": 40}, {\"Month\": \"March\", \"Perpetrator_Sex\": \"Male\", \"State\": \"Oregon\", \"Record_ID\": 4, \"id\": 41}, {\"Month\": \"March\", \"Perpetrator_Sex\": \"Male\", \"State\": \"Pennsylvania\", \"Record_ID\": 51, \"id\": 42}, {\"Month\": \"March\", \"Perpetrator_Sex\": \"Male\", \"State\": \"Rhodes Island\", \"Record_ID\": 1, \"id\": \"Rhodes Island\"}, {\"Month\": \"March\", \"Perpetrator_Sex\": \"Male\", \"State\": \"South Carolina\", \"Record_ID\": 11, \"id\": 45}, {\"Month\": \"March\", \"Perpetrator_Sex\": \"Male\", \"State\": \"South Dakota\", \"Record_ID\": 0, \"id\": 46}, {\"Month\": \"March\", \"Perpetrator_Sex\": \"Male\", \"State\": \"Tennessee\", \"Record_ID\": 33, \"id\": 47}, {\"Month\": \"March\", \"Perpetrator_Sex\": \"Male\", \"State\": \"Texas\", \"Record_ID\": 68, \"id\": 48}, {\"Month\": \"March\", \"Perpetrator_Sex\": \"Male\", \"State\": \"Utah\", \"Record_ID\": 3, \"id\": 49}, {\"Month\": \"March\", \"Perpetrator_Sex\": \"Male\", \"State\": \"Vermont\", \"Record_ID\": 1, \"id\": 50}, {\"Month\": \"March\", \"Perpetrator_Sex\": \"Male\", \"State\": \"Virginia\", \"Record_ID\": 25, \"id\": 51}, {\"Month\": \"March\", \"Perpetrator_Sex\": \"Male\", \"State\": \"Washington\", \"Record_ID\": 12, \"id\": 53}, {\"Month\": \"March\", \"Perpetrator_Sex\": \"Male\", \"State\": \"West Virginia\", \"Record_ID\": 5, \"id\": 54}, {\"Month\": \"March\", \"Perpetrator_Sex\": \"Male\", \"State\": \"Wisconsin\", \"Record_ID\": 7, \"id\": 55}, {\"Month\": \"March\", \"Perpetrator_Sex\": \"Male\", \"State\": \"Wyoming\", \"Record_ID\": 0, \"id\": 56}, {\"Month\": \"March\", \"Perpetrator_Sex\": \"Unknown\", \"State\": \"Alabama\", \"Record_ID\": 5, \"id\": 1}, {\"Month\": \"March\", \"Perpetrator_Sex\": \"Unknown\", \"State\": \"Alaska\", \"Record_ID\": 0, \"id\": 2}, {\"Month\": \"March\", \"Perpetrator_Sex\": \"Unknown\", \"State\": \"Arizona\", \"Record_ID\": 10, \"id\": 4}, {\"Month\": \"March\", \"Perpetrator_Sex\": \"Unknown\", \"State\": \"Arkansas\", \"Record_ID\": 0, \"id\": 5}, {\"Month\": \"March\", \"Perpetrator_Sex\": \"Unknown\", \"State\": \"California\", \"Record_ID\": 77, \"id\": 6}, {\"Month\": \"March\", \"Perpetrator_Sex\": \"Unknown\", \"State\": \"Colorado\", \"Record_ID\": 3, \"id\": 8}, {\"Month\": \"March\", \"Perpetrator_Sex\": \"Unknown\", \"State\": \"Connecticut\", \"Record_ID\": 7, \"id\": 9}, {\"Month\": \"March\", \"Perpetrator_Sex\": \"Unknown\", \"State\": \"Delaware\", \"Record_ID\": 1, \"id\": 10}, {\"Month\": \"March\", \"Perpetrator_Sex\": \"Unknown\", \"State\": \"District of Columbia\", \"Record_ID\": 2, \"id\": 11}, {\"Month\": \"March\", \"Perpetrator_Sex\": \"Unknown\", \"State\": \"Florida\", \"Record_ID\": 21, \"id\": 12}, {\"Month\": \"March\", \"Perpetrator_Sex\": \"Unknown\", \"State\": \"Georgia\", \"Record_ID\": 20, \"id\": 13}, {\"Month\": \"March\", \"Perpetrator_Sex\": \"Unknown\", \"State\": \"Hawaii\", \"Record_ID\": 0, \"id\": 15}, {\"Month\": \"March\", \"Perpetrator_Sex\": \"Unknown\", \"State\": \"Idaho\", \"Record_ID\": 0, \"id\": 16}, {\"Month\": \"March\", \"Perpetrator_Sex\": \"Unknown\", \"State\": \"Illinois\", \"Record_ID\": 17, \"id\": 17}, {\"Month\": \"March\", \"Perpetrator_Sex\": \"Unknown\", \"State\": \"Indiana\", \"Record_ID\": 7, \"id\": 18}, {\"Month\": \"March\", \"Perpetrator_Sex\": \"Unknown\", \"State\": \"Iowa\", \"Record_ID\": 1, \"id\": 19}, {\"Month\": \"March\", \"Perpetrator_Sex\": \"Unknown\", \"State\": \"Kansas\", \"Record_ID\": 1, \"id\": 20}, {\"Month\": \"March\", \"Perpetrator_Sex\": \"Unknown\", \"State\": \"Kentucky\", \"Record_ID\": 7, \"id\": 21}, {\"Month\": \"March\", \"Perpetrator_Sex\": \"Unknown\", \"State\": \"Louisiana\", \"Record_ID\": 16, \"id\": 22}, {\"Month\": \"March\", \"Perpetrator_Sex\": \"Unknown\", \"State\": \"Maine\", \"Record_ID\": 0, \"id\": 23}, {\"Month\": \"March\", \"Perpetrator_Sex\": \"Unknown\", \"State\": \"Maryland\", \"Record_ID\": 17, \"id\": 24}, {\"Month\": \"March\", \"Perpetrator_Sex\": \"Unknown\", \"State\": \"Massachusetts\", \"Record_ID\": 8, \"id\": 25}, {\"Month\": \"March\", \"Perpetrator_Sex\": \"Unknown\", \"State\": \"Michigan\", \"Record_ID\": 16, \"id\": 26}, {\"Month\": \"March\", \"Perpetrator_Sex\": \"Unknown\", \"State\": \"Minnesota\", \"Record_ID\": 3, \"id\": 27}, {\"Month\": \"March\", \"Perpetrator_Sex\": \"Unknown\", \"State\": \"Mississippi\", \"Record_ID\": 5, \"id\": 28}, {\"Month\": \"March\", \"Perpetrator_Sex\": \"Unknown\", \"State\": \"Missouri\", \"Record_ID\": 7, \"id\": 29}, {\"Month\": \"March\", \"Perpetrator_Sex\": \"Unknown\", \"State\": \"Montana\", \"Record_ID\": 0, \"id\": 30}, {\"Month\": \"March\", \"Perpetrator_Sex\": \"Unknown\", \"State\": \"Nebraska\", \"Record_ID\": 3, \"id\": 31}, {\"Month\": \"March\", \"Perpetrator_Sex\": \"Unknown\", \"State\": \"Nevada\", \"Record_ID\": 2, \"id\": 32}, {\"Month\": \"March\", \"Perpetrator_Sex\": \"Unknown\", \"State\": \"New Hampshire\", \"Record_ID\": 0, \"id\": 33}, {\"Month\": \"March\", \"Perpetrator_Sex\": \"Unknown\", \"State\": \"New Jersey\", \"Record_ID\": 7, \"id\": 34}, {\"Month\": \"March\", \"Perpetrator_Sex\": \"Unknown\", \"State\": \"New Mexico\", \"Record_ID\": 0, \"id\": 35}, {\"Month\": \"March\", \"Perpetrator_Sex\": \"Unknown\", \"State\": \"New York\", \"Record_ID\": 18, \"id\": 36}, {\"Month\": \"March\", \"Perpetrator_Sex\": \"Unknown\", \"State\": \"North Carolina\", \"Record_ID\": 7, \"id\": 37}, {\"Month\": \"March\", \"Perpetrator_Sex\": \"Unknown\", \"State\": \"North Dakota\", \"Record_ID\": 0, \"id\": 38}, {\"Month\": \"March\", \"Perpetrator_Sex\": \"Unknown\", \"State\": \"Ohio\", \"Record_ID\": 15, \"id\": 39}, {\"Month\": \"March\", \"Perpetrator_Sex\": \"Unknown\", \"State\": \"Oklahoma\", \"Record_ID\": 1, \"id\": 40}, {\"Month\": \"March\", \"Perpetrator_Sex\": \"Unknown\", \"State\": \"Oregon\", \"Record_ID\": 1, \"id\": 41}, {\"Month\": \"March\", \"Perpetrator_Sex\": \"Unknown\", \"State\": \"Pennsylvania\", \"Record_ID\": 14, \"id\": 42}, {\"Month\": \"March\", \"Perpetrator_Sex\": \"Unknown\", \"State\": \"Rhodes Island\", \"Record_ID\": 0, \"id\": \"Rhodes Island\"}, {\"Month\": \"March\", \"Perpetrator_Sex\": \"Unknown\", \"State\": \"South Carolina\", \"Record_ID\": 2, \"id\": 45}, {\"Month\": \"March\", \"Perpetrator_Sex\": \"Unknown\", \"State\": \"South Dakota\", \"Record_ID\": 0, \"id\": 46}, {\"Month\": \"March\", \"Perpetrator_Sex\": \"Unknown\", \"State\": \"Tennessee\", \"Record_ID\": 4, \"id\": 47}, {\"Month\": \"March\", \"Perpetrator_Sex\": \"Unknown\", \"State\": \"Texas\", \"Record_ID\": 25, \"id\": 48}, {\"Month\": \"March\", \"Perpetrator_Sex\": \"Unknown\", \"State\": \"Utah\", \"Record_ID\": 0, \"id\": 49}, {\"Month\": \"March\", \"Perpetrator_Sex\": \"Unknown\", \"State\": \"Vermont\", \"Record_ID\": 0, \"id\": 50}, {\"Month\": \"March\", \"Perpetrator_Sex\": \"Unknown\", \"State\": \"Virginia\", \"Record_ID\": 8, \"id\": 51}, {\"Month\": \"March\", \"Perpetrator_Sex\": \"Unknown\", \"State\": \"Washington\", \"Record_ID\": 2, \"id\": 53}, {\"Month\": \"March\", \"Perpetrator_Sex\": \"Unknown\", \"State\": \"West Virginia\", \"Record_ID\": 1, \"id\": 54}, {\"Month\": \"March\", \"Perpetrator_Sex\": \"Unknown\", \"State\": \"Wisconsin\", \"Record_ID\": 2, \"id\": 55}, {\"Month\": \"March\", \"Perpetrator_Sex\": \"Unknown\", \"State\": \"Wyoming\", \"Record_ID\": 0, \"id\": 56}, {\"Month\": \"April\", \"Perpetrator_Sex\": \"Female\", \"State\": \"Alabama\", \"Record_ID\": 2, \"id\": 1}, {\"Month\": \"April\", \"Perpetrator_Sex\": \"Female\", \"State\": \"Alaska\", \"Record_ID\": 0, \"id\": 2}, {\"Month\": \"April\", \"Perpetrator_Sex\": \"Female\", \"State\": \"Arizona\", \"Record_ID\": 1, \"id\": 4}, {\"Month\": \"April\", \"Perpetrator_Sex\": \"Female\", \"State\": \"Arkansas\", \"Record_ID\": 0, \"id\": 5}, {\"Month\": \"April\", \"Perpetrator_Sex\": \"Female\", \"State\": \"California\", \"Record_ID\": 15, \"id\": 6}, {\"Month\": \"April\", \"Perpetrator_Sex\": \"Female\", \"State\": \"Colorado\", \"Record_ID\": 1, \"id\": 8}, {\"Month\": \"April\", \"Perpetrator_Sex\": \"Female\", \"State\": \"Connecticut\", \"Record_ID\": 1, \"id\": 9}, {\"Month\": \"April\", \"Perpetrator_Sex\": \"Female\", \"State\": \"Delaware\", \"Record_ID\": 0, \"id\": 10}, {\"Month\": \"April\", \"Perpetrator_Sex\": \"Female\", \"State\": \"District of Columbia\", \"Record_ID\": 1, \"id\": 11}, {\"Month\": \"April\", \"Perpetrator_Sex\": \"Female\", \"State\": \"Florida\", \"Record_ID\": 10, \"id\": 12}, {\"Month\": \"April\", \"Perpetrator_Sex\": \"Female\", \"State\": \"Georgia\", \"Record_ID\": 3, \"id\": 13}, {\"Month\": \"April\", \"Perpetrator_Sex\": \"Female\", \"State\": \"Hawaii\", \"Record_ID\": 0, \"id\": 15}, {\"Month\": \"April\", \"Perpetrator_Sex\": \"Female\", \"State\": \"Idaho\", \"Record_ID\": 0, \"id\": 16}, {\"Month\": \"April\", \"Perpetrator_Sex\": \"Female\", \"State\": \"Illinois\", \"Record_ID\": 1, \"id\": 17}, {\"Month\": \"April\", \"Perpetrator_Sex\": \"Female\", \"State\": \"Indiana\", \"Record_ID\": 0, \"id\": 18}, {\"Month\": \"April\", \"Perpetrator_Sex\": \"Female\", \"State\": \"Iowa\", \"Record_ID\": 0, \"id\": 19}, {\"Month\": \"April\", \"Perpetrator_Sex\": \"Female\", \"State\": \"Kansas\", \"Record_ID\": 0, \"id\": 20}, {\"Month\": \"April\", \"Perpetrator_Sex\": \"Female\", \"State\": \"Kentucky\", \"Record_ID\": 1, \"id\": 21}, {\"Month\": \"April\", \"Perpetrator_Sex\": \"Female\", \"State\": \"Louisiana\", \"Record_ID\": 4, \"id\": 22}, {\"Month\": \"April\", \"Perpetrator_Sex\": \"Female\", \"State\": \"Maine\", \"Record_ID\": 0, \"id\": 23}, {\"Month\": \"April\", \"Perpetrator_Sex\": \"Female\", \"State\": \"Maryland\", \"Record_ID\": 1, \"id\": 24}, {\"Month\": \"April\", \"Perpetrator_Sex\": \"Female\", \"State\": \"Massachusetts\", \"Record_ID\": 0, \"id\": 25}, {\"Month\": \"April\", \"Perpetrator_Sex\": \"Female\", \"State\": \"Michigan\", \"Record_ID\": 2, \"id\": 26}, {\"Month\": \"April\", \"Perpetrator_Sex\": \"Female\", \"State\": \"Minnesota\", \"Record_ID\": 1, \"id\": 27}, {\"Month\": \"April\", \"Perpetrator_Sex\": \"Female\", \"State\": \"Mississippi\", \"Record_ID\": 1, \"id\": 28}, {\"Month\": \"April\", \"Perpetrator_Sex\": \"Female\", \"State\": \"Missouri\", \"Record_ID\": 3, \"id\": 29}, {\"Month\": \"April\", \"Perpetrator_Sex\": \"Female\", \"State\": \"Montana\", \"Record_ID\": 1, \"id\": 30}, {\"Month\": \"April\", \"Perpetrator_Sex\": \"Female\", \"State\": \"Nebraska\", \"Record_ID\": 0, \"id\": 31}, {\"Month\": \"April\", \"Perpetrator_Sex\": \"Female\", \"State\": \"Nevada\", \"Record_ID\": 0, \"id\": 32}, {\"Month\": \"April\", \"Perpetrator_Sex\": \"Female\", \"State\": \"New Hampshire\", \"Record_ID\": 0, \"id\": 33}, {\"Month\": \"April\", \"Perpetrator_Sex\": \"Female\", \"State\": \"New Jersey\", \"Record_ID\": 1, \"id\": 34}, {\"Month\": \"April\", \"Perpetrator_Sex\": \"Female\", \"State\": \"New Mexico\", \"Record_ID\": 0, \"id\": 35}, {\"Month\": \"April\", \"Perpetrator_Sex\": \"Female\", \"State\": \"New York\", \"Record_ID\": 1, \"id\": 36}, {\"Month\": \"April\", \"Perpetrator_Sex\": \"Female\", \"State\": \"North Carolina\", \"Record_ID\": 1, \"id\": 37}, {\"Month\": \"April\", \"Perpetrator_Sex\": \"Female\", \"State\": \"North Dakota\", \"Record_ID\": 0, \"id\": 38}, {\"Month\": \"April\", \"Perpetrator_Sex\": \"Female\", \"State\": \"Ohio\", \"Record_ID\": 2, \"id\": 39}, {\"Month\": \"April\", \"Perpetrator_Sex\": \"Female\", \"State\": \"Oklahoma\", \"Record_ID\": 2, \"id\": 40}, {\"Month\": \"April\", \"Perpetrator_Sex\": \"Female\", \"State\": \"Oregon\", \"Record_ID\": 1, \"id\": 41}, {\"Month\": \"April\", \"Perpetrator_Sex\": \"Female\", \"State\": \"Pennsylvania\", \"Record_ID\": 2, \"id\": 42}, {\"Month\": \"April\", \"Perpetrator_Sex\": \"Female\", \"State\": \"Rhodes Island\", \"Record_ID\": 2, \"id\": \"Rhodes Island\"}, {\"Month\": \"April\", \"Perpetrator_Sex\": \"Female\", \"State\": \"South Carolina\", \"Record_ID\": 1, \"id\": 45}, {\"Month\": \"April\", \"Perpetrator_Sex\": \"Female\", \"State\": \"South Dakota\", \"Record_ID\": 1, \"id\": 46}, {\"Month\": \"April\", \"Perpetrator_Sex\": \"Female\", \"State\": \"Tennessee\", \"Record_ID\": 4, \"id\": 47}, {\"Month\": \"April\", \"Perpetrator_Sex\": \"Female\", \"State\": \"Texas\", \"Record_ID\": 8, \"id\": 48}, {\"Month\": \"April\", \"Perpetrator_Sex\": \"Female\", \"State\": \"Utah\", \"Record_ID\": 1, \"id\": 49}, {\"Month\": \"April\", \"Perpetrator_Sex\": \"Female\", \"State\": \"Vermont\", \"Record_ID\": 0, \"id\": 50}, {\"Month\": \"April\", \"Perpetrator_Sex\": \"Female\", \"State\": \"Virginia\", \"Record_ID\": 1, \"id\": 51}, {\"Month\": \"April\", \"Perpetrator_Sex\": \"Female\", \"State\": \"Washington\", \"Record_ID\": 2, \"id\": 53}, {\"Month\": \"April\", \"Perpetrator_Sex\": \"Female\", \"State\": \"West Virginia\", \"Record_ID\": 2, \"id\": 54}, {\"Month\": \"April\", \"Perpetrator_Sex\": \"Female\", \"State\": \"Wisconsin\", \"Record_ID\": 2, \"id\": 55}, {\"Month\": \"April\", \"Perpetrator_Sex\": \"Female\", \"State\": \"Wyoming\", \"Record_ID\": 0, \"id\": 56}, {\"Month\": \"April\", \"Perpetrator_Sex\": \"Male\", \"State\": \"Alabama\", \"Record_ID\": 9, \"id\": 1}, {\"Month\": \"April\", \"Perpetrator_Sex\": \"Male\", \"State\": \"Alaska\", \"Record_ID\": 3, \"id\": 2}, {\"Month\": \"April\", \"Perpetrator_Sex\": \"Male\", \"State\": \"Arizona\", \"Record_ID\": 25, \"id\": 4}, {\"Month\": \"April\", \"Perpetrator_Sex\": \"Male\", \"State\": \"Arkansas\", \"Record_ID\": 3, \"id\": 5}, {\"Month\": \"April\", \"Perpetrator_Sex\": \"Male\", \"State\": \"California\", \"Record_ID\": 93, \"id\": 6}, {\"Month\": \"April\", \"Perpetrator_Sex\": \"Male\", \"State\": \"Colorado\", \"Record_ID\": 13, \"id\": 8}, {\"Month\": \"April\", \"Perpetrator_Sex\": \"Male\", \"State\": \"Connecticut\", \"Record_ID\": 7, \"id\": 9}, {\"Month\": \"April\", \"Perpetrator_Sex\": \"Male\", \"State\": \"Delaware\", \"Record_ID\": 2, \"id\": 10}, {\"Month\": \"April\", \"Perpetrator_Sex\": \"Male\", \"State\": \"District of Columbia\", \"Record_ID\": 4, \"id\": 11}, {\"Month\": \"April\", \"Perpetrator_Sex\": \"Male\", \"State\": \"Florida\", \"Record_ID\": 78, \"id\": 12}, {\"Month\": \"April\", \"Perpetrator_Sex\": \"Male\", \"State\": \"Georgia\", \"Record_ID\": 32, \"id\": 13}, {\"Month\": \"April\", \"Perpetrator_Sex\": \"Male\", \"State\": \"Hawaii\", \"Record_ID\": 2, \"id\": 15}, {\"Month\": \"April\", \"Perpetrator_Sex\": \"Male\", \"State\": \"Idaho\", \"Record_ID\": 2, \"id\": 16}, {\"Month\": \"April\", \"Perpetrator_Sex\": \"Male\", \"State\": \"Illinois\", \"Record_ID\": 15, \"id\": 17}, {\"Month\": \"April\", \"Perpetrator_Sex\": \"Male\", \"State\": \"Indiana\", \"Record_ID\": 31, \"id\": 18}, {\"Month\": \"April\", \"Perpetrator_Sex\": \"Male\", \"State\": \"Iowa\", \"Record_ID\": 2, \"id\": 19}, {\"Month\": \"April\", \"Perpetrator_Sex\": \"Male\", \"State\": \"Kansas\", \"Record_ID\": 7, \"id\": 20}, {\"Month\": \"April\", \"Perpetrator_Sex\": \"Male\", \"State\": \"Kentucky\", \"Record_ID\": 14, \"id\": 21}, {\"Month\": \"April\", \"Perpetrator_Sex\": \"Male\", \"State\": \"Louisiana\", \"Record_ID\": 36, \"id\": 22}, {\"Month\": \"April\", \"Perpetrator_Sex\": \"Male\", \"State\": \"Maine\", \"Record_ID\": 2, \"id\": 23}, {\"Month\": \"April\", \"Perpetrator_Sex\": \"Male\", \"State\": \"Maryland\", \"Record_ID\": 20, \"id\": 24}, {\"Month\": \"April\", \"Perpetrator_Sex\": \"Male\", \"State\": \"Massachusetts\", \"Record_ID\": 10, \"id\": 25}, {\"Month\": \"April\", \"Perpetrator_Sex\": \"Male\", \"State\": \"Michigan\", \"Record_ID\": 31, \"id\": 26}, {\"Month\": \"April\", \"Perpetrator_Sex\": \"Male\", \"State\": \"Minnesota\", \"Record_ID\": 8, \"id\": 27}, {\"Month\": \"April\", \"Perpetrator_Sex\": \"Male\", \"State\": \"Mississippi\", \"Record_ID\": 13, \"id\": 28}, {\"Month\": \"April\", \"Perpetrator_Sex\": \"Male\", \"State\": \"Missouri\", \"Record_ID\": 19, \"id\": 29}, {\"Month\": \"April\", \"Perpetrator_Sex\": \"Male\", \"State\": \"Montana\", \"Record_ID\": 1, \"id\": 30}, {\"Month\": \"April\", \"Perpetrator_Sex\": \"Male\", \"State\": \"Nebraska\", \"Record_ID\": 3, \"id\": 31}, {\"Month\": \"April\", \"Perpetrator_Sex\": \"Male\", \"State\": \"Nevada\", \"Record_ID\": 12, \"id\": 32}, {\"Month\": \"April\", \"Perpetrator_Sex\": \"Male\", \"State\": \"New Hampshire\", \"Record_ID\": 1, \"id\": 33}, {\"Month\": \"April\", \"Perpetrator_Sex\": \"Male\", \"State\": \"New Jersey\", \"Record_ID\": 21, \"id\": 34}, {\"Month\": \"April\", \"Perpetrator_Sex\": \"Male\", \"State\": \"New Mexico\", \"Record_ID\": 11, \"id\": 35}, {\"Month\": \"April\", \"Perpetrator_Sex\": \"Male\", \"State\": \"New York\", \"Record_ID\": 37, \"id\": 36}, {\"Month\": \"April\", \"Perpetrator_Sex\": \"Male\", \"State\": \"North Carolina\", \"Record_ID\": 24, \"id\": 37}, {\"Month\": \"April\", \"Perpetrator_Sex\": \"Male\", \"State\": \"North Dakota\", \"Record_ID\": 0, \"id\": 38}, {\"Month\": \"April\", \"Perpetrator_Sex\": \"Male\", \"State\": \"Ohio\", \"Record_ID\": 29, \"id\": 39}, {\"Month\": \"April\", \"Perpetrator_Sex\": \"Male\", \"State\": \"Oklahoma\", \"Record_ID\": 13, \"id\": 40}, {\"Month\": \"April\", \"Perpetrator_Sex\": \"Male\", \"State\": \"Oregon\", \"Record_ID\": 4, \"id\": 41}, {\"Month\": \"April\", \"Perpetrator_Sex\": \"Male\", \"State\": \"Pennsylvania\", \"Record_ID\": 41, \"id\": 42}, {\"Month\": \"April\", \"Perpetrator_Sex\": \"Male\", \"State\": \"Rhodes Island\", \"Record_ID\": 2, \"id\": \"Rhodes Island\"}, {\"Month\": \"April\", \"Perpetrator_Sex\": \"Male\", \"State\": \"South Carolina\", \"Record_ID\": 21, \"id\": 45}, {\"Month\": \"April\", \"Perpetrator_Sex\": \"Male\", \"State\": \"South Dakota\", \"Record_ID\": 2, \"id\": 46}, {\"Month\": \"April\", \"Perpetrator_Sex\": \"Male\", \"State\": \"Tennessee\", \"Record_ID\": 25, \"id\": 47}, {\"Month\": \"April\", \"Perpetrator_Sex\": \"Male\", \"State\": \"Texas\", \"Record_ID\": 86, \"id\": 48}, {\"Month\": \"April\", \"Perpetrator_Sex\": \"Male\", \"State\": \"Utah\", \"Record_ID\": 3, \"id\": 49}, {\"Month\": \"April\", \"Perpetrator_Sex\": \"Male\", \"State\": \"Vermont\", \"Record_ID\": 0, \"id\": 50}, {\"Month\": \"April\", \"Perpetrator_Sex\": \"Male\", \"State\": \"Virginia\", \"Record_ID\": 32, \"id\": 51}, {\"Month\": \"April\", \"Perpetrator_Sex\": \"Male\", \"State\": \"Washington\", \"Record_ID\": 10, \"id\": 53}, {\"Month\": \"April\", \"Perpetrator_Sex\": \"Male\", \"State\": \"West Virginia\", \"Record_ID\": 3, \"id\": 54}, {\"Month\": \"April\", \"Perpetrator_Sex\": \"Male\", \"State\": \"Wisconsin\", \"Record_ID\": 9, \"id\": 55}, {\"Month\": \"April\", \"Perpetrator_Sex\": \"Male\", \"State\": \"Wyoming\", \"Record_ID\": 0, \"id\": 56}, {\"Month\": \"April\", \"Perpetrator_Sex\": \"Unknown\", \"State\": \"Alabama\", \"Record_ID\": 4, \"id\": 1}, {\"Month\": \"April\", \"Perpetrator_Sex\": \"Unknown\", \"State\": \"Alaska\", \"Record_ID\": 0, \"id\": 2}, {\"Month\": \"April\", \"Perpetrator_Sex\": \"Unknown\", \"State\": \"Arizona\", \"Record_ID\": 8, \"id\": 4}, {\"Month\": \"April\", \"Perpetrator_Sex\": \"Unknown\", \"State\": \"Arkansas\", \"Record_ID\": 4, \"id\": 5}, {\"Month\": \"April\", \"Perpetrator_Sex\": \"Unknown\", \"State\": \"California\", \"Record_ID\": 67, \"id\": 6}, {\"Month\": \"April\", \"Perpetrator_Sex\": \"Unknown\", \"State\": \"Colorado\", \"Record_ID\": 0, \"id\": 8}, {\"Month\": \"April\", \"Perpetrator_Sex\": \"Unknown\", \"State\": \"Connecticut\", \"Record_ID\": 3, \"id\": 9}, {\"Month\": \"April\", \"Perpetrator_Sex\": \"Unknown\", \"State\": \"Delaware\", \"Record_ID\": 0, \"id\": 10}, {\"Month\": \"April\", \"Perpetrator_Sex\": \"Unknown\", \"State\": \"District of Columbia\", \"Record_ID\": 2, \"id\": 11}, {\"Month\": \"April\", \"Perpetrator_Sex\": \"Unknown\", \"State\": \"Florida\", \"Record_ID\": 28, \"id\": 12}, {\"Month\": \"April\", \"Perpetrator_Sex\": \"Unknown\", \"State\": \"Georgia\", \"Record_ID\": 15, \"id\": 13}, {\"Month\": \"April\", \"Perpetrator_Sex\": \"Unknown\", \"State\": \"Hawaii\", \"Record_ID\": 0, \"id\": 15}, {\"Month\": \"April\", \"Perpetrator_Sex\": \"Unknown\", \"State\": \"Idaho\", \"Record_ID\": 1, \"id\": 16}, {\"Month\": \"April\", \"Perpetrator_Sex\": \"Unknown\", \"State\": \"Illinois\", \"Record_ID\": 37, \"id\": 17}, {\"Month\": \"April\", \"Perpetrator_Sex\": \"Unknown\", \"State\": \"Indiana\", \"Record_ID\": 4, \"id\": 18}, {\"Month\": \"April\", \"Perpetrator_Sex\": \"Unknown\", \"State\": \"Iowa\", \"Record_ID\": 0, \"id\": 19}, {\"Month\": \"April\", \"Perpetrator_Sex\": \"Unknown\", \"State\": \"Kansas\", \"Record_ID\": 1, \"id\": 20}, {\"Month\": \"April\", \"Perpetrator_Sex\": \"Unknown\", \"State\": \"Kentucky\", \"Record_ID\": 4, \"id\": 21}, {\"Month\": \"April\", \"Perpetrator_Sex\": \"Unknown\", \"State\": \"Louisiana\", \"Record_ID\": 11, \"id\": 22}, {\"Month\": \"April\", \"Perpetrator_Sex\": \"Unknown\", \"State\": \"Maine\", \"Record_ID\": 0, \"id\": 23}, {\"Month\": \"April\", \"Perpetrator_Sex\": \"Unknown\", \"State\": \"Maryland\", \"Record_ID\": 13, \"id\": 24}, {\"Month\": \"April\", \"Perpetrator_Sex\": \"Unknown\", \"State\": \"Massachusetts\", \"Record_ID\": 2, \"id\": 25}, {\"Month\": \"April\", \"Perpetrator_Sex\": \"Unknown\", \"State\": \"Michigan\", \"Record_ID\": 24, \"id\": 26}, {\"Month\": \"April\", \"Perpetrator_Sex\": \"Unknown\", \"State\": \"Minnesota\", \"Record_ID\": 1, \"id\": 27}, {\"Month\": \"April\", \"Perpetrator_Sex\": \"Unknown\", \"State\": \"Mississippi\", \"Record_ID\": 6, \"id\": 28}, {\"Month\": \"April\", \"Perpetrator_Sex\": \"Unknown\", \"State\": \"Missouri\", \"Record_ID\": 16, \"id\": 29}, {\"Month\": \"April\", \"Perpetrator_Sex\": \"Unknown\", \"State\": \"Montana\", \"Record_ID\": 0, \"id\": 30}, {\"Month\": \"April\", \"Perpetrator_Sex\": \"Unknown\", \"State\": \"Nebraska\", \"Record_ID\": 3, \"id\": 31}, {\"Month\": \"April\", \"Perpetrator_Sex\": \"Unknown\", \"State\": \"Nevada\", \"Record_ID\": 3, \"id\": 32}, {\"Month\": \"April\", \"Perpetrator_Sex\": \"Unknown\", \"State\": \"New Hampshire\", \"Record_ID\": 0, \"id\": 33}, {\"Month\": \"April\", \"Perpetrator_Sex\": \"Unknown\", \"State\": \"New Jersey\", \"Record_ID\": 10, \"id\": 34}, {\"Month\": \"April\", \"Perpetrator_Sex\": \"Unknown\", \"State\": \"New Mexico\", \"Record_ID\": 4, \"id\": 35}, {\"Month\": \"April\", \"Perpetrator_Sex\": \"Unknown\", \"State\": \"New York\", \"Record_ID\": 23, \"id\": 36}, {\"Month\": \"April\", \"Perpetrator_Sex\": \"Unknown\", \"State\": \"North Carolina\", \"Record_ID\": 8, \"id\": 37}, {\"Month\": \"April\", \"Perpetrator_Sex\": \"Unknown\", \"State\": \"North Dakota\", \"Record_ID\": 0, \"id\": 38}, {\"Month\": \"April\", \"Perpetrator_Sex\": \"Unknown\", \"State\": \"Ohio\", \"Record_ID\": 15, \"id\": 39}, {\"Month\": \"April\", \"Perpetrator_Sex\": \"Unknown\", \"State\": \"Oklahoma\", \"Record_ID\": 3, \"id\": 40}, {\"Month\": \"April\", \"Perpetrator_Sex\": \"Unknown\", \"State\": \"Oregon\", \"Record_ID\": 0, \"id\": 41}, {\"Month\": \"April\", \"Perpetrator_Sex\": \"Unknown\", \"State\": \"Pennsylvania\", \"Record_ID\": 8, \"id\": 42}, {\"Month\": \"April\", \"Perpetrator_Sex\": \"Unknown\", \"State\": \"Rhodes Island\", \"Record_ID\": 2, \"id\": \"Rhodes Island\"}, {\"Month\": \"April\", \"Perpetrator_Sex\": \"Unknown\", \"State\": \"South Carolina\", \"Record_ID\": 3, \"id\": 45}, {\"Month\": \"April\", \"Perpetrator_Sex\": \"Unknown\", \"State\": \"South Dakota\", \"Record_ID\": 0, \"id\": 46}, {\"Month\": \"April\", \"Perpetrator_Sex\": \"Unknown\", \"State\": \"Tennessee\", \"Record_ID\": 4, \"id\": 47}, {\"Month\": \"April\", \"Perpetrator_Sex\": \"Unknown\", \"State\": \"Texas\", \"Record_ID\": 19, \"id\": 48}, {\"Month\": \"April\", \"Perpetrator_Sex\": \"Unknown\", \"State\": \"Utah\", \"Record_ID\": 0, \"id\": 49}, {\"Month\": \"April\", \"Perpetrator_Sex\": \"Unknown\", \"State\": \"Vermont\", \"Record_ID\": 0, \"id\": 50}, {\"Month\": \"April\", \"Perpetrator_Sex\": \"Unknown\", \"State\": \"Virginia\", \"Record_ID\": 6, \"id\": 51}, {\"Month\": \"April\", \"Perpetrator_Sex\": \"Unknown\", \"State\": \"Washington\", \"Record_ID\": 2, \"id\": 53}, {\"Month\": \"April\", \"Perpetrator_Sex\": \"Unknown\", \"State\": \"West Virginia\", \"Record_ID\": 1, \"id\": 54}, {\"Month\": \"April\", \"Perpetrator_Sex\": \"Unknown\", \"State\": \"Wisconsin\", \"Record_ID\": 2, \"id\": 55}, {\"Month\": \"April\", \"Perpetrator_Sex\": \"Unknown\", \"State\": \"Wyoming\", \"Record_ID\": 0, \"id\": 56}, {\"Month\": \"May\", \"Perpetrator_Sex\": \"Female\", \"State\": \"Alabama\", \"Record_ID\": 2, \"id\": 1}, {\"Month\": \"May\", \"Perpetrator_Sex\": \"Female\", \"State\": \"Alaska\", \"Record_ID\": 1, \"id\": 2}, {\"Month\": \"May\", \"Perpetrator_Sex\": \"Female\", \"State\": \"Arizona\", \"Record_ID\": 2, \"id\": 4}, {\"Month\": \"May\", \"Perpetrator_Sex\": \"Female\", \"State\": \"Arkansas\", \"Record_ID\": 0, \"id\": 5}, {\"Month\": \"May\", \"Perpetrator_Sex\": \"Female\", \"State\": \"California\", \"Record_ID\": 12, \"id\": 6}, {\"Month\": \"May\", \"Perpetrator_Sex\": \"Female\", \"State\": \"Colorado\", \"Record_ID\": 0, \"id\": 8}, {\"Month\": \"May\", \"Perpetrator_Sex\": \"Female\", \"State\": \"Connecticut\", \"Record_ID\": 0, \"id\": 9}, {\"Month\": \"May\", \"Perpetrator_Sex\": \"Female\", \"State\": \"Delaware\", \"Record_ID\": 0, \"id\": 10}, {\"Month\": \"May\", \"Perpetrator_Sex\": \"Female\", \"State\": \"District of Columbia\", \"Record_ID\": 0, \"id\": 11}, {\"Month\": \"May\", \"Perpetrator_Sex\": \"Female\", \"State\": \"Florida\", \"Record_ID\": 11, \"id\": 12}, {\"Month\": \"May\", \"Perpetrator_Sex\": \"Female\", \"State\": \"Georgia\", \"Record_ID\": 1, \"id\": 13}, {\"Month\": \"May\", \"Perpetrator_Sex\": \"Female\", \"State\": \"Hawaii\", \"Record_ID\": 0, \"id\": 15}, {\"Month\": \"May\", \"Perpetrator_Sex\": \"Female\", \"State\": \"Idaho\", \"Record_ID\": 0, \"id\": 16}, {\"Month\": \"May\", \"Perpetrator_Sex\": \"Female\", \"State\": \"Illinois\", \"Record_ID\": 1, \"id\": 17}, {\"Month\": \"May\", \"Perpetrator_Sex\": \"Female\", \"State\": \"Indiana\", \"Record_ID\": 0, \"id\": 18}, {\"Month\": \"May\", \"Perpetrator_Sex\": \"Female\", \"State\": \"Iowa\", \"Record_ID\": 0, \"id\": 19}, {\"Month\": \"May\", \"Perpetrator_Sex\": \"Female\", \"State\": \"Kansas\", \"Record_ID\": 0, \"id\": 20}, {\"Month\": \"May\", \"Perpetrator_Sex\": \"Female\", \"State\": \"Kentucky\", \"Record_ID\": 0, \"id\": 21}, {\"Month\": \"May\", \"Perpetrator_Sex\": \"Female\", \"State\": \"Louisiana\", \"Record_ID\": 1, \"id\": 22}, {\"Month\": \"May\", \"Perpetrator_Sex\": \"Female\", \"State\": \"Maine\", \"Record_ID\": 0, \"id\": 23}, {\"Month\": \"May\", \"Perpetrator_Sex\": \"Female\", \"State\": \"Maryland\", \"Record_ID\": 0, \"id\": 24}, {\"Month\": \"May\", \"Perpetrator_Sex\": \"Female\", \"State\": \"Massachusetts\", \"Record_ID\": 1, \"id\": 25}, {\"Month\": \"May\", \"Perpetrator_Sex\": \"Female\", \"State\": \"Michigan\", \"Record_ID\": 4, \"id\": 26}, {\"Month\": \"May\", \"Perpetrator_Sex\": \"Female\", \"State\": \"Minnesota\", \"Record_ID\": 0, \"id\": 27}, {\"Month\": \"May\", \"Perpetrator_Sex\": \"Female\", \"State\": \"Mississippi\", \"Record_ID\": 1, \"id\": 28}, {\"Month\": \"May\", \"Perpetrator_Sex\": \"Female\", \"State\": \"Missouri\", \"Record_ID\": 2, \"id\": 29}, {\"Month\": \"May\", \"Perpetrator_Sex\": \"Female\", \"State\": \"Montana\", \"Record_ID\": 0, \"id\": 30}, {\"Month\": \"May\", \"Perpetrator_Sex\": \"Female\", \"State\": \"Nebraska\", \"Record_ID\": 0, \"id\": 31}, {\"Month\": \"May\", \"Perpetrator_Sex\": \"Female\", \"State\": \"Nevada\", \"Record_ID\": 1, \"id\": 32}, {\"Month\": \"May\", \"Perpetrator_Sex\": \"Female\", \"State\": \"New Hampshire\", \"Record_ID\": 0, \"id\": 33}, {\"Month\": \"May\", \"Perpetrator_Sex\": \"Female\", \"State\": \"New Jersey\", \"Record_ID\": 2, \"id\": 34}, {\"Month\": \"May\", \"Perpetrator_Sex\": \"Female\", \"State\": \"New Mexico\", \"Record_ID\": 1, \"id\": 35}, {\"Month\": \"May\", \"Perpetrator_Sex\": \"Female\", \"State\": \"New York\", \"Record_ID\": 1, \"id\": 36}, {\"Month\": \"May\", \"Perpetrator_Sex\": \"Female\", \"State\": \"North Carolina\", \"Record_ID\": 7, \"id\": 37}, {\"Month\": \"May\", \"Perpetrator_Sex\": \"Female\", \"State\": \"North Dakota\", \"Record_ID\": 0, \"id\": 38}, {\"Month\": \"May\", \"Perpetrator_Sex\": \"Female\", \"State\": \"Ohio\", \"Record_ID\": 3, \"id\": 39}, {\"Month\": \"May\", \"Perpetrator_Sex\": \"Female\", \"State\": \"Oklahoma\", \"Record_ID\": 1, \"id\": 40}, {\"Month\": \"May\", \"Perpetrator_Sex\": \"Female\", \"State\": \"Oregon\", \"Record_ID\": 0, \"id\": 41}, {\"Month\": \"May\", \"Perpetrator_Sex\": \"Female\", \"State\": \"Pennsylvania\", \"Record_ID\": 1, \"id\": 42}, {\"Month\": \"May\", \"Perpetrator_Sex\": \"Female\", \"State\": \"Rhodes Island\", \"Record_ID\": 0, \"id\": \"Rhodes Island\"}, {\"Month\": \"May\", \"Perpetrator_Sex\": \"Female\", \"State\": \"South Carolina\", \"Record_ID\": 1, \"id\": 45}, {\"Month\": \"May\", \"Perpetrator_Sex\": \"Female\", \"State\": \"South Dakota\", \"Record_ID\": 2, \"id\": 46}, {\"Month\": \"May\", \"Perpetrator_Sex\": \"Female\", \"State\": \"Tennessee\", \"Record_ID\": 6, \"id\": 47}, {\"Month\": \"May\", \"Perpetrator_Sex\": \"Female\", \"State\": \"Texas\", \"Record_ID\": 13, \"id\": 48}, {\"Month\": \"May\", \"Perpetrator_Sex\": \"Female\", \"State\": \"Utah\", \"Record_ID\": 0, \"id\": 49}, {\"Month\": \"May\", \"Perpetrator_Sex\": \"Female\", \"State\": \"Vermont\", \"Record_ID\": 0, \"id\": 50}, {\"Month\": \"May\", \"Perpetrator_Sex\": \"Female\", \"State\": \"Virginia\", \"Record_ID\": 4, \"id\": 51}, {\"Month\": \"May\", \"Perpetrator_Sex\": \"Female\", \"State\": \"Washington\", \"Record_ID\": 0, \"id\": 53}, {\"Month\": \"May\", \"Perpetrator_Sex\": \"Female\", \"State\": \"West Virginia\", \"Record_ID\": 2, \"id\": 54}, {\"Month\": \"May\", \"Perpetrator_Sex\": \"Female\", \"State\": \"Wisconsin\", \"Record_ID\": 0, \"id\": 55}, {\"Month\": \"May\", \"Perpetrator_Sex\": \"Female\", \"State\": \"Wyoming\", \"Record_ID\": 0, \"id\": 56}, {\"Month\": \"May\", \"Perpetrator_Sex\": \"Male\", \"State\": \"Alabama\", \"Record_ID\": 7, \"id\": 1}, {\"Month\": \"May\", \"Perpetrator_Sex\": \"Male\", \"State\": \"Alaska\", \"Record_ID\": 1, \"id\": 2}, {\"Month\": \"May\", \"Perpetrator_Sex\": \"Male\", \"State\": \"Arizona\", \"Record_ID\": 21, \"id\": 4}, {\"Month\": \"May\", \"Perpetrator_Sex\": \"Male\", \"State\": \"Arkansas\", \"Record_ID\": 10, \"id\": 5}, {\"Month\": \"May\", \"Perpetrator_Sex\": \"Male\", \"State\": \"California\", \"Record_ID\": 100, \"id\": 6}, {\"Month\": \"May\", \"Perpetrator_Sex\": \"Male\", \"State\": \"Colorado\", \"Record_ID\": 13, \"id\": 8}, {\"Month\": \"May\", \"Perpetrator_Sex\": \"Male\", \"State\": \"Connecticut\", \"Record_ID\": 10, \"id\": 9}, {\"Month\": \"May\", \"Perpetrator_Sex\": \"Male\", \"State\": \"Delaware\", \"Record_ID\": 3, \"id\": 10}, {\"Month\": \"May\", \"Perpetrator_Sex\": \"Male\", \"State\": \"District of Columbia\", \"Record_ID\": 7, \"id\": 11}, {\"Month\": \"May\", \"Perpetrator_Sex\": \"Male\", \"State\": \"Florida\", \"Record_ID\": 75, \"id\": 12}, {\"Month\": \"May\", \"Perpetrator_Sex\": \"Male\", \"State\": \"Georgia\", \"Record_ID\": 31, \"id\": 13}, {\"Month\": \"May\", \"Perpetrator_Sex\": \"Male\", \"State\": \"Hawaii\", \"Record_ID\": 3, \"id\": 15}, {\"Month\": \"May\", \"Perpetrator_Sex\": \"Male\", \"State\": \"Idaho\", \"Record_ID\": 2, \"id\": 16}, {\"Month\": \"May\", \"Perpetrator_Sex\": \"Male\", \"State\": \"Illinois\", \"Record_ID\": 18, \"id\": 17}, {\"Month\": \"May\", \"Perpetrator_Sex\": \"Male\", \"State\": \"Indiana\", \"Record_ID\": 17, \"id\": 18}, {\"Month\": \"May\", \"Perpetrator_Sex\": \"Male\", \"State\": \"Iowa\", \"Record_ID\": 4, \"id\": 19}, {\"Month\": \"May\", \"Perpetrator_Sex\": \"Male\", \"State\": \"Kansas\", \"Record_ID\": 7, \"id\": 20}, {\"Month\": \"May\", \"Perpetrator_Sex\": \"Male\", \"State\": \"Kentucky\", \"Record_ID\": 8, \"id\": 21}, {\"Month\": \"May\", \"Perpetrator_Sex\": \"Male\", \"State\": \"Louisiana\", \"Record_ID\": 29, \"id\": 22}, {\"Month\": \"May\", \"Perpetrator_Sex\": \"Male\", \"State\": \"Maine\", \"Record_ID\": 4, \"id\": 23}, {\"Month\": \"May\", \"Perpetrator_Sex\": \"Male\", \"State\": \"Maryland\", \"Record_ID\": 23, \"id\": 24}, {\"Month\": \"May\", \"Perpetrator_Sex\": \"Male\", \"State\": \"Massachusetts\", \"Record_ID\": 8, \"id\": 25}, {\"Month\": \"May\", \"Perpetrator_Sex\": \"Male\", \"State\": \"Michigan\", \"Record_ID\": 29, \"id\": 26}, {\"Month\": \"May\", \"Perpetrator_Sex\": \"Male\", \"State\": \"Minnesota\", \"Record_ID\": 6, \"id\": 27}, {\"Month\": \"May\", \"Perpetrator_Sex\": \"Male\", \"State\": \"Mississippi\", \"Record_ID\": 8, \"id\": 28}, {\"Month\": \"May\", \"Perpetrator_Sex\": \"Male\", \"State\": \"Missouri\", \"Record_ID\": 25, \"id\": 29}, {\"Month\": \"May\", \"Perpetrator_Sex\": \"Male\", \"State\": \"Montana\", \"Record_ID\": 1, \"id\": 30}, {\"Month\": \"May\", \"Perpetrator_Sex\": \"Male\", \"State\": \"Nebraska\", \"Record_ID\": 2, \"id\": 31}, {\"Month\": \"May\", \"Perpetrator_Sex\": \"Male\", \"State\": \"Nevada\", \"Record_ID\": 12, \"id\": 32}, {\"Month\": \"May\", \"Perpetrator_Sex\": \"Male\", \"State\": \"New Hampshire\", \"Record_ID\": 0, \"id\": 33}, {\"Month\": \"May\", \"Perpetrator_Sex\": \"Male\", \"State\": \"New Jersey\", \"Record_ID\": 18, \"id\": 34}, {\"Month\": \"May\", \"Perpetrator_Sex\": \"Male\", \"State\": \"New Mexico\", \"Record_ID\": 9, \"id\": 35}, {\"Month\": \"May\", \"Perpetrator_Sex\": \"Male\", \"State\": \"New York\", \"Record_ID\": 32, \"id\": 36}, {\"Month\": \"May\", \"Perpetrator_Sex\": \"Male\", \"State\": \"North Carolina\", \"Record_ID\": 33, \"id\": 37}, {\"Month\": \"May\", \"Perpetrator_Sex\": \"Male\", \"State\": \"North Dakota\", \"Record_ID\": 0, \"id\": 38}, {\"Month\": \"May\", \"Perpetrator_Sex\": \"Male\", \"State\": \"Ohio\", \"Record_ID\": 16, \"id\": 39}, {\"Month\": \"May\", \"Perpetrator_Sex\": \"Male\", \"State\": \"Oklahoma\", \"Record_ID\": 14, \"id\": 40}, {\"Month\": \"May\", \"Perpetrator_Sex\": \"Male\", \"State\": \"Oregon\", \"Record_ID\": 5, \"id\": 41}, {\"Month\": \"May\", \"Perpetrator_Sex\": \"Male\", \"State\": \"Pennsylvania\", \"Record_ID\": 54, \"id\": 42}, {\"Month\": \"May\", \"Perpetrator_Sex\": \"Male\", \"State\": \"Rhodes Island\", \"Record_ID\": 1, \"id\": \"Rhodes Island\"}, {\"Month\": \"May\", \"Perpetrator_Sex\": \"Male\", \"State\": \"South Carolina\", \"Record_ID\": 19, \"id\": 45}, {\"Month\": \"May\", \"Perpetrator_Sex\": \"Male\", \"State\": \"South Dakota\", \"Record_ID\": 2, \"id\": 46}, {\"Month\": \"May\", \"Perpetrator_Sex\": \"Male\", \"State\": \"Tennessee\", \"Record_ID\": 29, \"id\": 47}, {\"Month\": \"May\", \"Perpetrator_Sex\": \"Male\", \"State\": \"Texas\", \"Record_ID\": 88, \"id\": 48}, {\"Month\": \"May\", \"Perpetrator_Sex\": \"Male\", \"State\": \"Utah\", \"Record_ID\": 8, \"id\": 49}, {\"Month\": \"May\", \"Perpetrator_Sex\": \"Male\", \"State\": \"Vermont\", \"Record_ID\": 0, \"id\": 50}, {\"Month\": \"May\", \"Perpetrator_Sex\": \"Male\", \"State\": \"Virginia\", \"Record_ID\": 34, \"id\": 51}, {\"Month\": \"May\", \"Perpetrator_Sex\": \"Male\", \"State\": \"Washington\", \"Record_ID\": 15, \"id\": 53}, {\"Month\": \"May\", \"Perpetrator_Sex\": \"Male\", \"State\": \"West Virginia\", \"Record_ID\": 0, \"id\": 54}, {\"Month\": \"May\", \"Perpetrator_Sex\": \"Male\", \"State\": \"Wisconsin\", \"Record_ID\": 15, \"id\": 55}, {\"Month\": \"May\", \"Perpetrator_Sex\": \"Male\", \"State\": \"Wyoming\", \"Record_ID\": 2, \"id\": 56}, {\"Month\": \"May\", \"Perpetrator_Sex\": \"Unknown\", \"State\": \"Alabama\", \"Record_ID\": 3, \"id\": 1}, {\"Month\": \"May\", \"Perpetrator_Sex\": \"Unknown\", \"State\": \"Alaska\", \"Record_ID\": 1, \"id\": 2}, {\"Month\": \"May\", \"Perpetrator_Sex\": \"Unknown\", \"State\": \"Arizona\", \"Record_ID\": 3, \"id\": 4}, {\"Month\": \"May\", \"Perpetrator_Sex\": \"Unknown\", \"State\": \"Arkansas\", \"Record_ID\": 1, \"id\": 5}, {\"Month\": \"May\", \"Perpetrator_Sex\": \"Unknown\", \"State\": \"California\", \"Record_ID\": 88, \"id\": 6}, {\"Month\": \"May\", \"Perpetrator_Sex\": \"Unknown\", \"State\": \"Colorado\", \"Record_ID\": 1, \"id\": 8}, {\"Month\": \"May\", \"Perpetrator_Sex\": \"Unknown\", \"State\": \"Connecticut\", \"Record_ID\": 6, \"id\": 9}, {\"Month\": \"May\", \"Perpetrator_Sex\": \"Unknown\", \"State\": \"Delaware\", \"Record_ID\": 2, \"id\": 10}, {\"Month\": \"May\", \"Perpetrator_Sex\": \"Unknown\", \"State\": \"District of Columbia\", \"Record_ID\": 5, \"id\": 11}, {\"Month\": \"May\", \"Perpetrator_Sex\": \"Unknown\", \"State\": \"Florida\", \"Record_ID\": 21, \"id\": 12}, {\"Month\": \"May\", \"Perpetrator_Sex\": \"Unknown\", \"State\": \"Georgia\", \"Record_ID\": 8, \"id\": 13}, {\"Month\": \"May\", \"Perpetrator_Sex\": \"Unknown\", \"State\": \"Hawaii\", \"Record_ID\": 0, \"id\": 15}, {\"Month\": \"May\", \"Perpetrator_Sex\": \"Unknown\", \"State\": \"Idaho\", \"Record_ID\": 0, \"id\": 16}, {\"Month\": \"May\", \"Perpetrator_Sex\": \"Unknown\", \"State\": \"Illinois\", \"Record_ID\": 30, \"id\": 17}, {\"Month\": \"May\", \"Perpetrator_Sex\": \"Unknown\", \"State\": \"Indiana\", \"Record_ID\": 11, \"id\": 18}, {\"Month\": \"May\", \"Perpetrator_Sex\": \"Unknown\", \"State\": \"Iowa\", \"Record_ID\": 0, \"id\": 19}, {\"Month\": \"May\", \"Perpetrator_Sex\": \"Unknown\", \"State\": \"Kansas\", \"Record_ID\": 1, \"id\": 20}, {\"Month\": \"May\", \"Perpetrator_Sex\": \"Unknown\", \"State\": \"Kentucky\", \"Record_ID\": 2, \"id\": 21}, {\"Month\": \"May\", \"Perpetrator_Sex\": \"Unknown\", \"State\": \"Louisiana\", \"Record_ID\": 15, \"id\": 22}, {\"Month\": \"May\", \"Perpetrator_Sex\": \"Unknown\", \"State\": \"Maine\", \"Record_ID\": 0, \"id\": 23}, {\"Month\": \"May\", \"Perpetrator_Sex\": \"Unknown\", \"State\": \"Maryland\", \"Record_ID\": 19, \"id\": 24}, {\"Month\": \"May\", \"Perpetrator_Sex\": \"Unknown\", \"State\": \"Massachusetts\", \"Record_ID\": 12, \"id\": 25}, {\"Month\": \"May\", \"Perpetrator_Sex\": \"Unknown\", \"State\": \"Michigan\", \"Record_ID\": 21, \"id\": 26}, {\"Month\": \"May\", \"Perpetrator_Sex\": \"Unknown\", \"State\": \"Minnesota\", \"Record_ID\": 6, \"id\": 27}, {\"Month\": \"May\", \"Perpetrator_Sex\": \"Unknown\", \"State\": \"Mississippi\", \"Record_ID\": 3, \"id\": 28}, {\"Month\": \"May\", \"Perpetrator_Sex\": \"Unknown\", \"State\": \"Missouri\", \"Record_ID\": 9, \"id\": 29}, {\"Month\": \"May\", \"Perpetrator_Sex\": \"Unknown\", \"State\": \"Montana\", \"Record_ID\": 0, \"id\": 30}, {\"Month\": \"May\", \"Perpetrator_Sex\": \"Unknown\", \"State\": \"Nebraska\", \"Record_ID\": 3, \"id\": 31}, {\"Month\": \"May\", \"Perpetrator_Sex\": \"Unknown\", \"State\": \"Nevada\", \"Record_ID\": 2, \"id\": 32}, {\"Month\": \"May\", \"Perpetrator_Sex\": \"Unknown\", \"State\": \"New Hampshire\", \"Record_ID\": 0, \"id\": 33}, {\"Month\": \"May\", \"Perpetrator_Sex\": \"Unknown\", \"State\": \"New Jersey\", \"Record_ID\": 11, \"id\": 34}, {\"Month\": \"May\", \"Perpetrator_Sex\": \"Unknown\", \"State\": \"New Mexico\", \"Record_ID\": 0, \"id\": 35}, {\"Month\": \"May\", \"Perpetrator_Sex\": \"Unknown\", \"State\": \"New York\", \"Record_ID\": 25, \"id\": 36}, {\"Month\": \"May\", \"Perpetrator_Sex\": \"Unknown\", \"State\": \"North Carolina\", \"Record_ID\": 10, \"id\": 37}, {\"Month\": \"May\", \"Perpetrator_Sex\": \"Unknown\", \"State\": \"North Dakota\", \"Record_ID\": 0, \"id\": 38}, {\"Month\": \"May\", \"Perpetrator_Sex\": \"Unknown\", \"State\": \"Ohio\", \"Record_ID\": 14, \"id\": 39}, {\"Month\": \"May\", \"Perpetrator_Sex\": \"Unknown\", \"State\": \"Oklahoma\", \"Record_ID\": 2, \"id\": 40}, {\"Month\": \"May\", \"Perpetrator_Sex\": \"Unknown\", \"State\": \"Oregon\", \"Record_ID\": 0, \"id\": 41}, {\"Month\": \"May\", \"Perpetrator_Sex\": \"Unknown\", \"State\": \"Pennsylvania\", \"Record_ID\": 3, \"id\": 42}, {\"Month\": \"May\", \"Perpetrator_Sex\": \"Unknown\", \"State\": \"Rhodes Island\", \"Record_ID\": 2, \"id\": \"Rhodes Island\"}, {\"Month\": \"May\", \"Perpetrator_Sex\": \"Unknown\", \"State\": \"South Carolina\", \"Record_ID\": 2, \"id\": 45}, {\"Month\": \"May\", \"Perpetrator_Sex\": \"Unknown\", \"State\": \"South Dakota\", \"Record_ID\": 0, \"id\": 46}, {\"Month\": \"May\", \"Perpetrator_Sex\": \"Unknown\", \"State\": \"Tennessee\", \"Record_ID\": 2, \"id\": 47}, {\"Month\": \"May\", \"Perpetrator_Sex\": \"Unknown\", \"State\": \"Texas\", \"Record_ID\": 19, \"id\": 48}, {\"Month\": \"May\", \"Perpetrator_Sex\": \"Unknown\", \"State\": \"Utah\", \"Record_ID\": 0, \"id\": 49}, {\"Month\": \"May\", \"Perpetrator_Sex\": \"Unknown\", \"State\": \"Vermont\", \"Record_ID\": 0, \"id\": 50}, {\"Month\": \"May\", \"Perpetrator_Sex\": \"Unknown\", \"State\": \"Virginia\", \"Record_ID\": 8, \"id\": 51}, {\"Month\": \"May\", \"Perpetrator_Sex\": \"Unknown\", \"State\": \"Washington\", \"Record_ID\": 2, \"id\": 53}, {\"Month\": \"May\", \"Perpetrator_Sex\": \"Unknown\", \"State\": \"West Virginia\", \"Record_ID\": 0, \"id\": 54}, {\"Month\": \"May\", \"Perpetrator_Sex\": \"Unknown\", \"State\": \"Wisconsin\", \"Record_ID\": 2, \"id\": 55}, {\"Month\": \"May\", \"Perpetrator_Sex\": \"Unknown\", \"State\": \"Wyoming\", \"Record_ID\": 0, \"id\": 56}, {\"Month\": \"June\", \"Perpetrator_Sex\": \"Female\", \"State\": \"Alabama\", \"Record_ID\": 3, \"id\": 1}, {\"Month\": \"June\", \"Perpetrator_Sex\": \"Female\", \"State\": \"Alaska\", \"Record_ID\": 0, \"id\": 2}, {\"Month\": \"June\", \"Perpetrator_Sex\": \"Female\", \"State\": \"Arizona\", \"Record_ID\": 2, \"id\": 4}, {\"Month\": \"June\", \"Perpetrator_Sex\": \"Female\", \"State\": \"Arkansas\", \"Record_ID\": 0, \"id\": 5}, {\"Month\": \"June\", \"Perpetrator_Sex\": \"Female\", \"State\": \"California\", \"Record_ID\": 8, \"id\": 6}, {\"Month\": \"June\", \"Perpetrator_Sex\": \"Female\", \"State\": \"Colorado\", \"Record_ID\": 1, \"id\": 8}, {\"Month\": \"June\", \"Perpetrator_Sex\": \"Female\", \"State\": \"Connecticut\", \"Record_ID\": 0, \"id\": 9}, {\"Month\": \"June\", \"Perpetrator_Sex\": \"Female\", \"State\": \"Delaware\", \"Record_ID\": 0, \"id\": 10}, {\"Month\": \"June\", \"Perpetrator_Sex\": \"Female\", \"State\": \"District of Columbia\", \"Record_ID\": 1, \"id\": 11}, {\"Month\": \"June\", \"Perpetrator_Sex\": \"Female\", \"State\": \"Florida\", \"Record_ID\": 8, \"id\": 12}, {\"Month\": \"June\", \"Perpetrator_Sex\": \"Female\", \"State\": \"Georgia\", \"Record_ID\": 5, \"id\": 13}, {\"Month\": \"June\", \"Perpetrator_Sex\": \"Female\", \"State\": \"Hawaii\", \"Record_ID\": 0, \"id\": 15}, {\"Month\": \"June\", \"Perpetrator_Sex\": \"Female\", \"State\": \"Idaho\", \"Record_ID\": 0, \"id\": 16}, {\"Month\": \"June\", \"Perpetrator_Sex\": \"Female\", \"State\": \"Illinois\", \"Record_ID\": 1, \"id\": 17}, {\"Month\": \"June\", \"Perpetrator_Sex\": \"Female\", \"State\": \"Indiana\", \"Record_ID\": 1, \"id\": 18}, {\"Month\": \"June\", \"Perpetrator_Sex\": \"Female\", \"State\": \"Iowa\", \"Record_ID\": 0, \"id\": 19}, {\"Month\": \"June\", \"Perpetrator_Sex\": \"Female\", \"State\": \"Kansas\", \"Record_ID\": 2, \"id\": 20}, {\"Month\": \"June\", \"Perpetrator_Sex\": \"Female\", \"State\": \"Kentucky\", \"Record_ID\": 1, \"id\": 21}, {\"Month\": \"June\", \"Perpetrator_Sex\": \"Female\", \"State\": \"Louisiana\", \"Record_ID\": 3, \"id\": 22}, {\"Month\": \"June\", \"Perpetrator_Sex\": \"Female\", \"State\": \"Maine\", \"Record_ID\": 0, \"id\": 23}, {\"Month\": \"June\", \"Perpetrator_Sex\": \"Female\", \"State\": \"Maryland\", \"Record_ID\": 2, \"id\": 24}, {\"Month\": \"June\", \"Perpetrator_Sex\": \"Female\", \"State\": \"Massachusetts\", \"Record_ID\": 1, \"id\": 25}, {\"Month\": \"June\", \"Perpetrator_Sex\": \"Female\", \"State\": \"Michigan\", \"Record_ID\": 2, \"id\": 26}, {\"Month\": \"June\", \"Perpetrator_Sex\": \"Female\", \"State\": \"Minnesota\", \"Record_ID\": 1, \"id\": 27}, {\"Month\": \"June\", \"Perpetrator_Sex\": \"Female\", \"State\": \"Mississippi\", \"Record_ID\": 3, \"id\": 28}, {\"Month\": \"June\", \"Perpetrator_Sex\": \"Female\", \"State\": \"Missouri\", \"Record_ID\": 1, \"id\": 29}, {\"Month\": \"June\", \"Perpetrator_Sex\": \"Female\", \"State\": \"Montana\", \"Record_ID\": 0, \"id\": 30}, {\"Month\": \"June\", \"Perpetrator_Sex\": \"Female\", \"State\": \"Nebraska\", \"Record_ID\": 0, \"id\": 31}, {\"Month\": \"June\", \"Perpetrator_Sex\": \"Female\", \"State\": \"Nevada\", \"Record_ID\": 1, \"id\": 32}, {\"Month\": \"June\", \"Perpetrator_Sex\": \"Female\", \"State\": \"New Hampshire\", \"Record_ID\": 1, \"id\": 33}, {\"Month\": \"June\", \"Perpetrator_Sex\": \"Female\", \"State\": \"New Jersey\", \"Record_ID\": 1, \"id\": 34}, {\"Month\": \"June\", \"Perpetrator_Sex\": \"Female\", \"State\": \"New Mexico\", \"Record_ID\": 2, \"id\": 35}, {\"Month\": \"June\", \"Perpetrator_Sex\": \"Female\", \"State\": \"New York\", \"Record_ID\": 6, \"id\": 36}, {\"Month\": \"June\", \"Perpetrator_Sex\": \"Female\", \"State\": \"North Carolina\", \"Record_ID\": 4, \"id\": 37}, {\"Month\": \"June\", \"Perpetrator_Sex\": \"Female\", \"State\": \"North Dakota\", \"Record_ID\": 0, \"id\": 38}, {\"Month\": \"June\", \"Perpetrator_Sex\": \"Female\", \"State\": \"Ohio\", \"Record_ID\": 1, \"id\": 39}, {\"Month\": \"June\", \"Perpetrator_Sex\": \"Female\", \"State\": \"Oklahoma\", \"Record_ID\": 2, \"id\": 40}, {\"Month\": \"June\", \"Perpetrator_Sex\": \"Female\", \"State\": \"Oregon\", \"Record_ID\": 0, \"id\": 41}, {\"Month\": \"June\", \"Perpetrator_Sex\": \"Female\", \"State\": \"Pennsylvania\", \"Record_ID\": 4, \"id\": 42}, {\"Month\": \"June\", \"Perpetrator_Sex\": \"Female\", \"State\": \"Rhodes Island\", \"Record_ID\": 0, \"id\": \"Rhodes Island\"}, {\"Month\": \"June\", \"Perpetrator_Sex\": \"Female\", \"State\": \"South Carolina\", \"Record_ID\": 1, \"id\": 45}, {\"Month\": \"June\", \"Perpetrator_Sex\": \"Female\", \"State\": \"South Dakota\", \"Record_ID\": 0, \"id\": 46}, {\"Month\": \"June\", \"Perpetrator_Sex\": \"Female\", \"State\": \"Tennessee\", \"Record_ID\": 4, \"id\": 47}, {\"Month\": \"June\", \"Perpetrator_Sex\": \"Female\", \"State\": \"Texas\", \"Record_ID\": 7, \"id\": 48}, {\"Month\": \"June\", \"Perpetrator_Sex\": \"Female\", \"State\": \"Utah\", \"Record_ID\": 0, \"id\": 49}, {\"Month\": \"June\", \"Perpetrator_Sex\": \"Female\", \"State\": \"Vermont\", \"Record_ID\": 0, \"id\": 50}, {\"Month\": \"June\", \"Perpetrator_Sex\": \"Female\", \"State\": \"Virginia\", \"Record_ID\": 2, \"id\": 51}, {\"Month\": \"June\", \"Perpetrator_Sex\": \"Female\", \"State\": \"Washington\", \"Record_ID\": 1, \"id\": 53}, {\"Month\": \"June\", \"Perpetrator_Sex\": \"Female\", \"State\": \"West Virginia\", \"Record_ID\": 1, \"id\": 54}, {\"Month\": \"June\", \"Perpetrator_Sex\": \"Female\", \"State\": \"Wisconsin\", \"Record_ID\": 0, \"id\": 55}, {\"Month\": \"June\", \"Perpetrator_Sex\": \"Female\", \"State\": \"Wyoming\", \"Record_ID\": 0, \"id\": 56}, {\"Month\": \"June\", \"Perpetrator_Sex\": \"Male\", \"State\": \"Alabama\", \"Record_ID\": 20, \"id\": 1}, {\"Month\": \"June\", \"Perpetrator_Sex\": \"Male\", \"State\": \"Alaska\", \"Record_ID\": 2, \"id\": 2}, {\"Month\": \"June\", \"Perpetrator_Sex\": \"Male\", \"State\": \"Arizona\", \"Record_ID\": 19, \"id\": 4}, {\"Month\": \"June\", \"Perpetrator_Sex\": \"Male\", \"State\": \"Arkansas\", \"Record_ID\": 8, \"id\": 5}, {\"Month\": \"June\", \"Perpetrator_Sex\": \"Male\", \"State\": \"California\", \"Record_ID\": 81, \"id\": 6}, {\"Month\": \"June\", \"Perpetrator_Sex\": \"Male\", \"State\": \"Colorado\", \"Record_ID\": 10, \"id\": 8}, {\"Month\": \"June\", \"Perpetrator_Sex\": \"Male\", \"State\": \"Connecticut\", \"Record_ID\": 5, \"id\": 9}, {\"Month\": \"June\", \"Perpetrator_Sex\": \"Male\", \"State\": \"Delaware\", \"Record_ID\": 2, \"id\": 10}, {\"Month\": \"June\", \"Perpetrator_Sex\": \"Male\", \"State\": \"District of Columbia\", \"Record_ID\": 10, \"id\": 11}, {\"Month\": \"June\", \"Perpetrator_Sex\": \"Male\", \"State\": \"Florida\", \"Record_ID\": 61, \"id\": 12}, {\"Month\": \"June\", \"Perpetrator_Sex\": \"Male\", \"State\": \"Georgia\", \"Record_ID\": 28, \"id\": 13}, {\"Month\": \"June\", \"Perpetrator_Sex\": \"Male\", \"State\": \"Hawaii\", \"Record_ID\": 1, \"id\": 15}, {\"Month\": \"June\", \"Perpetrator_Sex\": \"Male\", \"State\": \"Idaho\", \"Record_ID\": 0, \"id\": 16}, {\"Month\": \"June\", \"Perpetrator_Sex\": \"Male\", \"State\": \"Illinois\", \"Record_ID\": 12, \"id\": 17}, {\"Month\": \"June\", \"Perpetrator_Sex\": \"Male\", \"State\": \"Indiana\", \"Record_ID\": 10, \"id\": 18}, {\"Month\": \"June\", \"Perpetrator_Sex\": \"Male\", \"State\": \"Iowa\", \"Record_ID\": 3, \"id\": 19}, {\"Month\": \"June\", \"Perpetrator_Sex\": \"Male\", \"State\": \"Kansas\", \"Record_ID\": 8, \"id\": 20}, {\"Month\": \"June\", \"Perpetrator_Sex\": \"Male\", \"State\": \"Kentucky\", \"Record_ID\": 7, \"id\": 21}, {\"Month\": \"June\", \"Perpetrator_Sex\": \"Male\", \"State\": \"Louisiana\", \"Record_ID\": 24, \"id\": 22}, {\"Month\": \"June\", \"Perpetrator_Sex\": \"Male\", \"State\": \"Maine\", \"Record_ID\": 5, \"id\": 23}, {\"Month\": \"June\", \"Perpetrator_Sex\": \"Male\", \"State\": \"Maryland\", \"Record_ID\": 26, \"id\": 24}, {\"Month\": \"June\", \"Perpetrator_Sex\": \"Male\", \"State\": \"Massachusetts\", \"Record_ID\": 11, \"id\": 25}, {\"Month\": \"June\", \"Perpetrator_Sex\": \"Male\", \"State\": \"Michigan\", \"Record_ID\": 34, \"id\": 26}, {\"Month\": \"June\", \"Perpetrator_Sex\": \"Male\", \"State\": \"Minnesota\", \"Record_ID\": 3, \"id\": 27}, {\"Month\": \"June\", \"Perpetrator_Sex\": \"Male\", \"State\": \"Mississippi\", \"Record_ID\": 17, \"id\": 28}, {\"Month\": \"June\", \"Perpetrator_Sex\": \"Male\", \"State\": \"Missouri\", \"Record_ID\": 29, \"id\": 29}, {\"Month\": \"June\", \"Perpetrator_Sex\": \"Male\", \"State\": \"Montana\", \"Record_ID\": 0, \"id\": 30}, {\"Month\": \"June\", \"Perpetrator_Sex\": \"Male\", \"State\": \"Nebraska\", \"Record_ID\": 2, \"id\": 31}, {\"Month\": \"June\", \"Perpetrator_Sex\": \"Male\", \"State\": \"Nevada\", \"Record_ID\": 8, \"id\": 32}, {\"Month\": \"June\", \"Perpetrator_Sex\": \"Male\", \"State\": \"New Hampshire\", \"Record_ID\": 2, \"id\": 33}, {\"Month\": \"June\", \"Perpetrator_Sex\": \"Male\", \"State\": \"New Jersey\", \"Record_ID\": 29, \"id\": 34}, {\"Month\": \"June\", \"Perpetrator_Sex\": \"Male\", \"State\": \"New Mexico\", \"Record_ID\": 5, \"id\": 35}, {\"Month\": \"June\", \"Perpetrator_Sex\": \"Male\", \"State\": \"New York\", \"Record_ID\": 44, \"id\": 36}, {\"Month\": \"June\", \"Perpetrator_Sex\": \"Male\", \"State\": \"North Carolina\", \"Record_ID\": 26, \"id\": 37}, {\"Month\": \"June\", \"Perpetrator_Sex\": \"Male\", \"State\": \"North Dakota\", \"Record_ID\": 2, \"id\": 38}, {\"Month\": \"June\", \"Perpetrator_Sex\": \"Male\", \"State\": \"Ohio\", \"Record_ID\": 35, \"id\": 39}, {\"Month\": \"June\", \"Perpetrator_Sex\": \"Male\", \"State\": \"Oklahoma\", \"Record_ID\": 10, \"id\": 40}, {\"Month\": \"June\", \"Perpetrator_Sex\": \"Male\", \"State\": \"Oregon\", \"Record_ID\": 5, \"id\": 41}, {\"Month\": \"June\", \"Perpetrator_Sex\": \"Male\", \"State\": \"Pennsylvania\", \"Record_ID\": 48, \"id\": 42}, {\"Month\": \"June\", \"Perpetrator_Sex\": \"Male\", \"State\": \"Rhodes Island\", \"Record_ID\": 2, \"id\": \"Rhodes Island\"}, {\"Month\": \"June\", \"Perpetrator_Sex\": \"Male\", \"State\": \"South Carolina\", \"Record_ID\": 19, \"id\": 45}, {\"Month\": \"June\", \"Perpetrator_Sex\": \"Male\", \"State\": \"South Dakota\", \"Record_ID\": 0, \"id\": 46}, {\"Month\": \"June\", \"Perpetrator_Sex\": \"Male\", \"State\": \"Tennessee\", \"Record_ID\": 25, \"id\": 47}, {\"Month\": \"June\", \"Perpetrator_Sex\": \"Male\", \"State\": \"Texas\", \"Record_ID\": 86, \"id\": 48}, {\"Month\": \"June\", \"Perpetrator_Sex\": \"Male\", \"State\": \"Utah\", \"Record_ID\": 5, \"id\": 49}, {\"Month\": \"June\", \"Perpetrator_Sex\": \"Male\", \"State\": \"Vermont\", \"Record_ID\": 1, \"id\": 50}, {\"Month\": \"June\", \"Perpetrator_Sex\": \"Male\", \"State\": \"Virginia\", \"Record_ID\": 30, \"id\": 51}, {\"Month\": \"June\", \"Perpetrator_Sex\": \"Male\", \"State\": \"Washington\", \"Record_ID\": 10, \"id\": 53}, {\"Month\": \"June\", \"Perpetrator_Sex\": \"Male\", \"State\": \"West Virginia\", \"Record_ID\": 9, \"id\": 54}, {\"Month\": \"June\", \"Perpetrator_Sex\": \"Male\", \"State\": \"Wisconsin\", \"Record_ID\": 9, \"id\": 55}, {\"Month\": \"June\", \"Perpetrator_Sex\": \"Male\", \"State\": \"Wyoming\", \"Record_ID\": 2, \"id\": 56}, {\"Month\": \"June\", \"Perpetrator_Sex\": \"Unknown\", \"State\": \"Alabama\", \"Record_ID\": 4, \"id\": 1}, {\"Month\": \"June\", \"Perpetrator_Sex\": \"Unknown\", \"State\": \"Alaska\", \"Record_ID\": 1, \"id\": 2}, {\"Month\": \"June\", \"Perpetrator_Sex\": \"Unknown\", \"State\": \"Arizona\", \"Record_ID\": 9, \"id\": 4}, {\"Month\": \"June\", \"Perpetrator_Sex\": \"Unknown\", \"State\": \"Arkansas\", \"Record_ID\": 3, \"id\": 5}, {\"Month\": \"June\", \"Perpetrator_Sex\": \"Unknown\", \"State\": \"California\", \"Record_ID\": 62, \"id\": 6}, {\"Month\": \"June\", \"Perpetrator_Sex\": \"Unknown\", \"State\": \"Colorado\", \"Record_ID\": 1, \"id\": 8}, {\"Month\": \"June\", \"Perpetrator_Sex\": \"Unknown\", \"State\": \"Connecticut\", \"Record_ID\": 5, \"id\": 9}, {\"Month\": \"June\", \"Perpetrator_Sex\": \"Unknown\", \"State\": \"Delaware\", \"Record_ID\": 0, \"id\": 10}, {\"Month\": \"June\", \"Perpetrator_Sex\": \"Unknown\", \"State\": \"District of Columbia\", \"Record_ID\": 7, \"id\": 11}, {\"Month\": \"June\", \"Perpetrator_Sex\": \"Unknown\", \"State\": \"Florida\", \"Record_ID\": 20, \"id\": 12}, {\"Month\": \"June\", \"Perpetrator_Sex\": \"Unknown\", \"State\": \"Georgia\", \"Record_ID\": 13, \"id\": 13}, {\"Month\": \"June\", \"Perpetrator_Sex\": \"Unknown\", \"State\": \"Hawaii\", \"Record_ID\": 0, \"id\": 15}, {\"Month\": \"June\", \"Perpetrator_Sex\": \"Unknown\", \"State\": \"Idaho\", \"Record_ID\": 0, \"id\": 16}, {\"Month\": \"June\", \"Perpetrator_Sex\": \"Unknown\", \"State\": \"Illinois\", \"Record_ID\": 38, \"id\": 17}, {\"Month\": \"June\", \"Perpetrator_Sex\": \"Unknown\", \"State\": \"Indiana\", \"Record_ID\": 13, \"id\": 18}, {\"Month\": \"June\", \"Perpetrator_Sex\": \"Unknown\", \"State\": \"Iowa\", \"Record_ID\": 1, \"id\": 19}, {\"Month\": \"June\", \"Perpetrator_Sex\": \"Unknown\", \"State\": \"Kansas\", \"Record_ID\": 1, \"id\": 20}, {\"Month\": \"June\", \"Perpetrator_Sex\": \"Unknown\", \"State\": \"Kentucky\", \"Record_ID\": 3, \"id\": 21}, {\"Month\": \"June\", \"Perpetrator_Sex\": \"Unknown\", \"State\": \"Louisiana\", \"Record_ID\": 20, \"id\": 22}, {\"Month\": \"June\", \"Perpetrator_Sex\": \"Unknown\", \"State\": \"Maine\", \"Record_ID\": 0, \"id\": 23}, {\"Month\": \"June\", \"Perpetrator_Sex\": \"Unknown\", \"State\": \"Maryland\", \"Record_ID\": 14, \"id\": 24}, {\"Month\": \"June\", \"Perpetrator_Sex\": \"Unknown\", \"State\": \"Massachusetts\", \"Record_ID\": 2, \"id\": 25}, {\"Month\": \"June\", \"Perpetrator_Sex\": \"Unknown\", \"State\": \"Michigan\", \"Record_ID\": 12, \"id\": 26}, {\"Month\": \"June\", \"Perpetrator_Sex\": \"Unknown\", \"State\": \"Minnesota\", \"Record_ID\": 2, \"id\": 27}, {\"Month\": \"June\", \"Perpetrator_Sex\": \"Unknown\", \"State\": \"Mississippi\", \"Record_ID\": 2, \"id\": 28}, {\"Month\": \"June\", \"Perpetrator_Sex\": \"Unknown\", \"State\": \"Missouri\", \"Record_ID\": 9, \"id\": 29}, {\"Month\": \"June\", \"Perpetrator_Sex\": \"Unknown\", \"State\": \"Montana\", \"Record_ID\": 0, \"id\": 30}, {\"Month\": \"June\", \"Perpetrator_Sex\": \"Unknown\", \"State\": \"Nebraska\", \"Record_ID\": 0, \"id\": 31}, {\"Month\": \"June\", \"Perpetrator_Sex\": \"Unknown\", \"State\": \"Nevada\", \"Record_ID\": 4, \"id\": 32}, {\"Month\": \"June\", \"Perpetrator_Sex\": \"Unknown\", \"State\": \"New Hampshire\", \"Record_ID\": 0, \"id\": 33}, {\"Month\": \"June\", \"Perpetrator_Sex\": \"Unknown\", \"State\": \"New Jersey\", \"Record_ID\": 15, \"id\": 34}, {\"Month\": \"June\", \"Perpetrator_Sex\": \"Unknown\", \"State\": \"New Mexico\", \"Record_ID\": 1, \"id\": 35}, {\"Month\": \"June\", \"Perpetrator_Sex\": \"Unknown\", \"State\": \"New York\", \"Record_ID\": 37, \"id\": 36}, {\"Month\": \"June\", \"Perpetrator_Sex\": \"Unknown\", \"State\": \"North Carolina\", \"Record_ID\": 15, \"id\": 37}, {\"Month\": \"June\", \"Perpetrator_Sex\": \"Unknown\", \"State\": \"North Dakota\", \"Record_ID\": 0, \"id\": 38}, {\"Month\": \"June\", \"Perpetrator_Sex\": \"Unknown\", \"State\": \"Ohio\", \"Record_ID\": 11, \"id\": 39}, {\"Month\": \"June\", \"Perpetrator_Sex\": \"Unknown\", \"State\": \"Oklahoma\", \"Record_ID\": 3, \"id\": 40}, {\"Month\": \"June\", \"Perpetrator_Sex\": \"Unknown\", \"State\": \"Oregon\", \"Record_ID\": 2, \"id\": 41}, {\"Month\": \"June\", \"Perpetrator_Sex\": \"Unknown\", \"State\": \"Pennsylvania\", \"Record_ID\": 16, \"id\": 42}, {\"Month\": \"June\", \"Perpetrator_Sex\": \"Unknown\", \"State\": \"Rhodes Island\", \"Record_ID\": 1, \"id\": \"Rhodes Island\"}, {\"Month\": \"June\", \"Perpetrator_Sex\": \"Unknown\", \"State\": \"South Carolina\", \"Record_ID\": 2, \"id\": 45}, {\"Month\": \"June\", \"Perpetrator_Sex\": \"Unknown\", \"State\": \"South Dakota\", \"Record_ID\": 0, \"id\": 46}, {\"Month\": \"June\", \"Perpetrator_Sex\": \"Unknown\", \"State\": \"Tennessee\", \"Record_ID\": 2, \"id\": 47}, {\"Month\": \"June\", \"Perpetrator_Sex\": \"Unknown\", \"State\": \"Texas\", \"Record_ID\": 25, \"id\": 48}, {\"Month\": \"June\", \"Perpetrator_Sex\": \"Unknown\", \"State\": \"Utah\", \"Record_ID\": 1, \"id\": 49}, {\"Month\": \"June\", \"Perpetrator_Sex\": \"Unknown\", \"State\": \"Vermont\", \"Record_ID\": 0, \"id\": 50}, {\"Month\": \"June\", \"Perpetrator_Sex\": \"Unknown\", \"State\": \"Virginia\", \"Record_ID\": 3, \"id\": 51}, {\"Month\": \"June\", \"Perpetrator_Sex\": \"Unknown\", \"State\": \"Washington\", \"Record_ID\": 0, \"id\": 53}, {\"Month\": \"June\", \"Perpetrator_Sex\": \"Unknown\", \"State\": \"West Virginia\", \"Record_ID\": 0, \"id\": 54}, {\"Month\": \"June\", \"Perpetrator_Sex\": \"Unknown\", \"State\": \"Wisconsin\", \"Record_ID\": 1, \"id\": 55}, {\"Month\": \"June\", \"Perpetrator_Sex\": \"Unknown\", \"State\": \"Wyoming\", \"Record_ID\": 0, \"id\": 56}, {\"Month\": \"July\", \"Perpetrator_Sex\": \"Female\", \"State\": \"Alabama\", \"Record_ID\": 1, \"id\": 1}, {\"Month\": \"July\", \"Perpetrator_Sex\": \"Female\", \"State\": \"Alaska\", \"Record_ID\": 0, \"id\": 2}, {\"Month\": \"July\", \"Perpetrator_Sex\": \"Female\", \"State\": \"Arizona\", \"Record_ID\": 4, \"id\": 4}, {\"Month\": \"July\", \"Perpetrator_Sex\": \"Female\", \"State\": \"Arkansas\", \"Record_ID\": 1, \"id\": 5}, {\"Month\": \"July\", \"Perpetrator_Sex\": \"Female\", \"State\": \"California\", \"Record_ID\": 9, \"id\": 6}, {\"Month\": \"July\", \"Perpetrator_Sex\": \"Female\", \"State\": \"Colorado\", \"Record_ID\": 2, \"id\": 8}, {\"Month\": \"July\", \"Perpetrator_Sex\": \"Female\", \"State\": \"Connecticut\", \"Record_ID\": 1, \"id\": 9}, {\"Month\": \"July\", \"Perpetrator_Sex\": \"Female\", \"State\": \"Delaware\", \"Record_ID\": 0, \"id\": 10}, {\"Month\": \"July\", \"Perpetrator_Sex\": \"Female\", \"State\": \"District of Columbia\", \"Record_ID\": 0, \"id\": 11}, {\"Month\": \"July\", \"Perpetrator_Sex\": \"Female\", \"State\": \"Florida\", \"Record_ID\": 9, \"id\": 12}, {\"Month\": \"July\", \"Perpetrator_Sex\": \"Female\", \"State\": \"Georgia\", \"Record_ID\": 3, \"id\": 13}, {\"Month\": \"July\", \"Perpetrator_Sex\": \"Female\", \"State\": \"Hawaii\", \"Record_ID\": 0, \"id\": 15}, {\"Month\": \"July\", \"Perpetrator_Sex\": \"Female\", \"State\": \"Idaho\", \"Record_ID\": 0, \"id\": 16}, {\"Month\": \"July\", \"Perpetrator_Sex\": \"Female\", \"State\": \"Illinois\", \"Record_ID\": 3, \"id\": 17}, {\"Month\": \"July\", \"Perpetrator_Sex\": \"Female\", \"State\": \"Indiana\", \"Record_ID\": 2, \"id\": 18}, {\"Month\": \"July\", \"Perpetrator_Sex\": \"Female\", \"State\": \"Iowa\", \"Record_ID\": 0, \"id\": 19}, {\"Month\": \"July\", \"Perpetrator_Sex\": \"Female\", \"State\": \"Kansas\", \"Record_ID\": 1, \"id\": 20}, {\"Month\": \"July\", \"Perpetrator_Sex\": \"Female\", \"State\": \"Kentucky\", \"Record_ID\": 2, \"id\": 21}, {\"Month\": \"July\", \"Perpetrator_Sex\": \"Female\", \"State\": \"Louisiana\", \"Record_ID\": 1, \"id\": 22}, {\"Month\": \"July\", \"Perpetrator_Sex\": \"Female\", \"State\": \"Maine\", \"Record_ID\": 0, \"id\": 23}, {\"Month\": \"July\", \"Perpetrator_Sex\": \"Female\", \"State\": \"Maryland\", \"Record_ID\": 0, \"id\": 24}, {\"Month\": \"July\", \"Perpetrator_Sex\": \"Female\", \"State\": \"Massachusetts\", \"Record_ID\": 0, \"id\": 25}, {\"Month\": \"July\", \"Perpetrator_Sex\": \"Female\", \"State\": \"Michigan\", \"Record_ID\": 5, \"id\": 26}, {\"Month\": \"July\", \"Perpetrator_Sex\": \"Female\", \"State\": \"Minnesota\", \"Record_ID\": 0, \"id\": 27}, {\"Month\": \"July\", \"Perpetrator_Sex\": \"Female\", \"State\": \"Mississippi\", \"Record_ID\": 2, \"id\": 28}, {\"Month\": \"July\", \"Perpetrator_Sex\": \"Female\", \"State\": \"Missouri\", \"Record_ID\": 3, \"id\": 29}, {\"Month\": \"July\", \"Perpetrator_Sex\": \"Female\", \"State\": \"Montana\", \"Record_ID\": 0, \"id\": 30}, {\"Month\": \"July\", \"Perpetrator_Sex\": \"Female\", \"State\": \"Nebraska\", \"Record_ID\": 0, \"id\": 31}, {\"Month\": \"July\", \"Perpetrator_Sex\": \"Female\", \"State\": \"Nevada\", \"Record_ID\": 0, \"id\": 32}, {\"Month\": \"July\", \"Perpetrator_Sex\": \"Female\", \"State\": \"New Hampshire\", \"Record_ID\": 0, \"id\": 33}, {\"Month\": \"July\", \"Perpetrator_Sex\": \"Female\", \"State\": \"New Jersey\", \"Record_ID\": 0, \"id\": 34}, {\"Month\": \"July\", \"Perpetrator_Sex\": \"Female\", \"State\": \"New Mexico\", \"Record_ID\": 2, \"id\": 35}, {\"Month\": \"July\", \"Perpetrator_Sex\": \"Female\", \"State\": \"New York\", \"Record_ID\": 6, \"id\": 36}, {\"Month\": \"July\", \"Perpetrator_Sex\": \"Female\", \"State\": \"North Carolina\", \"Record_ID\": 0, \"id\": 37}, {\"Month\": \"July\", \"Perpetrator_Sex\": \"Female\", \"State\": \"North Dakota\", \"Record_ID\": 0, \"id\": 38}, {\"Month\": \"July\", \"Perpetrator_Sex\": \"Female\", \"State\": \"Ohio\", \"Record_ID\": 1, \"id\": 39}, {\"Month\": \"July\", \"Perpetrator_Sex\": \"Female\", \"State\": \"Oklahoma\", \"Record_ID\": 4, \"id\": 40}, {\"Month\": \"July\", \"Perpetrator_Sex\": \"Female\", \"State\": \"Oregon\", \"Record_ID\": 2, \"id\": 41}, {\"Month\": \"July\", \"Perpetrator_Sex\": \"Female\", \"State\": \"Pennsylvania\", \"Record_ID\": 7, \"id\": 42}, {\"Month\": \"July\", \"Perpetrator_Sex\": \"Female\", \"State\": \"Rhodes Island\", \"Record_ID\": 0, \"id\": \"Rhodes Island\"}, {\"Month\": \"July\", \"Perpetrator_Sex\": \"Female\", \"State\": \"South Carolina\", \"Record_ID\": 0, \"id\": 45}, {\"Month\": \"July\", \"Perpetrator_Sex\": \"Female\", \"State\": \"South Dakota\", \"Record_ID\": 0, \"id\": 46}, {\"Month\": \"July\", \"Perpetrator_Sex\": \"Female\", \"State\": \"Tennessee\", \"Record_ID\": 3, \"id\": 47}, {\"Month\": \"July\", \"Perpetrator_Sex\": \"Female\", \"State\": \"Texas\", \"Record_ID\": 6, \"id\": 48}, {\"Month\": \"July\", \"Perpetrator_Sex\": \"Female\", \"State\": \"Utah\", \"Record_ID\": 0, \"id\": 49}, {\"Month\": \"July\", \"Perpetrator_Sex\": \"Female\", \"State\": \"Vermont\", \"Record_ID\": 0, \"id\": 50}, {\"Month\": \"July\", \"Perpetrator_Sex\": \"Female\", \"State\": \"Virginia\", \"Record_ID\": 1, \"id\": 51}, {\"Month\": \"July\", \"Perpetrator_Sex\": \"Female\", \"State\": \"Washington\", \"Record_ID\": 0, \"id\": 53}, {\"Month\": \"July\", \"Perpetrator_Sex\": \"Female\", \"State\": \"West Virginia\", \"Record_ID\": 1, \"id\": 54}, {\"Month\": \"July\", \"Perpetrator_Sex\": \"Female\", \"State\": \"Wisconsin\", \"Record_ID\": 1, \"id\": 55}, {\"Month\": \"July\", \"Perpetrator_Sex\": \"Female\", \"State\": \"Wyoming\", \"Record_ID\": 0, \"id\": 56}, {\"Month\": \"July\", \"Perpetrator_Sex\": \"Male\", \"State\": \"Alabama\", \"Record_ID\": 14, \"id\": 1}, {\"Month\": \"July\", \"Perpetrator_Sex\": \"Male\", \"State\": \"Alaska\", \"Record_ID\": 2, \"id\": 2}, {\"Month\": \"July\", \"Perpetrator_Sex\": \"Male\", \"State\": \"Arizona\", \"Record_ID\": 24, \"id\": 4}, {\"Month\": \"July\", \"Perpetrator_Sex\": \"Male\", \"State\": \"Arkansas\", \"Record_ID\": 11, \"id\": 5}, {\"Month\": \"July\", \"Perpetrator_Sex\": \"Male\", \"State\": \"California\", \"Record_ID\": 79, \"id\": 6}, {\"Month\": \"July\", \"Perpetrator_Sex\": \"Male\", \"State\": \"Colorado\", \"Record_ID\": 15, \"id\": 8}, {\"Month\": \"July\", \"Perpetrator_Sex\": \"Male\", \"State\": \"Connecticut\", \"Record_ID\": 5, \"id\": 9}, {\"Month\": \"July\", \"Perpetrator_Sex\": \"Male\", \"State\": \"Delaware\", \"Record_ID\": 1, \"id\": 10}, {\"Month\": \"July\", \"Perpetrator_Sex\": \"Male\", \"State\": \"District of Columbia\", \"Record_ID\": 6, \"id\": 11}, {\"Month\": \"July\", \"Perpetrator_Sex\": \"Male\", \"State\": \"Florida\", \"Record_ID\": 55, \"id\": 12}, {\"Month\": \"July\", \"Perpetrator_Sex\": \"Male\", \"State\": \"Georgia\", \"Record_ID\": 24, \"id\": 13}, {\"Month\": \"July\", \"Perpetrator_Sex\": \"Male\", \"State\": \"Hawaii\", \"Record_ID\": 1, \"id\": 15}, {\"Month\": \"July\", \"Perpetrator_Sex\": \"Male\", \"State\": \"Idaho\", \"Record_ID\": 2, \"id\": 16}, {\"Month\": \"July\", \"Perpetrator_Sex\": \"Male\", \"State\": \"Illinois\", \"Record_ID\": 9, \"id\": 17}, {\"Month\": \"July\", \"Perpetrator_Sex\": \"Male\", \"State\": \"Indiana\", \"Record_ID\": 19, \"id\": 18}, {\"Month\": \"July\", \"Perpetrator_Sex\": \"Male\", \"State\": \"Iowa\", \"Record_ID\": 4, \"id\": 19}, {\"Month\": \"July\", \"Perpetrator_Sex\": \"Male\", \"State\": \"Kansas\", \"Record_ID\": 10, \"id\": 20}, {\"Month\": \"July\", \"Perpetrator_Sex\": \"Male\", \"State\": \"Kentucky\", \"Record_ID\": 7, \"id\": 21}, {\"Month\": \"July\", \"Perpetrator_Sex\": \"Male\", \"State\": \"Louisiana\", \"Record_ID\": 20, \"id\": 22}, {\"Month\": \"July\", \"Perpetrator_Sex\": \"Male\", \"State\": \"Maine\", \"Record_ID\": 2, \"id\": 23}, {\"Month\": \"July\", \"Perpetrator_Sex\": \"Male\", \"State\": \"Maryland\", \"Record_ID\": 30, \"id\": 24}, {\"Month\": \"July\", \"Perpetrator_Sex\": \"Male\", \"State\": \"Massachusetts\", \"Record_ID\": 13, \"id\": 25}, {\"Month\": \"July\", \"Perpetrator_Sex\": \"Male\", \"State\": \"Michigan\", \"Record_ID\": 40, \"id\": 26}, {\"Month\": \"July\", \"Perpetrator_Sex\": \"Male\", \"State\": \"Minnesota\", \"Record_ID\": 15, \"id\": 27}, {\"Month\": \"July\", \"Perpetrator_Sex\": \"Male\", \"State\": \"Mississippi\", \"Record_ID\": 11, \"id\": 28}, {\"Month\": \"July\", \"Perpetrator_Sex\": \"Male\", \"State\": \"Missouri\", \"Record_ID\": 35, \"id\": 29}, {\"Month\": \"July\", \"Perpetrator_Sex\": \"Male\", \"State\": \"Montana\", \"Record_ID\": 3, \"id\": 30}, {\"Month\": \"July\", \"Perpetrator_Sex\": \"Male\", \"State\": \"Nebraska\", \"Record_ID\": 3, \"id\": 31}, {\"Month\": \"July\", \"Perpetrator_Sex\": \"Male\", \"State\": \"Nevada\", \"Record_ID\": 10, \"id\": 32}, {\"Month\": \"July\", \"Perpetrator_Sex\": \"Male\", \"State\": \"New Hampshire\", \"Record_ID\": 0, \"id\": 33}, {\"Month\": \"July\", \"Perpetrator_Sex\": \"Male\", \"State\": \"New Jersey\", \"Record_ID\": 17, \"id\": 34}, {\"Month\": \"July\", \"Perpetrator_Sex\": \"Male\", \"State\": \"New Mexico\", \"Record_ID\": 13, \"id\": 35}, {\"Month\": \"July\", \"Perpetrator_Sex\": \"Male\", \"State\": \"New York\", \"Record_ID\": 50, \"id\": 36}, {\"Month\": \"July\", \"Perpetrator_Sex\": \"Male\", \"State\": \"North Carolina\", \"Record_ID\": 36, \"id\": 37}, {\"Month\": \"July\", \"Perpetrator_Sex\": \"Male\", \"State\": \"North Dakota\", \"Record_ID\": 1, \"id\": 38}, {\"Month\": \"July\", \"Perpetrator_Sex\": \"Male\", \"State\": \"Ohio\", \"Record_ID\": 31, \"id\": 39}, {\"Month\": \"July\", \"Perpetrator_Sex\": \"Male\", \"State\": \"Oklahoma\", \"Record_ID\": 17, \"id\": 40}, {\"Month\": \"July\", \"Perpetrator_Sex\": \"Male\", \"State\": \"Oregon\", \"Record_ID\": 9, \"id\": 41}, {\"Month\": \"July\", \"Perpetrator_Sex\": \"Male\", \"State\": \"Pennsylvania\", \"Record_ID\": 49, \"id\": 42}, {\"Month\": \"July\", \"Perpetrator_Sex\": \"Male\", \"State\": \"Rhodes Island\", \"Record_ID\": 2, \"id\": \"Rhodes Island\"}, {\"Month\": \"July\", \"Perpetrator_Sex\": \"Male\", \"State\": \"South Carolina\", \"Record_ID\": 18, \"id\": 45}, {\"Month\": \"July\", \"Perpetrator_Sex\": \"Male\", \"State\": \"South Dakota\", \"Record_ID\": 1, \"id\": 46}, {\"Month\": \"July\", \"Perpetrator_Sex\": \"Male\", \"State\": \"Tennessee\", \"Record_ID\": 33, \"id\": 47}, {\"Month\": \"July\", \"Perpetrator_Sex\": \"Male\", \"State\": \"Texas\", \"Record_ID\": 86, \"id\": 48}, {\"Month\": \"July\", \"Perpetrator_Sex\": \"Male\", \"State\": \"Utah\", \"Record_ID\": 3, \"id\": 49}, {\"Month\": \"July\", \"Perpetrator_Sex\": \"Male\", \"State\": \"Vermont\", \"Record_ID\": 0, \"id\": 50}, {\"Month\": \"July\", \"Perpetrator_Sex\": \"Male\", \"State\": \"Virginia\", \"Record_ID\": 29, \"id\": 51}, {\"Month\": \"July\", \"Perpetrator_Sex\": \"Male\", \"State\": \"Washington\", \"Record_ID\": 14, \"id\": 53}, {\"Month\": \"July\", \"Perpetrator_Sex\": \"Male\", \"State\": \"West Virginia\", \"Record_ID\": 2, \"id\": 54}, {\"Month\": \"July\", \"Perpetrator_Sex\": \"Male\", \"State\": \"Wisconsin\", \"Record_ID\": 16, \"id\": 55}, {\"Month\": \"July\", \"Perpetrator_Sex\": \"Male\", \"State\": \"Wyoming\", \"Record_ID\": 0, \"id\": 56}, {\"Month\": \"July\", \"Perpetrator_Sex\": \"Unknown\", \"State\": \"Alabama\", \"Record_ID\": 7, \"id\": 1}, {\"Month\": \"July\", \"Perpetrator_Sex\": \"Unknown\", \"State\": \"Alaska\", \"Record_ID\": 0, \"id\": 2}, {\"Month\": \"July\", \"Perpetrator_Sex\": \"Unknown\", \"State\": \"Arizona\", \"Record_ID\": 7, \"id\": 4}, {\"Month\": \"July\", \"Perpetrator_Sex\": \"Unknown\", \"State\": \"Arkansas\", \"Record_ID\": 3, \"id\": 5}, {\"Month\": \"July\", \"Perpetrator_Sex\": \"Unknown\", \"State\": \"California\", \"Record_ID\": 67, \"id\": 6}, {\"Month\": \"July\", \"Perpetrator_Sex\": \"Unknown\", \"State\": \"Colorado\", \"Record_ID\": 2, \"id\": 8}, {\"Month\": \"July\", \"Perpetrator_Sex\": \"Unknown\", \"State\": \"Connecticut\", \"Record_ID\": 4, \"id\": 9}, {\"Month\": \"July\", \"Perpetrator_Sex\": \"Unknown\", \"State\": \"Delaware\", \"Record_ID\": 1, \"id\": 10}, {\"Month\": \"July\", \"Perpetrator_Sex\": \"Unknown\", \"State\": \"District of Columbia\", \"Record_ID\": 4, \"id\": 11}, {\"Month\": \"July\", \"Perpetrator_Sex\": \"Unknown\", \"State\": \"Florida\", \"Record_ID\": 21, \"id\": 12}, {\"Month\": \"July\", \"Perpetrator_Sex\": \"Unknown\", \"State\": \"Georgia\", \"Record_ID\": 22, \"id\": 13}, {\"Month\": \"July\", \"Perpetrator_Sex\": \"Unknown\", \"State\": \"Hawaii\", \"Record_ID\": 0, \"id\": 15}, {\"Month\": \"July\", \"Perpetrator_Sex\": \"Unknown\", \"State\": \"Idaho\", \"Record_ID\": 0, \"id\": 16}, {\"Month\": \"July\", \"Perpetrator_Sex\": \"Unknown\", \"State\": \"Illinois\", \"Record_ID\": 32, \"id\": 17}, {\"Month\": \"July\", \"Perpetrator_Sex\": \"Unknown\", \"State\": \"Indiana\", \"Record_ID\": 3, \"id\": 18}, {\"Month\": \"July\", \"Perpetrator_Sex\": \"Unknown\", \"State\": \"Iowa\", \"Record_ID\": 0, \"id\": 19}, {\"Month\": \"July\", \"Perpetrator_Sex\": \"Unknown\", \"State\": \"Kansas\", \"Record_ID\": 2, \"id\": 20}, {\"Month\": \"July\", \"Perpetrator_Sex\": \"Unknown\", \"State\": \"Kentucky\", \"Record_ID\": 5, \"id\": 21}, {\"Month\": \"July\", \"Perpetrator_Sex\": \"Unknown\", \"State\": \"Louisiana\", \"Record_ID\": 19, \"id\": 22}, {\"Month\": \"July\", \"Perpetrator_Sex\": \"Unknown\", \"State\": \"Maine\", \"Record_ID\": 1, \"id\": 23}, {\"Month\": \"July\", \"Perpetrator_Sex\": \"Unknown\", \"State\": \"Maryland\", \"Record_ID\": 18, \"id\": 24}, {\"Month\": \"July\", \"Perpetrator_Sex\": \"Unknown\", \"State\": \"Massachusetts\", \"Record_ID\": 7, \"id\": 25}, {\"Month\": \"July\", \"Perpetrator_Sex\": \"Unknown\", \"State\": \"Michigan\", \"Record_ID\": 24, \"id\": 26}, {\"Month\": \"July\", \"Perpetrator_Sex\": \"Unknown\", \"State\": \"Minnesota\", \"Record_ID\": 1, \"id\": 27}, {\"Month\": \"July\", \"Perpetrator_Sex\": \"Unknown\", \"State\": \"Mississippi\", \"Record_ID\": 3, \"id\": 28}, {\"Month\": \"July\", \"Perpetrator_Sex\": \"Unknown\", \"State\": \"Missouri\", \"Record_ID\": 9, \"id\": 29}, {\"Month\": \"July\", \"Perpetrator_Sex\": \"Unknown\", \"State\": \"Montana\", \"Record_ID\": 0, \"id\": 30}, {\"Month\": \"July\", \"Perpetrator_Sex\": \"Unknown\", \"State\": \"Nebraska\", \"Record_ID\": 3, \"id\": 31}, {\"Month\": \"July\", \"Perpetrator_Sex\": \"Unknown\", \"State\": \"Nevada\", \"Record_ID\": 6, \"id\": 32}, {\"Month\": \"July\", \"Perpetrator_Sex\": \"Unknown\", \"State\": \"New Hampshire\", \"Record_ID\": 0, \"id\": 33}, {\"Month\": \"July\", \"Perpetrator_Sex\": \"Unknown\", \"State\": \"New Jersey\", \"Record_ID\": 20, \"id\": 34}, {\"Month\": \"July\", \"Perpetrator_Sex\": \"Unknown\", \"State\": \"New Mexico\", \"Record_ID\": 2, \"id\": 35}, {\"Month\": \"July\", \"Perpetrator_Sex\": \"Unknown\", \"State\": \"New York\", \"Record_ID\": 50, \"id\": 36}, {\"Month\": \"July\", \"Perpetrator_Sex\": \"Unknown\", \"State\": \"North Carolina\", \"Record_ID\": 12, \"id\": 37}, {\"Month\": \"July\", \"Perpetrator_Sex\": \"Unknown\", \"State\": \"North Dakota\", \"Record_ID\": 0, \"id\": 38}, {\"Month\": \"July\", \"Perpetrator_Sex\": \"Unknown\", \"State\": \"Ohio\", \"Record_ID\": 12, \"id\": 39}, {\"Month\": \"July\", \"Perpetrator_Sex\": \"Unknown\", \"State\": \"Oklahoma\", \"Record_ID\": 2, \"id\": 40}, {\"Month\": \"July\", \"Perpetrator_Sex\": \"Unknown\", \"State\": \"Oregon\", \"Record_ID\": 1, \"id\": 41}, {\"Month\": \"July\", \"Perpetrator_Sex\": \"Unknown\", \"State\": \"Pennsylvania\", \"Record_ID\": 20, \"id\": 42}, {\"Month\": \"July\", \"Perpetrator_Sex\": \"Unknown\", \"State\": \"Rhodes Island\", \"Record_ID\": 1, \"id\": \"Rhodes Island\"}, {\"Month\": \"July\", \"Perpetrator_Sex\": \"Unknown\", \"State\": \"South Carolina\", \"Record_ID\": 2, \"id\": 45}, {\"Month\": \"July\", \"Perpetrator_Sex\": \"Unknown\", \"State\": \"South Dakota\", \"Record_ID\": 0, \"id\": 46}, {\"Month\": \"July\", \"Perpetrator_Sex\": \"Unknown\", \"State\": \"Tennessee\", \"Record_ID\": 8, \"id\": 47}, {\"Month\": \"July\", \"Perpetrator_Sex\": \"Unknown\", \"State\": \"Texas\", \"Record_ID\": 26, \"id\": 48}, {\"Month\": \"July\", \"Perpetrator_Sex\": \"Unknown\", \"State\": \"Utah\", \"Record_ID\": 0, \"id\": 49}, {\"Month\": \"July\", \"Perpetrator_Sex\": \"Unknown\", \"State\": \"Vermont\", \"Record_ID\": 0, \"id\": 50}, {\"Month\": \"July\", \"Perpetrator_Sex\": \"Unknown\", \"State\": \"Virginia\", \"Record_ID\": 5, \"id\": 51}, {\"Month\": \"July\", \"Perpetrator_Sex\": \"Unknown\", \"State\": \"Washington\", \"Record_ID\": 3, \"id\": 53}, {\"Month\": \"July\", \"Perpetrator_Sex\": \"Unknown\", \"State\": \"West Virginia\", \"Record_ID\": 0, \"id\": 54}, {\"Month\": \"July\", \"Perpetrator_Sex\": \"Unknown\", \"State\": \"Wisconsin\", \"Record_ID\": 4, \"id\": 55}, {\"Month\": \"July\", \"Perpetrator_Sex\": \"Unknown\", \"State\": \"Wyoming\", \"Record_ID\": 0, \"id\": 56}, {\"Month\": \"August\", \"Perpetrator_Sex\": \"Female\", \"State\": \"Alabama\", \"Record_ID\": 3, \"id\": 1}, {\"Month\": \"August\", \"Perpetrator_Sex\": \"Female\", \"State\": \"Alaska\", \"Record_ID\": 0, \"id\": 2}, {\"Month\": \"August\", \"Perpetrator_Sex\": \"Female\", \"State\": \"Arizona\", \"Record_ID\": 1, \"id\": 4}, {\"Month\": \"August\", \"Perpetrator_Sex\": \"Female\", \"State\": \"Arkansas\", \"Record_ID\": 1, \"id\": 5}, {\"Month\": \"August\", \"Perpetrator_Sex\": \"Female\", \"State\": \"California\", \"Record_ID\": 7, \"id\": 6}, {\"Month\": \"August\", \"Perpetrator_Sex\": \"Female\", \"State\": \"Colorado\", \"Record_ID\": 0, \"id\": 8}, {\"Month\": \"August\", \"Perpetrator_Sex\": \"Female\", \"State\": \"Connecticut\", \"Record_ID\": 1, \"id\": 9}, {\"Month\": \"August\", \"Perpetrator_Sex\": \"Female\", \"State\": \"Delaware\", \"Record_ID\": 0, \"id\": 10}, {\"Month\": \"August\", \"Perpetrator_Sex\": \"Female\", \"State\": \"District of Columbia\", \"Record_ID\": 1, \"id\": 11}, {\"Month\": \"August\", \"Perpetrator_Sex\": \"Female\", \"State\": \"Florida\", \"Record_ID\": 7, \"id\": 12}, {\"Month\": \"August\", \"Perpetrator_Sex\": \"Female\", \"State\": \"Georgia\", \"Record_ID\": 5, \"id\": 13}, {\"Month\": \"August\", \"Perpetrator_Sex\": \"Female\", \"State\": \"Hawaii\", \"Record_ID\": 0, \"id\": 15}, {\"Month\": \"August\", \"Perpetrator_Sex\": \"Female\", \"State\": \"Idaho\", \"Record_ID\": 0, \"id\": 16}, {\"Month\": \"August\", \"Perpetrator_Sex\": \"Female\", \"State\": \"Illinois\", \"Record_ID\": 0, \"id\": 17}, {\"Month\": \"August\", \"Perpetrator_Sex\": \"Female\", \"State\": \"Indiana\", \"Record_ID\": 2, \"id\": 18}, {\"Month\": \"August\", \"Perpetrator_Sex\": \"Female\", \"State\": \"Iowa\", \"Record_ID\": 0, \"id\": 19}, {\"Month\": \"August\", \"Perpetrator_Sex\": \"Female\", \"State\": \"Kansas\", \"Record_ID\": 1, \"id\": 20}, {\"Month\": \"August\", \"Perpetrator_Sex\": \"Female\", \"State\": \"Kentucky\", \"Record_ID\": 3, \"id\": 21}, {\"Month\": \"August\", \"Perpetrator_Sex\": \"Female\", \"State\": \"Louisiana\", \"Record_ID\": 3, \"id\": 22}, {\"Month\": \"August\", \"Perpetrator_Sex\": \"Female\", \"State\": \"Maine\", \"Record_ID\": 0, \"id\": 23}, {\"Month\": \"August\", \"Perpetrator_Sex\": \"Female\", \"State\": \"Maryland\", \"Record_ID\": 3, \"id\": 24}, {\"Month\": \"August\", \"Perpetrator_Sex\": \"Female\", \"State\": \"Massachusetts\", \"Record_ID\": 2, \"id\": 25}, {\"Month\": \"August\", \"Perpetrator_Sex\": \"Female\", \"State\": \"Michigan\", \"Record_ID\": 1, \"id\": 26}, {\"Month\": \"August\", \"Perpetrator_Sex\": \"Female\", \"State\": \"Minnesota\", \"Record_ID\": 0, \"id\": 27}, {\"Month\": \"August\", \"Perpetrator_Sex\": \"Female\", \"State\": \"Mississippi\", \"Record_ID\": 2, \"id\": 28}, {\"Month\": \"August\", \"Perpetrator_Sex\": \"Female\", \"State\": \"Missouri\", \"Record_ID\": 2, \"id\": 29}, {\"Month\": \"August\", \"Perpetrator_Sex\": \"Female\", \"State\": \"Montana\", \"Record_ID\": 0, \"id\": 30}, {\"Month\": \"August\", \"Perpetrator_Sex\": \"Female\", \"State\": \"Nebraska\", \"Record_ID\": 1, \"id\": 31}, {\"Month\": \"August\", \"Perpetrator_Sex\": \"Female\", \"State\": \"Nevada\", \"Record_ID\": 2, \"id\": 32}, {\"Month\": \"August\", \"Perpetrator_Sex\": \"Female\", \"State\": \"New Hampshire\", \"Record_ID\": 0, \"id\": 33}, {\"Month\": \"August\", \"Perpetrator_Sex\": \"Female\", \"State\": \"New Jersey\", \"Record_ID\": 1, \"id\": 34}, {\"Month\": \"August\", \"Perpetrator_Sex\": \"Female\", \"State\": \"New Mexico\", \"Record_ID\": 0, \"id\": 35}, {\"Month\": \"August\", \"Perpetrator_Sex\": \"Female\", \"State\": \"New York\", \"Record_ID\": 3, \"id\": 36}, {\"Month\": \"August\", \"Perpetrator_Sex\": \"Female\", \"State\": \"North Carolina\", \"Record_ID\": 3, \"id\": 37}, {\"Month\": \"August\", \"Perpetrator_Sex\": \"Female\", \"State\": \"North Dakota\", \"Record_ID\": 0, \"id\": 38}, {\"Month\": \"August\", \"Perpetrator_Sex\": \"Female\", \"State\": \"Ohio\", \"Record_ID\": 1, \"id\": 39}, {\"Month\": \"August\", \"Perpetrator_Sex\": \"Female\", \"State\": \"Oklahoma\", \"Record_ID\": 1, \"id\": 40}, {\"Month\": \"August\", \"Perpetrator_Sex\": \"Female\", \"State\": \"Oregon\", \"Record_ID\": 2, \"id\": 41}, {\"Month\": \"August\", \"Perpetrator_Sex\": \"Female\", \"State\": \"Pennsylvania\", \"Record_ID\": 4, \"id\": 42}, {\"Month\": \"August\", \"Perpetrator_Sex\": \"Female\", \"State\": \"Rhodes Island\", \"Record_ID\": 0, \"id\": \"Rhodes Island\"}, {\"Month\": \"August\", \"Perpetrator_Sex\": \"Female\", \"State\": \"South Carolina\", \"Record_ID\": 4, \"id\": 45}, {\"Month\": \"August\", \"Perpetrator_Sex\": \"Female\", \"State\": \"South Dakota\", \"Record_ID\": 0, \"id\": 46}, {\"Month\": \"August\", \"Perpetrator_Sex\": \"Female\", \"State\": \"Tennessee\", \"Record_ID\": 2, \"id\": 47}, {\"Month\": \"August\", \"Perpetrator_Sex\": \"Female\", \"State\": \"Texas\", \"Record_ID\": 8, \"id\": 48}, {\"Month\": \"August\", \"Perpetrator_Sex\": \"Female\", \"State\": \"Utah\", \"Record_ID\": 0, \"id\": 49}, {\"Month\": \"August\", \"Perpetrator_Sex\": \"Female\", \"State\": \"Vermont\", \"Record_ID\": 0, \"id\": 50}, {\"Month\": \"August\", \"Perpetrator_Sex\": \"Female\", \"State\": \"Virginia\", \"Record_ID\": 2, \"id\": 51}, {\"Month\": \"August\", \"Perpetrator_Sex\": \"Female\", \"State\": \"Washington\", \"Record_ID\": 2, \"id\": 53}, {\"Month\": \"August\", \"Perpetrator_Sex\": \"Female\", \"State\": \"West Virginia\", \"Record_ID\": 0, \"id\": 54}, {\"Month\": \"August\", \"Perpetrator_Sex\": \"Female\", \"State\": \"Wisconsin\", \"Record_ID\": 2, \"id\": 55}, {\"Month\": \"August\", \"Perpetrator_Sex\": \"Female\", \"State\": \"Wyoming\", \"Record_ID\": 0, \"id\": 56}, {\"Month\": \"August\", \"Perpetrator_Sex\": \"Male\", \"State\": \"Alabama\", \"Record_ID\": 9, \"id\": 1}, {\"Month\": \"August\", \"Perpetrator_Sex\": \"Male\", \"State\": \"Alaska\", \"Record_ID\": 8, \"id\": 2}, {\"Month\": \"August\", \"Perpetrator_Sex\": \"Male\", \"State\": \"Arizona\", \"Record_ID\": 33, \"id\": 4}, {\"Month\": \"August\", \"Perpetrator_Sex\": \"Male\", \"State\": \"Arkansas\", \"Record_ID\": 10, \"id\": 5}, {\"Month\": \"August\", \"Perpetrator_Sex\": \"Male\", \"State\": \"California\", \"Record_ID\": 103, \"id\": 6}, {\"Month\": \"August\", \"Perpetrator_Sex\": \"Male\", \"State\": \"Colorado\", \"Record_ID\": 4, \"id\": 8}, {\"Month\": \"August\", \"Perpetrator_Sex\": \"Male\", \"State\": \"Connecticut\", \"Record_ID\": 13, \"id\": 9}, {\"Month\": \"August\", \"Perpetrator_Sex\": \"Male\", \"State\": \"Delaware\", \"Record_ID\": 3, \"id\": 10}, {\"Month\": \"August\", \"Perpetrator_Sex\": \"Male\", \"State\": \"District of Columbia\", \"Record_ID\": 7, \"id\": 11}, {\"Month\": \"August\", \"Perpetrator_Sex\": \"Male\", \"State\": \"Florida\", \"Record_ID\": 62, \"id\": 12}, {\"Month\": \"August\", \"Perpetrator_Sex\": \"Male\", \"State\": \"Georgia\", \"Record_ID\": 38, \"id\": 13}, {\"Month\": \"August\", \"Perpetrator_Sex\": \"Male\", \"State\": \"Hawaii\", \"Record_ID\": 2, \"id\": 15}, {\"Month\": \"August\", \"Perpetrator_Sex\": \"Male\", \"State\": \"Idaho\", \"Record_ID\": 1, \"id\": 16}, {\"Month\": \"August\", \"Perpetrator_Sex\": \"Male\", \"State\": \"Illinois\", \"Record_ID\": 18, \"id\": 17}, {\"Month\": \"August\", \"Perpetrator_Sex\": \"Male\", \"State\": \"Indiana\", \"Record_ID\": 9, \"id\": 18}, {\"Month\": \"August\", \"Perpetrator_Sex\": \"Male\", \"State\": \"Iowa\", \"Record_ID\": 2, \"id\": 19}, {\"Month\": \"August\", \"Perpetrator_Sex\": \"Male\", \"State\": \"Kansas\", \"Record_ID\": 10, \"id\": 20}, {\"Month\": \"August\", \"Perpetrator_Sex\": \"Male\", \"State\": \"Kentucky\", \"Record_ID\": 14, \"id\": 21}, {\"Month\": \"August\", \"Perpetrator_Sex\": \"Male\", \"State\": \"Louisiana\", \"Record_ID\": 28, \"id\": 22}, {\"Month\": \"August\", \"Perpetrator_Sex\": \"Male\", \"State\": \"Maine\", \"Record_ID\": 2, \"id\": 23}, {\"Month\": \"August\", \"Perpetrator_Sex\": \"Male\", \"State\": \"Maryland\", \"Record_ID\": 34, \"id\": 24}, {\"Month\": \"August\", \"Perpetrator_Sex\": \"Male\", \"State\": \"Massachusetts\", \"Record_ID\": 7, \"id\": 25}, {\"Month\": \"August\", \"Perpetrator_Sex\": \"Male\", \"State\": \"Michigan\", \"Record_ID\": 34, \"id\": 26}, {\"Month\": \"August\", \"Perpetrator_Sex\": \"Male\", \"State\": \"Minnesota\", \"Record_ID\": 3, \"id\": 27}, {\"Month\": \"August\", \"Perpetrator_Sex\": \"Male\", \"State\": \"Mississippi\", \"Record_ID\": 14, \"id\": 28}, {\"Month\": \"August\", \"Perpetrator_Sex\": \"Male\", \"State\": \"Missouri\", \"Record_ID\": 24, \"id\": 29}, {\"Month\": \"August\", \"Perpetrator_Sex\": \"Male\", \"State\": \"Montana\", \"Record_ID\": 2, \"id\": 30}, {\"Month\": \"August\", \"Perpetrator_Sex\": \"Male\", \"State\": \"Nebraska\", \"Record_ID\": 1, \"id\": 31}, {\"Month\": \"August\", \"Perpetrator_Sex\": \"Male\", \"State\": \"Nevada\", \"Record_ID\": 11, \"id\": 32}, {\"Month\": \"August\", \"Perpetrator_Sex\": \"Male\", \"State\": \"New Hampshire\", \"Record_ID\": 2, \"id\": 33}, {\"Month\": \"August\", \"Perpetrator_Sex\": \"Male\", \"State\": \"New Jersey\", \"Record_ID\": 13, \"id\": 34}, {\"Month\": \"August\", \"Perpetrator_Sex\": \"Male\", \"State\": \"New Mexico\", \"Record_ID\": 9, \"id\": 35}, {\"Month\": \"August\", \"Perpetrator_Sex\": \"Male\", \"State\": \"New York\", \"Record_ID\": 37, \"id\": 36}, {\"Month\": \"August\", \"Perpetrator_Sex\": \"Male\", \"State\": \"North Carolina\", \"Record_ID\": 26, \"id\": 37}, {\"Month\": \"August\", \"Perpetrator_Sex\": \"Male\", \"State\": \"North Dakota\", \"Record_ID\": 0, \"id\": 38}, {\"Month\": \"August\", \"Perpetrator_Sex\": \"Male\", \"State\": \"Ohio\", \"Record_ID\": 30, \"id\": 39}, {\"Month\": \"August\", \"Perpetrator_Sex\": \"Male\", \"State\": \"Oklahoma\", \"Record_ID\": 14, \"id\": 40}, {\"Month\": \"August\", \"Perpetrator_Sex\": \"Male\", \"State\": \"Oregon\", \"Record_ID\": 7, \"id\": 41}, {\"Month\": \"August\", \"Perpetrator_Sex\": \"Male\", \"State\": \"Pennsylvania\", \"Record_ID\": 37, \"id\": 42}, {\"Month\": \"August\", \"Perpetrator_Sex\": \"Male\", \"State\": \"Rhodes Island\", \"Record_ID\": 1, \"id\": \"Rhodes Island\"}, {\"Month\": \"August\", \"Perpetrator_Sex\": \"Male\", \"State\": \"South Carolina\", \"Record_ID\": 14, \"id\": 45}, {\"Month\": \"August\", \"Perpetrator_Sex\": \"Male\", \"State\": \"South Dakota\", \"Record_ID\": 5, \"id\": 46}, {\"Month\": \"August\", \"Perpetrator_Sex\": \"Male\", \"State\": \"Tennessee\", \"Record_ID\": 22, \"id\": 47}, {\"Month\": \"August\", \"Perpetrator_Sex\": \"Male\", \"State\": \"Texas\", \"Record_ID\": 88, \"id\": 48}, {\"Month\": \"August\", \"Perpetrator_Sex\": \"Male\", \"State\": \"Utah\", \"Record_ID\": 4, \"id\": 49}, {\"Month\": \"August\", \"Perpetrator_Sex\": \"Male\", \"State\": \"Vermont\", \"Record_ID\": 1, \"id\": 50}, {\"Month\": \"August\", \"Perpetrator_Sex\": \"Male\", \"State\": \"Virginia\", \"Record_ID\": 20, \"id\": 51}, {\"Month\": \"August\", \"Perpetrator_Sex\": \"Male\", \"State\": \"Washington\", \"Record_ID\": 16, \"id\": 53}, {\"Month\": \"August\", \"Perpetrator_Sex\": \"Male\", \"State\": \"West Virginia\", \"Record_ID\": 4, \"id\": 54}, {\"Month\": \"August\", \"Perpetrator_Sex\": \"Male\", \"State\": \"Wisconsin\", \"Record_ID\": 13, \"id\": 55}, {\"Month\": \"August\", \"Perpetrator_Sex\": \"Male\", \"State\": \"Wyoming\", \"Record_ID\": 1, \"id\": 56}, {\"Month\": \"August\", \"Perpetrator_Sex\": \"Unknown\", \"State\": \"Alabama\", \"Record_ID\": 2, \"id\": 1}, {\"Month\": \"August\", \"Perpetrator_Sex\": \"Unknown\", \"State\": \"Alaska\", \"Record_ID\": 0, \"id\": 2}, {\"Month\": \"August\", \"Perpetrator_Sex\": \"Unknown\", \"State\": \"Arizona\", \"Record_ID\": 16, \"id\": 4}, {\"Month\": \"August\", \"Perpetrator_Sex\": \"Unknown\", \"State\": \"Arkansas\", \"Record_ID\": 1, \"id\": 5}, {\"Month\": \"August\", \"Perpetrator_Sex\": \"Unknown\", \"State\": \"California\", \"Record_ID\": 65, \"id\": 6}, {\"Month\": \"August\", \"Perpetrator_Sex\": \"Unknown\", \"State\": \"Colorado\", \"Record_ID\": 1, \"id\": 8}, {\"Month\": \"August\", \"Perpetrator_Sex\": \"Unknown\", \"State\": \"Connecticut\", \"Record_ID\": 3, \"id\": 9}, {\"Month\": \"August\", \"Perpetrator_Sex\": \"Unknown\", \"State\": \"Delaware\", \"Record_ID\": 2, \"id\": 10}, {\"Month\": \"August\", \"Perpetrator_Sex\": \"Unknown\", \"State\": \"District of Columbia\", \"Record_ID\": 4, \"id\": 11}, {\"Month\": \"August\", \"Perpetrator_Sex\": \"Unknown\", \"State\": \"Florida\", \"Record_ID\": 26, \"id\": 12}, {\"Month\": \"August\", \"Perpetrator_Sex\": \"Unknown\", \"State\": \"Georgia\", \"Record_ID\": 16, \"id\": 13}, {\"Month\": \"August\", \"Perpetrator_Sex\": \"Unknown\", \"State\": \"Hawaii\", \"Record_ID\": 0, \"id\": 15}, {\"Month\": \"August\", \"Perpetrator_Sex\": \"Unknown\", \"State\": \"Idaho\", \"Record_ID\": 0, \"id\": 16}, {\"Month\": \"August\", \"Perpetrator_Sex\": \"Unknown\", \"State\": \"Illinois\", \"Record_ID\": 44, \"id\": 17}, {\"Month\": \"August\", \"Perpetrator_Sex\": \"Unknown\", \"State\": \"Indiana\", \"Record_ID\": 6, \"id\": 18}, {\"Month\": \"August\", \"Perpetrator_Sex\": \"Unknown\", \"State\": \"Iowa\", \"Record_ID\": 0, \"id\": 19}, {\"Month\": \"August\", \"Perpetrator_Sex\": \"Unknown\", \"State\": \"Kansas\", \"Record_ID\": 4, \"id\": 20}, {\"Month\": \"August\", \"Perpetrator_Sex\": \"Unknown\", \"State\": \"Kentucky\", \"Record_ID\": 5, \"id\": 21}, {\"Month\": \"August\", \"Perpetrator_Sex\": \"Unknown\", \"State\": \"Louisiana\", \"Record_ID\": 10, \"id\": 22}, {\"Month\": \"August\", \"Perpetrator_Sex\": \"Unknown\", \"State\": \"Maine\", \"Record_ID\": 0, \"id\": 23}, {\"Month\": \"August\", \"Perpetrator_Sex\": \"Unknown\", \"State\": \"Maryland\", \"Record_ID\": 17, \"id\": 24}, {\"Month\": \"August\", \"Perpetrator_Sex\": \"Unknown\", \"State\": \"Massachusetts\", \"Record_ID\": 8, \"id\": 25}, {\"Month\": \"August\", \"Perpetrator_Sex\": \"Unknown\", \"State\": \"Michigan\", \"Record_ID\": 13, \"id\": 26}, {\"Month\": \"August\", \"Perpetrator_Sex\": \"Unknown\", \"State\": \"Minnesota\", \"Record_ID\": 3, \"id\": 27}, {\"Month\": \"August\", \"Perpetrator_Sex\": \"Unknown\", \"State\": \"Mississippi\", \"Record_ID\": 5, \"id\": 28}, {\"Month\": \"August\", \"Perpetrator_Sex\": \"Unknown\", \"State\": \"Missouri\", \"Record_ID\": 8, \"id\": 29}, {\"Month\": \"August\", \"Perpetrator_Sex\": \"Unknown\", \"State\": \"Montana\", \"Record_ID\": 0, \"id\": 30}, {\"Month\": \"August\", \"Perpetrator_Sex\": \"Unknown\", \"State\": \"Nebraska\", \"Record_ID\": 0, \"id\": 31}, {\"Month\": \"August\", \"Perpetrator_Sex\": \"Unknown\", \"State\": \"Nevada\", \"Record_ID\": 4, \"id\": 32}, {\"Month\": \"August\", \"Perpetrator_Sex\": \"Unknown\", \"State\": \"New Hampshire\", \"Record_ID\": 0, \"id\": 33}, {\"Month\": \"August\", \"Perpetrator_Sex\": \"Unknown\", \"State\": \"New Jersey\", \"Record_ID\": 22, \"id\": 34}, {\"Month\": \"August\", \"Perpetrator_Sex\": \"Unknown\", \"State\": \"New Mexico\", \"Record_ID\": 2, \"id\": 35}, {\"Month\": \"August\", \"Perpetrator_Sex\": \"Unknown\", \"State\": \"New York\", \"Record_ID\": 40, \"id\": 36}, {\"Month\": \"August\", \"Perpetrator_Sex\": \"Unknown\", \"State\": \"North Carolina\", \"Record_ID\": 10, \"id\": 37}, {\"Month\": \"August\", \"Perpetrator_Sex\": \"Unknown\", \"State\": \"North Dakota\", \"Record_ID\": 0, \"id\": 38}, {\"Month\": \"August\", \"Perpetrator_Sex\": \"Unknown\", \"State\": \"Ohio\", \"Record_ID\": 12, \"id\": 39}, {\"Month\": \"August\", \"Perpetrator_Sex\": \"Unknown\", \"State\": \"Oklahoma\", \"Record_ID\": 1, \"id\": 40}, {\"Month\": \"August\", \"Perpetrator_Sex\": \"Unknown\", \"State\": \"Oregon\", \"Record_ID\": 0, \"id\": 41}, {\"Month\": \"August\", \"Perpetrator_Sex\": \"Unknown\", \"State\": \"Pennsylvania\", \"Record_ID\": 15, \"id\": 42}, {\"Month\": \"August\", \"Perpetrator_Sex\": \"Unknown\", \"State\": \"Rhodes Island\", \"Record_ID\": 0, \"id\": \"Rhodes Island\"}, {\"Month\": \"August\", \"Perpetrator_Sex\": \"Unknown\", \"State\": \"South Carolina\", \"Record_ID\": 4, \"id\": 45}, {\"Month\": \"August\", \"Perpetrator_Sex\": \"Unknown\", \"State\": \"South Dakota\", \"Record_ID\": 0, \"id\": 46}, {\"Month\": \"August\", \"Perpetrator_Sex\": \"Unknown\", \"State\": \"Tennessee\", \"Record_ID\": 3, \"id\": 47}, {\"Month\": \"August\", \"Perpetrator_Sex\": \"Unknown\", \"State\": \"Texas\", \"Record_ID\": 30, \"id\": 48}, {\"Month\": \"August\", \"Perpetrator_Sex\": \"Unknown\", \"State\": \"Utah\", \"Record_ID\": 1, \"id\": 49}, {\"Month\": \"August\", \"Perpetrator_Sex\": \"Unknown\", \"State\": \"Vermont\", \"Record_ID\": 0, \"id\": 50}, {\"Month\": \"August\", \"Perpetrator_Sex\": \"Unknown\", \"State\": \"Virginia\", \"Record_ID\": 2, \"id\": 51}, {\"Month\": \"August\", \"Perpetrator_Sex\": \"Unknown\", \"State\": \"Washington\", \"Record_ID\": 3, \"id\": 53}, {\"Month\": \"August\", \"Perpetrator_Sex\": \"Unknown\", \"State\": \"West Virginia\", \"Record_ID\": 1, \"id\": 54}, {\"Month\": \"August\", \"Perpetrator_Sex\": \"Unknown\", \"State\": \"Wisconsin\", \"Record_ID\": 2, \"id\": 55}, {\"Month\": \"August\", \"Perpetrator_Sex\": \"Unknown\", \"State\": \"Wyoming\", \"Record_ID\": 0, \"id\": 56}, {\"Month\": \"September\", \"Perpetrator_Sex\": \"Female\", \"State\": \"Alabama\", \"Record_ID\": 0, \"id\": 1}, {\"Month\": \"September\", \"Perpetrator_Sex\": \"Female\", \"State\": \"Alaska\", \"Record_ID\": 0, \"id\": 2}, {\"Month\": \"September\", \"Perpetrator_Sex\": \"Female\", \"State\": \"Arizona\", \"Record_ID\": 3, \"id\": 4}, {\"Month\": \"September\", \"Perpetrator_Sex\": \"Female\", \"State\": \"Arkansas\", \"Record_ID\": 1, \"id\": 5}, {\"Month\": \"September\", \"Perpetrator_Sex\": \"Female\", \"State\": \"California\", \"Record_ID\": 8, \"id\": 6}, {\"Month\": \"September\", \"Perpetrator_Sex\": \"Female\", \"State\": \"Colorado\", \"Record_ID\": 2, \"id\": 8}, {\"Month\": \"September\", \"Perpetrator_Sex\": \"Female\", \"State\": \"Connecticut\", \"Record_ID\": 0, \"id\": 9}, {\"Month\": \"September\", \"Perpetrator_Sex\": \"Female\", \"State\": \"Delaware\", \"Record_ID\": 0, \"id\": 10}, {\"Month\": \"September\", \"Perpetrator_Sex\": \"Female\", \"State\": \"District of Columbia\", \"Record_ID\": 0, \"id\": 11}, {\"Month\": \"September\", \"Perpetrator_Sex\": \"Female\", \"State\": \"Florida\", \"Record_ID\": 10, \"id\": 12}, {\"Month\": \"September\", \"Perpetrator_Sex\": \"Female\", \"State\": \"Georgia\", \"Record_ID\": 4, \"id\": 13}, {\"Month\": \"September\", \"Perpetrator_Sex\": \"Female\", \"State\": \"Hawaii\", \"Record_ID\": 0, \"id\": 15}, {\"Month\": \"September\", \"Perpetrator_Sex\": \"Female\", \"State\": \"Idaho\", \"Record_ID\": 0, \"id\": 16}, {\"Month\": \"September\", \"Perpetrator_Sex\": \"Female\", \"State\": \"Illinois\", \"Record_ID\": 1, \"id\": 17}, {\"Month\": \"September\", \"Perpetrator_Sex\": \"Female\", \"State\": \"Indiana\", \"Record_ID\": 4, \"id\": 18}, {\"Month\": \"September\", \"Perpetrator_Sex\": \"Female\", \"State\": \"Iowa\", \"Record_ID\": 0, \"id\": 19}, {\"Month\": \"September\", \"Perpetrator_Sex\": \"Female\", \"State\": \"Kansas\", \"Record_ID\": 1, \"id\": 20}, {\"Month\": \"September\", \"Perpetrator_Sex\": \"Female\", \"State\": \"Kentucky\", \"Record_ID\": 1, \"id\": 21}, {\"Month\": \"September\", \"Perpetrator_Sex\": \"Female\", \"State\": \"Louisiana\", \"Record_ID\": 2, \"id\": 22}, {\"Month\": \"September\", \"Perpetrator_Sex\": \"Female\", \"State\": \"Maine\", \"Record_ID\": 0, \"id\": 23}, {\"Month\": \"September\", \"Perpetrator_Sex\": \"Female\", \"State\": \"Maryland\", \"Record_ID\": 1, \"id\": 24}, {\"Month\": \"September\", \"Perpetrator_Sex\": \"Female\", \"State\": \"Massachusetts\", \"Record_ID\": 0, \"id\": 25}, {\"Month\": \"September\", \"Perpetrator_Sex\": \"Female\", \"State\": \"Michigan\", \"Record_ID\": 3, \"id\": 26}, {\"Month\": \"September\", \"Perpetrator_Sex\": \"Female\", \"State\": \"Minnesota\", \"Record_ID\": 1, \"id\": 27}, {\"Month\": \"September\", \"Perpetrator_Sex\": \"Female\", \"State\": \"Mississippi\", \"Record_ID\": 2, \"id\": 28}, {\"Month\": \"September\", \"Perpetrator_Sex\": \"Female\", \"State\": \"Missouri\", \"Record_ID\": 4, \"id\": 29}, {\"Month\": \"September\", \"Perpetrator_Sex\": \"Female\", \"State\": \"Montana\", \"Record_ID\": 0, \"id\": 30}, {\"Month\": \"September\", \"Perpetrator_Sex\": \"Female\", \"State\": \"Nebraska\", \"Record_ID\": 1, \"id\": 31}, {\"Month\": \"September\", \"Perpetrator_Sex\": \"Female\", \"State\": \"Nevada\", \"Record_ID\": 0, \"id\": 32}, {\"Month\": \"September\", \"Perpetrator_Sex\": \"Female\", \"State\": \"New Hampshire\", \"Record_ID\": 0, \"id\": 33}, {\"Month\": \"September\", \"Perpetrator_Sex\": \"Female\", \"State\": \"New Jersey\", \"Record_ID\": 3, \"id\": 34}, {\"Month\": \"September\", \"Perpetrator_Sex\": \"Female\", \"State\": \"New Mexico\", \"Record_ID\": 1, \"id\": 35}, {\"Month\": \"September\", \"Perpetrator_Sex\": \"Female\", \"State\": \"New York\", \"Record_ID\": 6, \"id\": 36}, {\"Month\": \"September\", \"Perpetrator_Sex\": \"Female\", \"State\": \"North Carolina\", \"Record_ID\": 2, \"id\": 37}, {\"Month\": \"September\", \"Perpetrator_Sex\": \"Female\", \"State\": \"North Dakota\", \"Record_ID\": 0, \"id\": 38}, {\"Month\": \"September\", \"Perpetrator_Sex\": \"Female\", \"State\": \"Ohio\", \"Record_ID\": 2, \"id\": 39}, {\"Month\": \"September\", \"Perpetrator_Sex\": \"Female\", \"State\": \"Oklahoma\", \"Record_ID\": 4, \"id\": 40}, {\"Month\": \"September\", \"Perpetrator_Sex\": \"Female\", \"State\": \"Oregon\", \"Record_ID\": 0, \"id\": 41}, {\"Month\": \"September\", \"Perpetrator_Sex\": \"Female\", \"State\": \"Pennsylvania\", \"Record_ID\": 5, \"id\": 42}, {\"Month\": \"September\", \"Perpetrator_Sex\": \"Female\", \"State\": \"Rhodes Island\", \"Record_ID\": 0, \"id\": \"Rhodes Island\"}, {\"Month\": \"September\", \"Perpetrator_Sex\": \"Female\", \"State\": \"South Carolina\", \"Record_ID\": 2, \"id\": 45}, {\"Month\": \"September\", \"Perpetrator_Sex\": \"Female\", \"State\": \"South Dakota\", \"Record_ID\": 0, \"id\": 46}, {\"Month\": \"September\", \"Perpetrator_Sex\": \"Female\", \"State\": \"Tennessee\", \"Record_ID\": 4, \"id\": 47}, {\"Month\": \"September\", \"Perpetrator_Sex\": \"Female\", \"State\": \"Texas\", \"Record_ID\": 10, \"id\": 48}, {\"Month\": \"September\", \"Perpetrator_Sex\": \"Female\", \"State\": \"Utah\", \"Record_ID\": 2, \"id\": 49}, {\"Month\": \"September\", \"Perpetrator_Sex\": \"Female\", \"State\": \"Vermont\", \"Record_ID\": 1, \"id\": 50}, {\"Month\": \"September\", \"Perpetrator_Sex\": \"Female\", \"State\": \"Virginia\", \"Record_ID\": 2, \"id\": 51}, {\"Month\": \"September\", \"Perpetrator_Sex\": \"Female\", \"State\": \"Washington\", \"Record_ID\": 3, \"id\": 53}, {\"Month\": \"September\", \"Perpetrator_Sex\": \"Female\", \"State\": \"West Virginia\", \"Record_ID\": 0, \"id\": 54}, {\"Month\": \"September\", \"Perpetrator_Sex\": \"Female\", \"State\": \"Wisconsin\", \"Record_ID\": 2, \"id\": 55}, {\"Month\": \"September\", \"Perpetrator_Sex\": \"Female\", \"State\": \"Wyoming\", \"Record_ID\": 0, \"id\": 56}, {\"Month\": \"September\", \"Perpetrator_Sex\": \"Male\", \"State\": \"Alabama\", \"Record_ID\": 5, \"id\": 1}, {\"Month\": \"September\", \"Perpetrator_Sex\": \"Male\", \"State\": \"Alaska\", \"Record_ID\": 2, \"id\": 2}, {\"Month\": \"September\", \"Perpetrator_Sex\": \"Male\", \"State\": \"Arizona\", \"Record_ID\": 23, \"id\": 4}, {\"Month\": \"September\", \"Perpetrator_Sex\": \"Male\", \"State\": \"Arkansas\", \"Record_ID\": 10, \"id\": 5}, {\"Month\": \"September\", \"Perpetrator_Sex\": \"Male\", \"State\": \"California\", \"Record_ID\": 77, \"id\": 6}, {\"Month\": \"September\", \"Perpetrator_Sex\": \"Male\", \"State\": \"Colorado\", \"Record_ID\": 10, \"id\": 8}, {\"Month\": \"September\", \"Perpetrator_Sex\": \"Male\", \"State\": \"Connecticut\", \"Record_ID\": 3, \"id\": 9}, {\"Month\": \"September\", \"Perpetrator_Sex\": \"Male\", \"State\": \"Delaware\", \"Record_ID\": 5, \"id\": 10}, {\"Month\": \"September\", \"Perpetrator_Sex\": \"Male\", \"State\": \"District of Columbia\", \"Record_ID\": 7, \"id\": 11}, {\"Month\": \"September\", \"Perpetrator_Sex\": \"Male\", \"State\": \"Florida\", \"Record_ID\": 64, \"id\": 12}, {\"Month\": \"September\", \"Perpetrator_Sex\": \"Male\", \"State\": \"Georgia\", \"Record_ID\": 30, \"id\": 13}, {\"Month\": \"September\", \"Perpetrator_Sex\": \"Male\", \"State\": \"Hawaii\", \"Record_ID\": 3, \"id\": 15}, {\"Month\": \"September\", \"Perpetrator_Sex\": \"Male\", \"State\": \"Idaho\", \"Record_ID\": 3, \"id\": 16}, {\"Month\": \"September\", \"Perpetrator_Sex\": \"Male\", \"State\": \"Illinois\", \"Record_ID\": 13, \"id\": 17}, {\"Month\": \"September\", \"Perpetrator_Sex\": \"Male\", \"State\": \"Indiana\", \"Record_ID\": 10, \"id\": 18}, {\"Month\": \"September\", \"Perpetrator_Sex\": \"Male\", \"State\": \"Iowa\", \"Record_ID\": 2, \"id\": 19}, {\"Month\": \"September\", \"Perpetrator_Sex\": \"Male\", \"State\": \"Kansas\", \"Record_ID\": 4, \"id\": 20}, {\"Month\": \"September\", \"Perpetrator_Sex\": \"Male\", \"State\": \"Kentucky\", \"Record_ID\": 16, \"id\": 21}, {\"Month\": \"September\", \"Perpetrator_Sex\": \"Male\", \"State\": \"Louisiana\", \"Record_ID\": 30, \"id\": 22}, {\"Month\": \"September\", \"Perpetrator_Sex\": \"Male\", \"State\": \"Maine\", \"Record_ID\": 1, \"id\": 23}, {\"Month\": \"September\", \"Perpetrator_Sex\": \"Male\", \"State\": \"Maryland\", \"Record_ID\": 25, \"id\": 24}, {\"Month\": \"September\", \"Perpetrator_Sex\": \"Male\", \"State\": \"Massachusetts\", \"Record_ID\": 18, \"id\": 25}, {\"Month\": \"September\", \"Perpetrator_Sex\": \"Male\", \"State\": \"Michigan\", \"Record_ID\": 22, \"id\": 26}, {\"Month\": \"September\", \"Perpetrator_Sex\": \"Male\", \"State\": \"Minnesota\", \"Record_ID\": 6, \"id\": 27}, {\"Month\": \"September\", \"Perpetrator_Sex\": \"Male\", \"State\": \"Mississippi\", \"Record_ID\": 10, \"id\": 28}, {\"Month\": \"September\", \"Perpetrator_Sex\": \"Male\", \"State\": \"Missouri\", \"Record_ID\": 18, \"id\": 29}, {\"Month\": \"September\", \"Perpetrator_Sex\": \"Male\", \"State\": \"Montana\", \"Record_ID\": 1, \"id\": 30}, {\"Month\": \"September\", \"Perpetrator_Sex\": \"Male\", \"State\": \"Nebraska\", \"Record_ID\": 4, \"id\": 31}, {\"Month\": \"September\", \"Perpetrator_Sex\": \"Male\", \"State\": \"Nevada\", \"Record_ID\": 11, \"id\": 32}, {\"Month\": \"September\", \"Perpetrator_Sex\": \"Male\", \"State\": \"New Hampshire\", \"Record_ID\": 0, \"id\": 33}, {\"Month\": \"September\", \"Perpetrator_Sex\": \"Male\", \"State\": \"New Jersey\", \"Record_ID\": 22, \"id\": 34}, {\"Month\": \"September\", \"Perpetrator_Sex\": \"Male\", \"State\": \"New Mexico\", \"Record_ID\": 7, \"id\": 35}, {\"Month\": \"September\", \"Perpetrator_Sex\": \"Male\", \"State\": \"New York\", \"Record_ID\": 34, \"id\": 36}, {\"Month\": \"September\", \"Perpetrator_Sex\": \"Male\", \"State\": \"North Carolina\", \"Record_ID\": 25, \"id\": 37}, {\"Month\": \"September\", \"Perpetrator_Sex\": \"Male\", \"State\": \"North Dakota\", \"Record_ID\": 0, \"id\": 38}, {\"Month\": \"September\", \"Perpetrator_Sex\": \"Male\", \"State\": \"Ohio\", \"Record_ID\": 27, \"id\": 39}, {\"Month\": \"September\", \"Perpetrator_Sex\": \"Male\", \"State\": \"Oklahoma\", \"Record_ID\": 8, \"id\": 40}, {\"Month\": \"September\", \"Perpetrator_Sex\": \"Male\", \"State\": \"Oregon\", \"Record_ID\": 4, \"id\": 41}, {\"Month\": \"September\", \"Perpetrator_Sex\": \"Male\", \"State\": \"Pennsylvania\", \"Record_ID\": 50, \"id\": 42}, {\"Month\": \"September\", \"Perpetrator_Sex\": \"Male\", \"State\": \"Rhodes Island\", \"Record_ID\": 3, \"id\": \"Rhodes Island\"}, {\"Month\": \"September\", \"Perpetrator_Sex\": \"Male\", \"State\": \"South Carolina\", \"Record_ID\": 21, \"id\": 45}, {\"Month\": \"September\", \"Perpetrator_Sex\": \"Male\", \"State\": \"South Dakota\", \"Record_ID\": 0, \"id\": 46}, {\"Month\": \"September\", \"Perpetrator_Sex\": \"Male\", \"State\": \"Tennessee\", \"Record_ID\": 33, \"id\": 47}, {\"Month\": \"September\", \"Perpetrator_Sex\": \"Male\", \"State\": \"Texas\", \"Record_ID\": 81, \"id\": 48}, {\"Month\": \"September\", \"Perpetrator_Sex\": \"Male\", \"State\": \"Utah\", \"Record_ID\": 3, \"id\": 49}, {\"Month\": \"September\", \"Perpetrator_Sex\": \"Male\", \"State\": \"Vermont\", \"Record_ID\": 1, \"id\": 50}, {\"Month\": \"September\", \"Perpetrator_Sex\": \"Male\", \"State\": \"Virginia\", \"Record_ID\": 28, \"id\": 51}, {\"Month\": \"September\", \"Perpetrator_Sex\": \"Male\", \"State\": \"Washington\", \"Record_ID\": 7, \"id\": 53}, {\"Month\": \"September\", \"Perpetrator_Sex\": \"Male\", \"State\": \"West Virginia\", \"Record_ID\": 6, \"id\": 54}, {\"Month\": \"September\", \"Perpetrator_Sex\": \"Male\", \"State\": \"Wisconsin\", \"Record_ID\": 11, \"id\": 55}, {\"Month\": \"September\", \"Perpetrator_Sex\": \"Male\", \"State\": \"Wyoming\", \"Record_ID\": 0, \"id\": 56}, {\"Month\": \"September\", \"Perpetrator_Sex\": \"Unknown\", \"State\": \"Alabama\", \"Record_ID\": 1, \"id\": 1}, {\"Month\": \"September\", \"Perpetrator_Sex\": \"Unknown\", \"State\": \"Alaska\", \"Record_ID\": 0, \"id\": 2}, {\"Month\": \"September\", \"Perpetrator_Sex\": \"Unknown\", \"State\": \"Arizona\", \"Record_ID\": 3, \"id\": 4}, {\"Month\": \"September\", \"Perpetrator_Sex\": \"Unknown\", \"State\": \"Arkansas\", \"Record_ID\": 1, \"id\": 5}, {\"Month\": \"September\", \"Perpetrator_Sex\": \"Unknown\", \"State\": \"California\", \"Record_ID\": 54, \"id\": 6}, {\"Month\": \"September\", \"Perpetrator_Sex\": \"Unknown\", \"State\": \"Colorado\", \"Record_ID\": 2, \"id\": 8}, {\"Month\": \"September\", \"Perpetrator_Sex\": \"Unknown\", \"State\": \"Connecticut\", \"Record_ID\": 4, \"id\": 9}, {\"Month\": \"September\", \"Perpetrator_Sex\": \"Unknown\", \"State\": \"Delaware\", \"Record_ID\": 1, \"id\": 10}, {\"Month\": \"September\", \"Perpetrator_Sex\": \"Unknown\", \"State\": \"District of Columbia\", \"Record_ID\": 7, \"id\": 11}, {\"Month\": \"September\", \"Perpetrator_Sex\": \"Unknown\", \"State\": \"Florida\", \"Record_ID\": 28, \"id\": 12}, {\"Month\": \"September\", \"Perpetrator_Sex\": \"Unknown\", \"State\": \"Georgia\", \"Record_ID\": 15, \"id\": 13}, {\"Month\": \"September\", \"Perpetrator_Sex\": \"Unknown\", \"State\": \"Hawaii\", \"Record_ID\": 1, \"id\": 15}, {\"Month\": \"September\", \"Perpetrator_Sex\": \"Unknown\", \"State\": \"Idaho\", \"Record_ID\": 0, \"id\": 16}, {\"Month\": \"September\", \"Perpetrator_Sex\": \"Unknown\", \"State\": \"Illinois\", \"Record_ID\": 20, \"id\": 17}, {\"Month\": \"September\", \"Perpetrator_Sex\": \"Unknown\", \"State\": \"Indiana\", \"Record_ID\": 7, \"id\": 18}, {\"Month\": \"September\", \"Perpetrator_Sex\": \"Unknown\", \"State\": \"Iowa\", \"Record_ID\": 1, \"id\": 19}, {\"Month\": \"September\", \"Perpetrator_Sex\": \"Unknown\", \"State\": \"Kansas\", \"Record_ID\": 3, \"id\": 20}, {\"Month\": \"September\", \"Perpetrator_Sex\": \"Unknown\", \"State\": \"Kentucky\", \"Record_ID\": 1, \"id\": 21}, {\"Month\": \"September\", \"Perpetrator_Sex\": \"Unknown\", \"State\": \"Louisiana\", \"Record_ID\": 16, \"id\": 22}, {\"Month\": \"September\", \"Perpetrator_Sex\": \"Unknown\", \"State\": \"Maine\", \"Record_ID\": 0, \"id\": 23}, {\"Month\": \"September\", \"Perpetrator_Sex\": \"Unknown\", \"State\": \"Maryland\", \"Record_ID\": 12, \"id\": 24}, {\"Month\": \"September\", \"Perpetrator_Sex\": \"Unknown\", \"State\": \"Massachusetts\", \"Record_ID\": 7, \"id\": 25}, {\"Month\": \"September\", \"Perpetrator_Sex\": \"Unknown\", \"State\": \"Michigan\", \"Record_ID\": 17, \"id\": 26}, {\"Month\": \"September\", \"Perpetrator_Sex\": \"Unknown\", \"State\": \"Minnesota\", \"Record_ID\": 1, \"id\": 27}, {\"Month\": \"September\", \"Perpetrator_Sex\": \"Unknown\", \"State\": \"Mississippi\", \"Record_ID\": 1, \"id\": 28}, {\"Month\": \"September\", \"Perpetrator_Sex\": \"Unknown\", \"State\": \"Missouri\", \"Record_ID\": 7, \"id\": 29}, {\"Month\": \"September\", \"Perpetrator_Sex\": \"Unknown\", \"State\": \"Montana\", \"Record_ID\": 0, \"id\": 30}, {\"Month\": \"September\", \"Perpetrator_Sex\": \"Unknown\", \"State\": \"Nebraska\", \"Record_ID\": 2, \"id\": 31}, {\"Month\": \"September\", \"Perpetrator_Sex\": \"Unknown\", \"State\": \"Nevada\", \"Record_ID\": 4, \"id\": 32}, {\"Month\": \"September\", \"Perpetrator_Sex\": \"Unknown\", \"State\": \"New Hampshire\", \"Record_ID\": 0, \"id\": 33}, {\"Month\": \"September\", \"Perpetrator_Sex\": \"Unknown\", \"State\": \"New Jersey\", \"Record_ID\": 17, \"id\": 34}, {\"Month\": \"September\", \"Perpetrator_Sex\": \"Unknown\", \"State\": \"New Mexico\", \"Record_ID\": 1, \"id\": 35}, {\"Month\": \"September\", \"Perpetrator_Sex\": \"Unknown\", \"State\": \"New York\", \"Record_ID\": 36, \"id\": 36}, {\"Month\": \"September\", \"Perpetrator_Sex\": \"Unknown\", \"State\": \"North Carolina\", \"Record_ID\": 10, \"id\": 37}, {\"Month\": \"September\", \"Perpetrator_Sex\": \"Unknown\", \"State\": \"North Dakota\", \"Record_ID\": 0, \"id\": 38}, {\"Month\": \"September\", \"Perpetrator_Sex\": \"Unknown\", \"State\": \"Ohio\", \"Record_ID\": 10, \"id\": 39}, {\"Month\": \"September\", \"Perpetrator_Sex\": \"Unknown\", \"State\": \"Oklahoma\", \"Record_ID\": 7, \"id\": 40}, {\"Month\": \"September\", \"Perpetrator_Sex\": \"Unknown\", \"State\": \"Oregon\", \"Record_ID\": 0, \"id\": 41}, {\"Month\": \"September\", \"Perpetrator_Sex\": \"Unknown\", \"State\": \"Pennsylvania\", \"Record_ID\": 14, \"id\": 42}, {\"Month\": \"September\", \"Perpetrator_Sex\": \"Unknown\", \"State\": \"Rhodes Island\", \"Record_ID\": 0, \"id\": \"Rhodes Island\"}, {\"Month\": \"September\", \"Perpetrator_Sex\": \"Unknown\", \"State\": \"South Carolina\", \"Record_ID\": 2, \"id\": 45}, {\"Month\": \"September\", \"Perpetrator_Sex\": \"Unknown\", \"State\": \"South Dakota\", \"Record_ID\": 0, \"id\": 46}, {\"Month\": \"September\", \"Perpetrator_Sex\": \"Unknown\", \"State\": \"Tennessee\", \"Record_ID\": 6, \"id\": 47}, {\"Month\": \"September\", \"Perpetrator_Sex\": \"Unknown\", \"State\": \"Texas\", \"Record_ID\": 24, \"id\": 48}, {\"Month\": \"September\", \"Perpetrator_Sex\": \"Unknown\", \"State\": \"Utah\", \"Record_ID\": 0, \"id\": 49}, {\"Month\": \"September\", \"Perpetrator_Sex\": \"Unknown\", \"State\": \"Vermont\", \"Record_ID\": 0, \"id\": 50}, {\"Month\": \"September\", \"Perpetrator_Sex\": \"Unknown\", \"State\": \"Virginia\", \"Record_ID\": 3, \"id\": 51}, {\"Month\": \"September\", \"Perpetrator_Sex\": \"Unknown\", \"State\": \"Washington\", \"Record_ID\": 3, \"id\": 53}, {\"Month\": \"September\", \"Perpetrator_Sex\": \"Unknown\", \"State\": \"West Virginia\", \"Record_ID\": 1, \"id\": 54}, {\"Month\": \"September\", \"Perpetrator_Sex\": \"Unknown\", \"State\": \"Wisconsin\", \"Record_ID\": 0, \"id\": 55}, {\"Month\": \"September\", \"Perpetrator_Sex\": \"Unknown\", \"State\": \"Wyoming\", \"Record_ID\": 0, \"id\": 56}, {\"Month\": \"October\", \"Perpetrator_Sex\": \"Female\", \"State\": \"Alabama\", \"Record_ID\": 5, \"id\": 1}, {\"Month\": \"October\", \"Perpetrator_Sex\": \"Female\", \"State\": \"Alaska\", \"Record_ID\": 1, \"id\": 2}, {\"Month\": \"October\", \"Perpetrator_Sex\": \"Female\", \"State\": \"Arizona\", \"Record_ID\": 2, \"id\": 4}, {\"Month\": \"October\", \"Perpetrator_Sex\": \"Female\", \"State\": \"Arkansas\", \"Record_ID\": 2, \"id\": 5}, {\"Month\": \"October\", \"Perpetrator_Sex\": \"Female\", \"State\": \"California\", \"Record_ID\": 6, \"id\": 6}, {\"Month\": \"October\", \"Perpetrator_Sex\": \"Female\", \"State\": \"Colorado\", \"Record_ID\": 5, \"id\": 8}, {\"Month\": \"October\", \"Perpetrator_Sex\": \"Female\", \"State\": \"Connecticut\", \"Record_ID\": 0, \"id\": 9}, {\"Month\": \"October\", \"Perpetrator_Sex\": \"Female\", \"State\": \"Delaware\", \"Record_ID\": 2, \"id\": 10}, {\"Month\": \"October\", \"Perpetrator_Sex\": \"Female\", \"State\": \"District of Columbia\", \"Record_ID\": 0, \"id\": 11}, {\"Month\": \"October\", \"Perpetrator_Sex\": \"Female\", \"State\": \"Florida\", \"Record_ID\": 3, \"id\": 12}, {\"Month\": \"October\", \"Perpetrator_Sex\": \"Female\", \"State\": \"Georgia\", \"Record_ID\": 3, \"id\": 13}, {\"Month\": \"October\", \"Perpetrator_Sex\": \"Female\", \"State\": \"Hawaii\", \"Record_ID\": 0, \"id\": 15}, {\"Month\": \"October\", \"Perpetrator_Sex\": \"Female\", \"State\": \"Idaho\", \"Record_ID\": 2, \"id\": 16}, {\"Month\": \"October\", \"Perpetrator_Sex\": \"Female\", \"State\": \"Illinois\", \"Record_ID\": 1, \"id\": 17}, {\"Month\": \"October\", \"Perpetrator_Sex\": \"Female\", \"State\": \"Indiana\", \"Record_ID\": 2, \"id\": 18}, {\"Month\": \"October\", \"Perpetrator_Sex\": \"Female\", \"State\": \"Iowa\", \"Record_ID\": 0, \"id\": 19}, {\"Month\": \"October\", \"Perpetrator_Sex\": \"Female\", \"State\": \"Kansas\", \"Record_ID\": 1, \"id\": 20}, {\"Month\": \"October\", \"Perpetrator_Sex\": \"Female\", \"State\": \"Kentucky\", \"Record_ID\": 0, \"id\": 21}, {\"Month\": \"October\", \"Perpetrator_Sex\": \"Female\", \"State\": \"Louisiana\", \"Record_ID\": 0, \"id\": 22}, {\"Month\": \"October\", \"Perpetrator_Sex\": \"Female\", \"State\": \"Maine\", \"Record_ID\": 0, \"id\": 23}, {\"Month\": \"October\", \"Perpetrator_Sex\": \"Female\", \"State\": \"Maryland\", \"Record_ID\": 3, \"id\": 24}, {\"Month\": \"October\", \"Perpetrator_Sex\": \"Female\", \"State\": \"Massachusetts\", \"Record_ID\": 0, \"id\": 25}, {\"Month\": \"October\", \"Perpetrator_Sex\": \"Female\", \"State\": \"Michigan\", \"Record_ID\": 3, \"id\": 26}, {\"Month\": \"October\", \"Perpetrator_Sex\": \"Female\", \"State\": \"Minnesota\", \"Record_ID\": 0, \"id\": 27}, {\"Month\": \"October\", \"Perpetrator_Sex\": \"Female\", \"State\": \"Mississippi\", \"Record_ID\": 1, \"id\": 28}, {\"Month\": \"October\", \"Perpetrator_Sex\": \"Female\", \"State\": \"Missouri\", \"Record_ID\": 2, \"id\": 29}, {\"Month\": \"October\", \"Perpetrator_Sex\": \"Female\", \"State\": \"Montana\", \"Record_ID\": 0, \"id\": 30}, {\"Month\": \"October\", \"Perpetrator_Sex\": \"Female\", \"State\": \"Nebraska\", \"Record_ID\": 0, \"id\": 31}, {\"Month\": \"October\", \"Perpetrator_Sex\": \"Female\", \"State\": \"Nevada\", \"Record_ID\": 0, \"id\": 32}, {\"Month\": \"October\", \"Perpetrator_Sex\": \"Female\", \"State\": \"New Hampshire\", \"Record_ID\": 0, \"id\": 33}, {\"Month\": \"October\", \"Perpetrator_Sex\": \"Female\", \"State\": \"New Jersey\", \"Record_ID\": 1, \"id\": 34}, {\"Month\": \"October\", \"Perpetrator_Sex\": \"Female\", \"State\": \"New Mexico\", \"Record_ID\": 2, \"id\": 35}, {\"Month\": \"October\", \"Perpetrator_Sex\": \"Female\", \"State\": \"New York\", \"Record_ID\": 1, \"id\": 36}, {\"Month\": \"October\", \"Perpetrator_Sex\": \"Female\", \"State\": \"North Carolina\", \"Record_ID\": 3, \"id\": 37}, {\"Month\": \"October\", \"Perpetrator_Sex\": \"Female\", \"State\": \"North Dakota\", \"Record_ID\": 0, \"id\": 38}, {\"Month\": \"October\", \"Perpetrator_Sex\": \"Female\", \"State\": \"Ohio\", \"Record_ID\": 2, \"id\": 39}, {\"Month\": \"October\", \"Perpetrator_Sex\": \"Female\", \"State\": \"Oklahoma\", \"Record_ID\": 4, \"id\": 40}, {\"Month\": \"October\", \"Perpetrator_Sex\": \"Female\", \"State\": \"Oregon\", \"Record_ID\": 1, \"id\": 41}, {\"Month\": \"October\", \"Perpetrator_Sex\": \"Female\", \"State\": \"Pennsylvania\", \"Record_ID\": 8, \"id\": 42}, {\"Month\": \"October\", \"Perpetrator_Sex\": \"Female\", \"State\": \"Rhodes Island\", \"Record_ID\": 0, \"id\": \"Rhodes Island\"}, {\"Month\": \"October\", \"Perpetrator_Sex\": \"Female\", \"State\": \"South Carolina\", \"Record_ID\": 2, \"id\": 45}, {\"Month\": \"October\", \"Perpetrator_Sex\": \"Female\", \"State\": \"South Dakota\", \"Record_ID\": 0, \"id\": 46}, {\"Month\": \"October\", \"Perpetrator_Sex\": \"Female\", \"State\": \"Tennessee\", \"Record_ID\": 0, \"id\": 47}, {\"Month\": \"October\", \"Perpetrator_Sex\": \"Female\", \"State\": \"Texas\", \"Record_ID\": 7, \"id\": 48}, {\"Month\": \"October\", \"Perpetrator_Sex\": \"Female\", \"State\": \"Utah\", \"Record_ID\": 0, \"id\": 49}, {\"Month\": \"October\", \"Perpetrator_Sex\": \"Female\", \"State\": \"Vermont\", \"Record_ID\": 0, \"id\": 50}, {\"Month\": \"October\", \"Perpetrator_Sex\": \"Female\", \"State\": \"Virginia\", \"Record_ID\": 5, \"id\": 51}, {\"Month\": \"October\", \"Perpetrator_Sex\": \"Female\", \"State\": \"Washington\", \"Record_ID\": 1, \"id\": 53}, {\"Month\": \"October\", \"Perpetrator_Sex\": \"Female\", \"State\": \"West Virginia\", \"Record_ID\": 0, \"id\": 54}, {\"Month\": \"October\", \"Perpetrator_Sex\": \"Female\", \"State\": \"Wisconsin\", \"Record_ID\": 2, \"id\": 55}, {\"Month\": \"October\", \"Perpetrator_Sex\": \"Female\", \"State\": \"Wyoming\", \"Record_ID\": 0, \"id\": 56}, {\"Month\": \"October\", \"Perpetrator_Sex\": \"Male\", \"State\": \"Alabama\", \"Record_ID\": 11, \"id\": 1}, {\"Month\": \"October\", \"Perpetrator_Sex\": \"Male\", \"State\": \"Alaska\", \"Record_ID\": 4, \"id\": 2}, {\"Month\": \"October\", \"Perpetrator_Sex\": \"Male\", \"State\": \"Arizona\", \"Record_ID\": 35, \"id\": 4}, {\"Month\": \"October\", \"Perpetrator_Sex\": \"Male\", \"State\": \"Arkansas\", \"Record_ID\": 6, \"id\": 5}, {\"Month\": \"October\", \"Perpetrator_Sex\": \"Male\", \"State\": \"California\", \"Record_ID\": 79, \"id\": 6}, {\"Month\": \"October\", \"Perpetrator_Sex\": \"Male\", \"State\": \"Colorado\", \"Record_ID\": 9, \"id\": 8}, {\"Month\": \"October\", \"Perpetrator_Sex\": \"Male\", \"State\": \"Connecticut\", \"Record_ID\": 3, \"id\": 9}, {\"Month\": \"October\", \"Perpetrator_Sex\": \"Male\", \"State\": \"Delaware\", \"Record_ID\": 3, \"id\": 10}, {\"Month\": \"October\", \"Perpetrator_Sex\": \"Male\", \"State\": \"District of Columbia\", \"Record_ID\": 3, \"id\": 11}, {\"Month\": \"October\", \"Perpetrator_Sex\": \"Male\", \"State\": \"Florida\", \"Record_ID\": 69, \"id\": 12}, {\"Month\": \"October\", \"Perpetrator_Sex\": \"Male\", \"State\": \"Georgia\", \"Record_ID\": 35, \"id\": 13}, {\"Month\": \"October\", \"Perpetrator_Sex\": \"Male\", \"State\": \"Hawaii\", \"Record_ID\": 1, \"id\": 15}, {\"Month\": \"October\", \"Perpetrator_Sex\": \"Male\", \"State\": \"Idaho\", \"Record_ID\": 2, \"id\": 16}, {\"Month\": \"October\", \"Perpetrator_Sex\": \"Male\", \"State\": \"Illinois\", \"Record_ID\": 12, \"id\": 17}, {\"Month\": \"October\", \"Perpetrator_Sex\": \"Male\", \"State\": \"Indiana\", \"Record_ID\": 10, \"id\": 18}, {\"Month\": \"October\", \"Perpetrator_Sex\": \"Male\", \"State\": \"Iowa\", \"Record_ID\": 4, \"id\": 19}, {\"Month\": \"October\", \"Perpetrator_Sex\": \"Male\", \"State\": \"Kansas\", \"Record_ID\": 2, \"id\": 20}, {\"Month\": \"October\", \"Perpetrator_Sex\": \"Male\", \"State\": \"Kentucky\", \"Record_ID\": 11, \"id\": 21}, {\"Month\": \"October\", \"Perpetrator_Sex\": \"Male\", \"State\": \"Louisiana\", \"Record_ID\": 13, \"id\": 22}, {\"Month\": \"October\", \"Perpetrator_Sex\": \"Male\", \"State\": \"Maine\", \"Record_ID\": 2, \"id\": 23}, {\"Month\": \"October\", \"Perpetrator_Sex\": \"Male\", \"State\": \"Maryland\", \"Record_ID\": 16, \"id\": 24}, {\"Month\": \"October\", \"Perpetrator_Sex\": \"Male\", \"State\": \"Massachusetts\", \"Record_ID\": 8, \"id\": 25}, {\"Month\": \"October\", \"Perpetrator_Sex\": \"Male\", \"State\": \"Michigan\", \"Record_ID\": 30, \"id\": 26}, {\"Month\": \"October\", \"Perpetrator_Sex\": \"Male\", \"State\": \"Minnesota\", \"Record_ID\": 9, \"id\": 27}, {\"Month\": \"October\", \"Perpetrator_Sex\": \"Male\", \"State\": \"Mississippi\", \"Record_ID\": 7, \"id\": 28}, {\"Month\": \"October\", \"Perpetrator_Sex\": \"Male\", \"State\": \"Missouri\", \"Record_ID\": 22, \"id\": 29}, {\"Month\": \"October\", \"Perpetrator_Sex\": \"Male\", \"State\": \"Montana\", \"Record_ID\": 0, \"id\": 30}, {\"Month\": \"October\", \"Perpetrator_Sex\": \"Male\", \"State\": \"Nebraska\", \"Record_ID\": 1, \"id\": 31}, {\"Month\": \"October\", \"Perpetrator_Sex\": \"Male\", \"State\": \"Nevada\", \"Record_ID\": 8, \"id\": 32}, {\"Month\": \"October\", \"Perpetrator_Sex\": \"Male\", \"State\": \"New Hampshire\", \"Record_ID\": 0, \"id\": 33}, {\"Month\": \"October\", \"Perpetrator_Sex\": \"Male\", \"State\": \"New Jersey\", \"Record_ID\": 19, \"id\": 34}, {\"Month\": \"October\", \"Perpetrator_Sex\": \"Male\", \"State\": \"New Mexico\", \"Record_ID\": 6, \"id\": 35}, {\"Month\": \"October\", \"Perpetrator_Sex\": \"Male\", \"State\": \"New York\", \"Record_ID\": 39, \"id\": 36}, {\"Month\": \"October\", \"Perpetrator_Sex\": \"Male\", \"State\": \"North Carolina\", \"Record_ID\": 22, \"id\": 37}, {\"Month\": \"October\", \"Perpetrator_Sex\": \"Male\", \"State\": \"North Dakota\", \"Record_ID\": 1, \"id\": 38}, {\"Month\": \"October\", \"Perpetrator_Sex\": \"Male\", \"State\": \"Ohio\", \"Record_ID\": 32, \"id\": 39}, {\"Month\": \"October\", \"Perpetrator_Sex\": \"Male\", \"State\": \"Oklahoma\", \"Record_ID\": 9, \"id\": 40}, {\"Month\": \"October\", \"Perpetrator_Sex\": \"Male\", \"State\": \"Oregon\", \"Record_ID\": 9, \"id\": 41}, {\"Month\": \"October\", \"Perpetrator_Sex\": \"Male\", \"State\": \"Pennsylvania\", \"Record_ID\": 44, \"id\": 42}, {\"Month\": \"October\", \"Perpetrator_Sex\": \"Male\", \"State\": \"Rhodes Island\", \"Record_ID\": 1, \"id\": \"Rhodes Island\"}, {\"Month\": \"October\", \"Perpetrator_Sex\": \"Male\", \"State\": \"South Carolina\", \"Record_ID\": 26, \"id\": 45}, {\"Month\": \"October\", \"Perpetrator_Sex\": \"Male\", \"State\": \"South Dakota\", \"Record_ID\": 0, \"id\": 46}, {\"Month\": \"October\", \"Perpetrator_Sex\": \"Male\", \"State\": \"Tennessee\", \"Record_ID\": 28, \"id\": 47}, {\"Month\": \"October\", \"Perpetrator_Sex\": \"Male\", \"State\": \"Texas\", \"Record_ID\": 94, \"id\": 48}, {\"Month\": \"October\", \"Perpetrator_Sex\": \"Male\", \"State\": \"Utah\", \"Record_ID\": 3, \"id\": 49}, {\"Month\": \"October\", \"Perpetrator_Sex\": \"Male\", \"State\": \"Vermont\", \"Record_ID\": 1, \"id\": 50}, {\"Month\": \"October\", \"Perpetrator_Sex\": \"Male\", \"State\": \"Virginia\", \"Record_ID\": 24, \"id\": 51}, {\"Month\": \"October\", \"Perpetrator_Sex\": \"Male\", \"State\": \"Washington\", \"Record_ID\": 14, \"id\": 53}, {\"Month\": \"October\", \"Perpetrator_Sex\": \"Male\", \"State\": \"West Virginia\", \"Record_ID\": 3, \"id\": 54}, {\"Month\": \"October\", \"Perpetrator_Sex\": \"Male\", \"State\": \"Wisconsin\", \"Record_ID\": 12, \"id\": 55}, {\"Month\": \"October\", \"Perpetrator_Sex\": \"Male\", \"State\": \"Wyoming\", \"Record_ID\": 0, \"id\": 56}, {\"Month\": \"October\", \"Perpetrator_Sex\": \"Unknown\", \"State\": \"Alabama\", \"Record_ID\": 4, \"id\": 1}, {\"Month\": \"October\", \"Perpetrator_Sex\": \"Unknown\", \"State\": \"Alaska\", \"Record_ID\": 0, \"id\": 2}, {\"Month\": \"October\", \"Perpetrator_Sex\": \"Unknown\", \"State\": \"Arizona\", \"Record_ID\": 8, \"id\": 4}, {\"Month\": \"October\", \"Perpetrator_Sex\": \"Unknown\", \"State\": \"Arkansas\", \"Record_ID\": 2, \"id\": 5}, {\"Month\": \"October\", \"Perpetrator_Sex\": \"Unknown\", \"State\": \"California\", \"Record_ID\": 72, \"id\": 6}, {\"Month\": \"October\", \"Perpetrator_Sex\": \"Unknown\", \"State\": \"Colorado\", \"Record_ID\": 5, \"id\": 8}, {\"Month\": \"October\", \"Perpetrator_Sex\": \"Unknown\", \"State\": \"Connecticut\", \"Record_ID\": 5, \"id\": 9}, {\"Month\": \"October\", \"Perpetrator_Sex\": \"Unknown\", \"State\": \"Delaware\", \"Record_ID\": 1, \"id\": 10}, {\"Month\": \"October\", \"Perpetrator_Sex\": \"Unknown\", \"State\": \"District of Columbia\", \"Record_ID\": 11, \"id\": 11}, {\"Month\": \"October\", \"Perpetrator_Sex\": \"Unknown\", \"State\": \"Florida\", \"Record_ID\": 23, \"id\": 12}, {\"Month\": \"October\", \"Perpetrator_Sex\": \"Unknown\", \"State\": \"Georgia\", \"Record_ID\": 18, \"id\": 13}, {\"Month\": \"October\", \"Perpetrator_Sex\": \"Unknown\", \"State\": \"Hawaii\", \"Record_ID\": 0, \"id\": 15}, {\"Month\": \"October\", \"Perpetrator_Sex\": \"Unknown\", \"State\": \"Idaho\", \"Record_ID\": 0, \"id\": 16}, {\"Month\": \"October\", \"Perpetrator_Sex\": \"Unknown\", \"State\": \"Illinois\", \"Record_ID\": 25, \"id\": 17}, {\"Month\": \"October\", \"Perpetrator_Sex\": \"Unknown\", \"State\": \"Indiana\", \"Record_ID\": 10, \"id\": 18}, {\"Month\": \"October\", \"Perpetrator_Sex\": \"Unknown\", \"State\": \"Iowa\", \"Record_ID\": 0, \"id\": 19}, {\"Month\": \"October\", \"Perpetrator_Sex\": \"Unknown\", \"State\": \"Kansas\", \"Record_ID\": 2, \"id\": 20}, {\"Month\": \"October\", \"Perpetrator_Sex\": \"Unknown\", \"State\": \"Kentucky\", \"Record_ID\": 6, \"id\": 21}, {\"Month\": \"October\", \"Perpetrator_Sex\": \"Unknown\", \"State\": \"Louisiana\", \"Record_ID\": 9, \"id\": 22}, {\"Month\": \"October\", \"Perpetrator_Sex\": \"Unknown\", \"State\": \"Maine\", \"Record_ID\": 0, \"id\": 23}, {\"Month\": \"October\", \"Perpetrator_Sex\": \"Unknown\", \"State\": \"Maryland\", \"Record_ID\": 17, \"id\": 24}, {\"Month\": \"October\", \"Perpetrator_Sex\": \"Unknown\", \"State\": \"Massachusetts\", \"Record_ID\": 10, \"id\": 25}, {\"Month\": \"October\", \"Perpetrator_Sex\": \"Unknown\", \"State\": \"Michigan\", \"Record_ID\": 17, \"id\": 26}, {\"Month\": \"October\", \"Perpetrator_Sex\": \"Unknown\", \"State\": \"Minnesota\", \"Record_ID\": 0, \"id\": 27}, {\"Month\": \"October\", \"Perpetrator_Sex\": \"Unknown\", \"State\": \"Mississippi\", \"Record_ID\": 2, \"id\": 28}, {\"Month\": \"October\", \"Perpetrator_Sex\": \"Unknown\", \"State\": \"Missouri\", \"Record_ID\": 13, \"id\": 29}, {\"Month\": \"October\", \"Perpetrator_Sex\": \"Unknown\", \"State\": \"Montana\", \"Record_ID\": 0, \"id\": 30}, {\"Month\": \"October\", \"Perpetrator_Sex\": \"Unknown\", \"State\": \"Nebraska\", \"Record_ID\": 2, \"id\": 31}, {\"Month\": \"October\", \"Perpetrator_Sex\": \"Unknown\", \"State\": \"Nevada\", \"Record_ID\": 1, \"id\": 32}, {\"Month\": \"October\", \"Perpetrator_Sex\": \"Unknown\", \"State\": \"New Hampshire\", \"Record_ID\": 0, \"id\": 33}, {\"Month\": \"October\", \"Perpetrator_Sex\": \"Unknown\", \"State\": \"New Jersey\", \"Record_ID\": 15, \"id\": 34}, {\"Month\": \"October\", \"Perpetrator_Sex\": \"Unknown\", \"State\": \"New Mexico\", \"Record_ID\": 1, \"id\": 35}, {\"Month\": \"October\", \"Perpetrator_Sex\": \"Unknown\", \"State\": \"New York\", \"Record_ID\": 31, \"id\": 36}, {\"Month\": \"October\", \"Perpetrator_Sex\": \"Unknown\", \"State\": \"North Carolina\", \"Record_ID\": 12, \"id\": 37}, {\"Month\": \"October\", \"Perpetrator_Sex\": \"Unknown\", \"State\": \"North Dakota\", \"Record_ID\": 0, \"id\": 38}, {\"Month\": \"October\", \"Perpetrator_Sex\": \"Unknown\", \"State\": \"Ohio\", \"Record_ID\": 18, \"id\": 39}, {\"Month\": \"October\", \"Perpetrator_Sex\": \"Unknown\", \"State\": \"Oklahoma\", \"Record_ID\": 2, \"id\": 40}, {\"Month\": \"October\", \"Perpetrator_Sex\": \"Unknown\", \"State\": \"Oregon\", \"Record_ID\": 1, \"id\": 41}, {\"Month\": \"October\", \"Perpetrator_Sex\": \"Unknown\", \"State\": \"Pennsylvania\", \"Record_ID\": 11, \"id\": 42}, {\"Month\": \"October\", \"Perpetrator_Sex\": \"Unknown\", \"State\": \"Rhodes Island\", \"Record_ID\": 0, \"id\": \"Rhodes Island\"}, {\"Month\": \"October\", \"Perpetrator_Sex\": \"Unknown\", \"State\": \"South Carolina\", \"Record_ID\": 5, \"id\": 45}, {\"Month\": \"October\", \"Perpetrator_Sex\": \"Unknown\", \"State\": \"South Dakota\", \"Record_ID\": 1, \"id\": 46}, {\"Month\": \"October\", \"Perpetrator_Sex\": \"Unknown\", \"State\": \"Tennessee\", \"Record_ID\": 5, \"id\": 47}, {\"Month\": \"October\", \"Perpetrator_Sex\": \"Unknown\", \"State\": \"Texas\", \"Record_ID\": 32, \"id\": 48}, {\"Month\": \"October\", \"Perpetrator_Sex\": \"Unknown\", \"State\": \"Utah\", \"Record_ID\": 0, \"id\": 49}, {\"Month\": \"October\", \"Perpetrator_Sex\": \"Unknown\", \"State\": \"Vermont\", \"Record_ID\": 0, \"id\": 50}, {\"Month\": \"October\", \"Perpetrator_Sex\": \"Unknown\", \"State\": \"Virginia\", \"Record_ID\": 4, \"id\": 51}, {\"Month\": \"October\", \"Perpetrator_Sex\": \"Unknown\", \"State\": \"Washington\", \"Record_ID\": 5, \"id\": 53}, {\"Month\": \"October\", \"Perpetrator_Sex\": \"Unknown\", \"State\": \"West Virginia\", \"Record_ID\": 0, \"id\": 54}, {\"Month\": \"October\", \"Perpetrator_Sex\": \"Unknown\", \"State\": \"Wisconsin\", \"Record_ID\": 1, \"id\": 55}, {\"Month\": \"October\", \"Perpetrator_Sex\": \"Unknown\", \"State\": \"Wyoming\", \"Record_ID\": 0, \"id\": 56}, {\"Month\": \"November\", \"Perpetrator_Sex\": \"Female\", \"State\": \"Alabama\", \"Record_ID\": 0, \"id\": 1}, {\"Month\": \"November\", \"Perpetrator_Sex\": \"Female\", \"State\": \"Alaska\", \"Record_ID\": 1, \"id\": 2}, {\"Month\": \"November\", \"Perpetrator_Sex\": \"Female\", \"State\": \"Arizona\", \"Record_ID\": 1, \"id\": 4}, {\"Month\": \"November\", \"Perpetrator_Sex\": \"Female\", \"State\": \"Arkansas\", \"Record_ID\": 2, \"id\": 5}, {\"Month\": \"November\", \"Perpetrator_Sex\": \"Female\", \"State\": \"California\", \"Record_ID\": 5, \"id\": 6}, {\"Month\": \"November\", \"Perpetrator_Sex\": \"Female\", \"State\": \"Colorado\", \"Record_ID\": 0, \"id\": 8}, {\"Month\": \"November\", \"Perpetrator_Sex\": \"Female\", \"State\": \"Connecticut\", \"Record_ID\": 0, \"id\": 9}, {\"Month\": \"November\", \"Perpetrator_Sex\": \"Female\", \"State\": \"Delaware\", \"Record_ID\": 0, \"id\": 10}, {\"Month\": \"November\", \"Perpetrator_Sex\": \"Female\", \"State\": \"District of Columbia\", \"Record_ID\": 0, \"id\": 11}, {\"Month\": \"November\", \"Perpetrator_Sex\": \"Female\", \"State\": \"Florida\", \"Record_ID\": 8, \"id\": 12}, {\"Month\": \"November\", \"Perpetrator_Sex\": \"Female\", \"State\": \"Georgia\", \"Record_ID\": 4, \"id\": 13}, {\"Month\": \"November\", \"Perpetrator_Sex\": \"Female\", \"State\": \"Hawaii\", \"Record_ID\": 0, \"id\": 15}, {\"Month\": \"November\", \"Perpetrator_Sex\": \"Female\", \"State\": \"Idaho\", \"Record_ID\": 0, \"id\": 16}, {\"Month\": \"November\", \"Perpetrator_Sex\": \"Female\", \"State\": \"Illinois\", \"Record_ID\": 1, \"id\": 17}, {\"Month\": \"November\", \"Perpetrator_Sex\": \"Female\", \"State\": \"Indiana\", \"Record_ID\": 0, \"id\": 18}, {\"Month\": \"November\", \"Perpetrator_Sex\": \"Female\", \"State\": \"Iowa\", \"Record_ID\": 0, \"id\": 19}, {\"Month\": \"November\", \"Perpetrator_Sex\": \"Female\", \"State\": \"Kansas\", \"Record_ID\": 2, \"id\": 20}, {\"Month\": \"November\", \"Perpetrator_Sex\": \"Female\", \"State\": \"Kentucky\", \"Record_ID\": 3, \"id\": 21}, {\"Month\": \"November\", \"Perpetrator_Sex\": \"Female\", \"State\": \"Louisiana\", \"Record_ID\": 1, \"id\": 22}, {\"Month\": \"November\", \"Perpetrator_Sex\": \"Female\", \"State\": \"Maine\", \"Record_ID\": 0, \"id\": 23}, {\"Month\": \"November\", \"Perpetrator_Sex\": \"Female\", \"State\": \"Maryland\", \"Record_ID\": 2, \"id\": 24}, {\"Month\": \"November\", \"Perpetrator_Sex\": \"Female\", \"State\": \"Massachusetts\", \"Record_ID\": 0, \"id\": 25}, {\"Month\": \"November\", \"Perpetrator_Sex\": \"Female\", \"State\": \"Michigan\", \"Record_ID\": 5, \"id\": 26}, {\"Month\": \"November\", \"Perpetrator_Sex\": \"Female\", \"State\": \"Minnesota\", \"Record_ID\": 0, \"id\": 27}, {\"Month\": \"November\", \"Perpetrator_Sex\": \"Female\", \"State\": \"Mississippi\", \"Record_ID\": 2, \"id\": 28}, {\"Month\": \"November\", \"Perpetrator_Sex\": \"Female\", \"State\": \"Missouri\", \"Record_ID\": 4, \"id\": 29}, {\"Month\": \"November\", \"Perpetrator_Sex\": \"Female\", \"State\": \"Montana\", \"Record_ID\": 2, \"id\": 30}, {\"Month\": \"November\", \"Perpetrator_Sex\": \"Female\", \"State\": \"Nebraska\", \"Record_ID\": 0, \"id\": 31}, {\"Month\": \"November\", \"Perpetrator_Sex\": \"Female\", \"State\": \"Nevada\", \"Record_ID\": 3, \"id\": 32}, {\"Month\": \"November\", \"Perpetrator_Sex\": \"Female\", \"State\": \"New Hampshire\", \"Record_ID\": 1, \"id\": 33}, {\"Month\": \"November\", \"Perpetrator_Sex\": \"Female\", \"State\": \"New Jersey\", \"Record_ID\": 0, \"id\": 34}, {\"Month\": \"November\", \"Perpetrator_Sex\": \"Female\", \"State\": \"New Mexico\", \"Record_ID\": 2, \"id\": 35}, {\"Month\": \"November\", \"Perpetrator_Sex\": \"Female\", \"State\": \"New York\", \"Record_ID\": 4, \"id\": 36}, {\"Month\": \"November\", \"Perpetrator_Sex\": \"Female\", \"State\": \"North Carolina\", \"Record_ID\": 3, \"id\": 37}, {\"Month\": \"November\", \"Perpetrator_Sex\": \"Female\", \"State\": \"North Dakota\", \"Record_ID\": 0, \"id\": 38}, {\"Month\": \"November\", \"Perpetrator_Sex\": \"Female\", \"State\": \"Ohio\", \"Record_ID\": 2, \"id\": 39}, {\"Month\": \"November\", \"Perpetrator_Sex\": \"Female\", \"State\": \"Oklahoma\", \"Record_ID\": 2, \"id\": 40}, {\"Month\": \"November\", \"Perpetrator_Sex\": \"Female\", \"State\": \"Oregon\", \"Record_ID\": 1, \"id\": 41}, {\"Month\": \"November\", \"Perpetrator_Sex\": \"Female\", \"State\": \"Pennsylvania\", \"Record_ID\": 3, \"id\": 42}, {\"Month\": \"November\", \"Perpetrator_Sex\": \"Female\", \"State\": \"Rhodes Island\", \"Record_ID\": 0, \"id\": \"Rhodes Island\"}, {\"Month\": \"November\", \"Perpetrator_Sex\": \"Female\", \"State\": \"South Carolina\", \"Record_ID\": 0, \"id\": 45}, {\"Month\": \"November\", \"Perpetrator_Sex\": \"Female\", \"State\": \"South Dakota\", \"Record_ID\": 1, \"id\": 46}, {\"Month\": \"November\", \"Perpetrator_Sex\": \"Female\", \"State\": \"Tennessee\", \"Record_ID\": 3, \"id\": 47}, {\"Month\": \"November\", \"Perpetrator_Sex\": \"Female\", \"State\": \"Texas\", \"Record_ID\": 7, \"id\": 48}, {\"Month\": \"November\", \"Perpetrator_Sex\": \"Female\", \"State\": \"Utah\", \"Record_ID\": 0, \"id\": 49}, {\"Month\": \"November\", \"Perpetrator_Sex\": \"Female\", \"State\": \"Vermont\", \"Record_ID\": 0, \"id\": 50}, {\"Month\": \"November\", \"Perpetrator_Sex\": \"Female\", \"State\": \"Virginia\", \"Record_ID\": 3, \"id\": 51}, {\"Month\": \"November\", \"Perpetrator_Sex\": \"Female\", \"State\": \"Washington\", \"Record_ID\": 0, \"id\": 53}, {\"Month\": \"November\", \"Perpetrator_Sex\": \"Female\", \"State\": \"West Virginia\", \"Record_ID\": 0, \"id\": 54}, {\"Month\": \"November\", \"Perpetrator_Sex\": \"Female\", \"State\": \"Wisconsin\", \"Record_ID\": 2, \"id\": 55}, {\"Month\": \"November\", \"Perpetrator_Sex\": \"Female\", \"State\": \"Wyoming\", \"Record_ID\": 0, \"id\": 56}, {\"Month\": \"November\", \"Perpetrator_Sex\": \"Male\", \"State\": \"Alabama\", \"Record_ID\": 8, \"id\": 1}, {\"Month\": \"November\", \"Perpetrator_Sex\": \"Male\", \"State\": \"Alaska\", \"Record_ID\": 4, \"id\": 2}, {\"Month\": \"November\", \"Perpetrator_Sex\": \"Male\", \"State\": \"Arizona\", \"Record_ID\": 19, \"id\": 4}, {\"Month\": \"November\", \"Perpetrator_Sex\": \"Male\", \"State\": \"Arkansas\", \"Record_ID\": 13, \"id\": 5}, {\"Month\": \"November\", \"Perpetrator_Sex\": \"Male\", \"State\": \"California\", \"Record_ID\": 78, \"id\": 6}, {\"Month\": \"November\", \"Perpetrator_Sex\": \"Male\", \"State\": \"Colorado\", \"Record_ID\": 10, \"id\": 8}, {\"Month\": \"November\", \"Perpetrator_Sex\": \"Male\", \"State\": \"Connecticut\", \"Record_ID\": 8, \"id\": 9}, {\"Month\": \"November\", \"Perpetrator_Sex\": \"Male\", \"State\": \"Delaware\", \"Record_ID\": 3, \"id\": 10}, {\"Month\": \"November\", \"Perpetrator_Sex\": \"Male\", \"State\": \"District of Columbia\", \"Record_ID\": 9, \"id\": 11}, {\"Month\": \"November\", \"Perpetrator_Sex\": \"Male\", \"State\": \"Florida\", \"Record_ID\": 69, \"id\": 12}, {\"Month\": \"November\", \"Perpetrator_Sex\": \"Male\", \"State\": \"Georgia\", \"Record_ID\": 28, \"id\": 13}, {\"Month\": \"November\", \"Perpetrator_Sex\": \"Male\", \"State\": \"Hawaii\", \"Record_ID\": 2, \"id\": 15}, {\"Month\": \"November\", \"Perpetrator_Sex\": \"Male\", \"State\": \"Idaho\", \"Record_ID\": 1, \"id\": 16}, {\"Month\": \"November\", \"Perpetrator_Sex\": \"Male\", \"State\": \"Illinois\", \"Record_ID\": 13, \"id\": 17}, {\"Month\": \"November\", \"Perpetrator_Sex\": \"Male\", \"State\": \"Indiana\", \"Record_ID\": 9, \"id\": 18}, {\"Month\": \"November\", \"Perpetrator_Sex\": \"Male\", \"State\": \"Iowa\", \"Record_ID\": 3, \"id\": 19}, {\"Month\": \"November\", \"Perpetrator_Sex\": \"Male\", \"State\": \"Kansas\", \"Record_ID\": 7, \"id\": 20}, {\"Month\": \"November\", \"Perpetrator_Sex\": \"Male\", \"State\": \"Kentucky\", \"Record_ID\": 14, \"id\": 21}, {\"Month\": \"November\", \"Perpetrator_Sex\": \"Male\", \"State\": \"Louisiana\", \"Record_ID\": 11, \"id\": 22}, {\"Month\": \"November\", \"Perpetrator_Sex\": \"Male\", \"State\": \"Maine\", \"Record_ID\": 1, \"id\": 23}, {\"Month\": \"November\", \"Perpetrator_Sex\": \"Male\", \"State\": \"Maryland\", \"Record_ID\": 17, \"id\": 24}, {\"Month\": \"November\", \"Perpetrator_Sex\": \"Male\", \"State\": \"Massachusetts\", \"Record_ID\": 16, \"id\": 25}, {\"Month\": \"November\", \"Perpetrator_Sex\": \"Male\", \"State\": \"Michigan\", \"Record_ID\": 25, \"id\": 26}, {\"Month\": \"November\", \"Perpetrator_Sex\": \"Male\", \"State\": \"Minnesota\", \"Record_ID\": 3, \"id\": 27}, {\"Month\": \"November\", \"Perpetrator_Sex\": \"Male\", \"State\": \"Mississippi\", \"Record_ID\": 5, \"id\": 28}, {\"Month\": \"November\", \"Perpetrator_Sex\": \"Male\", \"State\": \"Missouri\", \"Record_ID\": 22, \"id\": 29}, {\"Month\": \"November\", \"Perpetrator_Sex\": \"Male\", \"State\": \"Montana\", \"Record_ID\": 2, \"id\": 30}, {\"Month\": \"November\", \"Perpetrator_Sex\": \"Male\", \"State\": \"Nebraska\", \"Record_ID\": 4, \"id\": 31}, {\"Month\": \"November\", \"Perpetrator_Sex\": \"Male\", \"State\": \"Nevada\", \"Record_ID\": 14, \"id\": 32}, {\"Month\": \"November\", \"Perpetrator_Sex\": \"Male\", \"State\": \"New Hampshire\", \"Record_ID\": 2, \"id\": 33}, {\"Month\": \"November\", \"Perpetrator_Sex\": \"Male\", \"State\": \"New Jersey\", \"Record_ID\": 13, \"id\": 34}, {\"Month\": \"November\", \"Perpetrator_Sex\": \"Male\", \"State\": \"New Mexico\", \"Record_ID\": 9, \"id\": 35}, {\"Month\": \"November\", \"Perpetrator_Sex\": \"Male\", \"State\": \"New York\", \"Record_ID\": 29, \"id\": 36}, {\"Month\": \"November\", \"Perpetrator_Sex\": \"Male\", \"State\": \"North Carolina\", \"Record_ID\": 26, \"id\": 37}, {\"Month\": \"November\", \"Perpetrator_Sex\": \"Male\", \"State\": \"North Dakota\", \"Record_ID\": 0, \"id\": 38}, {\"Month\": \"November\", \"Perpetrator_Sex\": \"Male\", \"State\": \"Ohio\", \"Record_ID\": 18, \"id\": 39}, {\"Month\": \"November\", \"Perpetrator_Sex\": \"Male\", \"State\": \"Oklahoma\", \"Record_ID\": 15, \"id\": 40}, {\"Month\": \"November\", \"Perpetrator_Sex\": \"Male\", \"State\": \"Oregon\", \"Record_ID\": 4, \"id\": 41}, {\"Month\": \"November\", \"Perpetrator_Sex\": \"Male\", \"State\": \"Pennsylvania\", \"Record_ID\": 33, \"id\": 42}, {\"Month\": \"November\", \"Perpetrator_Sex\": \"Male\", \"State\": \"Rhodes Island\", \"Record_ID\": 1, \"id\": \"Rhodes Island\"}, {\"Month\": \"November\", \"Perpetrator_Sex\": \"Male\", \"State\": \"South Carolina\", \"Record_ID\": 24, \"id\": 45}, {\"Month\": \"November\", \"Perpetrator_Sex\": \"Male\", \"State\": \"South Dakota\", \"Record_ID\": 0, \"id\": 46}, {\"Month\": \"November\", \"Perpetrator_Sex\": \"Male\", \"State\": \"Tennessee\", \"Record_ID\": 17, \"id\": 47}, {\"Month\": \"November\", \"Perpetrator_Sex\": \"Male\", \"State\": \"Texas\", \"Record_ID\": 87, \"id\": 48}, {\"Month\": \"November\", \"Perpetrator_Sex\": \"Male\", \"State\": \"Utah\", \"Record_ID\": 4, \"id\": 49}, {\"Month\": \"November\", \"Perpetrator_Sex\": \"Male\", \"State\": \"Vermont\", \"Record_ID\": 1, \"id\": 50}, {\"Month\": \"November\", \"Perpetrator_Sex\": \"Male\", \"State\": \"Virginia\", \"Record_ID\": 18, \"id\": 51}, {\"Month\": \"November\", \"Perpetrator_Sex\": \"Male\", \"State\": \"Washington\", \"Record_ID\": 12, \"id\": 53}, {\"Month\": \"November\", \"Perpetrator_Sex\": \"Male\", \"State\": \"West Virginia\", \"Record_ID\": 2, \"id\": 54}, {\"Month\": \"November\", \"Perpetrator_Sex\": \"Male\", \"State\": \"Wisconsin\", \"Record_ID\": 15, \"id\": 55}, {\"Month\": \"November\", \"Perpetrator_Sex\": \"Male\", \"State\": \"Wyoming\", \"Record_ID\": 0, \"id\": 56}, {\"Month\": \"November\", \"Perpetrator_Sex\": \"Unknown\", \"State\": \"Alabama\", \"Record_ID\": 4, \"id\": 1}, {\"Month\": \"November\", \"Perpetrator_Sex\": \"Unknown\", \"State\": \"Alaska\", \"Record_ID\": 0, \"id\": 2}, {\"Month\": \"November\", \"Perpetrator_Sex\": \"Unknown\", \"State\": \"Arizona\", \"Record_ID\": 10, \"id\": 4}, {\"Month\": \"November\", \"Perpetrator_Sex\": \"Unknown\", \"State\": \"Arkansas\", \"Record_ID\": 5, \"id\": 5}, {\"Month\": \"November\", \"Perpetrator_Sex\": \"Unknown\", \"State\": \"California\", \"Record_ID\": 68, \"id\": 6}, {\"Month\": \"November\", \"Perpetrator_Sex\": \"Unknown\", \"State\": \"Colorado\", \"Record_ID\": 3, \"id\": 8}, {\"Month\": \"November\", \"Perpetrator_Sex\": \"Unknown\", \"State\": \"Connecticut\", \"Record_ID\": 4, \"id\": 9}, {\"Month\": \"November\", \"Perpetrator_Sex\": \"Unknown\", \"State\": \"Delaware\", \"Record_ID\": 1, \"id\": 10}, {\"Month\": \"November\", \"Perpetrator_Sex\": \"Unknown\", \"State\": \"District of Columbia\", \"Record_ID\": 5, \"id\": 11}, {\"Month\": \"November\", \"Perpetrator_Sex\": \"Unknown\", \"State\": \"Florida\", \"Record_ID\": 22, \"id\": 12}, {\"Month\": \"November\", \"Perpetrator_Sex\": \"Unknown\", \"State\": \"Georgia\", \"Record_ID\": 14, \"id\": 13}, {\"Month\": \"November\", \"Perpetrator_Sex\": \"Unknown\", \"State\": \"Hawaii\", \"Record_ID\": 0, \"id\": 15}, {\"Month\": \"November\", \"Perpetrator_Sex\": \"Unknown\", \"State\": \"Idaho\", \"Record_ID\": 0, \"id\": 16}, {\"Month\": \"November\", \"Perpetrator_Sex\": \"Unknown\", \"State\": \"Illinois\", \"Record_ID\": 22, \"id\": 17}, {\"Month\": \"November\", \"Perpetrator_Sex\": \"Unknown\", \"State\": \"Indiana\", \"Record_ID\": 5, \"id\": 18}, {\"Month\": \"November\", \"Perpetrator_Sex\": \"Unknown\", \"State\": \"Iowa\", \"Record_ID\": 0, \"id\": 19}, {\"Month\": \"November\", \"Perpetrator_Sex\": \"Unknown\", \"State\": \"Kansas\", \"Record_ID\": 0, \"id\": 20}, {\"Month\": \"November\", \"Perpetrator_Sex\": \"Unknown\", \"State\": \"Kentucky\", \"Record_ID\": 6, \"id\": 21}, {\"Month\": \"November\", \"Perpetrator_Sex\": \"Unknown\", \"State\": \"Louisiana\", \"Record_ID\": 18, \"id\": 22}, {\"Month\": \"November\", \"Perpetrator_Sex\": \"Unknown\", \"State\": \"Maine\", \"Record_ID\": 0, \"id\": 23}, {\"Month\": \"November\", \"Perpetrator_Sex\": \"Unknown\", \"State\": \"Maryland\", \"Record_ID\": 14, \"id\": 24}, {\"Month\": \"November\", \"Perpetrator_Sex\": \"Unknown\", \"State\": \"Massachusetts\", \"Record_ID\": 9, \"id\": 25}, {\"Month\": \"November\", \"Perpetrator_Sex\": \"Unknown\", \"State\": \"Michigan\", \"Record_ID\": 20, \"id\": 26}, {\"Month\": \"November\", \"Perpetrator_Sex\": \"Unknown\", \"State\": \"Minnesota\", \"Record_ID\": 0, \"id\": 27}, {\"Month\": \"November\", \"Perpetrator_Sex\": \"Unknown\", \"State\": \"Mississippi\", \"Record_ID\": 5, \"id\": 28}, {\"Month\": \"November\", \"Perpetrator_Sex\": \"Unknown\", \"State\": \"Missouri\", \"Record_ID\": 27, \"id\": 29}, {\"Month\": \"November\", \"Perpetrator_Sex\": \"Unknown\", \"State\": \"Montana\", \"Record_ID\": 0, \"id\": 30}, {\"Month\": \"November\", \"Perpetrator_Sex\": \"Unknown\", \"State\": \"Nebraska\", \"Record_ID\": 3, \"id\": 31}, {\"Month\": \"November\", \"Perpetrator_Sex\": \"Unknown\", \"State\": \"Nevada\", \"Record_ID\": 4, \"id\": 32}, {\"Month\": \"November\", \"Perpetrator_Sex\": \"Unknown\", \"State\": \"New Hampshire\", \"Record_ID\": 1, \"id\": 33}, {\"Month\": \"November\", \"Perpetrator_Sex\": \"Unknown\", \"State\": \"New Jersey\", \"Record_ID\": 11, \"id\": 34}, {\"Month\": \"November\", \"Perpetrator_Sex\": \"Unknown\", \"State\": \"New Mexico\", \"Record_ID\": 2, \"id\": 35}, {\"Month\": \"November\", \"Perpetrator_Sex\": \"Unknown\", \"State\": \"New York\", \"Record_ID\": 27, \"id\": 36}, {\"Month\": \"November\", \"Perpetrator_Sex\": \"Unknown\", \"State\": \"North Carolina\", \"Record_ID\": 12, \"id\": 37}, {\"Month\": \"November\", \"Perpetrator_Sex\": \"Unknown\", \"State\": \"North Dakota\", \"Record_ID\": 0, \"id\": 38}, {\"Month\": \"November\", \"Perpetrator_Sex\": \"Unknown\", \"State\": \"Ohio\", \"Record_ID\": 10, \"id\": 39}, {\"Month\": \"November\", \"Perpetrator_Sex\": \"Unknown\", \"State\": \"Oklahoma\", \"Record_ID\": 3, \"id\": 40}, {\"Month\": \"November\", \"Perpetrator_Sex\": \"Unknown\", \"State\": \"Oregon\", \"Record_ID\": 0, \"id\": 41}, {\"Month\": \"November\", \"Perpetrator_Sex\": \"Unknown\", \"State\": \"Pennsylvania\", \"Record_ID\": 15, \"id\": 42}, {\"Month\": \"November\", \"Perpetrator_Sex\": \"Unknown\", \"State\": \"Rhodes Island\", \"Record_ID\": 0, \"id\": \"Rhodes Island\"}, {\"Month\": \"November\", \"Perpetrator_Sex\": \"Unknown\", \"State\": \"South Carolina\", \"Record_ID\": 1, \"id\": 45}, {\"Month\": \"November\", \"Perpetrator_Sex\": \"Unknown\", \"State\": \"South Dakota\", \"Record_ID\": 0, \"id\": 46}, {\"Month\": \"November\", \"Perpetrator_Sex\": \"Unknown\", \"State\": \"Tennessee\", \"Record_ID\": 9, \"id\": 47}, {\"Month\": \"November\", \"Perpetrator_Sex\": \"Unknown\", \"State\": \"Texas\", \"Record_ID\": 16, \"id\": 48}, {\"Month\": \"November\", \"Perpetrator_Sex\": \"Unknown\", \"State\": \"Utah\", \"Record_ID\": 1, \"id\": 49}, {\"Month\": \"November\", \"Perpetrator_Sex\": \"Unknown\", \"State\": \"Vermont\", \"Record_ID\": 0, \"id\": 50}, {\"Month\": \"November\", \"Perpetrator_Sex\": \"Unknown\", \"State\": \"Virginia\", \"Record_ID\": 5, \"id\": 51}, {\"Month\": \"November\", \"Perpetrator_Sex\": \"Unknown\", \"State\": \"Washington\", \"Record_ID\": 5, \"id\": 53}, {\"Month\": \"November\", \"Perpetrator_Sex\": \"Unknown\", \"State\": \"West Virginia\", \"Record_ID\": 0, \"id\": 54}, {\"Month\": \"November\", \"Perpetrator_Sex\": \"Unknown\", \"State\": \"Wisconsin\", \"Record_ID\": 1, \"id\": 55}, {\"Month\": \"November\", \"Perpetrator_Sex\": \"Unknown\", \"State\": \"Wyoming\", \"Record_ID\": 0, \"id\": 56}, {\"Month\": \"December\", \"Perpetrator_Sex\": \"Female\", \"State\": \"Alabama\", \"Record_ID\": 3, \"id\": 1}, {\"Month\": \"December\", \"Perpetrator_Sex\": \"Female\", \"State\": \"Alaska\", \"Record_ID\": 1, \"id\": 2}, {\"Month\": \"December\", \"Perpetrator_Sex\": \"Female\", \"State\": \"Arizona\", \"Record_ID\": 2, \"id\": 4}, {\"Month\": \"December\", \"Perpetrator_Sex\": \"Female\", \"State\": \"Arkansas\", \"Record_ID\": 1, \"id\": 5}, {\"Month\": \"December\", \"Perpetrator_Sex\": \"Female\", \"State\": \"California\", \"Record_ID\": 12, \"id\": 6}, {\"Month\": \"December\", \"Perpetrator_Sex\": \"Female\", \"State\": \"Colorado\", \"Record_ID\": 0, \"id\": 8}, {\"Month\": \"December\", \"Perpetrator_Sex\": \"Female\", \"State\": \"Connecticut\", \"Record_ID\": 0, \"id\": 9}, {\"Month\": \"December\", \"Perpetrator_Sex\": \"Female\", \"State\": \"Delaware\", \"Record_ID\": 1, \"id\": 10}, {\"Month\": \"December\", \"Perpetrator_Sex\": \"Female\", \"State\": \"District of Columbia\", \"Record_ID\": 0, \"id\": 11}, {\"Month\": \"December\", \"Perpetrator_Sex\": \"Female\", \"State\": \"Florida\", \"Record_ID\": 2, \"id\": 12}, {\"Month\": \"December\", \"Perpetrator_Sex\": \"Female\", \"State\": \"Georgia\", \"Record_ID\": 5, \"id\": 13}, {\"Month\": \"December\", \"Perpetrator_Sex\": \"Female\", \"State\": \"Hawaii\", \"Record_ID\": 0, \"id\": 15}, {\"Month\": \"December\", \"Perpetrator_Sex\": \"Female\", \"State\": \"Idaho\", \"Record_ID\": 0, \"id\": 16}, {\"Month\": \"December\", \"Perpetrator_Sex\": \"Female\", \"State\": \"Illinois\", \"Record_ID\": 1, \"id\": 17}, {\"Month\": \"December\", \"Perpetrator_Sex\": \"Female\", \"State\": \"Indiana\", \"Record_ID\": 5, \"id\": 18}, {\"Month\": \"December\", \"Perpetrator_Sex\": \"Female\", \"State\": \"Iowa\", \"Record_ID\": 0, \"id\": 19}, {\"Month\": \"December\", \"Perpetrator_Sex\": \"Female\", \"State\": \"Kansas\", \"Record_ID\": 1, \"id\": 20}, {\"Month\": \"December\", \"Perpetrator_Sex\": \"Female\", \"State\": \"Kentucky\", \"Record_ID\": 1, \"id\": 21}, {\"Month\": \"December\", \"Perpetrator_Sex\": \"Female\", \"State\": \"Louisiana\", \"Record_ID\": 0, \"id\": 22}, {\"Month\": \"December\", \"Perpetrator_Sex\": \"Female\", \"State\": \"Maine\", \"Record_ID\": 0, \"id\": 23}, {\"Month\": \"December\", \"Perpetrator_Sex\": \"Female\", \"State\": \"Maryland\", \"Record_ID\": 1, \"id\": 24}, {\"Month\": \"December\", \"Perpetrator_Sex\": \"Female\", \"State\": \"Massachusetts\", \"Record_ID\": 1, \"id\": 25}, {\"Month\": \"December\", \"Perpetrator_Sex\": \"Female\", \"State\": \"Michigan\", \"Record_ID\": 3, \"id\": 26}, {\"Month\": \"December\", \"Perpetrator_Sex\": \"Female\", \"State\": \"Minnesota\", \"Record_ID\": 0, \"id\": 27}, {\"Month\": \"December\", \"Perpetrator_Sex\": \"Female\", \"State\": \"Mississippi\", \"Record_ID\": 0, \"id\": 28}, {\"Month\": \"December\", \"Perpetrator_Sex\": \"Female\", \"State\": \"Missouri\", \"Record_ID\": 0, \"id\": 29}, {\"Month\": \"December\", \"Perpetrator_Sex\": \"Female\", \"State\": \"Montana\", \"Record_ID\": 0, \"id\": 30}, {\"Month\": \"December\", \"Perpetrator_Sex\": \"Female\", \"State\": \"Nebraska\", \"Record_ID\": 1, \"id\": 31}, {\"Month\": \"December\", \"Perpetrator_Sex\": \"Female\", \"State\": \"Nevada\", \"Record_ID\": 1, \"id\": 32}, {\"Month\": \"December\", \"Perpetrator_Sex\": \"Female\", \"State\": \"New Hampshire\", \"Record_ID\": 1, \"id\": 33}, {\"Month\": \"December\", \"Perpetrator_Sex\": \"Female\", \"State\": \"New Jersey\", \"Record_ID\": 1, \"id\": 34}, {\"Month\": \"December\", \"Perpetrator_Sex\": \"Female\", \"State\": \"New Mexico\", \"Record_ID\": 0, \"id\": 35}, {\"Month\": \"December\", \"Perpetrator_Sex\": \"Female\", \"State\": \"New York\", \"Record_ID\": 1, \"id\": 36}, {\"Month\": \"December\", \"Perpetrator_Sex\": \"Female\", \"State\": \"North Carolina\", \"Record_ID\": 1, \"id\": 37}, {\"Month\": \"December\", \"Perpetrator_Sex\": \"Female\", \"State\": \"North Dakota\", \"Record_ID\": 0, \"id\": 38}, {\"Month\": \"December\", \"Perpetrator_Sex\": \"Female\", \"State\": \"Ohio\", \"Record_ID\": 0, \"id\": 39}, {\"Month\": \"December\", \"Perpetrator_Sex\": \"Female\", \"State\": \"Oklahoma\", \"Record_ID\": 0, \"id\": 40}, {\"Month\": \"December\", \"Perpetrator_Sex\": \"Female\", \"State\": \"Oregon\", \"Record_ID\": 3, \"id\": 41}, {\"Month\": \"December\", \"Perpetrator_Sex\": \"Female\", \"State\": \"Pennsylvania\", \"Record_ID\": 2, \"id\": 42}, {\"Month\": \"December\", \"Perpetrator_Sex\": \"Female\", \"State\": \"Rhodes Island\", \"Record_ID\": 0, \"id\": \"Rhodes Island\"}, {\"Month\": \"December\", \"Perpetrator_Sex\": \"Female\", \"State\": \"South Carolina\", \"Record_ID\": 1, \"id\": 45}, {\"Month\": \"December\", \"Perpetrator_Sex\": \"Female\", \"State\": \"South Dakota\", \"Record_ID\": 0, \"id\": 46}, {\"Month\": \"December\", \"Perpetrator_Sex\": \"Female\", \"State\": \"Tennessee\", \"Record_ID\": 3, \"id\": 47}, {\"Month\": \"December\", \"Perpetrator_Sex\": \"Female\", \"State\": \"Texas\", \"Record_ID\": 6, \"id\": 48}, {\"Month\": \"December\", \"Perpetrator_Sex\": \"Female\", \"State\": \"Utah\", \"Record_ID\": 1, \"id\": 49}, {\"Month\": \"December\", \"Perpetrator_Sex\": \"Female\", \"State\": \"Vermont\", \"Record_ID\": 0, \"id\": 50}, {\"Month\": \"December\", \"Perpetrator_Sex\": \"Female\", \"State\": \"Virginia\", \"Record_ID\": 0, \"id\": 51}, {\"Month\": \"December\", \"Perpetrator_Sex\": \"Female\", \"State\": \"Washington\", \"Record_ID\": 2, \"id\": 53}, {\"Month\": \"December\", \"Perpetrator_Sex\": \"Female\", \"State\": \"West Virginia\", \"Record_ID\": 0, \"id\": 54}, {\"Month\": \"December\", \"Perpetrator_Sex\": \"Female\", \"State\": \"Wisconsin\", \"Record_ID\": 0, \"id\": 55}, {\"Month\": \"December\", \"Perpetrator_Sex\": \"Female\", \"State\": \"Wyoming\", \"Record_ID\": 0, \"id\": 56}, {\"Month\": \"December\", \"Perpetrator_Sex\": \"Male\", \"State\": \"Alabama\", \"Record_ID\": 6, \"id\": 1}, {\"Month\": \"December\", \"Perpetrator_Sex\": \"Male\", \"State\": \"Alaska\", \"Record_ID\": 1, \"id\": 2}, {\"Month\": \"December\", \"Perpetrator_Sex\": \"Male\", \"State\": \"Arizona\", \"Record_ID\": 27, \"id\": 4}, {\"Month\": \"December\", \"Perpetrator_Sex\": \"Male\", \"State\": \"Arkansas\", \"Record_ID\": 8, \"id\": 5}, {\"Month\": \"December\", \"Perpetrator_Sex\": \"Male\", \"State\": \"California\", \"Record_ID\": 70, \"id\": 6}, {\"Month\": \"December\", \"Perpetrator_Sex\": \"Male\", \"State\": \"Colorado\", \"Record_ID\": 6, \"id\": 8}, {\"Month\": \"December\", \"Perpetrator_Sex\": \"Male\", \"State\": \"Connecticut\", \"Record_ID\": 4, \"id\": 9}, {\"Month\": \"December\", \"Perpetrator_Sex\": \"Male\", \"State\": \"Delaware\", \"Record_ID\": 3, \"id\": 10}, {\"Month\": \"December\", \"Perpetrator_Sex\": \"Male\", \"State\": \"District of Columbia\", \"Record_ID\": 1, \"id\": 11}, {\"Month\": \"December\", \"Perpetrator_Sex\": \"Male\", \"State\": \"Florida\", \"Record_ID\": 52, \"id\": 12}, {\"Month\": \"December\", \"Perpetrator_Sex\": \"Male\", \"State\": \"Georgia\", \"Record_ID\": 20, \"id\": 13}, {\"Month\": \"December\", \"Perpetrator_Sex\": \"Male\", \"State\": \"Hawaii\", \"Record_ID\": 2, \"id\": 15}, {\"Month\": \"December\", \"Perpetrator_Sex\": \"Male\", \"State\": \"Idaho\", \"Record_ID\": 1, \"id\": 16}, {\"Month\": \"December\", \"Perpetrator_Sex\": \"Male\", \"State\": \"Illinois\", \"Record_ID\": 3, \"id\": 17}, {\"Month\": \"December\", \"Perpetrator_Sex\": \"Male\", \"State\": \"Indiana\", \"Record_ID\": 17, \"id\": 18}, {\"Month\": \"December\", \"Perpetrator_Sex\": \"Male\", \"State\": \"Iowa\", \"Record_ID\": 2, \"id\": 19}, {\"Month\": \"December\", \"Perpetrator_Sex\": \"Male\", \"State\": \"Kansas\", \"Record_ID\": 4, \"id\": 20}, {\"Month\": \"December\", \"Perpetrator_Sex\": \"Male\", \"State\": \"Kentucky\", \"Record_ID\": 11, \"id\": 21}, {\"Month\": \"December\", \"Perpetrator_Sex\": \"Male\", \"State\": \"Louisiana\", \"Record_ID\": 18, \"id\": 22}, {\"Month\": \"December\", \"Perpetrator_Sex\": \"Male\", \"State\": \"Maine\", \"Record_ID\": 2, \"id\": 23}, {\"Month\": \"December\", \"Perpetrator_Sex\": \"Male\", \"State\": \"Maryland\", \"Record_ID\": 23, \"id\": 24}, {\"Month\": \"December\", \"Perpetrator_Sex\": \"Male\", \"State\": \"Massachusetts\", \"Record_ID\": 7, \"id\": 25}, {\"Month\": \"December\", \"Perpetrator_Sex\": \"Male\", \"State\": \"Michigan\", \"Record_ID\": 27, \"id\": 26}, {\"Month\": \"December\", \"Perpetrator_Sex\": \"Male\", \"State\": \"Minnesota\", \"Record_ID\": 3, \"id\": 27}, {\"Month\": \"December\", \"Perpetrator_Sex\": \"Male\", \"State\": \"Mississippi\", \"Record_ID\": 12, \"id\": 28}, {\"Month\": \"December\", \"Perpetrator_Sex\": \"Male\", \"State\": \"Missouri\", \"Record_ID\": 30, \"id\": 29}, {\"Month\": \"December\", \"Perpetrator_Sex\": \"Male\", \"State\": \"Montana\", \"Record_ID\": 5, \"id\": 30}, {\"Month\": \"December\", \"Perpetrator_Sex\": \"Male\", \"State\": \"Nebraska\", \"Record_ID\": 2, \"id\": 31}, {\"Month\": \"December\", \"Perpetrator_Sex\": \"Male\", \"State\": \"Nevada\", \"Record_ID\": 6, \"id\": 32}, {\"Month\": \"December\", \"Perpetrator_Sex\": \"Male\", \"State\": \"New Hampshire\", \"Record_ID\": 0, \"id\": 33}, {\"Month\": \"December\", \"Perpetrator_Sex\": \"Male\", \"State\": \"New Jersey\", \"Record_ID\": 9, \"id\": 34}, {\"Month\": \"December\", \"Perpetrator_Sex\": \"Male\", \"State\": \"New Mexico\", \"Record_ID\": 4, \"id\": 35}, {\"Month\": \"December\", \"Perpetrator_Sex\": \"Male\", \"State\": \"New York\", \"Record_ID\": 32, \"id\": 36}, {\"Month\": \"December\", \"Perpetrator_Sex\": \"Male\", \"State\": \"North Carolina\", \"Record_ID\": 26, \"id\": 37}, {\"Month\": \"December\", \"Perpetrator_Sex\": \"Male\", \"State\": \"North Dakota\", \"Record_ID\": 1, \"id\": 38}, {\"Month\": \"December\", \"Perpetrator_Sex\": \"Male\", \"State\": \"Ohio\", \"Record_ID\": 21, \"id\": 39}, {\"Month\": \"December\", \"Perpetrator_Sex\": \"Male\", \"State\": \"Oklahoma\", \"Record_ID\": 16, \"id\": 40}, {\"Month\": \"December\", \"Perpetrator_Sex\": \"Male\", \"State\": \"Oregon\", \"Record_ID\": 7, \"id\": 41}, {\"Month\": \"December\", \"Perpetrator_Sex\": \"Male\", \"State\": \"Pennsylvania\", \"Record_ID\": 39, \"id\": 42}, {\"Month\": \"December\", \"Perpetrator_Sex\": \"Male\", \"State\": \"Rhodes Island\", \"Record_ID\": 3, \"id\": \"Rhodes Island\"}, {\"Month\": \"December\", \"Perpetrator_Sex\": \"Male\", \"State\": \"South Carolina\", \"Record_ID\": 21, \"id\": 45}, {\"Month\": \"December\", \"Perpetrator_Sex\": \"Male\", \"State\": \"South Dakota\", \"Record_ID\": 1, \"id\": 46}, {\"Month\": \"December\", \"Perpetrator_Sex\": \"Male\", \"State\": \"Tennessee\", \"Record_ID\": 20, \"id\": 47}, {\"Month\": \"December\", \"Perpetrator_Sex\": \"Male\", \"State\": \"Texas\", \"Record_ID\": 80, \"id\": 48}, {\"Month\": \"December\", \"Perpetrator_Sex\": \"Male\", \"State\": \"Utah\", \"Record_ID\": 6, \"id\": 49}, {\"Month\": \"December\", \"Perpetrator_Sex\": \"Male\", \"State\": \"Vermont\", \"Record_ID\": 0, \"id\": 50}, {\"Month\": \"December\", \"Perpetrator_Sex\": \"Male\", \"State\": \"Virginia\", \"Record_ID\": 15, \"id\": 51}, {\"Month\": \"December\", \"Perpetrator_Sex\": \"Male\", \"State\": \"Washington\", \"Record_ID\": 8, \"id\": 53}, {\"Month\": \"December\", \"Perpetrator_Sex\": \"Male\", \"State\": \"West Virginia\", \"Record_ID\": 4, \"id\": 54}, {\"Month\": \"December\", \"Perpetrator_Sex\": \"Male\", \"State\": \"Wisconsin\", \"Record_ID\": 14, \"id\": 55}, {\"Month\": \"December\", \"Perpetrator_Sex\": \"Male\", \"State\": \"Wyoming\", \"Record_ID\": 0, \"id\": 56}, {\"Month\": \"December\", \"Perpetrator_Sex\": \"Unknown\", \"State\": \"Alabama\", \"Record_ID\": 1, \"id\": 1}, {\"Month\": \"December\", \"Perpetrator_Sex\": \"Unknown\", \"State\": \"Alaska\", \"Record_ID\": 1, \"id\": 2}, {\"Month\": \"December\", \"Perpetrator_Sex\": \"Unknown\", \"State\": \"Arizona\", \"Record_ID\": 8, \"id\": 4}, {\"Month\": \"December\", \"Perpetrator_Sex\": \"Unknown\", \"State\": \"Arkansas\", \"Record_ID\": 4, \"id\": 5}, {\"Month\": \"December\", \"Perpetrator_Sex\": \"Unknown\", \"State\": \"California\", \"Record_ID\": 90, \"id\": 6}, {\"Month\": \"December\", \"Perpetrator_Sex\": \"Unknown\", \"State\": \"Colorado\", \"Record_ID\": 1, \"id\": 8}, {\"Month\": \"December\", \"Perpetrator_Sex\": \"Unknown\", \"State\": \"Connecticut\", \"Record_ID\": 3, \"id\": 9}, {\"Month\": \"December\", \"Perpetrator_Sex\": \"Unknown\", \"State\": \"Delaware\", \"Record_ID\": 1, \"id\": 10}, {\"Month\": \"December\", \"Perpetrator_Sex\": \"Unknown\", \"State\": \"District of Columbia\", \"Record_ID\": 7, \"id\": 11}, {\"Month\": \"December\", \"Perpetrator_Sex\": \"Unknown\", \"State\": \"Florida\", \"Record_ID\": 29, \"id\": 12}, {\"Month\": \"December\", \"Perpetrator_Sex\": \"Unknown\", \"State\": \"Georgia\", \"Record_ID\": 13, \"id\": 13}, {\"Month\": \"December\", \"Perpetrator_Sex\": \"Unknown\", \"State\": \"Hawaii\", \"Record_ID\": 0, \"id\": 15}, {\"Month\": \"December\", \"Perpetrator_Sex\": \"Unknown\", \"State\": \"Idaho\", \"Record_ID\": 0, \"id\": 16}, {\"Month\": \"December\", \"Perpetrator_Sex\": \"Unknown\", \"State\": \"Illinois\", \"Record_ID\": 21, \"id\": 17}, {\"Month\": \"December\", \"Perpetrator_Sex\": \"Unknown\", \"State\": \"Indiana\", \"Record_ID\": 12, \"id\": 18}, {\"Month\": \"December\", \"Perpetrator_Sex\": \"Unknown\", \"State\": \"Iowa\", \"Record_ID\": 0, \"id\": 19}, {\"Month\": \"December\", \"Perpetrator_Sex\": \"Unknown\", \"State\": \"Kansas\", \"Record_ID\": 0, \"id\": 20}, {\"Month\": \"December\", \"Perpetrator_Sex\": \"Unknown\", \"State\": \"Kentucky\", \"Record_ID\": 6, \"id\": 21}, {\"Month\": \"December\", \"Perpetrator_Sex\": \"Unknown\", \"State\": \"Louisiana\", \"Record_ID\": 20, \"id\": 22}, {\"Month\": \"December\", \"Perpetrator_Sex\": \"Unknown\", \"State\": \"Maine\", \"Record_ID\": 0, \"id\": 23}, {\"Month\": \"December\", \"Perpetrator_Sex\": \"Unknown\", \"State\": \"Maryland\", \"Record_ID\": 12, \"id\": 24}, {\"Month\": \"December\", \"Perpetrator_Sex\": \"Unknown\", \"State\": \"Massachusetts\", \"Record_ID\": 4, \"id\": 25}, {\"Month\": \"December\", \"Perpetrator_Sex\": \"Unknown\", \"State\": \"Michigan\", \"Record_ID\": 21, \"id\": 26}, {\"Month\": \"December\", \"Perpetrator_Sex\": \"Unknown\", \"State\": \"Minnesota\", \"Record_ID\": 0, \"id\": 27}, {\"Month\": \"December\", \"Perpetrator_Sex\": \"Unknown\", \"State\": \"Mississippi\", \"Record_ID\": 1, \"id\": 28}, {\"Month\": \"December\", \"Perpetrator_Sex\": \"Unknown\", \"State\": \"Missouri\", \"Record_ID\": 11, \"id\": 29}, {\"Month\": \"December\", \"Perpetrator_Sex\": \"Unknown\", \"State\": \"Montana\", \"Record_ID\": 0, \"id\": 30}, {\"Month\": \"December\", \"Perpetrator_Sex\": \"Unknown\", \"State\": \"Nebraska\", \"Record_ID\": 2, \"id\": 31}, {\"Month\": \"December\", \"Perpetrator_Sex\": \"Unknown\", \"State\": \"Nevada\", \"Record_ID\": 4, \"id\": 32}, {\"Month\": \"December\", \"Perpetrator_Sex\": \"Unknown\", \"State\": \"New Hampshire\", \"Record_ID\": 0, \"id\": 33}, {\"Month\": \"December\", \"Perpetrator_Sex\": \"Unknown\", \"State\": \"New Jersey\", \"Record_ID\": 19, \"id\": 34}, {\"Month\": \"December\", \"Perpetrator_Sex\": \"Unknown\", \"State\": \"New Mexico\", \"Record_ID\": 1, \"id\": 35}, {\"Month\": \"December\", \"Perpetrator_Sex\": \"Unknown\", \"State\": \"New York\", \"Record_ID\": 29, \"id\": 36}, {\"Month\": \"December\", \"Perpetrator_Sex\": \"Unknown\", \"State\": \"North Carolina\", \"Record_ID\": 6, \"id\": 37}, {\"Month\": \"December\", \"Perpetrator_Sex\": \"Unknown\", \"State\": \"North Dakota\", \"Record_ID\": 0, \"id\": 38}, {\"Month\": \"December\", \"Perpetrator_Sex\": \"Unknown\", \"State\": \"Ohio\", \"Record_ID\": 13, \"id\": 39}, {\"Month\": \"December\", \"Perpetrator_Sex\": \"Unknown\", \"State\": \"Oklahoma\", \"Record_ID\": 4, \"id\": 40}, {\"Month\": \"December\", \"Perpetrator_Sex\": \"Unknown\", \"State\": \"Oregon\", \"Record_ID\": 1, \"id\": 41}, {\"Month\": \"December\", \"Perpetrator_Sex\": \"Unknown\", \"State\": \"Pennsylvania\", \"Record_ID\": 14, \"id\": 42}, {\"Month\": \"December\", \"Perpetrator_Sex\": \"Unknown\", \"State\": \"Rhodes Island\", \"Record_ID\": 2, \"id\": \"Rhodes Island\"}, {\"Month\": \"December\", \"Perpetrator_Sex\": \"Unknown\", \"State\": \"South Carolina\", \"Record_ID\": 2, \"id\": 45}, {\"Month\": \"December\", \"Perpetrator_Sex\": \"Unknown\", \"State\": \"South Dakota\", \"Record_ID\": 0, \"id\": 46}, {\"Month\": \"December\", \"Perpetrator_Sex\": \"Unknown\", \"State\": \"Tennessee\", \"Record_ID\": 3, \"id\": 47}, {\"Month\": \"December\", \"Perpetrator_Sex\": \"Unknown\", \"State\": \"Texas\", \"Record_ID\": 14, \"id\": 48}, {\"Month\": \"December\", \"Perpetrator_Sex\": \"Unknown\", \"State\": \"Utah\", \"Record_ID\": 0, \"id\": 49}, {\"Month\": \"December\", \"Perpetrator_Sex\": \"Unknown\", \"State\": \"Vermont\", \"Record_ID\": 0, \"id\": 50}, {\"Month\": \"December\", \"Perpetrator_Sex\": \"Unknown\", \"State\": \"Virginia\", \"Record_ID\": 6, \"id\": 51}, {\"Month\": \"December\", \"Perpetrator_Sex\": \"Unknown\", \"State\": \"Washington\", \"Record_ID\": 0, \"id\": 53}, {\"Month\": \"December\", \"Perpetrator_Sex\": \"Unknown\", \"State\": \"West Virginia\", \"Record_ID\": 1, \"id\": 54}, {\"Month\": \"December\", \"Perpetrator_Sex\": \"Unknown\", \"State\": \"Wisconsin\", \"Record_ID\": 1, \"id\": 55}, {\"Month\": \"December\", \"Perpetrator_Sex\": \"Unknown\", \"State\": \"Wyoming\", \"Record_ID\": 0, \"id\": 56}], \"data-c2048d2412cd785201e9c2edfe522c2b\": [{\"Perpetrator_Sex\": \"Female\", \"State\": \"Alaska\", \"Perpetrator_Race\": \"Asian/Pacific Islander\", \"Record_ID\": 1, \"Agency_Code\": 1, \"Agency_Name\": 1, \"Agency_Type\": 1, \"City\": 1, \"Year\": 1, \"Month\": 1, \"Incident\": 1, \"Crime_Type\": 1, \"Crime_Solved\": 1, \"Victim_Sex\": 1, \"Victim_Age\": 1, \"Victim_Race\": 1, \"Victim_Ethnicity\": 1, \"Perpetrator_Age\": 1, \"Perpetrator_Ethnicity\": 1, \"Relationship\": 1, \"Weapon\": 1, \"Victim_Count\": 1, \"Perpetrator_Count\": 1, \"Record_Source\": 1, \"State_Code\": 1, \"id\": 2}, {\"Perpetrator_Sex\": \"Female\", \"State\": \"California\", \"Perpetrator_Race\": \"Asian/Pacific Islander\", \"Record_ID\": 7, \"Agency_Code\": 7, \"Agency_Name\": 7, \"Agency_Type\": 7, \"City\": 7, \"Year\": 7, \"Month\": 7, \"Incident\": 7, \"Crime_Type\": 7, \"Crime_Solved\": 7, \"Victim_Sex\": 7, \"Victim_Age\": 7, \"Victim_Race\": 7, \"Victim_Ethnicity\": 7, \"Perpetrator_Age\": 7, \"Perpetrator_Ethnicity\": 7, \"Relationship\": 7, \"Weapon\": 7, \"Victim_Count\": 7, \"Perpetrator_Count\": 7, \"Record_Source\": 7, \"State_Code\": 7, \"id\": 6}, {\"Perpetrator_Sex\": \"Female\", \"State\": \"Florida\", \"Perpetrator_Race\": \"Asian/Pacific Islander\", \"Record_ID\": 1, \"Agency_Code\": 1, \"Agency_Name\": 1, \"Agency_Type\": 1, \"City\": 1, \"Year\": 1, \"Month\": 1, \"Incident\": 1, \"Crime_Type\": 1, \"Crime_Solved\": 1, \"Victim_Sex\": 1, \"Victim_Age\": 1, \"Victim_Race\": 1, \"Victim_Ethnicity\": 1, \"Perpetrator_Age\": 1, \"Perpetrator_Ethnicity\": 1, \"Relationship\": 1, \"Weapon\": 1, \"Victim_Count\": 1, \"Perpetrator_Count\": 1, \"Record_Source\": 1, \"State_Code\": 1, \"id\": 12}, {\"Perpetrator_Sex\": \"Female\", \"State\": \"Nevada\", \"Perpetrator_Race\": \"Asian/Pacific Islander\", \"Record_ID\": 1, \"Agency_Code\": 1, \"Agency_Name\": 1, \"Agency_Type\": 1, \"City\": 1, \"Year\": 1, \"Month\": 1, \"Incident\": 1, \"Crime_Type\": 1, \"Crime_Solved\": 1, \"Victim_Sex\": 1, \"Victim_Age\": 1, \"Victim_Race\": 1, \"Victim_Ethnicity\": 1, \"Perpetrator_Age\": 1, \"Perpetrator_Ethnicity\": 1, \"Relationship\": 1, \"Weapon\": 1, \"Victim_Count\": 1, \"Perpetrator_Count\": 1, \"Record_Source\": 1, \"State_Code\": 1, \"id\": 32}, {\"Perpetrator_Sex\": \"Female\", \"State\": \"New Mexico\", \"Perpetrator_Race\": \"Asian/Pacific Islander\", \"Record_ID\": 1, \"Agency_Code\": 1, \"Agency_Name\": 1, \"Agency_Type\": 1, \"City\": 1, \"Year\": 1, \"Month\": 1, \"Incident\": 1, \"Crime_Type\": 1, \"Crime_Solved\": 1, \"Victim_Sex\": 1, \"Victim_Age\": 1, \"Victim_Race\": 1, \"Victim_Ethnicity\": 1, \"Perpetrator_Age\": 1, \"Perpetrator_Ethnicity\": 1, \"Relationship\": 1, \"Weapon\": 1, \"Victim_Count\": 1, \"Perpetrator_Count\": 1, \"Record_Source\": 1, \"State_Code\": 1, \"id\": 35}, {\"Perpetrator_Sex\": \"Female\", \"State\": \"New York\", \"Perpetrator_Race\": \"Asian/Pacific Islander\", \"Record_ID\": 1, \"Agency_Code\": 1, \"Agency_Name\": 1, \"Agency_Type\": 1, \"City\": 1, \"Year\": 1, \"Month\": 1, \"Incident\": 1, \"Crime_Type\": 1, \"Crime_Solved\": 1, \"Victim_Sex\": 1, \"Victim_Age\": 1, \"Victim_Race\": 1, \"Victim_Ethnicity\": 1, \"Perpetrator_Age\": 1, \"Perpetrator_Ethnicity\": 1, \"Relationship\": 1, \"Weapon\": 1, \"Victim_Count\": 1, \"Perpetrator_Count\": 1, \"Record_Source\": 1, \"State_Code\": 1, \"id\": 36}, {\"Perpetrator_Sex\": \"Female\", \"State\": \"Texas\", \"Perpetrator_Race\": \"Asian/Pacific Islander\", \"Record_ID\": 1, \"Agency_Code\": 1, \"Agency_Name\": 1, \"Agency_Type\": 1, \"City\": 1, \"Year\": 1, \"Month\": 1, \"Incident\": 1, \"Crime_Type\": 1, \"Crime_Solved\": 1, \"Victim_Sex\": 1, \"Victim_Age\": 1, \"Victim_Race\": 1, \"Victim_Ethnicity\": 1, \"Perpetrator_Age\": 1, \"Perpetrator_Ethnicity\": 1, \"Relationship\": 1, \"Weapon\": 1, \"Victim_Count\": 1, \"Perpetrator_Count\": 1, \"Record_Source\": 1, \"State_Code\": 1, \"id\": 48}, {\"Perpetrator_Sex\": \"Female\", \"State\": \"Utah\", \"Perpetrator_Race\": \"Asian/Pacific Islander\", \"Record_ID\": 2, \"Agency_Code\": 2, \"Agency_Name\": 2, \"Agency_Type\": 2, \"City\": 2, \"Year\": 2, \"Month\": 2, \"Incident\": 2, \"Crime_Type\": 2, \"Crime_Solved\": 2, \"Victim_Sex\": 2, \"Victim_Age\": 2, \"Victim_Race\": 2, \"Victim_Ethnicity\": 2, \"Perpetrator_Age\": 2, \"Perpetrator_Ethnicity\": 2, \"Relationship\": 2, \"Weapon\": 2, \"Victim_Count\": 2, \"Perpetrator_Count\": 2, \"Record_Source\": 2, \"State_Code\": 2, \"id\": 49}, {\"Perpetrator_Sex\": \"Female\", \"State\": \"Virginia\", \"Perpetrator_Race\": \"Asian/Pacific Islander\", \"Record_ID\": 2, \"Agency_Code\": 2, \"Agency_Name\": 2, \"Agency_Type\": 2, \"City\": 2, \"Year\": 2, \"Month\": 2, \"Incident\": 2, \"Crime_Type\": 2, \"Crime_Solved\": 2, \"Victim_Sex\": 2, \"Victim_Age\": 2, \"Victim_Race\": 2, \"Victim_Ethnicity\": 2, \"Perpetrator_Age\": 2, \"Perpetrator_Ethnicity\": 2, \"Relationship\": 2, \"Weapon\": 2, \"Victim_Count\": 2, \"Perpetrator_Count\": 2, \"Record_Source\": 2, \"State_Code\": 2, \"id\": 51}, {\"Perpetrator_Sex\": \"Female\", \"State\": \"Washington\", \"Perpetrator_Race\": \"Asian/Pacific Islander\", \"Record_ID\": 4, \"Agency_Code\": 4, \"Agency_Name\": 4, \"Agency_Type\": 4, \"City\": 4, \"Year\": 4, \"Month\": 4, \"Incident\": 4, \"Crime_Type\": 4, \"Crime_Solved\": 4, \"Victim_Sex\": 4, \"Victim_Age\": 4, \"Victim_Race\": 4, \"Victim_Ethnicity\": 4, \"Perpetrator_Age\": 4, \"Perpetrator_Ethnicity\": 4, \"Relationship\": 4, \"Weapon\": 4, \"Victim_Count\": 4, \"Perpetrator_Count\": 4, \"Record_Source\": 4, \"State_Code\": 4, \"id\": 53}, {\"Perpetrator_Sex\": \"Male\", \"State\": \"Alaska\", \"Perpetrator_Race\": \"Asian/Pacific Islander\", \"Record_ID\": 5, \"Agency_Code\": 5, \"Agency_Name\": 5, \"Agency_Type\": 5, \"City\": 5, \"Year\": 5, \"Month\": 5, \"Incident\": 5, \"Crime_Type\": 5, \"Crime_Solved\": 5, \"Victim_Sex\": 5, \"Victim_Age\": 5, \"Victim_Race\": 5, \"Victim_Ethnicity\": 5, \"Perpetrator_Age\": 5, \"Perpetrator_Ethnicity\": 5, \"Relationship\": 5, \"Weapon\": 5, \"Victim_Count\": 5, \"Perpetrator_Count\": 5, \"Record_Source\": 5, \"State_Code\": 5, \"id\": 2}, {\"Perpetrator_Sex\": \"Male\", \"State\": \"Arizona\", \"Perpetrator_Race\": \"Asian/Pacific Islander\", \"Record_ID\": 6, \"Agency_Code\": 6, \"Agency_Name\": 6, \"Agency_Type\": 6, \"City\": 6, \"Year\": 6, \"Month\": 6, \"Incident\": 6, \"Crime_Type\": 6, \"Crime_Solved\": 6, \"Victim_Sex\": 6, \"Victim_Age\": 6, \"Victim_Race\": 6, \"Victim_Ethnicity\": 6, \"Perpetrator_Age\": 6, \"Perpetrator_Ethnicity\": 6, \"Relationship\": 6, \"Weapon\": 6, \"Victim_Count\": 6, \"Perpetrator_Count\": 6, \"Record_Source\": 6, \"State_Code\": 6, \"id\": 4}, {\"Perpetrator_Sex\": \"Male\", \"State\": \"California\", \"Perpetrator_Race\": \"Asian/Pacific Islander\", \"Record_ID\": 56, \"Agency_Code\": 56, \"Agency_Name\": 56, \"Agency_Type\": 56, \"City\": 56, \"Year\": 56, \"Month\": 56, \"Incident\": 56, \"Crime_Type\": 56, \"Crime_Solved\": 56, \"Victim_Sex\": 56, \"Victim_Age\": 56, \"Victim_Race\": 56, \"Victim_Ethnicity\": 56, \"Perpetrator_Age\": 56, \"Perpetrator_Ethnicity\": 56, \"Relationship\": 56, \"Weapon\": 56, \"Victim_Count\": 56, \"Perpetrator_Count\": 56, \"Record_Source\": 56, \"State_Code\": 56, \"id\": 6}, {\"Perpetrator_Sex\": \"Male\", \"State\": \"Connecticut\", \"Perpetrator_Race\": \"Asian/Pacific Islander\", \"Record_ID\": 1, \"Agency_Code\": 1, \"Agency_Name\": 1, \"Agency_Type\": 1, \"City\": 1, \"Year\": 1, \"Month\": 1, \"Incident\": 1, \"Crime_Type\": 1, \"Crime_Solved\": 1, \"Victim_Sex\": 1, \"Victim_Age\": 1, \"Victim_Race\": 1, \"Victim_Ethnicity\": 1, \"Perpetrator_Age\": 1, \"Perpetrator_Ethnicity\": 1, \"Relationship\": 1, \"Weapon\": 1, \"Victim_Count\": 1, \"Perpetrator_Count\": 1, \"Record_Source\": 1, \"State_Code\": 1, \"id\": 9}, {\"Perpetrator_Sex\": \"Male\", \"State\": \"Florida\", \"Perpetrator_Race\": \"Asian/Pacific Islander\", \"Record_ID\": 4, \"Agency_Code\": 4, \"Agency_Name\": 4, \"Agency_Type\": 4, \"City\": 4, \"Year\": 4, \"Month\": 4, \"Incident\": 4, \"Crime_Type\": 4, \"Crime_Solved\": 4, \"Victim_Sex\": 4, \"Victim_Age\": 4, \"Victim_Race\": 4, \"Victim_Ethnicity\": 4, \"Perpetrator_Age\": 4, \"Perpetrator_Ethnicity\": 4, \"Relationship\": 4, \"Weapon\": 4, \"Victim_Count\": 4, \"Perpetrator_Count\": 4, \"Record_Source\": 4, \"State_Code\": 4, \"id\": 12}, {\"Perpetrator_Sex\": \"Male\", \"State\": \"Georgia\", \"Perpetrator_Race\": \"Asian/Pacific Islander\", \"Record_ID\": 4, \"Agency_Code\": 4, \"Agency_Name\": 4, \"Agency_Type\": 4, \"City\": 4, \"Year\": 4, \"Month\": 4, \"Incident\": 4, \"Crime_Type\": 4, \"Crime_Solved\": 4, \"Victim_Sex\": 4, \"Victim_Age\": 4, \"Victim_Race\": 4, \"Victim_Ethnicity\": 4, \"Perpetrator_Age\": 4, \"Perpetrator_Ethnicity\": 4, \"Relationship\": 4, \"Weapon\": 4, \"Victim_Count\": 4, \"Perpetrator_Count\": 4, \"Record_Source\": 4, \"State_Code\": 4, \"id\": 13}, {\"Perpetrator_Sex\": \"Male\", \"State\": \"Hawaii\", \"Perpetrator_Race\": \"Asian/Pacific Islander\", \"Record_ID\": 1, \"Agency_Code\": 1, \"Agency_Name\": 1, \"Agency_Type\": 1, \"City\": 1, \"Year\": 1, \"Month\": 1, \"Incident\": 1, \"Crime_Type\": 1, \"Crime_Solved\": 1, \"Victim_Sex\": 1, \"Victim_Age\": 1, \"Victim_Race\": 1, \"Victim_Ethnicity\": 1, \"Perpetrator_Age\": 1, \"Perpetrator_Ethnicity\": 1, \"Relationship\": 1, \"Weapon\": 1, \"Victim_Count\": 1, \"Perpetrator_Count\": 1, \"Record_Source\": 1, \"State_Code\": 1, \"id\": 15}, {\"Perpetrator_Sex\": \"Male\", \"State\": \"Louisiana\", \"Perpetrator_Race\": \"Asian/Pacific Islander\", \"Record_ID\": 3, \"Agency_Code\": 3, \"Agency_Name\": 3, \"Agency_Type\": 3, \"City\": 3, \"Year\": 3, \"Month\": 3, \"Incident\": 3, \"Crime_Type\": 3, \"Crime_Solved\": 3, \"Victim_Sex\": 3, \"Victim_Age\": 3, \"Victim_Race\": 3, \"Victim_Ethnicity\": 3, \"Perpetrator_Age\": 3, \"Perpetrator_Ethnicity\": 3, \"Relationship\": 3, \"Weapon\": 3, \"Victim_Count\": 3, \"Perpetrator_Count\": 3, \"Record_Source\": 3, \"State_Code\": 3, \"id\": 22}, {\"Perpetrator_Sex\": \"Male\", \"State\": \"Massachusetts\", \"Perpetrator_Race\": \"Asian/Pacific Islander\", \"Record_ID\": 3, \"Agency_Code\": 3, \"Agency_Name\": 3, \"Agency_Type\": 3, \"City\": 3, \"Year\": 3, \"Month\": 3, \"Incident\": 3, \"Crime_Type\": 3, \"Crime_Solved\": 3, \"Victim_Sex\": 3, \"Victim_Age\": 3, \"Victim_Race\": 3, \"Victim_Ethnicity\": 3, \"Perpetrator_Age\": 3, \"Perpetrator_Ethnicity\": 3, \"Relationship\": 3, \"Weapon\": 3, \"Victim_Count\": 3, \"Perpetrator_Count\": 3, \"Record_Source\": 3, \"State_Code\": 3, \"id\": 25}, {\"Perpetrator_Sex\": \"Male\", \"State\": \"Minnesota\", \"Perpetrator_Race\": \"Asian/Pacific Islander\", \"Record_ID\": 2, \"Agency_Code\": 2, \"Agency_Name\": 2, \"Agency_Type\": 2, \"City\": 2, \"Year\": 2, \"Month\": 2, \"Incident\": 2, \"Crime_Type\": 2, \"Crime_Solved\": 2, \"Victim_Sex\": 2, \"Victim_Age\": 2, \"Victim_Race\": 2, \"Victim_Ethnicity\": 2, \"Perpetrator_Age\": 2, \"Perpetrator_Ethnicity\": 2, \"Relationship\": 2, \"Weapon\": 2, \"Victim_Count\": 2, \"Perpetrator_Count\": 2, \"Record_Source\": 2, \"State_Code\": 2, \"id\": 27}, {\"Perpetrator_Sex\": \"Male\", \"State\": \"Nevada\", \"Perpetrator_Race\": \"Asian/Pacific Islander\", \"Record_ID\": 4, \"Agency_Code\": 4, \"Agency_Name\": 4, \"Agency_Type\": 4, \"City\": 4, \"Year\": 4, \"Month\": 4, \"Incident\": 4, \"Crime_Type\": 4, \"Crime_Solved\": 4, \"Victim_Sex\": 4, \"Victim_Age\": 4, \"Victim_Race\": 4, \"Victim_Ethnicity\": 4, \"Perpetrator_Age\": 4, \"Perpetrator_Ethnicity\": 4, \"Relationship\": 4, \"Weapon\": 4, \"Victim_Count\": 4, \"Perpetrator_Count\": 4, \"Record_Source\": 4, \"State_Code\": 4, \"id\": 32}, {\"Perpetrator_Sex\": \"Male\", \"State\": \"New Jersey\", \"Perpetrator_Race\": \"Asian/Pacific Islander\", \"Record_ID\": 4, \"Agency_Code\": 4, \"Agency_Name\": 4, \"Agency_Type\": 4, \"City\": 4, \"Year\": 4, \"Month\": 4, \"Incident\": 4, \"Crime_Type\": 4, \"Crime_Solved\": 4, \"Victim_Sex\": 4, \"Victim_Age\": 4, \"Victim_Race\": 4, \"Victim_Ethnicity\": 4, \"Perpetrator_Age\": 4, \"Perpetrator_Ethnicity\": 4, \"Relationship\": 4, \"Weapon\": 4, \"Victim_Count\": 4, \"Perpetrator_Count\": 4, \"Record_Source\": 4, \"State_Code\": 4, \"id\": 34}, {\"Perpetrator_Sex\": \"Male\", \"State\": \"New York\", \"Perpetrator_Race\": \"Asian/Pacific Islander\", \"Record_ID\": 9, \"Agency_Code\": 9, \"Agency_Name\": 9, \"Agency_Type\": 9, \"City\": 9, \"Year\": 9, \"Month\": 9, \"Incident\": 9, \"Crime_Type\": 9, \"Crime_Solved\": 9, \"Victim_Sex\": 9, \"Victim_Age\": 9, \"Victim_Race\": 9, \"Victim_Ethnicity\": 9, \"Perpetrator_Age\": 9, \"Perpetrator_Ethnicity\": 9, \"Relationship\": 9, \"Weapon\": 9, \"Victim_Count\": 9, \"Perpetrator_Count\": 9, \"Record_Source\": 9, \"State_Code\": 9, \"id\": 36}, {\"Perpetrator_Sex\": \"Male\", \"State\": \"Oklahoma\", \"Perpetrator_Race\": \"Asian/Pacific Islander\", \"Record_ID\": 1, \"Agency_Code\": 1, \"Agency_Name\": 1, \"Agency_Type\": 1, \"City\": 1, \"Year\": 1, \"Month\": 1, \"Incident\": 1, \"Crime_Type\": 1, \"Crime_Solved\": 1, \"Victim_Sex\": 1, \"Victim_Age\": 1, \"Victim_Race\": 1, \"Victim_Ethnicity\": 1, \"Perpetrator_Age\": 1, \"Perpetrator_Ethnicity\": 1, \"Relationship\": 1, \"Weapon\": 1, \"Victim_Count\": 1, \"Perpetrator_Count\": 1, \"Record_Source\": 1, \"State_Code\": 1, \"id\": 40}, {\"Perpetrator_Sex\": \"Male\", \"State\": \"Oregon\", \"Perpetrator_Race\": \"Asian/Pacific Islander\", \"Record_ID\": 3, \"Agency_Code\": 3, \"Agency_Name\": 3, \"Agency_Type\": 3, \"City\": 3, \"Year\": 3, \"Month\": 3, \"Incident\": 3, \"Crime_Type\": 3, \"Crime_Solved\": 3, \"Victim_Sex\": 3, \"Victim_Age\": 3, \"Victim_Race\": 3, \"Victim_Ethnicity\": 3, \"Perpetrator_Age\": 3, \"Perpetrator_Ethnicity\": 3, \"Relationship\": 3, \"Weapon\": 3, \"Victim_Count\": 3, \"Perpetrator_Count\": 3, \"Record_Source\": 3, \"State_Code\": 3, \"id\": 41}, {\"Perpetrator_Sex\": \"Male\", \"State\": \"Pennsylvania\", \"Perpetrator_Race\": \"Asian/Pacific Islander\", \"Record_ID\": 4, \"Agency_Code\": 4, \"Agency_Name\": 4, \"Agency_Type\": 4, \"City\": 4, \"Year\": 4, \"Month\": 4, \"Incident\": 4, \"Crime_Type\": 4, \"Crime_Solved\": 4, \"Victim_Sex\": 4, \"Victim_Age\": 4, \"Victim_Race\": 4, \"Victim_Ethnicity\": 4, \"Perpetrator_Age\": 4, \"Perpetrator_Ethnicity\": 4, \"Relationship\": 4, \"Weapon\": 4, \"Victim_Count\": 4, \"Perpetrator_Count\": 4, \"Record_Source\": 4, \"State_Code\": 4, \"id\": 42}, {\"Perpetrator_Sex\": \"Male\", \"State\": \"Rhodes Island\", \"Perpetrator_Race\": \"Asian/Pacific Islander\", \"Record_ID\": 1, \"Agency_Code\": 1, \"Agency_Name\": 1, \"Agency_Type\": 1, \"City\": 1, \"Year\": 1, \"Month\": 1, \"Incident\": 1, \"Crime_Type\": 1, \"Crime_Solved\": 1, \"Victim_Sex\": 1, \"Victim_Age\": 1, \"Victim_Race\": 1, \"Victim_Ethnicity\": 1, \"Perpetrator_Age\": 1, \"Perpetrator_Ethnicity\": 1, \"Relationship\": 1, \"Weapon\": 1, \"Victim_Count\": 1, \"Perpetrator_Count\": 1, \"Record_Source\": 1, \"State_Code\": 1, \"id\": \"Rhodes Island\"}, {\"Perpetrator_Sex\": \"Male\", \"State\": \"Tennessee\", \"Perpetrator_Race\": \"Asian/Pacific Islander\", \"Record_ID\": 1, \"Agency_Code\": 1, \"Agency_Name\": 1, \"Agency_Type\": 1, \"City\": 1, \"Year\": 1, \"Month\": 1, \"Incident\": 1, \"Crime_Type\": 1, \"Crime_Solved\": 1, \"Victim_Sex\": 1, \"Victim_Age\": 1, \"Victim_Race\": 1, \"Victim_Ethnicity\": 1, \"Perpetrator_Age\": 1, \"Perpetrator_Ethnicity\": 1, \"Relationship\": 1, \"Weapon\": 1, \"Victim_Count\": 1, \"Perpetrator_Count\": 1, \"Record_Source\": 1, \"State_Code\": 1, \"id\": 47}, {\"Perpetrator_Sex\": \"Male\", \"State\": \"Texas\", \"Perpetrator_Race\": \"Asian/Pacific Islander\", \"Record_ID\": 20, \"Agency_Code\": 20, \"Agency_Name\": 20, \"Agency_Type\": 20, \"City\": 20, \"Year\": 20, \"Month\": 20, \"Incident\": 20, \"Crime_Type\": 20, \"Crime_Solved\": 20, \"Victim_Sex\": 20, \"Victim_Age\": 20, \"Victim_Race\": 20, \"Victim_Ethnicity\": 20, \"Perpetrator_Age\": 20, \"Perpetrator_Ethnicity\": 20, \"Relationship\": 20, \"Weapon\": 20, \"Victim_Count\": 20, \"Perpetrator_Count\": 20, \"Record_Source\": 20, \"State_Code\": 20, \"id\": 48}, {\"Perpetrator_Sex\": \"Male\", \"State\": \"Utah\", \"Perpetrator_Race\": \"Asian/Pacific Islander\", \"Record_ID\": 2, \"Agency_Code\": 2, \"Agency_Name\": 2, \"Agency_Type\": 2, \"City\": 2, \"Year\": 2, \"Month\": 2, \"Incident\": 2, \"Crime_Type\": 2, \"Crime_Solved\": 2, \"Victim_Sex\": 2, \"Victim_Age\": 2, \"Victim_Race\": 2, \"Victim_Ethnicity\": 2, \"Perpetrator_Age\": 2, \"Perpetrator_Ethnicity\": 2, \"Relationship\": 2, \"Weapon\": 2, \"Victim_Count\": 2, \"Perpetrator_Count\": 2, \"Record_Source\": 2, \"State_Code\": 2, \"id\": 49}, {\"Perpetrator_Sex\": \"Male\", \"State\": \"Virginia\", \"Perpetrator_Race\": \"Asian/Pacific Islander\", \"Record_ID\": 5, \"Agency_Code\": 5, \"Agency_Name\": 5, \"Agency_Type\": 5, \"City\": 5, \"Year\": 5, \"Month\": 5, \"Incident\": 5, \"Crime_Type\": 5, \"Crime_Solved\": 5, \"Victim_Sex\": 5, \"Victim_Age\": 5, \"Victim_Race\": 5, \"Victim_Ethnicity\": 5, \"Perpetrator_Age\": 5, \"Perpetrator_Ethnicity\": 5, \"Relationship\": 5, \"Weapon\": 5, \"Victim_Count\": 5, \"Perpetrator_Count\": 5, \"Record_Source\": 5, \"State_Code\": 5, \"id\": 51}, {\"Perpetrator_Sex\": \"Male\", \"State\": \"Washington\", \"Perpetrator_Race\": \"Asian/Pacific Islander\", \"Record_ID\": 10, \"Agency_Code\": 10, \"Agency_Name\": 10, \"Agency_Type\": 10, \"City\": 10, \"Year\": 10, \"Month\": 10, \"Incident\": 10, \"Crime_Type\": 10, \"Crime_Solved\": 10, \"Victim_Sex\": 10, \"Victim_Age\": 10, \"Victim_Race\": 10, \"Victim_Ethnicity\": 10, \"Perpetrator_Age\": 10, \"Perpetrator_Ethnicity\": 10, \"Relationship\": 10, \"Weapon\": 10, \"Victim_Count\": 10, \"Perpetrator_Count\": 10, \"Record_Source\": 10, \"State_Code\": 10, \"id\": 53}, {\"Perpetrator_Sex\": \"Male\", \"State\": \"Wisconsin\", \"Perpetrator_Race\": \"Asian/Pacific Islander\", \"Record_ID\": 2, \"Agency_Code\": 2, \"Agency_Name\": 2, \"Agency_Type\": 2, \"City\": 2, \"Year\": 2, \"Month\": 2, \"Incident\": 2, \"Crime_Type\": 2, \"Crime_Solved\": 2, \"Victim_Sex\": 2, \"Victim_Age\": 2, \"Victim_Race\": 2, \"Victim_Ethnicity\": 2, \"Perpetrator_Age\": 2, \"Perpetrator_Ethnicity\": 2, \"Relationship\": 2, \"Weapon\": 2, \"Victim_Count\": 2, \"Perpetrator_Count\": 2, \"Record_Source\": 2, \"State_Code\": 2, \"id\": 55}, {\"Perpetrator_Sex\": \"Unknown\", \"State\": \"Texas\", \"Perpetrator_Race\": \"Asian/Pacific Islander\", \"Record_ID\": 1, \"Agency_Code\": 1, \"Agency_Name\": 1, \"Agency_Type\": 1, \"City\": 1, \"Year\": 1, \"Month\": 1, \"Incident\": 1, \"Crime_Type\": 1, \"Crime_Solved\": 1, \"Victim_Sex\": 1, \"Victim_Age\": 1, \"Victim_Race\": 1, \"Victim_Ethnicity\": 1, \"Perpetrator_Age\": 1, \"Perpetrator_Ethnicity\": 1, \"Relationship\": 1, \"Weapon\": 1, \"Victim_Count\": 1, \"Perpetrator_Count\": 1, \"Record_Source\": 1, \"State_Code\": 1, \"id\": 48}, {\"Perpetrator_Sex\": \"Female\", \"State\": \"Alabama\", \"Perpetrator_Race\": \"Black\", \"Record_ID\": 12, \"Agency_Code\": 12, \"Agency_Name\": 12, \"Agency_Type\": 12, \"City\": 12, \"Year\": 12, \"Month\": 12, \"Incident\": 12, \"Crime_Type\": 12, \"Crime_Solved\": 12, \"Victim_Sex\": 12, \"Victim_Age\": 12, \"Victim_Race\": 12, \"Victim_Ethnicity\": 12, \"Perpetrator_Age\": 12, \"Perpetrator_Ethnicity\": 12, \"Relationship\": 12, \"Weapon\": 12, \"Victim_Count\": 12, \"Perpetrator_Count\": 12, \"Record_Source\": 12, \"State_Code\": 12, \"id\": 1}, {\"Perpetrator_Sex\": \"Female\", \"State\": \"Arizona\", \"Perpetrator_Race\": \"Black\", \"Record_ID\": 2, \"Agency_Code\": 2, \"Agency_Name\": 2, \"Agency_Type\": 2, \"City\": 2, \"Year\": 2, \"Month\": 2, \"Incident\": 2, \"Crime_Type\": 2, \"Crime_Solved\": 2, \"Victim_Sex\": 2, \"Victim_Age\": 2, \"Victim_Race\": 2, \"Victim_Ethnicity\": 2, \"Perpetrator_Age\": 2, \"Perpetrator_Ethnicity\": 2, \"Relationship\": 2, \"Weapon\": 2, \"Victim_Count\": 2, \"Perpetrator_Count\": 2, \"Record_Source\": 2, \"State_Code\": 2, \"id\": 4}, {\"Perpetrator_Sex\": \"Female\", \"State\": \"Arkansas\", \"Perpetrator_Race\": \"Black\", \"Record_ID\": 2, \"Agency_Code\": 2, \"Agency_Name\": 2, \"Agency_Type\": 2, \"City\": 2, \"Year\": 2, \"Month\": 2, \"Incident\": 2, \"Crime_Type\": 2, \"Crime_Solved\": 2, \"Victim_Sex\": 2, \"Victim_Age\": 2, \"Victim_Race\": 2, \"Victim_Ethnicity\": 2, \"Perpetrator_Age\": 2, \"Perpetrator_Ethnicity\": 2, \"Relationship\": 2, \"Weapon\": 2, \"Victim_Count\": 2, \"Perpetrator_Count\": 2, \"Record_Source\": 2, \"State_Code\": 2, \"id\": 5}, {\"Perpetrator_Sex\": \"Female\", \"State\": \"California\", \"Perpetrator_Race\": \"Black\", \"Record_ID\": 28, \"Agency_Code\": 28, \"Agency_Name\": 28, \"Agency_Type\": 28, \"City\": 28, \"Year\": 28, \"Month\": 28, \"Incident\": 28, \"Crime_Type\": 28, \"Crime_Solved\": 28, \"Victim_Sex\": 28, \"Victim_Age\": 28, \"Victim_Race\": 28, \"Victim_Ethnicity\": 28, \"Perpetrator_Age\": 28, \"Perpetrator_Ethnicity\": 28, \"Relationship\": 28, \"Weapon\": 28, \"Victim_Count\": 28, \"Perpetrator_Count\": 28, \"Record_Source\": 28, \"State_Code\": 28, \"id\": 6}, {\"Perpetrator_Sex\": \"Female\", \"State\": \"Colorado\", \"Perpetrator_Race\": \"Black\", \"Record_ID\": 1, \"Agency_Code\": 1, \"Agency_Name\": 1, \"Agency_Type\": 1, \"City\": 1, \"Year\": 1, \"Month\": 1, \"Incident\": 1, \"Crime_Type\": 1, \"Crime_Solved\": 1, \"Victim_Sex\": 1, \"Victim_Age\": 1, \"Victim_Race\": 1, \"Victim_Ethnicity\": 1, \"Perpetrator_Age\": 1, \"Perpetrator_Ethnicity\": 1, \"Relationship\": 1, \"Weapon\": 1, \"Victim_Count\": 1, \"Perpetrator_Count\": 1, \"Record_Source\": 1, \"State_Code\": 1, \"id\": 8}, {\"Perpetrator_Sex\": \"Female\", \"State\": \"Delaware\", \"Perpetrator_Race\": \"Black\", \"Record_ID\": 3, \"Agency_Code\": 3, \"Agency_Name\": 3, \"Agency_Type\": 3, \"City\": 3, \"Year\": 3, \"Month\": 3, \"Incident\": 3, \"Crime_Type\": 3, \"Crime_Solved\": 3, \"Victim_Sex\": 3, \"Victim_Age\": 3, \"Victim_Race\": 3, \"Victim_Ethnicity\": 3, \"Perpetrator_Age\": 3, \"Perpetrator_Ethnicity\": 3, \"Relationship\": 3, \"Weapon\": 3, \"Victim_Count\": 3, \"Perpetrator_Count\": 3, \"Record_Source\": 3, \"State_Code\": 3, \"id\": 10}, {\"Perpetrator_Sex\": \"Female\", \"State\": \"District of Columbia\", \"Perpetrator_Race\": \"Black\", \"Record_ID\": 3, \"Agency_Code\": 3, \"Agency_Name\": 3, \"Agency_Type\": 3, \"City\": 3, \"Year\": 3, \"Month\": 3, \"Incident\": 3, \"Crime_Type\": 3, \"Crime_Solved\": 3, \"Victim_Sex\": 3, \"Victim_Age\": 3, \"Victim_Race\": 3, \"Victim_Ethnicity\": 3, \"Perpetrator_Age\": 3, \"Perpetrator_Ethnicity\": 3, \"Relationship\": 3, \"Weapon\": 3, \"Victim_Count\": 3, \"Perpetrator_Count\": 3, \"Record_Source\": 3, \"State_Code\": 3, \"id\": 11}, {\"Perpetrator_Sex\": \"Female\", \"State\": \"Florida\", \"Perpetrator_Race\": \"Black\", \"Record_ID\": 42, \"Agency_Code\": 42, \"Agency_Name\": 42, \"Agency_Type\": 42, \"City\": 42, \"Year\": 42, \"Month\": 42, \"Incident\": 42, \"Crime_Type\": 42, \"Crime_Solved\": 42, \"Victim_Sex\": 42, \"Victim_Age\": 42, \"Victim_Race\": 42, \"Victim_Ethnicity\": 42, \"Perpetrator_Age\": 42, \"Perpetrator_Ethnicity\": 42, \"Relationship\": 42, \"Weapon\": 42, \"Victim_Count\": 42, \"Perpetrator_Count\": 42, \"Record_Source\": 42, \"State_Code\": 42, \"id\": 12}, {\"Perpetrator_Sex\": \"Female\", \"State\": \"Georgia\", \"Perpetrator_Race\": \"Black\", \"Record_ID\": 33, \"Agency_Code\": 33, \"Agency_Name\": 33, \"Agency_Type\": 33, \"City\": 33, \"Year\": 33, \"Month\": 33, \"Incident\": 33, \"Crime_Type\": 33, \"Crime_Solved\": 33, \"Victim_Sex\": 33, \"Victim_Age\": 33, \"Victim_Race\": 33, \"Victim_Ethnicity\": 33, \"Perpetrator_Age\": 33, \"Perpetrator_Ethnicity\": 33, \"Relationship\": 33, \"Weapon\": 33, \"Victim_Count\": 33, \"Perpetrator_Count\": 33, \"Record_Source\": 33, \"State_Code\": 33, \"id\": 13}, {\"Perpetrator_Sex\": \"Female\", \"State\": \"Illinois\", \"Perpetrator_Race\": \"Black\", \"Record_ID\": 9, \"Agency_Code\": 9, \"Agency_Name\": 9, \"Agency_Type\": 9, \"City\": 9, \"Year\": 9, \"Month\": 9, \"Incident\": 9, \"Crime_Type\": 9, \"Crime_Solved\": 9, \"Victim_Sex\": 9, \"Victim_Age\": 9, \"Victim_Race\": 9, \"Victim_Ethnicity\": 9, \"Perpetrator_Age\": 9, \"Perpetrator_Ethnicity\": 9, \"Relationship\": 9, \"Weapon\": 9, \"Victim_Count\": 9, \"Perpetrator_Count\": 9, \"Record_Source\": 9, \"State_Code\": 9, \"id\": 17}, {\"Perpetrator_Sex\": \"Female\", \"State\": \"Indiana\", \"Perpetrator_Race\": \"Black\", \"Record_ID\": 11, \"Agency_Code\": 11, \"Agency_Name\": 11, \"Agency_Type\": 11, \"City\": 11, \"Year\": 11, \"Month\": 11, \"Incident\": 11, \"Crime_Type\": 11, \"Crime_Solved\": 11, \"Victim_Sex\": 11, \"Victim_Age\": 11, \"Victim_Race\": 11, \"Victim_Ethnicity\": 11, \"Perpetrator_Age\": 11, \"Perpetrator_Ethnicity\": 11, \"Relationship\": 11, \"Weapon\": 11, \"Victim_Count\": 11, \"Perpetrator_Count\": 11, \"Record_Source\": 11, \"State_Code\": 11, \"id\": 18}, {\"Perpetrator_Sex\": \"Female\", \"State\": \"Kansas\", \"Perpetrator_Race\": \"Black\", \"Record_ID\": 2, \"Agency_Code\": 2, \"Agency_Name\": 2, \"Agency_Type\": 2, \"City\": 2, \"Year\": 2, \"Month\": 2, \"Incident\": 2, \"Crime_Type\": 2, \"Crime_Solved\": 2, \"Victim_Sex\": 2, \"Victim_Age\": 2, \"Victim_Race\": 2, \"Victim_Ethnicity\": 2, \"Perpetrator_Age\": 2, \"Perpetrator_Ethnicity\": 2, \"Relationship\": 2, \"Weapon\": 2, \"Victim_Count\": 2, \"Perpetrator_Count\": 2, \"Record_Source\": 2, \"State_Code\": 2, \"id\": 20}, {\"Perpetrator_Sex\": \"Female\", \"State\": \"Kentucky\", \"Perpetrator_Race\": \"Black\", \"Record_ID\": 3, \"Agency_Code\": 3, \"Agency_Name\": 3, \"Agency_Type\": 3, \"City\": 3, \"Year\": 3, \"Month\": 3, \"Incident\": 3, \"Crime_Type\": 3, \"Crime_Solved\": 3, \"Victim_Sex\": 3, \"Victim_Age\": 3, \"Victim_Race\": 3, \"Victim_Ethnicity\": 3, \"Perpetrator_Age\": 3, \"Perpetrator_Ethnicity\": 3, \"Relationship\": 3, \"Weapon\": 3, \"Victim_Count\": 3, \"Perpetrator_Count\": 3, \"Record_Source\": 3, \"State_Code\": 3, \"id\": 21}, {\"Perpetrator_Sex\": \"Female\", \"State\": \"Louisiana\", \"Perpetrator_Race\": \"Black\", \"Record_ID\": 11, \"Agency_Code\": 11, \"Agency_Name\": 11, \"Agency_Type\": 11, \"City\": 11, \"Year\": 11, \"Month\": 11, \"Incident\": 11, \"Crime_Type\": 11, \"Crime_Solved\": 11, \"Victim_Sex\": 11, \"Victim_Age\": 11, \"Victim_Race\": 11, \"Victim_Ethnicity\": 11, \"Perpetrator_Age\": 11, \"Perpetrator_Ethnicity\": 11, \"Relationship\": 11, \"Weapon\": 11, \"Victim_Count\": 11, \"Perpetrator_Count\": 11, \"Record_Source\": 11, \"State_Code\": 11, \"id\": 22}, {\"Perpetrator_Sex\": \"Female\", \"State\": \"Maryland\", \"Perpetrator_Race\": \"Black\", \"Record_ID\": 12, \"Agency_Code\": 12, \"Agency_Name\": 12, \"Agency_Type\": 12, \"City\": 12, \"Year\": 12, \"Month\": 12, \"Incident\": 12, \"Crime_Type\": 12, \"Crime_Solved\": 12, \"Victim_Sex\": 12, \"Victim_Age\": 12, \"Victim_Race\": 12, \"Victim_Ethnicity\": 12, \"Perpetrator_Age\": 12, \"Perpetrator_Ethnicity\": 12, \"Relationship\": 12, \"Weapon\": 12, \"Victim_Count\": 12, \"Perpetrator_Count\": 12, \"Record_Source\": 12, \"State_Code\": 12, \"id\": 24}, {\"Perpetrator_Sex\": \"Female\", \"State\": \"Massachusetts\", \"Perpetrator_Race\": \"Black\", \"Record_ID\": 3, \"Agency_Code\": 3, \"Agency_Name\": 3, \"Agency_Type\": 3, \"City\": 3, \"Year\": 3, \"Month\": 3, \"Incident\": 3, \"Crime_Type\": 3, \"Crime_Solved\": 3, \"Victim_Sex\": 3, \"Victim_Age\": 3, \"Victim_Race\": 3, \"Victim_Ethnicity\": 3, \"Perpetrator_Age\": 3, \"Perpetrator_Ethnicity\": 3, \"Relationship\": 3, \"Weapon\": 3, \"Victim_Count\": 3, \"Perpetrator_Count\": 3, \"Record_Source\": 3, \"State_Code\": 3, \"id\": 25}, {\"Perpetrator_Sex\": \"Female\", \"State\": \"Michigan\", \"Perpetrator_Race\": \"Black\", \"Record_ID\": 17, \"Agency_Code\": 17, \"Agency_Name\": 17, \"Agency_Type\": 17, \"City\": 17, \"Year\": 17, \"Month\": 17, \"Incident\": 17, \"Crime_Type\": 17, \"Crime_Solved\": 17, \"Victim_Sex\": 17, \"Victim_Age\": 17, \"Victim_Race\": 17, \"Victim_Ethnicity\": 17, \"Perpetrator_Age\": 17, \"Perpetrator_Ethnicity\": 17, \"Relationship\": 17, \"Weapon\": 17, \"Victim_Count\": 17, \"Perpetrator_Count\": 17, \"Record_Source\": 17, \"State_Code\": 17, \"id\": 26}, {\"Perpetrator_Sex\": \"Female\", \"State\": \"Minnesota\", \"Perpetrator_Race\": \"Black\", \"Record_ID\": 1, \"Agency_Code\": 1, \"Agency_Name\": 1, \"Agency_Type\": 1, \"City\": 1, \"Year\": 1, \"Month\": 1, \"Incident\": 1, \"Crime_Type\": 1, \"Crime_Solved\": 1, \"Victim_Sex\": 1, \"Victim_Age\": 1, \"Victim_Race\": 1, \"Victim_Ethnicity\": 1, \"Perpetrator_Age\": 1, \"Perpetrator_Ethnicity\": 1, \"Relationship\": 1, \"Weapon\": 1, \"Victim_Count\": 1, \"Perpetrator_Count\": 1, \"Record_Source\": 1, \"State_Code\": 1, \"id\": 27}, {\"Perpetrator_Sex\": \"Female\", \"State\": \"Mississippi\", \"Perpetrator_Race\": \"Black\", \"Record_ID\": 11, \"Agency_Code\": 11, \"Agency_Name\": 11, \"Agency_Type\": 11, \"City\": 11, \"Year\": 11, \"Month\": 11, \"Incident\": 11, \"Crime_Type\": 11, \"Crime_Solved\": 11, \"Victim_Sex\": 11, \"Victim_Age\": 11, \"Victim_Race\": 11, \"Victim_Ethnicity\": 11, \"Perpetrator_Age\": 11, \"Perpetrator_Ethnicity\": 11, \"Relationship\": 11, \"Weapon\": 11, \"Victim_Count\": 11, \"Perpetrator_Count\": 11, \"Record_Source\": 11, \"State_Code\": 11, \"id\": 28}, {\"Perpetrator_Sex\": \"Female\", \"State\": \"Missouri\", \"Perpetrator_Race\": \"Black\", \"Record_ID\": 10, \"Agency_Code\": 10, \"Agency_Name\": 10, \"Agency_Type\": 10, \"City\": 10, \"Year\": 10, \"Month\": 10, \"Incident\": 10, \"Crime_Type\": 10, \"Crime_Solved\": 10, \"Victim_Sex\": 10, \"Victim_Age\": 10, \"Victim_Race\": 10, \"Victim_Ethnicity\": 10, \"Perpetrator_Age\": 10, \"Perpetrator_Ethnicity\": 10, \"Relationship\": 10, \"Weapon\": 10, \"Victim_Count\": 10, \"Perpetrator_Count\": 10, \"Record_Source\": 10, \"State_Code\": 10, \"id\": 29}, {\"Perpetrator_Sex\": \"Female\", \"State\": \"Nevada\", \"Perpetrator_Race\": \"Black\", \"Record_ID\": 5, \"Agency_Code\": 5, \"Agency_Name\": 5, \"Agency_Type\": 5, \"City\": 5, \"Year\": 5, \"Month\": 5, \"Incident\": 5, \"Crime_Type\": 5, \"Crime_Solved\": 5, \"Victim_Sex\": 5, \"Victim_Age\": 5, \"Victim_Race\": 5, \"Victim_Ethnicity\": 5, \"Perpetrator_Age\": 5, \"Perpetrator_Ethnicity\": 5, \"Relationship\": 5, \"Weapon\": 5, \"Victim_Count\": 5, \"Perpetrator_Count\": 5, \"Record_Source\": 5, \"State_Code\": 5, \"id\": 32}, {\"Perpetrator_Sex\": \"Female\", \"State\": \"New Hampshire\", \"Perpetrator_Race\": \"Black\", \"Record_ID\": 1, \"Agency_Code\": 1, \"Agency_Name\": 1, \"Agency_Type\": 1, \"City\": 1, \"Year\": 1, \"Month\": 1, \"Incident\": 1, \"Crime_Type\": 1, \"Crime_Solved\": 1, \"Victim_Sex\": 1, \"Victim_Age\": 1, \"Victim_Race\": 1, \"Victim_Ethnicity\": 1, \"Perpetrator_Age\": 1, \"Perpetrator_Ethnicity\": 1, \"Relationship\": 1, \"Weapon\": 1, \"Victim_Count\": 1, \"Perpetrator_Count\": 1, \"Record_Source\": 1, \"State_Code\": 1, \"id\": 33}, {\"Perpetrator_Sex\": \"Female\", \"State\": \"New Jersey\", \"Perpetrator_Race\": \"Black\", \"Record_ID\": 8, \"Agency_Code\": 8, \"Agency_Name\": 8, \"Agency_Type\": 8, \"City\": 8, \"Year\": 8, \"Month\": 8, \"Incident\": 8, \"Crime_Type\": 8, \"Crime_Solved\": 8, \"Victim_Sex\": 8, \"Victim_Age\": 8, \"Victim_Race\": 8, \"Victim_Ethnicity\": 8, \"Perpetrator_Age\": 8, \"Perpetrator_Ethnicity\": 8, \"Relationship\": 8, \"Weapon\": 8, \"Victim_Count\": 8, \"Perpetrator_Count\": 8, \"Record_Source\": 8, \"State_Code\": 8, \"id\": 34}, {\"Perpetrator_Sex\": \"Female\", \"State\": \"New York\", \"Perpetrator_Race\": \"Black\", \"Record_ID\": 32, \"Agency_Code\": 32, \"Agency_Name\": 32, \"Agency_Type\": 32, \"City\": 32, \"Year\": 32, \"Month\": 32, \"Incident\": 32, \"Crime_Type\": 32, \"Crime_Solved\": 32, \"Victim_Sex\": 32, \"Victim_Age\": 32, \"Victim_Race\": 32, \"Victim_Ethnicity\": 32, \"Perpetrator_Age\": 32, \"Perpetrator_Ethnicity\": 32, \"Relationship\": 32, \"Weapon\": 32, \"Victim_Count\": 32, \"Perpetrator_Count\": 32, \"Record_Source\": 32, \"State_Code\": 32, \"id\": 36}, {\"Perpetrator_Sex\": \"Female\", \"State\": \"North Carolina\", \"Perpetrator_Race\": \"Black\", \"Record_ID\": 16, \"Agency_Code\": 16, \"Agency_Name\": 16, \"Agency_Type\": 16, \"City\": 16, \"Year\": 16, \"Month\": 16, \"Incident\": 16, \"Crime_Type\": 16, \"Crime_Solved\": 16, \"Victim_Sex\": 16, \"Victim_Age\": 16, \"Victim_Race\": 16, \"Victim_Ethnicity\": 16, \"Perpetrator_Age\": 16, \"Perpetrator_Ethnicity\": 16, \"Relationship\": 16, \"Weapon\": 16, \"Victim_Count\": 16, \"Perpetrator_Count\": 16, \"Record_Source\": 16, \"State_Code\": 16, \"id\": 37}, {\"Perpetrator_Sex\": \"Female\", \"State\": \"Ohio\", \"Perpetrator_Race\": \"Black\", \"Record_ID\": 19, \"Agency_Code\": 19, \"Agency_Name\": 19, \"Agency_Type\": 19, \"City\": 19, \"Year\": 19, \"Month\": 19, \"Incident\": 19, \"Crime_Type\": 19, \"Crime_Solved\": 19, \"Victim_Sex\": 19, \"Victim_Age\": 19, \"Victim_Race\": 19, \"Victim_Ethnicity\": 19, \"Perpetrator_Age\": 19, \"Perpetrator_Ethnicity\": 19, \"Relationship\": 19, \"Weapon\": 19, \"Victim_Count\": 19, \"Perpetrator_Count\": 19, \"Record_Source\": 19, \"State_Code\": 19, \"id\": 39}, {\"Perpetrator_Sex\": \"Female\", \"State\": \"Oklahoma\", \"Perpetrator_Race\": \"Black\", \"Record_ID\": 4, \"Agency_Code\": 4, \"Agency_Name\": 4, \"Agency_Type\": 4, \"City\": 4, \"Year\": 4, \"Month\": 4, \"Incident\": 4, \"Crime_Type\": 4, \"Crime_Solved\": 4, \"Victim_Sex\": 4, \"Victim_Age\": 4, \"Victim_Race\": 4, \"Victim_Ethnicity\": 4, \"Perpetrator_Age\": 4, \"Perpetrator_Ethnicity\": 4, \"Relationship\": 4, \"Weapon\": 4, \"Victim_Count\": 4, \"Perpetrator_Count\": 4, \"Record_Source\": 4, \"State_Code\": 4, \"id\": 40}, {\"Perpetrator_Sex\": \"Female\", \"State\": \"Pennsylvania\", \"Perpetrator_Race\": \"Black\", \"Record_ID\": 17, \"Agency_Code\": 17, \"Agency_Name\": 17, \"Agency_Type\": 17, \"City\": 17, \"Year\": 17, \"Month\": 17, \"Incident\": 17, \"Crime_Type\": 17, \"Crime_Solved\": 17, \"Victim_Sex\": 17, \"Victim_Age\": 17, \"Victim_Race\": 17, \"Victim_Ethnicity\": 17, \"Perpetrator_Age\": 17, \"Perpetrator_Ethnicity\": 17, \"Relationship\": 17, \"Weapon\": 17, \"Victim_Count\": 17, \"Perpetrator_Count\": 17, \"Record_Source\": 17, \"State_Code\": 17, \"id\": 42}, {\"Perpetrator_Sex\": \"Female\", \"State\": \"South Carolina\", \"Perpetrator_Race\": \"Black\", \"Record_ID\": 12, \"Agency_Code\": 12, \"Agency_Name\": 12, \"Agency_Type\": 12, \"City\": 12, \"Year\": 12, \"Month\": 12, \"Incident\": 12, \"Crime_Type\": 12, \"Crime_Solved\": 12, \"Victim_Sex\": 12, \"Victim_Age\": 12, \"Victim_Race\": 12, \"Victim_Ethnicity\": 12, \"Perpetrator_Age\": 12, \"Perpetrator_Ethnicity\": 12, \"Relationship\": 12, \"Weapon\": 12, \"Victim_Count\": 12, \"Perpetrator_Count\": 12, \"Record_Source\": 12, \"State_Code\": 12, \"id\": 45}, {\"Perpetrator_Sex\": \"Female\", \"State\": \"Tennessee\", \"Perpetrator_Race\": \"Black\", \"Record_ID\": 14, \"Agency_Code\": 14, \"Agency_Name\": 14, \"Agency_Type\": 14, \"City\": 14, \"Year\": 14, \"Month\": 14, \"Incident\": 14, \"Crime_Type\": 14, \"Crime_Solved\": 14, \"Victim_Sex\": 14, \"Victim_Age\": 14, \"Victim_Race\": 14, \"Victim_Ethnicity\": 14, \"Perpetrator_Age\": 14, \"Perpetrator_Ethnicity\": 14, \"Relationship\": 14, \"Weapon\": 14, \"Victim_Count\": 14, \"Perpetrator_Count\": 14, \"Record_Source\": 14, \"State_Code\": 14, \"id\": 47}, {\"Perpetrator_Sex\": \"Female\", \"State\": \"Texas\", \"Perpetrator_Race\": \"Black\", \"Record_ID\": 33, \"Agency_Code\": 33, \"Agency_Name\": 33, \"Agency_Type\": 33, \"City\": 33, \"Year\": 33, \"Month\": 33, \"Incident\": 33, \"Crime_Type\": 33, \"Crime_Solved\": 33, \"Victim_Sex\": 33, \"Victim_Age\": 33, \"Victim_Race\": 33, \"Victim_Ethnicity\": 33, \"Perpetrator_Age\": 33, \"Perpetrator_Ethnicity\": 33, \"Relationship\": 33, \"Weapon\": 33, \"Victim_Count\": 33, \"Perpetrator_Count\": 33, \"Record_Source\": 33, \"State_Code\": 33, \"id\": 48}, {\"Perpetrator_Sex\": \"Female\", \"State\": \"Virginia\", \"Perpetrator_Race\": \"Black\", \"Record_ID\": 11, \"Agency_Code\": 11, \"Agency_Name\": 11, \"Agency_Type\": 11, \"City\": 11, \"Year\": 11, \"Month\": 11, \"Incident\": 11, \"Crime_Type\": 11, \"Crime_Solved\": 11, \"Victim_Sex\": 11, \"Victim_Age\": 11, \"Victim_Race\": 11, \"Victim_Ethnicity\": 11, \"Perpetrator_Age\": 11, \"Perpetrator_Ethnicity\": 11, \"Relationship\": 11, \"Weapon\": 11, \"Victim_Count\": 11, \"Perpetrator_Count\": 11, \"Record_Source\": 11, \"State_Code\": 11, \"id\": 51}, {\"Perpetrator_Sex\": \"Female\", \"State\": \"Wisconsin\", \"Perpetrator_Race\": \"Black\", \"Record_ID\": 6, \"Agency_Code\": 6, \"Agency_Name\": 6, \"Agency_Type\": 6, \"City\": 6, \"Year\": 6, \"Month\": 6, \"Incident\": 6, \"Crime_Type\": 6, \"Crime_Solved\": 6, \"Victim_Sex\": 6, \"Victim_Age\": 6, \"Victim_Race\": 6, \"Victim_Ethnicity\": 6, \"Perpetrator_Age\": 6, \"Perpetrator_Ethnicity\": 6, \"Relationship\": 6, \"Weapon\": 6, \"Victim_Count\": 6, \"Perpetrator_Count\": 6, \"Record_Source\": 6, \"State_Code\": 6, \"id\": 55}, {\"Perpetrator_Sex\": \"Male\", \"State\": \"Alabama\", \"Perpetrator_Race\": \"Black\", \"Record_ID\": 77, \"Agency_Code\": 77, \"Agency_Name\": 77, \"Agency_Type\": 77, \"City\": 77, \"Year\": 77, \"Month\": 77, \"Incident\": 77, \"Crime_Type\": 77, \"Crime_Solved\": 77, \"Victim_Sex\": 77, \"Victim_Age\": 77, \"Victim_Race\": 77, \"Victim_Ethnicity\": 77, \"Perpetrator_Age\": 77, \"Perpetrator_Ethnicity\": 77, \"Relationship\": 77, \"Weapon\": 77, \"Victim_Count\": 77, \"Perpetrator_Count\": 77, \"Record_Source\": 77, \"State_Code\": 77, \"id\": 1}, {\"Perpetrator_Sex\": \"Male\", \"State\": \"Alaska\", \"Perpetrator_Race\": \"Black\", \"Record_ID\": 1, \"Agency_Code\": 1, \"Agency_Name\": 1, \"Agency_Type\": 1, \"City\": 1, \"Year\": 1, \"Month\": 1, \"Incident\": 1, \"Crime_Type\": 1, \"Crime_Solved\": 1, \"Victim_Sex\": 1, \"Victim_Age\": 1, \"Victim_Race\": 1, \"Victim_Ethnicity\": 1, \"Perpetrator_Age\": 1, \"Perpetrator_Ethnicity\": 1, \"Relationship\": 1, \"Weapon\": 1, \"Victim_Count\": 1, \"Perpetrator_Count\": 1, \"Record_Source\": 1, \"State_Code\": 1, \"id\": 2}, {\"Perpetrator_Sex\": \"Male\", \"State\": \"Arizona\", \"Perpetrator_Race\": \"Black\", \"Record_ID\": 38, \"Agency_Code\": 38, \"Agency_Name\": 38, \"Agency_Type\": 38, \"City\": 38, \"Year\": 38, \"Month\": 38, \"Incident\": 38, \"Crime_Type\": 38, \"Crime_Solved\": 38, \"Victim_Sex\": 38, \"Victim_Age\": 38, \"Victim_Race\": 38, \"Victim_Ethnicity\": 38, \"Perpetrator_Age\": 38, \"Perpetrator_Ethnicity\": 38, \"Relationship\": 38, \"Weapon\": 38, \"Victim_Count\": 38, \"Perpetrator_Count\": 38, \"Record_Source\": 38, \"State_Code\": 38, \"id\": 4}, {\"Perpetrator_Sex\": \"Male\", \"State\": \"Arkansas\", \"Perpetrator_Race\": \"Black\", \"Record_ID\": 59, \"Agency_Code\": 59, \"Agency_Name\": 59, \"Agency_Type\": 59, \"City\": 59, \"Year\": 59, \"Month\": 59, \"Incident\": 59, \"Crime_Type\": 59, \"Crime_Solved\": 59, \"Victim_Sex\": 59, \"Victim_Age\": 59, \"Victim_Race\": 59, \"Victim_Ethnicity\": 59, \"Perpetrator_Age\": 59, \"Perpetrator_Ethnicity\": 59, \"Relationship\": 59, \"Weapon\": 59, \"Victim_Count\": 59, \"Perpetrator_Count\": 59, \"Record_Source\": 59, \"State_Code\": 59, \"id\": 5}, {\"Perpetrator_Sex\": \"Male\", \"State\": \"California\", \"Perpetrator_Race\": \"Black\", \"Record_ID\": 231, \"Agency_Code\": 231, \"Agency_Name\": 231, \"Agency_Type\": 231, \"City\": 231, \"Year\": 231, \"Month\": 231, \"Incident\": 231, \"Crime_Type\": 231, \"Crime_Solved\": 231, \"Victim_Sex\": 231, \"Victim_Age\": 231, \"Victim_Race\": 231, \"Victim_Ethnicity\": 231, \"Perpetrator_Age\": 231, \"Perpetrator_Ethnicity\": 231, \"Relationship\": 231, \"Weapon\": 231, \"Victim_Count\": 231, \"Perpetrator_Count\": 231, \"Record_Source\": 231, \"State_Code\": 231, \"id\": 6}, {\"Perpetrator_Sex\": \"Male\", \"State\": \"Colorado\", \"Perpetrator_Race\": \"Black\", \"Record_ID\": 20, \"Agency_Code\": 20, \"Agency_Name\": 20, \"Agency_Type\": 20, \"City\": 20, \"Year\": 20, \"Month\": 20, \"Incident\": 20, \"Crime_Type\": 20, \"Crime_Solved\": 20, \"Victim_Sex\": 20, \"Victim_Age\": 20, \"Victim_Race\": 20, \"Victim_Ethnicity\": 20, \"Perpetrator_Age\": 20, \"Perpetrator_Ethnicity\": 20, \"Relationship\": 20, \"Weapon\": 20, \"Victim_Count\": 20, \"Perpetrator_Count\": 20, \"Record_Source\": 20, \"State_Code\": 20, \"id\": 8}, {\"Perpetrator_Sex\": \"Male\", \"State\": \"Connecticut\", \"Perpetrator_Race\": \"Black\", \"Record_ID\": 45, \"Agency_Code\": 45, \"Agency_Name\": 45, \"Agency_Type\": 45, \"City\": 45, \"Year\": 45, \"Month\": 45, \"Incident\": 45, \"Crime_Type\": 45, \"Crime_Solved\": 45, \"Victim_Sex\": 45, \"Victim_Age\": 45, \"Victim_Race\": 45, \"Victim_Ethnicity\": 45, \"Perpetrator_Age\": 45, \"Perpetrator_Ethnicity\": 45, \"Relationship\": 45, \"Weapon\": 45, \"Victim_Count\": 45, \"Perpetrator_Count\": 45, \"Record_Source\": 45, \"State_Code\": 45, \"id\": 9}, {\"Perpetrator_Sex\": \"Male\", \"State\": \"Delaware\", \"Perpetrator_Race\": \"Black\", \"Record_ID\": 27, \"Agency_Code\": 27, \"Agency_Name\": 27, \"Agency_Type\": 27, \"City\": 27, \"Year\": 27, \"Month\": 27, \"Incident\": 27, \"Crime_Type\": 27, \"Crime_Solved\": 27, \"Victim_Sex\": 27, \"Victim_Age\": 27, \"Victim_Race\": 27, \"Victim_Ethnicity\": 27, \"Perpetrator_Age\": 27, \"Perpetrator_Ethnicity\": 27, \"Relationship\": 27, \"Weapon\": 27, \"Victim_Count\": 27, \"Perpetrator_Count\": 27, \"Record_Source\": 27, \"State_Code\": 27, \"id\": 10}, {\"Perpetrator_Sex\": \"Male\", \"State\": \"District of Columbia\", \"Perpetrator_Race\": \"Black\", \"Record_ID\": 67, \"Agency_Code\": 67, \"Agency_Name\": 67, \"Agency_Type\": 67, \"City\": 67, \"Year\": 67, \"Month\": 67, \"Incident\": 67, \"Crime_Type\": 67, \"Crime_Solved\": 67, \"Victim_Sex\": 67, \"Victim_Age\": 67, \"Victim_Race\": 67, \"Victim_Ethnicity\": 67, \"Perpetrator_Age\": 67, \"Perpetrator_Ethnicity\": 67, \"Relationship\": 67, \"Weapon\": 67, \"Victim_Count\": 67, \"Perpetrator_Count\": 67, \"Record_Source\": 67, \"State_Code\": 67, \"id\": 11}, {\"Perpetrator_Sex\": \"Male\", \"State\": \"Florida\", \"Perpetrator_Race\": \"Black\", \"Record_ID\": 334, \"Agency_Code\": 334, \"Agency_Name\": 334, \"Agency_Type\": 334, \"City\": 334, \"Year\": 334, \"Month\": 334, \"Incident\": 334, \"Crime_Type\": 334, \"Crime_Solved\": 334, \"Victim_Sex\": 334, \"Victim_Age\": 334, \"Victim_Race\": 334, \"Victim_Ethnicity\": 334, \"Perpetrator_Age\": 334, \"Perpetrator_Ethnicity\": 334, \"Relationship\": 334, \"Weapon\": 334, \"Victim_Count\": 334, \"Perpetrator_Count\": 334, \"Record_Source\": 334, \"State_Code\": 334, \"id\": 12}, {\"Perpetrator_Sex\": \"Male\", \"State\": \"Georgia\", \"Perpetrator_Race\": \"Black\", \"Record_ID\": 247, \"Agency_Code\": 247, \"Agency_Name\": 247, \"Agency_Type\": 247, \"City\": 247, \"Year\": 247, \"Month\": 247, \"Incident\": 247, \"Crime_Type\": 247, \"Crime_Solved\": 247, \"Victim_Sex\": 247, \"Victim_Age\": 247, \"Victim_Race\": 247, \"Victim_Ethnicity\": 247, \"Perpetrator_Age\": 247, \"Perpetrator_Ethnicity\": 247, \"Relationship\": 247, \"Weapon\": 247, \"Victim_Count\": 247, \"Perpetrator_Count\": 247, \"Record_Source\": 247, \"State_Code\": 247, \"id\": 13}, {\"Perpetrator_Sex\": \"Male\", \"State\": \"Hawaii\", \"Perpetrator_Race\": \"Black\", \"Record_ID\": 4, \"Agency_Code\": 4, \"Agency_Name\": 4, \"Agency_Type\": 4, \"City\": 4, \"Year\": 4, \"Month\": 4, \"Incident\": 4, \"Crime_Type\": 4, \"Crime_Solved\": 4, \"Victim_Sex\": 4, \"Victim_Age\": 4, \"Victim_Race\": 4, \"Victim_Ethnicity\": 4, \"Perpetrator_Age\": 4, \"Perpetrator_Ethnicity\": 4, \"Relationship\": 4, \"Weapon\": 4, \"Victim_Count\": 4, \"Perpetrator_Count\": 4, \"Record_Source\": 4, \"State_Code\": 4, \"id\": 15}, {\"Perpetrator_Sex\": \"Male\", \"State\": \"Illinois\", \"Perpetrator_Race\": \"Black\", \"Record_ID\": 113, \"Agency_Code\": 113, \"Agency_Name\": 113, \"Agency_Type\": 113, \"City\": 113, \"Year\": 113, \"Month\": 113, \"Incident\": 113, \"Crime_Type\": 113, \"Crime_Solved\": 113, \"Victim_Sex\": 113, \"Victim_Age\": 113, \"Victim_Race\": 113, \"Victim_Ethnicity\": 113, \"Perpetrator_Age\": 113, \"Perpetrator_Ethnicity\": 113, \"Relationship\": 113, \"Weapon\": 113, \"Victim_Count\": 113, \"Perpetrator_Count\": 113, \"Record_Source\": 113, \"State_Code\": 113, \"id\": 17}, {\"Perpetrator_Sex\": \"Male\", \"State\": \"Indiana\", \"Perpetrator_Race\": \"Black\", \"Record_ID\": 95, \"Agency_Code\": 95, \"Agency_Name\": 95, \"Agency_Type\": 95, \"City\": 95, \"Year\": 95, \"Month\": 95, \"Incident\": 95, \"Crime_Type\": 95, \"Crime_Solved\": 95, \"Victim_Sex\": 95, \"Victim_Age\": 95, \"Victim_Race\": 95, \"Victim_Ethnicity\": 95, \"Perpetrator_Age\": 95, \"Perpetrator_Ethnicity\": 95, \"Relationship\": 95, \"Weapon\": 95, \"Victim_Count\": 95, \"Perpetrator_Count\": 95, \"Record_Source\": 95, \"State_Code\": 95, \"id\": 18}, {\"Perpetrator_Sex\": \"Male\", \"State\": \"Iowa\", \"Perpetrator_Race\": \"Black\", \"Record_ID\": 7, \"Agency_Code\": 7, \"Agency_Name\": 7, \"Agency_Type\": 7, \"City\": 7, \"Year\": 7, \"Month\": 7, \"Incident\": 7, \"Crime_Type\": 7, \"Crime_Solved\": 7, \"Victim_Sex\": 7, \"Victim_Age\": 7, \"Victim_Race\": 7, \"Victim_Ethnicity\": 7, \"Perpetrator_Age\": 7, \"Perpetrator_Ethnicity\": 7, \"Relationship\": 7, \"Weapon\": 7, \"Victim_Count\": 7, \"Perpetrator_Count\": 7, \"Record_Source\": 7, \"State_Code\": 7, \"id\": 19}, {\"Perpetrator_Sex\": \"Male\", \"State\": \"Kansas\", \"Perpetrator_Race\": \"Black\", \"Record_ID\": 26, \"Agency_Code\": 26, \"Agency_Name\": 26, \"Agency_Type\": 26, \"City\": 26, \"Year\": 26, \"Month\": 26, \"Incident\": 26, \"Crime_Type\": 26, \"Crime_Solved\": 26, \"Victim_Sex\": 26, \"Victim_Age\": 26, \"Victim_Race\": 26, \"Victim_Ethnicity\": 26, \"Perpetrator_Age\": 26, \"Perpetrator_Ethnicity\": 26, \"Relationship\": 26, \"Weapon\": 26, \"Victim_Count\": 26, \"Perpetrator_Count\": 26, \"Record_Source\": 26, \"State_Code\": 26, \"id\": 20}, {\"Perpetrator_Sex\": \"Male\", \"State\": \"Kentucky\", \"Perpetrator_Race\": \"Black\", \"Record_ID\": 28, \"Agency_Code\": 28, \"Agency_Name\": 28, \"Agency_Type\": 28, \"City\": 28, \"Year\": 28, \"Month\": 28, \"Incident\": 28, \"Crime_Type\": 28, \"Crime_Solved\": 28, \"Victim_Sex\": 28, \"Victim_Age\": 28, \"Victim_Race\": 28, \"Victim_Ethnicity\": 28, \"Perpetrator_Age\": 28, \"Perpetrator_Ethnicity\": 28, \"Relationship\": 28, \"Weapon\": 28, \"Victim_Count\": 28, \"Perpetrator_Count\": 28, \"Record_Source\": 28, \"State_Code\": 28, \"id\": 21}, {\"Perpetrator_Sex\": \"Male\", \"State\": \"Louisiana\", \"Perpetrator_Race\": \"Black\", \"Record_ID\": 227, \"Agency_Code\": 227, \"Agency_Name\": 227, \"Agency_Type\": 227, \"City\": 227, \"Year\": 227, \"Month\": 227, \"Incident\": 227, \"Crime_Type\": 227, \"Crime_Solved\": 227, \"Victim_Sex\": 227, \"Victim_Age\": 227, \"Victim_Race\": 227, \"Victim_Ethnicity\": 227, \"Perpetrator_Age\": 227, \"Perpetrator_Ethnicity\": 227, \"Relationship\": 227, \"Weapon\": 227, \"Victim_Count\": 227, \"Perpetrator_Count\": 227, \"Record_Source\": 227, \"State_Code\": 227, \"id\": 22}, {\"Perpetrator_Sex\": \"Male\", \"State\": \"Maine\", \"Perpetrator_Race\": \"Black\", \"Record_ID\": 5, \"Agency_Code\": 5, \"Agency_Name\": 5, \"Agency_Type\": 5, \"City\": 5, \"Year\": 5, \"Month\": 5, \"Incident\": 5, \"Crime_Type\": 5, \"Crime_Solved\": 5, \"Victim_Sex\": 5, \"Victim_Age\": 5, \"Victim_Race\": 5, \"Victim_Ethnicity\": 5, \"Perpetrator_Age\": 5, \"Perpetrator_Ethnicity\": 5, \"Relationship\": 5, \"Weapon\": 5, \"Victim_Count\": 5, \"Perpetrator_Count\": 5, \"Record_Source\": 5, \"State_Code\": 5, \"id\": 23}, {\"Perpetrator_Sex\": \"Male\", \"State\": \"Maryland\", \"Perpetrator_Race\": \"Black\", \"Record_ID\": 195, \"Agency_Code\": 195, \"Agency_Name\": 195, \"Agency_Type\": 195, \"City\": 195, \"Year\": 195, \"Month\": 195, \"Incident\": 195, \"Crime_Type\": 195, \"Crime_Solved\": 195, \"Victim_Sex\": 195, \"Victim_Age\": 195, \"Victim_Race\": 195, \"Victim_Ethnicity\": 195, \"Perpetrator_Age\": 195, \"Perpetrator_Ethnicity\": 195, \"Relationship\": 195, \"Weapon\": 195, \"Victim_Count\": 195, \"Perpetrator_Count\": 195, \"Record_Source\": 195, \"State_Code\": 195, \"id\": 24}, {\"Perpetrator_Sex\": \"Male\", \"State\": \"Massachusetts\", \"Perpetrator_Race\": \"Black\", \"Record_ID\": 46, \"Agency_Code\": 46, \"Agency_Name\": 46, \"Agency_Type\": 46, \"City\": 46, \"Year\": 46, \"Month\": 46, \"Incident\": 46, \"Crime_Type\": 46, \"Crime_Solved\": 46, \"Victim_Sex\": 46, \"Victim_Age\": 46, \"Victim_Race\": 46, \"Victim_Ethnicity\": 46, \"Perpetrator_Age\": 46, \"Perpetrator_Ethnicity\": 46, \"Relationship\": 46, \"Weapon\": 46, \"Victim_Count\": 46, \"Perpetrator_Count\": 46, \"Record_Source\": 46, \"State_Code\": 46, \"id\": 25}, {\"Perpetrator_Sex\": \"Male\", \"State\": \"Michigan\", \"Perpetrator_Race\": \"Black\", \"Record_ID\": 246, \"Agency_Code\": 246, \"Agency_Name\": 246, \"Agency_Type\": 246, \"City\": 246, \"Year\": 246, \"Month\": 246, \"Incident\": 246, \"Crime_Type\": 246, \"Crime_Solved\": 246, \"Victim_Sex\": 246, \"Victim_Age\": 246, \"Victim_Race\": 246, \"Victim_Ethnicity\": 246, \"Perpetrator_Age\": 246, \"Perpetrator_Ethnicity\": 246, \"Relationship\": 246, \"Weapon\": 246, \"Victim_Count\": 246, \"Perpetrator_Count\": 246, \"Record_Source\": 246, \"State_Code\": 246, \"id\": 26}, {\"Perpetrator_Sex\": \"Male\", \"State\": \"Minnesota\", \"Perpetrator_Race\": \"Black\", \"Record_ID\": 36, \"Agency_Code\": 36, \"Agency_Name\": 36, \"Agency_Type\": 36, \"City\": 36, \"Year\": 36, \"Month\": 36, \"Incident\": 36, \"Crime_Type\": 36, \"Crime_Solved\": 36, \"Victim_Sex\": 36, \"Victim_Age\": 36, \"Victim_Race\": 36, \"Victim_Ethnicity\": 36, \"Perpetrator_Age\": 36, \"Perpetrator_Ethnicity\": 36, \"Relationship\": 36, \"Weapon\": 36, \"Victim_Count\": 36, \"Perpetrator_Count\": 36, \"Record_Source\": 36, \"State_Code\": 36, \"id\": 27}, {\"Perpetrator_Sex\": \"Male\", \"State\": \"Mississippi\", \"Perpetrator_Race\": \"Black\", \"Record_ID\": 89, \"Agency_Code\": 89, \"Agency_Name\": 89, \"Agency_Type\": 89, \"City\": 89, \"Year\": 89, \"Month\": 89, \"Incident\": 89, \"Crime_Type\": 89, \"Crime_Solved\": 89, \"Victim_Sex\": 89, \"Victim_Age\": 89, \"Victim_Race\": 89, \"Victim_Ethnicity\": 89, \"Perpetrator_Age\": 89, \"Perpetrator_Ethnicity\": 89, \"Relationship\": 89, \"Weapon\": 89, \"Victim_Count\": 89, \"Perpetrator_Count\": 89, \"Record_Source\": 89, \"State_Code\": 89, \"id\": 28}, {\"Perpetrator_Sex\": \"Male\", \"State\": \"Missouri\", \"Perpetrator_Race\": \"Black\", \"Record_ID\": 152, \"Agency_Code\": 152, \"Agency_Name\": 152, \"Agency_Type\": 152, \"City\": 152, \"Year\": 152, \"Month\": 152, \"Incident\": 152, \"Crime_Type\": 152, \"Crime_Solved\": 152, \"Victim_Sex\": 152, \"Victim_Age\": 152, \"Victim_Race\": 152, \"Victim_Ethnicity\": 152, \"Perpetrator_Age\": 152, \"Perpetrator_Ethnicity\": 152, \"Relationship\": 152, \"Weapon\": 152, \"Victim_Count\": 152, \"Perpetrator_Count\": 152, \"Record_Source\": 152, \"State_Code\": 152, \"id\": 29}, {\"Perpetrator_Sex\": \"Male\", \"State\": \"Nebraska\", \"Perpetrator_Race\": \"Black\", \"Record_ID\": 11, \"Agency_Code\": 11, \"Agency_Name\": 11, \"Agency_Type\": 11, \"City\": 11, \"Year\": 11, \"Month\": 11, \"Incident\": 11, \"Crime_Type\": 11, \"Crime_Solved\": 11, \"Victim_Sex\": 11, \"Victim_Age\": 11, \"Victim_Race\": 11, \"Victim_Ethnicity\": 11, \"Perpetrator_Age\": 11, \"Perpetrator_Ethnicity\": 11, \"Relationship\": 11, \"Weapon\": 11, \"Victim_Count\": 11, \"Perpetrator_Count\": 11, \"Record_Source\": 11, \"State_Code\": 11, \"id\": 31}, {\"Perpetrator_Sex\": \"Male\", \"State\": \"Nevada\", \"Perpetrator_Race\": \"Black\", \"Record_ID\": 31, \"Agency_Code\": 31, \"Agency_Name\": 31, \"Agency_Type\": 31, \"City\": 31, \"Year\": 31, \"Month\": 31, \"Incident\": 31, \"Crime_Type\": 31, \"Crime_Solved\": 31, \"Victim_Sex\": 31, \"Victim_Age\": 31, \"Victim_Race\": 31, \"Victim_Ethnicity\": 31, \"Perpetrator_Age\": 31, \"Perpetrator_Ethnicity\": 31, \"Relationship\": 31, \"Weapon\": 31, \"Victim_Count\": 31, \"Perpetrator_Count\": 31, \"Record_Source\": 31, \"State_Code\": 31, \"id\": 32}, {\"Perpetrator_Sex\": \"Male\", \"State\": \"New Hampshire\", \"Perpetrator_Race\": \"Black\", \"Record_ID\": 2, \"Agency_Code\": 2, \"Agency_Name\": 2, \"Agency_Type\": 2, \"City\": 2, \"Year\": 2, \"Month\": 2, \"Incident\": 2, \"Crime_Type\": 2, \"Crime_Solved\": 2, \"Victim_Sex\": 2, \"Victim_Age\": 2, \"Victim_Race\": 2, \"Victim_Ethnicity\": 2, \"Perpetrator_Age\": 2, \"Perpetrator_Ethnicity\": 2, \"Relationship\": 2, \"Weapon\": 2, \"Victim_Count\": 2, \"Perpetrator_Count\": 2, \"Record_Source\": 2, \"State_Code\": 2, \"id\": 33}, {\"Perpetrator_Sex\": \"Male\", \"State\": \"New Jersey\", \"Perpetrator_Race\": \"Black\", \"Record_ID\": 130, \"Agency_Code\": 130, \"Agency_Name\": 130, \"Agency_Type\": 130, \"City\": 130, \"Year\": 130, \"Month\": 130, \"Incident\": 130, \"Crime_Type\": 130, \"Crime_Solved\": 130, \"Victim_Sex\": 130, \"Victim_Age\": 130, \"Victim_Race\": 130, \"Victim_Ethnicity\": 130, \"Perpetrator_Age\": 130, \"Perpetrator_Ethnicity\": 130, \"Relationship\": 130, \"Weapon\": 130, \"Victim_Count\": 130, \"Perpetrator_Count\": 130, \"Record_Source\": 130, \"State_Code\": 130, \"id\": 34}, {\"Perpetrator_Sex\": \"Male\", \"State\": \"New Mexico\", \"Perpetrator_Race\": \"Black\", \"Record_ID\": 13, \"Agency_Code\": 13, \"Agency_Name\": 13, \"Agency_Type\": 13, \"City\": 13, \"Year\": 13, \"Month\": 13, \"Incident\": 13, \"Crime_Type\": 13, \"Crime_Solved\": 13, \"Victim_Sex\": 13, \"Victim_Age\": 13, \"Victim_Race\": 13, \"Victim_Ethnicity\": 13, \"Perpetrator_Age\": 13, \"Perpetrator_Ethnicity\": 13, \"Relationship\": 13, \"Weapon\": 13, \"Victim_Count\": 13, \"Perpetrator_Count\": 13, \"Record_Source\": 13, \"State_Code\": 13, \"id\": 35}, {\"Perpetrator_Sex\": \"Male\", \"State\": \"New York\", \"Perpetrator_Race\": \"Black\", \"Record_ID\": 291, \"Agency_Code\": 291, \"Agency_Name\": 291, \"Agency_Type\": 291, \"City\": 291, \"Year\": 291, \"Month\": 291, \"Incident\": 291, \"Crime_Type\": 291, \"Crime_Solved\": 291, \"Victim_Sex\": 291, \"Victim_Age\": 291, \"Victim_Race\": 291, \"Victim_Ethnicity\": 291, \"Perpetrator_Age\": 291, \"Perpetrator_Ethnicity\": 291, \"Relationship\": 291, \"Weapon\": 291, \"Victim_Count\": 291, \"Perpetrator_Count\": 291, \"Record_Source\": 291, \"State_Code\": 291, \"id\": 36}, {\"Perpetrator_Sex\": \"Male\", \"State\": \"North Carolina\", \"Perpetrator_Race\": \"Black\", \"Record_ID\": 160, \"Agency_Code\": 160, \"Agency_Name\": 160, \"Agency_Type\": 160, \"City\": 160, \"Year\": 160, \"Month\": 160, \"Incident\": 160, \"Crime_Type\": 160, \"Crime_Solved\": 160, \"Victim_Sex\": 160, \"Victim_Age\": 160, \"Victim_Race\": 160, \"Victim_Ethnicity\": 160, \"Perpetrator_Age\": 160, \"Perpetrator_Ethnicity\": 160, \"Relationship\": 160, \"Weapon\": 160, \"Victim_Count\": 160, \"Perpetrator_Count\": 160, \"Record_Source\": 160, \"State_Code\": 160, \"id\": 37}, {\"Perpetrator_Sex\": \"Male\", \"State\": \"Ohio\", \"Perpetrator_Race\": \"Black\", \"Record_ID\": 210, \"Agency_Code\": 210, \"Agency_Name\": 210, \"Agency_Type\": 210, \"City\": 210, \"Year\": 210, \"Month\": 210, \"Incident\": 210, \"Crime_Type\": 210, \"Crime_Solved\": 210, \"Victim_Sex\": 210, \"Victim_Age\": 210, \"Victim_Race\": 210, \"Victim_Ethnicity\": 210, \"Perpetrator_Age\": 210, \"Perpetrator_Ethnicity\": 210, \"Relationship\": 210, \"Weapon\": 210, \"Victim_Count\": 210, \"Perpetrator_Count\": 210, \"Record_Source\": 210, \"State_Code\": 210, \"id\": 39}, {\"Perpetrator_Sex\": \"Male\", \"State\": \"Oklahoma\", \"Perpetrator_Race\": \"Black\", \"Record_ID\": 71, \"Agency_Code\": 71, \"Agency_Name\": 71, \"Agency_Type\": 71, \"City\": 71, \"Year\": 71, \"Month\": 71, \"Incident\": 71, \"Crime_Type\": 71, \"Crime_Solved\": 71, \"Victim_Sex\": 71, \"Victim_Age\": 71, \"Victim_Race\": 71, \"Victim_Ethnicity\": 71, \"Perpetrator_Age\": 71, \"Perpetrator_Ethnicity\": 71, \"Relationship\": 71, \"Weapon\": 71, \"Victim_Count\": 71, \"Perpetrator_Count\": 71, \"Record_Source\": 71, \"State_Code\": 71, \"id\": 40}, {\"Perpetrator_Sex\": \"Male\", \"State\": \"Oregon\", \"Perpetrator_Race\": \"Black\", \"Record_ID\": 8, \"Agency_Code\": 8, \"Agency_Name\": 8, \"Agency_Type\": 8, \"City\": 8, \"Year\": 8, \"Month\": 8, \"Incident\": 8, \"Crime_Type\": 8, \"Crime_Solved\": 8, \"Victim_Sex\": 8, \"Victim_Age\": 8, \"Victim_Race\": 8, \"Victim_Ethnicity\": 8, \"Perpetrator_Age\": 8, \"Perpetrator_Ethnicity\": 8, \"Relationship\": 8, \"Weapon\": 8, \"Victim_Count\": 8, \"Perpetrator_Count\": 8, \"Record_Source\": 8, \"State_Code\": 8, \"id\": 41}, {\"Perpetrator_Sex\": \"Male\", \"State\": \"Pennsylvania\", \"Perpetrator_Race\": \"Black\", \"Record_ID\": 327, \"Agency_Code\": 327, \"Agency_Name\": 327, \"Agency_Type\": 327, \"City\": 327, \"Year\": 327, \"Month\": 327, \"Incident\": 327, \"Crime_Type\": 327, \"Crime_Solved\": 327, \"Victim_Sex\": 327, \"Victim_Age\": 327, \"Victim_Race\": 327, \"Victim_Ethnicity\": 327, \"Perpetrator_Age\": 327, \"Perpetrator_Ethnicity\": 327, \"Relationship\": 327, \"Weapon\": 327, \"Victim_Count\": 327, \"Perpetrator_Count\": 327, \"Record_Source\": 327, \"State_Code\": 327, \"id\": 42}, {\"Perpetrator_Sex\": \"Male\", \"State\": \"Rhodes Island\", \"Perpetrator_Race\": \"Black\", \"Record_ID\": 3, \"Agency_Code\": 3, \"Agency_Name\": 3, \"Agency_Type\": 3, \"City\": 3, \"Year\": 3, \"Month\": 3, \"Incident\": 3, \"Crime_Type\": 3, \"Crime_Solved\": 3, \"Victim_Sex\": 3, \"Victim_Age\": 3, \"Victim_Race\": 3, \"Victim_Ethnicity\": 3, \"Perpetrator_Age\": 3, \"Perpetrator_Ethnicity\": 3, \"Relationship\": 3, \"Weapon\": 3, \"Victim_Count\": 3, \"Perpetrator_Count\": 3, \"Record_Source\": 3, \"State_Code\": 3, \"id\": \"Rhodes Island\"}, {\"Perpetrator_Sex\": \"Male\", \"State\": \"South Carolina\", \"Perpetrator_Race\": \"Black\", \"Record_ID\": 141, \"Agency_Code\": 141, \"Agency_Name\": 141, \"Agency_Type\": 141, \"City\": 141, \"Year\": 141, \"Month\": 141, \"Incident\": 141, \"Crime_Type\": 141, \"Crime_Solved\": 141, \"Victim_Sex\": 141, \"Victim_Age\": 141, \"Victim_Race\": 141, \"Victim_Ethnicity\": 141, \"Perpetrator_Age\": 141, \"Perpetrator_Ethnicity\": 141, \"Relationship\": 141, \"Weapon\": 141, \"Victim_Count\": 141, \"Perpetrator_Count\": 141, \"Record_Source\": 141, \"State_Code\": 141, \"id\": 45}, {\"Perpetrator_Sex\": \"Male\", \"State\": \"Tennessee\", \"Perpetrator_Race\": \"Black\", \"Record_ID\": 158, \"Agency_Code\": 158, \"Agency_Name\": 158, \"Agency_Type\": 158, \"City\": 158, \"Year\": 158, \"Month\": 158, \"Incident\": 158, \"Crime_Type\": 158, \"Crime_Solved\": 158, \"Victim_Sex\": 158, \"Victim_Age\": 158, \"Victim_Race\": 158, \"Victim_Ethnicity\": 158, \"Perpetrator_Age\": 158, \"Perpetrator_Ethnicity\": 158, \"Relationship\": 158, \"Weapon\": 158, \"Victim_Count\": 158, \"Perpetrator_Count\": 158, \"Record_Source\": 158, \"State_Code\": 158, \"id\": 47}, {\"Perpetrator_Sex\": \"Male\", \"State\": \"Texas\", \"Perpetrator_Race\": \"Black\", \"Record_ID\": 352, \"Agency_Code\": 352, \"Agency_Name\": 352, \"Agency_Type\": 352, \"City\": 352, \"Year\": 352, \"Month\": 352, \"Incident\": 352, \"Crime_Type\": 352, \"Crime_Solved\": 352, \"Victim_Sex\": 352, \"Victim_Age\": 352, \"Victim_Race\": 352, \"Victim_Ethnicity\": 352, \"Perpetrator_Age\": 352, \"Perpetrator_Ethnicity\": 352, \"Relationship\": 352, \"Weapon\": 352, \"Victim_Count\": 352, \"Perpetrator_Count\": 352, \"Record_Source\": 352, \"State_Code\": 352, \"id\": 48}, {\"Perpetrator_Sex\": \"Male\", \"State\": \"Utah\", \"Perpetrator_Race\": \"Black\", \"Record_ID\": 3, \"Agency_Code\": 3, \"Agency_Name\": 3, \"Agency_Type\": 3, \"City\": 3, \"Year\": 3, \"Month\": 3, \"Incident\": 3, \"Crime_Type\": 3, \"Crime_Solved\": 3, \"Victim_Sex\": 3, \"Victim_Age\": 3, \"Victim_Race\": 3, \"Victim_Ethnicity\": 3, \"Perpetrator_Age\": 3, \"Perpetrator_Ethnicity\": 3, \"Relationship\": 3, \"Weapon\": 3, \"Victim_Count\": 3, \"Perpetrator_Count\": 3, \"Record_Source\": 3, \"State_Code\": 3, \"id\": 49}, {\"Perpetrator_Sex\": \"Male\", \"State\": \"Virginia\", \"Perpetrator_Race\": \"Black\", \"Record_ID\": 156, \"Agency_Code\": 156, \"Agency_Name\": 156, \"Agency_Type\": 156, \"City\": 156, \"Year\": 156, \"Month\": 156, \"Incident\": 156, \"Crime_Type\": 156, \"Crime_Solved\": 156, \"Victim_Sex\": 156, \"Victim_Age\": 156, \"Victim_Race\": 156, \"Victim_Ethnicity\": 156, \"Perpetrator_Age\": 156, \"Perpetrator_Ethnicity\": 156, \"Relationship\": 156, \"Weapon\": 156, \"Victim_Count\": 156, \"Perpetrator_Count\": 156, \"Record_Source\": 156, \"State_Code\": 156, \"id\": 51}, {\"Perpetrator_Sex\": \"Male\", \"State\": \"Washington\", \"Perpetrator_Race\": \"Black\", \"Record_ID\": 17, \"Agency_Code\": 17, \"Agency_Name\": 17, \"Agency_Type\": 17, \"City\": 17, \"Year\": 17, \"Month\": 17, \"Incident\": 17, \"Crime_Type\": 17, \"Crime_Solved\": 17, \"Victim_Sex\": 17, \"Victim_Age\": 17, \"Victim_Race\": 17, \"Victim_Ethnicity\": 17, \"Perpetrator_Age\": 17, \"Perpetrator_Ethnicity\": 17, \"Relationship\": 17, \"Weapon\": 17, \"Victim_Count\": 17, \"Perpetrator_Count\": 17, \"Record_Source\": 17, \"State_Code\": 17, \"id\": 53}, {\"Perpetrator_Sex\": \"Male\", \"State\": \"West Virginia\", \"Perpetrator_Race\": \"Black\", \"Record_ID\": 13, \"Agency_Code\": 13, \"Agency_Name\": 13, \"Agency_Type\": 13, \"City\": 13, \"Year\": 13, \"Month\": 13, \"Incident\": 13, \"Crime_Type\": 13, \"Crime_Solved\": 13, \"Victim_Sex\": 13, \"Victim_Age\": 13, \"Victim_Race\": 13, \"Victim_Ethnicity\": 13, \"Perpetrator_Age\": 13, \"Perpetrator_Ethnicity\": 13, \"Relationship\": 13, \"Weapon\": 13, \"Victim_Count\": 13, \"Perpetrator_Count\": 13, \"Record_Source\": 13, \"State_Code\": 13, \"id\": 54}, {\"Perpetrator_Sex\": \"Male\", \"State\": \"Wisconsin\", \"Perpetrator_Race\": \"Black\", \"Record_ID\": 69, \"Agency_Code\": 69, \"Agency_Name\": 69, \"Agency_Type\": 69, \"City\": 69, \"Year\": 69, \"Month\": 69, \"Incident\": 69, \"Crime_Type\": 69, \"Crime_Solved\": 69, \"Victim_Sex\": 69, \"Victim_Age\": 69, \"Victim_Race\": 69, \"Victim_Ethnicity\": 69, \"Perpetrator_Age\": 69, \"Perpetrator_Ethnicity\": 69, \"Relationship\": 69, \"Weapon\": 69, \"Victim_Count\": 69, \"Perpetrator_Count\": 69, \"Record_Source\": 69, \"State_Code\": 69, \"id\": 55}, {\"Perpetrator_Sex\": \"Unknown\", \"State\": \"Illinois\", \"Perpetrator_Race\": \"Black\", \"Record_ID\": 2, \"Agency_Code\": 2, \"Agency_Name\": 2, \"Agency_Type\": 2, \"City\": 2, \"Year\": 2, \"Month\": 2, \"Incident\": 2, \"Crime_Type\": 2, \"Crime_Solved\": 2, \"Victim_Sex\": 2, \"Victim_Age\": 2, \"Victim_Race\": 2, \"Victim_Ethnicity\": 2, \"Perpetrator_Age\": 2, \"Perpetrator_Ethnicity\": 2, \"Relationship\": 2, \"Weapon\": 2, \"Victim_Count\": 2, \"Perpetrator_Count\": 2, \"Record_Source\": 2, \"State_Code\": 2, \"id\": 17}, {\"Perpetrator_Sex\": \"Unknown\", \"State\": \"Ohio\", \"Perpetrator_Race\": \"Black\", \"Record_ID\": 1, \"Agency_Code\": 1, \"Agency_Name\": 1, \"Agency_Type\": 1, \"City\": 1, \"Year\": 1, \"Month\": 1, \"Incident\": 1, \"Crime_Type\": 1, \"Crime_Solved\": 1, \"Victim_Sex\": 1, \"Victim_Age\": 1, \"Victim_Race\": 1, \"Victim_Ethnicity\": 1, \"Perpetrator_Age\": 1, \"Perpetrator_Ethnicity\": 1, \"Relationship\": 1, \"Weapon\": 1, \"Victim_Count\": 1, \"Perpetrator_Count\": 1, \"Record_Source\": 1, \"State_Code\": 1, \"id\": 39}, {\"Perpetrator_Sex\": \"Unknown\", \"State\": \"Wisconsin\", \"Perpetrator_Race\": \"Black\", \"Record_ID\": 1, \"Agency_Code\": 1, \"Agency_Name\": 1, \"Agency_Type\": 1, \"City\": 1, \"Year\": 1, \"Month\": 1, \"Incident\": 1, \"Crime_Type\": 1, \"Crime_Solved\": 1, \"Victim_Sex\": 1, \"Victim_Age\": 1, \"Victim_Race\": 1, \"Victim_Ethnicity\": 1, \"Perpetrator_Age\": 1, \"Perpetrator_Ethnicity\": 1, \"Relationship\": 1, \"Weapon\": 1, \"Victim_Count\": 1, \"Perpetrator_Count\": 1, \"Record_Source\": 1, \"State_Code\": 1, \"id\": 55}, {\"Perpetrator_Sex\": \"Female\", \"State\": \"Alaska\", \"Perpetrator_Race\": \"Native American/Alaska Native\", \"Record_ID\": 2, \"Agency_Code\": 2, \"Agency_Name\": 2, \"Agency_Type\": 2, \"City\": 2, \"Year\": 2, \"Month\": 2, \"Incident\": 2, \"Crime_Type\": 2, \"Crime_Solved\": 2, \"Victim_Sex\": 2, \"Victim_Age\": 2, \"Victim_Race\": 2, \"Victim_Ethnicity\": 2, \"Perpetrator_Age\": 2, \"Perpetrator_Ethnicity\": 2, \"Relationship\": 2, \"Weapon\": 2, \"Victim_Count\": 2, \"Perpetrator_Count\": 2, \"Record_Source\": 2, \"State_Code\": 2, \"id\": 2}, {\"Perpetrator_Sex\": \"Female\", \"State\": \"Arizona\", \"Perpetrator_Race\": \"Native American/Alaska Native\", \"Record_ID\": 1, \"Agency_Code\": 1, \"Agency_Name\": 1, \"Agency_Type\": 1, \"City\": 1, \"Year\": 1, \"Month\": 1, \"Incident\": 1, \"Crime_Type\": 1, \"Crime_Solved\": 1, \"Victim_Sex\": 1, \"Victim_Age\": 1, \"Victim_Race\": 1, \"Victim_Ethnicity\": 1, \"Perpetrator_Age\": 1, \"Perpetrator_Ethnicity\": 1, \"Relationship\": 1, \"Weapon\": 1, \"Victim_Count\": 1, \"Perpetrator_Count\": 1, \"Record_Source\": 1, \"State_Code\": 1, \"id\": 4}, {\"Perpetrator_Sex\": \"Female\", \"State\": \"California\", \"Perpetrator_Race\": \"Native American/Alaska Native\", \"Record_ID\": 2, \"Agency_Code\": 2, \"Agency_Name\": 2, \"Agency_Type\": 2, \"City\": 2, \"Year\": 2, \"Month\": 2, \"Incident\": 2, \"Crime_Type\": 2, \"Crime_Solved\": 2, \"Victim_Sex\": 2, \"Victim_Age\": 2, \"Victim_Race\": 2, \"Victim_Ethnicity\": 2, \"Perpetrator_Age\": 2, \"Perpetrator_Ethnicity\": 2, \"Relationship\": 2, \"Weapon\": 2, \"Victim_Count\": 2, \"Perpetrator_Count\": 2, \"Record_Source\": 2, \"State_Code\": 2, \"id\": 6}, {\"Perpetrator_Sex\": \"Female\", \"State\": \"Kansas\", \"Perpetrator_Race\": \"Native American/Alaska Native\", \"Record_ID\": 1, \"Agency_Code\": 1, \"Agency_Name\": 1, \"Agency_Type\": 1, \"City\": 1, \"Year\": 1, \"Month\": 1, \"Incident\": 1, \"Crime_Type\": 1, \"Crime_Solved\": 1, \"Victim_Sex\": 1, \"Victim_Age\": 1, \"Victim_Race\": 1, \"Victim_Ethnicity\": 1, \"Perpetrator_Age\": 1, \"Perpetrator_Ethnicity\": 1, \"Relationship\": 1, \"Weapon\": 1, \"Victim_Count\": 1, \"Perpetrator_Count\": 1, \"Record_Source\": 1, \"State_Code\": 1, \"id\": 20}, {\"Perpetrator_Sex\": \"Female\", \"State\": \"Nebraska\", \"Perpetrator_Race\": \"Native American/Alaska Native\", \"Record_ID\": 1, \"Agency_Code\": 1, \"Agency_Name\": 1, \"Agency_Type\": 1, \"City\": 1, \"Year\": 1, \"Month\": 1, \"Incident\": 1, \"Crime_Type\": 1, \"Crime_Solved\": 1, \"Victim_Sex\": 1, \"Victim_Age\": 1, \"Victim_Race\": 1, \"Victim_Ethnicity\": 1, \"Perpetrator_Age\": 1, \"Perpetrator_Ethnicity\": 1, \"Relationship\": 1, \"Weapon\": 1, \"Victim_Count\": 1, \"Perpetrator_Count\": 1, \"Record_Source\": 1, \"State_Code\": 1, \"id\": 31}, {\"Perpetrator_Sex\": \"Female\", \"State\": \"Oregon\", \"Perpetrator_Race\": \"Native American/Alaska Native\", \"Record_ID\": 1, \"Agency_Code\": 1, \"Agency_Name\": 1, \"Agency_Type\": 1, \"City\": 1, \"Year\": 1, \"Month\": 1, \"Incident\": 1, \"Crime_Type\": 1, \"Crime_Solved\": 1, \"Victim_Sex\": 1, \"Victim_Age\": 1, \"Victim_Race\": 1, \"Victim_Ethnicity\": 1, \"Perpetrator_Age\": 1, \"Perpetrator_Ethnicity\": 1, \"Relationship\": 1, \"Weapon\": 1, \"Victim_Count\": 1, \"Perpetrator_Count\": 1, \"Record_Source\": 1, \"State_Code\": 1, \"id\": 41}, {\"Perpetrator_Sex\": \"Female\", \"State\": \"Washington\", \"Perpetrator_Race\": \"Native American/Alaska Native\", \"Record_ID\": 1, \"Agency_Code\": 1, \"Agency_Name\": 1, \"Agency_Type\": 1, \"City\": 1, \"Year\": 1, \"Month\": 1, \"Incident\": 1, \"Crime_Type\": 1, \"Crime_Solved\": 1, \"Victim_Sex\": 1, \"Victim_Age\": 1, \"Victim_Race\": 1, \"Victim_Ethnicity\": 1, \"Perpetrator_Age\": 1, \"Perpetrator_Ethnicity\": 1, \"Relationship\": 1, \"Weapon\": 1, \"Victim_Count\": 1, \"Perpetrator_Count\": 1, \"Record_Source\": 1, \"State_Code\": 1, \"id\": 53}, {\"Perpetrator_Sex\": \"Female\", \"State\": \"Wyoming\", \"Perpetrator_Race\": \"Native American/Alaska Native\", \"Record_ID\": 1, \"Agency_Code\": 1, \"Agency_Name\": 1, \"Agency_Type\": 1, \"City\": 1, \"Year\": 1, \"Month\": 1, \"Incident\": 1, \"Crime_Type\": 1, \"Crime_Solved\": 1, \"Victim_Sex\": 1, \"Victim_Age\": 1, \"Victim_Race\": 1, \"Victim_Ethnicity\": 1, \"Perpetrator_Age\": 1, \"Perpetrator_Ethnicity\": 1, \"Relationship\": 1, \"Weapon\": 1, \"Victim_Count\": 1, \"Perpetrator_Count\": 1, \"Record_Source\": 1, \"State_Code\": 1, \"id\": 56}, {\"Perpetrator_Sex\": \"Male\", \"State\": \"Alabama\", \"Perpetrator_Race\": \"Native American/Alaska Native\", \"Record_ID\": 1, \"Agency_Code\": 1, \"Agency_Name\": 1, \"Agency_Type\": 1, \"City\": 1, \"Year\": 1, \"Month\": 1, \"Incident\": 1, \"Crime_Type\": 1, \"Crime_Solved\": 1, \"Victim_Sex\": 1, \"Victim_Age\": 1, \"Victim_Race\": 1, \"Victim_Ethnicity\": 1, \"Perpetrator_Age\": 1, \"Perpetrator_Ethnicity\": 1, \"Relationship\": 1, \"Weapon\": 1, \"Victim_Count\": 1, \"Perpetrator_Count\": 1, \"Record_Source\": 1, \"State_Code\": 1, \"id\": 1}, {\"Perpetrator_Sex\": \"Male\", \"State\": \"Alaska\", \"Perpetrator_Race\": \"Native American/Alaska Native\", \"Record_ID\": 9, \"Agency_Code\": 9, \"Agency_Name\": 9, \"Agency_Type\": 9, \"City\": 9, \"Year\": 9, \"Month\": 9, \"Incident\": 9, \"Crime_Type\": 9, \"Crime_Solved\": 9, \"Victim_Sex\": 9, \"Victim_Age\": 9, \"Victim_Race\": 9, \"Victim_Ethnicity\": 9, \"Perpetrator_Age\": 9, \"Perpetrator_Ethnicity\": 9, \"Relationship\": 9, \"Weapon\": 9, \"Victim_Count\": 9, \"Perpetrator_Count\": 9, \"Record_Source\": 9, \"State_Code\": 9, \"id\": 2}, {\"Perpetrator_Sex\": \"Male\", \"State\": \"Arizona\", \"Perpetrator_Race\": \"Native American/Alaska Native\", \"Record_ID\": 6, \"Agency_Code\": 6, \"Agency_Name\": 6, \"Agency_Type\": 6, \"City\": 6, \"Year\": 6, \"Month\": 6, \"Incident\": 6, \"Crime_Type\": 6, \"Crime_Solved\": 6, \"Victim_Sex\": 6, \"Victim_Age\": 6, \"Victim_Race\": 6, \"Victim_Ethnicity\": 6, \"Perpetrator_Age\": 6, \"Perpetrator_Ethnicity\": 6, \"Relationship\": 6, \"Weapon\": 6, \"Victim_Count\": 6, \"Perpetrator_Count\": 6, \"Record_Source\": 6, \"State_Code\": 6, \"id\": 4}, {\"Perpetrator_Sex\": \"Male\", \"State\": \"California\", \"Perpetrator_Race\": \"Native American/Alaska Native\", \"Record_ID\": 8, \"Agency_Code\": 8, \"Agency_Name\": 8, \"Agency_Type\": 8, \"City\": 8, \"Year\": 8, \"Month\": 8, \"Incident\": 8, \"Crime_Type\": 8, \"Crime_Solved\": 8, \"Victim_Sex\": 8, \"Victim_Age\": 8, \"Victim_Race\": 8, \"Victim_Ethnicity\": 8, \"Perpetrator_Age\": 8, \"Perpetrator_Ethnicity\": 8, \"Relationship\": 8, \"Weapon\": 8, \"Victim_Count\": 8, \"Perpetrator_Count\": 8, \"Record_Source\": 8, \"State_Code\": 8, \"id\": 6}, {\"Perpetrator_Sex\": \"Male\", \"State\": \"Florida\", \"Perpetrator_Race\": \"Native American/Alaska Native\", \"Record_ID\": 1, \"Agency_Code\": 1, \"Agency_Name\": 1, \"Agency_Type\": 1, \"City\": 1, \"Year\": 1, \"Month\": 1, \"Incident\": 1, \"Crime_Type\": 1, \"Crime_Solved\": 1, \"Victim_Sex\": 1, \"Victim_Age\": 1, \"Victim_Race\": 1, \"Victim_Ethnicity\": 1, \"Perpetrator_Age\": 1, \"Perpetrator_Ethnicity\": 1, \"Relationship\": 1, \"Weapon\": 1, \"Victim_Count\": 1, \"Perpetrator_Count\": 1, \"Record_Source\": 1, \"State_Code\": 1, \"id\": 12}, {\"Perpetrator_Sex\": \"Male\", \"State\": \"Iowa\", \"Perpetrator_Race\": \"Native American/Alaska Native\", \"Record_ID\": 2, \"Agency_Code\": 2, \"Agency_Name\": 2, \"Agency_Type\": 2, \"City\": 2, \"Year\": 2, \"Month\": 2, \"Incident\": 2, \"Crime_Type\": 2, \"Crime_Solved\": 2, \"Victim_Sex\": 2, \"Victim_Age\": 2, \"Victim_Race\": 2, \"Victim_Ethnicity\": 2, \"Perpetrator_Age\": 2, \"Perpetrator_Ethnicity\": 2, \"Relationship\": 2, \"Weapon\": 2, \"Victim_Count\": 2, \"Perpetrator_Count\": 2, \"Record_Source\": 2, \"State_Code\": 2, \"id\": 19}, {\"Perpetrator_Sex\": \"Male\", \"State\": \"Minnesota\", \"Perpetrator_Race\": \"Native American/Alaska Native\", \"Record_ID\": 5, \"Agency_Code\": 5, \"Agency_Name\": 5, \"Agency_Type\": 5, \"City\": 5, \"Year\": 5, \"Month\": 5, \"Incident\": 5, \"Crime_Type\": 5, \"Crime_Solved\": 5, \"Victim_Sex\": 5, \"Victim_Age\": 5, \"Victim_Race\": 5, \"Victim_Ethnicity\": 5, \"Perpetrator_Age\": 5, \"Perpetrator_Ethnicity\": 5, \"Relationship\": 5, \"Weapon\": 5, \"Victim_Count\": 5, \"Perpetrator_Count\": 5, \"Record_Source\": 5, \"State_Code\": 5, \"id\": 27}, {\"Perpetrator_Sex\": \"Male\", \"State\": \"Montana\", \"Perpetrator_Race\": \"Native American/Alaska Native\", \"Record_ID\": 2, \"Agency_Code\": 2, \"Agency_Name\": 2, \"Agency_Type\": 2, \"City\": 2, \"Year\": 2, \"Month\": 2, \"Incident\": 2, \"Crime_Type\": 2, \"Crime_Solved\": 2, \"Victim_Sex\": 2, \"Victim_Age\": 2, \"Victim_Race\": 2, \"Victim_Ethnicity\": 2, \"Perpetrator_Age\": 2, \"Perpetrator_Ethnicity\": 2, \"Relationship\": 2, \"Weapon\": 2, \"Victim_Count\": 2, \"Perpetrator_Count\": 2, \"Record_Source\": 2, \"State_Code\": 2, \"id\": 30}, {\"Perpetrator_Sex\": \"Male\", \"State\": \"Nebraska\", \"Perpetrator_Race\": \"Native American/Alaska Native\", \"Record_ID\": 2, \"Agency_Code\": 2, \"Agency_Name\": 2, \"Agency_Type\": 2, \"City\": 2, \"Year\": 2, \"Month\": 2, \"Incident\": 2, \"Crime_Type\": 2, \"Crime_Solved\": 2, \"Victim_Sex\": 2, \"Victim_Age\": 2, \"Victim_Race\": 2, \"Victim_Ethnicity\": 2, \"Perpetrator_Age\": 2, \"Perpetrator_Ethnicity\": 2, \"Relationship\": 2, \"Weapon\": 2, \"Victim_Count\": 2, \"Perpetrator_Count\": 2, \"Record_Source\": 2, \"State_Code\": 2, \"id\": 31}, {\"Perpetrator_Sex\": \"Male\", \"State\": \"New Mexico\", \"Perpetrator_Race\": \"Native American/Alaska Native\", \"Record_ID\": 7, \"Agency_Code\": 7, \"Agency_Name\": 7, \"Agency_Type\": 7, \"City\": 7, \"Year\": 7, \"Month\": 7, \"Incident\": 7, \"Crime_Type\": 7, \"Crime_Solved\": 7, \"Victim_Sex\": 7, \"Victim_Age\": 7, \"Victim_Race\": 7, \"Victim_Ethnicity\": 7, \"Perpetrator_Age\": 7, \"Perpetrator_Ethnicity\": 7, \"Relationship\": 7, \"Weapon\": 7, \"Victim_Count\": 7, \"Perpetrator_Count\": 7, \"Record_Source\": 7, \"State_Code\": 7, \"id\": 35}, {\"Perpetrator_Sex\": \"Male\", \"State\": \"North Carolina\", \"Perpetrator_Race\": \"Native American/Alaska Native\", \"Record_ID\": 5, \"Agency_Code\": 5, \"Agency_Name\": 5, \"Agency_Type\": 5, \"City\": 5, \"Year\": 5, \"Month\": 5, \"Incident\": 5, \"Crime_Type\": 5, \"Crime_Solved\": 5, \"Victim_Sex\": 5, \"Victim_Age\": 5, \"Victim_Race\": 5, \"Victim_Ethnicity\": 5, \"Perpetrator_Age\": 5, \"Perpetrator_Ethnicity\": 5, \"Relationship\": 5, \"Weapon\": 5, \"Victim_Count\": 5, \"Perpetrator_Count\": 5, \"Record_Source\": 5, \"State_Code\": 5, \"id\": 37}, {\"Perpetrator_Sex\": \"Male\", \"State\": \"Oklahoma\", \"Perpetrator_Race\": \"Native American/Alaska Native\", \"Record_ID\": 9, \"Agency_Code\": 9, \"Agency_Name\": 9, \"Agency_Type\": 9, \"City\": 9, \"Year\": 9, \"Month\": 9, \"Incident\": 9, \"Crime_Type\": 9, \"Crime_Solved\": 9, \"Victim_Sex\": 9, \"Victim_Age\": 9, \"Victim_Race\": 9, \"Victim_Ethnicity\": 9, \"Perpetrator_Age\": 9, \"Perpetrator_Ethnicity\": 9, \"Relationship\": 9, \"Weapon\": 9, \"Victim_Count\": 9, \"Perpetrator_Count\": 9, \"Record_Source\": 9, \"State_Code\": 9, \"id\": 40}, {\"Perpetrator_Sex\": \"Male\", \"State\": \"Oregon\", \"Perpetrator_Race\": \"Native American/Alaska Native\", \"Record_ID\": 2, \"Agency_Code\": 2, \"Agency_Name\": 2, \"Agency_Type\": 2, \"City\": 2, \"Year\": 2, \"Month\": 2, \"Incident\": 2, \"Crime_Type\": 2, \"Crime_Solved\": 2, \"Victim_Sex\": 2, \"Victim_Age\": 2, \"Victim_Race\": 2, \"Victim_Ethnicity\": 2, \"Perpetrator_Age\": 2, \"Perpetrator_Ethnicity\": 2, \"Relationship\": 2, \"Weapon\": 2, \"Victim_Count\": 2, \"Perpetrator_Count\": 2, \"Record_Source\": 2, \"State_Code\": 2, \"id\": 41}, {\"Perpetrator_Sex\": \"Male\", \"State\": \"South Dakota\", \"Perpetrator_Race\": \"Native American/Alaska Native\", \"Record_ID\": 5, \"Agency_Code\": 5, \"Agency_Name\": 5, \"Agency_Type\": 5, \"City\": 5, \"Year\": 5, \"Month\": 5, \"Incident\": 5, \"Crime_Type\": 5, \"Crime_Solved\": 5, \"Victim_Sex\": 5, \"Victim_Age\": 5, \"Victim_Race\": 5, \"Victim_Ethnicity\": 5, \"Perpetrator_Age\": 5, \"Perpetrator_Ethnicity\": 5, \"Relationship\": 5, \"Weapon\": 5, \"Victim_Count\": 5, \"Perpetrator_Count\": 5, \"Record_Source\": 5, \"State_Code\": 5, \"id\": 46}, {\"Perpetrator_Sex\": \"Male\", \"State\": \"Utah\", \"Perpetrator_Race\": \"Native American/Alaska Native\", \"Record_ID\": 2, \"Agency_Code\": 2, \"Agency_Name\": 2, \"Agency_Type\": 2, \"City\": 2, \"Year\": 2, \"Month\": 2, \"Incident\": 2, \"Crime_Type\": 2, \"Crime_Solved\": 2, \"Victim_Sex\": 2, \"Victim_Age\": 2, \"Victim_Race\": 2, \"Victim_Ethnicity\": 2, \"Perpetrator_Age\": 2, \"Perpetrator_Ethnicity\": 2, \"Relationship\": 2, \"Weapon\": 2, \"Victim_Count\": 2, \"Perpetrator_Count\": 2, \"Record_Source\": 2, \"State_Code\": 2, \"id\": 49}, {\"Perpetrator_Sex\": \"Male\", \"State\": \"Washington\", \"Perpetrator_Race\": \"Native American/Alaska Native\", \"Record_ID\": 1, \"Agency_Code\": 1, \"Agency_Name\": 1, \"Agency_Type\": 1, \"City\": 1, \"Year\": 1, \"Month\": 1, \"Incident\": 1, \"Crime_Type\": 1, \"Crime_Solved\": 1, \"Victim_Sex\": 1, \"Victim_Age\": 1, \"Victim_Race\": 1, \"Victim_Ethnicity\": 1, \"Perpetrator_Age\": 1, \"Perpetrator_Ethnicity\": 1, \"Relationship\": 1, \"Weapon\": 1, \"Victim_Count\": 1, \"Perpetrator_Count\": 1, \"Record_Source\": 1, \"State_Code\": 1, \"id\": 53}, {\"Perpetrator_Sex\": \"Male\", \"State\": \"Wisconsin\", \"Perpetrator_Race\": \"Native American/Alaska Native\", \"Record_ID\": 6, \"Agency_Code\": 6, \"Agency_Name\": 6, \"Agency_Type\": 6, \"City\": 6, \"Year\": 6, \"Month\": 6, \"Incident\": 6, \"Crime_Type\": 6, \"Crime_Solved\": 6, \"Victim_Sex\": 6, \"Victim_Age\": 6, \"Victim_Race\": 6, \"Victim_Ethnicity\": 6, \"Perpetrator_Age\": 6, \"Perpetrator_Ethnicity\": 6, \"Relationship\": 6, \"Weapon\": 6, \"Victim_Count\": 6, \"Perpetrator_Count\": 6, \"Record_Source\": 6, \"State_Code\": 6, \"id\": 55}, {\"Perpetrator_Sex\": \"Male\", \"State\": \"Wyoming\", \"Perpetrator_Race\": \"Native American/Alaska Native\", \"Record_ID\": 1, \"Agency_Code\": 1, \"Agency_Name\": 1, \"Agency_Type\": 1, \"City\": 1, \"Year\": 1, \"Month\": 1, \"Incident\": 1, \"Crime_Type\": 1, \"Crime_Solved\": 1, \"Victim_Sex\": 1, \"Victim_Age\": 1, \"Victim_Race\": 1, \"Victim_Ethnicity\": 1, \"Perpetrator_Age\": 1, \"Perpetrator_Ethnicity\": 1, \"Relationship\": 1, \"Weapon\": 1, \"Victim_Count\": 1, \"Perpetrator_Count\": 1, \"Record_Source\": 1, \"State_Code\": 1, \"id\": 56}, {\"Perpetrator_Sex\": \"Female\", \"State\": \"Arizona\", \"Perpetrator_Race\": \"Unknown\", \"Record_ID\": 1, \"Agency_Code\": 1, \"Agency_Name\": 1, \"Agency_Type\": 1, \"City\": 1, \"Year\": 1, \"Month\": 1, \"Incident\": 1, \"Crime_Type\": 1, \"Crime_Solved\": 1, \"Victim_Sex\": 1, \"Victim_Age\": 1, \"Victim_Race\": 1, \"Victim_Ethnicity\": 1, \"Perpetrator_Age\": 1, \"Perpetrator_Ethnicity\": 1, \"Relationship\": 1, \"Weapon\": 1, \"Victim_Count\": 1, \"Perpetrator_Count\": 1, \"Record_Source\": 1, \"State_Code\": 1, \"id\": 4}, {\"Perpetrator_Sex\": \"Female\", \"State\": \"California\", \"Perpetrator_Race\": \"Unknown\", \"Record_ID\": 1, \"Agency_Code\": 1, \"Agency_Name\": 1, \"Agency_Type\": 1, \"City\": 1, \"Year\": 1, \"Month\": 1, \"Incident\": 1, \"Crime_Type\": 1, \"Crime_Solved\": 1, \"Victim_Sex\": 1, \"Victim_Age\": 1, \"Victim_Race\": 1, \"Victim_Ethnicity\": 1, \"Perpetrator_Age\": 1, \"Perpetrator_Ethnicity\": 1, \"Relationship\": 1, \"Weapon\": 1, \"Victim_Count\": 1, \"Perpetrator_Count\": 1, \"Record_Source\": 1, \"State_Code\": 1, \"id\": 6}, {\"Perpetrator_Sex\": \"Female\", \"State\": \"Indiana\", \"Perpetrator_Race\": \"Unknown\", \"Record_ID\": 1, \"Agency_Code\": 1, \"Agency_Name\": 1, \"Agency_Type\": 1, \"City\": 1, \"Year\": 1, \"Month\": 1, \"Incident\": 1, \"Crime_Type\": 1, \"Crime_Solved\": 1, \"Victim_Sex\": 1, \"Victim_Age\": 1, \"Victim_Race\": 1, \"Victim_Ethnicity\": 1, \"Perpetrator_Age\": 1, \"Perpetrator_Ethnicity\": 1, \"Relationship\": 1, \"Weapon\": 1, \"Victim_Count\": 1, \"Perpetrator_Count\": 1, \"Record_Source\": 1, \"State_Code\": 1, \"id\": 18}, {\"Perpetrator_Sex\": \"Female\", \"State\": \"New Mexico\", \"Perpetrator_Race\": \"Unknown\", \"Record_ID\": 1, \"Agency_Code\": 1, \"Agency_Name\": 1, \"Agency_Type\": 1, \"City\": 1, \"Year\": 1, \"Month\": 1, \"Incident\": 1, \"Crime_Type\": 1, \"Crime_Solved\": 1, \"Victim_Sex\": 1, \"Victim_Age\": 1, \"Victim_Race\": 1, \"Victim_Ethnicity\": 1, \"Perpetrator_Age\": 1, \"Perpetrator_Ethnicity\": 1, \"Relationship\": 1, \"Weapon\": 1, \"Victim_Count\": 1, \"Perpetrator_Count\": 1, \"Record_Source\": 1, \"State_Code\": 1, \"id\": 35}, {\"Perpetrator_Sex\": \"Female\", \"State\": \"New York\", \"Perpetrator_Race\": \"Unknown\", \"Record_ID\": 1, \"Agency_Code\": 1, \"Agency_Name\": 1, \"Agency_Type\": 1, \"City\": 1, \"Year\": 1, \"Month\": 1, \"Incident\": 1, \"Crime_Type\": 1, \"Crime_Solved\": 1, \"Victim_Sex\": 1, \"Victim_Age\": 1, \"Victim_Race\": 1, \"Victim_Ethnicity\": 1, \"Perpetrator_Age\": 1, \"Perpetrator_Ethnicity\": 1, \"Relationship\": 1, \"Weapon\": 1, \"Victim_Count\": 1, \"Perpetrator_Count\": 1, \"Record_Source\": 1, \"State_Code\": 1, \"id\": 36}, {\"Perpetrator_Sex\": \"Female\", \"State\": \"Ohio\", \"Perpetrator_Race\": \"Unknown\", \"Record_ID\": 1, \"Agency_Code\": 1, \"Agency_Name\": 1, \"Agency_Type\": 1, \"City\": 1, \"Year\": 1, \"Month\": 1, \"Incident\": 1, \"Crime_Type\": 1, \"Crime_Solved\": 1, \"Victim_Sex\": 1, \"Victim_Age\": 1, \"Victim_Race\": 1, \"Victim_Ethnicity\": 1, \"Perpetrator_Age\": 1, \"Perpetrator_Ethnicity\": 1, \"Relationship\": 1, \"Weapon\": 1, \"Victim_Count\": 1, \"Perpetrator_Count\": 1, \"Record_Source\": 1, \"State_Code\": 1, \"id\": 39}, {\"Perpetrator_Sex\": \"Female\", \"State\": \"Oregon\", \"Perpetrator_Race\": \"Unknown\", \"Record_ID\": 3, \"Agency_Code\": 3, \"Agency_Name\": 3, \"Agency_Type\": 3, \"City\": 3, \"Year\": 3, \"Month\": 3, \"Incident\": 3, \"Crime_Type\": 3, \"Crime_Solved\": 3, \"Victim_Sex\": 3, \"Victim_Age\": 3, \"Victim_Race\": 3, \"Victim_Ethnicity\": 3, \"Perpetrator_Age\": 3, \"Perpetrator_Ethnicity\": 3, \"Relationship\": 3, \"Weapon\": 3, \"Victim_Count\": 3, \"Perpetrator_Count\": 3, \"Record_Source\": 3, \"State_Code\": 3, \"id\": 41}, {\"Perpetrator_Sex\": \"Female\", \"State\": \"Rhodes Island\", \"Perpetrator_Race\": \"Unknown\", \"Record_ID\": 1, \"Agency_Code\": 1, \"Agency_Name\": 1, \"Agency_Type\": 1, \"City\": 1, \"Year\": 1, \"Month\": 1, \"Incident\": 1, \"Crime_Type\": 1, \"Crime_Solved\": 1, \"Victim_Sex\": 1, \"Victim_Age\": 1, \"Victim_Race\": 1, \"Victim_Ethnicity\": 1, \"Perpetrator_Age\": 1, \"Perpetrator_Ethnicity\": 1, \"Relationship\": 1, \"Weapon\": 1, \"Victim_Count\": 1, \"Perpetrator_Count\": 1, \"Record_Source\": 1, \"State_Code\": 1, \"id\": \"Rhodes Island\"}, {\"Perpetrator_Sex\": \"Male\", \"State\": \"Alabama\", \"Perpetrator_Race\": \"Unknown\", \"Record_ID\": 6, \"Agency_Code\": 6, \"Agency_Name\": 6, \"Agency_Type\": 6, \"City\": 6, \"Year\": 6, \"Month\": 6, \"Incident\": 6, \"Crime_Type\": 6, \"Crime_Solved\": 6, \"Victim_Sex\": 6, \"Victim_Age\": 6, \"Victim_Race\": 6, \"Victim_Ethnicity\": 6, \"Perpetrator_Age\": 6, \"Perpetrator_Ethnicity\": 6, \"Relationship\": 6, \"Weapon\": 6, \"Victim_Count\": 6, \"Perpetrator_Count\": 6, \"Record_Source\": 6, \"State_Code\": 6, \"id\": 1}, {\"Perpetrator_Sex\": \"Male\", \"State\": \"Arizona\", \"Perpetrator_Race\": \"Unknown\", \"Record_ID\": 14, \"Agency_Code\": 14, \"Agency_Name\": 14, \"Agency_Type\": 14, \"City\": 14, \"Year\": 14, \"Month\": 14, \"Incident\": 14, \"Crime_Type\": 14, \"Crime_Solved\": 14, \"Victim_Sex\": 14, \"Victim_Age\": 14, \"Victim_Race\": 14, \"Victim_Ethnicity\": 14, \"Perpetrator_Age\": 14, \"Perpetrator_Ethnicity\": 14, \"Relationship\": 14, \"Weapon\": 14, \"Victim_Count\": 14, \"Perpetrator_Count\": 14, \"Record_Source\": 14, \"State_Code\": 14, \"id\": 4}, {\"Perpetrator_Sex\": \"Male\", \"State\": \"Arkansas\", \"Perpetrator_Race\": \"Unknown\", \"Record_ID\": 3, \"Agency_Code\": 3, \"Agency_Name\": 3, \"Agency_Type\": 3, \"City\": 3, \"Year\": 3, \"Month\": 3, \"Incident\": 3, \"Crime_Type\": 3, \"Crime_Solved\": 3, \"Victim_Sex\": 3, \"Victim_Age\": 3, \"Victim_Race\": 3, \"Victim_Ethnicity\": 3, \"Perpetrator_Age\": 3, \"Perpetrator_Ethnicity\": 3, \"Relationship\": 3, \"Weapon\": 3, \"Victim_Count\": 3, \"Perpetrator_Count\": 3, \"Record_Source\": 3, \"State_Code\": 3, \"id\": 5}, {\"Perpetrator_Sex\": \"Male\", \"State\": \"California\", \"Perpetrator_Race\": \"Unknown\", \"Record_ID\": 24, \"Agency_Code\": 24, \"Agency_Name\": 24, \"Agency_Type\": 24, \"City\": 24, \"Year\": 24, \"Month\": 24, \"Incident\": 24, \"Crime_Type\": 24, \"Crime_Solved\": 24, \"Victim_Sex\": 24, \"Victim_Age\": 24, \"Victim_Race\": 24, \"Victim_Ethnicity\": 24, \"Perpetrator_Age\": 24, \"Perpetrator_Ethnicity\": 24, \"Relationship\": 24, \"Weapon\": 24, \"Victim_Count\": 24, \"Perpetrator_Count\": 24, \"Record_Source\": 24, \"State_Code\": 24, \"id\": 6}, {\"Perpetrator_Sex\": \"Male\", \"State\": \"Colorado\", \"Perpetrator_Race\": \"Unknown\", \"Record_ID\": 3, \"Agency_Code\": 3, \"Agency_Name\": 3, \"Agency_Type\": 3, \"City\": 3, \"Year\": 3, \"Month\": 3, \"Incident\": 3, \"Crime_Type\": 3, \"Crime_Solved\": 3, \"Victim_Sex\": 3, \"Victim_Age\": 3, \"Victim_Race\": 3, \"Victim_Ethnicity\": 3, \"Perpetrator_Age\": 3, \"Perpetrator_Ethnicity\": 3, \"Relationship\": 3, \"Weapon\": 3, \"Victim_Count\": 3, \"Perpetrator_Count\": 3, \"Record_Source\": 3, \"State_Code\": 3, \"id\": 8}, {\"Perpetrator_Sex\": \"Male\", \"State\": \"Connecticut\", \"Perpetrator_Race\": \"Unknown\", \"Record_ID\": 2, \"Agency_Code\": 2, \"Agency_Name\": 2, \"Agency_Type\": 2, \"City\": 2, \"Year\": 2, \"Month\": 2, \"Incident\": 2, \"Crime_Type\": 2, \"Crime_Solved\": 2, \"Victim_Sex\": 2, \"Victim_Age\": 2, \"Victim_Race\": 2, \"Victim_Ethnicity\": 2, \"Perpetrator_Age\": 2, \"Perpetrator_Ethnicity\": 2, \"Relationship\": 2, \"Weapon\": 2, \"Victim_Count\": 2, \"Perpetrator_Count\": 2, \"Record_Source\": 2, \"State_Code\": 2, \"id\": 9}, {\"Perpetrator_Sex\": \"Male\", \"State\": \"Florida\", \"Perpetrator_Race\": \"Unknown\", \"Record_ID\": 6, \"Agency_Code\": 6, \"Agency_Name\": 6, \"Agency_Type\": 6, \"City\": 6, \"Year\": 6, \"Month\": 6, \"Incident\": 6, \"Crime_Type\": 6, \"Crime_Solved\": 6, \"Victim_Sex\": 6, \"Victim_Age\": 6, \"Victim_Race\": 6, \"Victim_Ethnicity\": 6, \"Perpetrator_Age\": 6, \"Perpetrator_Ethnicity\": 6, \"Relationship\": 6, \"Weapon\": 6, \"Victim_Count\": 6, \"Perpetrator_Count\": 6, \"Record_Source\": 6, \"State_Code\": 6, \"id\": 12}, {\"Perpetrator_Sex\": \"Male\", \"State\": \"Georgia\", \"Perpetrator_Race\": \"Unknown\", \"Record_ID\": 1, \"Agency_Code\": 1, \"Agency_Name\": 1, \"Agency_Type\": 1, \"City\": 1, \"Year\": 1, \"Month\": 1, \"Incident\": 1, \"Crime_Type\": 1, \"Crime_Solved\": 1, \"Victim_Sex\": 1, \"Victim_Age\": 1, \"Victim_Race\": 1, \"Victim_Ethnicity\": 1, \"Perpetrator_Age\": 1, \"Perpetrator_Ethnicity\": 1, \"Relationship\": 1, \"Weapon\": 1, \"Victim_Count\": 1, \"Perpetrator_Count\": 1, \"Record_Source\": 1, \"State_Code\": 1, \"id\": 13}, {\"Perpetrator_Sex\": \"Male\", \"State\": \"Hawaii\", \"Perpetrator_Race\": \"Unknown\", \"Record_ID\": 1, \"Agency_Code\": 1, \"Agency_Name\": 1, \"Agency_Type\": 1, \"City\": 1, \"Year\": 1, \"Month\": 1, \"Incident\": 1, \"Crime_Type\": 1, \"Crime_Solved\": 1, \"Victim_Sex\": 1, \"Victim_Age\": 1, \"Victim_Race\": 1, \"Victim_Ethnicity\": 1, \"Perpetrator_Age\": 1, \"Perpetrator_Ethnicity\": 1, \"Relationship\": 1, \"Weapon\": 1, \"Victim_Count\": 1, \"Perpetrator_Count\": 1, \"Record_Source\": 1, \"State_Code\": 1, \"id\": 15}, {\"Perpetrator_Sex\": \"Male\", \"State\": \"Idaho\", \"Perpetrator_Race\": \"Unknown\", \"Record_ID\": 1, \"Agency_Code\": 1, \"Agency_Name\": 1, \"Agency_Type\": 1, \"City\": 1, \"Year\": 1, \"Month\": 1, \"Incident\": 1, \"Crime_Type\": 1, \"Crime_Solved\": 1, \"Victim_Sex\": 1, \"Victim_Age\": 1, \"Victim_Race\": 1, \"Victim_Ethnicity\": 1, \"Perpetrator_Age\": 1, \"Perpetrator_Ethnicity\": 1, \"Relationship\": 1, \"Weapon\": 1, \"Victim_Count\": 1, \"Perpetrator_Count\": 1, \"Record_Source\": 1, \"State_Code\": 1, \"id\": 16}, {\"Perpetrator_Sex\": \"Male\", \"State\": \"Indiana\", \"Perpetrator_Race\": \"Unknown\", \"Record_ID\": 9, \"Agency_Code\": 9, \"Agency_Name\": 9, \"Agency_Type\": 9, \"City\": 9, \"Year\": 9, \"Month\": 9, \"Incident\": 9, \"Crime_Type\": 9, \"Crime_Solved\": 9, \"Victim_Sex\": 9, \"Victim_Age\": 9, \"Victim_Race\": 9, \"Victim_Ethnicity\": 9, \"Perpetrator_Age\": 9, \"Perpetrator_Ethnicity\": 9, \"Relationship\": 9, \"Weapon\": 9, \"Victim_Count\": 9, \"Perpetrator_Count\": 9, \"Record_Source\": 9, \"State_Code\": 9, \"id\": 18}, {\"Perpetrator_Sex\": \"Male\", \"State\": \"Iowa\", \"Perpetrator_Race\": \"Unknown\", \"Record_ID\": 1, \"Agency_Code\": 1, \"Agency_Name\": 1, \"Agency_Type\": 1, \"City\": 1, \"Year\": 1, \"Month\": 1, \"Incident\": 1, \"Crime_Type\": 1, \"Crime_Solved\": 1, \"Victim_Sex\": 1, \"Victim_Age\": 1, \"Victim_Race\": 1, \"Victim_Ethnicity\": 1, \"Perpetrator_Age\": 1, \"Perpetrator_Ethnicity\": 1, \"Relationship\": 1, \"Weapon\": 1, \"Victim_Count\": 1, \"Perpetrator_Count\": 1, \"Record_Source\": 1, \"State_Code\": 1, \"id\": 19}, {\"Perpetrator_Sex\": \"Male\", \"State\": \"Kansas\", \"Perpetrator_Race\": \"Unknown\", \"Record_ID\": 1, \"Agency_Code\": 1, \"Agency_Name\": 1, \"Agency_Type\": 1, \"City\": 1, \"Year\": 1, \"Month\": 1, \"Incident\": 1, \"Crime_Type\": 1, \"Crime_Solved\": 1, \"Victim_Sex\": 1, \"Victim_Age\": 1, \"Victim_Race\": 1, \"Victim_Ethnicity\": 1, \"Perpetrator_Age\": 1, \"Perpetrator_Ethnicity\": 1, \"Relationship\": 1, \"Weapon\": 1, \"Victim_Count\": 1, \"Perpetrator_Count\": 1, \"Record_Source\": 1, \"State_Code\": 1, \"id\": 20}, {\"Perpetrator_Sex\": \"Male\", \"State\": \"Louisiana\", \"Perpetrator_Race\": \"Unknown\", \"Record_ID\": 1, \"Agency_Code\": 1, \"Agency_Name\": 1, \"Agency_Type\": 1, \"City\": 1, \"Year\": 1, \"Month\": 1, \"Incident\": 1, \"Crime_Type\": 1, \"Crime_Solved\": 1, \"Victim_Sex\": 1, \"Victim_Age\": 1, \"Victim_Race\": 1, \"Victim_Ethnicity\": 1, \"Perpetrator_Age\": 1, \"Perpetrator_Ethnicity\": 1, \"Relationship\": 1, \"Weapon\": 1, \"Victim_Count\": 1, \"Perpetrator_Count\": 1, \"Record_Source\": 1, \"State_Code\": 1, \"id\": 22}, {\"Perpetrator_Sex\": \"Male\", \"State\": \"Maryland\", \"Perpetrator_Race\": \"Unknown\", \"Record_ID\": 2, \"Agency_Code\": 2, \"Agency_Name\": 2, \"Agency_Type\": 2, \"City\": 2, \"Year\": 2, \"Month\": 2, \"Incident\": 2, \"Crime_Type\": 2, \"Crime_Solved\": 2, \"Victim_Sex\": 2, \"Victim_Age\": 2, \"Victim_Race\": 2, \"Victim_Ethnicity\": 2, \"Perpetrator_Age\": 2, \"Perpetrator_Ethnicity\": 2, \"Relationship\": 2, \"Weapon\": 2, \"Victim_Count\": 2, \"Perpetrator_Count\": 2, \"Record_Source\": 2, \"State_Code\": 2, \"id\": 24}, {\"Perpetrator_Sex\": \"Male\", \"State\": \"Massachusetts\", \"Perpetrator_Race\": \"Unknown\", \"Record_ID\": 4, \"Agency_Code\": 4, \"Agency_Name\": 4, \"Agency_Type\": 4, \"City\": 4, \"Year\": 4, \"Month\": 4, \"Incident\": 4, \"Crime_Type\": 4, \"Crime_Solved\": 4, \"Victim_Sex\": 4, \"Victim_Age\": 4, \"Victim_Race\": 4, \"Victim_Ethnicity\": 4, \"Perpetrator_Age\": 4, \"Perpetrator_Ethnicity\": 4, \"Relationship\": 4, \"Weapon\": 4, \"Victim_Count\": 4, \"Perpetrator_Count\": 4, \"Record_Source\": 4, \"State_Code\": 4, \"id\": 25}, {\"Perpetrator_Sex\": \"Male\", \"State\": \"Michigan\", \"Perpetrator_Race\": \"Unknown\", \"Record_ID\": 12, \"Agency_Code\": 12, \"Agency_Name\": 12, \"Agency_Type\": 12, \"City\": 12, \"Year\": 12, \"Month\": 12, \"Incident\": 12, \"Crime_Type\": 12, \"Crime_Solved\": 12, \"Victim_Sex\": 12, \"Victim_Age\": 12, \"Victim_Race\": 12, \"Victim_Ethnicity\": 12, \"Perpetrator_Age\": 12, \"Perpetrator_Ethnicity\": 12, \"Relationship\": 12, \"Weapon\": 12, \"Victim_Count\": 12, \"Perpetrator_Count\": 12, \"Record_Source\": 12, \"State_Code\": 12, \"id\": 26}, {\"Perpetrator_Sex\": \"Male\", \"State\": \"Minnesota\", \"Perpetrator_Race\": \"Unknown\", \"Record_ID\": 4, \"Agency_Code\": 4, \"Agency_Name\": 4, \"Agency_Type\": 4, \"City\": 4, \"Year\": 4, \"Month\": 4, \"Incident\": 4, \"Crime_Type\": 4, \"Crime_Solved\": 4, \"Victim_Sex\": 4, \"Victim_Age\": 4, \"Victim_Race\": 4, \"Victim_Ethnicity\": 4, \"Perpetrator_Age\": 4, \"Perpetrator_Ethnicity\": 4, \"Relationship\": 4, \"Weapon\": 4, \"Victim_Count\": 4, \"Perpetrator_Count\": 4, \"Record_Source\": 4, \"State_Code\": 4, \"id\": 27}, {\"Perpetrator_Sex\": \"Male\", \"State\": \"Mississippi\", \"Perpetrator_Race\": \"Unknown\", \"Record_ID\": 1, \"Agency_Code\": 1, \"Agency_Name\": 1, \"Agency_Type\": 1, \"City\": 1, \"Year\": 1, \"Month\": 1, \"Incident\": 1, \"Crime_Type\": 1, \"Crime_Solved\": 1, \"Victim_Sex\": 1, \"Victim_Age\": 1, \"Victim_Race\": 1, \"Victim_Ethnicity\": 1, \"Perpetrator_Age\": 1, \"Perpetrator_Ethnicity\": 1, \"Relationship\": 1, \"Weapon\": 1, \"Victim_Count\": 1, \"Perpetrator_Count\": 1, \"Record_Source\": 1, \"State_Code\": 1, \"id\": 28}, {\"Perpetrator_Sex\": \"Male\", \"State\": \"Missouri\", \"Perpetrator_Race\": \"Unknown\", \"Record_ID\": 2, \"Agency_Code\": 2, \"Agency_Name\": 2, \"Agency_Type\": 2, \"City\": 2, \"Year\": 2, \"Month\": 2, \"Incident\": 2, \"Crime_Type\": 2, \"Crime_Solved\": 2, \"Victim_Sex\": 2, \"Victim_Age\": 2, \"Victim_Race\": 2, \"Victim_Ethnicity\": 2, \"Perpetrator_Age\": 2, \"Perpetrator_Ethnicity\": 2, \"Relationship\": 2, \"Weapon\": 2, \"Victim_Count\": 2, \"Perpetrator_Count\": 2, \"Record_Source\": 2, \"State_Code\": 2, \"id\": 29}, {\"Perpetrator_Sex\": \"Male\", \"State\": \"New Jersey\", \"Perpetrator_Race\": \"Unknown\", \"Record_ID\": 1, \"Agency_Code\": 1, \"Agency_Name\": 1, \"Agency_Type\": 1, \"City\": 1, \"Year\": 1, \"Month\": 1, \"Incident\": 1, \"Crime_Type\": 1, \"Crime_Solved\": 1, \"Victim_Sex\": 1, \"Victim_Age\": 1, \"Victim_Race\": 1, \"Victim_Ethnicity\": 1, \"Perpetrator_Age\": 1, \"Perpetrator_Ethnicity\": 1, \"Relationship\": 1, \"Weapon\": 1, \"Victim_Count\": 1, \"Perpetrator_Count\": 1, \"Record_Source\": 1, \"State_Code\": 1, \"id\": 34}, {\"Perpetrator_Sex\": \"Male\", \"State\": \"New Mexico\", \"Perpetrator_Race\": \"Unknown\", \"Record_ID\": 2, \"Agency_Code\": 2, \"Agency_Name\": 2, \"Agency_Type\": 2, \"City\": 2, \"Year\": 2, \"Month\": 2, \"Incident\": 2, \"Crime_Type\": 2, \"Crime_Solved\": 2, \"Victim_Sex\": 2, \"Victim_Age\": 2, \"Victim_Race\": 2, \"Victim_Ethnicity\": 2, \"Perpetrator_Age\": 2, \"Perpetrator_Ethnicity\": 2, \"Relationship\": 2, \"Weapon\": 2, \"Victim_Count\": 2, \"Perpetrator_Count\": 2, \"Record_Source\": 2, \"State_Code\": 2, \"id\": 35}, {\"Perpetrator_Sex\": \"Male\", \"State\": \"New York\", \"Perpetrator_Race\": \"Unknown\", \"Record_ID\": 3, \"Agency_Code\": 3, \"Agency_Name\": 3, \"Agency_Type\": 3, \"City\": 3, \"Year\": 3, \"Month\": 3, \"Incident\": 3, \"Crime_Type\": 3, \"Crime_Solved\": 3, \"Victim_Sex\": 3, \"Victim_Age\": 3, \"Victim_Race\": 3, \"Victim_Ethnicity\": 3, \"Perpetrator_Age\": 3, \"Perpetrator_Ethnicity\": 3, \"Relationship\": 3, \"Weapon\": 3, \"Victim_Count\": 3, \"Perpetrator_Count\": 3, \"Record_Source\": 3, \"State_Code\": 3, \"id\": 36}, {\"Perpetrator_Sex\": \"Male\", \"State\": \"North Carolina\", \"Perpetrator_Race\": \"Unknown\", \"Record_ID\": 4, \"Agency_Code\": 4, \"Agency_Name\": 4, \"Agency_Type\": 4, \"City\": 4, \"Year\": 4, \"Month\": 4, \"Incident\": 4, \"Crime_Type\": 4, \"Crime_Solved\": 4, \"Victim_Sex\": 4, \"Victim_Age\": 4, \"Victim_Race\": 4, \"Victim_Ethnicity\": 4, \"Perpetrator_Age\": 4, \"Perpetrator_Ethnicity\": 4, \"Relationship\": 4, \"Weapon\": 4, \"Victim_Count\": 4, \"Perpetrator_Count\": 4, \"Record_Source\": 4, \"State_Code\": 4, \"id\": 37}, {\"Perpetrator_Sex\": \"Male\", \"State\": \"Ohio\", \"Perpetrator_Race\": \"Unknown\", \"Record_ID\": 9, \"Agency_Code\": 9, \"Agency_Name\": 9, \"Agency_Type\": 9, \"City\": 9, \"Year\": 9, \"Month\": 9, \"Incident\": 9, \"Crime_Type\": 9, \"Crime_Solved\": 9, \"Victim_Sex\": 9, \"Victim_Age\": 9, \"Victim_Race\": 9, \"Victim_Ethnicity\": 9, \"Perpetrator_Age\": 9, \"Perpetrator_Ethnicity\": 9, \"Relationship\": 9, \"Weapon\": 9, \"Victim_Count\": 9, \"Perpetrator_Count\": 9, \"Record_Source\": 9, \"State_Code\": 9, \"id\": 39}, {\"Perpetrator_Sex\": \"Male\", \"State\": \"Oklahoma\", \"Perpetrator_Race\": \"Unknown\", \"Record_ID\": 2, \"Agency_Code\": 2, \"Agency_Name\": 2, \"Agency_Type\": 2, \"City\": 2, \"Year\": 2, \"Month\": 2, \"Incident\": 2, \"Crime_Type\": 2, \"Crime_Solved\": 2, \"Victim_Sex\": 2, \"Victim_Age\": 2, \"Victim_Race\": 2, \"Victim_Ethnicity\": 2, \"Perpetrator_Age\": 2, \"Perpetrator_Ethnicity\": 2, \"Relationship\": 2, \"Weapon\": 2, \"Victim_Count\": 2, \"Perpetrator_Count\": 2, \"Record_Source\": 2, \"State_Code\": 2, \"id\": 40}, {\"Perpetrator_Sex\": \"Male\", \"State\": \"Oregon\", \"Perpetrator_Race\": \"Unknown\", \"Record_ID\": 2, \"Agency_Code\": 2, \"Agency_Name\": 2, \"Agency_Type\": 2, \"City\": 2, \"Year\": 2, \"Month\": 2, \"Incident\": 2, \"Crime_Type\": 2, \"Crime_Solved\": 2, \"Victim_Sex\": 2, \"Victim_Age\": 2, \"Victim_Race\": 2, \"Victim_Ethnicity\": 2, \"Perpetrator_Age\": 2, \"Perpetrator_Ethnicity\": 2, \"Relationship\": 2, \"Weapon\": 2, \"Victim_Count\": 2, \"Perpetrator_Count\": 2, \"Record_Source\": 2, \"State_Code\": 2, \"id\": 41}, {\"Perpetrator_Sex\": \"Male\", \"State\": \"Pennsylvania\", \"Perpetrator_Race\": \"Unknown\", \"Record_ID\": 13, \"Agency_Code\": 13, \"Agency_Name\": 13, \"Agency_Type\": 13, \"City\": 13, \"Year\": 13, \"Month\": 13, \"Incident\": 13, \"Crime_Type\": 13, \"Crime_Solved\": 13, \"Victim_Sex\": 13, \"Victim_Age\": 13, \"Victim_Race\": 13, \"Victim_Ethnicity\": 13, \"Perpetrator_Age\": 13, \"Perpetrator_Ethnicity\": 13, \"Relationship\": 13, \"Weapon\": 13, \"Victim_Count\": 13, \"Perpetrator_Count\": 13, \"Record_Source\": 13, \"State_Code\": 13, \"id\": 42}, {\"Perpetrator_Sex\": \"Male\", \"State\": \"South Carolina\", \"Perpetrator_Race\": \"Unknown\", \"Record_ID\": 1, \"Agency_Code\": 1, \"Agency_Name\": 1, \"Agency_Type\": 1, \"City\": 1, \"Year\": 1, \"Month\": 1, \"Incident\": 1, \"Crime_Type\": 1, \"Crime_Solved\": 1, \"Victim_Sex\": 1, \"Victim_Age\": 1, \"Victim_Race\": 1, \"Victim_Ethnicity\": 1, \"Perpetrator_Age\": 1, \"Perpetrator_Ethnicity\": 1, \"Relationship\": 1, \"Weapon\": 1, \"Victim_Count\": 1, \"Perpetrator_Count\": 1, \"Record_Source\": 1, \"State_Code\": 1, \"id\": 45}, {\"Perpetrator_Sex\": \"Male\", \"State\": \"Tennessee\", \"Perpetrator_Race\": \"Unknown\", \"Record_ID\": 2, \"Agency_Code\": 2, \"Agency_Name\": 2, \"Agency_Type\": 2, \"City\": 2, \"Year\": 2, \"Month\": 2, \"Incident\": 2, \"Crime_Type\": 2, \"Crime_Solved\": 2, \"Victim_Sex\": 2, \"Victim_Age\": 2, \"Victim_Race\": 2, \"Victim_Ethnicity\": 2, \"Perpetrator_Age\": 2, \"Perpetrator_Ethnicity\": 2, \"Relationship\": 2, \"Weapon\": 2, \"Victim_Count\": 2, \"Perpetrator_Count\": 2, \"Record_Source\": 2, \"State_Code\": 2, \"id\": 47}, {\"Perpetrator_Sex\": \"Male\", \"State\": \"Texas\", \"Perpetrator_Race\": \"Unknown\", \"Record_ID\": 3, \"Agency_Code\": 3, \"Agency_Name\": 3, \"Agency_Type\": 3, \"City\": 3, \"Year\": 3, \"Month\": 3, \"Incident\": 3, \"Crime_Type\": 3, \"Crime_Solved\": 3, \"Victim_Sex\": 3, \"Victim_Age\": 3, \"Victim_Race\": 3, \"Victim_Ethnicity\": 3, \"Perpetrator_Age\": 3, \"Perpetrator_Ethnicity\": 3, \"Relationship\": 3, \"Weapon\": 3, \"Victim_Count\": 3, \"Perpetrator_Count\": 3, \"Record_Source\": 3, \"State_Code\": 3, \"id\": 48}, {\"Perpetrator_Sex\": \"Male\", \"State\": \"Virginia\", \"Perpetrator_Race\": \"Unknown\", \"Record_ID\": 1, \"Agency_Code\": 1, \"Agency_Name\": 1, \"Agency_Type\": 1, \"City\": 1, \"Year\": 1, \"Month\": 1, \"Incident\": 1, \"Crime_Type\": 1, \"Crime_Solved\": 1, \"Victim_Sex\": 1, \"Victim_Age\": 1, \"Victim_Race\": 1, \"Victim_Ethnicity\": 1, \"Perpetrator_Age\": 1, \"Perpetrator_Ethnicity\": 1, \"Relationship\": 1, \"Weapon\": 1, \"Victim_Count\": 1, \"Perpetrator_Count\": 1, \"Record_Source\": 1, \"State_Code\": 1, \"id\": 51}, {\"Perpetrator_Sex\": \"Male\", \"State\": \"Washington\", \"Perpetrator_Race\": \"Unknown\", \"Record_ID\": 1, \"Agency_Code\": 1, \"Agency_Name\": 1, \"Agency_Type\": 1, \"City\": 1, \"Year\": 1, \"Month\": 1, \"Incident\": 1, \"Crime_Type\": 1, \"Crime_Solved\": 1, \"Victim_Sex\": 1, \"Victim_Age\": 1, \"Victim_Race\": 1, \"Victim_Ethnicity\": 1, \"Perpetrator_Age\": 1, \"Perpetrator_Ethnicity\": 1, \"Relationship\": 1, \"Weapon\": 1, \"Victim_Count\": 1, \"Perpetrator_Count\": 1, \"Record_Source\": 1, \"State_Code\": 1, \"id\": 53}, {\"Perpetrator_Sex\": \"Male\", \"State\": \"Wisconsin\", \"Perpetrator_Race\": \"Unknown\", \"Record_ID\": 2, \"Agency_Code\": 2, \"Agency_Name\": 2, \"Agency_Type\": 2, \"City\": 2, \"Year\": 2, \"Month\": 2, \"Incident\": 2, \"Crime_Type\": 2, \"Crime_Solved\": 2, \"Victim_Sex\": 2, \"Victim_Age\": 2, \"Victim_Race\": 2, \"Victim_Ethnicity\": 2, \"Perpetrator_Age\": 2, \"Perpetrator_Ethnicity\": 2, \"Relationship\": 2, \"Weapon\": 2, \"Victim_Count\": 2, \"Perpetrator_Count\": 2, \"Record_Source\": 2, \"State_Code\": 2, \"id\": 55}, {\"Perpetrator_Sex\": \"Unknown\", \"State\": \"Alabama\", \"Perpetrator_Race\": \"Unknown\", \"Record_ID\": 43, \"Agency_Code\": 43, \"Agency_Name\": 43, \"Agency_Type\": 43, \"City\": 43, \"Year\": 43, \"Month\": 43, \"Incident\": 43, \"Crime_Type\": 43, \"Crime_Solved\": 43, \"Victim_Sex\": 43, \"Victim_Age\": 43, \"Victim_Race\": 43, \"Victim_Ethnicity\": 43, \"Perpetrator_Age\": 43, \"Perpetrator_Ethnicity\": 43, \"Relationship\": 43, \"Weapon\": 43, \"Victim_Count\": 43, \"Perpetrator_Count\": 43, \"Record_Source\": 43, \"State_Code\": 43, \"id\": 1}, {\"Perpetrator_Sex\": \"Unknown\", \"State\": \"Alaska\", \"Perpetrator_Race\": \"Unknown\", \"Record_ID\": 4, \"Agency_Code\": 4, \"Agency_Name\": 4, \"Agency_Type\": 4, \"City\": 4, \"Year\": 4, \"Month\": 4, \"Incident\": 4, \"Crime_Type\": 4, \"Crime_Solved\": 4, \"Victim_Sex\": 4, \"Victim_Age\": 4, \"Victim_Race\": 4, \"Victim_Ethnicity\": 4, \"Perpetrator_Age\": 4, \"Perpetrator_Ethnicity\": 4, \"Relationship\": 4, \"Weapon\": 4, \"Victim_Count\": 4, \"Perpetrator_Count\": 4, \"Record_Source\": 4, \"State_Code\": 4, \"id\": 2}, {\"Perpetrator_Sex\": \"Unknown\", \"State\": \"Arizona\", \"Perpetrator_Race\": \"Unknown\", \"Record_ID\": 90, \"Agency_Code\": 90, \"Agency_Name\": 90, \"Agency_Type\": 90, \"City\": 90, \"Year\": 90, \"Month\": 90, \"Incident\": 90, \"Crime_Type\": 90, \"Crime_Solved\": 90, \"Victim_Sex\": 90, \"Victim_Age\": 90, \"Victim_Race\": 90, \"Victim_Ethnicity\": 90, \"Perpetrator_Age\": 90, \"Perpetrator_Ethnicity\": 90, \"Relationship\": 90, \"Weapon\": 90, \"Victim_Count\": 90, \"Perpetrator_Count\": 90, \"Record_Source\": 90, \"State_Code\": 90, \"id\": 4}, {\"Perpetrator_Sex\": \"Unknown\", \"State\": \"Arkansas\", \"Perpetrator_Race\": \"Unknown\", \"Record_ID\": 30, \"Agency_Code\": 30, \"Agency_Name\": 30, \"Agency_Type\": 30, \"City\": 30, \"Year\": 30, \"Month\": 30, \"Incident\": 30, \"Crime_Type\": 30, \"Crime_Solved\": 30, \"Victim_Sex\": 30, \"Victim_Age\": 30, \"Victim_Race\": 30, \"Victim_Ethnicity\": 30, \"Perpetrator_Age\": 30, \"Perpetrator_Ethnicity\": 30, \"Relationship\": 30, \"Weapon\": 30, \"Victim_Count\": 30, \"Perpetrator_Count\": 30, \"Record_Source\": 30, \"State_Code\": 30, \"id\": 5}, {\"Perpetrator_Sex\": \"Unknown\", \"State\": \"California\", \"Perpetrator_Race\": \"Unknown\", \"Record_ID\": 827, \"Agency_Code\": 827, \"Agency_Name\": 827, \"Agency_Type\": 827, \"City\": 827, \"Year\": 827, \"Month\": 827, \"Incident\": 827, \"Crime_Type\": 827, \"Crime_Solved\": 827, \"Victim_Sex\": 827, \"Victim_Age\": 827, \"Victim_Race\": 827, \"Victim_Ethnicity\": 827, \"Perpetrator_Age\": 827, \"Perpetrator_Ethnicity\": 827, \"Relationship\": 827, \"Weapon\": 827, \"Victim_Count\": 827, \"Perpetrator_Count\": 827, \"Record_Source\": 827, \"State_Code\": 827, \"id\": 6}, {\"Perpetrator_Sex\": \"Unknown\", \"State\": \"Colorado\", \"Perpetrator_Race\": \"Unknown\", \"Record_ID\": 23, \"Agency_Code\": 23, \"Agency_Name\": 23, \"Agency_Type\": 23, \"City\": 23, \"Year\": 23, \"Month\": 23, \"Incident\": 23, \"Crime_Type\": 23, \"Crime_Solved\": 23, \"Victim_Sex\": 23, \"Victim_Age\": 23, \"Victim_Race\": 23, \"Victim_Ethnicity\": 23, \"Perpetrator_Age\": 23, \"Perpetrator_Ethnicity\": 23, \"Relationship\": 23, \"Weapon\": 23, \"Victim_Count\": 23, \"Perpetrator_Count\": 23, \"Record_Source\": 23, \"State_Code\": 23, \"id\": 8}, {\"Perpetrator_Sex\": \"Unknown\", \"State\": \"Connecticut\", \"Perpetrator_Race\": \"Unknown\", \"Record_ID\": 53, \"Agency_Code\": 53, \"Agency_Name\": 53, \"Agency_Type\": 53, \"City\": 53, \"Year\": 53, \"Month\": 53, \"Incident\": 53, \"Crime_Type\": 53, \"Crime_Solved\": 53, \"Victim_Sex\": 53, \"Victim_Age\": 53, \"Victim_Race\": 53, \"Victim_Ethnicity\": 53, \"Perpetrator_Age\": 53, \"Perpetrator_Ethnicity\": 53, \"Relationship\": 53, \"Weapon\": 53, \"Victim_Count\": 53, \"Perpetrator_Count\": 53, \"Record_Source\": 53, \"State_Code\": 53, \"id\": 9}, {\"Perpetrator_Sex\": \"Unknown\", \"State\": \"Delaware\", \"Perpetrator_Race\": \"Unknown\", \"Record_ID\": 10, \"Agency_Code\": 10, \"Agency_Name\": 10, \"Agency_Type\": 10, \"City\": 10, \"Year\": 10, \"Month\": 10, \"Incident\": 10, \"Crime_Type\": 10, \"Crime_Solved\": 10, \"Victim_Sex\": 10, \"Victim_Age\": 10, \"Victim_Race\": 10, \"Victim_Ethnicity\": 10, \"Perpetrator_Age\": 10, \"Perpetrator_Ethnicity\": 10, \"Relationship\": 10, \"Weapon\": 10, \"Victim_Count\": 10, \"Perpetrator_Count\": 10, \"Record_Source\": 10, \"State_Code\": 10, \"id\": 10}, {\"Perpetrator_Sex\": \"Unknown\", \"State\": \"District of Columbia\", \"Perpetrator_Race\": \"Unknown\", \"Record_ID\": 61, \"Agency_Code\": 61, \"Agency_Name\": 61, \"Agency_Type\": 61, \"City\": 61, \"Year\": 61, \"Month\": 61, \"Incident\": 61, \"Crime_Type\": 61, \"Crime_Solved\": 61, \"Victim_Sex\": 61, \"Victim_Age\": 61, \"Victim_Race\": 61, \"Victim_Ethnicity\": 61, \"Perpetrator_Age\": 61, \"Perpetrator_Ethnicity\": 61, \"Relationship\": 61, \"Weapon\": 61, \"Victim_Count\": 61, \"Perpetrator_Count\": 61, \"Record_Source\": 61, \"State_Code\": 61, \"id\": 11}, {\"Perpetrator_Sex\": \"Unknown\", \"State\": \"Florida\", \"Perpetrator_Race\": \"Unknown\", \"Record_ID\": 277, \"Agency_Code\": 277, \"Agency_Name\": 277, \"Agency_Type\": 277, \"City\": 277, \"Year\": 277, \"Month\": 277, \"Incident\": 277, \"Crime_Type\": 277, \"Crime_Solved\": 277, \"Victim_Sex\": 277, \"Victim_Age\": 277, \"Victim_Race\": 277, \"Victim_Ethnicity\": 277, \"Perpetrator_Age\": 277, \"Perpetrator_Ethnicity\": 277, \"Relationship\": 277, \"Weapon\": 277, \"Victim_Count\": 277, \"Perpetrator_Count\": 277, \"Record_Source\": 277, \"State_Code\": 277, \"id\": 12}, {\"Perpetrator_Sex\": \"Unknown\", \"State\": \"Georgia\", \"Perpetrator_Race\": \"Unknown\", \"Record_ID\": 171, \"Agency_Code\": 171, \"Agency_Name\": 171, \"Agency_Type\": 171, \"City\": 171, \"Year\": 171, \"Month\": 171, \"Incident\": 171, \"Crime_Type\": 171, \"Crime_Solved\": 171, \"Victim_Sex\": 171, \"Victim_Age\": 171, \"Victim_Race\": 171, \"Victim_Ethnicity\": 171, \"Perpetrator_Age\": 171, \"Perpetrator_Ethnicity\": 171, \"Relationship\": 171, \"Weapon\": 171, \"Victim_Count\": 171, \"Perpetrator_Count\": 171, \"Record_Source\": 171, \"State_Code\": 171, \"id\": 13}, {\"Perpetrator_Sex\": \"Unknown\", \"State\": \"Hawaii\", \"Perpetrator_Race\": \"Unknown\", \"Record_ID\": 1, \"Agency_Code\": 1, \"Agency_Name\": 1, \"Agency_Type\": 1, \"City\": 1, \"Year\": 1, \"Month\": 1, \"Incident\": 1, \"Crime_Type\": 1, \"Crime_Solved\": 1, \"Victim_Sex\": 1, \"Victim_Age\": 1, \"Victim_Race\": 1, \"Victim_Ethnicity\": 1, \"Perpetrator_Age\": 1, \"Perpetrator_Ethnicity\": 1, \"Relationship\": 1, \"Weapon\": 1, \"Victim_Count\": 1, \"Perpetrator_Count\": 1, \"Record_Source\": 1, \"State_Code\": 1, \"id\": 15}, {\"Perpetrator_Sex\": \"Unknown\", \"State\": \"Idaho\", \"Perpetrator_Race\": \"Unknown\", \"Record_ID\": 1, \"Agency_Code\": 1, \"Agency_Name\": 1, \"Agency_Type\": 1, \"City\": 1, \"Year\": 1, \"Month\": 1, \"Incident\": 1, \"Crime_Type\": 1, \"Crime_Solved\": 1, \"Victim_Sex\": 1, \"Victim_Age\": 1, \"Victim_Race\": 1, \"Victim_Ethnicity\": 1, \"Perpetrator_Age\": 1, \"Perpetrator_Ethnicity\": 1, \"Relationship\": 1, \"Weapon\": 1, \"Victim_Count\": 1, \"Perpetrator_Count\": 1, \"Record_Source\": 1, \"State_Code\": 1, \"id\": 16}, {\"Perpetrator_Sex\": \"Unknown\", \"State\": \"Illinois\", \"Perpetrator_Race\": \"Unknown\", \"Record_ID\": 301, \"Agency_Code\": 301, \"Agency_Name\": 301, \"Agency_Type\": 301, \"City\": 301, \"Year\": 301, \"Month\": 301, \"Incident\": 301, \"Crime_Type\": 301, \"Crime_Solved\": 301, \"Victim_Sex\": 301, \"Victim_Age\": 301, \"Victim_Race\": 301, \"Victim_Ethnicity\": 301, \"Perpetrator_Age\": 301, \"Perpetrator_Ethnicity\": 301, \"Relationship\": 301, \"Weapon\": 301, \"Victim_Count\": 301, \"Perpetrator_Count\": 301, \"Record_Source\": 301, \"State_Code\": 301, \"id\": 17}, {\"Perpetrator_Sex\": \"Unknown\", \"State\": \"Indiana\", \"Perpetrator_Race\": \"Unknown\", \"Record_ID\": 89, \"Agency_Code\": 89, \"Agency_Name\": 89, \"Agency_Type\": 89, \"City\": 89, \"Year\": 89, \"Month\": 89, \"Incident\": 89, \"Crime_Type\": 89, \"Crime_Solved\": 89, \"Victim_Sex\": 89, \"Victim_Age\": 89, \"Victim_Race\": 89, \"Victim_Ethnicity\": 89, \"Perpetrator_Age\": 89, \"Perpetrator_Ethnicity\": 89, \"Relationship\": 89, \"Weapon\": 89, \"Victim_Count\": 89, \"Perpetrator_Count\": 89, \"Record_Source\": 89, \"State_Code\": 89, \"id\": 18}, {\"Perpetrator_Sex\": \"Unknown\", \"State\": \"Iowa\", \"Perpetrator_Race\": \"Unknown\", \"Record_ID\": 3, \"Agency_Code\": 3, \"Agency_Name\": 3, \"Agency_Type\": 3, \"City\": 3, \"Year\": 3, \"Month\": 3, \"Incident\": 3, \"Crime_Type\": 3, \"Crime_Solved\": 3, \"Victim_Sex\": 3, \"Victim_Age\": 3, \"Victim_Race\": 3, \"Victim_Ethnicity\": 3, \"Perpetrator_Age\": 3, \"Perpetrator_Ethnicity\": 3, \"Relationship\": 3, \"Weapon\": 3, \"Victim_Count\": 3, \"Perpetrator_Count\": 3, \"Record_Source\": 3, \"State_Code\": 3, \"id\": 19}, {\"Perpetrator_Sex\": \"Unknown\", \"State\": \"Kansas\", \"Perpetrator_Race\": \"Unknown\", \"Record_ID\": 19, \"Agency_Code\": 19, \"Agency_Name\": 19, \"Agency_Type\": 19, \"City\": 19, \"Year\": 19, \"Month\": 19, \"Incident\": 19, \"Crime_Type\": 19, \"Crime_Solved\": 19, \"Victim_Sex\": 19, \"Victim_Age\": 19, \"Victim_Race\": 19, \"Victim_Ethnicity\": 19, \"Perpetrator_Age\": 19, \"Perpetrator_Ethnicity\": 19, \"Relationship\": 19, \"Weapon\": 19, \"Victim_Count\": 19, \"Perpetrator_Count\": 19, \"Record_Source\": 19, \"State_Code\": 19, \"id\": 20}, {\"Perpetrator_Sex\": \"Unknown\", \"State\": \"Kentucky\", \"Perpetrator_Race\": \"Unknown\", \"Record_ID\": 51, \"Agency_Code\": 51, \"Agency_Name\": 51, \"Agency_Type\": 51, \"City\": 51, \"Year\": 51, \"Month\": 51, \"Incident\": 51, \"Crime_Type\": 51, \"Crime_Solved\": 51, \"Victim_Sex\": 51, \"Victim_Age\": 51, \"Victim_Race\": 51, \"Victim_Ethnicity\": 51, \"Perpetrator_Age\": 51, \"Perpetrator_Ethnicity\": 51, \"Relationship\": 51, \"Weapon\": 51, \"Victim_Count\": 51, \"Perpetrator_Count\": 51, \"Record_Source\": 51, \"State_Code\": 51, \"id\": 21}, {\"Perpetrator_Sex\": \"Unknown\", \"State\": \"Louisiana\", \"Perpetrator_Race\": \"Unknown\", \"Record_ID\": 177, \"Agency_Code\": 177, \"Agency_Name\": 177, \"Agency_Type\": 177, \"City\": 177, \"Year\": 177, \"Month\": 177, \"Incident\": 177, \"Crime_Type\": 177, \"Crime_Solved\": 177, \"Victim_Sex\": 177, \"Victim_Age\": 177, \"Victim_Race\": 177, \"Victim_Ethnicity\": 177, \"Perpetrator_Age\": 177, \"Perpetrator_Ethnicity\": 177, \"Relationship\": 177, \"Weapon\": 177, \"Victim_Count\": 177, \"Perpetrator_Count\": 177, \"Record_Source\": 177, \"State_Code\": 177, \"id\": 22}, {\"Perpetrator_Sex\": \"Unknown\", \"State\": \"Maine\", \"Perpetrator_Race\": \"Unknown\", \"Record_ID\": 2, \"Agency_Code\": 2, \"Agency_Name\": 2, \"Agency_Type\": 2, \"City\": 2, \"Year\": 2, \"Month\": 2, \"Incident\": 2, \"Crime_Type\": 2, \"Crime_Solved\": 2, \"Victim_Sex\": 2, \"Victim_Age\": 2, \"Victim_Race\": 2, \"Victim_Ethnicity\": 2, \"Perpetrator_Age\": 2, \"Perpetrator_Ethnicity\": 2, \"Relationship\": 2, \"Weapon\": 2, \"Victim_Count\": 2, \"Perpetrator_Count\": 2, \"Record_Source\": 2, \"State_Code\": 2, \"id\": 23}, {\"Perpetrator_Sex\": \"Unknown\", \"State\": \"Maryland\", \"Perpetrator_Race\": \"Unknown\", \"Record_ID\": 177, \"Agency_Code\": 177, \"Agency_Name\": 177, \"Agency_Type\": 177, \"City\": 177, \"Year\": 177, \"Month\": 177, \"Incident\": 177, \"Crime_Type\": 177, \"Crime_Solved\": 177, \"Victim_Sex\": 177, \"Victim_Age\": 177, \"Victim_Race\": 177, \"Victim_Ethnicity\": 177, \"Perpetrator_Age\": 177, \"Perpetrator_Ethnicity\": 177, \"Relationship\": 177, \"Weapon\": 177, \"Victim_Count\": 177, \"Perpetrator_Count\": 177, \"Record_Source\": 177, \"State_Code\": 177, \"id\": 24}, {\"Perpetrator_Sex\": \"Unknown\", \"State\": \"Massachusetts\", \"Perpetrator_Race\": \"Unknown\", \"Record_ID\": 80, \"Agency_Code\": 80, \"Agency_Name\": 80, \"Agency_Type\": 80, \"City\": 80, \"Year\": 80, \"Month\": 80, \"Incident\": 80, \"Crime_Type\": 80, \"Crime_Solved\": 80, \"Victim_Sex\": 80, \"Victim_Age\": 80, \"Victim_Race\": 80, \"Victim_Ethnicity\": 80, \"Perpetrator_Age\": 80, \"Perpetrator_Ethnicity\": 80, \"Relationship\": 80, \"Weapon\": 80, \"Victim_Count\": 80, \"Perpetrator_Count\": 80, \"Record_Source\": 80, \"State_Code\": 80, \"id\": 25}, {\"Perpetrator_Sex\": \"Unknown\", \"State\": \"Michigan\", \"Perpetrator_Race\": \"Unknown\", \"Record_ID\": 203, \"Agency_Code\": 203, \"Agency_Name\": 203, \"Agency_Type\": 203, \"City\": 203, \"Year\": 203, \"Month\": 203, \"Incident\": 203, \"Crime_Type\": 203, \"Crime_Solved\": 203, \"Victim_Sex\": 203, \"Victim_Age\": 203, \"Victim_Race\": 203, \"Victim_Ethnicity\": 203, \"Perpetrator_Age\": 203, \"Perpetrator_Ethnicity\": 203, \"Relationship\": 203, \"Weapon\": 203, \"Victim_Count\": 203, \"Perpetrator_Count\": 203, \"Record_Source\": 203, \"State_Code\": 203, \"id\": 26}, {\"Perpetrator_Sex\": \"Unknown\", \"State\": \"Minnesota\", \"Perpetrator_Race\": \"Unknown\", \"Record_ID\": 20, \"Agency_Code\": 20, \"Agency_Name\": 20, \"Agency_Type\": 20, \"City\": 20, \"Year\": 20, \"Month\": 20, \"Incident\": 20, \"Crime_Type\": 20, \"Crime_Solved\": 20, \"Victim_Sex\": 20, \"Victim_Age\": 20, \"Victim_Race\": 20, \"Victim_Ethnicity\": 20, \"Perpetrator_Age\": 20, \"Perpetrator_Ethnicity\": 20, \"Relationship\": 20, \"Weapon\": 20, \"Victim_Count\": 20, \"Perpetrator_Count\": 20, \"Record_Source\": 20, \"State_Code\": 20, \"id\": 27}, {\"Perpetrator_Sex\": \"Unknown\", \"State\": \"Mississippi\", \"Perpetrator_Race\": \"Unknown\", \"Record_ID\": 35, \"Agency_Code\": 35, \"Agency_Name\": 35, \"Agency_Type\": 35, \"City\": 35, \"Year\": 35, \"Month\": 35, \"Incident\": 35, \"Crime_Type\": 35, \"Crime_Solved\": 35, \"Victim_Sex\": 35, \"Victim_Age\": 35, \"Victim_Race\": 35, \"Victim_Ethnicity\": 35, \"Perpetrator_Age\": 35, \"Perpetrator_Ethnicity\": 35, \"Relationship\": 35, \"Weapon\": 35, \"Victim_Count\": 35, \"Perpetrator_Count\": 35, \"Record_Source\": 35, \"State_Code\": 35, \"id\": 28}, {\"Perpetrator_Sex\": \"Unknown\", \"State\": \"Missouri\", \"Perpetrator_Race\": \"Unknown\", \"Record_ID\": 135, \"Agency_Code\": 135, \"Agency_Name\": 135, \"Agency_Type\": 135, \"City\": 135, \"Year\": 135, \"Month\": 135, \"Incident\": 135, \"Crime_Type\": 135, \"Crime_Solved\": 135, \"Victim_Sex\": 135, \"Victim_Age\": 135, \"Victim_Race\": 135, \"Victim_Ethnicity\": 135, \"Perpetrator_Age\": 135, \"Perpetrator_Ethnicity\": 135, \"Relationship\": 135, \"Weapon\": 135, \"Victim_Count\": 135, \"Perpetrator_Count\": 135, \"Record_Source\": 135, \"State_Code\": 135, \"id\": 29}, {\"Perpetrator_Sex\": \"Unknown\", \"State\": \"Nebraska\", \"Perpetrator_Race\": \"Unknown\", \"Record_ID\": 24, \"Agency_Code\": 24, \"Agency_Name\": 24, \"Agency_Type\": 24, \"City\": 24, \"Year\": 24, \"Month\": 24, \"Incident\": 24, \"Crime_Type\": 24, \"Crime_Solved\": 24, \"Victim_Sex\": 24, \"Victim_Age\": 24, \"Victim_Race\": 24, \"Victim_Ethnicity\": 24, \"Perpetrator_Age\": 24, \"Perpetrator_Ethnicity\": 24, \"Relationship\": 24, \"Weapon\": 24, \"Victim_Count\": 24, \"Perpetrator_Count\": 24, \"Record_Source\": 24, \"State_Code\": 24, \"id\": 31}, {\"Perpetrator_Sex\": \"Unknown\", \"State\": \"Nevada\", \"Perpetrator_Race\": \"Unknown\", \"Record_ID\": 41, \"Agency_Code\": 41, \"Agency_Name\": 41, \"Agency_Type\": 41, \"City\": 41, \"Year\": 41, \"Month\": 41, \"Incident\": 41, \"Crime_Type\": 41, \"Crime_Solved\": 41, \"Victim_Sex\": 41, \"Victim_Age\": 41, \"Victim_Race\": 41, \"Victim_Ethnicity\": 41, \"Perpetrator_Age\": 41, \"Perpetrator_Ethnicity\": 41, \"Relationship\": 41, \"Weapon\": 41, \"Victim_Count\": 41, \"Perpetrator_Count\": 41, \"Record_Source\": 41, \"State_Code\": 41, \"id\": 32}, {\"Perpetrator_Sex\": \"Unknown\", \"State\": \"New Hampshire\", \"Perpetrator_Race\": \"Unknown\", \"Record_ID\": 1, \"Agency_Code\": 1, \"Agency_Name\": 1, \"Agency_Type\": 1, \"City\": 1, \"Year\": 1, \"Month\": 1, \"Incident\": 1, \"Crime_Type\": 1, \"Crime_Solved\": 1, \"Victim_Sex\": 1, \"Victim_Age\": 1, \"Victim_Race\": 1, \"Victim_Ethnicity\": 1, \"Perpetrator_Age\": 1, \"Perpetrator_Ethnicity\": 1, \"Relationship\": 1, \"Weapon\": 1, \"Victim_Count\": 1, \"Perpetrator_Count\": 1, \"Record_Source\": 1, \"State_Code\": 1, \"id\": 33}, {\"Perpetrator_Sex\": \"Unknown\", \"State\": \"New Jersey\", \"Perpetrator_Race\": \"Unknown\", \"Record_ID\": 161, \"Agency_Code\": 161, \"Agency_Name\": 161, \"Agency_Type\": 161, \"City\": 161, \"Year\": 161, \"Month\": 161, \"Incident\": 161, \"Crime_Type\": 161, \"Crime_Solved\": 161, \"Victim_Sex\": 161, \"Victim_Age\": 161, \"Victim_Race\": 161, \"Victim_Ethnicity\": 161, \"Perpetrator_Age\": 161, \"Perpetrator_Ethnicity\": 161, \"Relationship\": 161, \"Weapon\": 161, \"Victim_Count\": 161, \"Perpetrator_Count\": 161, \"Record_Source\": 161, \"State_Code\": 161, \"id\": 34}, {\"Perpetrator_Sex\": \"Unknown\", \"State\": \"New Mexico\", \"Perpetrator_Race\": \"Unknown\", \"Record_ID\": 21, \"Agency_Code\": 21, \"Agency_Name\": 21, \"Agency_Type\": 21, \"City\": 21, \"Year\": 21, \"Month\": 21, \"Incident\": 21, \"Crime_Type\": 21, \"Crime_Solved\": 21, \"Victim_Sex\": 21, \"Victim_Age\": 21, \"Victim_Race\": 21, \"Victim_Ethnicity\": 21, \"Perpetrator_Age\": 21, \"Perpetrator_Ethnicity\": 21, \"Relationship\": 21, \"Weapon\": 21, \"Victim_Count\": 21, \"Perpetrator_Count\": 21, \"Record_Source\": 21, \"State_Code\": 21, \"id\": 35}, {\"Perpetrator_Sex\": \"Unknown\", \"State\": \"New York\", \"Perpetrator_Race\": \"Unknown\", \"Record_ID\": 356, \"Agency_Code\": 356, \"Agency_Name\": 356, \"Agency_Type\": 356, \"City\": 356, \"Year\": 356, \"Month\": 356, \"Incident\": 356, \"Crime_Type\": 356, \"Crime_Solved\": 356, \"Victim_Sex\": 356, \"Victim_Age\": 356, \"Victim_Race\": 356, \"Victim_Ethnicity\": 356, \"Perpetrator_Age\": 356, \"Perpetrator_Ethnicity\": 356, \"Relationship\": 356, \"Weapon\": 356, \"Victim_Count\": 356, \"Perpetrator_Count\": 356, \"Record_Source\": 356, \"State_Code\": 356, \"id\": 36}, {\"Perpetrator_Sex\": \"Unknown\", \"State\": \"North Carolina\", \"Perpetrator_Race\": \"Unknown\", \"Record_ID\": 121, \"Agency_Code\": 121, \"Agency_Name\": 121, \"Agency_Type\": 121, \"City\": 121, \"Year\": 121, \"Month\": 121, \"Incident\": 121, \"Crime_Type\": 121, \"Crime_Solved\": 121, \"Victim_Sex\": 121, \"Victim_Age\": 121, \"Victim_Race\": 121, \"Victim_Ethnicity\": 121, \"Perpetrator_Age\": 121, \"Perpetrator_Ethnicity\": 121, \"Relationship\": 121, \"Weapon\": 121, \"Victim_Count\": 121, \"Perpetrator_Count\": 121, \"Record_Source\": 121, \"State_Code\": 121, \"id\": 37}, {\"Perpetrator_Sex\": \"Unknown\", \"State\": \"Ohio\", \"Perpetrator_Race\": \"Unknown\", \"Record_ID\": 144, \"Agency_Code\": 144, \"Agency_Name\": 144, \"Agency_Type\": 144, \"City\": 144, \"Year\": 144, \"Month\": 144, \"Incident\": 144, \"Crime_Type\": 144, \"Crime_Solved\": 144, \"Victim_Sex\": 144, \"Victim_Age\": 144, \"Victim_Race\": 144, \"Victim_Ethnicity\": 144, \"Perpetrator_Age\": 144, \"Perpetrator_Ethnicity\": 144, \"Relationship\": 144, \"Weapon\": 144, \"Victim_Count\": 144, \"Perpetrator_Count\": 144, \"Record_Source\": 144, \"State_Code\": 144, \"id\": 39}, {\"Perpetrator_Sex\": \"Unknown\", \"State\": \"Oklahoma\", \"Perpetrator_Race\": \"Unknown\", \"Record_ID\": 31, \"Agency_Code\": 31, \"Agency_Name\": 31, \"Agency_Type\": 31, \"City\": 31, \"Year\": 31, \"Month\": 31, \"Incident\": 31, \"Crime_Type\": 31, \"Crime_Solved\": 31, \"Victim_Sex\": 31, \"Victim_Age\": 31, \"Victim_Race\": 31, \"Victim_Ethnicity\": 31, \"Perpetrator_Age\": 31, \"Perpetrator_Ethnicity\": 31, \"Relationship\": 31, \"Weapon\": 31, \"Victim_Count\": 31, \"Perpetrator_Count\": 31, \"Record_Source\": 31, \"State_Code\": 31, \"id\": 40}, {\"Perpetrator_Sex\": \"Unknown\", \"State\": \"Oregon\", \"Perpetrator_Race\": \"Unknown\", \"Record_ID\": 6, \"Agency_Code\": 6, \"Agency_Name\": 6, \"Agency_Type\": 6, \"City\": 6, \"Year\": 6, \"Month\": 6, \"Incident\": 6, \"Crime_Type\": 6, \"Crime_Solved\": 6, \"Victim_Sex\": 6, \"Victim_Age\": 6, \"Victim_Race\": 6, \"Victim_Ethnicity\": 6, \"Perpetrator_Age\": 6, \"Perpetrator_Ethnicity\": 6, \"Relationship\": 6, \"Weapon\": 6, \"Victim_Count\": 6, \"Perpetrator_Count\": 6, \"Record_Source\": 6, \"State_Code\": 6, \"id\": 41}, {\"Perpetrator_Sex\": \"Unknown\", \"State\": \"Pennsylvania\", \"Perpetrator_Race\": \"Unknown\", \"Record_ID\": 143, \"Agency_Code\": 143, \"Agency_Name\": 143, \"Agency_Type\": 143, \"City\": 143, \"Year\": 143, \"Month\": 143, \"Incident\": 143, \"Crime_Type\": 143, \"Crime_Solved\": 143, \"Victim_Sex\": 143, \"Victim_Age\": 143, \"Victim_Race\": 143, \"Victim_Ethnicity\": 143, \"Perpetrator_Age\": 143, \"Perpetrator_Ethnicity\": 143, \"Relationship\": 143, \"Weapon\": 143, \"Victim_Count\": 143, \"Perpetrator_Count\": 143, \"Record_Source\": 143, \"State_Code\": 143, \"id\": 42}, {\"Perpetrator_Sex\": \"Unknown\", \"State\": \"Rhodes Island\", \"Perpetrator_Race\": \"Unknown\", \"Record_ID\": 9, \"Agency_Code\": 9, \"Agency_Name\": 9, \"Agency_Type\": 9, \"City\": 9, \"Year\": 9, \"Month\": 9, \"Incident\": 9, \"Crime_Type\": 9, \"Crime_Solved\": 9, \"Victim_Sex\": 9, \"Victim_Age\": 9, \"Victim_Race\": 9, \"Victim_Ethnicity\": 9, \"Perpetrator_Age\": 9, \"Perpetrator_Ethnicity\": 9, \"Relationship\": 9, \"Weapon\": 9, \"Victim_Count\": 9, \"Perpetrator_Count\": 9, \"Record_Source\": 9, \"State_Code\": 9, \"id\": \"Rhodes Island\"}, {\"Perpetrator_Sex\": \"Unknown\", \"State\": \"South Carolina\", \"Perpetrator_Race\": \"Unknown\", \"Record_ID\": 32, \"Agency_Code\": 32, \"Agency_Name\": 32, \"Agency_Type\": 32, \"City\": 32, \"Year\": 32, \"Month\": 32, \"Incident\": 32, \"Crime_Type\": 32, \"Crime_Solved\": 32, \"Victim_Sex\": 32, \"Victim_Age\": 32, \"Victim_Race\": 32, \"Victim_Ethnicity\": 32, \"Perpetrator_Age\": 32, \"Perpetrator_Ethnicity\": 32, \"Relationship\": 32, \"Weapon\": 32, \"Victim_Count\": 32, \"Perpetrator_Count\": 32, \"Record_Source\": 32, \"State_Code\": 32, \"id\": 45}, {\"Perpetrator_Sex\": \"Unknown\", \"State\": \"South Dakota\", \"Perpetrator_Race\": \"Unknown\", \"Record_ID\": 1, \"Agency_Code\": 1, \"Agency_Name\": 1, \"Agency_Type\": 1, \"City\": 1, \"Year\": 1, \"Month\": 1, \"Incident\": 1, \"Crime_Type\": 1, \"Crime_Solved\": 1, \"Victim_Sex\": 1, \"Victim_Age\": 1, \"Victim_Race\": 1, \"Victim_Ethnicity\": 1, \"Perpetrator_Age\": 1, \"Perpetrator_Ethnicity\": 1, \"Relationship\": 1, \"Weapon\": 1, \"Victim_Count\": 1, \"Perpetrator_Count\": 1, \"Record_Source\": 1, \"State_Code\": 1, \"id\": 46}, {\"Perpetrator_Sex\": \"Unknown\", \"State\": \"Tennessee\", \"Perpetrator_Race\": \"Unknown\", \"Record_ID\": 53, \"Agency_Code\": 53, \"Agency_Name\": 53, \"Agency_Type\": 53, \"City\": 53, \"Year\": 53, \"Month\": 53, \"Incident\": 53, \"Crime_Type\": 53, \"Crime_Solved\": 53, \"Victim_Sex\": 53, \"Victim_Age\": 53, \"Victim_Race\": 53, \"Victim_Ethnicity\": 53, \"Perpetrator_Age\": 53, \"Perpetrator_Ethnicity\": 53, \"Relationship\": 53, \"Weapon\": 53, \"Victim_Count\": 53, \"Perpetrator_Count\": 53, \"Record_Source\": 53, \"State_Code\": 53, \"id\": 47}, {\"Perpetrator_Sex\": \"Unknown\", \"State\": \"Texas\", \"Perpetrator_Race\": \"Unknown\", \"Record_ID\": 274, \"Agency_Code\": 274, \"Agency_Name\": 274, \"Agency_Type\": 274, \"City\": 274, \"Year\": 274, \"Month\": 274, \"Incident\": 274, \"Crime_Type\": 274, \"Crime_Solved\": 274, \"Victim_Sex\": 274, \"Victim_Age\": 274, \"Victim_Race\": 274, \"Victim_Ethnicity\": 274, \"Perpetrator_Age\": 274, \"Perpetrator_Ethnicity\": 274, \"Relationship\": 274, \"Weapon\": 274, \"Victim_Count\": 274, \"Perpetrator_Count\": 274, \"Record_Source\": 274, \"State_Code\": 274, \"id\": 48}, {\"Perpetrator_Sex\": \"Unknown\", \"State\": \"Utah\", \"Perpetrator_Race\": \"Unknown\", \"Record_ID\": 3, \"Agency_Code\": 3, \"Agency_Name\": 3, \"Agency_Type\": 3, \"City\": 3, \"Year\": 3, \"Month\": 3, \"Incident\": 3, \"Crime_Type\": 3, \"Crime_Solved\": 3, \"Victim_Sex\": 3, \"Victim_Age\": 3, \"Victim_Race\": 3, \"Victim_Ethnicity\": 3, \"Perpetrator_Age\": 3, \"Perpetrator_Ethnicity\": 3, \"Relationship\": 3, \"Weapon\": 3, \"Victim_Count\": 3, \"Perpetrator_Count\": 3, \"Record_Source\": 3, \"State_Code\": 3, \"id\": 49}, {\"Perpetrator_Sex\": \"Unknown\", \"State\": \"Virginia\", \"Perpetrator_Race\": \"Unknown\", \"Record_ID\": 61, \"Agency_Code\": 61, \"Agency_Name\": 61, \"Agency_Type\": 61, \"City\": 61, \"Year\": 61, \"Month\": 61, \"Incident\": 61, \"Crime_Type\": 61, \"Crime_Solved\": 61, \"Victim_Sex\": 61, \"Victim_Age\": 61, \"Victim_Race\": 61, \"Victim_Ethnicity\": 61, \"Perpetrator_Age\": 61, \"Perpetrator_Ethnicity\": 61, \"Relationship\": 61, \"Weapon\": 61, \"Victim_Count\": 61, \"Perpetrator_Count\": 61, \"Record_Source\": 61, \"State_Code\": 61, \"id\": 51}, {\"Perpetrator_Sex\": \"Unknown\", \"State\": \"Washington\", \"Perpetrator_Race\": \"Unknown\", \"Record_ID\": 31, \"Agency_Code\": 31, \"Agency_Name\": 31, \"Agency_Type\": 31, \"City\": 31, \"Year\": 31, \"Month\": 31, \"Incident\": 31, \"Crime_Type\": 31, \"Crime_Solved\": 31, \"Victim_Sex\": 31, \"Victim_Age\": 31, \"Victim_Race\": 31, \"Victim_Ethnicity\": 31, \"Perpetrator_Age\": 31, \"Perpetrator_Ethnicity\": 31, \"Relationship\": 31, \"Weapon\": 31, \"Victim_Count\": 31, \"Perpetrator_Count\": 31, \"Record_Source\": 31, \"State_Code\": 31, \"id\": 53}, {\"Perpetrator_Sex\": \"Unknown\", \"State\": \"West Virginia\", \"Perpetrator_Race\": \"Unknown\", \"Record_ID\": 7, \"Agency_Code\": 7, \"Agency_Name\": 7, \"Agency_Type\": 7, \"City\": 7, \"Year\": 7, \"Month\": 7, \"Incident\": 7, \"Crime_Type\": 7, \"Crime_Solved\": 7, \"Victim_Sex\": 7, \"Victim_Age\": 7, \"Victim_Race\": 7, \"Victim_Ethnicity\": 7, \"Perpetrator_Age\": 7, \"Perpetrator_Ethnicity\": 7, \"Relationship\": 7, \"Weapon\": 7, \"Victim_Count\": 7, \"Perpetrator_Count\": 7, \"Record_Source\": 7, \"State_Code\": 7, \"id\": 54}, {\"Perpetrator_Sex\": \"Unknown\", \"State\": \"Wisconsin\", \"Perpetrator_Race\": \"Unknown\", \"Record_ID\": 15, \"Agency_Code\": 15, \"Agency_Name\": 15, \"Agency_Type\": 15, \"City\": 15, \"Year\": 15, \"Month\": 15, \"Incident\": 15, \"Crime_Type\": 15, \"Crime_Solved\": 15, \"Victim_Sex\": 15, \"Victim_Age\": 15, \"Victim_Race\": 15, \"Victim_Ethnicity\": 15, \"Perpetrator_Age\": 15, \"Perpetrator_Ethnicity\": 15, \"Relationship\": 15, \"Weapon\": 15, \"Victim_Count\": 15, \"Perpetrator_Count\": 15, \"Record_Source\": 15, \"State_Code\": 15, \"id\": 55}, {\"Perpetrator_Sex\": \"Female\", \"State\": \"Alabama\", \"Perpetrator_Race\": \"White\", \"Record_ID\": 11, \"Agency_Code\": 11, \"Agency_Name\": 11, \"Agency_Type\": 11, \"City\": 11, \"Year\": 11, \"Month\": 11, \"Incident\": 11, \"Crime_Type\": 11, \"Crime_Solved\": 11, \"Victim_Sex\": 11, \"Victim_Age\": 11, \"Victim_Race\": 11, \"Victim_Ethnicity\": 11, \"Perpetrator_Age\": 11, \"Perpetrator_Ethnicity\": 11, \"Relationship\": 11, \"Weapon\": 11, \"Victim_Count\": 11, \"Perpetrator_Count\": 11, \"Record_Source\": 11, \"State_Code\": 11, \"id\": 1}, {\"Perpetrator_Sex\": \"Female\", \"State\": \"Alaska\", \"Perpetrator_Race\": \"White\", \"Record_ID\": 3, \"Agency_Code\": 3, \"Agency_Name\": 3, \"Agency_Type\": 3, \"City\": 3, \"Year\": 3, \"Month\": 3, \"Incident\": 3, \"Crime_Type\": 3, \"Crime_Solved\": 3, \"Victim_Sex\": 3, \"Victim_Age\": 3, \"Victim_Race\": 3, \"Victim_Ethnicity\": 3, \"Perpetrator_Age\": 3, \"Perpetrator_Ethnicity\": 3, \"Relationship\": 3, \"Weapon\": 3, \"Victim_Count\": 3, \"Perpetrator_Count\": 3, \"Record_Source\": 3, \"State_Code\": 3, \"id\": 2}, {\"Perpetrator_Sex\": \"Female\", \"State\": \"Arizona\", \"Perpetrator_Race\": \"White\", \"Record_ID\": 19, \"Agency_Code\": 19, \"Agency_Name\": 19, \"Agency_Type\": 19, \"City\": 19, \"Year\": 19, \"Month\": 19, \"Incident\": 19, \"Crime_Type\": 19, \"Crime_Solved\": 19, \"Victim_Sex\": 19, \"Victim_Age\": 19, \"Victim_Race\": 19, \"Victim_Ethnicity\": 19, \"Perpetrator_Age\": 19, \"Perpetrator_Ethnicity\": 19, \"Relationship\": 19, \"Weapon\": 19, \"Victim_Count\": 19, \"Perpetrator_Count\": 19, \"Record_Source\": 19, \"State_Code\": 19, \"id\": 4}, {\"Perpetrator_Sex\": \"Female\", \"State\": \"Arkansas\", \"Perpetrator_Race\": \"White\", \"Record_ID\": 7, \"Agency_Code\": 7, \"Agency_Name\": 7, \"Agency_Type\": 7, \"City\": 7, \"Year\": 7, \"Month\": 7, \"Incident\": 7, \"Crime_Type\": 7, \"Crime_Solved\": 7, \"Victim_Sex\": 7, \"Victim_Age\": 7, \"Victim_Race\": 7, \"Victim_Ethnicity\": 7, \"Perpetrator_Age\": 7, \"Perpetrator_Ethnicity\": 7, \"Relationship\": 7, \"Weapon\": 7, \"Victim_Count\": 7, \"Perpetrator_Count\": 7, \"Record_Source\": 7, \"State_Code\": 7, \"id\": 5}, {\"Perpetrator_Sex\": \"Female\", \"State\": \"California\", \"Perpetrator_Race\": \"White\", \"Record_ID\": 63, \"Agency_Code\": 63, \"Agency_Name\": 63, \"Agency_Type\": 63, \"City\": 63, \"Year\": 63, \"Month\": 63, \"Incident\": 63, \"Crime_Type\": 63, \"Crime_Solved\": 63, \"Victim_Sex\": 63, \"Victim_Age\": 63, \"Victim_Race\": 63, \"Victim_Ethnicity\": 63, \"Perpetrator_Age\": 63, \"Perpetrator_Ethnicity\": 63, \"Relationship\": 63, \"Weapon\": 63, \"Victim_Count\": 63, \"Perpetrator_Count\": 63, \"Record_Source\": 63, \"State_Code\": 63, \"id\": 6}, {\"Perpetrator_Sex\": \"Female\", \"State\": \"Colorado\", \"Perpetrator_Race\": \"White\", \"Record_ID\": 13, \"Agency_Code\": 13, \"Agency_Name\": 13, \"Agency_Type\": 13, \"City\": 13, \"Year\": 13, \"Month\": 13, \"Incident\": 13, \"Crime_Type\": 13, \"Crime_Solved\": 13, \"Victim_Sex\": 13, \"Victim_Age\": 13, \"Victim_Race\": 13, \"Victim_Ethnicity\": 13, \"Perpetrator_Age\": 13, \"Perpetrator_Ethnicity\": 13, \"Relationship\": 13, \"Weapon\": 13, \"Victim_Count\": 13, \"Perpetrator_Count\": 13, \"Record_Source\": 13, \"State_Code\": 13, \"id\": 8}, {\"Perpetrator_Sex\": \"Female\", \"State\": \"Connecticut\", \"Perpetrator_Race\": \"White\", \"Record_ID\": 3, \"Agency_Code\": 3, \"Agency_Name\": 3, \"Agency_Type\": 3, \"City\": 3, \"Year\": 3, \"Month\": 3, \"Incident\": 3, \"Crime_Type\": 3, \"Crime_Solved\": 3, \"Victim_Sex\": 3, \"Victim_Age\": 3, \"Victim_Race\": 3, \"Victim_Ethnicity\": 3, \"Perpetrator_Age\": 3, \"Perpetrator_Ethnicity\": 3, \"Relationship\": 3, \"Weapon\": 3, \"Victim_Count\": 3, \"Perpetrator_Count\": 3, \"Record_Source\": 3, \"State_Code\": 3, \"id\": 9}, {\"Perpetrator_Sex\": \"Female\", \"State\": \"Florida\", \"Perpetrator_Race\": \"White\", \"Record_ID\": 49, \"Agency_Code\": 49, \"Agency_Name\": 49, \"Agency_Type\": 49, \"City\": 49, \"Year\": 49, \"Month\": 49, \"Incident\": 49, \"Crime_Type\": 49, \"Crime_Solved\": 49, \"Victim_Sex\": 49, \"Victim_Age\": 49, \"Victim_Race\": 49, \"Victim_Ethnicity\": 49, \"Perpetrator_Age\": 49, \"Perpetrator_Ethnicity\": 49, \"Relationship\": 49, \"Weapon\": 49, \"Victim_Count\": 49, \"Perpetrator_Count\": 49, \"Record_Source\": 49, \"State_Code\": 49, \"id\": 12}, {\"Perpetrator_Sex\": \"Female\", \"State\": \"Georgia\", \"Perpetrator_Race\": \"White\", \"Record_ID\": 10, \"Agency_Code\": 10, \"Agency_Name\": 10, \"Agency_Type\": 10, \"City\": 10, \"Year\": 10, \"Month\": 10, \"Incident\": 10, \"Crime_Type\": 10, \"Crime_Solved\": 10, \"Victim_Sex\": 10, \"Victim_Age\": 10, \"Victim_Race\": 10, \"Victim_Ethnicity\": 10, \"Perpetrator_Age\": 10, \"Perpetrator_Ethnicity\": 10, \"Relationship\": 10, \"Weapon\": 10, \"Victim_Count\": 10, \"Perpetrator_Count\": 10, \"Record_Source\": 10, \"State_Code\": 10, \"id\": 13}, {\"Perpetrator_Sex\": \"Female\", \"State\": \"Hawaii\", \"Perpetrator_Race\": \"White\", \"Record_ID\": 1, \"Agency_Code\": 1, \"Agency_Name\": 1, \"Agency_Type\": 1, \"City\": 1, \"Year\": 1, \"Month\": 1, \"Incident\": 1, \"Crime_Type\": 1, \"Crime_Solved\": 1, \"Victim_Sex\": 1, \"Victim_Age\": 1, \"Victim_Race\": 1, \"Victim_Ethnicity\": 1, \"Perpetrator_Age\": 1, \"Perpetrator_Ethnicity\": 1, \"Relationship\": 1, \"Weapon\": 1, \"Victim_Count\": 1, \"Perpetrator_Count\": 1, \"Record_Source\": 1, \"State_Code\": 1, \"id\": 15}, {\"Perpetrator_Sex\": \"Female\", \"State\": \"Idaho\", \"Perpetrator_Race\": \"White\", \"Record_ID\": 2, \"Agency_Code\": 2, \"Agency_Name\": 2, \"Agency_Type\": 2, \"City\": 2, \"Year\": 2, \"Month\": 2, \"Incident\": 2, \"Crime_Type\": 2, \"Crime_Solved\": 2, \"Victim_Sex\": 2, \"Victim_Age\": 2, \"Victim_Race\": 2, \"Victim_Ethnicity\": 2, \"Perpetrator_Age\": 2, \"Perpetrator_Ethnicity\": 2, \"Relationship\": 2, \"Weapon\": 2, \"Victim_Count\": 2, \"Perpetrator_Count\": 2, \"Record_Source\": 2, \"State_Code\": 2, \"id\": 16}, {\"Perpetrator_Sex\": \"Female\", \"State\": \"Illinois\", \"Perpetrator_Race\": \"White\", \"Record_ID\": 3, \"Agency_Code\": 3, \"Agency_Name\": 3, \"Agency_Type\": 3, \"City\": 3, \"Year\": 3, \"Month\": 3, \"Incident\": 3, \"Crime_Type\": 3, \"Crime_Solved\": 3, \"Victim_Sex\": 3, \"Victim_Age\": 3, \"Victim_Race\": 3, \"Victim_Ethnicity\": 3, \"Perpetrator_Age\": 3, \"Perpetrator_Ethnicity\": 3, \"Relationship\": 3, \"Weapon\": 3, \"Victim_Count\": 3, \"Perpetrator_Count\": 3, \"Record_Source\": 3, \"State_Code\": 3, \"id\": 17}, {\"Perpetrator_Sex\": \"Female\", \"State\": \"Indiana\", \"Perpetrator_Race\": \"White\", \"Record_ID\": 6, \"Agency_Code\": 6, \"Agency_Name\": 6, \"Agency_Type\": 6, \"City\": 6, \"Year\": 6, \"Month\": 6, \"Incident\": 6, \"Crime_Type\": 6, \"Crime_Solved\": 6, \"Victim_Sex\": 6, \"Victim_Age\": 6, \"Victim_Race\": 6, \"Victim_Ethnicity\": 6, \"Perpetrator_Age\": 6, \"Perpetrator_Ethnicity\": 6, \"Relationship\": 6, \"Weapon\": 6, \"Victim_Count\": 6, \"Perpetrator_Count\": 6, \"Record_Source\": 6, \"State_Code\": 6, \"id\": 18}, {\"Perpetrator_Sex\": \"Female\", \"State\": \"Iowa\", \"Perpetrator_Race\": \"White\", \"Record_ID\": 2, \"Agency_Code\": 2, \"Agency_Name\": 2, \"Agency_Type\": 2, \"City\": 2, \"Year\": 2, \"Month\": 2, \"Incident\": 2, \"Crime_Type\": 2, \"Crime_Solved\": 2, \"Victim_Sex\": 2, \"Victim_Age\": 2, \"Victim_Race\": 2, \"Victim_Ethnicity\": 2, \"Perpetrator_Age\": 2, \"Perpetrator_Ethnicity\": 2, \"Relationship\": 2, \"Weapon\": 2, \"Victim_Count\": 2, \"Perpetrator_Count\": 2, \"Record_Source\": 2, \"State_Code\": 2, \"id\": 19}, {\"Perpetrator_Sex\": \"Female\", \"State\": \"Kansas\", \"Perpetrator_Race\": \"White\", \"Record_ID\": 8, \"Agency_Code\": 8, \"Agency_Name\": 8, \"Agency_Type\": 8, \"City\": 8, \"Year\": 8, \"Month\": 8, \"Incident\": 8, \"Crime_Type\": 8, \"Crime_Solved\": 8, \"Victim_Sex\": 8, \"Victim_Age\": 8, \"Victim_Race\": 8, \"Victim_Ethnicity\": 8, \"Perpetrator_Age\": 8, \"Perpetrator_Ethnicity\": 8, \"Relationship\": 8, \"Weapon\": 8, \"Victim_Count\": 8, \"Perpetrator_Count\": 8, \"Record_Source\": 8, \"State_Code\": 8, \"id\": 20}, {\"Perpetrator_Sex\": \"Female\", \"State\": \"Kentucky\", \"Perpetrator_Race\": \"White\", \"Record_ID\": 15, \"Agency_Code\": 15, \"Agency_Name\": 15, \"Agency_Type\": 15, \"City\": 15, \"Year\": 15, \"Month\": 15, \"Incident\": 15, \"Crime_Type\": 15, \"Crime_Solved\": 15, \"Victim_Sex\": 15, \"Victim_Age\": 15, \"Victim_Race\": 15, \"Victim_Ethnicity\": 15, \"Perpetrator_Age\": 15, \"Perpetrator_Ethnicity\": 15, \"Relationship\": 15, \"Weapon\": 15, \"Victim_Count\": 15, \"Perpetrator_Count\": 15, \"Record_Source\": 15, \"State_Code\": 15, \"id\": 21}, {\"Perpetrator_Sex\": \"Female\", \"State\": \"Louisiana\", \"Perpetrator_Race\": \"White\", \"Record_ID\": 7, \"Agency_Code\": 7, \"Agency_Name\": 7, \"Agency_Type\": 7, \"City\": 7, \"Year\": 7, \"Month\": 7, \"Incident\": 7, \"Crime_Type\": 7, \"Crime_Solved\": 7, \"Victim_Sex\": 7, \"Victim_Age\": 7, \"Victim_Race\": 7, \"Victim_Ethnicity\": 7, \"Perpetrator_Age\": 7, \"Perpetrator_Ethnicity\": 7, \"Relationship\": 7, \"Weapon\": 7, \"Victim_Count\": 7, \"Perpetrator_Count\": 7, \"Record_Source\": 7, \"State_Code\": 7, \"id\": 22}, {\"Perpetrator_Sex\": \"Female\", \"State\": \"Maryland\", \"Perpetrator_Race\": \"White\", \"Record_ID\": 4, \"Agency_Code\": 4, \"Agency_Name\": 4, \"Agency_Type\": 4, \"City\": 4, \"Year\": 4, \"Month\": 4, \"Incident\": 4, \"Crime_Type\": 4, \"Crime_Solved\": 4, \"Victim_Sex\": 4, \"Victim_Age\": 4, \"Victim_Race\": 4, \"Victim_Ethnicity\": 4, \"Perpetrator_Age\": 4, \"Perpetrator_Ethnicity\": 4, \"Relationship\": 4, \"Weapon\": 4, \"Victim_Count\": 4, \"Perpetrator_Count\": 4, \"Record_Source\": 4, \"State_Code\": 4, \"id\": 24}, {\"Perpetrator_Sex\": \"Female\", \"State\": \"Massachusetts\", \"Perpetrator_Race\": \"White\", \"Record_ID\": 7, \"Agency_Code\": 7, \"Agency_Name\": 7, \"Agency_Type\": 7, \"City\": 7, \"Year\": 7, \"Month\": 7, \"Incident\": 7, \"Crime_Type\": 7, \"Crime_Solved\": 7, \"Victim_Sex\": 7, \"Victim_Age\": 7, \"Victim_Race\": 7, \"Victim_Ethnicity\": 7, \"Perpetrator_Age\": 7, \"Perpetrator_Ethnicity\": 7, \"Relationship\": 7, \"Weapon\": 7, \"Victim_Count\": 7, \"Perpetrator_Count\": 7, \"Record_Source\": 7, \"State_Code\": 7, \"id\": 25}, {\"Perpetrator_Sex\": \"Female\", \"State\": \"Michigan\", \"Perpetrator_Race\": \"White\", \"Record_ID\": 23, \"Agency_Code\": 23, \"Agency_Name\": 23, \"Agency_Type\": 23, \"City\": 23, \"Year\": 23, \"Month\": 23, \"Incident\": 23, \"Crime_Type\": 23, \"Crime_Solved\": 23, \"Victim_Sex\": 23, \"Victim_Age\": 23, \"Victim_Race\": 23, \"Victim_Ethnicity\": 23, \"Perpetrator_Age\": 23, \"Perpetrator_Ethnicity\": 23, \"Relationship\": 23, \"Weapon\": 23, \"Victim_Count\": 23, \"Perpetrator_Count\": 23, \"Record_Source\": 23, \"State_Code\": 23, \"id\": 26}, {\"Perpetrator_Sex\": \"Female\", \"State\": \"Minnesota\", \"Perpetrator_Race\": \"White\", \"Record_ID\": 2, \"Agency_Code\": 2, \"Agency_Name\": 2, \"Agency_Type\": 2, \"City\": 2, \"Year\": 2, \"Month\": 2, \"Incident\": 2, \"Crime_Type\": 2, \"Crime_Solved\": 2, \"Victim_Sex\": 2, \"Victim_Age\": 2, \"Victim_Race\": 2, \"Victim_Ethnicity\": 2, \"Perpetrator_Age\": 2, \"Perpetrator_Ethnicity\": 2, \"Relationship\": 2, \"Weapon\": 2, \"Victim_Count\": 2, \"Perpetrator_Count\": 2, \"Record_Source\": 2, \"State_Code\": 2, \"id\": 27}, {\"Perpetrator_Sex\": \"Female\", \"State\": \"Mississippi\", \"Perpetrator_Race\": \"White\", \"Record_ID\": 5, \"Agency_Code\": 5, \"Agency_Name\": 5, \"Agency_Type\": 5, \"City\": 5, \"Year\": 5, \"Month\": 5, \"Incident\": 5, \"Crime_Type\": 5, \"Crime_Solved\": 5, \"Victim_Sex\": 5, \"Victim_Age\": 5, \"Victim_Race\": 5, \"Victim_Ethnicity\": 5, \"Perpetrator_Age\": 5, \"Perpetrator_Ethnicity\": 5, \"Relationship\": 5, \"Weapon\": 5, \"Victim_Count\": 5, \"Perpetrator_Count\": 5, \"Record_Source\": 5, \"State_Code\": 5, \"id\": 28}, {\"Perpetrator_Sex\": \"Female\", \"State\": \"Missouri\", \"Perpetrator_Race\": \"White\", \"Record_ID\": 17, \"Agency_Code\": 17, \"Agency_Name\": 17, \"Agency_Type\": 17, \"City\": 17, \"Year\": 17, \"Month\": 17, \"Incident\": 17, \"Crime_Type\": 17, \"Crime_Solved\": 17, \"Victim_Sex\": 17, \"Victim_Age\": 17, \"Victim_Race\": 17, \"Victim_Ethnicity\": 17, \"Perpetrator_Age\": 17, \"Perpetrator_Ethnicity\": 17, \"Relationship\": 17, \"Weapon\": 17, \"Victim_Count\": 17, \"Perpetrator_Count\": 17, \"Record_Source\": 17, \"State_Code\": 17, \"id\": 29}, {\"Perpetrator_Sex\": \"Female\", \"State\": \"Montana\", \"Perpetrator_Race\": \"White\", \"Record_ID\": 3, \"Agency_Code\": 3, \"Agency_Name\": 3, \"Agency_Type\": 3, \"City\": 3, \"Year\": 3, \"Month\": 3, \"Incident\": 3, \"Crime_Type\": 3, \"Crime_Solved\": 3, \"Victim_Sex\": 3, \"Victim_Age\": 3, \"Victim_Race\": 3, \"Victim_Ethnicity\": 3, \"Perpetrator_Age\": 3, \"Perpetrator_Ethnicity\": 3, \"Relationship\": 3, \"Weapon\": 3, \"Victim_Count\": 3, \"Perpetrator_Count\": 3, \"Record_Source\": 3, \"State_Code\": 3, \"id\": 30}, {\"Perpetrator_Sex\": \"Female\", \"State\": \"Nebraska\", \"Perpetrator_Race\": \"White\", \"Record_ID\": 3, \"Agency_Code\": 3, \"Agency_Name\": 3, \"Agency_Type\": 3, \"City\": 3, \"Year\": 3, \"Month\": 3, \"Incident\": 3, \"Crime_Type\": 3, \"Crime_Solved\": 3, \"Victim_Sex\": 3, \"Victim_Age\": 3, \"Victim_Race\": 3, \"Victim_Ethnicity\": 3, \"Perpetrator_Age\": 3, \"Perpetrator_Ethnicity\": 3, \"Relationship\": 3, \"Weapon\": 3, \"Victim_Count\": 3, \"Perpetrator_Count\": 3, \"Record_Source\": 3, \"State_Code\": 3, \"id\": 31}, {\"Perpetrator_Sex\": \"Female\", \"State\": \"Nevada\", \"Perpetrator_Race\": \"White\", \"Record_ID\": 7, \"Agency_Code\": 7, \"Agency_Name\": 7, \"Agency_Type\": 7, \"City\": 7, \"Year\": 7, \"Month\": 7, \"Incident\": 7, \"Crime_Type\": 7, \"Crime_Solved\": 7, \"Victim_Sex\": 7, \"Victim_Age\": 7, \"Victim_Race\": 7, \"Victim_Ethnicity\": 7, \"Perpetrator_Age\": 7, \"Perpetrator_Ethnicity\": 7, \"Relationship\": 7, \"Weapon\": 7, \"Victim_Count\": 7, \"Perpetrator_Count\": 7, \"Record_Source\": 7, \"State_Code\": 7, \"id\": 32}, {\"Perpetrator_Sex\": \"Female\", \"State\": \"New Hampshire\", \"Perpetrator_Race\": \"White\", \"Record_ID\": 2, \"Agency_Code\": 2, \"Agency_Name\": 2, \"Agency_Type\": 2, \"City\": 2, \"Year\": 2, \"Month\": 2, \"Incident\": 2, \"Crime_Type\": 2, \"Crime_Solved\": 2, \"Victim_Sex\": 2, \"Victim_Age\": 2, \"Victim_Race\": 2, \"Victim_Ethnicity\": 2, \"Perpetrator_Age\": 2, \"Perpetrator_Ethnicity\": 2, \"Relationship\": 2, \"Weapon\": 2, \"Victim_Count\": 2, \"Perpetrator_Count\": 2, \"Record_Source\": 2, \"State_Code\": 2, \"id\": 33}, {\"Perpetrator_Sex\": \"Female\", \"State\": \"New Jersey\", \"Perpetrator_Race\": \"White\", \"Record_ID\": 7, \"Agency_Code\": 7, \"Agency_Name\": 7, \"Agency_Type\": 7, \"City\": 7, \"Year\": 7, \"Month\": 7, \"Incident\": 7, \"Crime_Type\": 7, \"Crime_Solved\": 7, \"Victim_Sex\": 7, \"Victim_Age\": 7, \"Victim_Race\": 7, \"Victim_Ethnicity\": 7, \"Perpetrator_Age\": 7, \"Perpetrator_Ethnicity\": 7, \"Relationship\": 7, \"Weapon\": 7, \"Victim_Count\": 7, \"Perpetrator_Count\": 7, \"Record_Source\": 7, \"State_Code\": 7, \"id\": 34}, {\"Perpetrator_Sex\": \"Female\", \"State\": \"New Mexico\", \"Perpetrator_Race\": \"White\", \"Record_ID\": 12, \"Agency_Code\": 12, \"Agency_Name\": 12, \"Agency_Type\": 12, \"City\": 12, \"Year\": 12, \"Month\": 12, \"Incident\": 12, \"Crime_Type\": 12, \"Crime_Solved\": 12, \"Victim_Sex\": 12, \"Victim_Age\": 12, \"Victim_Race\": 12, \"Victim_Ethnicity\": 12, \"Perpetrator_Age\": 12, \"Perpetrator_Ethnicity\": 12, \"Relationship\": 12, \"Weapon\": 12, \"Victim_Count\": 12, \"Perpetrator_Count\": 12, \"Record_Source\": 12, \"State_Code\": 12, \"id\": 35}, {\"Perpetrator_Sex\": \"Female\", \"State\": \"New York\", \"Perpetrator_Race\": \"White\", \"Record_ID\": 13, \"Agency_Code\": 13, \"Agency_Name\": 13, \"Agency_Type\": 13, \"City\": 13, \"Year\": 13, \"Month\": 13, \"Incident\": 13, \"Crime_Type\": 13, \"Crime_Solved\": 13, \"Victim_Sex\": 13, \"Victim_Age\": 13, \"Victim_Race\": 13, \"Victim_Ethnicity\": 13, \"Perpetrator_Age\": 13, \"Perpetrator_Ethnicity\": 13, \"Relationship\": 13, \"Weapon\": 13, \"Victim_Count\": 13, \"Perpetrator_Count\": 13, \"Record_Source\": 13, \"State_Code\": 13, \"id\": 36}, {\"Perpetrator_Sex\": \"Female\", \"State\": \"North Carolina\", \"Perpetrator_Race\": \"White\", \"Record_ID\": 12, \"Agency_Code\": 12, \"Agency_Name\": 12, \"Agency_Type\": 12, \"City\": 12, \"Year\": 12, \"Month\": 12, \"Incident\": 12, \"Crime_Type\": 12, \"Crime_Solved\": 12, \"Victim_Sex\": 12, \"Victim_Age\": 12, \"Victim_Race\": 12, \"Victim_Ethnicity\": 12, \"Perpetrator_Age\": 12, \"Perpetrator_Ethnicity\": 12, \"Relationship\": 12, \"Weapon\": 12, \"Victim_Count\": 12, \"Perpetrator_Count\": 12, \"Record_Source\": 12, \"State_Code\": 12, \"id\": 37}, {\"Perpetrator_Sex\": \"Female\", \"State\": \"Ohio\", \"Perpetrator_Race\": \"White\", \"Record_ID\": 5, \"Agency_Code\": 5, \"Agency_Name\": 5, \"Agency_Type\": 5, \"City\": 5, \"Year\": 5, \"Month\": 5, \"Incident\": 5, \"Crime_Type\": 5, \"Crime_Solved\": 5, \"Victim_Sex\": 5, \"Victim_Age\": 5, \"Victim_Race\": 5, \"Victim_Ethnicity\": 5, \"Perpetrator_Age\": 5, \"Perpetrator_Ethnicity\": 5, \"Relationship\": 5, \"Weapon\": 5, \"Victim_Count\": 5, \"Perpetrator_Count\": 5, \"Record_Source\": 5, \"State_Code\": 5, \"id\": 39}, {\"Perpetrator_Sex\": \"Female\", \"State\": \"Oklahoma\", \"Perpetrator_Race\": \"White\", \"Record_ID\": 17, \"Agency_Code\": 17, \"Agency_Name\": 17, \"Agency_Type\": 17, \"City\": 17, \"Year\": 17, \"Month\": 17, \"Incident\": 17, \"Crime_Type\": 17, \"Crime_Solved\": 17, \"Victim_Sex\": 17, \"Victim_Age\": 17, \"Victim_Race\": 17, \"Victim_Ethnicity\": 17, \"Perpetrator_Age\": 17, \"Perpetrator_Ethnicity\": 17, \"Relationship\": 17, \"Weapon\": 17, \"Victim_Count\": 17, \"Perpetrator_Count\": 17, \"Record_Source\": 17, \"State_Code\": 17, \"id\": 40}, {\"Perpetrator_Sex\": \"Female\", \"State\": \"Oregon\", \"Perpetrator_Race\": \"White\", \"Record_ID\": 6, \"Agency_Code\": 6, \"Agency_Name\": 6, \"Agency_Type\": 6, \"City\": 6, \"Year\": 6, \"Month\": 6, \"Incident\": 6, \"Crime_Type\": 6, \"Crime_Solved\": 6, \"Victim_Sex\": 6, \"Victim_Age\": 6, \"Victim_Race\": 6, \"Victim_Ethnicity\": 6, \"Perpetrator_Age\": 6, \"Perpetrator_Ethnicity\": 6, \"Relationship\": 6, \"Weapon\": 6, \"Victim_Count\": 6, \"Perpetrator_Count\": 6, \"Record_Source\": 6, \"State_Code\": 6, \"id\": 41}, {\"Perpetrator_Sex\": \"Female\", \"State\": \"Pennsylvania\", \"Perpetrator_Race\": \"White\", \"Record_ID\": 24, \"Agency_Code\": 24, \"Agency_Name\": 24, \"Agency_Type\": 24, \"City\": 24, \"Year\": 24, \"Month\": 24, \"Incident\": 24, \"Crime_Type\": 24, \"Crime_Solved\": 24, \"Victim_Sex\": 24, \"Victim_Age\": 24, \"Victim_Race\": 24, \"Victim_Ethnicity\": 24, \"Perpetrator_Age\": 24, \"Perpetrator_Ethnicity\": 24, \"Relationship\": 24, \"Weapon\": 24, \"Victim_Count\": 24, \"Perpetrator_Count\": 24, \"Record_Source\": 24, \"State_Code\": 24, \"id\": 42}, {\"Perpetrator_Sex\": \"Female\", \"State\": \"Rhodes Island\", \"Perpetrator_Race\": \"White\", \"Record_ID\": 1, \"Agency_Code\": 1, \"Agency_Name\": 1, \"Agency_Type\": 1, \"City\": 1, \"Year\": 1, \"Month\": 1, \"Incident\": 1, \"Crime_Type\": 1, \"Crime_Solved\": 1, \"Victim_Sex\": 1, \"Victim_Age\": 1, \"Victim_Race\": 1, \"Victim_Ethnicity\": 1, \"Perpetrator_Age\": 1, \"Perpetrator_Ethnicity\": 1, \"Relationship\": 1, \"Weapon\": 1, \"Victim_Count\": 1, \"Perpetrator_Count\": 1, \"Record_Source\": 1, \"State_Code\": 1, \"id\": \"Rhodes Island\"}, {\"Perpetrator_Sex\": \"Female\", \"State\": \"South Carolina\", \"Perpetrator_Race\": \"White\", \"Record_ID\": 12, \"Agency_Code\": 12, \"Agency_Name\": 12, \"Agency_Type\": 12, \"City\": 12, \"Year\": 12, \"Month\": 12, \"Incident\": 12, \"Crime_Type\": 12, \"Crime_Solved\": 12, \"Victim_Sex\": 12, \"Victim_Age\": 12, \"Victim_Race\": 12, \"Victim_Ethnicity\": 12, \"Perpetrator_Age\": 12, \"Perpetrator_Ethnicity\": 12, \"Relationship\": 12, \"Weapon\": 12, \"Victim_Count\": 12, \"Perpetrator_Count\": 12, \"Record_Source\": 12, \"State_Code\": 12, \"id\": 45}, {\"Perpetrator_Sex\": \"Female\", \"State\": \"South Dakota\", \"Perpetrator_Race\": \"White\", \"Record_ID\": 4, \"Agency_Code\": 4, \"Agency_Name\": 4, \"Agency_Type\": 4, \"City\": 4, \"Year\": 4, \"Month\": 4, \"Incident\": 4, \"Crime_Type\": 4, \"Crime_Solved\": 4, \"Victim_Sex\": 4, \"Victim_Age\": 4, \"Victim_Race\": 4, \"Victim_Ethnicity\": 4, \"Perpetrator_Age\": 4, \"Perpetrator_Ethnicity\": 4, \"Relationship\": 4, \"Weapon\": 4, \"Victim_Count\": 4, \"Perpetrator_Count\": 4, \"Record_Source\": 4, \"State_Code\": 4, \"id\": 46}, {\"Perpetrator_Sex\": \"Female\", \"State\": \"Tennessee\", \"Perpetrator_Race\": \"White\", \"Record_ID\": 22, \"Agency_Code\": 22, \"Agency_Name\": 22, \"Agency_Type\": 22, \"City\": 22, \"Year\": 22, \"Month\": 22, \"Incident\": 22, \"Crime_Type\": 22, \"Crime_Solved\": 22, \"Victim_Sex\": 22, \"Victim_Age\": 22, \"Victim_Race\": 22, \"Victim_Ethnicity\": 22, \"Perpetrator_Age\": 22, \"Perpetrator_Ethnicity\": 22, \"Relationship\": 22, \"Weapon\": 22, \"Victim_Count\": 22, \"Perpetrator_Count\": 22, \"Record_Source\": 22, \"State_Code\": 22, \"id\": 47}, {\"Perpetrator_Sex\": \"Female\", \"State\": \"Texas\", \"Perpetrator_Race\": \"White\", \"Record_ID\": 58, \"Agency_Code\": 58, \"Agency_Name\": 58, \"Agency_Type\": 58, \"City\": 58, \"Year\": 58, \"Month\": 58, \"Incident\": 58, \"Crime_Type\": 58, \"Crime_Solved\": 58, \"Victim_Sex\": 58, \"Victim_Age\": 58, \"Victim_Race\": 58, \"Victim_Ethnicity\": 58, \"Perpetrator_Age\": 58, \"Perpetrator_Ethnicity\": 58, \"Relationship\": 58, \"Weapon\": 58, \"Victim_Count\": 58, \"Perpetrator_Count\": 58, \"Record_Source\": 58, \"State_Code\": 58, \"id\": 48}, {\"Perpetrator_Sex\": \"Female\", \"State\": \"Utah\", \"Perpetrator_Race\": \"White\", \"Record_ID\": 5, \"Agency_Code\": 5, \"Agency_Name\": 5, \"Agency_Type\": 5, \"City\": 5, \"Year\": 5, \"Month\": 5, \"Incident\": 5, \"Crime_Type\": 5, \"Crime_Solved\": 5, \"Victim_Sex\": 5, \"Victim_Age\": 5, \"Victim_Race\": 5, \"Victim_Ethnicity\": 5, \"Perpetrator_Age\": 5, \"Perpetrator_Ethnicity\": 5, \"Relationship\": 5, \"Weapon\": 5, \"Victim_Count\": 5, \"Perpetrator_Count\": 5, \"Record_Source\": 5, \"State_Code\": 5, \"id\": 49}, {\"Perpetrator_Sex\": \"Female\", \"State\": \"Vermont\", \"Perpetrator_Race\": \"White\", \"Record_ID\": 1, \"Agency_Code\": 1, \"Agency_Name\": 1, \"Agency_Type\": 1, \"City\": 1, \"Year\": 1, \"Month\": 1, \"Incident\": 1, \"Crime_Type\": 1, \"Crime_Solved\": 1, \"Victim_Sex\": 1, \"Victim_Age\": 1, \"Victim_Race\": 1, \"Victim_Ethnicity\": 1, \"Perpetrator_Age\": 1, \"Perpetrator_Ethnicity\": 1, \"Relationship\": 1, \"Weapon\": 1, \"Victim_Count\": 1, \"Perpetrator_Count\": 1, \"Record_Source\": 1, \"State_Code\": 1, \"id\": 50}, {\"Perpetrator_Sex\": \"Female\", \"State\": \"Virginia\", \"Perpetrator_Race\": \"White\", \"Record_ID\": 19, \"Agency_Code\": 19, \"Agency_Name\": 19, \"Agency_Type\": 19, \"City\": 19, \"Year\": 19, \"Month\": 19, \"Incident\": 19, \"Crime_Type\": 19, \"Crime_Solved\": 19, \"Victim_Sex\": 19, \"Victim_Age\": 19, \"Victim_Race\": 19, \"Victim_Ethnicity\": 19, \"Perpetrator_Age\": 19, \"Perpetrator_Ethnicity\": 19, \"Relationship\": 19, \"Weapon\": 19, \"Victim_Count\": 19, \"Perpetrator_Count\": 19, \"Record_Source\": 19, \"State_Code\": 19, \"id\": 51}, {\"Perpetrator_Sex\": \"Female\", \"State\": \"Washington\", \"Perpetrator_Race\": \"White\", \"Record_ID\": 6, \"Agency_Code\": 6, \"Agency_Name\": 6, \"Agency_Type\": 6, \"City\": 6, \"Year\": 6, \"Month\": 6, \"Incident\": 6, \"Crime_Type\": 6, \"Crime_Solved\": 6, \"Victim_Sex\": 6, \"Victim_Age\": 6, \"Victim_Race\": 6, \"Victim_Ethnicity\": 6, \"Perpetrator_Age\": 6, \"Perpetrator_Ethnicity\": 6, \"Relationship\": 6, \"Weapon\": 6, \"Victim_Count\": 6, \"Perpetrator_Count\": 6, \"Record_Source\": 6, \"State_Code\": 6, \"id\": 53}, {\"Perpetrator_Sex\": \"Female\", \"State\": \"West Virginia\", \"Perpetrator_Race\": \"White\", \"Record_ID\": 7, \"Agency_Code\": 7, \"Agency_Name\": 7, \"Agency_Type\": 7, \"City\": 7, \"Year\": 7, \"Month\": 7, \"Incident\": 7, \"Crime_Type\": 7, \"Crime_Solved\": 7, \"Victim_Sex\": 7, \"Victim_Age\": 7, \"Victim_Race\": 7, \"Victim_Ethnicity\": 7, \"Perpetrator_Age\": 7, \"Perpetrator_Ethnicity\": 7, \"Relationship\": 7, \"Weapon\": 7, \"Victim_Count\": 7, \"Perpetrator_Count\": 7, \"Record_Source\": 7, \"State_Code\": 7, \"id\": 54}, {\"Perpetrator_Sex\": \"Female\", \"State\": \"Wisconsin\", \"Perpetrator_Race\": \"White\", \"Record_ID\": 10, \"Agency_Code\": 10, \"Agency_Name\": 10, \"Agency_Type\": 10, \"City\": 10, \"Year\": 10, \"Month\": 10, \"Incident\": 10, \"Crime_Type\": 10, \"Crime_Solved\": 10, \"Victim_Sex\": 10, \"Victim_Age\": 10, \"Victim_Race\": 10, \"Victim_Ethnicity\": 10, \"Perpetrator_Age\": 10, \"Perpetrator_Ethnicity\": 10, \"Relationship\": 10, \"Weapon\": 10, \"Victim_Count\": 10, \"Perpetrator_Count\": 10, \"Record_Source\": 10, \"State_Code\": 10, \"id\": 55}, {\"Perpetrator_Sex\": \"Male\", \"State\": \"Alabama\", \"Perpetrator_Race\": \"White\", \"Record_ID\": 41, \"Agency_Code\": 41, \"Agency_Name\": 41, \"Agency_Type\": 41, \"City\": 41, \"Year\": 41, \"Month\": 41, \"Incident\": 41, \"Crime_Type\": 41, \"Crime_Solved\": 41, \"Victim_Sex\": 41, \"Victim_Age\": 41, \"Victim_Race\": 41, \"Victim_Ethnicity\": 41, \"Perpetrator_Age\": 41, \"Perpetrator_Ethnicity\": 41, \"Relationship\": 41, \"Weapon\": 41, \"Victim_Count\": 41, \"Perpetrator_Count\": 41, \"Record_Source\": 41, \"State_Code\": 41, \"id\": 1}, {\"Perpetrator_Sex\": \"Male\", \"State\": \"Alaska\", \"Perpetrator_Race\": \"White\", \"Record_ID\": 18, \"Agency_Code\": 18, \"Agency_Name\": 18, \"Agency_Type\": 18, \"City\": 18, \"Year\": 18, \"Month\": 18, \"Incident\": 18, \"Crime_Type\": 18, \"Crime_Solved\": 18, \"Victim_Sex\": 18, \"Victim_Age\": 18, \"Victim_Race\": 18, \"Victim_Ethnicity\": 18, \"Perpetrator_Age\": 18, \"Perpetrator_Ethnicity\": 18, \"Relationship\": 18, \"Weapon\": 18, \"Victim_Count\": 18, \"Perpetrator_Count\": 18, \"Record_Source\": 18, \"State_Code\": 18, \"id\": 2}, {\"Perpetrator_Sex\": \"Male\", \"State\": \"Arizona\", \"Perpetrator_Race\": \"White\", \"Record_ID\": 223, \"Agency_Code\": 223, \"Agency_Name\": 223, \"Agency_Type\": 223, \"City\": 223, \"Year\": 223, \"Month\": 223, \"Incident\": 223, \"Crime_Type\": 223, \"Crime_Solved\": 223, \"Victim_Sex\": 223, \"Victim_Age\": 223, \"Victim_Race\": 223, \"Victim_Ethnicity\": 223, \"Perpetrator_Age\": 223, \"Perpetrator_Ethnicity\": 223, \"Relationship\": 223, \"Weapon\": 223, \"Victim_Count\": 223, \"Perpetrator_Count\": 223, \"Record_Source\": 223, \"State_Code\": 223, \"id\": 4}, {\"Perpetrator_Sex\": \"Male\", \"State\": \"Arkansas\", \"Perpetrator_Race\": \"White\", \"Record_ID\": 40, \"Agency_Code\": 40, \"Agency_Name\": 40, \"Agency_Type\": 40, \"City\": 40, \"Year\": 40, \"Month\": 40, \"Incident\": 40, \"Crime_Type\": 40, \"Crime_Solved\": 40, \"Victim_Sex\": 40, \"Victim_Age\": 40, \"Victim_Race\": 40, \"Victim_Ethnicity\": 40, \"Perpetrator_Age\": 40, \"Perpetrator_Ethnicity\": 40, \"Relationship\": 40, \"Weapon\": 40, \"Victim_Count\": 40, \"Perpetrator_Count\": 40, \"Record_Source\": 40, \"State_Code\": 40, \"id\": 5}, {\"Perpetrator_Sex\": \"Male\", \"State\": \"California\", \"Perpetrator_Race\": \"White\", \"Record_ID\": 701, \"Agency_Code\": 701, \"Agency_Name\": 701, \"Agency_Type\": 701, \"City\": 701, \"Year\": 701, \"Month\": 701, \"Incident\": 701, \"Crime_Type\": 701, \"Crime_Solved\": 701, \"Victim_Sex\": 701, \"Victim_Age\": 701, \"Victim_Race\": 701, \"Victim_Ethnicity\": 701, \"Perpetrator_Age\": 701, \"Perpetrator_Ethnicity\": 701, \"Relationship\": 701, \"Weapon\": 701, \"Victim_Count\": 701, \"Perpetrator_Count\": 701, \"Record_Source\": 701, \"State_Code\": 701, \"id\": 6}, {\"Perpetrator_Sex\": \"Male\", \"State\": \"Colorado\", \"Perpetrator_Race\": \"White\", \"Record_ID\": 85, \"Agency_Code\": 85, \"Agency_Name\": 85, \"Agency_Type\": 85, \"City\": 85, \"Year\": 85, \"Month\": 85, \"Incident\": 85, \"Crime_Type\": 85, \"Crime_Solved\": 85, \"Victim_Sex\": 85, \"Victim_Age\": 85, \"Victim_Race\": 85, \"Victim_Ethnicity\": 85, \"Perpetrator_Age\": 85, \"Perpetrator_Ethnicity\": 85, \"Relationship\": 85, \"Weapon\": 85, \"Victim_Count\": 85, \"Perpetrator_Count\": 85, \"Record_Source\": 85, \"State_Code\": 85, \"id\": 8}, {\"Perpetrator_Sex\": \"Male\", \"State\": \"Connecticut\", \"Perpetrator_Race\": \"White\", \"Record_ID\": 30, \"Agency_Code\": 30, \"Agency_Name\": 30, \"Agency_Type\": 30, \"City\": 30, \"Year\": 30, \"Month\": 30, \"Incident\": 30, \"Crime_Type\": 30, \"Crime_Solved\": 30, \"Victim_Sex\": 30, \"Victim_Age\": 30, \"Victim_Race\": 30, \"Victim_Ethnicity\": 30, \"Perpetrator_Age\": 30, \"Perpetrator_Ethnicity\": 30, \"Relationship\": 30, \"Weapon\": 30, \"Victim_Count\": 30, \"Perpetrator_Count\": 30, \"Record_Source\": 30, \"State_Code\": 30, \"id\": 9}, {\"Perpetrator_Sex\": \"Male\", \"State\": \"Delaware\", \"Perpetrator_Race\": \"White\", \"Record_ID\": 12, \"Agency_Code\": 12, \"Agency_Name\": 12, \"Agency_Type\": 12, \"City\": 12, \"Year\": 12, \"Month\": 12, \"Incident\": 12, \"Crime_Type\": 12, \"Crime_Solved\": 12, \"Victim_Sex\": 12, \"Victim_Age\": 12, \"Victim_Race\": 12, \"Victim_Ethnicity\": 12, \"Perpetrator_Age\": 12, \"Perpetrator_Ethnicity\": 12, \"Relationship\": 12, \"Weapon\": 12, \"Victim_Count\": 12, \"Perpetrator_Count\": 12, \"Record_Source\": 12, \"State_Code\": 12, \"id\": 10}, {\"Perpetrator_Sex\": \"Male\", \"State\": \"District of Columbia\", \"Perpetrator_Race\": \"White\", \"Record_ID\": 3, \"Agency_Code\": 3, \"Agency_Name\": 3, \"Agency_Type\": 3, \"City\": 3, \"Year\": 3, \"Month\": 3, \"Incident\": 3, \"Crime_Type\": 3, \"Crime_Solved\": 3, \"Victim_Sex\": 3, \"Victim_Age\": 3, \"Victim_Race\": 3, \"Victim_Ethnicity\": 3, \"Perpetrator_Age\": 3, \"Perpetrator_Ethnicity\": 3, \"Relationship\": 3, \"Weapon\": 3, \"Victim_Count\": 3, \"Perpetrator_Count\": 3, \"Record_Source\": 3, \"State_Code\": 3, \"id\": 11}, {\"Perpetrator_Sex\": \"Male\", \"State\": \"Florida\", \"Perpetrator_Race\": \"White\", \"Record_ID\": 416, \"Agency_Code\": 416, \"Agency_Name\": 416, \"Agency_Type\": 416, \"City\": 416, \"Year\": 416, \"Month\": 416, \"Incident\": 416, \"Crime_Type\": 416, \"Crime_Solved\": 416, \"Victim_Sex\": 416, \"Victim_Age\": 416, \"Victim_Race\": 416, \"Victim_Ethnicity\": 416, \"Perpetrator_Age\": 416, \"Perpetrator_Ethnicity\": 416, \"Relationship\": 416, \"Weapon\": 416, \"Victim_Count\": 416, \"Perpetrator_Count\": 416, \"Record_Source\": 416, \"State_Code\": 416, \"id\": 12}, {\"Perpetrator_Sex\": \"Male\", \"State\": \"Georgia\", \"Perpetrator_Race\": \"White\", \"Record_ID\": 99, \"Agency_Code\": 99, \"Agency_Name\": 99, \"Agency_Type\": 99, \"City\": 99, \"Year\": 99, \"Month\": 99, \"Incident\": 99, \"Crime_Type\": 99, \"Crime_Solved\": 99, \"Victim_Sex\": 99, \"Victim_Age\": 99, \"Victim_Race\": 99, \"Victim_Ethnicity\": 99, \"Perpetrator_Age\": 99, \"Perpetrator_Ethnicity\": 99, \"Relationship\": 99, \"Weapon\": 99, \"Victim_Count\": 99, \"Perpetrator_Count\": 99, \"Record_Source\": 99, \"State_Code\": 99, \"id\": 13}, {\"Perpetrator_Sex\": \"Male\", \"State\": \"Hawaii\", \"Perpetrator_Race\": \"White\", \"Record_ID\": 19, \"Agency_Code\": 19, \"Agency_Name\": 19, \"Agency_Type\": 19, \"City\": 19, \"Year\": 19, \"Month\": 19, \"Incident\": 19, \"Crime_Type\": 19, \"Crime_Solved\": 19, \"Victim_Sex\": 19, \"Victim_Age\": 19, \"Victim_Race\": 19, \"Victim_Ethnicity\": 19, \"Perpetrator_Age\": 19, \"Perpetrator_Ethnicity\": 19, \"Relationship\": 19, \"Weapon\": 19, \"Victim_Count\": 19, \"Perpetrator_Count\": 19, \"Record_Source\": 19, \"State_Code\": 19, \"id\": 15}, {\"Perpetrator_Sex\": \"Male\", \"State\": \"Idaho\", \"Perpetrator_Race\": \"White\", \"Record_ID\": 18, \"Agency_Code\": 18, \"Agency_Name\": 18, \"Agency_Type\": 18, \"City\": 18, \"Year\": 18, \"Month\": 18, \"Incident\": 18, \"Crime_Type\": 18, \"Crime_Solved\": 18, \"Victim_Sex\": 18, \"Victim_Age\": 18, \"Victim_Race\": 18, \"Victim_Ethnicity\": 18, \"Perpetrator_Age\": 18, \"Perpetrator_Ethnicity\": 18, \"Relationship\": 18, \"Weapon\": 18, \"Victim_Count\": 18, \"Perpetrator_Count\": 18, \"Record_Source\": 18, \"State_Code\": 18, \"id\": 16}, {\"Perpetrator_Sex\": \"Male\", \"State\": \"Illinois\", \"Perpetrator_Race\": \"White\", \"Record_ID\": 44, \"Agency_Code\": 44, \"Agency_Name\": 44, \"Agency_Type\": 44, \"City\": 44, \"Year\": 44, \"Month\": 44, \"Incident\": 44, \"Crime_Type\": 44, \"Crime_Solved\": 44, \"Victim_Sex\": 44, \"Victim_Age\": 44, \"Victim_Race\": 44, \"Victim_Ethnicity\": 44, \"Perpetrator_Age\": 44, \"Perpetrator_Ethnicity\": 44, \"Relationship\": 44, \"Weapon\": 44, \"Victim_Count\": 44, \"Perpetrator_Count\": 44, \"Record_Source\": 44, \"State_Code\": 44, \"id\": 17}, {\"Perpetrator_Sex\": \"Male\", \"State\": \"Indiana\", \"Perpetrator_Race\": \"White\", \"Record_ID\": 80, \"Agency_Code\": 80, \"Agency_Name\": 80, \"Agency_Type\": 80, \"City\": 80, \"Year\": 80, \"Month\": 80, \"Incident\": 80, \"Crime_Type\": 80, \"Crime_Solved\": 80, \"Victim_Sex\": 80, \"Victim_Age\": 80, \"Victim_Race\": 80, \"Victim_Ethnicity\": 80, \"Perpetrator_Age\": 80, \"Perpetrator_Ethnicity\": 80, \"Relationship\": 80, \"Weapon\": 80, \"Victim_Count\": 80, \"Perpetrator_Count\": 80, \"Record_Source\": 80, \"State_Code\": 80, \"id\": 18}, {\"Perpetrator_Sex\": \"Male\", \"State\": \"Iowa\", \"Perpetrator_Race\": \"White\", \"Record_ID\": 24, \"Agency_Code\": 24, \"Agency_Name\": 24, \"Agency_Type\": 24, \"City\": 24, \"Year\": 24, \"Month\": 24, \"Incident\": 24, \"Crime_Type\": 24, \"Crime_Solved\": 24, \"Victim_Sex\": 24, \"Victim_Age\": 24, \"Victim_Race\": 24, \"Victim_Ethnicity\": 24, \"Perpetrator_Age\": 24, \"Perpetrator_Ethnicity\": 24, \"Relationship\": 24, \"Weapon\": 24, \"Victim_Count\": 24, \"Perpetrator_Count\": 24, \"Record_Source\": 24, \"State_Code\": 24, \"id\": 19}, {\"Perpetrator_Sex\": \"Male\", \"State\": \"Kansas\", \"Perpetrator_Race\": \"White\", \"Record_ID\": 50, \"Agency_Code\": 50, \"Agency_Name\": 50, \"Agency_Type\": 50, \"City\": 50, \"Year\": 50, \"Month\": 50, \"Incident\": 50, \"Crime_Type\": 50, \"Crime_Solved\": 50, \"Victim_Sex\": 50, \"Victim_Age\": 50, \"Victim_Race\": 50, \"Victim_Ethnicity\": 50, \"Perpetrator_Age\": 50, \"Perpetrator_Ethnicity\": 50, \"Relationship\": 50, \"Weapon\": 50, \"Victim_Count\": 50, \"Perpetrator_Count\": 50, \"Record_Source\": 50, \"State_Code\": 50, \"id\": 20}, {\"Perpetrator_Sex\": \"Male\", \"State\": \"Kentucky\", \"Perpetrator_Race\": \"White\", \"Record_ID\": 92, \"Agency_Code\": 92, \"Agency_Name\": 92, \"Agency_Type\": 92, \"City\": 92, \"Year\": 92, \"Month\": 92, \"Incident\": 92, \"Crime_Type\": 92, \"Crime_Solved\": 92, \"Victim_Sex\": 92, \"Victim_Age\": 92, \"Victim_Race\": 92, \"Victim_Ethnicity\": 92, \"Perpetrator_Age\": 92, \"Perpetrator_Ethnicity\": 92, \"Relationship\": 92, \"Weapon\": 92, \"Victim_Count\": 92, \"Perpetrator_Count\": 92, \"Record_Source\": 92, \"State_Code\": 92, \"id\": 21}, {\"Perpetrator_Sex\": \"Male\", \"State\": \"Louisiana\", \"Perpetrator_Race\": \"White\", \"Record_ID\": 67, \"Agency_Code\": 67, \"Agency_Name\": 67, \"Agency_Type\": 67, \"City\": 67, \"Year\": 67, \"Month\": 67, \"Incident\": 67, \"Crime_Type\": 67, \"Crime_Solved\": 67, \"Victim_Sex\": 67, \"Victim_Age\": 67, \"Victim_Race\": 67, \"Victim_Ethnicity\": 67, \"Perpetrator_Age\": 67, \"Perpetrator_Ethnicity\": 67, \"Relationship\": 67, \"Weapon\": 67, \"Victim_Count\": 67, \"Perpetrator_Count\": 67, \"Record_Source\": 67, \"State_Code\": 67, \"id\": 22}, {\"Perpetrator_Sex\": \"Male\", \"State\": \"Maine\", \"Perpetrator_Race\": \"White\", \"Record_ID\": 20, \"Agency_Code\": 20, \"Agency_Name\": 20, \"Agency_Type\": 20, \"City\": 20, \"Year\": 20, \"Month\": 20, \"Incident\": 20, \"Crime_Type\": 20, \"Crime_Solved\": 20, \"Victim_Sex\": 20, \"Victim_Age\": 20, \"Victim_Race\": 20, \"Victim_Ethnicity\": 20, \"Perpetrator_Age\": 20, \"Perpetrator_Ethnicity\": 20, \"Relationship\": 20, \"Weapon\": 20, \"Victim_Count\": 20, \"Perpetrator_Count\": 20, \"Record_Source\": 20, \"State_Code\": 20, \"id\": 23}, {\"Perpetrator_Sex\": \"Male\", \"State\": \"Maryland\", \"Perpetrator_Race\": \"White\", \"Record_ID\": 55, \"Agency_Code\": 55, \"Agency_Name\": 55, \"Agency_Type\": 55, \"City\": 55, \"Year\": 55, \"Month\": 55, \"Incident\": 55, \"Crime_Type\": 55, \"Crime_Solved\": 55, \"Victim_Sex\": 55, \"Victim_Age\": 55, \"Victim_Race\": 55, \"Victim_Ethnicity\": 55, \"Perpetrator_Age\": 55, \"Perpetrator_Ethnicity\": 55, \"Relationship\": 55, \"Weapon\": 55, \"Victim_Count\": 55, \"Perpetrator_Count\": 55, \"Record_Source\": 55, \"State_Code\": 55, \"id\": 24}, {\"Perpetrator_Sex\": \"Male\", \"State\": \"Massachusetts\", \"Perpetrator_Race\": \"White\", \"Record_ID\": 76, \"Agency_Code\": 76, \"Agency_Name\": 76, \"Agency_Type\": 76, \"City\": 76, \"Year\": 76, \"Month\": 76, \"Incident\": 76, \"Crime_Type\": 76, \"Crime_Solved\": 76, \"Victim_Sex\": 76, \"Victim_Age\": 76, \"Victim_Race\": 76, \"Victim_Ethnicity\": 76, \"Perpetrator_Age\": 76, \"Perpetrator_Ethnicity\": 76, \"Relationship\": 76, \"Weapon\": 76, \"Victim_Count\": 76, \"Perpetrator_Count\": 76, \"Record_Source\": 76, \"State_Code\": 76, \"id\": 25}, {\"Perpetrator_Sex\": \"Male\", \"State\": \"Michigan\", \"Perpetrator_Race\": \"White\", \"Record_ID\": 105, \"Agency_Code\": 105, \"Agency_Name\": 105, \"Agency_Type\": 105, \"City\": 105, \"Year\": 105, \"Month\": 105, \"Incident\": 105, \"Crime_Type\": 105, \"Crime_Solved\": 105, \"Victim_Sex\": 105, \"Victim_Age\": 105, \"Victim_Race\": 105, \"Victim_Ethnicity\": 105, \"Perpetrator_Age\": 105, \"Perpetrator_Ethnicity\": 105, \"Relationship\": 105, \"Weapon\": 105, \"Victim_Count\": 105, \"Perpetrator_Count\": 105, \"Record_Source\": 105, \"State_Code\": 105, \"id\": 26}, {\"Perpetrator_Sex\": \"Male\", \"State\": \"Minnesota\", \"Perpetrator_Race\": \"White\", \"Record_ID\": 35, \"Agency_Code\": 35, \"Agency_Name\": 35, \"Agency_Type\": 35, \"City\": 35, \"Year\": 35, \"Month\": 35, \"Incident\": 35, \"Crime_Type\": 35, \"Crime_Solved\": 35, \"Victim_Sex\": 35, \"Victim_Age\": 35, \"Victim_Race\": 35, \"Victim_Ethnicity\": 35, \"Perpetrator_Age\": 35, \"Perpetrator_Ethnicity\": 35, \"Relationship\": 35, \"Weapon\": 35, \"Victim_Count\": 35, \"Perpetrator_Count\": 35, \"Record_Source\": 35, \"State_Code\": 35, \"id\": 27}, {\"Perpetrator_Sex\": \"Male\", \"State\": \"Mississippi\", \"Perpetrator_Race\": \"White\", \"Record_ID\": 33, \"Agency_Code\": 33, \"Agency_Name\": 33, \"Agency_Type\": 33, \"City\": 33, \"Year\": 33, \"Month\": 33, \"Incident\": 33, \"Crime_Type\": 33, \"Crime_Solved\": 33, \"Victim_Sex\": 33, \"Victim_Age\": 33, \"Victim_Race\": 33, \"Victim_Ethnicity\": 33, \"Perpetrator_Age\": 33, \"Perpetrator_Ethnicity\": 33, \"Relationship\": 33, \"Weapon\": 33, \"Victim_Count\": 33, \"Perpetrator_Count\": 33, \"Record_Source\": 33, \"State_Code\": 33, \"id\": 28}, {\"Perpetrator_Sex\": \"Male\", \"State\": \"Missouri\", \"Perpetrator_Race\": \"White\", \"Record_ID\": 134, \"Agency_Code\": 134, \"Agency_Name\": 134, \"Agency_Type\": 134, \"City\": 134, \"Year\": 134, \"Month\": 134, \"Incident\": 134, \"Crime_Type\": 134, \"Crime_Solved\": 134, \"Victim_Sex\": 134, \"Victim_Age\": 134, \"Victim_Race\": 134, \"Victim_Ethnicity\": 134, \"Perpetrator_Age\": 134, \"Perpetrator_Ethnicity\": 134, \"Relationship\": 134, \"Weapon\": 134, \"Victim_Count\": 134, \"Perpetrator_Count\": 134, \"Record_Source\": 134, \"State_Code\": 134, \"id\": 29}, {\"Perpetrator_Sex\": \"Male\", \"State\": \"Montana\", \"Perpetrator_Race\": \"White\", \"Record_ID\": 18, \"Agency_Code\": 18, \"Agency_Name\": 18, \"Agency_Type\": 18, \"City\": 18, \"Year\": 18, \"Month\": 18, \"Incident\": 18, \"Crime_Type\": 18, \"Crime_Solved\": 18, \"Victim_Sex\": 18, \"Victim_Age\": 18, \"Victim_Race\": 18, \"Victim_Ethnicity\": 18, \"Perpetrator_Age\": 18, \"Perpetrator_Ethnicity\": 18, \"Relationship\": 18, \"Weapon\": 18, \"Victim_Count\": 18, \"Perpetrator_Count\": 18, \"Record_Source\": 18, \"State_Code\": 18, \"id\": 30}, {\"Perpetrator_Sex\": \"Male\", \"State\": \"Nebraska\", \"Perpetrator_Race\": \"White\", \"Record_ID\": 17, \"Agency_Code\": 17, \"Agency_Name\": 17, \"Agency_Type\": 17, \"City\": 17, \"Year\": 17, \"Month\": 17, \"Incident\": 17, \"Crime_Type\": 17, \"Crime_Solved\": 17, \"Victim_Sex\": 17, \"Victim_Age\": 17, \"Victim_Race\": 17, \"Victim_Ethnicity\": 17, \"Perpetrator_Age\": 17, \"Perpetrator_Ethnicity\": 17, \"Relationship\": 17, \"Weapon\": 17, \"Victim_Count\": 17, \"Perpetrator_Count\": 17, \"Record_Source\": 17, \"State_Code\": 17, \"id\": 31}, {\"Perpetrator_Sex\": \"Male\", \"State\": \"Nevada\", \"Perpetrator_Race\": \"White\", \"Record_ID\": 86, \"Agency_Code\": 86, \"Agency_Name\": 86, \"Agency_Type\": 86, \"City\": 86, \"Year\": 86, \"Month\": 86, \"Incident\": 86, \"Crime_Type\": 86, \"Crime_Solved\": 86, \"Victim_Sex\": 86, \"Victim_Age\": 86, \"Victim_Race\": 86, \"Victim_Ethnicity\": 86, \"Perpetrator_Age\": 86, \"Perpetrator_Ethnicity\": 86, \"Relationship\": 86, \"Weapon\": 86, \"Victim_Count\": 86, \"Perpetrator_Count\": 86, \"Record_Source\": 86, \"State_Code\": 86, \"id\": 32}, {\"Perpetrator_Sex\": \"Male\", \"State\": \"New Hampshire\", \"Perpetrator_Race\": \"White\", \"Record_ID\": 7, \"Agency_Code\": 7, \"Agency_Name\": 7, \"Agency_Type\": 7, \"City\": 7, \"Year\": 7, \"Month\": 7, \"Incident\": 7, \"Crime_Type\": 7, \"Crime_Solved\": 7, \"Victim_Sex\": 7, \"Victim_Age\": 7, \"Victim_Race\": 7, \"Victim_Ethnicity\": 7, \"Perpetrator_Age\": 7, \"Perpetrator_Ethnicity\": 7, \"Relationship\": 7, \"Weapon\": 7, \"Victim_Count\": 7, \"Perpetrator_Count\": 7, \"Record_Source\": 7, \"State_Code\": 7, \"id\": 33}, {\"Perpetrator_Sex\": \"Male\", \"State\": \"New Jersey\", \"Perpetrator_Race\": \"White\", \"Record_ID\": 81, \"Agency_Code\": 81, \"Agency_Name\": 81, \"Agency_Type\": 81, \"City\": 81, \"Year\": 81, \"Month\": 81, \"Incident\": 81, \"Crime_Type\": 81, \"Crime_Solved\": 81, \"Victim_Sex\": 81, \"Victim_Age\": 81, \"Victim_Race\": 81, \"Victim_Ethnicity\": 81, \"Perpetrator_Age\": 81, \"Perpetrator_Ethnicity\": 81, \"Relationship\": 81, \"Weapon\": 81, \"Victim_Count\": 81, \"Perpetrator_Count\": 81, \"Record_Source\": 81, \"State_Code\": 81, \"id\": 34}, {\"Perpetrator_Sex\": \"Male\", \"State\": \"New Mexico\", \"Perpetrator_Race\": \"White\", \"Record_ID\": 85, \"Agency_Code\": 85, \"Agency_Name\": 85, \"Agency_Type\": 85, \"City\": 85, \"Year\": 85, \"Month\": 85, \"Incident\": 85, \"Crime_Type\": 85, \"Crime_Solved\": 85, \"Victim_Sex\": 85, \"Victim_Age\": 85, \"Victim_Race\": 85, \"Victim_Ethnicity\": 85, \"Perpetrator_Age\": 85, \"Perpetrator_Ethnicity\": 85, \"Relationship\": 85, \"Weapon\": 85, \"Victim_Count\": 85, \"Perpetrator_Count\": 85, \"Record_Source\": 85, \"State_Code\": 85, \"id\": 35}, {\"Perpetrator_Sex\": \"Male\", \"State\": \"New York\", \"Perpetrator_Race\": \"White\", \"Record_ID\": 157, \"Agency_Code\": 157, \"Agency_Name\": 157, \"Agency_Type\": 157, \"City\": 157, \"Year\": 157, \"Month\": 157, \"Incident\": 157, \"Crime_Type\": 157, \"Crime_Solved\": 157, \"Victim_Sex\": 157, \"Victim_Age\": 157, \"Victim_Race\": 157, \"Victim_Ethnicity\": 157, \"Perpetrator_Age\": 157, \"Perpetrator_Ethnicity\": 157, \"Relationship\": 157, \"Weapon\": 157, \"Victim_Count\": 157, \"Perpetrator_Count\": 157, \"Record_Source\": 157, \"State_Code\": 157, \"id\": 36}, {\"Perpetrator_Sex\": \"Male\", \"State\": \"North Carolina\", \"Perpetrator_Race\": \"White\", \"Record_ID\": 150, \"Agency_Code\": 150, \"Agency_Name\": 150, \"Agency_Type\": 150, \"City\": 150, \"Year\": 150, \"Month\": 150, \"Incident\": 150, \"Crime_Type\": 150, \"Crime_Solved\": 150, \"Victim_Sex\": 150, \"Victim_Age\": 150, \"Victim_Race\": 150, \"Victim_Ethnicity\": 150, \"Perpetrator_Age\": 150, \"Perpetrator_Ethnicity\": 150, \"Relationship\": 150, \"Weapon\": 150, \"Victim_Count\": 150, \"Perpetrator_Count\": 150, \"Record_Source\": 150, \"State_Code\": 150, \"id\": 37}, {\"Perpetrator_Sex\": \"Male\", \"State\": \"North Dakota\", \"Perpetrator_Race\": \"White\", \"Record_ID\": 9, \"Agency_Code\": 9, \"Agency_Name\": 9, \"Agency_Type\": 9, \"City\": 9, \"Year\": 9, \"Month\": 9, \"Incident\": 9, \"Crime_Type\": 9, \"Crime_Solved\": 9, \"Victim_Sex\": 9, \"Victim_Age\": 9, \"Victim_Race\": 9, \"Victim_Ethnicity\": 9, \"Perpetrator_Age\": 9, \"Perpetrator_Ethnicity\": 9, \"Relationship\": 9, \"Weapon\": 9, \"Victim_Count\": 9, \"Perpetrator_Count\": 9, \"Record_Source\": 9, \"State_Code\": 9, \"id\": 38}, {\"Perpetrator_Sex\": \"Male\", \"State\": \"Ohio\", \"Perpetrator_Race\": \"White\", \"Record_ID\": 92, \"Agency_Code\": 92, \"Agency_Name\": 92, \"Agency_Type\": 92, \"City\": 92, \"Year\": 92, \"Month\": 92, \"Incident\": 92, \"Crime_Type\": 92, \"Crime_Solved\": 92, \"Victim_Sex\": 92, \"Victim_Age\": 92, \"Victim_Race\": 92, \"Victim_Ethnicity\": 92, \"Perpetrator_Age\": 92, \"Perpetrator_Ethnicity\": 92, \"Relationship\": 92, \"Weapon\": 92, \"Victim_Count\": 92, \"Perpetrator_Count\": 92, \"Record_Source\": 92, \"State_Code\": 92, \"id\": 39}, {\"Perpetrator_Sex\": \"Male\", \"State\": \"Oklahoma\", \"Perpetrator_Race\": \"White\", \"Record_ID\": 74, \"Agency_Code\": 74, \"Agency_Name\": 74, \"Agency_Type\": 74, \"City\": 74, \"Year\": 74, \"Month\": 74, \"Incident\": 74, \"Crime_Type\": 74, \"Crime_Solved\": 74, \"Victim_Sex\": 74, \"Victim_Age\": 74, \"Victim_Race\": 74, \"Victim_Ethnicity\": 74, \"Perpetrator_Age\": 74, \"Perpetrator_Ethnicity\": 74, \"Relationship\": 74, \"Weapon\": 74, \"Victim_Count\": 74, \"Perpetrator_Count\": 74, \"Record_Source\": 74, \"State_Code\": 74, \"id\": 40}, {\"Perpetrator_Sex\": \"Male\", \"State\": \"Oregon\", \"Perpetrator_Race\": \"White\", \"Record_ID\": 62, \"Agency_Code\": 62, \"Agency_Name\": 62, \"Agency_Type\": 62, \"City\": 62, \"Year\": 62, \"Month\": 62, \"Incident\": 62, \"Crime_Type\": 62, \"Crime_Solved\": 62, \"Victim_Sex\": 62, \"Victim_Age\": 62, \"Victim_Race\": 62, \"Victim_Ethnicity\": 62, \"Perpetrator_Age\": 62, \"Perpetrator_Ethnicity\": 62, \"Relationship\": 62, \"Weapon\": 62, \"Victim_Count\": 62, \"Perpetrator_Count\": 62, \"Record_Source\": 62, \"State_Code\": 62, \"id\": 41}, {\"Perpetrator_Sex\": \"Male\", \"State\": \"Pennsylvania\", \"Perpetrator_Race\": \"White\", \"Record_ID\": 171, \"Agency_Code\": 171, \"Agency_Name\": 171, \"Agency_Type\": 171, \"City\": 171, \"Year\": 171, \"Month\": 171, \"Incident\": 171, \"Crime_Type\": 171, \"Crime_Solved\": 171, \"Victim_Sex\": 171, \"Victim_Age\": 171, \"Victim_Race\": 171, \"Victim_Ethnicity\": 171, \"Perpetrator_Age\": 171, \"Perpetrator_Ethnicity\": 171, \"Relationship\": 171, \"Weapon\": 171, \"Victim_Count\": 171, \"Perpetrator_Count\": 171, \"Record_Source\": 171, \"State_Code\": 171, \"id\": 42}, {\"Perpetrator_Sex\": \"Male\", \"State\": \"Rhodes Island\", \"Perpetrator_Race\": \"White\", \"Record_ID\": 15, \"Agency_Code\": 15, \"Agency_Name\": 15, \"Agency_Type\": 15, \"City\": 15, \"Year\": 15, \"Month\": 15, \"Incident\": 15, \"Crime_Type\": 15, \"Crime_Solved\": 15, \"Victim_Sex\": 15, \"Victim_Age\": 15, \"Victim_Race\": 15, \"Victim_Ethnicity\": 15, \"Perpetrator_Age\": 15, \"Perpetrator_Ethnicity\": 15, \"Relationship\": 15, \"Weapon\": 15, \"Victim_Count\": 15, \"Perpetrator_Count\": 15, \"Record_Source\": 15, \"State_Code\": 15, \"id\": \"Rhodes Island\"}, {\"Perpetrator_Sex\": \"Male\", \"State\": \"South Carolina\", \"Perpetrator_Race\": \"White\", \"Record_ID\": 80, \"Agency_Code\": 80, \"Agency_Name\": 80, \"Agency_Type\": 80, \"City\": 80, \"Year\": 80, \"Month\": 80, \"Incident\": 80, \"Crime_Type\": 80, \"Crime_Solved\": 80, \"Victim_Sex\": 80, \"Victim_Age\": 80, \"Victim_Race\": 80, \"Victim_Ethnicity\": 80, \"Perpetrator_Age\": 80, \"Perpetrator_Ethnicity\": 80, \"Relationship\": 80, \"Weapon\": 80, \"Victim_Count\": 80, \"Perpetrator_Count\": 80, \"Record_Source\": 80, \"State_Code\": 80, \"id\": 45}, {\"Perpetrator_Sex\": \"Male\", \"State\": \"South Dakota\", \"Perpetrator_Race\": \"White\", \"Record_ID\": 7, \"Agency_Code\": 7, \"Agency_Name\": 7, \"Agency_Type\": 7, \"City\": 7, \"Year\": 7, \"Month\": 7, \"Incident\": 7, \"Crime_Type\": 7, \"Crime_Solved\": 7, \"Victim_Sex\": 7, \"Victim_Age\": 7, \"Victim_Race\": 7, \"Victim_Ethnicity\": 7, \"Perpetrator_Age\": 7, \"Perpetrator_Ethnicity\": 7, \"Relationship\": 7, \"Weapon\": 7, \"Victim_Count\": 7, \"Perpetrator_Count\": 7, \"Record_Source\": 7, \"State_Code\": 7, \"id\": 46}, {\"Perpetrator_Sex\": \"Male\", \"State\": \"Tennessee\", \"Perpetrator_Race\": \"White\", \"Record_ID\": 147, \"Agency_Code\": 147, \"Agency_Name\": 147, \"Agency_Type\": 147, \"City\": 147, \"Year\": 147, \"Month\": 147, \"Incident\": 147, \"Crime_Type\": 147, \"Crime_Solved\": 147, \"Victim_Sex\": 147, \"Victim_Age\": 147, \"Victim_Race\": 147, \"Victim_Ethnicity\": 147, \"Perpetrator_Age\": 147, \"Perpetrator_Ethnicity\": 147, \"Relationship\": 147, \"Weapon\": 147, \"Victim_Count\": 147, \"Perpetrator_Count\": 147, \"Record_Source\": 147, \"State_Code\": 147, \"id\": 47}, {\"Perpetrator_Sex\": \"Male\", \"State\": \"Texas\", \"Perpetrator_Race\": \"White\", \"Record_ID\": 620, \"Agency_Code\": 620, \"Agency_Name\": 620, \"Agency_Type\": 620, \"City\": 620, \"Year\": 620, \"Month\": 620, \"Incident\": 620, \"Crime_Type\": 620, \"Crime_Solved\": 620, \"Victim_Sex\": 620, \"Victim_Age\": 620, \"Victim_Race\": 620, \"Victim_Ethnicity\": 620, \"Perpetrator_Age\": 620, \"Perpetrator_Ethnicity\": 620, \"Relationship\": 620, \"Weapon\": 620, \"Victim_Count\": 620, \"Perpetrator_Count\": 620, \"Record_Source\": 620, \"State_Code\": 620, \"id\": 48}, {\"Perpetrator_Sex\": \"Male\", \"State\": \"Utah\", \"Perpetrator_Race\": \"White\", \"Record_ID\": 41, \"Agency_Code\": 41, \"Agency_Name\": 41, \"Agency_Type\": 41, \"City\": 41, \"Year\": 41, \"Month\": 41, \"Incident\": 41, \"Crime_Type\": 41, \"Crime_Solved\": 41, \"Victim_Sex\": 41, \"Victim_Age\": 41, \"Victim_Race\": 41, \"Victim_Ethnicity\": 41, \"Perpetrator_Age\": 41, \"Perpetrator_Ethnicity\": 41, \"Relationship\": 41, \"Weapon\": 41, \"Victim_Count\": 41, \"Perpetrator_Count\": 41, \"Record_Source\": 41, \"State_Code\": 41, \"id\": 49}, {\"Perpetrator_Sex\": \"Male\", \"State\": \"Vermont\", \"Perpetrator_Race\": \"White\", \"Record_ID\": 6, \"Agency_Code\": 6, \"Agency_Name\": 6, \"Agency_Type\": 6, \"City\": 6, \"Year\": 6, \"Month\": 6, \"Incident\": 6, \"Crime_Type\": 6, \"Crime_Solved\": 6, \"Victim_Sex\": 6, \"Victim_Age\": 6, \"Victim_Race\": 6, \"Victim_Ethnicity\": 6, \"Perpetrator_Age\": 6, \"Perpetrator_Ethnicity\": 6, \"Relationship\": 6, \"Weapon\": 6, \"Victim_Count\": 6, \"Perpetrator_Count\": 6, \"Record_Source\": 6, \"State_Code\": 6, \"id\": 50}, {\"Perpetrator_Sex\": \"Male\", \"State\": \"Virginia\", \"Perpetrator_Race\": \"White\", \"Record_ID\": 132, \"Agency_Code\": 132, \"Agency_Name\": 132, \"Agency_Type\": 132, \"City\": 132, \"Year\": 132, \"Month\": 132, \"Incident\": 132, \"Crime_Type\": 132, \"Crime_Solved\": 132, \"Victim_Sex\": 132, \"Victim_Age\": 132, \"Victim_Race\": 132, \"Victim_Ethnicity\": 132, \"Perpetrator_Age\": 132, \"Perpetrator_Ethnicity\": 132, \"Relationship\": 132, \"Weapon\": 132, \"Victim_Count\": 132, \"Perpetrator_Count\": 132, \"Record_Source\": 132, \"State_Code\": 132, \"id\": 51}, {\"Perpetrator_Sex\": \"Male\", \"State\": \"Washington\", \"Perpetrator_Race\": \"White\", \"Record_ID\": 104, \"Agency_Code\": 104, \"Agency_Name\": 104, \"Agency_Type\": 104, \"City\": 104, \"Year\": 104, \"Month\": 104, \"Incident\": 104, \"Crime_Type\": 104, \"Crime_Solved\": 104, \"Victim_Sex\": 104, \"Victim_Age\": 104, \"Victim_Race\": 104, \"Victim_Ethnicity\": 104, \"Perpetrator_Age\": 104, \"Perpetrator_Ethnicity\": 104, \"Relationship\": 104, \"Weapon\": 104, \"Victim_Count\": 104, \"Perpetrator_Count\": 104, \"Record_Source\": 104, \"State_Code\": 104, \"id\": 53}, {\"Perpetrator_Sex\": \"Male\", \"State\": \"West Virginia\", \"Perpetrator_Race\": \"White\", \"Record_ID\": 30, \"Agency_Code\": 30, \"Agency_Name\": 30, \"Agency_Type\": 30, \"City\": 30, \"Year\": 30, \"Month\": 30, \"Incident\": 30, \"Crime_Type\": 30, \"Crime_Solved\": 30, \"Victim_Sex\": 30, \"Victim_Age\": 30, \"Victim_Race\": 30, \"Victim_Ethnicity\": 30, \"Perpetrator_Age\": 30, \"Perpetrator_Ethnicity\": 30, \"Relationship\": 30, \"Weapon\": 30, \"Victim_Count\": 30, \"Perpetrator_Count\": 30, \"Record_Source\": 30, \"State_Code\": 30, \"id\": 54}, {\"Perpetrator_Sex\": \"Male\", \"State\": \"Wisconsin\", \"Perpetrator_Race\": \"White\", \"Record_ID\": 59, \"Agency_Code\": 59, \"Agency_Name\": 59, \"Agency_Type\": 59, \"City\": 59, \"Year\": 59, \"Month\": 59, \"Incident\": 59, \"Crime_Type\": 59, \"Crime_Solved\": 59, \"Victim_Sex\": 59, \"Victim_Age\": 59, \"Victim_Race\": 59, \"Victim_Ethnicity\": 59, \"Perpetrator_Age\": 59, \"Perpetrator_Ethnicity\": 59, \"Relationship\": 59, \"Weapon\": 59, \"Victim_Count\": 59, \"Perpetrator_Count\": 59, \"Record_Source\": 59, \"State_Code\": 59, \"id\": 55}, {\"Perpetrator_Sex\": \"Male\", \"State\": \"Wyoming\", \"Perpetrator_Race\": \"White\", \"Record_ID\": 6, \"Agency_Code\": 6, \"Agency_Name\": 6, \"Agency_Type\": 6, \"City\": 6, \"Year\": 6, \"Month\": 6, \"Incident\": 6, \"Crime_Type\": 6, \"Crime_Solved\": 6, \"Victim_Sex\": 6, \"Victim_Age\": 6, \"Victim_Race\": 6, \"Victim_Ethnicity\": 6, \"Perpetrator_Age\": 6, \"Perpetrator_Ethnicity\": 6, \"Relationship\": 6, \"Weapon\": 6, \"Victim_Count\": 6, \"Perpetrator_Count\": 6, \"Record_Source\": 6, \"State_Code\": 6, \"id\": 56}, {\"Perpetrator_Sex\": \"Unknown\", \"State\": \"Texas\", \"Perpetrator_Race\": \"White\", \"Record_ID\": 1, \"Agency_Code\": 1, \"Agency_Name\": 1, \"Agency_Type\": 1, \"City\": 1, \"Year\": 1, \"Month\": 1, \"Incident\": 1, \"Crime_Type\": 1, \"Crime_Solved\": 1, \"Victim_Sex\": 1, \"Victim_Age\": 1, \"Victim_Race\": 1, \"Victim_Ethnicity\": 1, \"Perpetrator_Age\": 1, \"Perpetrator_Ethnicity\": 1, \"Relationship\": 1, \"Weapon\": 1, \"Victim_Count\": 1, \"Perpetrator_Count\": 1, \"Record_Source\": 1, \"State_Code\": 1, \"id\": 48}]}}, {\"mode\": \"vega-lite\"});\n",
       "</script>"
      ],
      "text/plain": [
       "alt.HConcatChart(...)"
      ]
     },
     "execution_count": 254,
     "metadata": {},
     "output_type": "execute_result"
    }
   ],
   "source": [
    "import altair as alt\n",
    "from vega_datasets import data\n",
    "\n",
    "\n",
    "#state_pop = data.population_engineers_hurricanes()[['state', 'id', 'population']]\n",
    "state_map = alt.topo_feature(data.us_10m.url, 'states')\n",
    "\n",
    "click = alt.selection_multi(fields=['State'])\n",
    "\n",
    "choropleth = (alt.Chart(state_map).mark_geoshape().transform_lookup(\n",
    "    lookup='id',\n",
    "    from_=alt.LookupData(t2, 'id', list(t2.columns)))\n",
    ".encode(\n",
    "    color='Record_ID:Q',\n",
    "    opacity=alt.condition(click, alt.value(1), alt.value(0.2)),\n",
    "    tooltip=['Record_ID:Q'])\n",
    ".add_selection(click)\n",
    ".project(type='albersUsa').properties(\n",
    "    width=500,\n",
    "    height=700\n",
    "))\n",
    "\n",
    "'''lines = (\n",
    "    alt.Chart(\n",
    "        tttt,).mark_line().encode(\n",
    "    x=alt.X('Month',sort=Month_sort),\n",
    "    y='sum(Record_ID):Q',\n",
    "    color='Perpetrator_Sex',\n",
    "    tooltip=['Month', 'Perpetrator_Sex', 'sum(Record_ID)'])\n",
    ".transform_filter(click).properties(\n",
    "    width=800,\n",
    "    height=300\n",
    ").interactive())'''\n",
    "\n",
    "highlight = alt.selection(type='single', on='mouseover', fields=['Month'], nearest=True)\n",
    "base=alt.Chart(tttt).encode(x=alt.X('Month',sort=Month_sort),\n",
    "                           y='sum(Record_ID):Q',\n",
    "                           color='Perpetrator_Sex').transform_filter(click)\n",
    "lines=base.mark_line().encode()\n",
    "selectors = base.mark_point().encode(opacity=alt.value(0),).add_selection(highlight)\n",
    "stpoints = base.mark_point(size=40).encode(opacity=alt.condition(highlight, alt.value(1), alt.value(0)))\n",
    "text = base.mark_text(align='left', dx=5, dy=-5,size=18).encode(text=alt.condition(highlight, 'sum(Record_ID):Q', alt.value(' ')))\n",
    "rules = base.mark_rule().encode().transform_filter(highlight)\n",
    "\n",
    "all_g = alt.layer(lines,selectors,stpoints,text,rules).properties(width=200, height=300).interactive()\n",
    "\n",
    "\n",
    "bar = (alt.Chart(a,).mark_bar().encode(\n",
    "    x=alt.X('Perpetrator_Race'),\n",
    "    y='sum(Record_ID):Q',\n",
    "    color='Perpetrator_Sex',\n",
    "    tooltip=['Perpetrator_Race', 'Perpetrator_Sex', 'sum(Record_ID)'])\n",
    ".transform_filter(click).properties(\n",
    "    width=200,\n",
    "    height=300\n",
    ").interactive())\n",
    "\n",
    "\n",
    "(choropleth | (all_g & bar))"
   ]
  },
  {
   "cell_type": "code",
   "execution_count": 250,
   "id": "c9d02b53",
   "metadata": {},
   "outputs": [],
   "source": [
    "a= murder_selected.groupby(['Perpetrator_Race','Perpetrator_Sex','State']).count().reset_index(level=0).reset_index()"
   ]
  },
  {
   "cell_type": "code",
   "execution_count": 251,
   "id": "9dcf77b5",
   "metadata": {},
   "outputs": [],
   "source": [
    "a[\"id\"] = a[\"State\"].replace(us_state_to_id, inplace = False)"
   ]
  },
  {
   "cell_type": "code",
   "execution_count": 252,
   "id": "a5242343",
   "metadata": {},
   "outputs": [
    {
     "data": {
      "text/html": [
       "<div>\n",
       "<style scoped>\n",
       "    .dataframe tbody tr th:only-of-type {\n",
       "        vertical-align: middle;\n",
       "    }\n",
       "\n",
       "    .dataframe tbody tr th {\n",
       "        vertical-align: top;\n",
       "    }\n",
       "\n",
       "    .dataframe thead th {\n",
       "        text-align: right;\n",
       "    }\n",
       "</style>\n",
       "<table border=\"1\" class=\"dataframe\">\n",
       "  <thead>\n",
       "    <tr style=\"text-align: right;\">\n",
       "      <th></th>\n",
       "      <th>Perpetrator_Sex</th>\n",
       "      <th>State</th>\n",
       "      <th>Perpetrator_Race</th>\n",
       "      <th>Record_ID</th>\n",
       "      <th>Agency_Code</th>\n",
       "      <th>Agency_Name</th>\n",
       "      <th>Agency_Type</th>\n",
       "      <th>City</th>\n",
       "      <th>Year</th>\n",
       "      <th>Month</th>\n",
       "      <th>...</th>\n",
       "      <th>Victim_Ethnicity</th>\n",
       "      <th>Perpetrator_Age</th>\n",
       "      <th>Perpetrator_Ethnicity</th>\n",
       "      <th>Relationship</th>\n",
       "      <th>Weapon</th>\n",
       "      <th>Victim_Count</th>\n",
       "      <th>Perpetrator_Count</th>\n",
       "      <th>Record_Source</th>\n",
       "      <th>State_Code</th>\n",
       "      <th>id</th>\n",
       "    </tr>\n",
       "  </thead>\n",
       "  <tbody>\n",
       "    <tr>\n",
       "      <th>0</th>\n",
       "      <td>Female</td>\n",
       "      <td>Alaska</td>\n",
       "      <td>Asian/Pacific Islander</td>\n",
       "      <td>1</td>\n",
       "      <td>1</td>\n",
       "      <td>1</td>\n",
       "      <td>1</td>\n",
       "      <td>1</td>\n",
       "      <td>1</td>\n",
       "      <td>1</td>\n",
       "      <td>...</td>\n",
       "      <td>1</td>\n",
       "      <td>1</td>\n",
       "      <td>1</td>\n",
       "      <td>1</td>\n",
       "      <td>1</td>\n",
       "      <td>1</td>\n",
       "      <td>1</td>\n",
       "      <td>1</td>\n",
       "      <td>1</td>\n",
       "      <td>2</td>\n",
       "    </tr>\n",
       "    <tr>\n",
       "      <th>1</th>\n",
       "      <td>Female</td>\n",
       "      <td>California</td>\n",
       "      <td>Asian/Pacific Islander</td>\n",
       "      <td>7</td>\n",
       "      <td>7</td>\n",
       "      <td>7</td>\n",
       "      <td>7</td>\n",
       "      <td>7</td>\n",
       "      <td>7</td>\n",
       "      <td>7</td>\n",
       "      <td>...</td>\n",
       "      <td>7</td>\n",
       "      <td>7</td>\n",
       "      <td>7</td>\n",
       "      <td>7</td>\n",
       "      <td>7</td>\n",
       "      <td>7</td>\n",
       "      <td>7</td>\n",
       "      <td>7</td>\n",
       "      <td>7</td>\n",
       "      <td>6</td>\n",
       "    </tr>\n",
       "    <tr>\n",
       "      <th>2</th>\n",
       "      <td>Female</td>\n",
       "      <td>Florida</td>\n",
       "      <td>Asian/Pacific Islander</td>\n",
       "      <td>1</td>\n",
       "      <td>1</td>\n",
       "      <td>1</td>\n",
       "      <td>1</td>\n",
       "      <td>1</td>\n",
       "      <td>1</td>\n",
       "      <td>1</td>\n",
       "      <td>...</td>\n",
       "      <td>1</td>\n",
       "      <td>1</td>\n",
       "      <td>1</td>\n",
       "      <td>1</td>\n",
       "      <td>1</td>\n",
       "      <td>1</td>\n",
       "      <td>1</td>\n",
       "      <td>1</td>\n",
       "      <td>1</td>\n",
       "      <td>12</td>\n",
       "    </tr>\n",
       "    <tr>\n",
       "      <th>3</th>\n",
       "      <td>Female</td>\n",
       "      <td>Nevada</td>\n",
       "      <td>Asian/Pacific Islander</td>\n",
       "      <td>1</td>\n",
       "      <td>1</td>\n",
       "      <td>1</td>\n",
       "      <td>1</td>\n",
       "      <td>1</td>\n",
       "      <td>1</td>\n",
       "      <td>1</td>\n",
       "      <td>...</td>\n",
       "      <td>1</td>\n",
       "      <td>1</td>\n",
       "      <td>1</td>\n",
       "      <td>1</td>\n",
       "      <td>1</td>\n",
       "      <td>1</td>\n",
       "      <td>1</td>\n",
       "      <td>1</td>\n",
       "      <td>1</td>\n",
       "      <td>32</td>\n",
       "    </tr>\n",
       "    <tr>\n",
       "      <th>4</th>\n",
       "      <td>Female</td>\n",
       "      <td>New Mexico</td>\n",
       "      <td>Asian/Pacific Islander</td>\n",
       "      <td>1</td>\n",
       "      <td>1</td>\n",
       "      <td>1</td>\n",
       "      <td>1</td>\n",
       "      <td>1</td>\n",
       "      <td>1</td>\n",
       "      <td>1</td>\n",
       "      <td>...</td>\n",
       "      <td>1</td>\n",
       "      <td>1</td>\n",
       "      <td>1</td>\n",
       "      <td>1</td>\n",
       "      <td>1</td>\n",
       "      <td>1</td>\n",
       "      <td>1</td>\n",
       "      <td>1</td>\n",
       "      <td>1</td>\n",
       "      <td>35</td>\n",
       "    </tr>\n",
       "    <tr>\n",
       "      <th>...</th>\n",
       "      <td>...</td>\n",
       "      <td>...</td>\n",
       "      <td>...</td>\n",
       "      <td>...</td>\n",
       "      <td>...</td>\n",
       "      <td>...</td>\n",
       "      <td>...</td>\n",
       "      <td>...</td>\n",
       "      <td>...</td>\n",
       "      <td>...</td>\n",
       "      <td>...</td>\n",
       "      <td>...</td>\n",
       "      <td>...</td>\n",
       "      <td>...</td>\n",
       "      <td>...</td>\n",
       "      <td>...</td>\n",
       "      <td>...</td>\n",
       "      <td>...</td>\n",
       "      <td>...</td>\n",
       "      <td>...</td>\n",
       "      <td>...</td>\n",
       "    </tr>\n",
       "    <tr>\n",
       "      <th>323</th>\n",
       "      <td>Male</td>\n",
       "      <td>Washington</td>\n",
       "      <td>White</td>\n",
       "      <td>104</td>\n",
       "      <td>104</td>\n",
       "      <td>104</td>\n",
       "      <td>104</td>\n",
       "      <td>104</td>\n",
       "      <td>104</td>\n",
       "      <td>104</td>\n",
       "      <td>...</td>\n",
       "      <td>104</td>\n",
       "      <td>104</td>\n",
       "      <td>104</td>\n",
       "      <td>104</td>\n",
       "      <td>104</td>\n",
       "      <td>104</td>\n",
       "      <td>104</td>\n",
       "      <td>104</td>\n",
       "      <td>104</td>\n",
       "      <td>53</td>\n",
       "    </tr>\n",
       "    <tr>\n",
       "      <th>324</th>\n",
       "      <td>Male</td>\n",
       "      <td>West Virginia</td>\n",
       "      <td>White</td>\n",
       "      <td>30</td>\n",
       "      <td>30</td>\n",
       "      <td>30</td>\n",
       "      <td>30</td>\n",
       "      <td>30</td>\n",
       "      <td>30</td>\n",
       "      <td>30</td>\n",
       "      <td>...</td>\n",
       "      <td>30</td>\n",
       "      <td>30</td>\n",
       "      <td>30</td>\n",
       "      <td>30</td>\n",
       "      <td>30</td>\n",
       "      <td>30</td>\n",
       "      <td>30</td>\n",
       "      <td>30</td>\n",
       "      <td>30</td>\n",
       "      <td>54</td>\n",
       "    </tr>\n",
       "    <tr>\n",
       "      <th>325</th>\n",
       "      <td>Male</td>\n",
       "      <td>Wisconsin</td>\n",
       "      <td>White</td>\n",
       "      <td>59</td>\n",
       "      <td>59</td>\n",
       "      <td>59</td>\n",
       "      <td>59</td>\n",
       "      <td>59</td>\n",
       "      <td>59</td>\n",
       "      <td>59</td>\n",
       "      <td>...</td>\n",
       "      <td>59</td>\n",
       "      <td>59</td>\n",
       "      <td>59</td>\n",
       "      <td>59</td>\n",
       "      <td>59</td>\n",
       "      <td>59</td>\n",
       "      <td>59</td>\n",
       "      <td>59</td>\n",
       "      <td>59</td>\n",
       "      <td>55</td>\n",
       "    </tr>\n",
       "    <tr>\n",
       "      <th>326</th>\n",
       "      <td>Male</td>\n",
       "      <td>Wyoming</td>\n",
       "      <td>White</td>\n",
       "      <td>6</td>\n",
       "      <td>6</td>\n",
       "      <td>6</td>\n",
       "      <td>6</td>\n",
       "      <td>6</td>\n",
       "      <td>6</td>\n",
       "      <td>6</td>\n",
       "      <td>...</td>\n",
       "      <td>6</td>\n",
       "      <td>6</td>\n",
       "      <td>6</td>\n",
       "      <td>6</td>\n",
       "      <td>6</td>\n",
       "      <td>6</td>\n",
       "      <td>6</td>\n",
       "      <td>6</td>\n",
       "      <td>6</td>\n",
       "      <td>56</td>\n",
       "    </tr>\n",
       "    <tr>\n",
       "      <th>327</th>\n",
       "      <td>Unknown</td>\n",
       "      <td>Texas</td>\n",
       "      <td>White</td>\n",
       "      <td>1</td>\n",
       "      <td>1</td>\n",
       "      <td>1</td>\n",
       "      <td>1</td>\n",
       "      <td>1</td>\n",
       "      <td>1</td>\n",
       "      <td>1</td>\n",
       "      <td>...</td>\n",
       "      <td>1</td>\n",
       "      <td>1</td>\n",
       "      <td>1</td>\n",
       "      <td>1</td>\n",
       "      <td>1</td>\n",
       "      <td>1</td>\n",
       "      <td>1</td>\n",
       "      <td>1</td>\n",
       "      <td>1</td>\n",
       "      <td>48</td>\n",
       "    </tr>\n",
       "  </tbody>\n",
       "</table>\n",
       "<p>328 rows × 26 columns</p>\n",
       "</div>"
      ],
      "text/plain": [
       "    Perpetrator_Sex          State        Perpetrator_Race  Record_ID  \\\n",
       "0            Female         Alaska  Asian/Pacific Islander          1   \n",
       "1            Female     California  Asian/Pacific Islander          7   \n",
       "2            Female        Florida  Asian/Pacific Islander          1   \n",
       "3            Female         Nevada  Asian/Pacific Islander          1   \n",
       "4            Female     New Mexico  Asian/Pacific Islander          1   \n",
       "..              ...            ...                     ...        ...   \n",
       "323            Male     Washington                   White        104   \n",
       "324            Male  West Virginia                   White         30   \n",
       "325            Male      Wisconsin                   White         59   \n",
       "326            Male        Wyoming                   White          6   \n",
       "327         Unknown          Texas                   White          1   \n",
       "\n",
       "     Agency_Code  Agency_Name  Agency_Type  City  Year  Month  ...  \\\n",
       "0              1            1            1     1     1      1  ...   \n",
       "1              7            7            7     7     7      7  ...   \n",
       "2              1            1            1     1     1      1  ...   \n",
       "3              1            1            1     1     1      1  ...   \n",
       "4              1            1            1     1     1      1  ...   \n",
       "..           ...          ...          ...   ...   ...    ...  ...   \n",
       "323          104          104          104   104   104    104  ...   \n",
       "324           30           30           30    30    30     30  ...   \n",
       "325           59           59           59    59    59     59  ...   \n",
       "326            6            6            6     6     6      6  ...   \n",
       "327            1            1            1     1     1      1  ...   \n",
       "\n",
       "     Victim_Ethnicity  Perpetrator_Age  Perpetrator_Ethnicity  Relationship  \\\n",
       "0                   1                1                      1             1   \n",
       "1                   7                7                      7             7   \n",
       "2                   1                1                      1             1   \n",
       "3                   1                1                      1             1   \n",
       "4                   1                1                      1             1   \n",
       "..                ...              ...                    ...           ...   \n",
       "323               104              104                    104           104   \n",
       "324                30               30                     30            30   \n",
       "325                59               59                     59            59   \n",
       "326                 6                6                      6             6   \n",
       "327                 1                1                      1             1   \n",
       "\n",
       "     Weapon  Victim_Count  Perpetrator_Count  Record_Source  State_Code  id  \n",
       "0         1             1                  1              1           1   2  \n",
       "1         7             7                  7              7           7   6  \n",
       "2         1             1                  1              1           1  12  \n",
       "3         1             1                  1              1           1  32  \n",
       "4         1             1                  1              1           1  35  \n",
       "..      ...           ...                ...            ...         ...  ..  \n",
       "323     104           104                104            104         104  53  \n",
       "324      30            30                 30             30          30  54  \n",
       "325      59            59                 59             59          59  55  \n",
       "326       6             6                  6              6           6  56  \n",
       "327       1             1                  1              1           1  48  \n",
       "\n",
       "[328 rows x 26 columns]"
      ]
     },
     "execution_count": 252,
     "metadata": {},
     "output_type": "execute_result"
    }
   ],
   "source": [
    "a"
   ]
  },
  {
   "cell_type": "code",
   "execution_count": 240,
   "id": "c250496a",
   "metadata": {},
   "outputs": [],
   "source": [
    "bar = (alt.Chart(a,).mark_bar().encode(\n",
    "    x=alt.X('Perpetrator_Race'),\n",
    "    y='sum(Record_ID):Q',\n",
    "    color='Perpetrator_Sex',\n",
    "    tooltip=['Perpetrator_Race', 'Perpetrator_Sex', 'sum(Record_ID)'])\n",
    ".properties(\n",
    "    width=800,\n",
    "    height=300\n",
    ").interactive())"
   ]
  },
  {
   "cell_type": "code",
   "execution_count": 241,
   "id": "6d714e5d",
   "metadata": {},
   "outputs": [
    {
     "data": {
      "text/html": [
       "\n",
       "<div id=\"altair-viz-b1d47db0c27348d38b678f19b89b30f4\"></div>\n",
       "<script type=\"text/javascript\">\n",
       "  var VEGA_DEBUG = (typeof VEGA_DEBUG == \"undefined\") ? {} : VEGA_DEBUG;\n",
       "  (function(spec, embedOpt){\n",
       "    let outputDiv = document.currentScript.previousElementSibling;\n",
       "    if (outputDiv.id !== \"altair-viz-b1d47db0c27348d38b678f19b89b30f4\") {\n",
       "      outputDiv = document.getElementById(\"altair-viz-b1d47db0c27348d38b678f19b89b30f4\");\n",
       "    }\n",
       "    const paths = {\n",
       "      \"vega\": \"https://cdn.jsdelivr.net/npm//vega@5?noext\",\n",
       "      \"vega-lib\": \"https://cdn.jsdelivr.net/npm//vega-lib?noext\",\n",
       "      \"vega-lite\": \"https://cdn.jsdelivr.net/npm//vega-lite@4.17.0?noext\",\n",
       "      \"vega-embed\": \"https://cdn.jsdelivr.net/npm//vega-embed@6?noext\",\n",
       "    };\n",
       "\n",
       "    function maybeLoadScript(lib, version) {\n",
       "      var key = `${lib.replace(\"-\", \"\")}_version`;\n",
       "      return (VEGA_DEBUG[key] == version) ?\n",
       "        Promise.resolve(paths[lib]) :\n",
       "        new Promise(function(resolve, reject) {\n",
       "          var s = document.createElement('script');\n",
       "          document.getElementsByTagName(\"head\")[0].appendChild(s);\n",
       "          s.async = true;\n",
       "          s.onload = () => {\n",
       "            VEGA_DEBUG[key] = version;\n",
       "            return resolve(paths[lib]);\n",
       "          };\n",
       "          s.onerror = () => reject(`Error loading script: ${paths[lib]}`);\n",
       "          s.src = paths[lib];\n",
       "        });\n",
       "    }\n",
       "\n",
       "    function showError(err) {\n",
       "      outputDiv.innerHTML = `<div class=\"error\" style=\"color:red;\">${err}</div>`;\n",
       "      throw err;\n",
       "    }\n",
       "\n",
       "    function displayChart(vegaEmbed) {\n",
       "      vegaEmbed(outputDiv, spec, embedOpt)\n",
       "        .catch(err => showError(`Javascript Error: ${err.message}<br>This usually means there's a typo in your chart specification. See the javascript console for the full traceback.`));\n",
       "    }\n",
       "\n",
       "    if(typeof define === \"function\" && define.amd) {\n",
       "      requirejs.config({paths});\n",
       "      require([\"vega-embed\"], displayChart, err => showError(`Error loading script: ${err.message}`));\n",
       "    } else {\n",
       "      maybeLoadScript(\"vega\", \"5\")\n",
       "        .then(() => maybeLoadScript(\"vega-lite\", \"4.17.0\"))\n",
       "        .then(() => maybeLoadScript(\"vega-embed\", \"6\"))\n",
       "        .catch(showError)\n",
       "        .then(() => displayChart(vegaEmbed));\n",
       "    }\n",
       "  })({\"config\": {\"view\": {\"continuousWidth\": 400, \"continuousHeight\": 300}}, \"data\": {\"name\": \"data-c2048d2412cd785201e9c2edfe522c2b\"}, \"mark\": \"bar\", \"encoding\": {\"color\": {\"field\": \"Perpetrator_Sex\", \"type\": \"nominal\"}, \"tooltip\": [{\"field\": \"Perpetrator_Race\", \"type\": \"nominal\"}, {\"field\": \"Perpetrator_Sex\", \"type\": \"nominal\"}, {\"aggregate\": \"sum\", \"field\": \"Record_ID\", \"type\": \"quantitative\"}], \"x\": {\"field\": \"Perpetrator_Race\", \"type\": \"nominal\"}, \"y\": {\"aggregate\": \"sum\", \"field\": \"Record_ID\", \"type\": \"quantitative\"}}, \"height\": 300, \"selection\": {\"selector141\": {\"type\": \"interval\", \"bind\": \"scales\", \"encodings\": [\"x\", \"y\"]}}, \"width\": 800, \"$schema\": \"https://vega.github.io/schema/vega-lite/v4.17.0.json\", \"datasets\": {\"data-c2048d2412cd785201e9c2edfe522c2b\": [{\"Perpetrator_Sex\": \"Female\", \"State\": \"Alaska\", \"Perpetrator_Race\": \"Asian/Pacific Islander\", \"Record_ID\": 1, \"Agency_Code\": 1, \"Agency_Name\": 1, \"Agency_Type\": 1, \"City\": 1, \"Year\": 1, \"Month\": 1, \"Incident\": 1, \"Crime_Type\": 1, \"Crime_Solved\": 1, \"Victim_Sex\": 1, \"Victim_Age\": 1, \"Victim_Race\": 1, \"Victim_Ethnicity\": 1, \"Perpetrator_Age\": 1, \"Perpetrator_Ethnicity\": 1, \"Relationship\": 1, \"Weapon\": 1, \"Victim_Count\": 1, \"Perpetrator_Count\": 1, \"Record_Source\": 1, \"State_Code\": 1, \"id\": 2}, {\"Perpetrator_Sex\": \"Female\", \"State\": \"California\", \"Perpetrator_Race\": \"Asian/Pacific Islander\", \"Record_ID\": 7, \"Agency_Code\": 7, \"Agency_Name\": 7, \"Agency_Type\": 7, \"City\": 7, \"Year\": 7, \"Month\": 7, \"Incident\": 7, \"Crime_Type\": 7, \"Crime_Solved\": 7, \"Victim_Sex\": 7, \"Victim_Age\": 7, \"Victim_Race\": 7, \"Victim_Ethnicity\": 7, \"Perpetrator_Age\": 7, \"Perpetrator_Ethnicity\": 7, \"Relationship\": 7, \"Weapon\": 7, \"Victim_Count\": 7, \"Perpetrator_Count\": 7, \"Record_Source\": 7, \"State_Code\": 7, \"id\": 6}, {\"Perpetrator_Sex\": \"Female\", \"State\": \"Florida\", \"Perpetrator_Race\": \"Asian/Pacific Islander\", \"Record_ID\": 1, \"Agency_Code\": 1, \"Agency_Name\": 1, \"Agency_Type\": 1, \"City\": 1, \"Year\": 1, \"Month\": 1, \"Incident\": 1, \"Crime_Type\": 1, \"Crime_Solved\": 1, \"Victim_Sex\": 1, \"Victim_Age\": 1, \"Victim_Race\": 1, \"Victim_Ethnicity\": 1, \"Perpetrator_Age\": 1, \"Perpetrator_Ethnicity\": 1, \"Relationship\": 1, \"Weapon\": 1, \"Victim_Count\": 1, \"Perpetrator_Count\": 1, \"Record_Source\": 1, \"State_Code\": 1, \"id\": 12}, {\"Perpetrator_Sex\": \"Female\", \"State\": \"Nevada\", \"Perpetrator_Race\": \"Asian/Pacific Islander\", \"Record_ID\": 1, \"Agency_Code\": 1, \"Agency_Name\": 1, \"Agency_Type\": 1, \"City\": 1, \"Year\": 1, \"Month\": 1, \"Incident\": 1, \"Crime_Type\": 1, \"Crime_Solved\": 1, \"Victim_Sex\": 1, \"Victim_Age\": 1, \"Victim_Race\": 1, \"Victim_Ethnicity\": 1, \"Perpetrator_Age\": 1, \"Perpetrator_Ethnicity\": 1, \"Relationship\": 1, \"Weapon\": 1, \"Victim_Count\": 1, \"Perpetrator_Count\": 1, \"Record_Source\": 1, \"State_Code\": 1, \"id\": 32}, {\"Perpetrator_Sex\": \"Female\", \"State\": \"New Mexico\", \"Perpetrator_Race\": \"Asian/Pacific Islander\", \"Record_ID\": 1, \"Agency_Code\": 1, \"Agency_Name\": 1, \"Agency_Type\": 1, \"City\": 1, \"Year\": 1, \"Month\": 1, \"Incident\": 1, \"Crime_Type\": 1, \"Crime_Solved\": 1, \"Victim_Sex\": 1, \"Victim_Age\": 1, \"Victim_Race\": 1, \"Victim_Ethnicity\": 1, \"Perpetrator_Age\": 1, \"Perpetrator_Ethnicity\": 1, \"Relationship\": 1, \"Weapon\": 1, \"Victim_Count\": 1, \"Perpetrator_Count\": 1, \"Record_Source\": 1, \"State_Code\": 1, \"id\": 35}, {\"Perpetrator_Sex\": \"Female\", \"State\": \"New York\", \"Perpetrator_Race\": \"Asian/Pacific Islander\", \"Record_ID\": 1, \"Agency_Code\": 1, \"Agency_Name\": 1, \"Agency_Type\": 1, \"City\": 1, \"Year\": 1, \"Month\": 1, \"Incident\": 1, \"Crime_Type\": 1, \"Crime_Solved\": 1, \"Victim_Sex\": 1, \"Victim_Age\": 1, \"Victim_Race\": 1, \"Victim_Ethnicity\": 1, \"Perpetrator_Age\": 1, \"Perpetrator_Ethnicity\": 1, \"Relationship\": 1, \"Weapon\": 1, \"Victim_Count\": 1, \"Perpetrator_Count\": 1, \"Record_Source\": 1, \"State_Code\": 1, \"id\": 36}, {\"Perpetrator_Sex\": \"Female\", \"State\": \"Texas\", \"Perpetrator_Race\": \"Asian/Pacific Islander\", \"Record_ID\": 1, \"Agency_Code\": 1, \"Agency_Name\": 1, \"Agency_Type\": 1, \"City\": 1, \"Year\": 1, \"Month\": 1, \"Incident\": 1, \"Crime_Type\": 1, \"Crime_Solved\": 1, \"Victim_Sex\": 1, \"Victim_Age\": 1, \"Victim_Race\": 1, \"Victim_Ethnicity\": 1, \"Perpetrator_Age\": 1, \"Perpetrator_Ethnicity\": 1, \"Relationship\": 1, \"Weapon\": 1, \"Victim_Count\": 1, \"Perpetrator_Count\": 1, \"Record_Source\": 1, \"State_Code\": 1, \"id\": 48}, {\"Perpetrator_Sex\": \"Female\", \"State\": \"Utah\", \"Perpetrator_Race\": \"Asian/Pacific Islander\", \"Record_ID\": 2, \"Agency_Code\": 2, \"Agency_Name\": 2, \"Agency_Type\": 2, \"City\": 2, \"Year\": 2, \"Month\": 2, \"Incident\": 2, \"Crime_Type\": 2, \"Crime_Solved\": 2, \"Victim_Sex\": 2, \"Victim_Age\": 2, \"Victim_Race\": 2, \"Victim_Ethnicity\": 2, \"Perpetrator_Age\": 2, \"Perpetrator_Ethnicity\": 2, \"Relationship\": 2, \"Weapon\": 2, \"Victim_Count\": 2, \"Perpetrator_Count\": 2, \"Record_Source\": 2, \"State_Code\": 2, \"id\": 49}, {\"Perpetrator_Sex\": \"Female\", \"State\": \"Virginia\", \"Perpetrator_Race\": \"Asian/Pacific Islander\", \"Record_ID\": 2, \"Agency_Code\": 2, \"Agency_Name\": 2, \"Agency_Type\": 2, \"City\": 2, \"Year\": 2, \"Month\": 2, \"Incident\": 2, \"Crime_Type\": 2, \"Crime_Solved\": 2, \"Victim_Sex\": 2, \"Victim_Age\": 2, \"Victim_Race\": 2, \"Victim_Ethnicity\": 2, \"Perpetrator_Age\": 2, \"Perpetrator_Ethnicity\": 2, \"Relationship\": 2, \"Weapon\": 2, \"Victim_Count\": 2, \"Perpetrator_Count\": 2, \"Record_Source\": 2, \"State_Code\": 2, \"id\": 51}, {\"Perpetrator_Sex\": \"Female\", \"State\": \"Washington\", \"Perpetrator_Race\": \"Asian/Pacific Islander\", \"Record_ID\": 4, \"Agency_Code\": 4, \"Agency_Name\": 4, \"Agency_Type\": 4, \"City\": 4, \"Year\": 4, \"Month\": 4, \"Incident\": 4, \"Crime_Type\": 4, \"Crime_Solved\": 4, \"Victim_Sex\": 4, \"Victim_Age\": 4, \"Victim_Race\": 4, \"Victim_Ethnicity\": 4, \"Perpetrator_Age\": 4, \"Perpetrator_Ethnicity\": 4, \"Relationship\": 4, \"Weapon\": 4, \"Victim_Count\": 4, \"Perpetrator_Count\": 4, \"Record_Source\": 4, \"State_Code\": 4, \"id\": 53}, {\"Perpetrator_Sex\": \"Male\", \"State\": \"Alaska\", \"Perpetrator_Race\": \"Asian/Pacific Islander\", \"Record_ID\": 5, \"Agency_Code\": 5, \"Agency_Name\": 5, \"Agency_Type\": 5, \"City\": 5, \"Year\": 5, \"Month\": 5, \"Incident\": 5, \"Crime_Type\": 5, \"Crime_Solved\": 5, \"Victim_Sex\": 5, \"Victim_Age\": 5, \"Victim_Race\": 5, \"Victim_Ethnicity\": 5, \"Perpetrator_Age\": 5, \"Perpetrator_Ethnicity\": 5, \"Relationship\": 5, \"Weapon\": 5, \"Victim_Count\": 5, \"Perpetrator_Count\": 5, \"Record_Source\": 5, \"State_Code\": 5, \"id\": 2}, {\"Perpetrator_Sex\": \"Male\", \"State\": \"Arizona\", \"Perpetrator_Race\": \"Asian/Pacific Islander\", \"Record_ID\": 6, \"Agency_Code\": 6, \"Agency_Name\": 6, \"Agency_Type\": 6, \"City\": 6, \"Year\": 6, \"Month\": 6, \"Incident\": 6, \"Crime_Type\": 6, \"Crime_Solved\": 6, \"Victim_Sex\": 6, \"Victim_Age\": 6, \"Victim_Race\": 6, \"Victim_Ethnicity\": 6, \"Perpetrator_Age\": 6, \"Perpetrator_Ethnicity\": 6, \"Relationship\": 6, \"Weapon\": 6, \"Victim_Count\": 6, \"Perpetrator_Count\": 6, \"Record_Source\": 6, \"State_Code\": 6, \"id\": 4}, {\"Perpetrator_Sex\": \"Male\", \"State\": \"California\", \"Perpetrator_Race\": \"Asian/Pacific Islander\", \"Record_ID\": 56, \"Agency_Code\": 56, \"Agency_Name\": 56, \"Agency_Type\": 56, \"City\": 56, \"Year\": 56, \"Month\": 56, \"Incident\": 56, \"Crime_Type\": 56, \"Crime_Solved\": 56, \"Victim_Sex\": 56, \"Victim_Age\": 56, \"Victim_Race\": 56, \"Victim_Ethnicity\": 56, \"Perpetrator_Age\": 56, \"Perpetrator_Ethnicity\": 56, \"Relationship\": 56, \"Weapon\": 56, \"Victim_Count\": 56, \"Perpetrator_Count\": 56, \"Record_Source\": 56, \"State_Code\": 56, \"id\": 6}, {\"Perpetrator_Sex\": \"Male\", \"State\": \"Connecticut\", \"Perpetrator_Race\": \"Asian/Pacific Islander\", \"Record_ID\": 1, \"Agency_Code\": 1, \"Agency_Name\": 1, \"Agency_Type\": 1, \"City\": 1, \"Year\": 1, \"Month\": 1, \"Incident\": 1, \"Crime_Type\": 1, \"Crime_Solved\": 1, \"Victim_Sex\": 1, \"Victim_Age\": 1, \"Victim_Race\": 1, \"Victim_Ethnicity\": 1, \"Perpetrator_Age\": 1, \"Perpetrator_Ethnicity\": 1, \"Relationship\": 1, \"Weapon\": 1, \"Victim_Count\": 1, \"Perpetrator_Count\": 1, \"Record_Source\": 1, \"State_Code\": 1, \"id\": 9}, {\"Perpetrator_Sex\": \"Male\", \"State\": \"Florida\", \"Perpetrator_Race\": \"Asian/Pacific Islander\", \"Record_ID\": 4, \"Agency_Code\": 4, \"Agency_Name\": 4, \"Agency_Type\": 4, \"City\": 4, \"Year\": 4, \"Month\": 4, \"Incident\": 4, \"Crime_Type\": 4, \"Crime_Solved\": 4, \"Victim_Sex\": 4, \"Victim_Age\": 4, \"Victim_Race\": 4, \"Victim_Ethnicity\": 4, \"Perpetrator_Age\": 4, \"Perpetrator_Ethnicity\": 4, \"Relationship\": 4, \"Weapon\": 4, \"Victim_Count\": 4, \"Perpetrator_Count\": 4, \"Record_Source\": 4, \"State_Code\": 4, \"id\": 12}, {\"Perpetrator_Sex\": \"Male\", \"State\": \"Georgia\", \"Perpetrator_Race\": \"Asian/Pacific Islander\", \"Record_ID\": 4, \"Agency_Code\": 4, \"Agency_Name\": 4, \"Agency_Type\": 4, \"City\": 4, \"Year\": 4, \"Month\": 4, \"Incident\": 4, \"Crime_Type\": 4, \"Crime_Solved\": 4, \"Victim_Sex\": 4, \"Victim_Age\": 4, \"Victim_Race\": 4, \"Victim_Ethnicity\": 4, \"Perpetrator_Age\": 4, \"Perpetrator_Ethnicity\": 4, \"Relationship\": 4, \"Weapon\": 4, \"Victim_Count\": 4, \"Perpetrator_Count\": 4, \"Record_Source\": 4, \"State_Code\": 4, \"id\": 13}, {\"Perpetrator_Sex\": \"Male\", \"State\": \"Hawaii\", \"Perpetrator_Race\": \"Asian/Pacific Islander\", \"Record_ID\": 1, \"Agency_Code\": 1, \"Agency_Name\": 1, \"Agency_Type\": 1, \"City\": 1, \"Year\": 1, \"Month\": 1, \"Incident\": 1, \"Crime_Type\": 1, \"Crime_Solved\": 1, \"Victim_Sex\": 1, \"Victim_Age\": 1, \"Victim_Race\": 1, \"Victim_Ethnicity\": 1, \"Perpetrator_Age\": 1, \"Perpetrator_Ethnicity\": 1, \"Relationship\": 1, \"Weapon\": 1, \"Victim_Count\": 1, \"Perpetrator_Count\": 1, \"Record_Source\": 1, \"State_Code\": 1, \"id\": 15}, {\"Perpetrator_Sex\": \"Male\", \"State\": \"Louisiana\", \"Perpetrator_Race\": \"Asian/Pacific Islander\", \"Record_ID\": 3, \"Agency_Code\": 3, \"Agency_Name\": 3, \"Agency_Type\": 3, \"City\": 3, \"Year\": 3, \"Month\": 3, \"Incident\": 3, \"Crime_Type\": 3, \"Crime_Solved\": 3, \"Victim_Sex\": 3, \"Victim_Age\": 3, \"Victim_Race\": 3, \"Victim_Ethnicity\": 3, \"Perpetrator_Age\": 3, \"Perpetrator_Ethnicity\": 3, \"Relationship\": 3, \"Weapon\": 3, \"Victim_Count\": 3, \"Perpetrator_Count\": 3, \"Record_Source\": 3, \"State_Code\": 3, \"id\": 22}, {\"Perpetrator_Sex\": \"Male\", \"State\": \"Massachusetts\", \"Perpetrator_Race\": \"Asian/Pacific Islander\", \"Record_ID\": 3, \"Agency_Code\": 3, \"Agency_Name\": 3, \"Agency_Type\": 3, \"City\": 3, \"Year\": 3, \"Month\": 3, \"Incident\": 3, \"Crime_Type\": 3, \"Crime_Solved\": 3, \"Victim_Sex\": 3, \"Victim_Age\": 3, \"Victim_Race\": 3, \"Victim_Ethnicity\": 3, \"Perpetrator_Age\": 3, \"Perpetrator_Ethnicity\": 3, \"Relationship\": 3, \"Weapon\": 3, \"Victim_Count\": 3, \"Perpetrator_Count\": 3, \"Record_Source\": 3, \"State_Code\": 3, \"id\": 25}, {\"Perpetrator_Sex\": \"Male\", \"State\": \"Minnesota\", \"Perpetrator_Race\": \"Asian/Pacific Islander\", \"Record_ID\": 2, \"Agency_Code\": 2, \"Agency_Name\": 2, \"Agency_Type\": 2, \"City\": 2, \"Year\": 2, \"Month\": 2, \"Incident\": 2, \"Crime_Type\": 2, \"Crime_Solved\": 2, \"Victim_Sex\": 2, \"Victim_Age\": 2, \"Victim_Race\": 2, \"Victim_Ethnicity\": 2, \"Perpetrator_Age\": 2, \"Perpetrator_Ethnicity\": 2, \"Relationship\": 2, \"Weapon\": 2, \"Victim_Count\": 2, \"Perpetrator_Count\": 2, \"Record_Source\": 2, \"State_Code\": 2, \"id\": 27}, {\"Perpetrator_Sex\": \"Male\", \"State\": \"Nevada\", \"Perpetrator_Race\": \"Asian/Pacific Islander\", \"Record_ID\": 4, \"Agency_Code\": 4, \"Agency_Name\": 4, \"Agency_Type\": 4, \"City\": 4, \"Year\": 4, \"Month\": 4, \"Incident\": 4, \"Crime_Type\": 4, \"Crime_Solved\": 4, \"Victim_Sex\": 4, \"Victim_Age\": 4, \"Victim_Race\": 4, \"Victim_Ethnicity\": 4, \"Perpetrator_Age\": 4, \"Perpetrator_Ethnicity\": 4, \"Relationship\": 4, \"Weapon\": 4, \"Victim_Count\": 4, \"Perpetrator_Count\": 4, \"Record_Source\": 4, \"State_Code\": 4, \"id\": 32}, {\"Perpetrator_Sex\": \"Male\", \"State\": \"New Jersey\", \"Perpetrator_Race\": \"Asian/Pacific Islander\", \"Record_ID\": 4, \"Agency_Code\": 4, \"Agency_Name\": 4, \"Agency_Type\": 4, \"City\": 4, \"Year\": 4, \"Month\": 4, \"Incident\": 4, \"Crime_Type\": 4, \"Crime_Solved\": 4, \"Victim_Sex\": 4, \"Victim_Age\": 4, \"Victim_Race\": 4, \"Victim_Ethnicity\": 4, \"Perpetrator_Age\": 4, \"Perpetrator_Ethnicity\": 4, \"Relationship\": 4, \"Weapon\": 4, \"Victim_Count\": 4, \"Perpetrator_Count\": 4, \"Record_Source\": 4, \"State_Code\": 4, \"id\": 34}, {\"Perpetrator_Sex\": \"Male\", \"State\": \"New York\", \"Perpetrator_Race\": \"Asian/Pacific Islander\", \"Record_ID\": 9, \"Agency_Code\": 9, \"Agency_Name\": 9, \"Agency_Type\": 9, \"City\": 9, \"Year\": 9, \"Month\": 9, \"Incident\": 9, \"Crime_Type\": 9, \"Crime_Solved\": 9, \"Victim_Sex\": 9, \"Victim_Age\": 9, \"Victim_Race\": 9, \"Victim_Ethnicity\": 9, \"Perpetrator_Age\": 9, \"Perpetrator_Ethnicity\": 9, \"Relationship\": 9, \"Weapon\": 9, \"Victim_Count\": 9, \"Perpetrator_Count\": 9, \"Record_Source\": 9, \"State_Code\": 9, \"id\": 36}, {\"Perpetrator_Sex\": \"Male\", \"State\": \"Oklahoma\", \"Perpetrator_Race\": \"Asian/Pacific Islander\", \"Record_ID\": 1, \"Agency_Code\": 1, \"Agency_Name\": 1, \"Agency_Type\": 1, \"City\": 1, \"Year\": 1, \"Month\": 1, \"Incident\": 1, \"Crime_Type\": 1, \"Crime_Solved\": 1, \"Victim_Sex\": 1, \"Victim_Age\": 1, \"Victim_Race\": 1, \"Victim_Ethnicity\": 1, \"Perpetrator_Age\": 1, \"Perpetrator_Ethnicity\": 1, \"Relationship\": 1, \"Weapon\": 1, \"Victim_Count\": 1, \"Perpetrator_Count\": 1, \"Record_Source\": 1, \"State_Code\": 1, \"id\": 40}, {\"Perpetrator_Sex\": \"Male\", \"State\": \"Oregon\", \"Perpetrator_Race\": \"Asian/Pacific Islander\", \"Record_ID\": 3, \"Agency_Code\": 3, \"Agency_Name\": 3, \"Agency_Type\": 3, \"City\": 3, \"Year\": 3, \"Month\": 3, \"Incident\": 3, \"Crime_Type\": 3, \"Crime_Solved\": 3, \"Victim_Sex\": 3, \"Victim_Age\": 3, \"Victim_Race\": 3, \"Victim_Ethnicity\": 3, \"Perpetrator_Age\": 3, \"Perpetrator_Ethnicity\": 3, \"Relationship\": 3, \"Weapon\": 3, \"Victim_Count\": 3, \"Perpetrator_Count\": 3, \"Record_Source\": 3, \"State_Code\": 3, \"id\": 41}, {\"Perpetrator_Sex\": \"Male\", \"State\": \"Pennsylvania\", \"Perpetrator_Race\": \"Asian/Pacific Islander\", \"Record_ID\": 4, \"Agency_Code\": 4, \"Agency_Name\": 4, \"Agency_Type\": 4, \"City\": 4, \"Year\": 4, \"Month\": 4, \"Incident\": 4, \"Crime_Type\": 4, \"Crime_Solved\": 4, \"Victim_Sex\": 4, \"Victim_Age\": 4, \"Victim_Race\": 4, \"Victim_Ethnicity\": 4, \"Perpetrator_Age\": 4, \"Perpetrator_Ethnicity\": 4, \"Relationship\": 4, \"Weapon\": 4, \"Victim_Count\": 4, \"Perpetrator_Count\": 4, \"Record_Source\": 4, \"State_Code\": 4, \"id\": 42}, {\"Perpetrator_Sex\": \"Male\", \"State\": \"Rhodes Island\", \"Perpetrator_Race\": \"Asian/Pacific Islander\", \"Record_ID\": 1, \"Agency_Code\": 1, \"Agency_Name\": 1, \"Agency_Type\": 1, \"City\": 1, \"Year\": 1, \"Month\": 1, \"Incident\": 1, \"Crime_Type\": 1, \"Crime_Solved\": 1, \"Victim_Sex\": 1, \"Victim_Age\": 1, \"Victim_Race\": 1, \"Victim_Ethnicity\": 1, \"Perpetrator_Age\": 1, \"Perpetrator_Ethnicity\": 1, \"Relationship\": 1, \"Weapon\": 1, \"Victim_Count\": 1, \"Perpetrator_Count\": 1, \"Record_Source\": 1, \"State_Code\": 1, \"id\": \"Rhodes Island\"}, {\"Perpetrator_Sex\": \"Male\", \"State\": \"Tennessee\", \"Perpetrator_Race\": \"Asian/Pacific Islander\", \"Record_ID\": 1, \"Agency_Code\": 1, \"Agency_Name\": 1, \"Agency_Type\": 1, \"City\": 1, \"Year\": 1, \"Month\": 1, \"Incident\": 1, \"Crime_Type\": 1, \"Crime_Solved\": 1, \"Victim_Sex\": 1, \"Victim_Age\": 1, \"Victim_Race\": 1, \"Victim_Ethnicity\": 1, \"Perpetrator_Age\": 1, \"Perpetrator_Ethnicity\": 1, \"Relationship\": 1, \"Weapon\": 1, \"Victim_Count\": 1, \"Perpetrator_Count\": 1, \"Record_Source\": 1, \"State_Code\": 1, \"id\": 47}, {\"Perpetrator_Sex\": \"Male\", \"State\": \"Texas\", \"Perpetrator_Race\": \"Asian/Pacific Islander\", \"Record_ID\": 20, \"Agency_Code\": 20, \"Agency_Name\": 20, \"Agency_Type\": 20, \"City\": 20, \"Year\": 20, \"Month\": 20, \"Incident\": 20, \"Crime_Type\": 20, \"Crime_Solved\": 20, \"Victim_Sex\": 20, \"Victim_Age\": 20, \"Victim_Race\": 20, \"Victim_Ethnicity\": 20, \"Perpetrator_Age\": 20, \"Perpetrator_Ethnicity\": 20, \"Relationship\": 20, \"Weapon\": 20, \"Victim_Count\": 20, \"Perpetrator_Count\": 20, \"Record_Source\": 20, \"State_Code\": 20, \"id\": 48}, {\"Perpetrator_Sex\": \"Male\", \"State\": \"Utah\", \"Perpetrator_Race\": \"Asian/Pacific Islander\", \"Record_ID\": 2, \"Agency_Code\": 2, \"Agency_Name\": 2, \"Agency_Type\": 2, \"City\": 2, \"Year\": 2, \"Month\": 2, \"Incident\": 2, \"Crime_Type\": 2, \"Crime_Solved\": 2, \"Victim_Sex\": 2, \"Victim_Age\": 2, \"Victim_Race\": 2, \"Victim_Ethnicity\": 2, \"Perpetrator_Age\": 2, \"Perpetrator_Ethnicity\": 2, \"Relationship\": 2, \"Weapon\": 2, \"Victim_Count\": 2, \"Perpetrator_Count\": 2, \"Record_Source\": 2, \"State_Code\": 2, \"id\": 49}, {\"Perpetrator_Sex\": \"Male\", \"State\": \"Virginia\", \"Perpetrator_Race\": \"Asian/Pacific Islander\", \"Record_ID\": 5, \"Agency_Code\": 5, \"Agency_Name\": 5, \"Agency_Type\": 5, \"City\": 5, \"Year\": 5, \"Month\": 5, \"Incident\": 5, \"Crime_Type\": 5, \"Crime_Solved\": 5, \"Victim_Sex\": 5, \"Victim_Age\": 5, \"Victim_Race\": 5, \"Victim_Ethnicity\": 5, \"Perpetrator_Age\": 5, \"Perpetrator_Ethnicity\": 5, \"Relationship\": 5, \"Weapon\": 5, \"Victim_Count\": 5, \"Perpetrator_Count\": 5, \"Record_Source\": 5, \"State_Code\": 5, \"id\": 51}, {\"Perpetrator_Sex\": \"Male\", \"State\": \"Washington\", \"Perpetrator_Race\": \"Asian/Pacific Islander\", \"Record_ID\": 10, \"Agency_Code\": 10, \"Agency_Name\": 10, \"Agency_Type\": 10, \"City\": 10, \"Year\": 10, \"Month\": 10, \"Incident\": 10, \"Crime_Type\": 10, \"Crime_Solved\": 10, \"Victim_Sex\": 10, \"Victim_Age\": 10, \"Victim_Race\": 10, \"Victim_Ethnicity\": 10, \"Perpetrator_Age\": 10, \"Perpetrator_Ethnicity\": 10, \"Relationship\": 10, \"Weapon\": 10, \"Victim_Count\": 10, \"Perpetrator_Count\": 10, \"Record_Source\": 10, \"State_Code\": 10, \"id\": 53}, {\"Perpetrator_Sex\": \"Male\", \"State\": \"Wisconsin\", \"Perpetrator_Race\": \"Asian/Pacific Islander\", \"Record_ID\": 2, \"Agency_Code\": 2, \"Agency_Name\": 2, \"Agency_Type\": 2, \"City\": 2, \"Year\": 2, \"Month\": 2, \"Incident\": 2, \"Crime_Type\": 2, \"Crime_Solved\": 2, \"Victim_Sex\": 2, \"Victim_Age\": 2, \"Victim_Race\": 2, \"Victim_Ethnicity\": 2, \"Perpetrator_Age\": 2, \"Perpetrator_Ethnicity\": 2, \"Relationship\": 2, \"Weapon\": 2, \"Victim_Count\": 2, \"Perpetrator_Count\": 2, \"Record_Source\": 2, \"State_Code\": 2, \"id\": 55}, {\"Perpetrator_Sex\": \"Unknown\", \"State\": \"Texas\", \"Perpetrator_Race\": \"Asian/Pacific Islander\", \"Record_ID\": 1, \"Agency_Code\": 1, \"Agency_Name\": 1, \"Agency_Type\": 1, \"City\": 1, \"Year\": 1, \"Month\": 1, \"Incident\": 1, \"Crime_Type\": 1, \"Crime_Solved\": 1, \"Victim_Sex\": 1, \"Victim_Age\": 1, \"Victim_Race\": 1, \"Victim_Ethnicity\": 1, \"Perpetrator_Age\": 1, \"Perpetrator_Ethnicity\": 1, \"Relationship\": 1, \"Weapon\": 1, \"Victim_Count\": 1, \"Perpetrator_Count\": 1, \"Record_Source\": 1, \"State_Code\": 1, \"id\": 48}, {\"Perpetrator_Sex\": \"Female\", \"State\": \"Alabama\", \"Perpetrator_Race\": \"Black\", \"Record_ID\": 12, \"Agency_Code\": 12, \"Agency_Name\": 12, \"Agency_Type\": 12, \"City\": 12, \"Year\": 12, \"Month\": 12, \"Incident\": 12, \"Crime_Type\": 12, \"Crime_Solved\": 12, \"Victim_Sex\": 12, \"Victim_Age\": 12, \"Victim_Race\": 12, \"Victim_Ethnicity\": 12, \"Perpetrator_Age\": 12, \"Perpetrator_Ethnicity\": 12, \"Relationship\": 12, \"Weapon\": 12, \"Victim_Count\": 12, \"Perpetrator_Count\": 12, \"Record_Source\": 12, \"State_Code\": 12, \"id\": 1}, {\"Perpetrator_Sex\": \"Female\", \"State\": \"Arizona\", \"Perpetrator_Race\": \"Black\", \"Record_ID\": 2, \"Agency_Code\": 2, \"Agency_Name\": 2, \"Agency_Type\": 2, \"City\": 2, \"Year\": 2, \"Month\": 2, \"Incident\": 2, \"Crime_Type\": 2, \"Crime_Solved\": 2, \"Victim_Sex\": 2, \"Victim_Age\": 2, \"Victim_Race\": 2, \"Victim_Ethnicity\": 2, \"Perpetrator_Age\": 2, \"Perpetrator_Ethnicity\": 2, \"Relationship\": 2, \"Weapon\": 2, \"Victim_Count\": 2, \"Perpetrator_Count\": 2, \"Record_Source\": 2, \"State_Code\": 2, \"id\": 4}, {\"Perpetrator_Sex\": \"Female\", \"State\": \"Arkansas\", \"Perpetrator_Race\": \"Black\", \"Record_ID\": 2, \"Agency_Code\": 2, \"Agency_Name\": 2, \"Agency_Type\": 2, \"City\": 2, \"Year\": 2, \"Month\": 2, \"Incident\": 2, \"Crime_Type\": 2, \"Crime_Solved\": 2, \"Victim_Sex\": 2, \"Victim_Age\": 2, \"Victim_Race\": 2, \"Victim_Ethnicity\": 2, \"Perpetrator_Age\": 2, \"Perpetrator_Ethnicity\": 2, \"Relationship\": 2, \"Weapon\": 2, \"Victim_Count\": 2, \"Perpetrator_Count\": 2, \"Record_Source\": 2, \"State_Code\": 2, \"id\": 5}, {\"Perpetrator_Sex\": \"Female\", \"State\": \"California\", \"Perpetrator_Race\": \"Black\", \"Record_ID\": 28, \"Agency_Code\": 28, \"Agency_Name\": 28, \"Agency_Type\": 28, \"City\": 28, \"Year\": 28, \"Month\": 28, \"Incident\": 28, \"Crime_Type\": 28, \"Crime_Solved\": 28, \"Victim_Sex\": 28, \"Victim_Age\": 28, \"Victim_Race\": 28, \"Victim_Ethnicity\": 28, \"Perpetrator_Age\": 28, \"Perpetrator_Ethnicity\": 28, \"Relationship\": 28, \"Weapon\": 28, \"Victim_Count\": 28, \"Perpetrator_Count\": 28, \"Record_Source\": 28, \"State_Code\": 28, \"id\": 6}, {\"Perpetrator_Sex\": \"Female\", \"State\": \"Colorado\", \"Perpetrator_Race\": \"Black\", \"Record_ID\": 1, \"Agency_Code\": 1, \"Agency_Name\": 1, \"Agency_Type\": 1, \"City\": 1, \"Year\": 1, \"Month\": 1, \"Incident\": 1, \"Crime_Type\": 1, \"Crime_Solved\": 1, \"Victim_Sex\": 1, \"Victim_Age\": 1, \"Victim_Race\": 1, \"Victim_Ethnicity\": 1, \"Perpetrator_Age\": 1, \"Perpetrator_Ethnicity\": 1, \"Relationship\": 1, \"Weapon\": 1, \"Victim_Count\": 1, \"Perpetrator_Count\": 1, \"Record_Source\": 1, \"State_Code\": 1, \"id\": 8}, {\"Perpetrator_Sex\": \"Female\", \"State\": \"Delaware\", \"Perpetrator_Race\": \"Black\", \"Record_ID\": 3, \"Agency_Code\": 3, \"Agency_Name\": 3, \"Agency_Type\": 3, \"City\": 3, \"Year\": 3, \"Month\": 3, \"Incident\": 3, \"Crime_Type\": 3, \"Crime_Solved\": 3, \"Victim_Sex\": 3, \"Victim_Age\": 3, \"Victim_Race\": 3, \"Victim_Ethnicity\": 3, \"Perpetrator_Age\": 3, \"Perpetrator_Ethnicity\": 3, \"Relationship\": 3, \"Weapon\": 3, \"Victim_Count\": 3, \"Perpetrator_Count\": 3, \"Record_Source\": 3, \"State_Code\": 3, \"id\": 10}, {\"Perpetrator_Sex\": \"Female\", \"State\": \"District of Columbia\", \"Perpetrator_Race\": \"Black\", \"Record_ID\": 3, \"Agency_Code\": 3, \"Agency_Name\": 3, \"Agency_Type\": 3, \"City\": 3, \"Year\": 3, \"Month\": 3, \"Incident\": 3, \"Crime_Type\": 3, \"Crime_Solved\": 3, \"Victim_Sex\": 3, \"Victim_Age\": 3, \"Victim_Race\": 3, \"Victim_Ethnicity\": 3, \"Perpetrator_Age\": 3, \"Perpetrator_Ethnicity\": 3, \"Relationship\": 3, \"Weapon\": 3, \"Victim_Count\": 3, \"Perpetrator_Count\": 3, \"Record_Source\": 3, \"State_Code\": 3, \"id\": 11}, {\"Perpetrator_Sex\": \"Female\", \"State\": \"Florida\", \"Perpetrator_Race\": \"Black\", \"Record_ID\": 42, \"Agency_Code\": 42, \"Agency_Name\": 42, \"Agency_Type\": 42, \"City\": 42, \"Year\": 42, \"Month\": 42, \"Incident\": 42, \"Crime_Type\": 42, \"Crime_Solved\": 42, \"Victim_Sex\": 42, \"Victim_Age\": 42, \"Victim_Race\": 42, \"Victim_Ethnicity\": 42, \"Perpetrator_Age\": 42, \"Perpetrator_Ethnicity\": 42, \"Relationship\": 42, \"Weapon\": 42, \"Victim_Count\": 42, \"Perpetrator_Count\": 42, \"Record_Source\": 42, \"State_Code\": 42, \"id\": 12}, {\"Perpetrator_Sex\": \"Female\", \"State\": \"Georgia\", \"Perpetrator_Race\": \"Black\", \"Record_ID\": 33, \"Agency_Code\": 33, \"Agency_Name\": 33, \"Agency_Type\": 33, \"City\": 33, \"Year\": 33, \"Month\": 33, \"Incident\": 33, \"Crime_Type\": 33, \"Crime_Solved\": 33, \"Victim_Sex\": 33, \"Victim_Age\": 33, \"Victim_Race\": 33, \"Victim_Ethnicity\": 33, \"Perpetrator_Age\": 33, \"Perpetrator_Ethnicity\": 33, \"Relationship\": 33, \"Weapon\": 33, \"Victim_Count\": 33, \"Perpetrator_Count\": 33, \"Record_Source\": 33, \"State_Code\": 33, \"id\": 13}, {\"Perpetrator_Sex\": \"Female\", \"State\": \"Illinois\", \"Perpetrator_Race\": \"Black\", \"Record_ID\": 9, \"Agency_Code\": 9, \"Agency_Name\": 9, \"Agency_Type\": 9, \"City\": 9, \"Year\": 9, \"Month\": 9, \"Incident\": 9, \"Crime_Type\": 9, \"Crime_Solved\": 9, \"Victim_Sex\": 9, \"Victim_Age\": 9, \"Victim_Race\": 9, \"Victim_Ethnicity\": 9, \"Perpetrator_Age\": 9, \"Perpetrator_Ethnicity\": 9, \"Relationship\": 9, \"Weapon\": 9, \"Victim_Count\": 9, \"Perpetrator_Count\": 9, \"Record_Source\": 9, \"State_Code\": 9, \"id\": 17}, {\"Perpetrator_Sex\": \"Female\", \"State\": \"Indiana\", \"Perpetrator_Race\": \"Black\", \"Record_ID\": 11, \"Agency_Code\": 11, \"Agency_Name\": 11, \"Agency_Type\": 11, \"City\": 11, \"Year\": 11, \"Month\": 11, \"Incident\": 11, \"Crime_Type\": 11, \"Crime_Solved\": 11, \"Victim_Sex\": 11, \"Victim_Age\": 11, \"Victim_Race\": 11, \"Victim_Ethnicity\": 11, \"Perpetrator_Age\": 11, \"Perpetrator_Ethnicity\": 11, \"Relationship\": 11, \"Weapon\": 11, \"Victim_Count\": 11, \"Perpetrator_Count\": 11, \"Record_Source\": 11, \"State_Code\": 11, \"id\": 18}, {\"Perpetrator_Sex\": \"Female\", \"State\": \"Kansas\", \"Perpetrator_Race\": \"Black\", \"Record_ID\": 2, \"Agency_Code\": 2, \"Agency_Name\": 2, \"Agency_Type\": 2, \"City\": 2, \"Year\": 2, \"Month\": 2, \"Incident\": 2, \"Crime_Type\": 2, \"Crime_Solved\": 2, \"Victim_Sex\": 2, \"Victim_Age\": 2, \"Victim_Race\": 2, \"Victim_Ethnicity\": 2, \"Perpetrator_Age\": 2, \"Perpetrator_Ethnicity\": 2, \"Relationship\": 2, \"Weapon\": 2, \"Victim_Count\": 2, \"Perpetrator_Count\": 2, \"Record_Source\": 2, \"State_Code\": 2, \"id\": 20}, {\"Perpetrator_Sex\": \"Female\", \"State\": \"Kentucky\", \"Perpetrator_Race\": \"Black\", \"Record_ID\": 3, \"Agency_Code\": 3, \"Agency_Name\": 3, \"Agency_Type\": 3, \"City\": 3, \"Year\": 3, \"Month\": 3, \"Incident\": 3, \"Crime_Type\": 3, \"Crime_Solved\": 3, \"Victim_Sex\": 3, \"Victim_Age\": 3, \"Victim_Race\": 3, \"Victim_Ethnicity\": 3, \"Perpetrator_Age\": 3, \"Perpetrator_Ethnicity\": 3, \"Relationship\": 3, \"Weapon\": 3, \"Victim_Count\": 3, \"Perpetrator_Count\": 3, \"Record_Source\": 3, \"State_Code\": 3, \"id\": 21}, {\"Perpetrator_Sex\": \"Female\", \"State\": \"Louisiana\", \"Perpetrator_Race\": \"Black\", \"Record_ID\": 11, \"Agency_Code\": 11, \"Agency_Name\": 11, \"Agency_Type\": 11, \"City\": 11, \"Year\": 11, \"Month\": 11, \"Incident\": 11, \"Crime_Type\": 11, \"Crime_Solved\": 11, \"Victim_Sex\": 11, \"Victim_Age\": 11, \"Victim_Race\": 11, \"Victim_Ethnicity\": 11, \"Perpetrator_Age\": 11, \"Perpetrator_Ethnicity\": 11, \"Relationship\": 11, \"Weapon\": 11, \"Victim_Count\": 11, \"Perpetrator_Count\": 11, \"Record_Source\": 11, \"State_Code\": 11, \"id\": 22}, {\"Perpetrator_Sex\": \"Female\", \"State\": \"Maryland\", \"Perpetrator_Race\": \"Black\", \"Record_ID\": 12, \"Agency_Code\": 12, \"Agency_Name\": 12, \"Agency_Type\": 12, \"City\": 12, \"Year\": 12, \"Month\": 12, \"Incident\": 12, \"Crime_Type\": 12, \"Crime_Solved\": 12, \"Victim_Sex\": 12, \"Victim_Age\": 12, \"Victim_Race\": 12, \"Victim_Ethnicity\": 12, \"Perpetrator_Age\": 12, \"Perpetrator_Ethnicity\": 12, \"Relationship\": 12, \"Weapon\": 12, \"Victim_Count\": 12, \"Perpetrator_Count\": 12, \"Record_Source\": 12, \"State_Code\": 12, \"id\": 24}, {\"Perpetrator_Sex\": \"Female\", \"State\": \"Massachusetts\", \"Perpetrator_Race\": \"Black\", \"Record_ID\": 3, \"Agency_Code\": 3, \"Agency_Name\": 3, \"Agency_Type\": 3, \"City\": 3, \"Year\": 3, \"Month\": 3, \"Incident\": 3, \"Crime_Type\": 3, \"Crime_Solved\": 3, \"Victim_Sex\": 3, \"Victim_Age\": 3, \"Victim_Race\": 3, \"Victim_Ethnicity\": 3, \"Perpetrator_Age\": 3, \"Perpetrator_Ethnicity\": 3, \"Relationship\": 3, \"Weapon\": 3, \"Victim_Count\": 3, \"Perpetrator_Count\": 3, \"Record_Source\": 3, \"State_Code\": 3, \"id\": 25}, {\"Perpetrator_Sex\": \"Female\", \"State\": \"Michigan\", \"Perpetrator_Race\": \"Black\", \"Record_ID\": 17, \"Agency_Code\": 17, \"Agency_Name\": 17, \"Agency_Type\": 17, \"City\": 17, \"Year\": 17, \"Month\": 17, \"Incident\": 17, \"Crime_Type\": 17, \"Crime_Solved\": 17, \"Victim_Sex\": 17, \"Victim_Age\": 17, \"Victim_Race\": 17, \"Victim_Ethnicity\": 17, \"Perpetrator_Age\": 17, \"Perpetrator_Ethnicity\": 17, \"Relationship\": 17, \"Weapon\": 17, \"Victim_Count\": 17, \"Perpetrator_Count\": 17, \"Record_Source\": 17, \"State_Code\": 17, \"id\": 26}, {\"Perpetrator_Sex\": \"Female\", \"State\": \"Minnesota\", \"Perpetrator_Race\": \"Black\", \"Record_ID\": 1, \"Agency_Code\": 1, \"Agency_Name\": 1, \"Agency_Type\": 1, \"City\": 1, \"Year\": 1, \"Month\": 1, \"Incident\": 1, \"Crime_Type\": 1, \"Crime_Solved\": 1, \"Victim_Sex\": 1, \"Victim_Age\": 1, \"Victim_Race\": 1, \"Victim_Ethnicity\": 1, \"Perpetrator_Age\": 1, \"Perpetrator_Ethnicity\": 1, \"Relationship\": 1, \"Weapon\": 1, \"Victim_Count\": 1, \"Perpetrator_Count\": 1, \"Record_Source\": 1, \"State_Code\": 1, \"id\": 27}, {\"Perpetrator_Sex\": \"Female\", \"State\": \"Mississippi\", \"Perpetrator_Race\": \"Black\", \"Record_ID\": 11, \"Agency_Code\": 11, \"Agency_Name\": 11, \"Agency_Type\": 11, \"City\": 11, \"Year\": 11, \"Month\": 11, \"Incident\": 11, \"Crime_Type\": 11, \"Crime_Solved\": 11, \"Victim_Sex\": 11, \"Victim_Age\": 11, \"Victim_Race\": 11, \"Victim_Ethnicity\": 11, \"Perpetrator_Age\": 11, \"Perpetrator_Ethnicity\": 11, \"Relationship\": 11, \"Weapon\": 11, \"Victim_Count\": 11, \"Perpetrator_Count\": 11, \"Record_Source\": 11, \"State_Code\": 11, \"id\": 28}, {\"Perpetrator_Sex\": \"Female\", \"State\": \"Missouri\", \"Perpetrator_Race\": \"Black\", \"Record_ID\": 10, \"Agency_Code\": 10, \"Agency_Name\": 10, \"Agency_Type\": 10, \"City\": 10, \"Year\": 10, \"Month\": 10, \"Incident\": 10, \"Crime_Type\": 10, \"Crime_Solved\": 10, \"Victim_Sex\": 10, \"Victim_Age\": 10, \"Victim_Race\": 10, \"Victim_Ethnicity\": 10, \"Perpetrator_Age\": 10, \"Perpetrator_Ethnicity\": 10, \"Relationship\": 10, \"Weapon\": 10, \"Victim_Count\": 10, \"Perpetrator_Count\": 10, \"Record_Source\": 10, \"State_Code\": 10, \"id\": 29}, {\"Perpetrator_Sex\": \"Female\", \"State\": \"Nevada\", \"Perpetrator_Race\": \"Black\", \"Record_ID\": 5, \"Agency_Code\": 5, \"Agency_Name\": 5, \"Agency_Type\": 5, \"City\": 5, \"Year\": 5, \"Month\": 5, \"Incident\": 5, \"Crime_Type\": 5, \"Crime_Solved\": 5, \"Victim_Sex\": 5, \"Victim_Age\": 5, \"Victim_Race\": 5, \"Victim_Ethnicity\": 5, \"Perpetrator_Age\": 5, \"Perpetrator_Ethnicity\": 5, \"Relationship\": 5, \"Weapon\": 5, \"Victim_Count\": 5, \"Perpetrator_Count\": 5, \"Record_Source\": 5, \"State_Code\": 5, \"id\": 32}, {\"Perpetrator_Sex\": \"Female\", \"State\": \"New Hampshire\", \"Perpetrator_Race\": \"Black\", \"Record_ID\": 1, \"Agency_Code\": 1, \"Agency_Name\": 1, \"Agency_Type\": 1, \"City\": 1, \"Year\": 1, \"Month\": 1, \"Incident\": 1, \"Crime_Type\": 1, \"Crime_Solved\": 1, \"Victim_Sex\": 1, \"Victim_Age\": 1, \"Victim_Race\": 1, \"Victim_Ethnicity\": 1, \"Perpetrator_Age\": 1, \"Perpetrator_Ethnicity\": 1, \"Relationship\": 1, \"Weapon\": 1, \"Victim_Count\": 1, \"Perpetrator_Count\": 1, \"Record_Source\": 1, \"State_Code\": 1, \"id\": 33}, {\"Perpetrator_Sex\": \"Female\", \"State\": \"New Jersey\", \"Perpetrator_Race\": \"Black\", \"Record_ID\": 8, \"Agency_Code\": 8, \"Agency_Name\": 8, \"Agency_Type\": 8, \"City\": 8, \"Year\": 8, \"Month\": 8, \"Incident\": 8, \"Crime_Type\": 8, \"Crime_Solved\": 8, \"Victim_Sex\": 8, \"Victim_Age\": 8, \"Victim_Race\": 8, \"Victim_Ethnicity\": 8, \"Perpetrator_Age\": 8, \"Perpetrator_Ethnicity\": 8, \"Relationship\": 8, \"Weapon\": 8, \"Victim_Count\": 8, \"Perpetrator_Count\": 8, \"Record_Source\": 8, \"State_Code\": 8, \"id\": 34}, {\"Perpetrator_Sex\": \"Female\", \"State\": \"New York\", \"Perpetrator_Race\": \"Black\", \"Record_ID\": 32, \"Agency_Code\": 32, \"Agency_Name\": 32, \"Agency_Type\": 32, \"City\": 32, \"Year\": 32, \"Month\": 32, \"Incident\": 32, \"Crime_Type\": 32, \"Crime_Solved\": 32, \"Victim_Sex\": 32, \"Victim_Age\": 32, \"Victim_Race\": 32, \"Victim_Ethnicity\": 32, \"Perpetrator_Age\": 32, \"Perpetrator_Ethnicity\": 32, \"Relationship\": 32, \"Weapon\": 32, \"Victim_Count\": 32, \"Perpetrator_Count\": 32, \"Record_Source\": 32, \"State_Code\": 32, \"id\": 36}, {\"Perpetrator_Sex\": \"Female\", \"State\": \"North Carolina\", \"Perpetrator_Race\": \"Black\", \"Record_ID\": 16, \"Agency_Code\": 16, \"Agency_Name\": 16, \"Agency_Type\": 16, \"City\": 16, \"Year\": 16, \"Month\": 16, \"Incident\": 16, \"Crime_Type\": 16, \"Crime_Solved\": 16, \"Victim_Sex\": 16, \"Victim_Age\": 16, \"Victim_Race\": 16, \"Victim_Ethnicity\": 16, \"Perpetrator_Age\": 16, \"Perpetrator_Ethnicity\": 16, \"Relationship\": 16, \"Weapon\": 16, \"Victim_Count\": 16, \"Perpetrator_Count\": 16, \"Record_Source\": 16, \"State_Code\": 16, \"id\": 37}, {\"Perpetrator_Sex\": \"Female\", \"State\": \"Ohio\", \"Perpetrator_Race\": \"Black\", \"Record_ID\": 19, \"Agency_Code\": 19, \"Agency_Name\": 19, \"Agency_Type\": 19, \"City\": 19, \"Year\": 19, \"Month\": 19, \"Incident\": 19, \"Crime_Type\": 19, \"Crime_Solved\": 19, \"Victim_Sex\": 19, \"Victim_Age\": 19, \"Victim_Race\": 19, \"Victim_Ethnicity\": 19, \"Perpetrator_Age\": 19, \"Perpetrator_Ethnicity\": 19, \"Relationship\": 19, \"Weapon\": 19, \"Victim_Count\": 19, \"Perpetrator_Count\": 19, \"Record_Source\": 19, \"State_Code\": 19, \"id\": 39}, {\"Perpetrator_Sex\": \"Female\", \"State\": \"Oklahoma\", \"Perpetrator_Race\": \"Black\", \"Record_ID\": 4, \"Agency_Code\": 4, \"Agency_Name\": 4, \"Agency_Type\": 4, \"City\": 4, \"Year\": 4, \"Month\": 4, \"Incident\": 4, \"Crime_Type\": 4, \"Crime_Solved\": 4, \"Victim_Sex\": 4, \"Victim_Age\": 4, \"Victim_Race\": 4, \"Victim_Ethnicity\": 4, \"Perpetrator_Age\": 4, \"Perpetrator_Ethnicity\": 4, \"Relationship\": 4, \"Weapon\": 4, \"Victim_Count\": 4, \"Perpetrator_Count\": 4, \"Record_Source\": 4, \"State_Code\": 4, \"id\": 40}, {\"Perpetrator_Sex\": \"Female\", \"State\": \"Pennsylvania\", \"Perpetrator_Race\": \"Black\", \"Record_ID\": 17, \"Agency_Code\": 17, \"Agency_Name\": 17, \"Agency_Type\": 17, \"City\": 17, \"Year\": 17, \"Month\": 17, \"Incident\": 17, \"Crime_Type\": 17, \"Crime_Solved\": 17, \"Victim_Sex\": 17, \"Victim_Age\": 17, \"Victim_Race\": 17, \"Victim_Ethnicity\": 17, \"Perpetrator_Age\": 17, \"Perpetrator_Ethnicity\": 17, \"Relationship\": 17, \"Weapon\": 17, \"Victim_Count\": 17, \"Perpetrator_Count\": 17, \"Record_Source\": 17, \"State_Code\": 17, \"id\": 42}, {\"Perpetrator_Sex\": \"Female\", \"State\": \"South Carolina\", \"Perpetrator_Race\": \"Black\", \"Record_ID\": 12, \"Agency_Code\": 12, \"Agency_Name\": 12, \"Agency_Type\": 12, \"City\": 12, \"Year\": 12, \"Month\": 12, \"Incident\": 12, \"Crime_Type\": 12, \"Crime_Solved\": 12, \"Victim_Sex\": 12, \"Victim_Age\": 12, \"Victim_Race\": 12, \"Victim_Ethnicity\": 12, \"Perpetrator_Age\": 12, \"Perpetrator_Ethnicity\": 12, \"Relationship\": 12, \"Weapon\": 12, \"Victim_Count\": 12, \"Perpetrator_Count\": 12, \"Record_Source\": 12, \"State_Code\": 12, \"id\": 45}, {\"Perpetrator_Sex\": \"Female\", \"State\": \"Tennessee\", \"Perpetrator_Race\": \"Black\", \"Record_ID\": 14, \"Agency_Code\": 14, \"Agency_Name\": 14, \"Agency_Type\": 14, \"City\": 14, \"Year\": 14, \"Month\": 14, \"Incident\": 14, \"Crime_Type\": 14, \"Crime_Solved\": 14, \"Victim_Sex\": 14, \"Victim_Age\": 14, \"Victim_Race\": 14, \"Victim_Ethnicity\": 14, \"Perpetrator_Age\": 14, \"Perpetrator_Ethnicity\": 14, \"Relationship\": 14, \"Weapon\": 14, \"Victim_Count\": 14, \"Perpetrator_Count\": 14, \"Record_Source\": 14, \"State_Code\": 14, \"id\": 47}, {\"Perpetrator_Sex\": \"Female\", \"State\": \"Texas\", \"Perpetrator_Race\": \"Black\", \"Record_ID\": 33, \"Agency_Code\": 33, \"Agency_Name\": 33, \"Agency_Type\": 33, \"City\": 33, \"Year\": 33, \"Month\": 33, \"Incident\": 33, \"Crime_Type\": 33, \"Crime_Solved\": 33, \"Victim_Sex\": 33, \"Victim_Age\": 33, \"Victim_Race\": 33, \"Victim_Ethnicity\": 33, \"Perpetrator_Age\": 33, \"Perpetrator_Ethnicity\": 33, \"Relationship\": 33, \"Weapon\": 33, \"Victim_Count\": 33, \"Perpetrator_Count\": 33, \"Record_Source\": 33, \"State_Code\": 33, \"id\": 48}, {\"Perpetrator_Sex\": \"Female\", \"State\": \"Virginia\", \"Perpetrator_Race\": \"Black\", \"Record_ID\": 11, \"Agency_Code\": 11, \"Agency_Name\": 11, \"Agency_Type\": 11, \"City\": 11, \"Year\": 11, \"Month\": 11, \"Incident\": 11, \"Crime_Type\": 11, \"Crime_Solved\": 11, \"Victim_Sex\": 11, \"Victim_Age\": 11, \"Victim_Race\": 11, \"Victim_Ethnicity\": 11, \"Perpetrator_Age\": 11, \"Perpetrator_Ethnicity\": 11, \"Relationship\": 11, \"Weapon\": 11, \"Victim_Count\": 11, \"Perpetrator_Count\": 11, \"Record_Source\": 11, \"State_Code\": 11, \"id\": 51}, {\"Perpetrator_Sex\": \"Female\", \"State\": \"Wisconsin\", \"Perpetrator_Race\": \"Black\", \"Record_ID\": 6, \"Agency_Code\": 6, \"Agency_Name\": 6, \"Agency_Type\": 6, \"City\": 6, \"Year\": 6, \"Month\": 6, \"Incident\": 6, \"Crime_Type\": 6, \"Crime_Solved\": 6, \"Victim_Sex\": 6, \"Victim_Age\": 6, \"Victim_Race\": 6, \"Victim_Ethnicity\": 6, \"Perpetrator_Age\": 6, \"Perpetrator_Ethnicity\": 6, \"Relationship\": 6, \"Weapon\": 6, \"Victim_Count\": 6, \"Perpetrator_Count\": 6, \"Record_Source\": 6, \"State_Code\": 6, \"id\": 55}, {\"Perpetrator_Sex\": \"Male\", \"State\": \"Alabama\", \"Perpetrator_Race\": \"Black\", \"Record_ID\": 77, \"Agency_Code\": 77, \"Agency_Name\": 77, \"Agency_Type\": 77, \"City\": 77, \"Year\": 77, \"Month\": 77, \"Incident\": 77, \"Crime_Type\": 77, \"Crime_Solved\": 77, \"Victim_Sex\": 77, \"Victim_Age\": 77, \"Victim_Race\": 77, \"Victim_Ethnicity\": 77, \"Perpetrator_Age\": 77, \"Perpetrator_Ethnicity\": 77, \"Relationship\": 77, \"Weapon\": 77, \"Victim_Count\": 77, \"Perpetrator_Count\": 77, \"Record_Source\": 77, \"State_Code\": 77, \"id\": 1}, {\"Perpetrator_Sex\": \"Male\", \"State\": \"Alaska\", \"Perpetrator_Race\": \"Black\", \"Record_ID\": 1, \"Agency_Code\": 1, \"Agency_Name\": 1, \"Agency_Type\": 1, \"City\": 1, \"Year\": 1, \"Month\": 1, \"Incident\": 1, \"Crime_Type\": 1, \"Crime_Solved\": 1, \"Victim_Sex\": 1, \"Victim_Age\": 1, \"Victim_Race\": 1, \"Victim_Ethnicity\": 1, \"Perpetrator_Age\": 1, \"Perpetrator_Ethnicity\": 1, \"Relationship\": 1, \"Weapon\": 1, \"Victim_Count\": 1, \"Perpetrator_Count\": 1, \"Record_Source\": 1, \"State_Code\": 1, \"id\": 2}, {\"Perpetrator_Sex\": \"Male\", \"State\": \"Arizona\", \"Perpetrator_Race\": \"Black\", \"Record_ID\": 38, \"Agency_Code\": 38, \"Agency_Name\": 38, \"Agency_Type\": 38, \"City\": 38, \"Year\": 38, \"Month\": 38, \"Incident\": 38, \"Crime_Type\": 38, \"Crime_Solved\": 38, \"Victim_Sex\": 38, \"Victim_Age\": 38, \"Victim_Race\": 38, \"Victim_Ethnicity\": 38, \"Perpetrator_Age\": 38, \"Perpetrator_Ethnicity\": 38, \"Relationship\": 38, \"Weapon\": 38, \"Victim_Count\": 38, \"Perpetrator_Count\": 38, \"Record_Source\": 38, \"State_Code\": 38, \"id\": 4}, {\"Perpetrator_Sex\": \"Male\", \"State\": \"Arkansas\", \"Perpetrator_Race\": \"Black\", \"Record_ID\": 59, \"Agency_Code\": 59, \"Agency_Name\": 59, \"Agency_Type\": 59, \"City\": 59, \"Year\": 59, \"Month\": 59, \"Incident\": 59, \"Crime_Type\": 59, \"Crime_Solved\": 59, \"Victim_Sex\": 59, \"Victim_Age\": 59, \"Victim_Race\": 59, \"Victim_Ethnicity\": 59, \"Perpetrator_Age\": 59, \"Perpetrator_Ethnicity\": 59, \"Relationship\": 59, \"Weapon\": 59, \"Victim_Count\": 59, \"Perpetrator_Count\": 59, \"Record_Source\": 59, \"State_Code\": 59, \"id\": 5}, {\"Perpetrator_Sex\": \"Male\", \"State\": \"California\", \"Perpetrator_Race\": \"Black\", \"Record_ID\": 231, \"Agency_Code\": 231, \"Agency_Name\": 231, \"Agency_Type\": 231, \"City\": 231, \"Year\": 231, \"Month\": 231, \"Incident\": 231, \"Crime_Type\": 231, \"Crime_Solved\": 231, \"Victim_Sex\": 231, \"Victim_Age\": 231, \"Victim_Race\": 231, \"Victim_Ethnicity\": 231, \"Perpetrator_Age\": 231, \"Perpetrator_Ethnicity\": 231, \"Relationship\": 231, \"Weapon\": 231, \"Victim_Count\": 231, \"Perpetrator_Count\": 231, \"Record_Source\": 231, \"State_Code\": 231, \"id\": 6}, {\"Perpetrator_Sex\": \"Male\", \"State\": \"Colorado\", \"Perpetrator_Race\": \"Black\", \"Record_ID\": 20, \"Agency_Code\": 20, \"Agency_Name\": 20, \"Agency_Type\": 20, \"City\": 20, \"Year\": 20, \"Month\": 20, \"Incident\": 20, \"Crime_Type\": 20, \"Crime_Solved\": 20, \"Victim_Sex\": 20, \"Victim_Age\": 20, \"Victim_Race\": 20, \"Victim_Ethnicity\": 20, \"Perpetrator_Age\": 20, \"Perpetrator_Ethnicity\": 20, \"Relationship\": 20, \"Weapon\": 20, \"Victim_Count\": 20, \"Perpetrator_Count\": 20, \"Record_Source\": 20, \"State_Code\": 20, \"id\": 8}, {\"Perpetrator_Sex\": \"Male\", \"State\": \"Connecticut\", \"Perpetrator_Race\": \"Black\", \"Record_ID\": 45, \"Agency_Code\": 45, \"Agency_Name\": 45, \"Agency_Type\": 45, \"City\": 45, \"Year\": 45, \"Month\": 45, \"Incident\": 45, \"Crime_Type\": 45, \"Crime_Solved\": 45, \"Victim_Sex\": 45, \"Victim_Age\": 45, \"Victim_Race\": 45, \"Victim_Ethnicity\": 45, \"Perpetrator_Age\": 45, \"Perpetrator_Ethnicity\": 45, \"Relationship\": 45, \"Weapon\": 45, \"Victim_Count\": 45, \"Perpetrator_Count\": 45, \"Record_Source\": 45, \"State_Code\": 45, \"id\": 9}, {\"Perpetrator_Sex\": \"Male\", \"State\": \"Delaware\", \"Perpetrator_Race\": \"Black\", \"Record_ID\": 27, \"Agency_Code\": 27, \"Agency_Name\": 27, \"Agency_Type\": 27, \"City\": 27, \"Year\": 27, \"Month\": 27, \"Incident\": 27, \"Crime_Type\": 27, \"Crime_Solved\": 27, \"Victim_Sex\": 27, \"Victim_Age\": 27, \"Victim_Race\": 27, \"Victim_Ethnicity\": 27, \"Perpetrator_Age\": 27, \"Perpetrator_Ethnicity\": 27, \"Relationship\": 27, \"Weapon\": 27, \"Victim_Count\": 27, \"Perpetrator_Count\": 27, \"Record_Source\": 27, \"State_Code\": 27, \"id\": 10}, {\"Perpetrator_Sex\": \"Male\", \"State\": \"District of Columbia\", \"Perpetrator_Race\": \"Black\", \"Record_ID\": 67, \"Agency_Code\": 67, \"Agency_Name\": 67, \"Agency_Type\": 67, \"City\": 67, \"Year\": 67, \"Month\": 67, \"Incident\": 67, \"Crime_Type\": 67, \"Crime_Solved\": 67, \"Victim_Sex\": 67, \"Victim_Age\": 67, \"Victim_Race\": 67, \"Victim_Ethnicity\": 67, \"Perpetrator_Age\": 67, \"Perpetrator_Ethnicity\": 67, \"Relationship\": 67, \"Weapon\": 67, \"Victim_Count\": 67, \"Perpetrator_Count\": 67, \"Record_Source\": 67, \"State_Code\": 67, \"id\": 11}, {\"Perpetrator_Sex\": \"Male\", \"State\": \"Florida\", \"Perpetrator_Race\": \"Black\", \"Record_ID\": 334, \"Agency_Code\": 334, \"Agency_Name\": 334, \"Agency_Type\": 334, \"City\": 334, \"Year\": 334, \"Month\": 334, \"Incident\": 334, \"Crime_Type\": 334, \"Crime_Solved\": 334, \"Victim_Sex\": 334, \"Victim_Age\": 334, \"Victim_Race\": 334, \"Victim_Ethnicity\": 334, \"Perpetrator_Age\": 334, \"Perpetrator_Ethnicity\": 334, \"Relationship\": 334, \"Weapon\": 334, \"Victim_Count\": 334, \"Perpetrator_Count\": 334, \"Record_Source\": 334, \"State_Code\": 334, \"id\": 12}, {\"Perpetrator_Sex\": \"Male\", \"State\": \"Georgia\", \"Perpetrator_Race\": \"Black\", \"Record_ID\": 247, \"Agency_Code\": 247, \"Agency_Name\": 247, \"Agency_Type\": 247, \"City\": 247, \"Year\": 247, \"Month\": 247, \"Incident\": 247, \"Crime_Type\": 247, \"Crime_Solved\": 247, \"Victim_Sex\": 247, \"Victim_Age\": 247, \"Victim_Race\": 247, \"Victim_Ethnicity\": 247, \"Perpetrator_Age\": 247, \"Perpetrator_Ethnicity\": 247, \"Relationship\": 247, \"Weapon\": 247, \"Victim_Count\": 247, \"Perpetrator_Count\": 247, \"Record_Source\": 247, \"State_Code\": 247, \"id\": 13}, {\"Perpetrator_Sex\": \"Male\", \"State\": \"Hawaii\", \"Perpetrator_Race\": \"Black\", \"Record_ID\": 4, \"Agency_Code\": 4, \"Agency_Name\": 4, \"Agency_Type\": 4, \"City\": 4, \"Year\": 4, \"Month\": 4, \"Incident\": 4, \"Crime_Type\": 4, \"Crime_Solved\": 4, \"Victim_Sex\": 4, \"Victim_Age\": 4, \"Victim_Race\": 4, \"Victim_Ethnicity\": 4, \"Perpetrator_Age\": 4, \"Perpetrator_Ethnicity\": 4, \"Relationship\": 4, \"Weapon\": 4, \"Victim_Count\": 4, \"Perpetrator_Count\": 4, \"Record_Source\": 4, \"State_Code\": 4, \"id\": 15}, {\"Perpetrator_Sex\": \"Male\", \"State\": \"Illinois\", \"Perpetrator_Race\": \"Black\", \"Record_ID\": 113, \"Agency_Code\": 113, \"Agency_Name\": 113, \"Agency_Type\": 113, \"City\": 113, \"Year\": 113, \"Month\": 113, \"Incident\": 113, \"Crime_Type\": 113, \"Crime_Solved\": 113, \"Victim_Sex\": 113, \"Victim_Age\": 113, \"Victim_Race\": 113, \"Victim_Ethnicity\": 113, \"Perpetrator_Age\": 113, \"Perpetrator_Ethnicity\": 113, \"Relationship\": 113, \"Weapon\": 113, \"Victim_Count\": 113, \"Perpetrator_Count\": 113, \"Record_Source\": 113, \"State_Code\": 113, \"id\": 17}, {\"Perpetrator_Sex\": \"Male\", \"State\": \"Indiana\", \"Perpetrator_Race\": \"Black\", \"Record_ID\": 95, \"Agency_Code\": 95, \"Agency_Name\": 95, \"Agency_Type\": 95, \"City\": 95, \"Year\": 95, \"Month\": 95, \"Incident\": 95, \"Crime_Type\": 95, \"Crime_Solved\": 95, \"Victim_Sex\": 95, \"Victim_Age\": 95, \"Victim_Race\": 95, \"Victim_Ethnicity\": 95, \"Perpetrator_Age\": 95, \"Perpetrator_Ethnicity\": 95, \"Relationship\": 95, \"Weapon\": 95, \"Victim_Count\": 95, \"Perpetrator_Count\": 95, \"Record_Source\": 95, \"State_Code\": 95, \"id\": 18}, {\"Perpetrator_Sex\": \"Male\", \"State\": \"Iowa\", \"Perpetrator_Race\": \"Black\", \"Record_ID\": 7, \"Agency_Code\": 7, \"Agency_Name\": 7, \"Agency_Type\": 7, \"City\": 7, \"Year\": 7, \"Month\": 7, \"Incident\": 7, \"Crime_Type\": 7, \"Crime_Solved\": 7, \"Victim_Sex\": 7, \"Victim_Age\": 7, \"Victim_Race\": 7, \"Victim_Ethnicity\": 7, \"Perpetrator_Age\": 7, \"Perpetrator_Ethnicity\": 7, \"Relationship\": 7, \"Weapon\": 7, \"Victim_Count\": 7, \"Perpetrator_Count\": 7, \"Record_Source\": 7, \"State_Code\": 7, \"id\": 19}, {\"Perpetrator_Sex\": \"Male\", \"State\": \"Kansas\", \"Perpetrator_Race\": \"Black\", \"Record_ID\": 26, \"Agency_Code\": 26, \"Agency_Name\": 26, \"Agency_Type\": 26, \"City\": 26, \"Year\": 26, \"Month\": 26, \"Incident\": 26, \"Crime_Type\": 26, \"Crime_Solved\": 26, \"Victim_Sex\": 26, \"Victim_Age\": 26, \"Victim_Race\": 26, \"Victim_Ethnicity\": 26, \"Perpetrator_Age\": 26, \"Perpetrator_Ethnicity\": 26, \"Relationship\": 26, \"Weapon\": 26, \"Victim_Count\": 26, \"Perpetrator_Count\": 26, \"Record_Source\": 26, \"State_Code\": 26, \"id\": 20}, {\"Perpetrator_Sex\": \"Male\", \"State\": \"Kentucky\", \"Perpetrator_Race\": \"Black\", \"Record_ID\": 28, \"Agency_Code\": 28, \"Agency_Name\": 28, \"Agency_Type\": 28, \"City\": 28, \"Year\": 28, \"Month\": 28, \"Incident\": 28, \"Crime_Type\": 28, \"Crime_Solved\": 28, \"Victim_Sex\": 28, \"Victim_Age\": 28, \"Victim_Race\": 28, \"Victim_Ethnicity\": 28, \"Perpetrator_Age\": 28, \"Perpetrator_Ethnicity\": 28, \"Relationship\": 28, \"Weapon\": 28, \"Victim_Count\": 28, \"Perpetrator_Count\": 28, \"Record_Source\": 28, \"State_Code\": 28, \"id\": 21}, {\"Perpetrator_Sex\": \"Male\", \"State\": \"Louisiana\", \"Perpetrator_Race\": \"Black\", \"Record_ID\": 227, \"Agency_Code\": 227, \"Agency_Name\": 227, \"Agency_Type\": 227, \"City\": 227, \"Year\": 227, \"Month\": 227, \"Incident\": 227, \"Crime_Type\": 227, \"Crime_Solved\": 227, \"Victim_Sex\": 227, \"Victim_Age\": 227, \"Victim_Race\": 227, \"Victim_Ethnicity\": 227, \"Perpetrator_Age\": 227, \"Perpetrator_Ethnicity\": 227, \"Relationship\": 227, \"Weapon\": 227, \"Victim_Count\": 227, \"Perpetrator_Count\": 227, \"Record_Source\": 227, \"State_Code\": 227, \"id\": 22}, {\"Perpetrator_Sex\": \"Male\", \"State\": \"Maine\", \"Perpetrator_Race\": \"Black\", \"Record_ID\": 5, \"Agency_Code\": 5, \"Agency_Name\": 5, \"Agency_Type\": 5, \"City\": 5, \"Year\": 5, \"Month\": 5, \"Incident\": 5, \"Crime_Type\": 5, \"Crime_Solved\": 5, \"Victim_Sex\": 5, \"Victim_Age\": 5, \"Victim_Race\": 5, \"Victim_Ethnicity\": 5, \"Perpetrator_Age\": 5, \"Perpetrator_Ethnicity\": 5, \"Relationship\": 5, \"Weapon\": 5, \"Victim_Count\": 5, \"Perpetrator_Count\": 5, \"Record_Source\": 5, \"State_Code\": 5, \"id\": 23}, {\"Perpetrator_Sex\": \"Male\", \"State\": \"Maryland\", \"Perpetrator_Race\": \"Black\", \"Record_ID\": 195, \"Agency_Code\": 195, \"Agency_Name\": 195, \"Agency_Type\": 195, \"City\": 195, \"Year\": 195, \"Month\": 195, \"Incident\": 195, \"Crime_Type\": 195, \"Crime_Solved\": 195, \"Victim_Sex\": 195, \"Victim_Age\": 195, \"Victim_Race\": 195, \"Victim_Ethnicity\": 195, \"Perpetrator_Age\": 195, \"Perpetrator_Ethnicity\": 195, \"Relationship\": 195, \"Weapon\": 195, \"Victim_Count\": 195, \"Perpetrator_Count\": 195, \"Record_Source\": 195, \"State_Code\": 195, \"id\": 24}, {\"Perpetrator_Sex\": \"Male\", \"State\": \"Massachusetts\", \"Perpetrator_Race\": \"Black\", \"Record_ID\": 46, \"Agency_Code\": 46, \"Agency_Name\": 46, \"Agency_Type\": 46, \"City\": 46, \"Year\": 46, \"Month\": 46, \"Incident\": 46, \"Crime_Type\": 46, \"Crime_Solved\": 46, \"Victim_Sex\": 46, \"Victim_Age\": 46, \"Victim_Race\": 46, \"Victim_Ethnicity\": 46, \"Perpetrator_Age\": 46, \"Perpetrator_Ethnicity\": 46, \"Relationship\": 46, \"Weapon\": 46, \"Victim_Count\": 46, \"Perpetrator_Count\": 46, \"Record_Source\": 46, \"State_Code\": 46, \"id\": 25}, {\"Perpetrator_Sex\": \"Male\", \"State\": \"Michigan\", \"Perpetrator_Race\": \"Black\", \"Record_ID\": 246, \"Agency_Code\": 246, \"Agency_Name\": 246, \"Agency_Type\": 246, \"City\": 246, \"Year\": 246, \"Month\": 246, \"Incident\": 246, \"Crime_Type\": 246, \"Crime_Solved\": 246, \"Victim_Sex\": 246, \"Victim_Age\": 246, \"Victim_Race\": 246, \"Victim_Ethnicity\": 246, \"Perpetrator_Age\": 246, \"Perpetrator_Ethnicity\": 246, \"Relationship\": 246, \"Weapon\": 246, \"Victim_Count\": 246, \"Perpetrator_Count\": 246, \"Record_Source\": 246, \"State_Code\": 246, \"id\": 26}, {\"Perpetrator_Sex\": \"Male\", \"State\": \"Minnesota\", \"Perpetrator_Race\": \"Black\", \"Record_ID\": 36, \"Agency_Code\": 36, \"Agency_Name\": 36, \"Agency_Type\": 36, \"City\": 36, \"Year\": 36, \"Month\": 36, \"Incident\": 36, \"Crime_Type\": 36, \"Crime_Solved\": 36, \"Victim_Sex\": 36, \"Victim_Age\": 36, \"Victim_Race\": 36, \"Victim_Ethnicity\": 36, \"Perpetrator_Age\": 36, \"Perpetrator_Ethnicity\": 36, \"Relationship\": 36, \"Weapon\": 36, \"Victim_Count\": 36, \"Perpetrator_Count\": 36, \"Record_Source\": 36, \"State_Code\": 36, \"id\": 27}, {\"Perpetrator_Sex\": \"Male\", \"State\": \"Mississippi\", \"Perpetrator_Race\": \"Black\", \"Record_ID\": 89, \"Agency_Code\": 89, \"Agency_Name\": 89, \"Agency_Type\": 89, \"City\": 89, \"Year\": 89, \"Month\": 89, \"Incident\": 89, \"Crime_Type\": 89, \"Crime_Solved\": 89, \"Victim_Sex\": 89, \"Victim_Age\": 89, \"Victim_Race\": 89, \"Victim_Ethnicity\": 89, \"Perpetrator_Age\": 89, \"Perpetrator_Ethnicity\": 89, \"Relationship\": 89, \"Weapon\": 89, \"Victim_Count\": 89, \"Perpetrator_Count\": 89, \"Record_Source\": 89, \"State_Code\": 89, \"id\": 28}, {\"Perpetrator_Sex\": \"Male\", \"State\": \"Missouri\", \"Perpetrator_Race\": \"Black\", \"Record_ID\": 152, \"Agency_Code\": 152, \"Agency_Name\": 152, \"Agency_Type\": 152, \"City\": 152, \"Year\": 152, \"Month\": 152, \"Incident\": 152, \"Crime_Type\": 152, \"Crime_Solved\": 152, \"Victim_Sex\": 152, \"Victim_Age\": 152, \"Victim_Race\": 152, \"Victim_Ethnicity\": 152, \"Perpetrator_Age\": 152, \"Perpetrator_Ethnicity\": 152, \"Relationship\": 152, \"Weapon\": 152, \"Victim_Count\": 152, \"Perpetrator_Count\": 152, \"Record_Source\": 152, \"State_Code\": 152, \"id\": 29}, {\"Perpetrator_Sex\": \"Male\", \"State\": \"Nebraska\", \"Perpetrator_Race\": \"Black\", \"Record_ID\": 11, \"Agency_Code\": 11, \"Agency_Name\": 11, \"Agency_Type\": 11, \"City\": 11, \"Year\": 11, \"Month\": 11, \"Incident\": 11, \"Crime_Type\": 11, \"Crime_Solved\": 11, \"Victim_Sex\": 11, \"Victim_Age\": 11, \"Victim_Race\": 11, \"Victim_Ethnicity\": 11, \"Perpetrator_Age\": 11, \"Perpetrator_Ethnicity\": 11, \"Relationship\": 11, \"Weapon\": 11, \"Victim_Count\": 11, \"Perpetrator_Count\": 11, \"Record_Source\": 11, \"State_Code\": 11, \"id\": 31}, {\"Perpetrator_Sex\": \"Male\", \"State\": \"Nevada\", \"Perpetrator_Race\": \"Black\", \"Record_ID\": 31, \"Agency_Code\": 31, \"Agency_Name\": 31, \"Agency_Type\": 31, \"City\": 31, \"Year\": 31, \"Month\": 31, \"Incident\": 31, \"Crime_Type\": 31, \"Crime_Solved\": 31, \"Victim_Sex\": 31, \"Victim_Age\": 31, \"Victim_Race\": 31, \"Victim_Ethnicity\": 31, \"Perpetrator_Age\": 31, \"Perpetrator_Ethnicity\": 31, \"Relationship\": 31, \"Weapon\": 31, \"Victim_Count\": 31, \"Perpetrator_Count\": 31, \"Record_Source\": 31, \"State_Code\": 31, \"id\": 32}, {\"Perpetrator_Sex\": \"Male\", \"State\": \"New Hampshire\", \"Perpetrator_Race\": \"Black\", \"Record_ID\": 2, \"Agency_Code\": 2, \"Agency_Name\": 2, \"Agency_Type\": 2, \"City\": 2, \"Year\": 2, \"Month\": 2, \"Incident\": 2, \"Crime_Type\": 2, \"Crime_Solved\": 2, \"Victim_Sex\": 2, \"Victim_Age\": 2, \"Victim_Race\": 2, \"Victim_Ethnicity\": 2, \"Perpetrator_Age\": 2, \"Perpetrator_Ethnicity\": 2, \"Relationship\": 2, \"Weapon\": 2, \"Victim_Count\": 2, \"Perpetrator_Count\": 2, \"Record_Source\": 2, \"State_Code\": 2, \"id\": 33}, {\"Perpetrator_Sex\": \"Male\", \"State\": \"New Jersey\", \"Perpetrator_Race\": \"Black\", \"Record_ID\": 130, \"Agency_Code\": 130, \"Agency_Name\": 130, \"Agency_Type\": 130, \"City\": 130, \"Year\": 130, \"Month\": 130, \"Incident\": 130, \"Crime_Type\": 130, \"Crime_Solved\": 130, \"Victim_Sex\": 130, \"Victim_Age\": 130, \"Victim_Race\": 130, \"Victim_Ethnicity\": 130, \"Perpetrator_Age\": 130, \"Perpetrator_Ethnicity\": 130, \"Relationship\": 130, \"Weapon\": 130, \"Victim_Count\": 130, \"Perpetrator_Count\": 130, \"Record_Source\": 130, \"State_Code\": 130, \"id\": 34}, {\"Perpetrator_Sex\": \"Male\", \"State\": \"New Mexico\", \"Perpetrator_Race\": \"Black\", \"Record_ID\": 13, \"Agency_Code\": 13, \"Agency_Name\": 13, \"Agency_Type\": 13, \"City\": 13, \"Year\": 13, \"Month\": 13, \"Incident\": 13, \"Crime_Type\": 13, \"Crime_Solved\": 13, \"Victim_Sex\": 13, \"Victim_Age\": 13, \"Victim_Race\": 13, \"Victim_Ethnicity\": 13, \"Perpetrator_Age\": 13, \"Perpetrator_Ethnicity\": 13, \"Relationship\": 13, \"Weapon\": 13, \"Victim_Count\": 13, \"Perpetrator_Count\": 13, \"Record_Source\": 13, \"State_Code\": 13, \"id\": 35}, {\"Perpetrator_Sex\": \"Male\", \"State\": \"New York\", \"Perpetrator_Race\": \"Black\", \"Record_ID\": 291, \"Agency_Code\": 291, \"Agency_Name\": 291, \"Agency_Type\": 291, \"City\": 291, \"Year\": 291, \"Month\": 291, \"Incident\": 291, \"Crime_Type\": 291, \"Crime_Solved\": 291, \"Victim_Sex\": 291, \"Victim_Age\": 291, \"Victim_Race\": 291, \"Victim_Ethnicity\": 291, \"Perpetrator_Age\": 291, \"Perpetrator_Ethnicity\": 291, \"Relationship\": 291, \"Weapon\": 291, \"Victim_Count\": 291, \"Perpetrator_Count\": 291, \"Record_Source\": 291, \"State_Code\": 291, \"id\": 36}, {\"Perpetrator_Sex\": \"Male\", \"State\": \"North Carolina\", \"Perpetrator_Race\": \"Black\", \"Record_ID\": 160, \"Agency_Code\": 160, \"Agency_Name\": 160, \"Agency_Type\": 160, \"City\": 160, \"Year\": 160, \"Month\": 160, \"Incident\": 160, \"Crime_Type\": 160, \"Crime_Solved\": 160, \"Victim_Sex\": 160, \"Victim_Age\": 160, \"Victim_Race\": 160, \"Victim_Ethnicity\": 160, \"Perpetrator_Age\": 160, \"Perpetrator_Ethnicity\": 160, \"Relationship\": 160, \"Weapon\": 160, \"Victim_Count\": 160, \"Perpetrator_Count\": 160, \"Record_Source\": 160, \"State_Code\": 160, \"id\": 37}, {\"Perpetrator_Sex\": \"Male\", \"State\": \"Ohio\", \"Perpetrator_Race\": \"Black\", \"Record_ID\": 210, \"Agency_Code\": 210, \"Agency_Name\": 210, \"Agency_Type\": 210, \"City\": 210, \"Year\": 210, \"Month\": 210, \"Incident\": 210, \"Crime_Type\": 210, \"Crime_Solved\": 210, \"Victim_Sex\": 210, \"Victim_Age\": 210, \"Victim_Race\": 210, \"Victim_Ethnicity\": 210, \"Perpetrator_Age\": 210, \"Perpetrator_Ethnicity\": 210, \"Relationship\": 210, \"Weapon\": 210, \"Victim_Count\": 210, \"Perpetrator_Count\": 210, \"Record_Source\": 210, \"State_Code\": 210, \"id\": 39}, {\"Perpetrator_Sex\": \"Male\", \"State\": \"Oklahoma\", \"Perpetrator_Race\": \"Black\", \"Record_ID\": 71, \"Agency_Code\": 71, \"Agency_Name\": 71, \"Agency_Type\": 71, \"City\": 71, \"Year\": 71, \"Month\": 71, \"Incident\": 71, \"Crime_Type\": 71, \"Crime_Solved\": 71, \"Victim_Sex\": 71, \"Victim_Age\": 71, \"Victim_Race\": 71, \"Victim_Ethnicity\": 71, \"Perpetrator_Age\": 71, \"Perpetrator_Ethnicity\": 71, \"Relationship\": 71, \"Weapon\": 71, \"Victim_Count\": 71, \"Perpetrator_Count\": 71, \"Record_Source\": 71, \"State_Code\": 71, \"id\": 40}, {\"Perpetrator_Sex\": \"Male\", \"State\": \"Oregon\", \"Perpetrator_Race\": \"Black\", \"Record_ID\": 8, \"Agency_Code\": 8, \"Agency_Name\": 8, \"Agency_Type\": 8, \"City\": 8, \"Year\": 8, \"Month\": 8, \"Incident\": 8, \"Crime_Type\": 8, \"Crime_Solved\": 8, \"Victim_Sex\": 8, \"Victim_Age\": 8, \"Victim_Race\": 8, \"Victim_Ethnicity\": 8, \"Perpetrator_Age\": 8, \"Perpetrator_Ethnicity\": 8, \"Relationship\": 8, \"Weapon\": 8, \"Victim_Count\": 8, \"Perpetrator_Count\": 8, \"Record_Source\": 8, \"State_Code\": 8, \"id\": 41}, {\"Perpetrator_Sex\": \"Male\", \"State\": \"Pennsylvania\", \"Perpetrator_Race\": \"Black\", \"Record_ID\": 327, \"Agency_Code\": 327, \"Agency_Name\": 327, \"Agency_Type\": 327, \"City\": 327, \"Year\": 327, \"Month\": 327, \"Incident\": 327, \"Crime_Type\": 327, \"Crime_Solved\": 327, \"Victim_Sex\": 327, \"Victim_Age\": 327, \"Victim_Race\": 327, \"Victim_Ethnicity\": 327, \"Perpetrator_Age\": 327, \"Perpetrator_Ethnicity\": 327, \"Relationship\": 327, \"Weapon\": 327, \"Victim_Count\": 327, \"Perpetrator_Count\": 327, \"Record_Source\": 327, \"State_Code\": 327, \"id\": 42}, {\"Perpetrator_Sex\": \"Male\", \"State\": \"Rhodes Island\", \"Perpetrator_Race\": \"Black\", \"Record_ID\": 3, \"Agency_Code\": 3, \"Agency_Name\": 3, \"Agency_Type\": 3, \"City\": 3, \"Year\": 3, \"Month\": 3, \"Incident\": 3, \"Crime_Type\": 3, \"Crime_Solved\": 3, \"Victim_Sex\": 3, \"Victim_Age\": 3, \"Victim_Race\": 3, \"Victim_Ethnicity\": 3, \"Perpetrator_Age\": 3, \"Perpetrator_Ethnicity\": 3, \"Relationship\": 3, \"Weapon\": 3, \"Victim_Count\": 3, \"Perpetrator_Count\": 3, \"Record_Source\": 3, \"State_Code\": 3, \"id\": \"Rhodes Island\"}, {\"Perpetrator_Sex\": \"Male\", \"State\": \"South Carolina\", \"Perpetrator_Race\": \"Black\", \"Record_ID\": 141, \"Agency_Code\": 141, \"Agency_Name\": 141, \"Agency_Type\": 141, \"City\": 141, \"Year\": 141, \"Month\": 141, \"Incident\": 141, \"Crime_Type\": 141, \"Crime_Solved\": 141, \"Victim_Sex\": 141, \"Victim_Age\": 141, \"Victim_Race\": 141, \"Victim_Ethnicity\": 141, \"Perpetrator_Age\": 141, \"Perpetrator_Ethnicity\": 141, \"Relationship\": 141, \"Weapon\": 141, \"Victim_Count\": 141, \"Perpetrator_Count\": 141, \"Record_Source\": 141, \"State_Code\": 141, \"id\": 45}, {\"Perpetrator_Sex\": \"Male\", \"State\": \"Tennessee\", \"Perpetrator_Race\": \"Black\", \"Record_ID\": 158, \"Agency_Code\": 158, \"Agency_Name\": 158, \"Agency_Type\": 158, \"City\": 158, \"Year\": 158, \"Month\": 158, \"Incident\": 158, \"Crime_Type\": 158, \"Crime_Solved\": 158, \"Victim_Sex\": 158, \"Victim_Age\": 158, \"Victim_Race\": 158, \"Victim_Ethnicity\": 158, \"Perpetrator_Age\": 158, \"Perpetrator_Ethnicity\": 158, \"Relationship\": 158, \"Weapon\": 158, \"Victim_Count\": 158, \"Perpetrator_Count\": 158, \"Record_Source\": 158, \"State_Code\": 158, \"id\": 47}, {\"Perpetrator_Sex\": \"Male\", \"State\": \"Texas\", \"Perpetrator_Race\": \"Black\", \"Record_ID\": 352, \"Agency_Code\": 352, \"Agency_Name\": 352, \"Agency_Type\": 352, \"City\": 352, \"Year\": 352, \"Month\": 352, \"Incident\": 352, \"Crime_Type\": 352, \"Crime_Solved\": 352, \"Victim_Sex\": 352, \"Victim_Age\": 352, \"Victim_Race\": 352, \"Victim_Ethnicity\": 352, \"Perpetrator_Age\": 352, \"Perpetrator_Ethnicity\": 352, \"Relationship\": 352, \"Weapon\": 352, \"Victim_Count\": 352, \"Perpetrator_Count\": 352, \"Record_Source\": 352, \"State_Code\": 352, \"id\": 48}, {\"Perpetrator_Sex\": \"Male\", \"State\": \"Utah\", \"Perpetrator_Race\": \"Black\", \"Record_ID\": 3, \"Agency_Code\": 3, \"Agency_Name\": 3, \"Agency_Type\": 3, \"City\": 3, \"Year\": 3, \"Month\": 3, \"Incident\": 3, \"Crime_Type\": 3, \"Crime_Solved\": 3, \"Victim_Sex\": 3, \"Victim_Age\": 3, \"Victim_Race\": 3, \"Victim_Ethnicity\": 3, \"Perpetrator_Age\": 3, \"Perpetrator_Ethnicity\": 3, \"Relationship\": 3, \"Weapon\": 3, \"Victim_Count\": 3, \"Perpetrator_Count\": 3, \"Record_Source\": 3, \"State_Code\": 3, \"id\": 49}, {\"Perpetrator_Sex\": \"Male\", \"State\": \"Virginia\", \"Perpetrator_Race\": \"Black\", \"Record_ID\": 156, \"Agency_Code\": 156, \"Agency_Name\": 156, \"Agency_Type\": 156, \"City\": 156, \"Year\": 156, \"Month\": 156, \"Incident\": 156, \"Crime_Type\": 156, \"Crime_Solved\": 156, \"Victim_Sex\": 156, \"Victim_Age\": 156, \"Victim_Race\": 156, \"Victim_Ethnicity\": 156, \"Perpetrator_Age\": 156, \"Perpetrator_Ethnicity\": 156, \"Relationship\": 156, \"Weapon\": 156, \"Victim_Count\": 156, \"Perpetrator_Count\": 156, \"Record_Source\": 156, \"State_Code\": 156, \"id\": 51}, {\"Perpetrator_Sex\": \"Male\", \"State\": \"Washington\", \"Perpetrator_Race\": \"Black\", \"Record_ID\": 17, \"Agency_Code\": 17, \"Agency_Name\": 17, \"Agency_Type\": 17, \"City\": 17, \"Year\": 17, \"Month\": 17, \"Incident\": 17, \"Crime_Type\": 17, \"Crime_Solved\": 17, \"Victim_Sex\": 17, \"Victim_Age\": 17, \"Victim_Race\": 17, \"Victim_Ethnicity\": 17, \"Perpetrator_Age\": 17, \"Perpetrator_Ethnicity\": 17, \"Relationship\": 17, \"Weapon\": 17, \"Victim_Count\": 17, \"Perpetrator_Count\": 17, \"Record_Source\": 17, \"State_Code\": 17, \"id\": 53}, {\"Perpetrator_Sex\": \"Male\", \"State\": \"West Virginia\", \"Perpetrator_Race\": \"Black\", \"Record_ID\": 13, \"Agency_Code\": 13, \"Agency_Name\": 13, \"Agency_Type\": 13, \"City\": 13, \"Year\": 13, \"Month\": 13, \"Incident\": 13, \"Crime_Type\": 13, \"Crime_Solved\": 13, \"Victim_Sex\": 13, \"Victim_Age\": 13, \"Victim_Race\": 13, \"Victim_Ethnicity\": 13, \"Perpetrator_Age\": 13, \"Perpetrator_Ethnicity\": 13, \"Relationship\": 13, \"Weapon\": 13, \"Victim_Count\": 13, \"Perpetrator_Count\": 13, \"Record_Source\": 13, \"State_Code\": 13, \"id\": 54}, {\"Perpetrator_Sex\": \"Male\", \"State\": \"Wisconsin\", \"Perpetrator_Race\": \"Black\", \"Record_ID\": 69, \"Agency_Code\": 69, \"Agency_Name\": 69, \"Agency_Type\": 69, \"City\": 69, \"Year\": 69, \"Month\": 69, \"Incident\": 69, \"Crime_Type\": 69, \"Crime_Solved\": 69, \"Victim_Sex\": 69, \"Victim_Age\": 69, \"Victim_Race\": 69, \"Victim_Ethnicity\": 69, \"Perpetrator_Age\": 69, \"Perpetrator_Ethnicity\": 69, \"Relationship\": 69, \"Weapon\": 69, \"Victim_Count\": 69, \"Perpetrator_Count\": 69, \"Record_Source\": 69, \"State_Code\": 69, \"id\": 55}, {\"Perpetrator_Sex\": \"Unknown\", \"State\": \"Illinois\", \"Perpetrator_Race\": \"Black\", \"Record_ID\": 2, \"Agency_Code\": 2, \"Agency_Name\": 2, \"Agency_Type\": 2, \"City\": 2, \"Year\": 2, \"Month\": 2, \"Incident\": 2, \"Crime_Type\": 2, \"Crime_Solved\": 2, \"Victim_Sex\": 2, \"Victim_Age\": 2, \"Victim_Race\": 2, \"Victim_Ethnicity\": 2, \"Perpetrator_Age\": 2, \"Perpetrator_Ethnicity\": 2, \"Relationship\": 2, \"Weapon\": 2, \"Victim_Count\": 2, \"Perpetrator_Count\": 2, \"Record_Source\": 2, \"State_Code\": 2, \"id\": 17}, {\"Perpetrator_Sex\": \"Unknown\", \"State\": \"Ohio\", \"Perpetrator_Race\": \"Black\", \"Record_ID\": 1, \"Agency_Code\": 1, \"Agency_Name\": 1, \"Agency_Type\": 1, \"City\": 1, \"Year\": 1, \"Month\": 1, \"Incident\": 1, \"Crime_Type\": 1, \"Crime_Solved\": 1, \"Victim_Sex\": 1, \"Victim_Age\": 1, \"Victim_Race\": 1, \"Victim_Ethnicity\": 1, \"Perpetrator_Age\": 1, \"Perpetrator_Ethnicity\": 1, \"Relationship\": 1, \"Weapon\": 1, \"Victim_Count\": 1, \"Perpetrator_Count\": 1, \"Record_Source\": 1, \"State_Code\": 1, \"id\": 39}, {\"Perpetrator_Sex\": \"Unknown\", \"State\": \"Wisconsin\", \"Perpetrator_Race\": \"Black\", \"Record_ID\": 1, \"Agency_Code\": 1, \"Agency_Name\": 1, \"Agency_Type\": 1, \"City\": 1, \"Year\": 1, \"Month\": 1, \"Incident\": 1, \"Crime_Type\": 1, \"Crime_Solved\": 1, \"Victim_Sex\": 1, \"Victim_Age\": 1, \"Victim_Race\": 1, \"Victim_Ethnicity\": 1, \"Perpetrator_Age\": 1, \"Perpetrator_Ethnicity\": 1, \"Relationship\": 1, \"Weapon\": 1, \"Victim_Count\": 1, \"Perpetrator_Count\": 1, \"Record_Source\": 1, \"State_Code\": 1, \"id\": 55}, {\"Perpetrator_Sex\": \"Female\", \"State\": \"Alaska\", \"Perpetrator_Race\": \"Native American/Alaska Native\", \"Record_ID\": 2, \"Agency_Code\": 2, \"Agency_Name\": 2, \"Agency_Type\": 2, \"City\": 2, \"Year\": 2, \"Month\": 2, \"Incident\": 2, \"Crime_Type\": 2, \"Crime_Solved\": 2, \"Victim_Sex\": 2, \"Victim_Age\": 2, \"Victim_Race\": 2, \"Victim_Ethnicity\": 2, \"Perpetrator_Age\": 2, \"Perpetrator_Ethnicity\": 2, \"Relationship\": 2, \"Weapon\": 2, \"Victim_Count\": 2, \"Perpetrator_Count\": 2, \"Record_Source\": 2, \"State_Code\": 2, \"id\": 2}, {\"Perpetrator_Sex\": \"Female\", \"State\": \"Arizona\", \"Perpetrator_Race\": \"Native American/Alaska Native\", \"Record_ID\": 1, \"Agency_Code\": 1, \"Agency_Name\": 1, \"Agency_Type\": 1, \"City\": 1, \"Year\": 1, \"Month\": 1, \"Incident\": 1, \"Crime_Type\": 1, \"Crime_Solved\": 1, \"Victim_Sex\": 1, \"Victim_Age\": 1, \"Victim_Race\": 1, \"Victim_Ethnicity\": 1, \"Perpetrator_Age\": 1, \"Perpetrator_Ethnicity\": 1, \"Relationship\": 1, \"Weapon\": 1, \"Victim_Count\": 1, \"Perpetrator_Count\": 1, \"Record_Source\": 1, \"State_Code\": 1, \"id\": 4}, {\"Perpetrator_Sex\": \"Female\", \"State\": \"California\", \"Perpetrator_Race\": \"Native American/Alaska Native\", \"Record_ID\": 2, \"Agency_Code\": 2, \"Agency_Name\": 2, \"Agency_Type\": 2, \"City\": 2, \"Year\": 2, \"Month\": 2, \"Incident\": 2, \"Crime_Type\": 2, \"Crime_Solved\": 2, \"Victim_Sex\": 2, \"Victim_Age\": 2, \"Victim_Race\": 2, \"Victim_Ethnicity\": 2, \"Perpetrator_Age\": 2, \"Perpetrator_Ethnicity\": 2, \"Relationship\": 2, \"Weapon\": 2, \"Victim_Count\": 2, \"Perpetrator_Count\": 2, \"Record_Source\": 2, \"State_Code\": 2, \"id\": 6}, {\"Perpetrator_Sex\": \"Female\", \"State\": \"Kansas\", \"Perpetrator_Race\": \"Native American/Alaska Native\", \"Record_ID\": 1, \"Agency_Code\": 1, \"Agency_Name\": 1, \"Agency_Type\": 1, \"City\": 1, \"Year\": 1, \"Month\": 1, \"Incident\": 1, \"Crime_Type\": 1, \"Crime_Solved\": 1, \"Victim_Sex\": 1, \"Victim_Age\": 1, \"Victim_Race\": 1, \"Victim_Ethnicity\": 1, \"Perpetrator_Age\": 1, \"Perpetrator_Ethnicity\": 1, \"Relationship\": 1, \"Weapon\": 1, \"Victim_Count\": 1, \"Perpetrator_Count\": 1, \"Record_Source\": 1, \"State_Code\": 1, \"id\": 20}, {\"Perpetrator_Sex\": \"Female\", \"State\": \"Nebraska\", \"Perpetrator_Race\": \"Native American/Alaska Native\", \"Record_ID\": 1, \"Agency_Code\": 1, \"Agency_Name\": 1, \"Agency_Type\": 1, \"City\": 1, \"Year\": 1, \"Month\": 1, \"Incident\": 1, \"Crime_Type\": 1, \"Crime_Solved\": 1, \"Victim_Sex\": 1, \"Victim_Age\": 1, \"Victim_Race\": 1, \"Victim_Ethnicity\": 1, \"Perpetrator_Age\": 1, \"Perpetrator_Ethnicity\": 1, \"Relationship\": 1, \"Weapon\": 1, \"Victim_Count\": 1, \"Perpetrator_Count\": 1, \"Record_Source\": 1, \"State_Code\": 1, \"id\": 31}, {\"Perpetrator_Sex\": \"Female\", \"State\": \"Oregon\", \"Perpetrator_Race\": \"Native American/Alaska Native\", \"Record_ID\": 1, \"Agency_Code\": 1, \"Agency_Name\": 1, \"Agency_Type\": 1, \"City\": 1, \"Year\": 1, \"Month\": 1, \"Incident\": 1, \"Crime_Type\": 1, \"Crime_Solved\": 1, \"Victim_Sex\": 1, \"Victim_Age\": 1, \"Victim_Race\": 1, \"Victim_Ethnicity\": 1, \"Perpetrator_Age\": 1, \"Perpetrator_Ethnicity\": 1, \"Relationship\": 1, \"Weapon\": 1, \"Victim_Count\": 1, \"Perpetrator_Count\": 1, \"Record_Source\": 1, \"State_Code\": 1, \"id\": 41}, {\"Perpetrator_Sex\": \"Female\", \"State\": \"Washington\", \"Perpetrator_Race\": \"Native American/Alaska Native\", \"Record_ID\": 1, \"Agency_Code\": 1, \"Agency_Name\": 1, \"Agency_Type\": 1, \"City\": 1, \"Year\": 1, \"Month\": 1, \"Incident\": 1, \"Crime_Type\": 1, \"Crime_Solved\": 1, \"Victim_Sex\": 1, \"Victim_Age\": 1, \"Victim_Race\": 1, \"Victim_Ethnicity\": 1, \"Perpetrator_Age\": 1, \"Perpetrator_Ethnicity\": 1, \"Relationship\": 1, \"Weapon\": 1, \"Victim_Count\": 1, \"Perpetrator_Count\": 1, \"Record_Source\": 1, \"State_Code\": 1, \"id\": 53}, {\"Perpetrator_Sex\": \"Female\", \"State\": \"Wyoming\", \"Perpetrator_Race\": \"Native American/Alaska Native\", \"Record_ID\": 1, \"Agency_Code\": 1, \"Agency_Name\": 1, \"Agency_Type\": 1, \"City\": 1, \"Year\": 1, \"Month\": 1, \"Incident\": 1, \"Crime_Type\": 1, \"Crime_Solved\": 1, \"Victim_Sex\": 1, \"Victim_Age\": 1, \"Victim_Race\": 1, \"Victim_Ethnicity\": 1, \"Perpetrator_Age\": 1, \"Perpetrator_Ethnicity\": 1, \"Relationship\": 1, \"Weapon\": 1, \"Victim_Count\": 1, \"Perpetrator_Count\": 1, \"Record_Source\": 1, \"State_Code\": 1, \"id\": 56}, {\"Perpetrator_Sex\": \"Male\", \"State\": \"Alabama\", \"Perpetrator_Race\": \"Native American/Alaska Native\", \"Record_ID\": 1, \"Agency_Code\": 1, \"Agency_Name\": 1, \"Agency_Type\": 1, \"City\": 1, \"Year\": 1, \"Month\": 1, \"Incident\": 1, \"Crime_Type\": 1, \"Crime_Solved\": 1, \"Victim_Sex\": 1, \"Victim_Age\": 1, \"Victim_Race\": 1, \"Victim_Ethnicity\": 1, \"Perpetrator_Age\": 1, \"Perpetrator_Ethnicity\": 1, \"Relationship\": 1, \"Weapon\": 1, \"Victim_Count\": 1, \"Perpetrator_Count\": 1, \"Record_Source\": 1, \"State_Code\": 1, \"id\": 1}, {\"Perpetrator_Sex\": \"Male\", \"State\": \"Alaska\", \"Perpetrator_Race\": \"Native American/Alaska Native\", \"Record_ID\": 9, \"Agency_Code\": 9, \"Agency_Name\": 9, \"Agency_Type\": 9, \"City\": 9, \"Year\": 9, \"Month\": 9, \"Incident\": 9, \"Crime_Type\": 9, \"Crime_Solved\": 9, \"Victim_Sex\": 9, \"Victim_Age\": 9, \"Victim_Race\": 9, \"Victim_Ethnicity\": 9, \"Perpetrator_Age\": 9, \"Perpetrator_Ethnicity\": 9, \"Relationship\": 9, \"Weapon\": 9, \"Victim_Count\": 9, \"Perpetrator_Count\": 9, \"Record_Source\": 9, \"State_Code\": 9, \"id\": 2}, {\"Perpetrator_Sex\": \"Male\", \"State\": \"Arizona\", \"Perpetrator_Race\": \"Native American/Alaska Native\", \"Record_ID\": 6, \"Agency_Code\": 6, \"Agency_Name\": 6, \"Agency_Type\": 6, \"City\": 6, \"Year\": 6, \"Month\": 6, \"Incident\": 6, \"Crime_Type\": 6, \"Crime_Solved\": 6, \"Victim_Sex\": 6, \"Victim_Age\": 6, \"Victim_Race\": 6, \"Victim_Ethnicity\": 6, \"Perpetrator_Age\": 6, \"Perpetrator_Ethnicity\": 6, \"Relationship\": 6, \"Weapon\": 6, \"Victim_Count\": 6, \"Perpetrator_Count\": 6, \"Record_Source\": 6, \"State_Code\": 6, \"id\": 4}, {\"Perpetrator_Sex\": \"Male\", \"State\": \"California\", \"Perpetrator_Race\": \"Native American/Alaska Native\", \"Record_ID\": 8, \"Agency_Code\": 8, \"Agency_Name\": 8, \"Agency_Type\": 8, \"City\": 8, \"Year\": 8, \"Month\": 8, \"Incident\": 8, \"Crime_Type\": 8, \"Crime_Solved\": 8, \"Victim_Sex\": 8, \"Victim_Age\": 8, \"Victim_Race\": 8, \"Victim_Ethnicity\": 8, \"Perpetrator_Age\": 8, \"Perpetrator_Ethnicity\": 8, \"Relationship\": 8, \"Weapon\": 8, \"Victim_Count\": 8, \"Perpetrator_Count\": 8, \"Record_Source\": 8, \"State_Code\": 8, \"id\": 6}, {\"Perpetrator_Sex\": \"Male\", \"State\": \"Florida\", \"Perpetrator_Race\": \"Native American/Alaska Native\", \"Record_ID\": 1, \"Agency_Code\": 1, \"Agency_Name\": 1, \"Agency_Type\": 1, \"City\": 1, \"Year\": 1, \"Month\": 1, \"Incident\": 1, \"Crime_Type\": 1, \"Crime_Solved\": 1, \"Victim_Sex\": 1, \"Victim_Age\": 1, \"Victim_Race\": 1, \"Victim_Ethnicity\": 1, \"Perpetrator_Age\": 1, \"Perpetrator_Ethnicity\": 1, \"Relationship\": 1, \"Weapon\": 1, \"Victim_Count\": 1, \"Perpetrator_Count\": 1, \"Record_Source\": 1, \"State_Code\": 1, \"id\": 12}, {\"Perpetrator_Sex\": \"Male\", \"State\": \"Iowa\", \"Perpetrator_Race\": \"Native American/Alaska Native\", \"Record_ID\": 2, \"Agency_Code\": 2, \"Agency_Name\": 2, \"Agency_Type\": 2, \"City\": 2, \"Year\": 2, \"Month\": 2, \"Incident\": 2, \"Crime_Type\": 2, \"Crime_Solved\": 2, \"Victim_Sex\": 2, \"Victim_Age\": 2, \"Victim_Race\": 2, \"Victim_Ethnicity\": 2, \"Perpetrator_Age\": 2, \"Perpetrator_Ethnicity\": 2, \"Relationship\": 2, \"Weapon\": 2, \"Victim_Count\": 2, \"Perpetrator_Count\": 2, \"Record_Source\": 2, \"State_Code\": 2, \"id\": 19}, {\"Perpetrator_Sex\": \"Male\", \"State\": \"Minnesota\", \"Perpetrator_Race\": \"Native American/Alaska Native\", \"Record_ID\": 5, \"Agency_Code\": 5, \"Agency_Name\": 5, \"Agency_Type\": 5, \"City\": 5, \"Year\": 5, \"Month\": 5, \"Incident\": 5, \"Crime_Type\": 5, \"Crime_Solved\": 5, \"Victim_Sex\": 5, \"Victim_Age\": 5, \"Victim_Race\": 5, \"Victim_Ethnicity\": 5, \"Perpetrator_Age\": 5, \"Perpetrator_Ethnicity\": 5, \"Relationship\": 5, \"Weapon\": 5, \"Victim_Count\": 5, \"Perpetrator_Count\": 5, \"Record_Source\": 5, \"State_Code\": 5, \"id\": 27}, {\"Perpetrator_Sex\": \"Male\", \"State\": \"Montana\", \"Perpetrator_Race\": \"Native American/Alaska Native\", \"Record_ID\": 2, \"Agency_Code\": 2, \"Agency_Name\": 2, \"Agency_Type\": 2, \"City\": 2, \"Year\": 2, \"Month\": 2, \"Incident\": 2, \"Crime_Type\": 2, \"Crime_Solved\": 2, \"Victim_Sex\": 2, \"Victim_Age\": 2, \"Victim_Race\": 2, \"Victim_Ethnicity\": 2, \"Perpetrator_Age\": 2, \"Perpetrator_Ethnicity\": 2, \"Relationship\": 2, \"Weapon\": 2, \"Victim_Count\": 2, \"Perpetrator_Count\": 2, \"Record_Source\": 2, \"State_Code\": 2, \"id\": 30}, {\"Perpetrator_Sex\": \"Male\", \"State\": \"Nebraska\", \"Perpetrator_Race\": \"Native American/Alaska Native\", \"Record_ID\": 2, \"Agency_Code\": 2, \"Agency_Name\": 2, \"Agency_Type\": 2, \"City\": 2, \"Year\": 2, \"Month\": 2, \"Incident\": 2, \"Crime_Type\": 2, \"Crime_Solved\": 2, \"Victim_Sex\": 2, \"Victim_Age\": 2, \"Victim_Race\": 2, \"Victim_Ethnicity\": 2, \"Perpetrator_Age\": 2, \"Perpetrator_Ethnicity\": 2, \"Relationship\": 2, \"Weapon\": 2, \"Victim_Count\": 2, \"Perpetrator_Count\": 2, \"Record_Source\": 2, \"State_Code\": 2, \"id\": 31}, {\"Perpetrator_Sex\": \"Male\", \"State\": \"New Mexico\", \"Perpetrator_Race\": \"Native American/Alaska Native\", \"Record_ID\": 7, \"Agency_Code\": 7, \"Agency_Name\": 7, \"Agency_Type\": 7, \"City\": 7, \"Year\": 7, \"Month\": 7, \"Incident\": 7, \"Crime_Type\": 7, \"Crime_Solved\": 7, \"Victim_Sex\": 7, \"Victim_Age\": 7, \"Victim_Race\": 7, \"Victim_Ethnicity\": 7, \"Perpetrator_Age\": 7, \"Perpetrator_Ethnicity\": 7, \"Relationship\": 7, \"Weapon\": 7, \"Victim_Count\": 7, \"Perpetrator_Count\": 7, \"Record_Source\": 7, \"State_Code\": 7, \"id\": 35}, {\"Perpetrator_Sex\": \"Male\", \"State\": \"North Carolina\", \"Perpetrator_Race\": \"Native American/Alaska Native\", \"Record_ID\": 5, \"Agency_Code\": 5, \"Agency_Name\": 5, \"Agency_Type\": 5, \"City\": 5, \"Year\": 5, \"Month\": 5, \"Incident\": 5, \"Crime_Type\": 5, \"Crime_Solved\": 5, \"Victim_Sex\": 5, \"Victim_Age\": 5, \"Victim_Race\": 5, \"Victim_Ethnicity\": 5, \"Perpetrator_Age\": 5, \"Perpetrator_Ethnicity\": 5, \"Relationship\": 5, \"Weapon\": 5, \"Victim_Count\": 5, \"Perpetrator_Count\": 5, \"Record_Source\": 5, \"State_Code\": 5, \"id\": 37}, {\"Perpetrator_Sex\": \"Male\", \"State\": \"Oklahoma\", \"Perpetrator_Race\": \"Native American/Alaska Native\", \"Record_ID\": 9, \"Agency_Code\": 9, \"Agency_Name\": 9, \"Agency_Type\": 9, \"City\": 9, \"Year\": 9, \"Month\": 9, \"Incident\": 9, \"Crime_Type\": 9, \"Crime_Solved\": 9, \"Victim_Sex\": 9, \"Victim_Age\": 9, \"Victim_Race\": 9, \"Victim_Ethnicity\": 9, \"Perpetrator_Age\": 9, \"Perpetrator_Ethnicity\": 9, \"Relationship\": 9, \"Weapon\": 9, \"Victim_Count\": 9, \"Perpetrator_Count\": 9, \"Record_Source\": 9, \"State_Code\": 9, \"id\": 40}, {\"Perpetrator_Sex\": \"Male\", \"State\": \"Oregon\", \"Perpetrator_Race\": \"Native American/Alaska Native\", \"Record_ID\": 2, \"Agency_Code\": 2, \"Agency_Name\": 2, \"Agency_Type\": 2, \"City\": 2, \"Year\": 2, \"Month\": 2, \"Incident\": 2, \"Crime_Type\": 2, \"Crime_Solved\": 2, \"Victim_Sex\": 2, \"Victim_Age\": 2, \"Victim_Race\": 2, \"Victim_Ethnicity\": 2, \"Perpetrator_Age\": 2, \"Perpetrator_Ethnicity\": 2, \"Relationship\": 2, \"Weapon\": 2, \"Victim_Count\": 2, \"Perpetrator_Count\": 2, \"Record_Source\": 2, \"State_Code\": 2, \"id\": 41}, {\"Perpetrator_Sex\": \"Male\", \"State\": \"South Dakota\", \"Perpetrator_Race\": \"Native American/Alaska Native\", \"Record_ID\": 5, \"Agency_Code\": 5, \"Agency_Name\": 5, \"Agency_Type\": 5, \"City\": 5, \"Year\": 5, \"Month\": 5, \"Incident\": 5, \"Crime_Type\": 5, \"Crime_Solved\": 5, \"Victim_Sex\": 5, \"Victim_Age\": 5, \"Victim_Race\": 5, \"Victim_Ethnicity\": 5, \"Perpetrator_Age\": 5, \"Perpetrator_Ethnicity\": 5, \"Relationship\": 5, \"Weapon\": 5, \"Victim_Count\": 5, \"Perpetrator_Count\": 5, \"Record_Source\": 5, \"State_Code\": 5, \"id\": 46}, {\"Perpetrator_Sex\": \"Male\", \"State\": \"Utah\", \"Perpetrator_Race\": \"Native American/Alaska Native\", \"Record_ID\": 2, \"Agency_Code\": 2, \"Agency_Name\": 2, \"Agency_Type\": 2, \"City\": 2, \"Year\": 2, \"Month\": 2, \"Incident\": 2, \"Crime_Type\": 2, \"Crime_Solved\": 2, \"Victim_Sex\": 2, \"Victim_Age\": 2, \"Victim_Race\": 2, \"Victim_Ethnicity\": 2, \"Perpetrator_Age\": 2, \"Perpetrator_Ethnicity\": 2, \"Relationship\": 2, \"Weapon\": 2, \"Victim_Count\": 2, \"Perpetrator_Count\": 2, \"Record_Source\": 2, \"State_Code\": 2, \"id\": 49}, {\"Perpetrator_Sex\": \"Male\", \"State\": \"Washington\", \"Perpetrator_Race\": \"Native American/Alaska Native\", \"Record_ID\": 1, \"Agency_Code\": 1, \"Agency_Name\": 1, \"Agency_Type\": 1, \"City\": 1, \"Year\": 1, \"Month\": 1, \"Incident\": 1, \"Crime_Type\": 1, \"Crime_Solved\": 1, \"Victim_Sex\": 1, \"Victim_Age\": 1, \"Victim_Race\": 1, \"Victim_Ethnicity\": 1, \"Perpetrator_Age\": 1, \"Perpetrator_Ethnicity\": 1, \"Relationship\": 1, \"Weapon\": 1, \"Victim_Count\": 1, \"Perpetrator_Count\": 1, \"Record_Source\": 1, \"State_Code\": 1, \"id\": 53}, {\"Perpetrator_Sex\": \"Male\", \"State\": \"Wisconsin\", \"Perpetrator_Race\": \"Native American/Alaska Native\", \"Record_ID\": 6, \"Agency_Code\": 6, \"Agency_Name\": 6, \"Agency_Type\": 6, \"City\": 6, \"Year\": 6, \"Month\": 6, \"Incident\": 6, \"Crime_Type\": 6, \"Crime_Solved\": 6, \"Victim_Sex\": 6, \"Victim_Age\": 6, \"Victim_Race\": 6, \"Victim_Ethnicity\": 6, \"Perpetrator_Age\": 6, \"Perpetrator_Ethnicity\": 6, \"Relationship\": 6, \"Weapon\": 6, \"Victim_Count\": 6, \"Perpetrator_Count\": 6, \"Record_Source\": 6, \"State_Code\": 6, \"id\": 55}, {\"Perpetrator_Sex\": \"Male\", \"State\": \"Wyoming\", \"Perpetrator_Race\": \"Native American/Alaska Native\", \"Record_ID\": 1, \"Agency_Code\": 1, \"Agency_Name\": 1, \"Agency_Type\": 1, \"City\": 1, \"Year\": 1, \"Month\": 1, \"Incident\": 1, \"Crime_Type\": 1, \"Crime_Solved\": 1, \"Victim_Sex\": 1, \"Victim_Age\": 1, \"Victim_Race\": 1, \"Victim_Ethnicity\": 1, \"Perpetrator_Age\": 1, \"Perpetrator_Ethnicity\": 1, \"Relationship\": 1, \"Weapon\": 1, \"Victim_Count\": 1, \"Perpetrator_Count\": 1, \"Record_Source\": 1, \"State_Code\": 1, \"id\": 56}, {\"Perpetrator_Sex\": \"Female\", \"State\": \"Arizona\", \"Perpetrator_Race\": \"Unknown\", \"Record_ID\": 1, \"Agency_Code\": 1, \"Agency_Name\": 1, \"Agency_Type\": 1, \"City\": 1, \"Year\": 1, \"Month\": 1, \"Incident\": 1, \"Crime_Type\": 1, \"Crime_Solved\": 1, \"Victim_Sex\": 1, \"Victim_Age\": 1, \"Victim_Race\": 1, \"Victim_Ethnicity\": 1, \"Perpetrator_Age\": 1, \"Perpetrator_Ethnicity\": 1, \"Relationship\": 1, \"Weapon\": 1, \"Victim_Count\": 1, \"Perpetrator_Count\": 1, \"Record_Source\": 1, \"State_Code\": 1, \"id\": 4}, {\"Perpetrator_Sex\": \"Female\", \"State\": \"California\", \"Perpetrator_Race\": \"Unknown\", \"Record_ID\": 1, \"Agency_Code\": 1, \"Agency_Name\": 1, \"Agency_Type\": 1, \"City\": 1, \"Year\": 1, \"Month\": 1, \"Incident\": 1, \"Crime_Type\": 1, \"Crime_Solved\": 1, \"Victim_Sex\": 1, \"Victim_Age\": 1, \"Victim_Race\": 1, \"Victim_Ethnicity\": 1, \"Perpetrator_Age\": 1, \"Perpetrator_Ethnicity\": 1, \"Relationship\": 1, \"Weapon\": 1, \"Victim_Count\": 1, \"Perpetrator_Count\": 1, \"Record_Source\": 1, \"State_Code\": 1, \"id\": 6}, {\"Perpetrator_Sex\": \"Female\", \"State\": \"Indiana\", \"Perpetrator_Race\": \"Unknown\", \"Record_ID\": 1, \"Agency_Code\": 1, \"Agency_Name\": 1, \"Agency_Type\": 1, \"City\": 1, \"Year\": 1, \"Month\": 1, \"Incident\": 1, \"Crime_Type\": 1, \"Crime_Solved\": 1, \"Victim_Sex\": 1, \"Victim_Age\": 1, \"Victim_Race\": 1, \"Victim_Ethnicity\": 1, \"Perpetrator_Age\": 1, \"Perpetrator_Ethnicity\": 1, \"Relationship\": 1, \"Weapon\": 1, \"Victim_Count\": 1, \"Perpetrator_Count\": 1, \"Record_Source\": 1, \"State_Code\": 1, \"id\": 18}, {\"Perpetrator_Sex\": \"Female\", \"State\": \"New Mexico\", \"Perpetrator_Race\": \"Unknown\", \"Record_ID\": 1, \"Agency_Code\": 1, \"Agency_Name\": 1, \"Agency_Type\": 1, \"City\": 1, \"Year\": 1, \"Month\": 1, \"Incident\": 1, \"Crime_Type\": 1, \"Crime_Solved\": 1, \"Victim_Sex\": 1, \"Victim_Age\": 1, \"Victim_Race\": 1, \"Victim_Ethnicity\": 1, \"Perpetrator_Age\": 1, \"Perpetrator_Ethnicity\": 1, \"Relationship\": 1, \"Weapon\": 1, \"Victim_Count\": 1, \"Perpetrator_Count\": 1, \"Record_Source\": 1, \"State_Code\": 1, \"id\": 35}, {\"Perpetrator_Sex\": \"Female\", \"State\": \"New York\", \"Perpetrator_Race\": \"Unknown\", \"Record_ID\": 1, \"Agency_Code\": 1, \"Agency_Name\": 1, \"Agency_Type\": 1, \"City\": 1, \"Year\": 1, \"Month\": 1, \"Incident\": 1, \"Crime_Type\": 1, \"Crime_Solved\": 1, \"Victim_Sex\": 1, \"Victim_Age\": 1, \"Victim_Race\": 1, \"Victim_Ethnicity\": 1, \"Perpetrator_Age\": 1, \"Perpetrator_Ethnicity\": 1, \"Relationship\": 1, \"Weapon\": 1, \"Victim_Count\": 1, \"Perpetrator_Count\": 1, \"Record_Source\": 1, \"State_Code\": 1, \"id\": 36}, {\"Perpetrator_Sex\": \"Female\", \"State\": \"Ohio\", \"Perpetrator_Race\": \"Unknown\", \"Record_ID\": 1, \"Agency_Code\": 1, \"Agency_Name\": 1, \"Agency_Type\": 1, \"City\": 1, \"Year\": 1, \"Month\": 1, \"Incident\": 1, \"Crime_Type\": 1, \"Crime_Solved\": 1, \"Victim_Sex\": 1, \"Victim_Age\": 1, \"Victim_Race\": 1, \"Victim_Ethnicity\": 1, \"Perpetrator_Age\": 1, \"Perpetrator_Ethnicity\": 1, \"Relationship\": 1, \"Weapon\": 1, \"Victim_Count\": 1, \"Perpetrator_Count\": 1, \"Record_Source\": 1, \"State_Code\": 1, \"id\": 39}, {\"Perpetrator_Sex\": \"Female\", \"State\": \"Oregon\", \"Perpetrator_Race\": \"Unknown\", \"Record_ID\": 3, \"Agency_Code\": 3, \"Agency_Name\": 3, \"Agency_Type\": 3, \"City\": 3, \"Year\": 3, \"Month\": 3, \"Incident\": 3, \"Crime_Type\": 3, \"Crime_Solved\": 3, \"Victim_Sex\": 3, \"Victim_Age\": 3, \"Victim_Race\": 3, \"Victim_Ethnicity\": 3, \"Perpetrator_Age\": 3, \"Perpetrator_Ethnicity\": 3, \"Relationship\": 3, \"Weapon\": 3, \"Victim_Count\": 3, \"Perpetrator_Count\": 3, \"Record_Source\": 3, \"State_Code\": 3, \"id\": 41}, {\"Perpetrator_Sex\": \"Female\", \"State\": \"Rhodes Island\", \"Perpetrator_Race\": \"Unknown\", \"Record_ID\": 1, \"Agency_Code\": 1, \"Agency_Name\": 1, \"Agency_Type\": 1, \"City\": 1, \"Year\": 1, \"Month\": 1, \"Incident\": 1, \"Crime_Type\": 1, \"Crime_Solved\": 1, \"Victim_Sex\": 1, \"Victim_Age\": 1, \"Victim_Race\": 1, \"Victim_Ethnicity\": 1, \"Perpetrator_Age\": 1, \"Perpetrator_Ethnicity\": 1, \"Relationship\": 1, \"Weapon\": 1, \"Victim_Count\": 1, \"Perpetrator_Count\": 1, \"Record_Source\": 1, \"State_Code\": 1, \"id\": \"Rhodes Island\"}, {\"Perpetrator_Sex\": \"Male\", \"State\": \"Alabama\", \"Perpetrator_Race\": \"Unknown\", \"Record_ID\": 6, \"Agency_Code\": 6, \"Agency_Name\": 6, \"Agency_Type\": 6, \"City\": 6, \"Year\": 6, \"Month\": 6, \"Incident\": 6, \"Crime_Type\": 6, \"Crime_Solved\": 6, \"Victim_Sex\": 6, \"Victim_Age\": 6, \"Victim_Race\": 6, \"Victim_Ethnicity\": 6, \"Perpetrator_Age\": 6, \"Perpetrator_Ethnicity\": 6, \"Relationship\": 6, \"Weapon\": 6, \"Victim_Count\": 6, \"Perpetrator_Count\": 6, \"Record_Source\": 6, \"State_Code\": 6, \"id\": 1}, {\"Perpetrator_Sex\": \"Male\", \"State\": \"Arizona\", \"Perpetrator_Race\": \"Unknown\", \"Record_ID\": 14, \"Agency_Code\": 14, \"Agency_Name\": 14, \"Agency_Type\": 14, \"City\": 14, \"Year\": 14, \"Month\": 14, \"Incident\": 14, \"Crime_Type\": 14, \"Crime_Solved\": 14, \"Victim_Sex\": 14, \"Victim_Age\": 14, \"Victim_Race\": 14, \"Victim_Ethnicity\": 14, \"Perpetrator_Age\": 14, \"Perpetrator_Ethnicity\": 14, \"Relationship\": 14, \"Weapon\": 14, \"Victim_Count\": 14, \"Perpetrator_Count\": 14, \"Record_Source\": 14, \"State_Code\": 14, \"id\": 4}, {\"Perpetrator_Sex\": \"Male\", \"State\": \"Arkansas\", \"Perpetrator_Race\": \"Unknown\", \"Record_ID\": 3, \"Agency_Code\": 3, \"Agency_Name\": 3, \"Agency_Type\": 3, \"City\": 3, \"Year\": 3, \"Month\": 3, \"Incident\": 3, \"Crime_Type\": 3, \"Crime_Solved\": 3, \"Victim_Sex\": 3, \"Victim_Age\": 3, \"Victim_Race\": 3, \"Victim_Ethnicity\": 3, \"Perpetrator_Age\": 3, \"Perpetrator_Ethnicity\": 3, \"Relationship\": 3, \"Weapon\": 3, \"Victim_Count\": 3, \"Perpetrator_Count\": 3, \"Record_Source\": 3, \"State_Code\": 3, \"id\": 5}, {\"Perpetrator_Sex\": \"Male\", \"State\": \"California\", \"Perpetrator_Race\": \"Unknown\", \"Record_ID\": 24, \"Agency_Code\": 24, \"Agency_Name\": 24, \"Agency_Type\": 24, \"City\": 24, \"Year\": 24, \"Month\": 24, \"Incident\": 24, \"Crime_Type\": 24, \"Crime_Solved\": 24, \"Victim_Sex\": 24, \"Victim_Age\": 24, \"Victim_Race\": 24, \"Victim_Ethnicity\": 24, \"Perpetrator_Age\": 24, \"Perpetrator_Ethnicity\": 24, \"Relationship\": 24, \"Weapon\": 24, \"Victim_Count\": 24, \"Perpetrator_Count\": 24, \"Record_Source\": 24, \"State_Code\": 24, \"id\": 6}, {\"Perpetrator_Sex\": \"Male\", \"State\": \"Colorado\", \"Perpetrator_Race\": \"Unknown\", \"Record_ID\": 3, \"Agency_Code\": 3, \"Agency_Name\": 3, \"Agency_Type\": 3, \"City\": 3, \"Year\": 3, \"Month\": 3, \"Incident\": 3, \"Crime_Type\": 3, \"Crime_Solved\": 3, \"Victim_Sex\": 3, \"Victim_Age\": 3, \"Victim_Race\": 3, \"Victim_Ethnicity\": 3, \"Perpetrator_Age\": 3, \"Perpetrator_Ethnicity\": 3, \"Relationship\": 3, \"Weapon\": 3, \"Victim_Count\": 3, \"Perpetrator_Count\": 3, \"Record_Source\": 3, \"State_Code\": 3, \"id\": 8}, {\"Perpetrator_Sex\": \"Male\", \"State\": \"Connecticut\", \"Perpetrator_Race\": \"Unknown\", \"Record_ID\": 2, \"Agency_Code\": 2, \"Agency_Name\": 2, \"Agency_Type\": 2, \"City\": 2, \"Year\": 2, \"Month\": 2, \"Incident\": 2, \"Crime_Type\": 2, \"Crime_Solved\": 2, \"Victim_Sex\": 2, \"Victim_Age\": 2, \"Victim_Race\": 2, \"Victim_Ethnicity\": 2, \"Perpetrator_Age\": 2, \"Perpetrator_Ethnicity\": 2, \"Relationship\": 2, \"Weapon\": 2, \"Victim_Count\": 2, \"Perpetrator_Count\": 2, \"Record_Source\": 2, \"State_Code\": 2, \"id\": 9}, {\"Perpetrator_Sex\": \"Male\", \"State\": \"Florida\", \"Perpetrator_Race\": \"Unknown\", \"Record_ID\": 6, \"Agency_Code\": 6, \"Agency_Name\": 6, \"Agency_Type\": 6, \"City\": 6, \"Year\": 6, \"Month\": 6, \"Incident\": 6, \"Crime_Type\": 6, \"Crime_Solved\": 6, \"Victim_Sex\": 6, \"Victim_Age\": 6, \"Victim_Race\": 6, \"Victim_Ethnicity\": 6, \"Perpetrator_Age\": 6, \"Perpetrator_Ethnicity\": 6, \"Relationship\": 6, \"Weapon\": 6, \"Victim_Count\": 6, \"Perpetrator_Count\": 6, \"Record_Source\": 6, \"State_Code\": 6, \"id\": 12}, {\"Perpetrator_Sex\": \"Male\", \"State\": \"Georgia\", \"Perpetrator_Race\": \"Unknown\", \"Record_ID\": 1, \"Agency_Code\": 1, \"Agency_Name\": 1, \"Agency_Type\": 1, \"City\": 1, \"Year\": 1, \"Month\": 1, \"Incident\": 1, \"Crime_Type\": 1, \"Crime_Solved\": 1, \"Victim_Sex\": 1, \"Victim_Age\": 1, \"Victim_Race\": 1, \"Victim_Ethnicity\": 1, \"Perpetrator_Age\": 1, \"Perpetrator_Ethnicity\": 1, \"Relationship\": 1, \"Weapon\": 1, \"Victim_Count\": 1, \"Perpetrator_Count\": 1, \"Record_Source\": 1, \"State_Code\": 1, \"id\": 13}, {\"Perpetrator_Sex\": \"Male\", \"State\": \"Hawaii\", \"Perpetrator_Race\": \"Unknown\", \"Record_ID\": 1, \"Agency_Code\": 1, \"Agency_Name\": 1, \"Agency_Type\": 1, \"City\": 1, \"Year\": 1, \"Month\": 1, \"Incident\": 1, \"Crime_Type\": 1, \"Crime_Solved\": 1, \"Victim_Sex\": 1, \"Victim_Age\": 1, \"Victim_Race\": 1, \"Victim_Ethnicity\": 1, \"Perpetrator_Age\": 1, \"Perpetrator_Ethnicity\": 1, \"Relationship\": 1, \"Weapon\": 1, \"Victim_Count\": 1, \"Perpetrator_Count\": 1, \"Record_Source\": 1, \"State_Code\": 1, \"id\": 15}, {\"Perpetrator_Sex\": \"Male\", \"State\": \"Idaho\", \"Perpetrator_Race\": \"Unknown\", \"Record_ID\": 1, \"Agency_Code\": 1, \"Agency_Name\": 1, \"Agency_Type\": 1, \"City\": 1, \"Year\": 1, \"Month\": 1, \"Incident\": 1, \"Crime_Type\": 1, \"Crime_Solved\": 1, \"Victim_Sex\": 1, \"Victim_Age\": 1, \"Victim_Race\": 1, \"Victim_Ethnicity\": 1, \"Perpetrator_Age\": 1, \"Perpetrator_Ethnicity\": 1, \"Relationship\": 1, \"Weapon\": 1, \"Victim_Count\": 1, \"Perpetrator_Count\": 1, \"Record_Source\": 1, \"State_Code\": 1, \"id\": 16}, {\"Perpetrator_Sex\": \"Male\", \"State\": \"Indiana\", \"Perpetrator_Race\": \"Unknown\", \"Record_ID\": 9, \"Agency_Code\": 9, \"Agency_Name\": 9, \"Agency_Type\": 9, \"City\": 9, \"Year\": 9, \"Month\": 9, \"Incident\": 9, \"Crime_Type\": 9, \"Crime_Solved\": 9, \"Victim_Sex\": 9, \"Victim_Age\": 9, \"Victim_Race\": 9, \"Victim_Ethnicity\": 9, \"Perpetrator_Age\": 9, \"Perpetrator_Ethnicity\": 9, \"Relationship\": 9, \"Weapon\": 9, \"Victim_Count\": 9, \"Perpetrator_Count\": 9, \"Record_Source\": 9, \"State_Code\": 9, \"id\": 18}, {\"Perpetrator_Sex\": \"Male\", \"State\": \"Iowa\", \"Perpetrator_Race\": \"Unknown\", \"Record_ID\": 1, \"Agency_Code\": 1, \"Agency_Name\": 1, \"Agency_Type\": 1, \"City\": 1, \"Year\": 1, \"Month\": 1, \"Incident\": 1, \"Crime_Type\": 1, \"Crime_Solved\": 1, \"Victim_Sex\": 1, \"Victim_Age\": 1, \"Victim_Race\": 1, \"Victim_Ethnicity\": 1, \"Perpetrator_Age\": 1, \"Perpetrator_Ethnicity\": 1, \"Relationship\": 1, \"Weapon\": 1, \"Victim_Count\": 1, \"Perpetrator_Count\": 1, \"Record_Source\": 1, \"State_Code\": 1, \"id\": 19}, {\"Perpetrator_Sex\": \"Male\", \"State\": \"Kansas\", \"Perpetrator_Race\": \"Unknown\", \"Record_ID\": 1, \"Agency_Code\": 1, \"Agency_Name\": 1, \"Agency_Type\": 1, \"City\": 1, \"Year\": 1, \"Month\": 1, \"Incident\": 1, \"Crime_Type\": 1, \"Crime_Solved\": 1, \"Victim_Sex\": 1, \"Victim_Age\": 1, \"Victim_Race\": 1, \"Victim_Ethnicity\": 1, \"Perpetrator_Age\": 1, \"Perpetrator_Ethnicity\": 1, \"Relationship\": 1, \"Weapon\": 1, \"Victim_Count\": 1, \"Perpetrator_Count\": 1, \"Record_Source\": 1, \"State_Code\": 1, \"id\": 20}, {\"Perpetrator_Sex\": \"Male\", \"State\": \"Louisiana\", \"Perpetrator_Race\": \"Unknown\", \"Record_ID\": 1, \"Agency_Code\": 1, \"Agency_Name\": 1, \"Agency_Type\": 1, \"City\": 1, \"Year\": 1, \"Month\": 1, \"Incident\": 1, \"Crime_Type\": 1, \"Crime_Solved\": 1, \"Victim_Sex\": 1, \"Victim_Age\": 1, \"Victim_Race\": 1, \"Victim_Ethnicity\": 1, \"Perpetrator_Age\": 1, \"Perpetrator_Ethnicity\": 1, \"Relationship\": 1, \"Weapon\": 1, \"Victim_Count\": 1, \"Perpetrator_Count\": 1, \"Record_Source\": 1, \"State_Code\": 1, \"id\": 22}, {\"Perpetrator_Sex\": \"Male\", \"State\": \"Maryland\", \"Perpetrator_Race\": \"Unknown\", \"Record_ID\": 2, \"Agency_Code\": 2, \"Agency_Name\": 2, \"Agency_Type\": 2, \"City\": 2, \"Year\": 2, \"Month\": 2, \"Incident\": 2, \"Crime_Type\": 2, \"Crime_Solved\": 2, \"Victim_Sex\": 2, \"Victim_Age\": 2, \"Victim_Race\": 2, \"Victim_Ethnicity\": 2, \"Perpetrator_Age\": 2, \"Perpetrator_Ethnicity\": 2, \"Relationship\": 2, \"Weapon\": 2, \"Victim_Count\": 2, \"Perpetrator_Count\": 2, \"Record_Source\": 2, \"State_Code\": 2, \"id\": 24}, {\"Perpetrator_Sex\": \"Male\", \"State\": \"Massachusetts\", \"Perpetrator_Race\": \"Unknown\", \"Record_ID\": 4, \"Agency_Code\": 4, \"Agency_Name\": 4, \"Agency_Type\": 4, \"City\": 4, \"Year\": 4, \"Month\": 4, \"Incident\": 4, \"Crime_Type\": 4, \"Crime_Solved\": 4, \"Victim_Sex\": 4, \"Victim_Age\": 4, \"Victim_Race\": 4, \"Victim_Ethnicity\": 4, \"Perpetrator_Age\": 4, \"Perpetrator_Ethnicity\": 4, \"Relationship\": 4, \"Weapon\": 4, \"Victim_Count\": 4, \"Perpetrator_Count\": 4, \"Record_Source\": 4, \"State_Code\": 4, \"id\": 25}, {\"Perpetrator_Sex\": \"Male\", \"State\": \"Michigan\", \"Perpetrator_Race\": \"Unknown\", \"Record_ID\": 12, \"Agency_Code\": 12, \"Agency_Name\": 12, \"Agency_Type\": 12, \"City\": 12, \"Year\": 12, \"Month\": 12, \"Incident\": 12, \"Crime_Type\": 12, \"Crime_Solved\": 12, \"Victim_Sex\": 12, \"Victim_Age\": 12, \"Victim_Race\": 12, \"Victim_Ethnicity\": 12, \"Perpetrator_Age\": 12, \"Perpetrator_Ethnicity\": 12, \"Relationship\": 12, \"Weapon\": 12, \"Victim_Count\": 12, \"Perpetrator_Count\": 12, \"Record_Source\": 12, \"State_Code\": 12, \"id\": 26}, {\"Perpetrator_Sex\": \"Male\", \"State\": \"Minnesota\", \"Perpetrator_Race\": \"Unknown\", \"Record_ID\": 4, \"Agency_Code\": 4, \"Agency_Name\": 4, \"Agency_Type\": 4, \"City\": 4, \"Year\": 4, \"Month\": 4, \"Incident\": 4, \"Crime_Type\": 4, \"Crime_Solved\": 4, \"Victim_Sex\": 4, \"Victim_Age\": 4, \"Victim_Race\": 4, \"Victim_Ethnicity\": 4, \"Perpetrator_Age\": 4, \"Perpetrator_Ethnicity\": 4, \"Relationship\": 4, \"Weapon\": 4, \"Victim_Count\": 4, \"Perpetrator_Count\": 4, \"Record_Source\": 4, \"State_Code\": 4, \"id\": 27}, {\"Perpetrator_Sex\": \"Male\", \"State\": \"Mississippi\", \"Perpetrator_Race\": \"Unknown\", \"Record_ID\": 1, \"Agency_Code\": 1, \"Agency_Name\": 1, \"Agency_Type\": 1, \"City\": 1, \"Year\": 1, \"Month\": 1, \"Incident\": 1, \"Crime_Type\": 1, \"Crime_Solved\": 1, \"Victim_Sex\": 1, \"Victim_Age\": 1, \"Victim_Race\": 1, \"Victim_Ethnicity\": 1, \"Perpetrator_Age\": 1, \"Perpetrator_Ethnicity\": 1, \"Relationship\": 1, \"Weapon\": 1, \"Victim_Count\": 1, \"Perpetrator_Count\": 1, \"Record_Source\": 1, \"State_Code\": 1, \"id\": 28}, {\"Perpetrator_Sex\": \"Male\", \"State\": \"Missouri\", \"Perpetrator_Race\": \"Unknown\", \"Record_ID\": 2, \"Agency_Code\": 2, \"Agency_Name\": 2, \"Agency_Type\": 2, \"City\": 2, \"Year\": 2, \"Month\": 2, \"Incident\": 2, \"Crime_Type\": 2, \"Crime_Solved\": 2, \"Victim_Sex\": 2, \"Victim_Age\": 2, \"Victim_Race\": 2, \"Victim_Ethnicity\": 2, \"Perpetrator_Age\": 2, \"Perpetrator_Ethnicity\": 2, \"Relationship\": 2, \"Weapon\": 2, \"Victim_Count\": 2, \"Perpetrator_Count\": 2, \"Record_Source\": 2, \"State_Code\": 2, \"id\": 29}, {\"Perpetrator_Sex\": \"Male\", \"State\": \"New Jersey\", \"Perpetrator_Race\": \"Unknown\", \"Record_ID\": 1, \"Agency_Code\": 1, \"Agency_Name\": 1, \"Agency_Type\": 1, \"City\": 1, \"Year\": 1, \"Month\": 1, \"Incident\": 1, \"Crime_Type\": 1, \"Crime_Solved\": 1, \"Victim_Sex\": 1, \"Victim_Age\": 1, \"Victim_Race\": 1, \"Victim_Ethnicity\": 1, \"Perpetrator_Age\": 1, \"Perpetrator_Ethnicity\": 1, \"Relationship\": 1, \"Weapon\": 1, \"Victim_Count\": 1, \"Perpetrator_Count\": 1, \"Record_Source\": 1, \"State_Code\": 1, \"id\": 34}, {\"Perpetrator_Sex\": \"Male\", \"State\": \"New Mexico\", \"Perpetrator_Race\": \"Unknown\", \"Record_ID\": 2, \"Agency_Code\": 2, \"Agency_Name\": 2, \"Agency_Type\": 2, \"City\": 2, \"Year\": 2, \"Month\": 2, \"Incident\": 2, \"Crime_Type\": 2, \"Crime_Solved\": 2, \"Victim_Sex\": 2, \"Victim_Age\": 2, \"Victim_Race\": 2, \"Victim_Ethnicity\": 2, \"Perpetrator_Age\": 2, \"Perpetrator_Ethnicity\": 2, \"Relationship\": 2, \"Weapon\": 2, \"Victim_Count\": 2, \"Perpetrator_Count\": 2, \"Record_Source\": 2, \"State_Code\": 2, \"id\": 35}, {\"Perpetrator_Sex\": \"Male\", \"State\": \"New York\", \"Perpetrator_Race\": \"Unknown\", \"Record_ID\": 3, \"Agency_Code\": 3, \"Agency_Name\": 3, \"Agency_Type\": 3, \"City\": 3, \"Year\": 3, \"Month\": 3, \"Incident\": 3, \"Crime_Type\": 3, \"Crime_Solved\": 3, \"Victim_Sex\": 3, \"Victim_Age\": 3, \"Victim_Race\": 3, \"Victim_Ethnicity\": 3, \"Perpetrator_Age\": 3, \"Perpetrator_Ethnicity\": 3, \"Relationship\": 3, \"Weapon\": 3, \"Victim_Count\": 3, \"Perpetrator_Count\": 3, \"Record_Source\": 3, \"State_Code\": 3, \"id\": 36}, {\"Perpetrator_Sex\": \"Male\", \"State\": \"North Carolina\", \"Perpetrator_Race\": \"Unknown\", \"Record_ID\": 4, \"Agency_Code\": 4, \"Agency_Name\": 4, \"Agency_Type\": 4, \"City\": 4, \"Year\": 4, \"Month\": 4, \"Incident\": 4, \"Crime_Type\": 4, \"Crime_Solved\": 4, \"Victim_Sex\": 4, \"Victim_Age\": 4, \"Victim_Race\": 4, \"Victim_Ethnicity\": 4, \"Perpetrator_Age\": 4, \"Perpetrator_Ethnicity\": 4, \"Relationship\": 4, \"Weapon\": 4, \"Victim_Count\": 4, \"Perpetrator_Count\": 4, \"Record_Source\": 4, \"State_Code\": 4, \"id\": 37}, {\"Perpetrator_Sex\": \"Male\", \"State\": \"Ohio\", \"Perpetrator_Race\": \"Unknown\", \"Record_ID\": 9, \"Agency_Code\": 9, \"Agency_Name\": 9, \"Agency_Type\": 9, \"City\": 9, \"Year\": 9, \"Month\": 9, \"Incident\": 9, \"Crime_Type\": 9, \"Crime_Solved\": 9, \"Victim_Sex\": 9, \"Victim_Age\": 9, \"Victim_Race\": 9, \"Victim_Ethnicity\": 9, \"Perpetrator_Age\": 9, \"Perpetrator_Ethnicity\": 9, \"Relationship\": 9, \"Weapon\": 9, \"Victim_Count\": 9, \"Perpetrator_Count\": 9, \"Record_Source\": 9, \"State_Code\": 9, \"id\": 39}, {\"Perpetrator_Sex\": \"Male\", \"State\": \"Oklahoma\", \"Perpetrator_Race\": \"Unknown\", \"Record_ID\": 2, \"Agency_Code\": 2, \"Agency_Name\": 2, \"Agency_Type\": 2, \"City\": 2, \"Year\": 2, \"Month\": 2, \"Incident\": 2, \"Crime_Type\": 2, \"Crime_Solved\": 2, \"Victim_Sex\": 2, \"Victim_Age\": 2, \"Victim_Race\": 2, \"Victim_Ethnicity\": 2, \"Perpetrator_Age\": 2, \"Perpetrator_Ethnicity\": 2, \"Relationship\": 2, \"Weapon\": 2, \"Victim_Count\": 2, \"Perpetrator_Count\": 2, \"Record_Source\": 2, \"State_Code\": 2, \"id\": 40}, {\"Perpetrator_Sex\": \"Male\", \"State\": \"Oregon\", \"Perpetrator_Race\": \"Unknown\", \"Record_ID\": 2, \"Agency_Code\": 2, \"Agency_Name\": 2, \"Agency_Type\": 2, \"City\": 2, \"Year\": 2, \"Month\": 2, \"Incident\": 2, \"Crime_Type\": 2, \"Crime_Solved\": 2, \"Victim_Sex\": 2, \"Victim_Age\": 2, \"Victim_Race\": 2, \"Victim_Ethnicity\": 2, \"Perpetrator_Age\": 2, \"Perpetrator_Ethnicity\": 2, \"Relationship\": 2, \"Weapon\": 2, \"Victim_Count\": 2, \"Perpetrator_Count\": 2, \"Record_Source\": 2, \"State_Code\": 2, \"id\": 41}, {\"Perpetrator_Sex\": \"Male\", \"State\": \"Pennsylvania\", \"Perpetrator_Race\": \"Unknown\", \"Record_ID\": 13, \"Agency_Code\": 13, \"Agency_Name\": 13, \"Agency_Type\": 13, \"City\": 13, \"Year\": 13, \"Month\": 13, \"Incident\": 13, \"Crime_Type\": 13, \"Crime_Solved\": 13, \"Victim_Sex\": 13, \"Victim_Age\": 13, \"Victim_Race\": 13, \"Victim_Ethnicity\": 13, \"Perpetrator_Age\": 13, \"Perpetrator_Ethnicity\": 13, \"Relationship\": 13, \"Weapon\": 13, \"Victim_Count\": 13, \"Perpetrator_Count\": 13, \"Record_Source\": 13, \"State_Code\": 13, \"id\": 42}, {\"Perpetrator_Sex\": \"Male\", \"State\": \"South Carolina\", \"Perpetrator_Race\": \"Unknown\", \"Record_ID\": 1, \"Agency_Code\": 1, \"Agency_Name\": 1, \"Agency_Type\": 1, \"City\": 1, \"Year\": 1, \"Month\": 1, \"Incident\": 1, \"Crime_Type\": 1, \"Crime_Solved\": 1, \"Victim_Sex\": 1, \"Victim_Age\": 1, \"Victim_Race\": 1, \"Victim_Ethnicity\": 1, \"Perpetrator_Age\": 1, \"Perpetrator_Ethnicity\": 1, \"Relationship\": 1, \"Weapon\": 1, \"Victim_Count\": 1, \"Perpetrator_Count\": 1, \"Record_Source\": 1, \"State_Code\": 1, \"id\": 45}, {\"Perpetrator_Sex\": \"Male\", \"State\": \"Tennessee\", \"Perpetrator_Race\": \"Unknown\", \"Record_ID\": 2, \"Agency_Code\": 2, \"Agency_Name\": 2, \"Agency_Type\": 2, \"City\": 2, \"Year\": 2, \"Month\": 2, \"Incident\": 2, \"Crime_Type\": 2, \"Crime_Solved\": 2, \"Victim_Sex\": 2, \"Victim_Age\": 2, \"Victim_Race\": 2, \"Victim_Ethnicity\": 2, \"Perpetrator_Age\": 2, \"Perpetrator_Ethnicity\": 2, \"Relationship\": 2, \"Weapon\": 2, \"Victim_Count\": 2, \"Perpetrator_Count\": 2, \"Record_Source\": 2, \"State_Code\": 2, \"id\": 47}, {\"Perpetrator_Sex\": \"Male\", \"State\": \"Texas\", \"Perpetrator_Race\": \"Unknown\", \"Record_ID\": 3, \"Agency_Code\": 3, \"Agency_Name\": 3, \"Agency_Type\": 3, \"City\": 3, \"Year\": 3, \"Month\": 3, \"Incident\": 3, \"Crime_Type\": 3, \"Crime_Solved\": 3, \"Victim_Sex\": 3, \"Victim_Age\": 3, \"Victim_Race\": 3, \"Victim_Ethnicity\": 3, \"Perpetrator_Age\": 3, \"Perpetrator_Ethnicity\": 3, \"Relationship\": 3, \"Weapon\": 3, \"Victim_Count\": 3, \"Perpetrator_Count\": 3, \"Record_Source\": 3, \"State_Code\": 3, \"id\": 48}, {\"Perpetrator_Sex\": \"Male\", \"State\": \"Virginia\", \"Perpetrator_Race\": \"Unknown\", \"Record_ID\": 1, \"Agency_Code\": 1, \"Agency_Name\": 1, \"Agency_Type\": 1, \"City\": 1, \"Year\": 1, \"Month\": 1, \"Incident\": 1, \"Crime_Type\": 1, \"Crime_Solved\": 1, \"Victim_Sex\": 1, \"Victim_Age\": 1, \"Victim_Race\": 1, \"Victim_Ethnicity\": 1, \"Perpetrator_Age\": 1, \"Perpetrator_Ethnicity\": 1, \"Relationship\": 1, \"Weapon\": 1, \"Victim_Count\": 1, \"Perpetrator_Count\": 1, \"Record_Source\": 1, \"State_Code\": 1, \"id\": 51}, {\"Perpetrator_Sex\": \"Male\", \"State\": \"Washington\", \"Perpetrator_Race\": \"Unknown\", \"Record_ID\": 1, \"Agency_Code\": 1, \"Agency_Name\": 1, \"Agency_Type\": 1, \"City\": 1, \"Year\": 1, \"Month\": 1, \"Incident\": 1, \"Crime_Type\": 1, \"Crime_Solved\": 1, \"Victim_Sex\": 1, \"Victim_Age\": 1, \"Victim_Race\": 1, \"Victim_Ethnicity\": 1, \"Perpetrator_Age\": 1, \"Perpetrator_Ethnicity\": 1, \"Relationship\": 1, \"Weapon\": 1, \"Victim_Count\": 1, \"Perpetrator_Count\": 1, \"Record_Source\": 1, \"State_Code\": 1, \"id\": 53}, {\"Perpetrator_Sex\": \"Male\", \"State\": \"Wisconsin\", \"Perpetrator_Race\": \"Unknown\", \"Record_ID\": 2, \"Agency_Code\": 2, \"Agency_Name\": 2, \"Agency_Type\": 2, \"City\": 2, \"Year\": 2, \"Month\": 2, \"Incident\": 2, \"Crime_Type\": 2, \"Crime_Solved\": 2, \"Victim_Sex\": 2, \"Victim_Age\": 2, \"Victim_Race\": 2, \"Victim_Ethnicity\": 2, \"Perpetrator_Age\": 2, \"Perpetrator_Ethnicity\": 2, \"Relationship\": 2, \"Weapon\": 2, \"Victim_Count\": 2, \"Perpetrator_Count\": 2, \"Record_Source\": 2, \"State_Code\": 2, \"id\": 55}, {\"Perpetrator_Sex\": \"Unknown\", \"State\": \"Alabama\", \"Perpetrator_Race\": \"Unknown\", \"Record_ID\": 43, \"Agency_Code\": 43, \"Agency_Name\": 43, \"Agency_Type\": 43, \"City\": 43, \"Year\": 43, \"Month\": 43, \"Incident\": 43, \"Crime_Type\": 43, \"Crime_Solved\": 43, \"Victim_Sex\": 43, \"Victim_Age\": 43, \"Victim_Race\": 43, \"Victim_Ethnicity\": 43, \"Perpetrator_Age\": 43, \"Perpetrator_Ethnicity\": 43, \"Relationship\": 43, \"Weapon\": 43, \"Victim_Count\": 43, \"Perpetrator_Count\": 43, \"Record_Source\": 43, \"State_Code\": 43, \"id\": 1}, {\"Perpetrator_Sex\": \"Unknown\", \"State\": \"Alaska\", \"Perpetrator_Race\": \"Unknown\", \"Record_ID\": 4, \"Agency_Code\": 4, \"Agency_Name\": 4, \"Agency_Type\": 4, \"City\": 4, \"Year\": 4, \"Month\": 4, \"Incident\": 4, \"Crime_Type\": 4, \"Crime_Solved\": 4, \"Victim_Sex\": 4, \"Victim_Age\": 4, \"Victim_Race\": 4, \"Victim_Ethnicity\": 4, \"Perpetrator_Age\": 4, \"Perpetrator_Ethnicity\": 4, \"Relationship\": 4, \"Weapon\": 4, \"Victim_Count\": 4, \"Perpetrator_Count\": 4, \"Record_Source\": 4, \"State_Code\": 4, \"id\": 2}, {\"Perpetrator_Sex\": \"Unknown\", \"State\": \"Arizona\", \"Perpetrator_Race\": \"Unknown\", \"Record_ID\": 90, \"Agency_Code\": 90, \"Agency_Name\": 90, \"Agency_Type\": 90, \"City\": 90, \"Year\": 90, \"Month\": 90, \"Incident\": 90, \"Crime_Type\": 90, \"Crime_Solved\": 90, \"Victim_Sex\": 90, \"Victim_Age\": 90, \"Victim_Race\": 90, \"Victim_Ethnicity\": 90, \"Perpetrator_Age\": 90, \"Perpetrator_Ethnicity\": 90, \"Relationship\": 90, \"Weapon\": 90, \"Victim_Count\": 90, \"Perpetrator_Count\": 90, \"Record_Source\": 90, \"State_Code\": 90, \"id\": 4}, {\"Perpetrator_Sex\": \"Unknown\", \"State\": \"Arkansas\", \"Perpetrator_Race\": \"Unknown\", \"Record_ID\": 30, \"Agency_Code\": 30, \"Agency_Name\": 30, \"Agency_Type\": 30, \"City\": 30, \"Year\": 30, \"Month\": 30, \"Incident\": 30, \"Crime_Type\": 30, \"Crime_Solved\": 30, \"Victim_Sex\": 30, \"Victim_Age\": 30, \"Victim_Race\": 30, \"Victim_Ethnicity\": 30, \"Perpetrator_Age\": 30, \"Perpetrator_Ethnicity\": 30, \"Relationship\": 30, \"Weapon\": 30, \"Victim_Count\": 30, \"Perpetrator_Count\": 30, \"Record_Source\": 30, \"State_Code\": 30, \"id\": 5}, {\"Perpetrator_Sex\": \"Unknown\", \"State\": \"California\", \"Perpetrator_Race\": \"Unknown\", \"Record_ID\": 827, \"Agency_Code\": 827, \"Agency_Name\": 827, \"Agency_Type\": 827, \"City\": 827, \"Year\": 827, \"Month\": 827, \"Incident\": 827, \"Crime_Type\": 827, \"Crime_Solved\": 827, \"Victim_Sex\": 827, \"Victim_Age\": 827, \"Victim_Race\": 827, \"Victim_Ethnicity\": 827, \"Perpetrator_Age\": 827, \"Perpetrator_Ethnicity\": 827, \"Relationship\": 827, \"Weapon\": 827, \"Victim_Count\": 827, \"Perpetrator_Count\": 827, \"Record_Source\": 827, \"State_Code\": 827, \"id\": 6}, {\"Perpetrator_Sex\": \"Unknown\", \"State\": \"Colorado\", \"Perpetrator_Race\": \"Unknown\", \"Record_ID\": 23, \"Agency_Code\": 23, \"Agency_Name\": 23, \"Agency_Type\": 23, \"City\": 23, \"Year\": 23, \"Month\": 23, \"Incident\": 23, \"Crime_Type\": 23, \"Crime_Solved\": 23, \"Victim_Sex\": 23, \"Victim_Age\": 23, \"Victim_Race\": 23, \"Victim_Ethnicity\": 23, \"Perpetrator_Age\": 23, \"Perpetrator_Ethnicity\": 23, \"Relationship\": 23, \"Weapon\": 23, \"Victim_Count\": 23, \"Perpetrator_Count\": 23, \"Record_Source\": 23, \"State_Code\": 23, \"id\": 8}, {\"Perpetrator_Sex\": \"Unknown\", \"State\": \"Connecticut\", \"Perpetrator_Race\": \"Unknown\", \"Record_ID\": 53, \"Agency_Code\": 53, \"Agency_Name\": 53, \"Agency_Type\": 53, \"City\": 53, \"Year\": 53, \"Month\": 53, \"Incident\": 53, \"Crime_Type\": 53, \"Crime_Solved\": 53, \"Victim_Sex\": 53, \"Victim_Age\": 53, \"Victim_Race\": 53, \"Victim_Ethnicity\": 53, \"Perpetrator_Age\": 53, \"Perpetrator_Ethnicity\": 53, \"Relationship\": 53, \"Weapon\": 53, \"Victim_Count\": 53, \"Perpetrator_Count\": 53, \"Record_Source\": 53, \"State_Code\": 53, \"id\": 9}, {\"Perpetrator_Sex\": \"Unknown\", \"State\": \"Delaware\", \"Perpetrator_Race\": \"Unknown\", \"Record_ID\": 10, \"Agency_Code\": 10, \"Agency_Name\": 10, \"Agency_Type\": 10, \"City\": 10, \"Year\": 10, \"Month\": 10, \"Incident\": 10, \"Crime_Type\": 10, \"Crime_Solved\": 10, \"Victim_Sex\": 10, \"Victim_Age\": 10, \"Victim_Race\": 10, \"Victim_Ethnicity\": 10, \"Perpetrator_Age\": 10, \"Perpetrator_Ethnicity\": 10, \"Relationship\": 10, \"Weapon\": 10, \"Victim_Count\": 10, \"Perpetrator_Count\": 10, \"Record_Source\": 10, \"State_Code\": 10, \"id\": 10}, {\"Perpetrator_Sex\": \"Unknown\", \"State\": \"District of Columbia\", \"Perpetrator_Race\": \"Unknown\", \"Record_ID\": 61, \"Agency_Code\": 61, \"Agency_Name\": 61, \"Agency_Type\": 61, \"City\": 61, \"Year\": 61, \"Month\": 61, \"Incident\": 61, \"Crime_Type\": 61, \"Crime_Solved\": 61, \"Victim_Sex\": 61, \"Victim_Age\": 61, \"Victim_Race\": 61, \"Victim_Ethnicity\": 61, \"Perpetrator_Age\": 61, \"Perpetrator_Ethnicity\": 61, \"Relationship\": 61, \"Weapon\": 61, \"Victim_Count\": 61, \"Perpetrator_Count\": 61, \"Record_Source\": 61, \"State_Code\": 61, \"id\": 11}, {\"Perpetrator_Sex\": \"Unknown\", \"State\": \"Florida\", \"Perpetrator_Race\": \"Unknown\", \"Record_ID\": 277, \"Agency_Code\": 277, \"Agency_Name\": 277, \"Agency_Type\": 277, \"City\": 277, \"Year\": 277, \"Month\": 277, \"Incident\": 277, \"Crime_Type\": 277, \"Crime_Solved\": 277, \"Victim_Sex\": 277, \"Victim_Age\": 277, \"Victim_Race\": 277, \"Victim_Ethnicity\": 277, \"Perpetrator_Age\": 277, \"Perpetrator_Ethnicity\": 277, \"Relationship\": 277, \"Weapon\": 277, \"Victim_Count\": 277, \"Perpetrator_Count\": 277, \"Record_Source\": 277, \"State_Code\": 277, \"id\": 12}, {\"Perpetrator_Sex\": \"Unknown\", \"State\": \"Georgia\", \"Perpetrator_Race\": \"Unknown\", \"Record_ID\": 171, \"Agency_Code\": 171, \"Agency_Name\": 171, \"Agency_Type\": 171, \"City\": 171, \"Year\": 171, \"Month\": 171, \"Incident\": 171, \"Crime_Type\": 171, \"Crime_Solved\": 171, \"Victim_Sex\": 171, \"Victim_Age\": 171, \"Victim_Race\": 171, \"Victim_Ethnicity\": 171, \"Perpetrator_Age\": 171, \"Perpetrator_Ethnicity\": 171, \"Relationship\": 171, \"Weapon\": 171, \"Victim_Count\": 171, \"Perpetrator_Count\": 171, \"Record_Source\": 171, \"State_Code\": 171, \"id\": 13}, {\"Perpetrator_Sex\": \"Unknown\", \"State\": \"Hawaii\", \"Perpetrator_Race\": \"Unknown\", \"Record_ID\": 1, \"Agency_Code\": 1, \"Agency_Name\": 1, \"Agency_Type\": 1, \"City\": 1, \"Year\": 1, \"Month\": 1, \"Incident\": 1, \"Crime_Type\": 1, \"Crime_Solved\": 1, \"Victim_Sex\": 1, \"Victim_Age\": 1, \"Victim_Race\": 1, \"Victim_Ethnicity\": 1, \"Perpetrator_Age\": 1, \"Perpetrator_Ethnicity\": 1, \"Relationship\": 1, \"Weapon\": 1, \"Victim_Count\": 1, \"Perpetrator_Count\": 1, \"Record_Source\": 1, \"State_Code\": 1, \"id\": 15}, {\"Perpetrator_Sex\": \"Unknown\", \"State\": \"Idaho\", \"Perpetrator_Race\": \"Unknown\", \"Record_ID\": 1, \"Agency_Code\": 1, \"Agency_Name\": 1, \"Agency_Type\": 1, \"City\": 1, \"Year\": 1, \"Month\": 1, \"Incident\": 1, \"Crime_Type\": 1, \"Crime_Solved\": 1, \"Victim_Sex\": 1, \"Victim_Age\": 1, \"Victim_Race\": 1, \"Victim_Ethnicity\": 1, \"Perpetrator_Age\": 1, \"Perpetrator_Ethnicity\": 1, \"Relationship\": 1, \"Weapon\": 1, \"Victim_Count\": 1, \"Perpetrator_Count\": 1, \"Record_Source\": 1, \"State_Code\": 1, \"id\": 16}, {\"Perpetrator_Sex\": \"Unknown\", \"State\": \"Illinois\", \"Perpetrator_Race\": \"Unknown\", \"Record_ID\": 301, \"Agency_Code\": 301, \"Agency_Name\": 301, \"Agency_Type\": 301, \"City\": 301, \"Year\": 301, \"Month\": 301, \"Incident\": 301, \"Crime_Type\": 301, \"Crime_Solved\": 301, \"Victim_Sex\": 301, \"Victim_Age\": 301, \"Victim_Race\": 301, \"Victim_Ethnicity\": 301, \"Perpetrator_Age\": 301, \"Perpetrator_Ethnicity\": 301, \"Relationship\": 301, \"Weapon\": 301, \"Victim_Count\": 301, \"Perpetrator_Count\": 301, \"Record_Source\": 301, \"State_Code\": 301, \"id\": 17}, {\"Perpetrator_Sex\": \"Unknown\", \"State\": \"Indiana\", \"Perpetrator_Race\": \"Unknown\", \"Record_ID\": 89, \"Agency_Code\": 89, \"Agency_Name\": 89, \"Agency_Type\": 89, \"City\": 89, \"Year\": 89, \"Month\": 89, \"Incident\": 89, \"Crime_Type\": 89, \"Crime_Solved\": 89, \"Victim_Sex\": 89, \"Victim_Age\": 89, \"Victim_Race\": 89, \"Victim_Ethnicity\": 89, \"Perpetrator_Age\": 89, \"Perpetrator_Ethnicity\": 89, \"Relationship\": 89, \"Weapon\": 89, \"Victim_Count\": 89, \"Perpetrator_Count\": 89, \"Record_Source\": 89, \"State_Code\": 89, \"id\": 18}, {\"Perpetrator_Sex\": \"Unknown\", \"State\": \"Iowa\", \"Perpetrator_Race\": \"Unknown\", \"Record_ID\": 3, \"Agency_Code\": 3, \"Agency_Name\": 3, \"Agency_Type\": 3, \"City\": 3, \"Year\": 3, \"Month\": 3, \"Incident\": 3, \"Crime_Type\": 3, \"Crime_Solved\": 3, \"Victim_Sex\": 3, \"Victim_Age\": 3, \"Victim_Race\": 3, \"Victim_Ethnicity\": 3, \"Perpetrator_Age\": 3, \"Perpetrator_Ethnicity\": 3, \"Relationship\": 3, \"Weapon\": 3, \"Victim_Count\": 3, \"Perpetrator_Count\": 3, \"Record_Source\": 3, \"State_Code\": 3, \"id\": 19}, {\"Perpetrator_Sex\": \"Unknown\", \"State\": \"Kansas\", \"Perpetrator_Race\": \"Unknown\", \"Record_ID\": 19, \"Agency_Code\": 19, \"Agency_Name\": 19, \"Agency_Type\": 19, \"City\": 19, \"Year\": 19, \"Month\": 19, \"Incident\": 19, \"Crime_Type\": 19, \"Crime_Solved\": 19, \"Victim_Sex\": 19, \"Victim_Age\": 19, \"Victim_Race\": 19, \"Victim_Ethnicity\": 19, \"Perpetrator_Age\": 19, \"Perpetrator_Ethnicity\": 19, \"Relationship\": 19, \"Weapon\": 19, \"Victim_Count\": 19, \"Perpetrator_Count\": 19, \"Record_Source\": 19, \"State_Code\": 19, \"id\": 20}, {\"Perpetrator_Sex\": \"Unknown\", \"State\": \"Kentucky\", \"Perpetrator_Race\": \"Unknown\", \"Record_ID\": 51, \"Agency_Code\": 51, \"Agency_Name\": 51, \"Agency_Type\": 51, \"City\": 51, \"Year\": 51, \"Month\": 51, \"Incident\": 51, \"Crime_Type\": 51, \"Crime_Solved\": 51, \"Victim_Sex\": 51, \"Victim_Age\": 51, \"Victim_Race\": 51, \"Victim_Ethnicity\": 51, \"Perpetrator_Age\": 51, \"Perpetrator_Ethnicity\": 51, \"Relationship\": 51, \"Weapon\": 51, \"Victim_Count\": 51, \"Perpetrator_Count\": 51, \"Record_Source\": 51, \"State_Code\": 51, \"id\": 21}, {\"Perpetrator_Sex\": \"Unknown\", \"State\": \"Louisiana\", \"Perpetrator_Race\": \"Unknown\", \"Record_ID\": 177, \"Agency_Code\": 177, \"Agency_Name\": 177, \"Agency_Type\": 177, \"City\": 177, \"Year\": 177, \"Month\": 177, \"Incident\": 177, \"Crime_Type\": 177, \"Crime_Solved\": 177, \"Victim_Sex\": 177, \"Victim_Age\": 177, \"Victim_Race\": 177, \"Victim_Ethnicity\": 177, \"Perpetrator_Age\": 177, \"Perpetrator_Ethnicity\": 177, \"Relationship\": 177, \"Weapon\": 177, \"Victim_Count\": 177, \"Perpetrator_Count\": 177, \"Record_Source\": 177, \"State_Code\": 177, \"id\": 22}, {\"Perpetrator_Sex\": \"Unknown\", \"State\": \"Maine\", \"Perpetrator_Race\": \"Unknown\", \"Record_ID\": 2, \"Agency_Code\": 2, \"Agency_Name\": 2, \"Agency_Type\": 2, \"City\": 2, \"Year\": 2, \"Month\": 2, \"Incident\": 2, \"Crime_Type\": 2, \"Crime_Solved\": 2, \"Victim_Sex\": 2, \"Victim_Age\": 2, \"Victim_Race\": 2, \"Victim_Ethnicity\": 2, \"Perpetrator_Age\": 2, \"Perpetrator_Ethnicity\": 2, \"Relationship\": 2, \"Weapon\": 2, \"Victim_Count\": 2, \"Perpetrator_Count\": 2, \"Record_Source\": 2, \"State_Code\": 2, \"id\": 23}, {\"Perpetrator_Sex\": \"Unknown\", \"State\": \"Maryland\", \"Perpetrator_Race\": \"Unknown\", \"Record_ID\": 177, \"Agency_Code\": 177, \"Agency_Name\": 177, \"Agency_Type\": 177, \"City\": 177, \"Year\": 177, \"Month\": 177, \"Incident\": 177, \"Crime_Type\": 177, \"Crime_Solved\": 177, \"Victim_Sex\": 177, \"Victim_Age\": 177, \"Victim_Race\": 177, \"Victim_Ethnicity\": 177, \"Perpetrator_Age\": 177, \"Perpetrator_Ethnicity\": 177, \"Relationship\": 177, \"Weapon\": 177, \"Victim_Count\": 177, \"Perpetrator_Count\": 177, \"Record_Source\": 177, \"State_Code\": 177, \"id\": 24}, {\"Perpetrator_Sex\": \"Unknown\", \"State\": \"Massachusetts\", \"Perpetrator_Race\": \"Unknown\", \"Record_ID\": 80, \"Agency_Code\": 80, \"Agency_Name\": 80, \"Agency_Type\": 80, \"City\": 80, \"Year\": 80, \"Month\": 80, \"Incident\": 80, \"Crime_Type\": 80, \"Crime_Solved\": 80, \"Victim_Sex\": 80, \"Victim_Age\": 80, \"Victim_Race\": 80, \"Victim_Ethnicity\": 80, \"Perpetrator_Age\": 80, \"Perpetrator_Ethnicity\": 80, \"Relationship\": 80, \"Weapon\": 80, \"Victim_Count\": 80, \"Perpetrator_Count\": 80, \"Record_Source\": 80, \"State_Code\": 80, \"id\": 25}, {\"Perpetrator_Sex\": \"Unknown\", \"State\": \"Michigan\", \"Perpetrator_Race\": \"Unknown\", \"Record_ID\": 203, \"Agency_Code\": 203, \"Agency_Name\": 203, \"Agency_Type\": 203, \"City\": 203, \"Year\": 203, \"Month\": 203, \"Incident\": 203, \"Crime_Type\": 203, \"Crime_Solved\": 203, \"Victim_Sex\": 203, \"Victim_Age\": 203, \"Victim_Race\": 203, \"Victim_Ethnicity\": 203, \"Perpetrator_Age\": 203, \"Perpetrator_Ethnicity\": 203, \"Relationship\": 203, \"Weapon\": 203, \"Victim_Count\": 203, \"Perpetrator_Count\": 203, \"Record_Source\": 203, \"State_Code\": 203, \"id\": 26}, {\"Perpetrator_Sex\": \"Unknown\", \"State\": \"Minnesota\", \"Perpetrator_Race\": \"Unknown\", \"Record_ID\": 20, \"Agency_Code\": 20, \"Agency_Name\": 20, \"Agency_Type\": 20, \"City\": 20, \"Year\": 20, \"Month\": 20, \"Incident\": 20, \"Crime_Type\": 20, \"Crime_Solved\": 20, \"Victim_Sex\": 20, \"Victim_Age\": 20, \"Victim_Race\": 20, \"Victim_Ethnicity\": 20, \"Perpetrator_Age\": 20, \"Perpetrator_Ethnicity\": 20, \"Relationship\": 20, \"Weapon\": 20, \"Victim_Count\": 20, \"Perpetrator_Count\": 20, \"Record_Source\": 20, \"State_Code\": 20, \"id\": 27}, {\"Perpetrator_Sex\": \"Unknown\", \"State\": \"Mississippi\", \"Perpetrator_Race\": \"Unknown\", \"Record_ID\": 35, \"Agency_Code\": 35, \"Agency_Name\": 35, \"Agency_Type\": 35, \"City\": 35, \"Year\": 35, \"Month\": 35, \"Incident\": 35, \"Crime_Type\": 35, \"Crime_Solved\": 35, \"Victim_Sex\": 35, \"Victim_Age\": 35, \"Victim_Race\": 35, \"Victim_Ethnicity\": 35, \"Perpetrator_Age\": 35, \"Perpetrator_Ethnicity\": 35, \"Relationship\": 35, \"Weapon\": 35, \"Victim_Count\": 35, \"Perpetrator_Count\": 35, \"Record_Source\": 35, \"State_Code\": 35, \"id\": 28}, {\"Perpetrator_Sex\": \"Unknown\", \"State\": \"Missouri\", \"Perpetrator_Race\": \"Unknown\", \"Record_ID\": 135, \"Agency_Code\": 135, \"Agency_Name\": 135, \"Agency_Type\": 135, \"City\": 135, \"Year\": 135, \"Month\": 135, \"Incident\": 135, \"Crime_Type\": 135, \"Crime_Solved\": 135, \"Victim_Sex\": 135, \"Victim_Age\": 135, \"Victim_Race\": 135, \"Victim_Ethnicity\": 135, \"Perpetrator_Age\": 135, \"Perpetrator_Ethnicity\": 135, \"Relationship\": 135, \"Weapon\": 135, \"Victim_Count\": 135, \"Perpetrator_Count\": 135, \"Record_Source\": 135, \"State_Code\": 135, \"id\": 29}, {\"Perpetrator_Sex\": \"Unknown\", \"State\": \"Nebraska\", \"Perpetrator_Race\": \"Unknown\", \"Record_ID\": 24, \"Agency_Code\": 24, \"Agency_Name\": 24, \"Agency_Type\": 24, \"City\": 24, \"Year\": 24, \"Month\": 24, \"Incident\": 24, \"Crime_Type\": 24, \"Crime_Solved\": 24, \"Victim_Sex\": 24, \"Victim_Age\": 24, \"Victim_Race\": 24, \"Victim_Ethnicity\": 24, \"Perpetrator_Age\": 24, \"Perpetrator_Ethnicity\": 24, \"Relationship\": 24, \"Weapon\": 24, \"Victim_Count\": 24, \"Perpetrator_Count\": 24, \"Record_Source\": 24, \"State_Code\": 24, \"id\": 31}, {\"Perpetrator_Sex\": \"Unknown\", \"State\": \"Nevada\", \"Perpetrator_Race\": \"Unknown\", \"Record_ID\": 41, \"Agency_Code\": 41, \"Agency_Name\": 41, \"Agency_Type\": 41, \"City\": 41, \"Year\": 41, \"Month\": 41, \"Incident\": 41, \"Crime_Type\": 41, \"Crime_Solved\": 41, \"Victim_Sex\": 41, \"Victim_Age\": 41, \"Victim_Race\": 41, \"Victim_Ethnicity\": 41, \"Perpetrator_Age\": 41, \"Perpetrator_Ethnicity\": 41, \"Relationship\": 41, \"Weapon\": 41, \"Victim_Count\": 41, \"Perpetrator_Count\": 41, \"Record_Source\": 41, \"State_Code\": 41, \"id\": 32}, {\"Perpetrator_Sex\": \"Unknown\", \"State\": \"New Hampshire\", \"Perpetrator_Race\": \"Unknown\", \"Record_ID\": 1, \"Agency_Code\": 1, \"Agency_Name\": 1, \"Agency_Type\": 1, \"City\": 1, \"Year\": 1, \"Month\": 1, \"Incident\": 1, \"Crime_Type\": 1, \"Crime_Solved\": 1, \"Victim_Sex\": 1, \"Victim_Age\": 1, \"Victim_Race\": 1, \"Victim_Ethnicity\": 1, \"Perpetrator_Age\": 1, \"Perpetrator_Ethnicity\": 1, \"Relationship\": 1, \"Weapon\": 1, \"Victim_Count\": 1, \"Perpetrator_Count\": 1, \"Record_Source\": 1, \"State_Code\": 1, \"id\": 33}, {\"Perpetrator_Sex\": \"Unknown\", \"State\": \"New Jersey\", \"Perpetrator_Race\": \"Unknown\", \"Record_ID\": 161, \"Agency_Code\": 161, \"Agency_Name\": 161, \"Agency_Type\": 161, \"City\": 161, \"Year\": 161, \"Month\": 161, \"Incident\": 161, \"Crime_Type\": 161, \"Crime_Solved\": 161, \"Victim_Sex\": 161, \"Victim_Age\": 161, \"Victim_Race\": 161, \"Victim_Ethnicity\": 161, \"Perpetrator_Age\": 161, \"Perpetrator_Ethnicity\": 161, \"Relationship\": 161, \"Weapon\": 161, \"Victim_Count\": 161, \"Perpetrator_Count\": 161, \"Record_Source\": 161, \"State_Code\": 161, \"id\": 34}, {\"Perpetrator_Sex\": \"Unknown\", \"State\": \"New Mexico\", \"Perpetrator_Race\": \"Unknown\", \"Record_ID\": 21, \"Agency_Code\": 21, \"Agency_Name\": 21, \"Agency_Type\": 21, \"City\": 21, \"Year\": 21, \"Month\": 21, \"Incident\": 21, \"Crime_Type\": 21, \"Crime_Solved\": 21, \"Victim_Sex\": 21, \"Victim_Age\": 21, \"Victim_Race\": 21, \"Victim_Ethnicity\": 21, \"Perpetrator_Age\": 21, \"Perpetrator_Ethnicity\": 21, \"Relationship\": 21, \"Weapon\": 21, \"Victim_Count\": 21, \"Perpetrator_Count\": 21, \"Record_Source\": 21, \"State_Code\": 21, \"id\": 35}, {\"Perpetrator_Sex\": \"Unknown\", \"State\": \"New York\", \"Perpetrator_Race\": \"Unknown\", \"Record_ID\": 356, \"Agency_Code\": 356, \"Agency_Name\": 356, \"Agency_Type\": 356, \"City\": 356, \"Year\": 356, \"Month\": 356, \"Incident\": 356, \"Crime_Type\": 356, \"Crime_Solved\": 356, \"Victim_Sex\": 356, \"Victim_Age\": 356, \"Victim_Race\": 356, \"Victim_Ethnicity\": 356, \"Perpetrator_Age\": 356, \"Perpetrator_Ethnicity\": 356, \"Relationship\": 356, \"Weapon\": 356, \"Victim_Count\": 356, \"Perpetrator_Count\": 356, \"Record_Source\": 356, \"State_Code\": 356, \"id\": 36}, {\"Perpetrator_Sex\": \"Unknown\", \"State\": \"North Carolina\", \"Perpetrator_Race\": \"Unknown\", \"Record_ID\": 121, \"Agency_Code\": 121, \"Agency_Name\": 121, \"Agency_Type\": 121, \"City\": 121, \"Year\": 121, \"Month\": 121, \"Incident\": 121, \"Crime_Type\": 121, \"Crime_Solved\": 121, \"Victim_Sex\": 121, \"Victim_Age\": 121, \"Victim_Race\": 121, \"Victim_Ethnicity\": 121, \"Perpetrator_Age\": 121, \"Perpetrator_Ethnicity\": 121, \"Relationship\": 121, \"Weapon\": 121, \"Victim_Count\": 121, \"Perpetrator_Count\": 121, \"Record_Source\": 121, \"State_Code\": 121, \"id\": 37}, {\"Perpetrator_Sex\": \"Unknown\", \"State\": \"Ohio\", \"Perpetrator_Race\": \"Unknown\", \"Record_ID\": 144, \"Agency_Code\": 144, \"Agency_Name\": 144, \"Agency_Type\": 144, \"City\": 144, \"Year\": 144, \"Month\": 144, \"Incident\": 144, \"Crime_Type\": 144, \"Crime_Solved\": 144, \"Victim_Sex\": 144, \"Victim_Age\": 144, \"Victim_Race\": 144, \"Victim_Ethnicity\": 144, \"Perpetrator_Age\": 144, \"Perpetrator_Ethnicity\": 144, \"Relationship\": 144, \"Weapon\": 144, \"Victim_Count\": 144, \"Perpetrator_Count\": 144, \"Record_Source\": 144, \"State_Code\": 144, \"id\": 39}, {\"Perpetrator_Sex\": \"Unknown\", \"State\": \"Oklahoma\", \"Perpetrator_Race\": \"Unknown\", \"Record_ID\": 31, \"Agency_Code\": 31, \"Agency_Name\": 31, \"Agency_Type\": 31, \"City\": 31, \"Year\": 31, \"Month\": 31, \"Incident\": 31, \"Crime_Type\": 31, \"Crime_Solved\": 31, \"Victim_Sex\": 31, \"Victim_Age\": 31, \"Victim_Race\": 31, \"Victim_Ethnicity\": 31, \"Perpetrator_Age\": 31, \"Perpetrator_Ethnicity\": 31, \"Relationship\": 31, \"Weapon\": 31, \"Victim_Count\": 31, \"Perpetrator_Count\": 31, \"Record_Source\": 31, \"State_Code\": 31, \"id\": 40}, {\"Perpetrator_Sex\": \"Unknown\", \"State\": \"Oregon\", \"Perpetrator_Race\": \"Unknown\", \"Record_ID\": 6, \"Agency_Code\": 6, \"Agency_Name\": 6, \"Agency_Type\": 6, \"City\": 6, \"Year\": 6, \"Month\": 6, \"Incident\": 6, \"Crime_Type\": 6, \"Crime_Solved\": 6, \"Victim_Sex\": 6, \"Victim_Age\": 6, \"Victim_Race\": 6, \"Victim_Ethnicity\": 6, \"Perpetrator_Age\": 6, \"Perpetrator_Ethnicity\": 6, \"Relationship\": 6, \"Weapon\": 6, \"Victim_Count\": 6, \"Perpetrator_Count\": 6, \"Record_Source\": 6, \"State_Code\": 6, \"id\": 41}, {\"Perpetrator_Sex\": \"Unknown\", \"State\": \"Pennsylvania\", \"Perpetrator_Race\": \"Unknown\", \"Record_ID\": 143, \"Agency_Code\": 143, \"Agency_Name\": 143, \"Agency_Type\": 143, \"City\": 143, \"Year\": 143, \"Month\": 143, \"Incident\": 143, \"Crime_Type\": 143, \"Crime_Solved\": 143, \"Victim_Sex\": 143, \"Victim_Age\": 143, \"Victim_Race\": 143, \"Victim_Ethnicity\": 143, \"Perpetrator_Age\": 143, \"Perpetrator_Ethnicity\": 143, \"Relationship\": 143, \"Weapon\": 143, \"Victim_Count\": 143, \"Perpetrator_Count\": 143, \"Record_Source\": 143, \"State_Code\": 143, \"id\": 42}, {\"Perpetrator_Sex\": \"Unknown\", \"State\": \"Rhodes Island\", \"Perpetrator_Race\": \"Unknown\", \"Record_ID\": 9, \"Agency_Code\": 9, \"Agency_Name\": 9, \"Agency_Type\": 9, \"City\": 9, \"Year\": 9, \"Month\": 9, \"Incident\": 9, \"Crime_Type\": 9, \"Crime_Solved\": 9, \"Victim_Sex\": 9, \"Victim_Age\": 9, \"Victim_Race\": 9, \"Victim_Ethnicity\": 9, \"Perpetrator_Age\": 9, \"Perpetrator_Ethnicity\": 9, \"Relationship\": 9, \"Weapon\": 9, \"Victim_Count\": 9, \"Perpetrator_Count\": 9, \"Record_Source\": 9, \"State_Code\": 9, \"id\": \"Rhodes Island\"}, {\"Perpetrator_Sex\": \"Unknown\", \"State\": \"South Carolina\", \"Perpetrator_Race\": \"Unknown\", \"Record_ID\": 32, \"Agency_Code\": 32, \"Agency_Name\": 32, \"Agency_Type\": 32, \"City\": 32, \"Year\": 32, \"Month\": 32, \"Incident\": 32, \"Crime_Type\": 32, \"Crime_Solved\": 32, \"Victim_Sex\": 32, \"Victim_Age\": 32, \"Victim_Race\": 32, \"Victim_Ethnicity\": 32, \"Perpetrator_Age\": 32, \"Perpetrator_Ethnicity\": 32, \"Relationship\": 32, \"Weapon\": 32, \"Victim_Count\": 32, \"Perpetrator_Count\": 32, \"Record_Source\": 32, \"State_Code\": 32, \"id\": 45}, {\"Perpetrator_Sex\": \"Unknown\", \"State\": \"South Dakota\", \"Perpetrator_Race\": \"Unknown\", \"Record_ID\": 1, \"Agency_Code\": 1, \"Agency_Name\": 1, \"Agency_Type\": 1, \"City\": 1, \"Year\": 1, \"Month\": 1, \"Incident\": 1, \"Crime_Type\": 1, \"Crime_Solved\": 1, \"Victim_Sex\": 1, \"Victim_Age\": 1, \"Victim_Race\": 1, \"Victim_Ethnicity\": 1, \"Perpetrator_Age\": 1, \"Perpetrator_Ethnicity\": 1, \"Relationship\": 1, \"Weapon\": 1, \"Victim_Count\": 1, \"Perpetrator_Count\": 1, \"Record_Source\": 1, \"State_Code\": 1, \"id\": 46}, {\"Perpetrator_Sex\": \"Unknown\", \"State\": \"Tennessee\", \"Perpetrator_Race\": \"Unknown\", \"Record_ID\": 53, \"Agency_Code\": 53, \"Agency_Name\": 53, \"Agency_Type\": 53, \"City\": 53, \"Year\": 53, \"Month\": 53, \"Incident\": 53, \"Crime_Type\": 53, \"Crime_Solved\": 53, \"Victim_Sex\": 53, \"Victim_Age\": 53, \"Victim_Race\": 53, \"Victim_Ethnicity\": 53, \"Perpetrator_Age\": 53, \"Perpetrator_Ethnicity\": 53, \"Relationship\": 53, \"Weapon\": 53, \"Victim_Count\": 53, \"Perpetrator_Count\": 53, \"Record_Source\": 53, \"State_Code\": 53, \"id\": 47}, {\"Perpetrator_Sex\": \"Unknown\", \"State\": \"Texas\", \"Perpetrator_Race\": \"Unknown\", \"Record_ID\": 274, \"Agency_Code\": 274, \"Agency_Name\": 274, \"Agency_Type\": 274, \"City\": 274, \"Year\": 274, \"Month\": 274, \"Incident\": 274, \"Crime_Type\": 274, \"Crime_Solved\": 274, \"Victim_Sex\": 274, \"Victim_Age\": 274, \"Victim_Race\": 274, \"Victim_Ethnicity\": 274, \"Perpetrator_Age\": 274, \"Perpetrator_Ethnicity\": 274, \"Relationship\": 274, \"Weapon\": 274, \"Victim_Count\": 274, \"Perpetrator_Count\": 274, \"Record_Source\": 274, \"State_Code\": 274, \"id\": 48}, {\"Perpetrator_Sex\": \"Unknown\", \"State\": \"Utah\", \"Perpetrator_Race\": \"Unknown\", \"Record_ID\": 3, \"Agency_Code\": 3, \"Agency_Name\": 3, \"Agency_Type\": 3, \"City\": 3, \"Year\": 3, \"Month\": 3, \"Incident\": 3, \"Crime_Type\": 3, \"Crime_Solved\": 3, \"Victim_Sex\": 3, \"Victim_Age\": 3, \"Victim_Race\": 3, \"Victim_Ethnicity\": 3, \"Perpetrator_Age\": 3, \"Perpetrator_Ethnicity\": 3, \"Relationship\": 3, \"Weapon\": 3, \"Victim_Count\": 3, \"Perpetrator_Count\": 3, \"Record_Source\": 3, \"State_Code\": 3, \"id\": 49}, {\"Perpetrator_Sex\": \"Unknown\", \"State\": \"Virginia\", \"Perpetrator_Race\": \"Unknown\", \"Record_ID\": 61, \"Agency_Code\": 61, \"Agency_Name\": 61, \"Agency_Type\": 61, \"City\": 61, \"Year\": 61, \"Month\": 61, \"Incident\": 61, \"Crime_Type\": 61, \"Crime_Solved\": 61, \"Victim_Sex\": 61, \"Victim_Age\": 61, \"Victim_Race\": 61, \"Victim_Ethnicity\": 61, \"Perpetrator_Age\": 61, \"Perpetrator_Ethnicity\": 61, \"Relationship\": 61, \"Weapon\": 61, \"Victim_Count\": 61, \"Perpetrator_Count\": 61, \"Record_Source\": 61, \"State_Code\": 61, \"id\": 51}, {\"Perpetrator_Sex\": \"Unknown\", \"State\": \"Washington\", \"Perpetrator_Race\": \"Unknown\", \"Record_ID\": 31, \"Agency_Code\": 31, \"Agency_Name\": 31, \"Agency_Type\": 31, \"City\": 31, \"Year\": 31, \"Month\": 31, \"Incident\": 31, \"Crime_Type\": 31, \"Crime_Solved\": 31, \"Victim_Sex\": 31, \"Victim_Age\": 31, \"Victim_Race\": 31, \"Victim_Ethnicity\": 31, \"Perpetrator_Age\": 31, \"Perpetrator_Ethnicity\": 31, \"Relationship\": 31, \"Weapon\": 31, \"Victim_Count\": 31, \"Perpetrator_Count\": 31, \"Record_Source\": 31, \"State_Code\": 31, \"id\": 53}, {\"Perpetrator_Sex\": \"Unknown\", \"State\": \"West Virginia\", \"Perpetrator_Race\": \"Unknown\", \"Record_ID\": 7, \"Agency_Code\": 7, \"Agency_Name\": 7, \"Agency_Type\": 7, \"City\": 7, \"Year\": 7, \"Month\": 7, \"Incident\": 7, \"Crime_Type\": 7, \"Crime_Solved\": 7, \"Victim_Sex\": 7, \"Victim_Age\": 7, \"Victim_Race\": 7, \"Victim_Ethnicity\": 7, \"Perpetrator_Age\": 7, \"Perpetrator_Ethnicity\": 7, \"Relationship\": 7, \"Weapon\": 7, \"Victim_Count\": 7, \"Perpetrator_Count\": 7, \"Record_Source\": 7, \"State_Code\": 7, \"id\": 54}, {\"Perpetrator_Sex\": \"Unknown\", \"State\": \"Wisconsin\", \"Perpetrator_Race\": \"Unknown\", \"Record_ID\": 15, \"Agency_Code\": 15, \"Agency_Name\": 15, \"Agency_Type\": 15, \"City\": 15, \"Year\": 15, \"Month\": 15, \"Incident\": 15, \"Crime_Type\": 15, \"Crime_Solved\": 15, \"Victim_Sex\": 15, \"Victim_Age\": 15, \"Victim_Race\": 15, \"Victim_Ethnicity\": 15, \"Perpetrator_Age\": 15, \"Perpetrator_Ethnicity\": 15, \"Relationship\": 15, \"Weapon\": 15, \"Victim_Count\": 15, \"Perpetrator_Count\": 15, \"Record_Source\": 15, \"State_Code\": 15, \"id\": 55}, {\"Perpetrator_Sex\": \"Female\", \"State\": \"Alabama\", \"Perpetrator_Race\": \"White\", \"Record_ID\": 11, \"Agency_Code\": 11, \"Agency_Name\": 11, \"Agency_Type\": 11, \"City\": 11, \"Year\": 11, \"Month\": 11, \"Incident\": 11, \"Crime_Type\": 11, \"Crime_Solved\": 11, \"Victim_Sex\": 11, \"Victim_Age\": 11, \"Victim_Race\": 11, \"Victim_Ethnicity\": 11, \"Perpetrator_Age\": 11, \"Perpetrator_Ethnicity\": 11, \"Relationship\": 11, \"Weapon\": 11, \"Victim_Count\": 11, \"Perpetrator_Count\": 11, \"Record_Source\": 11, \"State_Code\": 11, \"id\": 1}, {\"Perpetrator_Sex\": \"Female\", \"State\": \"Alaska\", \"Perpetrator_Race\": \"White\", \"Record_ID\": 3, \"Agency_Code\": 3, \"Agency_Name\": 3, \"Agency_Type\": 3, \"City\": 3, \"Year\": 3, \"Month\": 3, \"Incident\": 3, \"Crime_Type\": 3, \"Crime_Solved\": 3, \"Victim_Sex\": 3, \"Victim_Age\": 3, \"Victim_Race\": 3, \"Victim_Ethnicity\": 3, \"Perpetrator_Age\": 3, \"Perpetrator_Ethnicity\": 3, \"Relationship\": 3, \"Weapon\": 3, \"Victim_Count\": 3, \"Perpetrator_Count\": 3, \"Record_Source\": 3, \"State_Code\": 3, \"id\": 2}, {\"Perpetrator_Sex\": \"Female\", \"State\": \"Arizona\", \"Perpetrator_Race\": \"White\", \"Record_ID\": 19, \"Agency_Code\": 19, \"Agency_Name\": 19, \"Agency_Type\": 19, \"City\": 19, \"Year\": 19, \"Month\": 19, \"Incident\": 19, \"Crime_Type\": 19, \"Crime_Solved\": 19, \"Victim_Sex\": 19, \"Victim_Age\": 19, \"Victim_Race\": 19, \"Victim_Ethnicity\": 19, \"Perpetrator_Age\": 19, \"Perpetrator_Ethnicity\": 19, \"Relationship\": 19, \"Weapon\": 19, \"Victim_Count\": 19, \"Perpetrator_Count\": 19, \"Record_Source\": 19, \"State_Code\": 19, \"id\": 4}, {\"Perpetrator_Sex\": \"Female\", \"State\": \"Arkansas\", \"Perpetrator_Race\": \"White\", \"Record_ID\": 7, \"Agency_Code\": 7, \"Agency_Name\": 7, \"Agency_Type\": 7, \"City\": 7, \"Year\": 7, \"Month\": 7, \"Incident\": 7, \"Crime_Type\": 7, \"Crime_Solved\": 7, \"Victim_Sex\": 7, \"Victim_Age\": 7, \"Victim_Race\": 7, \"Victim_Ethnicity\": 7, \"Perpetrator_Age\": 7, \"Perpetrator_Ethnicity\": 7, \"Relationship\": 7, \"Weapon\": 7, \"Victim_Count\": 7, \"Perpetrator_Count\": 7, \"Record_Source\": 7, \"State_Code\": 7, \"id\": 5}, {\"Perpetrator_Sex\": \"Female\", \"State\": \"California\", \"Perpetrator_Race\": \"White\", \"Record_ID\": 63, \"Agency_Code\": 63, \"Agency_Name\": 63, \"Agency_Type\": 63, \"City\": 63, \"Year\": 63, \"Month\": 63, \"Incident\": 63, \"Crime_Type\": 63, \"Crime_Solved\": 63, \"Victim_Sex\": 63, \"Victim_Age\": 63, \"Victim_Race\": 63, \"Victim_Ethnicity\": 63, \"Perpetrator_Age\": 63, \"Perpetrator_Ethnicity\": 63, \"Relationship\": 63, \"Weapon\": 63, \"Victim_Count\": 63, \"Perpetrator_Count\": 63, \"Record_Source\": 63, \"State_Code\": 63, \"id\": 6}, {\"Perpetrator_Sex\": \"Female\", \"State\": \"Colorado\", \"Perpetrator_Race\": \"White\", \"Record_ID\": 13, \"Agency_Code\": 13, \"Agency_Name\": 13, \"Agency_Type\": 13, \"City\": 13, \"Year\": 13, \"Month\": 13, \"Incident\": 13, \"Crime_Type\": 13, \"Crime_Solved\": 13, \"Victim_Sex\": 13, \"Victim_Age\": 13, \"Victim_Race\": 13, \"Victim_Ethnicity\": 13, \"Perpetrator_Age\": 13, \"Perpetrator_Ethnicity\": 13, \"Relationship\": 13, \"Weapon\": 13, \"Victim_Count\": 13, \"Perpetrator_Count\": 13, \"Record_Source\": 13, \"State_Code\": 13, \"id\": 8}, {\"Perpetrator_Sex\": \"Female\", \"State\": \"Connecticut\", \"Perpetrator_Race\": \"White\", \"Record_ID\": 3, \"Agency_Code\": 3, \"Agency_Name\": 3, \"Agency_Type\": 3, \"City\": 3, \"Year\": 3, \"Month\": 3, \"Incident\": 3, \"Crime_Type\": 3, \"Crime_Solved\": 3, \"Victim_Sex\": 3, \"Victim_Age\": 3, \"Victim_Race\": 3, \"Victim_Ethnicity\": 3, \"Perpetrator_Age\": 3, \"Perpetrator_Ethnicity\": 3, \"Relationship\": 3, \"Weapon\": 3, \"Victim_Count\": 3, \"Perpetrator_Count\": 3, \"Record_Source\": 3, \"State_Code\": 3, \"id\": 9}, {\"Perpetrator_Sex\": \"Female\", \"State\": \"Florida\", \"Perpetrator_Race\": \"White\", \"Record_ID\": 49, \"Agency_Code\": 49, \"Agency_Name\": 49, \"Agency_Type\": 49, \"City\": 49, \"Year\": 49, \"Month\": 49, \"Incident\": 49, \"Crime_Type\": 49, \"Crime_Solved\": 49, \"Victim_Sex\": 49, \"Victim_Age\": 49, \"Victim_Race\": 49, \"Victim_Ethnicity\": 49, \"Perpetrator_Age\": 49, \"Perpetrator_Ethnicity\": 49, \"Relationship\": 49, \"Weapon\": 49, \"Victim_Count\": 49, \"Perpetrator_Count\": 49, \"Record_Source\": 49, \"State_Code\": 49, \"id\": 12}, {\"Perpetrator_Sex\": \"Female\", \"State\": \"Georgia\", \"Perpetrator_Race\": \"White\", \"Record_ID\": 10, \"Agency_Code\": 10, \"Agency_Name\": 10, \"Agency_Type\": 10, \"City\": 10, \"Year\": 10, \"Month\": 10, \"Incident\": 10, \"Crime_Type\": 10, \"Crime_Solved\": 10, \"Victim_Sex\": 10, \"Victim_Age\": 10, \"Victim_Race\": 10, \"Victim_Ethnicity\": 10, \"Perpetrator_Age\": 10, \"Perpetrator_Ethnicity\": 10, \"Relationship\": 10, \"Weapon\": 10, \"Victim_Count\": 10, \"Perpetrator_Count\": 10, \"Record_Source\": 10, \"State_Code\": 10, \"id\": 13}, {\"Perpetrator_Sex\": \"Female\", \"State\": \"Hawaii\", \"Perpetrator_Race\": \"White\", \"Record_ID\": 1, \"Agency_Code\": 1, \"Agency_Name\": 1, \"Agency_Type\": 1, \"City\": 1, \"Year\": 1, \"Month\": 1, \"Incident\": 1, \"Crime_Type\": 1, \"Crime_Solved\": 1, \"Victim_Sex\": 1, \"Victim_Age\": 1, \"Victim_Race\": 1, \"Victim_Ethnicity\": 1, \"Perpetrator_Age\": 1, \"Perpetrator_Ethnicity\": 1, \"Relationship\": 1, \"Weapon\": 1, \"Victim_Count\": 1, \"Perpetrator_Count\": 1, \"Record_Source\": 1, \"State_Code\": 1, \"id\": 15}, {\"Perpetrator_Sex\": \"Female\", \"State\": \"Idaho\", \"Perpetrator_Race\": \"White\", \"Record_ID\": 2, \"Agency_Code\": 2, \"Agency_Name\": 2, \"Agency_Type\": 2, \"City\": 2, \"Year\": 2, \"Month\": 2, \"Incident\": 2, \"Crime_Type\": 2, \"Crime_Solved\": 2, \"Victim_Sex\": 2, \"Victim_Age\": 2, \"Victim_Race\": 2, \"Victim_Ethnicity\": 2, \"Perpetrator_Age\": 2, \"Perpetrator_Ethnicity\": 2, \"Relationship\": 2, \"Weapon\": 2, \"Victim_Count\": 2, \"Perpetrator_Count\": 2, \"Record_Source\": 2, \"State_Code\": 2, \"id\": 16}, {\"Perpetrator_Sex\": \"Female\", \"State\": \"Illinois\", \"Perpetrator_Race\": \"White\", \"Record_ID\": 3, \"Agency_Code\": 3, \"Agency_Name\": 3, \"Agency_Type\": 3, \"City\": 3, \"Year\": 3, \"Month\": 3, \"Incident\": 3, \"Crime_Type\": 3, \"Crime_Solved\": 3, \"Victim_Sex\": 3, \"Victim_Age\": 3, \"Victim_Race\": 3, \"Victim_Ethnicity\": 3, \"Perpetrator_Age\": 3, \"Perpetrator_Ethnicity\": 3, \"Relationship\": 3, \"Weapon\": 3, \"Victim_Count\": 3, \"Perpetrator_Count\": 3, \"Record_Source\": 3, \"State_Code\": 3, \"id\": 17}, {\"Perpetrator_Sex\": \"Female\", \"State\": \"Indiana\", \"Perpetrator_Race\": \"White\", \"Record_ID\": 6, \"Agency_Code\": 6, \"Agency_Name\": 6, \"Agency_Type\": 6, \"City\": 6, \"Year\": 6, \"Month\": 6, \"Incident\": 6, \"Crime_Type\": 6, \"Crime_Solved\": 6, \"Victim_Sex\": 6, \"Victim_Age\": 6, \"Victim_Race\": 6, \"Victim_Ethnicity\": 6, \"Perpetrator_Age\": 6, \"Perpetrator_Ethnicity\": 6, \"Relationship\": 6, \"Weapon\": 6, \"Victim_Count\": 6, \"Perpetrator_Count\": 6, \"Record_Source\": 6, \"State_Code\": 6, \"id\": 18}, {\"Perpetrator_Sex\": \"Female\", \"State\": \"Iowa\", \"Perpetrator_Race\": \"White\", \"Record_ID\": 2, \"Agency_Code\": 2, \"Agency_Name\": 2, \"Agency_Type\": 2, \"City\": 2, \"Year\": 2, \"Month\": 2, \"Incident\": 2, \"Crime_Type\": 2, \"Crime_Solved\": 2, \"Victim_Sex\": 2, \"Victim_Age\": 2, \"Victim_Race\": 2, \"Victim_Ethnicity\": 2, \"Perpetrator_Age\": 2, \"Perpetrator_Ethnicity\": 2, \"Relationship\": 2, \"Weapon\": 2, \"Victim_Count\": 2, \"Perpetrator_Count\": 2, \"Record_Source\": 2, \"State_Code\": 2, \"id\": 19}, {\"Perpetrator_Sex\": \"Female\", \"State\": \"Kansas\", \"Perpetrator_Race\": \"White\", \"Record_ID\": 8, \"Agency_Code\": 8, \"Agency_Name\": 8, \"Agency_Type\": 8, \"City\": 8, \"Year\": 8, \"Month\": 8, \"Incident\": 8, \"Crime_Type\": 8, \"Crime_Solved\": 8, \"Victim_Sex\": 8, \"Victim_Age\": 8, \"Victim_Race\": 8, \"Victim_Ethnicity\": 8, \"Perpetrator_Age\": 8, \"Perpetrator_Ethnicity\": 8, \"Relationship\": 8, \"Weapon\": 8, \"Victim_Count\": 8, \"Perpetrator_Count\": 8, \"Record_Source\": 8, \"State_Code\": 8, \"id\": 20}, {\"Perpetrator_Sex\": \"Female\", \"State\": \"Kentucky\", \"Perpetrator_Race\": \"White\", \"Record_ID\": 15, \"Agency_Code\": 15, \"Agency_Name\": 15, \"Agency_Type\": 15, \"City\": 15, \"Year\": 15, \"Month\": 15, \"Incident\": 15, \"Crime_Type\": 15, \"Crime_Solved\": 15, \"Victim_Sex\": 15, \"Victim_Age\": 15, \"Victim_Race\": 15, \"Victim_Ethnicity\": 15, \"Perpetrator_Age\": 15, \"Perpetrator_Ethnicity\": 15, \"Relationship\": 15, \"Weapon\": 15, \"Victim_Count\": 15, \"Perpetrator_Count\": 15, \"Record_Source\": 15, \"State_Code\": 15, \"id\": 21}, {\"Perpetrator_Sex\": \"Female\", \"State\": \"Louisiana\", \"Perpetrator_Race\": \"White\", \"Record_ID\": 7, \"Agency_Code\": 7, \"Agency_Name\": 7, \"Agency_Type\": 7, \"City\": 7, \"Year\": 7, \"Month\": 7, \"Incident\": 7, \"Crime_Type\": 7, \"Crime_Solved\": 7, \"Victim_Sex\": 7, \"Victim_Age\": 7, \"Victim_Race\": 7, \"Victim_Ethnicity\": 7, \"Perpetrator_Age\": 7, \"Perpetrator_Ethnicity\": 7, \"Relationship\": 7, \"Weapon\": 7, \"Victim_Count\": 7, \"Perpetrator_Count\": 7, \"Record_Source\": 7, \"State_Code\": 7, \"id\": 22}, {\"Perpetrator_Sex\": \"Female\", \"State\": \"Maryland\", \"Perpetrator_Race\": \"White\", \"Record_ID\": 4, \"Agency_Code\": 4, \"Agency_Name\": 4, \"Agency_Type\": 4, \"City\": 4, \"Year\": 4, \"Month\": 4, \"Incident\": 4, \"Crime_Type\": 4, \"Crime_Solved\": 4, \"Victim_Sex\": 4, \"Victim_Age\": 4, \"Victim_Race\": 4, \"Victim_Ethnicity\": 4, \"Perpetrator_Age\": 4, \"Perpetrator_Ethnicity\": 4, \"Relationship\": 4, \"Weapon\": 4, \"Victim_Count\": 4, \"Perpetrator_Count\": 4, \"Record_Source\": 4, \"State_Code\": 4, \"id\": 24}, {\"Perpetrator_Sex\": \"Female\", \"State\": \"Massachusetts\", \"Perpetrator_Race\": \"White\", \"Record_ID\": 7, \"Agency_Code\": 7, \"Agency_Name\": 7, \"Agency_Type\": 7, \"City\": 7, \"Year\": 7, \"Month\": 7, \"Incident\": 7, \"Crime_Type\": 7, \"Crime_Solved\": 7, \"Victim_Sex\": 7, \"Victim_Age\": 7, \"Victim_Race\": 7, \"Victim_Ethnicity\": 7, \"Perpetrator_Age\": 7, \"Perpetrator_Ethnicity\": 7, \"Relationship\": 7, \"Weapon\": 7, \"Victim_Count\": 7, \"Perpetrator_Count\": 7, \"Record_Source\": 7, \"State_Code\": 7, \"id\": 25}, {\"Perpetrator_Sex\": \"Female\", \"State\": \"Michigan\", \"Perpetrator_Race\": \"White\", \"Record_ID\": 23, \"Agency_Code\": 23, \"Agency_Name\": 23, \"Agency_Type\": 23, \"City\": 23, \"Year\": 23, \"Month\": 23, \"Incident\": 23, \"Crime_Type\": 23, \"Crime_Solved\": 23, \"Victim_Sex\": 23, \"Victim_Age\": 23, \"Victim_Race\": 23, \"Victim_Ethnicity\": 23, \"Perpetrator_Age\": 23, \"Perpetrator_Ethnicity\": 23, \"Relationship\": 23, \"Weapon\": 23, \"Victim_Count\": 23, \"Perpetrator_Count\": 23, \"Record_Source\": 23, \"State_Code\": 23, \"id\": 26}, {\"Perpetrator_Sex\": \"Female\", \"State\": \"Minnesota\", \"Perpetrator_Race\": \"White\", \"Record_ID\": 2, \"Agency_Code\": 2, \"Agency_Name\": 2, \"Agency_Type\": 2, \"City\": 2, \"Year\": 2, \"Month\": 2, \"Incident\": 2, \"Crime_Type\": 2, \"Crime_Solved\": 2, \"Victim_Sex\": 2, \"Victim_Age\": 2, \"Victim_Race\": 2, \"Victim_Ethnicity\": 2, \"Perpetrator_Age\": 2, \"Perpetrator_Ethnicity\": 2, \"Relationship\": 2, \"Weapon\": 2, \"Victim_Count\": 2, \"Perpetrator_Count\": 2, \"Record_Source\": 2, \"State_Code\": 2, \"id\": 27}, {\"Perpetrator_Sex\": \"Female\", \"State\": \"Mississippi\", \"Perpetrator_Race\": \"White\", \"Record_ID\": 5, \"Agency_Code\": 5, \"Agency_Name\": 5, \"Agency_Type\": 5, \"City\": 5, \"Year\": 5, \"Month\": 5, \"Incident\": 5, \"Crime_Type\": 5, \"Crime_Solved\": 5, \"Victim_Sex\": 5, \"Victim_Age\": 5, \"Victim_Race\": 5, \"Victim_Ethnicity\": 5, \"Perpetrator_Age\": 5, \"Perpetrator_Ethnicity\": 5, \"Relationship\": 5, \"Weapon\": 5, \"Victim_Count\": 5, \"Perpetrator_Count\": 5, \"Record_Source\": 5, \"State_Code\": 5, \"id\": 28}, {\"Perpetrator_Sex\": \"Female\", \"State\": \"Missouri\", \"Perpetrator_Race\": \"White\", \"Record_ID\": 17, \"Agency_Code\": 17, \"Agency_Name\": 17, \"Agency_Type\": 17, \"City\": 17, \"Year\": 17, \"Month\": 17, \"Incident\": 17, \"Crime_Type\": 17, \"Crime_Solved\": 17, \"Victim_Sex\": 17, \"Victim_Age\": 17, \"Victim_Race\": 17, \"Victim_Ethnicity\": 17, \"Perpetrator_Age\": 17, \"Perpetrator_Ethnicity\": 17, \"Relationship\": 17, \"Weapon\": 17, \"Victim_Count\": 17, \"Perpetrator_Count\": 17, \"Record_Source\": 17, \"State_Code\": 17, \"id\": 29}, {\"Perpetrator_Sex\": \"Female\", \"State\": \"Montana\", \"Perpetrator_Race\": \"White\", \"Record_ID\": 3, \"Agency_Code\": 3, \"Agency_Name\": 3, \"Agency_Type\": 3, \"City\": 3, \"Year\": 3, \"Month\": 3, \"Incident\": 3, \"Crime_Type\": 3, \"Crime_Solved\": 3, \"Victim_Sex\": 3, \"Victim_Age\": 3, \"Victim_Race\": 3, \"Victim_Ethnicity\": 3, \"Perpetrator_Age\": 3, \"Perpetrator_Ethnicity\": 3, \"Relationship\": 3, \"Weapon\": 3, \"Victim_Count\": 3, \"Perpetrator_Count\": 3, \"Record_Source\": 3, \"State_Code\": 3, \"id\": 30}, {\"Perpetrator_Sex\": \"Female\", \"State\": \"Nebraska\", \"Perpetrator_Race\": \"White\", \"Record_ID\": 3, \"Agency_Code\": 3, \"Agency_Name\": 3, \"Agency_Type\": 3, \"City\": 3, \"Year\": 3, \"Month\": 3, \"Incident\": 3, \"Crime_Type\": 3, \"Crime_Solved\": 3, \"Victim_Sex\": 3, \"Victim_Age\": 3, \"Victim_Race\": 3, \"Victim_Ethnicity\": 3, \"Perpetrator_Age\": 3, \"Perpetrator_Ethnicity\": 3, \"Relationship\": 3, \"Weapon\": 3, \"Victim_Count\": 3, \"Perpetrator_Count\": 3, \"Record_Source\": 3, \"State_Code\": 3, \"id\": 31}, {\"Perpetrator_Sex\": \"Female\", \"State\": \"Nevada\", \"Perpetrator_Race\": \"White\", \"Record_ID\": 7, \"Agency_Code\": 7, \"Agency_Name\": 7, \"Agency_Type\": 7, \"City\": 7, \"Year\": 7, \"Month\": 7, \"Incident\": 7, \"Crime_Type\": 7, \"Crime_Solved\": 7, \"Victim_Sex\": 7, \"Victim_Age\": 7, \"Victim_Race\": 7, \"Victim_Ethnicity\": 7, \"Perpetrator_Age\": 7, \"Perpetrator_Ethnicity\": 7, \"Relationship\": 7, \"Weapon\": 7, \"Victim_Count\": 7, \"Perpetrator_Count\": 7, \"Record_Source\": 7, \"State_Code\": 7, \"id\": 32}, {\"Perpetrator_Sex\": \"Female\", \"State\": \"New Hampshire\", \"Perpetrator_Race\": \"White\", \"Record_ID\": 2, \"Agency_Code\": 2, \"Agency_Name\": 2, \"Agency_Type\": 2, \"City\": 2, \"Year\": 2, \"Month\": 2, \"Incident\": 2, \"Crime_Type\": 2, \"Crime_Solved\": 2, \"Victim_Sex\": 2, \"Victim_Age\": 2, \"Victim_Race\": 2, \"Victim_Ethnicity\": 2, \"Perpetrator_Age\": 2, \"Perpetrator_Ethnicity\": 2, \"Relationship\": 2, \"Weapon\": 2, \"Victim_Count\": 2, \"Perpetrator_Count\": 2, \"Record_Source\": 2, \"State_Code\": 2, \"id\": 33}, {\"Perpetrator_Sex\": \"Female\", \"State\": \"New Jersey\", \"Perpetrator_Race\": \"White\", \"Record_ID\": 7, \"Agency_Code\": 7, \"Agency_Name\": 7, \"Agency_Type\": 7, \"City\": 7, \"Year\": 7, \"Month\": 7, \"Incident\": 7, \"Crime_Type\": 7, \"Crime_Solved\": 7, \"Victim_Sex\": 7, \"Victim_Age\": 7, \"Victim_Race\": 7, \"Victim_Ethnicity\": 7, \"Perpetrator_Age\": 7, \"Perpetrator_Ethnicity\": 7, \"Relationship\": 7, \"Weapon\": 7, \"Victim_Count\": 7, \"Perpetrator_Count\": 7, \"Record_Source\": 7, \"State_Code\": 7, \"id\": 34}, {\"Perpetrator_Sex\": \"Female\", \"State\": \"New Mexico\", \"Perpetrator_Race\": \"White\", \"Record_ID\": 12, \"Agency_Code\": 12, \"Agency_Name\": 12, \"Agency_Type\": 12, \"City\": 12, \"Year\": 12, \"Month\": 12, \"Incident\": 12, \"Crime_Type\": 12, \"Crime_Solved\": 12, \"Victim_Sex\": 12, \"Victim_Age\": 12, \"Victim_Race\": 12, \"Victim_Ethnicity\": 12, \"Perpetrator_Age\": 12, \"Perpetrator_Ethnicity\": 12, \"Relationship\": 12, \"Weapon\": 12, \"Victim_Count\": 12, \"Perpetrator_Count\": 12, \"Record_Source\": 12, \"State_Code\": 12, \"id\": 35}, {\"Perpetrator_Sex\": \"Female\", \"State\": \"New York\", \"Perpetrator_Race\": \"White\", \"Record_ID\": 13, \"Agency_Code\": 13, \"Agency_Name\": 13, \"Agency_Type\": 13, \"City\": 13, \"Year\": 13, \"Month\": 13, \"Incident\": 13, \"Crime_Type\": 13, \"Crime_Solved\": 13, \"Victim_Sex\": 13, \"Victim_Age\": 13, \"Victim_Race\": 13, \"Victim_Ethnicity\": 13, \"Perpetrator_Age\": 13, \"Perpetrator_Ethnicity\": 13, \"Relationship\": 13, \"Weapon\": 13, \"Victim_Count\": 13, \"Perpetrator_Count\": 13, \"Record_Source\": 13, \"State_Code\": 13, \"id\": 36}, {\"Perpetrator_Sex\": \"Female\", \"State\": \"North Carolina\", \"Perpetrator_Race\": \"White\", \"Record_ID\": 12, \"Agency_Code\": 12, \"Agency_Name\": 12, \"Agency_Type\": 12, \"City\": 12, \"Year\": 12, \"Month\": 12, \"Incident\": 12, \"Crime_Type\": 12, \"Crime_Solved\": 12, \"Victim_Sex\": 12, \"Victim_Age\": 12, \"Victim_Race\": 12, \"Victim_Ethnicity\": 12, \"Perpetrator_Age\": 12, \"Perpetrator_Ethnicity\": 12, \"Relationship\": 12, \"Weapon\": 12, \"Victim_Count\": 12, \"Perpetrator_Count\": 12, \"Record_Source\": 12, \"State_Code\": 12, \"id\": 37}, {\"Perpetrator_Sex\": \"Female\", \"State\": \"Ohio\", \"Perpetrator_Race\": \"White\", \"Record_ID\": 5, \"Agency_Code\": 5, \"Agency_Name\": 5, \"Agency_Type\": 5, \"City\": 5, \"Year\": 5, \"Month\": 5, \"Incident\": 5, \"Crime_Type\": 5, \"Crime_Solved\": 5, \"Victim_Sex\": 5, \"Victim_Age\": 5, \"Victim_Race\": 5, \"Victim_Ethnicity\": 5, \"Perpetrator_Age\": 5, \"Perpetrator_Ethnicity\": 5, \"Relationship\": 5, \"Weapon\": 5, \"Victim_Count\": 5, \"Perpetrator_Count\": 5, \"Record_Source\": 5, \"State_Code\": 5, \"id\": 39}, {\"Perpetrator_Sex\": \"Female\", \"State\": \"Oklahoma\", \"Perpetrator_Race\": \"White\", \"Record_ID\": 17, \"Agency_Code\": 17, \"Agency_Name\": 17, \"Agency_Type\": 17, \"City\": 17, \"Year\": 17, \"Month\": 17, \"Incident\": 17, \"Crime_Type\": 17, \"Crime_Solved\": 17, \"Victim_Sex\": 17, \"Victim_Age\": 17, \"Victim_Race\": 17, \"Victim_Ethnicity\": 17, \"Perpetrator_Age\": 17, \"Perpetrator_Ethnicity\": 17, \"Relationship\": 17, \"Weapon\": 17, \"Victim_Count\": 17, \"Perpetrator_Count\": 17, \"Record_Source\": 17, \"State_Code\": 17, \"id\": 40}, {\"Perpetrator_Sex\": \"Female\", \"State\": \"Oregon\", \"Perpetrator_Race\": \"White\", \"Record_ID\": 6, \"Agency_Code\": 6, \"Agency_Name\": 6, \"Agency_Type\": 6, \"City\": 6, \"Year\": 6, \"Month\": 6, \"Incident\": 6, \"Crime_Type\": 6, \"Crime_Solved\": 6, \"Victim_Sex\": 6, \"Victim_Age\": 6, \"Victim_Race\": 6, \"Victim_Ethnicity\": 6, \"Perpetrator_Age\": 6, \"Perpetrator_Ethnicity\": 6, \"Relationship\": 6, \"Weapon\": 6, \"Victim_Count\": 6, \"Perpetrator_Count\": 6, \"Record_Source\": 6, \"State_Code\": 6, \"id\": 41}, {\"Perpetrator_Sex\": \"Female\", \"State\": \"Pennsylvania\", \"Perpetrator_Race\": \"White\", \"Record_ID\": 24, \"Agency_Code\": 24, \"Agency_Name\": 24, \"Agency_Type\": 24, \"City\": 24, \"Year\": 24, \"Month\": 24, \"Incident\": 24, \"Crime_Type\": 24, \"Crime_Solved\": 24, \"Victim_Sex\": 24, \"Victim_Age\": 24, \"Victim_Race\": 24, \"Victim_Ethnicity\": 24, \"Perpetrator_Age\": 24, \"Perpetrator_Ethnicity\": 24, \"Relationship\": 24, \"Weapon\": 24, \"Victim_Count\": 24, \"Perpetrator_Count\": 24, \"Record_Source\": 24, \"State_Code\": 24, \"id\": 42}, {\"Perpetrator_Sex\": \"Female\", \"State\": \"Rhodes Island\", \"Perpetrator_Race\": \"White\", \"Record_ID\": 1, \"Agency_Code\": 1, \"Agency_Name\": 1, \"Agency_Type\": 1, \"City\": 1, \"Year\": 1, \"Month\": 1, \"Incident\": 1, \"Crime_Type\": 1, \"Crime_Solved\": 1, \"Victim_Sex\": 1, \"Victim_Age\": 1, \"Victim_Race\": 1, \"Victim_Ethnicity\": 1, \"Perpetrator_Age\": 1, \"Perpetrator_Ethnicity\": 1, \"Relationship\": 1, \"Weapon\": 1, \"Victim_Count\": 1, \"Perpetrator_Count\": 1, \"Record_Source\": 1, \"State_Code\": 1, \"id\": \"Rhodes Island\"}, {\"Perpetrator_Sex\": \"Female\", \"State\": \"South Carolina\", \"Perpetrator_Race\": \"White\", \"Record_ID\": 12, \"Agency_Code\": 12, \"Agency_Name\": 12, \"Agency_Type\": 12, \"City\": 12, \"Year\": 12, \"Month\": 12, \"Incident\": 12, \"Crime_Type\": 12, \"Crime_Solved\": 12, \"Victim_Sex\": 12, \"Victim_Age\": 12, \"Victim_Race\": 12, \"Victim_Ethnicity\": 12, \"Perpetrator_Age\": 12, \"Perpetrator_Ethnicity\": 12, \"Relationship\": 12, \"Weapon\": 12, \"Victim_Count\": 12, \"Perpetrator_Count\": 12, \"Record_Source\": 12, \"State_Code\": 12, \"id\": 45}, {\"Perpetrator_Sex\": \"Female\", \"State\": \"South Dakota\", \"Perpetrator_Race\": \"White\", \"Record_ID\": 4, \"Agency_Code\": 4, \"Agency_Name\": 4, \"Agency_Type\": 4, \"City\": 4, \"Year\": 4, \"Month\": 4, \"Incident\": 4, \"Crime_Type\": 4, \"Crime_Solved\": 4, \"Victim_Sex\": 4, \"Victim_Age\": 4, \"Victim_Race\": 4, \"Victim_Ethnicity\": 4, \"Perpetrator_Age\": 4, \"Perpetrator_Ethnicity\": 4, \"Relationship\": 4, \"Weapon\": 4, \"Victim_Count\": 4, \"Perpetrator_Count\": 4, \"Record_Source\": 4, \"State_Code\": 4, \"id\": 46}, {\"Perpetrator_Sex\": \"Female\", \"State\": \"Tennessee\", \"Perpetrator_Race\": \"White\", \"Record_ID\": 22, \"Agency_Code\": 22, \"Agency_Name\": 22, \"Agency_Type\": 22, \"City\": 22, \"Year\": 22, \"Month\": 22, \"Incident\": 22, \"Crime_Type\": 22, \"Crime_Solved\": 22, \"Victim_Sex\": 22, \"Victim_Age\": 22, \"Victim_Race\": 22, \"Victim_Ethnicity\": 22, \"Perpetrator_Age\": 22, \"Perpetrator_Ethnicity\": 22, \"Relationship\": 22, \"Weapon\": 22, \"Victim_Count\": 22, \"Perpetrator_Count\": 22, \"Record_Source\": 22, \"State_Code\": 22, \"id\": 47}, {\"Perpetrator_Sex\": \"Female\", \"State\": \"Texas\", \"Perpetrator_Race\": \"White\", \"Record_ID\": 58, \"Agency_Code\": 58, \"Agency_Name\": 58, \"Agency_Type\": 58, \"City\": 58, \"Year\": 58, \"Month\": 58, \"Incident\": 58, \"Crime_Type\": 58, \"Crime_Solved\": 58, \"Victim_Sex\": 58, \"Victim_Age\": 58, \"Victim_Race\": 58, \"Victim_Ethnicity\": 58, \"Perpetrator_Age\": 58, \"Perpetrator_Ethnicity\": 58, \"Relationship\": 58, \"Weapon\": 58, \"Victim_Count\": 58, \"Perpetrator_Count\": 58, \"Record_Source\": 58, \"State_Code\": 58, \"id\": 48}, {\"Perpetrator_Sex\": \"Female\", \"State\": \"Utah\", \"Perpetrator_Race\": \"White\", \"Record_ID\": 5, \"Agency_Code\": 5, \"Agency_Name\": 5, \"Agency_Type\": 5, \"City\": 5, \"Year\": 5, \"Month\": 5, \"Incident\": 5, \"Crime_Type\": 5, \"Crime_Solved\": 5, \"Victim_Sex\": 5, \"Victim_Age\": 5, \"Victim_Race\": 5, \"Victim_Ethnicity\": 5, \"Perpetrator_Age\": 5, \"Perpetrator_Ethnicity\": 5, \"Relationship\": 5, \"Weapon\": 5, \"Victim_Count\": 5, \"Perpetrator_Count\": 5, \"Record_Source\": 5, \"State_Code\": 5, \"id\": 49}, {\"Perpetrator_Sex\": \"Female\", \"State\": \"Vermont\", \"Perpetrator_Race\": \"White\", \"Record_ID\": 1, \"Agency_Code\": 1, \"Agency_Name\": 1, \"Agency_Type\": 1, \"City\": 1, \"Year\": 1, \"Month\": 1, \"Incident\": 1, \"Crime_Type\": 1, \"Crime_Solved\": 1, \"Victim_Sex\": 1, \"Victim_Age\": 1, \"Victim_Race\": 1, \"Victim_Ethnicity\": 1, \"Perpetrator_Age\": 1, \"Perpetrator_Ethnicity\": 1, \"Relationship\": 1, \"Weapon\": 1, \"Victim_Count\": 1, \"Perpetrator_Count\": 1, \"Record_Source\": 1, \"State_Code\": 1, \"id\": 50}, {\"Perpetrator_Sex\": \"Female\", \"State\": \"Virginia\", \"Perpetrator_Race\": \"White\", \"Record_ID\": 19, \"Agency_Code\": 19, \"Agency_Name\": 19, \"Agency_Type\": 19, \"City\": 19, \"Year\": 19, \"Month\": 19, \"Incident\": 19, \"Crime_Type\": 19, \"Crime_Solved\": 19, \"Victim_Sex\": 19, \"Victim_Age\": 19, \"Victim_Race\": 19, \"Victim_Ethnicity\": 19, \"Perpetrator_Age\": 19, \"Perpetrator_Ethnicity\": 19, \"Relationship\": 19, \"Weapon\": 19, \"Victim_Count\": 19, \"Perpetrator_Count\": 19, \"Record_Source\": 19, \"State_Code\": 19, \"id\": 51}, {\"Perpetrator_Sex\": \"Female\", \"State\": \"Washington\", \"Perpetrator_Race\": \"White\", \"Record_ID\": 6, \"Agency_Code\": 6, \"Agency_Name\": 6, \"Agency_Type\": 6, \"City\": 6, \"Year\": 6, \"Month\": 6, \"Incident\": 6, \"Crime_Type\": 6, \"Crime_Solved\": 6, \"Victim_Sex\": 6, \"Victim_Age\": 6, \"Victim_Race\": 6, \"Victim_Ethnicity\": 6, \"Perpetrator_Age\": 6, \"Perpetrator_Ethnicity\": 6, \"Relationship\": 6, \"Weapon\": 6, \"Victim_Count\": 6, \"Perpetrator_Count\": 6, \"Record_Source\": 6, \"State_Code\": 6, \"id\": 53}, {\"Perpetrator_Sex\": \"Female\", \"State\": \"West Virginia\", \"Perpetrator_Race\": \"White\", \"Record_ID\": 7, \"Agency_Code\": 7, \"Agency_Name\": 7, \"Agency_Type\": 7, \"City\": 7, \"Year\": 7, \"Month\": 7, \"Incident\": 7, \"Crime_Type\": 7, \"Crime_Solved\": 7, \"Victim_Sex\": 7, \"Victim_Age\": 7, \"Victim_Race\": 7, \"Victim_Ethnicity\": 7, \"Perpetrator_Age\": 7, \"Perpetrator_Ethnicity\": 7, \"Relationship\": 7, \"Weapon\": 7, \"Victim_Count\": 7, \"Perpetrator_Count\": 7, \"Record_Source\": 7, \"State_Code\": 7, \"id\": 54}, {\"Perpetrator_Sex\": \"Female\", \"State\": \"Wisconsin\", \"Perpetrator_Race\": \"White\", \"Record_ID\": 10, \"Agency_Code\": 10, \"Agency_Name\": 10, \"Agency_Type\": 10, \"City\": 10, \"Year\": 10, \"Month\": 10, \"Incident\": 10, \"Crime_Type\": 10, \"Crime_Solved\": 10, \"Victim_Sex\": 10, \"Victim_Age\": 10, \"Victim_Race\": 10, \"Victim_Ethnicity\": 10, \"Perpetrator_Age\": 10, \"Perpetrator_Ethnicity\": 10, \"Relationship\": 10, \"Weapon\": 10, \"Victim_Count\": 10, \"Perpetrator_Count\": 10, \"Record_Source\": 10, \"State_Code\": 10, \"id\": 55}, {\"Perpetrator_Sex\": \"Male\", \"State\": \"Alabama\", \"Perpetrator_Race\": \"White\", \"Record_ID\": 41, \"Agency_Code\": 41, \"Agency_Name\": 41, \"Agency_Type\": 41, \"City\": 41, \"Year\": 41, \"Month\": 41, \"Incident\": 41, \"Crime_Type\": 41, \"Crime_Solved\": 41, \"Victim_Sex\": 41, \"Victim_Age\": 41, \"Victim_Race\": 41, \"Victim_Ethnicity\": 41, \"Perpetrator_Age\": 41, \"Perpetrator_Ethnicity\": 41, \"Relationship\": 41, \"Weapon\": 41, \"Victim_Count\": 41, \"Perpetrator_Count\": 41, \"Record_Source\": 41, \"State_Code\": 41, \"id\": 1}, {\"Perpetrator_Sex\": \"Male\", \"State\": \"Alaska\", \"Perpetrator_Race\": \"White\", \"Record_ID\": 18, \"Agency_Code\": 18, \"Agency_Name\": 18, \"Agency_Type\": 18, \"City\": 18, \"Year\": 18, \"Month\": 18, \"Incident\": 18, \"Crime_Type\": 18, \"Crime_Solved\": 18, \"Victim_Sex\": 18, \"Victim_Age\": 18, \"Victim_Race\": 18, \"Victim_Ethnicity\": 18, \"Perpetrator_Age\": 18, \"Perpetrator_Ethnicity\": 18, \"Relationship\": 18, \"Weapon\": 18, \"Victim_Count\": 18, \"Perpetrator_Count\": 18, \"Record_Source\": 18, \"State_Code\": 18, \"id\": 2}, {\"Perpetrator_Sex\": \"Male\", \"State\": \"Arizona\", \"Perpetrator_Race\": \"White\", \"Record_ID\": 223, \"Agency_Code\": 223, \"Agency_Name\": 223, \"Agency_Type\": 223, \"City\": 223, \"Year\": 223, \"Month\": 223, \"Incident\": 223, \"Crime_Type\": 223, \"Crime_Solved\": 223, \"Victim_Sex\": 223, \"Victim_Age\": 223, \"Victim_Race\": 223, \"Victim_Ethnicity\": 223, \"Perpetrator_Age\": 223, \"Perpetrator_Ethnicity\": 223, \"Relationship\": 223, \"Weapon\": 223, \"Victim_Count\": 223, \"Perpetrator_Count\": 223, \"Record_Source\": 223, \"State_Code\": 223, \"id\": 4}, {\"Perpetrator_Sex\": \"Male\", \"State\": \"Arkansas\", \"Perpetrator_Race\": \"White\", \"Record_ID\": 40, \"Agency_Code\": 40, \"Agency_Name\": 40, \"Agency_Type\": 40, \"City\": 40, \"Year\": 40, \"Month\": 40, \"Incident\": 40, \"Crime_Type\": 40, \"Crime_Solved\": 40, \"Victim_Sex\": 40, \"Victim_Age\": 40, \"Victim_Race\": 40, \"Victim_Ethnicity\": 40, \"Perpetrator_Age\": 40, \"Perpetrator_Ethnicity\": 40, \"Relationship\": 40, \"Weapon\": 40, \"Victim_Count\": 40, \"Perpetrator_Count\": 40, \"Record_Source\": 40, \"State_Code\": 40, \"id\": 5}, {\"Perpetrator_Sex\": \"Male\", \"State\": \"California\", \"Perpetrator_Race\": \"White\", \"Record_ID\": 701, \"Agency_Code\": 701, \"Agency_Name\": 701, \"Agency_Type\": 701, \"City\": 701, \"Year\": 701, \"Month\": 701, \"Incident\": 701, \"Crime_Type\": 701, \"Crime_Solved\": 701, \"Victim_Sex\": 701, \"Victim_Age\": 701, \"Victim_Race\": 701, \"Victim_Ethnicity\": 701, \"Perpetrator_Age\": 701, \"Perpetrator_Ethnicity\": 701, \"Relationship\": 701, \"Weapon\": 701, \"Victim_Count\": 701, \"Perpetrator_Count\": 701, \"Record_Source\": 701, \"State_Code\": 701, \"id\": 6}, {\"Perpetrator_Sex\": \"Male\", \"State\": \"Colorado\", \"Perpetrator_Race\": \"White\", \"Record_ID\": 85, \"Agency_Code\": 85, \"Agency_Name\": 85, \"Agency_Type\": 85, \"City\": 85, \"Year\": 85, \"Month\": 85, \"Incident\": 85, \"Crime_Type\": 85, \"Crime_Solved\": 85, \"Victim_Sex\": 85, \"Victim_Age\": 85, \"Victim_Race\": 85, \"Victim_Ethnicity\": 85, \"Perpetrator_Age\": 85, \"Perpetrator_Ethnicity\": 85, \"Relationship\": 85, \"Weapon\": 85, \"Victim_Count\": 85, \"Perpetrator_Count\": 85, \"Record_Source\": 85, \"State_Code\": 85, \"id\": 8}, {\"Perpetrator_Sex\": \"Male\", \"State\": \"Connecticut\", \"Perpetrator_Race\": \"White\", \"Record_ID\": 30, \"Agency_Code\": 30, \"Agency_Name\": 30, \"Agency_Type\": 30, \"City\": 30, \"Year\": 30, \"Month\": 30, \"Incident\": 30, \"Crime_Type\": 30, \"Crime_Solved\": 30, \"Victim_Sex\": 30, \"Victim_Age\": 30, \"Victim_Race\": 30, \"Victim_Ethnicity\": 30, \"Perpetrator_Age\": 30, \"Perpetrator_Ethnicity\": 30, \"Relationship\": 30, \"Weapon\": 30, \"Victim_Count\": 30, \"Perpetrator_Count\": 30, \"Record_Source\": 30, \"State_Code\": 30, \"id\": 9}, {\"Perpetrator_Sex\": \"Male\", \"State\": \"Delaware\", \"Perpetrator_Race\": \"White\", \"Record_ID\": 12, \"Agency_Code\": 12, \"Agency_Name\": 12, \"Agency_Type\": 12, \"City\": 12, \"Year\": 12, \"Month\": 12, \"Incident\": 12, \"Crime_Type\": 12, \"Crime_Solved\": 12, \"Victim_Sex\": 12, \"Victim_Age\": 12, \"Victim_Race\": 12, \"Victim_Ethnicity\": 12, \"Perpetrator_Age\": 12, \"Perpetrator_Ethnicity\": 12, \"Relationship\": 12, \"Weapon\": 12, \"Victim_Count\": 12, \"Perpetrator_Count\": 12, \"Record_Source\": 12, \"State_Code\": 12, \"id\": 10}, {\"Perpetrator_Sex\": \"Male\", \"State\": \"District of Columbia\", \"Perpetrator_Race\": \"White\", \"Record_ID\": 3, \"Agency_Code\": 3, \"Agency_Name\": 3, \"Agency_Type\": 3, \"City\": 3, \"Year\": 3, \"Month\": 3, \"Incident\": 3, \"Crime_Type\": 3, \"Crime_Solved\": 3, \"Victim_Sex\": 3, \"Victim_Age\": 3, \"Victim_Race\": 3, \"Victim_Ethnicity\": 3, \"Perpetrator_Age\": 3, \"Perpetrator_Ethnicity\": 3, \"Relationship\": 3, \"Weapon\": 3, \"Victim_Count\": 3, \"Perpetrator_Count\": 3, \"Record_Source\": 3, \"State_Code\": 3, \"id\": 11}, {\"Perpetrator_Sex\": \"Male\", \"State\": \"Florida\", \"Perpetrator_Race\": \"White\", \"Record_ID\": 416, \"Agency_Code\": 416, \"Agency_Name\": 416, \"Agency_Type\": 416, \"City\": 416, \"Year\": 416, \"Month\": 416, \"Incident\": 416, \"Crime_Type\": 416, \"Crime_Solved\": 416, \"Victim_Sex\": 416, \"Victim_Age\": 416, \"Victim_Race\": 416, \"Victim_Ethnicity\": 416, \"Perpetrator_Age\": 416, \"Perpetrator_Ethnicity\": 416, \"Relationship\": 416, \"Weapon\": 416, \"Victim_Count\": 416, \"Perpetrator_Count\": 416, \"Record_Source\": 416, \"State_Code\": 416, \"id\": 12}, {\"Perpetrator_Sex\": \"Male\", \"State\": \"Georgia\", \"Perpetrator_Race\": \"White\", \"Record_ID\": 99, \"Agency_Code\": 99, \"Agency_Name\": 99, \"Agency_Type\": 99, \"City\": 99, \"Year\": 99, \"Month\": 99, \"Incident\": 99, \"Crime_Type\": 99, \"Crime_Solved\": 99, \"Victim_Sex\": 99, \"Victim_Age\": 99, \"Victim_Race\": 99, \"Victim_Ethnicity\": 99, \"Perpetrator_Age\": 99, \"Perpetrator_Ethnicity\": 99, \"Relationship\": 99, \"Weapon\": 99, \"Victim_Count\": 99, \"Perpetrator_Count\": 99, \"Record_Source\": 99, \"State_Code\": 99, \"id\": 13}, {\"Perpetrator_Sex\": \"Male\", \"State\": \"Hawaii\", \"Perpetrator_Race\": \"White\", \"Record_ID\": 19, \"Agency_Code\": 19, \"Agency_Name\": 19, \"Agency_Type\": 19, \"City\": 19, \"Year\": 19, \"Month\": 19, \"Incident\": 19, \"Crime_Type\": 19, \"Crime_Solved\": 19, \"Victim_Sex\": 19, \"Victim_Age\": 19, \"Victim_Race\": 19, \"Victim_Ethnicity\": 19, \"Perpetrator_Age\": 19, \"Perpetrator_Ethnicity\": 19, \"Relationship\": 19, \"Weapon\": 19, \"Victim_Count\": 19, \"Perpetrator_Count\": 19, \"Record_Source\": 19, \"State_Code\": 19, \"id\": 15}, {\"Perpetrator_Sex\": \"Male\", \"State\": \"Idaho\", \"Perpetrator_Race\": \"White\", \"Record_ID\": 18, \"Agency_Code\": 18, \"Agency_Name\": 18, \"Agency_Type\": 18, \"City\": 18, \"Year\": 18, \"Month\": 18, \"Incident\": 18, \"Crime_Type\": 18, \"Crime_Solved\": 18, \"Victim_Sex\": 18, \"Victim_Age\": 18, \"Victim_Race\": 18, \"Victim_Ethnicity\": 18, \"Perpetrator_Age\": 18, \"Perpetrator_Ethnicity\": 18, \"Relationship\": 18, \"Weapon\": 18, \"Victim_Count\": 18, \"Perpetrator_Count\": 18, \"Record_Source\": 18, \"State_Code\": 18, \"id\": 16}, {\"Perpetrator_Sex\": \"Male\", \"State\": \"Illinois\", \"Perpetrator_Race\": \"White\", \"Record_ID\": 44, \"Agency_Code\": 44, \"Agency_Name\": 44, \"Agency_Type\": 44, \"City\": 44, \"Year\": 44, \"Month\": 44, \"Incident\": 44, \"Crime_Type\": 44, \"Crime_Solved\": 44, \"Victim_Sex\": 44, \"Victim_Age\": 44, \"Victim_Race\": 44, \"Victim_Ethnicity\": 44, \"Perpetrator_Age\": 44, \"Perpetrator_Ethnicity\": 44, \"Relationship\": 44, \"Weapon\": 44, \"Victim_Count\": 44, \"Perpetrator_Count\": 44, \"Record_Source\": 44, \"State_Code\": 44, \"id\": 17}, {\"Perpetrator_Sex\": \"Male\", \"State\": \"Indiana\", \"Perpetrator_Race\": \"White\", \"Record_ID\": 80, \"Agency_Code\": 80, \"Agency_Name\": 80, \"Agency_Type\": 80, \"City\": 80, \"Year\": 80, \"Month\": 80, \"Incident\": 80, \"Crime_Type\": 80, \"Crime_Solved\": 80, \"Victim_Sex\": 80, \"Victim_Age\": 80, \"Victim_Race\": 80, \"Victim_Ethnicity\": 80, \"Perpetrator_Age\": 80, \"Perpetrator_Ethnicity\": 80, \"Relationship\": 80, \"Weapon\": 80, \"Victim_Count\": 80, \"Perpetrator_Count\": 80, \"Record_Source\": 80, \"State_Code\": 80, \"id\": 18}, {\"Perpetrator_Sex\": \"Male\", \"State\": \"Iowa\", \"Perpetrator_Race\": \"White\", \"Record_ID\": 24, \"Agency_Code\": 24, \"Agency_Name\": 24, \"Agency_Type\": 24, \"City\": 24, \"Year\": 24, \"Month\": 24, \"Incident\": 24, \"Crime_Type\": 24, \"Crime_Solved\": 24, \"Victim_Sex\": 24, \"Victim_Age\": 24, \"Victim_Race\": 24, \"Victim_Ethnicity\": 24, \"Perpetrator_Age\": 24, \"Perpetrator_Ethnicity\": 24, \"Relationship\": 24, \"Weapon\": 24, \"Victim_Count\": 24, \"Perpetrator_Count\": 24, \"Record_Source\": 24, \"State_Code\": 24, \"id\": 19}, {\"Perpetrator_Sex\": \"Male\", \"State\": \"Kansas\", \"Perpetrator_Race\": \"White\", \"Record_ID\": 50, \"Agency_Code\": 50, \"Agency_Name\": 50, \"Agency_Type\": 50, \"City\": 50, \"Year\": 50, \"Month\": 50, \"Incident\": 50, \"Crime_Type\": 50, \"Crime_Solved\": 50, \"Victim_Sex\": 50, \"Victim_Age\": 50, \"Victim_Race\": 50, \"Victim_Ethnicity\": 50, \"Perpetrator_Age\": 50, \"Perpetrator_Ethnicity\": 50, \"Relationship\": 50, \"Weapon\": 50, \"Victim_Count\": 50, \"Perpetrator_Count\": 50, \"Record_Source\": 50, \"State_Code\": 50, \"id\": 20}, {\"Perpetrator_Sex\": \"Male\", \"State\": \"Kentucky\", \"Perpetrator_Race\": \"White\", \"Record_ID\": 92, \"Agency_Code\": 92, \"Agency_Name\": 92, \"Agency_Type\": 92, \"City\": 92, \"Year\": 92, \"Month\": 92, \"Incident\": 92, \"Crime_Type\": 92, \"Crime_Solved\": 92, \"Victim_Sex\": 92, \"Victim_Age\": 92, \"Victim_Race\": 92, \"Victim_Ethnicity\": 92, \"Perpetrator_Age\": 92, \"Perpetrator_Ethnicity\": 92, \"Relationship\": 92, \"Weapon\": 92, \"Victim_Count\": 92, \"Perpetrator_Count\": 92, \"Record_Source\": 92, \"State_Code\": 92, \"id\": 21}, {\"Perpetrator_Sex\": \"Male\", \"State\": \"Louisiana\", \"Perpetrator_Race\": \"White\", \"Record_ID\": 67, \"Agency_Code\": 67, \"Agency_Name\": 67, \"Agency_Type\": 67, \"City\": 67, \"Year\": 67, \"Month\": 67, \"Incident\": 67, \"Crime_Type\": 67, \"Crime_Solved\": 67, \"Victim_Sex\": 67, \"Victim_Age\": 67, \"Victim_Race\": 67, \"Victim_Ethnicity\": 67, \"Perpetrator_Age\": 67, \"Perpetrator_Ethnicity\": 67, \"Relationship\": 67, \"Weapon\": 67, \"Victim_Count\": 67, \"Perpetrator_Count\": 67, \"Record_Source\": 67, \"State_Code\": 67, \"id\": 22}, {\"Perpetrator_Sex\": \"Male\", \"State\": \"Maine\", \"Perpetrator_Race\": \"White\", \"Record_ID\": 20, \"Agency_Code\": 20, \"Agency_Name\": 20, \"Agency_Type\": 20, \"City\": 20, \"Year\": 20, \"Month\": 20, \"Incident\": 20, \"Crime_Type\": 20, \"Crime_Solved\": 20, \"Victim_Sex\": 20, \"Victim_Age\": 20, \"Victim_Race\": 20, \"Victim_Ethnicity\": 20, \"Perpetrator_Age\": 20, \"Perpetrator_Ethnicity\": 20, \"Relationship\": 20, \"Weapon\": 20, \"Victim_Count\": 20, \"Perpetrator_Count\": 20, \"Record_Source\": 20, \"State_Code\": 20, \"id\": 23}, {\"Perpetrator_Sex\": \"Male\", \"State\": \"Maryland\", \"Perpetrator_Race\": \"White\", \"Record_ID\": 55, \"Agency_Code\": 55, \"Agency_Name\": 55, \"Agency_Type\": 55, \"City\": 55, \"Year\": 55, \"Month\": 55, \"Incident\": 55, \"Crime_Type\": 55, \"Crime_Solved\": 55, \"Victim_Sex\": 55, \"Victim_Age\": 55, \"Victim_Race\": 55, \"Victim_Ethnicity\": 55, \"Perpetrator_Age\": 55, \"Perpetrator_Ethnicity\": 55, \"Relationship\": 55, \"Weapon\": 55, \"Victim_Count\": 55, \"Perpetrator_Count\": 55, \"Record_Source\": 55, \"State_Code\": 55, \"id\": 24}, {\"Perpetrator_Sex\": \"Male\", \"State\": \"Massachusetts\", \"Perpetrator_Race\": \"White\", \"Record_ID\": 76, \"Agency_Code\": 76, \"Agency_Name\": 76, \"Agency_Type\": 76, \"City\": 76, \"Year\": 76, \"Month\": 76, \"Incident\": 76, \"Crime_Type\": 76, \"Crime_Solved\": 76, \"Victim_Sex\": 76, \"Victim_Age\": 76, \"Victim_Race\": 76, \"Victim_Ethnicity\": 76, \"Perpetrator_Age\": 76, \"Perpetrator_Ethnicity\": 76, \"Relationship\": 76, \"Weapon\": 76, \"Victim_Count\": 76, \"Perpetrator_Count\": 76, \"Record_Source\": 76, \"State_Code\": 76, \"id\": 25}, {\"Perpetrator_Sex\": \"Male\", \"State\": \"Michigan\", \"Perpetrator_Race\": \"White\", \"Record_ID\": 105, \"Agency_Code\": 105, \"Agency_Name\": 105, \"Agency_Type\": 105, \"City\": 105, \"Year\": 105, \"Month\": 105, \"Incident\": 105, \"Crime_Type\": 105, \"Crime_Solved\": 105, \"Victim_Sex\": 105, \"Victim_Age\": 105, \"Victim_Race\": 105, \"Victim_Ethnicity\": 105, \"Perpetrator_Age\": 105, \"Perpetrator_Ethnicity\": 105, \"Relationship\": 105, \"Weapon\": 105, \"Victim_Count\": 105, \"Perpetrator_Count\": 105, \"Record_Source\": 105, \"State_Code\": 105, \"id\": 26}, {\"Perpetrator_Sex\": \"Male\", \"State\": \"Minnesota\", \"Perpetrator_Race\": \"White\", \"Record_ID\": 35, \"Agency_Code\": 35, \"Agency_Name\": 35, \"Agency_Type\": 35, \"City\": 35, \"Year\": 35, \"Month\": 35, \"Incident\": 35, \"Crime_Type\": 35, \"Crime_Solved\": 35, \"Victim_Sex\": 35, \"Victim_Age\": 35, \"Victim_Race\": 35, \"Victim_Ethnicity\": 35, \"Perpetrator_Age\": 35, \"Perpetrator_Ethnicity\": 35, \"Relationship\": 35, \"Weapon\": 35, \"Victim_Count\": 35, \"Perpetrator_Count\": 35, \"Record_Source\": 35, \"State_Code\": 35, \"id\": 27}, {\"Perpetrator_Sex\": \"Male\", \"State\": \"Mississippi\", \"Perpetrator_Race\": \"White\", \"Record_ID\": 33, \"Agency_Code\": 33, \"Agency_Name\": 33, \"Agency_Type\": 33, \"City\": 33, \"Year\": 33, \"Month\": 33, \"Incident\": 33, \"Crime_Type\": 33, \"Crime_Solved\": 33, \"Victim_Sex\": 33, \"Victim_Age\": 33, \"Victim_Race\": 33, \"Victim_Ethnicity\": 33, \"Perpetrator_Age\": 33, \"Perpetrator_Ethnicity\": 33, \"Relationship\": 33, \"Weapon\": 33, \"Victim_Count\": 33, \"Perpetrator_Count\": 33, \"Record_Source\": 33, \"State_Code\": 33, \"id\": 28}, {\"Perpetrator_Sex\": \"Male\", \"State\": \"Missouri\", \"Perpetrator_Race\": \"White\", \"Record_ID\": 134, \"Agency_Code\": 134, \"Agency_Name\": 134, \"Agency_Type\": 134, \"City\": 134, \"Year\": 134, \"Month\": 134, \"Incident\": 134, \"Crime_Type\": 134, \"Crime_Solved\": 134, \"Victim_Sex\": 134, \"Victim_Age\": 134, \"Victim_Race\": 134, \"Victim_Ethnicity\": 134, \"Perpetrator_Age\": 134, \"Perpetrator_Ethnicity\": 134, \"Relationship\": 134, \"Weapon\": 134, \"Victim_Count\": 134, \"Perpetrator_Count\": 134, \"Record_Source\": 134, \"State_Code\": 134, \"id\": 29}, {\"Perpetrator_Sex\": \"Male\", \"State\": \"Montana\", \"Perpetrator_Race\": \"White\", \"Record_ID\": 18, \"Agency_Code\": 18, \"Agency_Name\": 18, \"Agency_Type\": 18, \"City\": 18, \"Year\": 18, \"Month\": 18, \"Incident\": 18, \"Crime_Type\": 18, \"Crime_Solved\": 18, \"Victim_Sex\": 18, \"Victim_Age\": 18, \"Victim_Race\": 18, \"Victim_Ethnicity\": 18, \"Perpetrator_Age\": 18, \"Perpetrator_Ethnicity\": 18, \"Relationship\": 18, \"Weapon\": 18, \"Victim_Count\": 18, \"Perpetrator_Count\": 18, \"Record_Source\": 18, \"State_Code\": 18, \"id\": 30}, {\"Perpetrator_Sex\": \"Male\", \"State\": \"Nebraska\", \"Perpetrator_Race\": \"White\", \"Record_ID\": 17, \"Agency_Code\": 17, \"Agency_Name\": 17, \"Agency_Type\": 17, \"City\": 17, \"Year\": 17, \"Month\": 17, \"Incident\": 17, \"Crime_Type\": 17, \"Crime_Solved\": 17, \"Victim_Sex\": 17, \"Victim_Age\": 17, \"Victim_Race\": 17, \"Victim_Ethnicity\": 17, \"Perpetrator_Age\": 17, \"Perpetrator_Ethnicity\": 17, \"Relationship\": 17, \"Weapon\": 17, \"Victim_Count\": 17, \"Perpetrator_Count\": 17, \"Record_Source\": 17, \"State_Code\": 17, \"id\": 31}, {\"Perpetrator_Sex\": \"Male\", \"State\": \"Nevada\", \"Perpetrator_Race\": \"White\", \"Record_ID\": 86, \"Agency_Code\": 86, \"Agency_Name\": 86, \"Agency_Type\": 86, \"City\": 86, \"Year\": 86, \"Month\": 86, \"Incident\": 86, \"Crime_Type\": 86, \"Crime_Solved\": 86, \"Victim_Sex\": 86, \"Victim_Age\": 86, \"Victim_Race\": 86, \"Victim_Ethnicity\": 86, \"Perpetrator_Age\": 86, \"Perpetrator_Ethnicity\": 86, \"Relationship\": 86, \"Weapon\": 86, \"Victim_Count\": 86, \"Perpetrator_Count\": 86, \"Record_Source\": 86, \"State_Code\": 86, \"id\": 32}, {\"Perpetrator_Sex\": \"Male\", \"State\": \"New Hampshire\", \"Perpetrator_Race\": \"White\", \"Record_ID\": 7, \"Agency_Code\": 7, \"Agency_Name\": 7, \"Agency_Type\": 7, \"City\": 7, \"Year\": 7, \"Month\": 7, \"Incident\": 7, \"Crime_Type\": 7, \"Crime_Solved\": 7, \"Victim_Sex\": 7, \"Victim_Age\": 7, \"Victim_Race\": 7, \"Victim_Ethnicity\": 7, \"Perpetrator_Age\": 7, \"Perpetrator_Ethnicity\": 7, \"Relationship\": 7, \"Weapon\": 7, \"Victim_Count\": 7, \"Perpetrator_Count\": 7, \"Record_Source\": 7, \"State_Code\": 7, \"id\": 33}, {\"Perpetrator_Sex\": \"Male\", \"State\": \"New Jersey\", \"Perpetrator_Race\": \"White\", \"Record_ID\": 81, \"Agency_Code\": 81, \"Agency_Name\": 81, \"Agency_Type\": 81, \"City\": 81, \"Year\": 81, \"Month\": 81, \"Incident\": 81, \"Crime_Type\": 81, \"Crime_Solved\": 81, \"Victim_Sex\": 81, \"Victim_Age\": 81, \"Victim_Race\": 81, \"Victim_Ethnicity\": 81, \"Perpetrator_Age\": 81, \"Perpetrator_Ethnicity\": 81, \"Relationship\": 81, \"Weapon\": 81, \"Victim_Count\": 81, \"Perpetrator_Count\": 81, \"Record_Source\": 81, \"State_Code\": 81, \"id\": 34}, {\"Perpetrator_Sex\": \"Male\", \"State\": \"New Mexico\", \"Perpetrator_Race\": \"White\", \"Record_ID\": 85, \"Agency_Code\": 85, \"Agency_Name\": 85, \"Agency_Type\": 85, \"City\": 85, \"Year\": 85, \"Month\": 85, \"Incident\": 85, \"Crime_Type\": 85, \"Crime_Solved\": 85, \"Victim_Sex\": 85, \"Victim_Age\": 85, \"Victim_Race\": 85, \"Victim_Ethnicity\": 85, \"Perpetrator_Age\": 85, \"Perpetrator_Ethnicity\": 85, \"Relationship\": 85, \"Weapon\": 85, \"Victim_Count\": 85, \"Perpetrator_Count\": 85, \"Record_Source\": 85, \"State_Code\": 85, \"id\": 35}, {\"Perpetrator_Sex\": \"Male\", \"State\": \"New York\", \"Perpetrator_Race\": \"White\", \"Record_ID\": 157, \"Agency_Code\": 157, \"Agency_Name\": 157, \"Agency_Type\": 157, \"City\": 157, \"Year\": 157, \"Month\": 157, \"Incident\": 157, \"Crime_Type\": 157, \"Crime_Solved\": 157, \"Victim_Sex\": 157, \"Victim_Age\": 157, \"Victim_Race\": 157, \"Victim_Ethnicity\": 157, \"Perpetrator_Age\": 157, \"Perpetrator_Ethnicity\": 157, \"Relationship\": 157, \"Weapon\": 157, \"Victim_Count\": 157, \"Perpetrator_Count\": 157, \"Record_Source\": 157, \"State_Code\": 157, \"id\": 36}, {\"Perpetrator_Sex\": \"Male\", \"State\": \"North Carolina\", \"Perpetrator_Race\": \"White\", \"Record_ID\": 150, \"Agency_Code\": 150, \"Agency_Name\": 150, \"Agency_Type\": 150, \"City\": 150, \"Year\": 150, \"Month\": 150, \"Incident\": 150, \"Crime_Type\": 150, \"Crime_Solved\": 150, \"Victim_Sex\": 150, \"Victim_Age\": 150, \"Victim_Race\": 150, \"Victim_Ethnicity\": 150, \"Perpetrator_Age\": 150, \"Perpetrator_Ethnicity\": 150, \"Relationship\": 150, \"Weapon\": 150, \"Victim_Count\": 150, \"Perpetrator_Count\": 150, \"Record_Source\": 150, \"State_Code\": 150, \"id\": 37}, {\"Perpetrator_Sex\": \"Male\", \"State\": \"North Dakota\", \"Perpetrator_Race\": \"White\", \"Record_ID\": 9, \"Agency_Code\": 9, \"Agency_Name\": 9, \"Agency_Type\": 9, \"City\": 9, \"Year\": 9, \"Month\": 9, \"Incident\": 9, \"Crime_Type\": 9, \"Crime_Solved\": 9, \"Victim_Sex\": 9, \"Victim_Age\": 9, \"Victim_Race\": 9, \"Victim_Ethnicity\": 9, \"Perpetrator_Age\": 9, \"Perpetrator_Ethnicity\": 9, \"Relationship\": 9, \"Weapon\": 9, \"Victim_Count\": 9, \"Perpetrator_Count\": 9, \"Record_Source\": 9, \"State_Code\": 9, \"id\": 38}, {\"Perpetrator_Sex\": \"Male\", \"State\": \"Ohio\", \"Perpetrator_Race\": \"White\", \"Record_ID\": 92, \"Agency_Code\": 92, \"Agency_Name\": 92, \"Agency_Type\": 92, \"City\": 92, \"Year\": 92, \"Month\": 92, \"Incident\": 92, \"Crime_Type\": 92, \"Crime_Solved\": 92, \"Victim_Sex\": 92, \"Victim_Age\": 92, \"Victim_Race\": 92, \"Victim_Ethnicity\": 92, \"Perpetrator_Age\": 92, \"Perpetrator_Ethnicity\": 92, \"Relationship\": 92, \"Weapon\": 92, \"Victim_Count\": 92, \"Perpetrator_Count\": 92, \"Record_Source\": 92, \"State_Code\": 92, \"id\": 39}, {\"Perpetrator_Sex\": \"Male\", \"State\": \"Oklahoma\", \"Perpetrator_Race\": \"White\", \"Record_ID\": 74, \"Agency_Code\": 74, \"Agency_Name\": 74, \"Agency_Type\": 74, \"City\": 74, \"Year\": 74, \"Month\": 74, \"Incident\": 74, \"Crime_Type\": 74, \"Crime_Solved\": 74, \"Victim_Sex\": 74, \"Victim_Age\": 74, \"Victim_Race\": 74, \"Victim_Ethnicity\": 74, \"Perpetrator_Age\": 74, \"Perpetrator_Ethnicity\": 74, \"Relationship\": 74, \"Weapon\": 74, \"Victim_Count\": 74, \"Perpetrator_Count\": 74, \"Record_Source\": 74, \"State_Code\": 74, \"id\": 40}, {\"Perpetrator_Sex\": \"Male\", \"State\": \"Oregon\", \"Perpetrator_Race\": \"White\", \"Record_ID\": 62, \"Agency_Code\": 62, \"Agency_Name\": 62, \"Agency_Type\": 62, \"City\": 62, \"Year\": 62, \"Month\": 62, \"Incident\": 62, \"Crime_Type\": 62, \"Crime_Solved\": 62, \"Victim_Sex\": 62, \"Victim_Age\": 62, \"Victim_Race\": 62, \"Victim_Ethnicity\": 62, \"Perpetrator_Age\": 62, \"Perpetrator_Ethnicity\": 62, \"Relationship\": 62, \"Weapon\": 62, \"Victim_Count\": 62, \"Perpetrator_Count\": 62, \"Record_Source\": 62, \"State_Code\": 62, \"id\": 41}, {\"Perpetrator_Sex\": \"Male\", \"State\": \"Pennsylvania\", \"Perpetrator_Race\": \"White\", \"Record_ID\": 171, \"Agency_Code\": 171, \"Agency_Name\": 171, \"Agency_Type\": 171, \"City\": 171, \"Year\": 171, \"Month\": 171, \"Incident\": 171, \"Crime_Type\": 171, \"Crime_Solved\": 171, \"Victim_Sex\": 171, \"Victim_Age\": 171, \"Victim_Race\": 171, \"Victim_Ethnicity\": 171, \"Perpetrator_Age\": 171, \"Perpetrator_Ethnicity\": 171, \"Relationship\": 171, \"Weapon\": 171, \"Victim_Count\": 171, \"Perpetrator_Count\": 171, \"Record_Source\": 171, \"State_Code\": 171, \"id\": 42}, {\"Perpetrator_Sex\": \"Male\", \"State\": \"Rhodes Island\", \"Perpetrator_Race\": \"White\", \"Record_ID\": 15, \"Agency_Code\": 15, \"Agency_Name\": 15, \"Agency_Type\": 15, \"City\": 15, \"Year\": 15, \"Month\": 15, \"Incident\": 15, \"Crime_Type\": 15, \"Crime_Solved\": 15, \"Victim_Sex\": 15, \"Victim_Age\": 15, \"Victim_Race\": 15, \"Victim_Ethnicity\": 15, \"Perpetrator_Age\": 15, \"Perpetrator_Ethnicity\": 15, \"Relationship\": 15, \"Weapon\": 15, \"Victim_Count\": 15, \"Perpetrator_Count\": 15, \"Record_Source\": 15, \"State_Code\": 15, \"id\": \"Rhodes Island\"}, {\"Perpetrator_Sex\": \"Male\", \"State\": \"South Carolina\", \"Perpetrator_Race\": \"White\", \"Record_ID\": 80, \"Agency_Code\": 80, \"Agency_Name\": 80, \"Agency_Type\": 80, \"City\": 80, \"Year\": 80, \"Month\": 80, \"Incident\": 80, \"Crime_Type\": 80, \"Crime_Solved\": 80, \"Victim_Sex\": 80, \"Victim_Age\": 80, \"Victim_Race\": 80, \"Victim_Ethnicity\": 80, \"Perpetrator_Age\": 80, \"Perpetrator_Ethnicity\": 80, \"Relationship\": 80, \"Weapon\": 80, \"Victim_Count\": 80, \"Perpetrator_Count\": 80, \"Record_Source\": 80, \"State_Code\": 80, \"id\": 45}, {\"Perpetrator_Sex\": \"Male\", \"State\": \"South Dakota\", \"Perpetrator_Race\": \"White\", \"Record_ID\": 7, \"Agency_Code\": 7, \"Agency_Name\": 7, \"Agency_Type\": 7, \"City\": 7, \"Year\": 7, \"Month\": 7, \"Incident\": 7, \"Crime_Type\": 7, \"Crime_Solved\": 7, \"Victim_Sex\": 7, \"Victim_Age\": 7, \"Victim_Race\": 7, \"Victim_Ethnicity\": 7, \"Perpetrator_Age\": 7, \"Perpetrator_Ethnicity\": 7, \"Relationship\": 7, \"Weapon\": 7, \"Victim_Count\": 7, \"Perpetrator_Count\": 7, \"Record_Source\": 7, \"State_Code\": 7, \"id\": 46}, {\"Perpetrator_Sex\": \"Male\", \"State\": \"Tennessee\", \"Perpetrator_Race\": \"White\", \"Record_ID\": 147, \"Agency_Code\": 147, \"Agency_Name\": 147, \"Agency_Type\": 147, \"City\": 147, \"Year\": 147, \"Month\": 147, \"Incident\": 147, \"Crime_Type\": 147, \"Crime_Solved\": 147, \"Victim_Sex\": 147, \"Victim_Age\": 147, \"Victim_Race\": 147, \"Victim_Ethnicity\": 147, \"Perpetrator_Age\": 147, \"Perpetrator_Ethnicity\": 147, \"Relationship\": 147, \"Weapon\": 147, \"Victim_Count\": 147, \"Perpetrator_Count\": 147, \"Record_Source\": 147, \"State_Code\": 147, \"id\": 47}, {\"Perpetrator_Sex\": \"Male\", \"State\": \"Texas\", \"Perpetrator_Race\": \"White\", \"Record_ID\": 620, \"Agency_Code\": 620, \"Agency_Name\": 620, \"Agency_Type\": 620, \"City\": 620, \"Year\": 620, \"Month\": 620, \"Incident\": 620, \"Crime_Type\": 620, \"Crime_Solved\": 620, \"Victim_Sex\": 620, \"Victim_Age\": 620, \"Victim_Race\": 620, \"Victim_Ethnicity\": 620, \"Perpetrator_Age\": 620, \"Perpetrator_Ethnicity\": 620, \"Relationship\": 620, \"Weapon\": 620, \"Victim_Count\": 620, \"Perpetrator_Count\": 620, \"Record_Source\": 620, \"State_Code\": 620, \"id\": 48}, {\"Perpetrator_Sex\": \"Male\", \"State\": \"Utah\", \"Perpetrator_Race\": \"White\", \"Record_ID\": 41, \"Agency_Code\": 41, \"Agency_Name\": 41, \"Agency_Type\": 41, \"City\": 41, \"Year\": 41, \"Month\": 41, \"Incident\": 41, \"Crime_Type\": 41, \"Crime_Solved\": 41, \"Victim_Sex\": 41, \"Victim_Age\": 41, \"Victim_Race\": 41, \"Victim_Ethnicity\": 41, \"Perpetrator_Age\": 41, \"Perpetrator_Ethnicity\": 41, \"Relationship\": 41, \"Weapon\": 41, \"Victim_Count\": 41, \"Perpetrator_Count\": 41, \"Record_Source\": 41, \"State_Code\": 41, \"id\": 49}, {\"Perpetrator_Sex\": \"Male\", \"State\": \"Vermont\", \"Perpetrator_Race\": \"White\", \"Record_ID\": 6, \"Agency_Code\": 6, \"Agency_Name\": 6, \"Agency_Type\": 6, \"City\": 6, \"Year\": 6, \"Month\": 6, \"Incident\": 6, \"Crime_Type\": 6, \"Crime_Solved\": 6, \"Victim_Sex\": 6, \"Victim_Age\": 6, \"Victim_Race\": 6, \"Victim_Ethnicity\": 6, \"Perpetrator_Age\": 6, \"Perpetrator_Ethnicity\": 6, \"Relationship\": 6, \"Weapon\": 6, \"Victim_Count\": 6, \"Perpetrator_Count\": 6, \"Record_Source\": 6, \"State_Code\": 6, \"id\": 50}, {\"Perpetrator_Sex\": \"Male\", \"State\": \"Virginia\", \"Perpetrator_Race\": \"White\", \"Record_ID\": 132, \"Agency_Code\": 132, \"Agency_Name\": 132, \"Agency_Type\": 132, \"City\": 132, \"Year\": 132, \"Month\": 132, \"Incident\": 132, \"Crime_Type\": 132, \"Crime_Solved\": 132, \"Victim_Sex\": 132, \"Victim_Age\": 132, \"Victim_Race\": 132, \"Victim_Ethnicity\": 132, \"Perpetrator_Age\": 132, \"Perpetrator_Ethnicity\": 132, \"Relationship\": 132, \"Weapon\": 132, \"Victim_Count\": 132, \"Perpetrator_Count\": 132, \"Record_Source\": 132, \"State_Code\": 132, \"id\": 51}, {\"Perpetrator_Sex\": \"Male\", \"State\": \"Washington\", \"Perpetrator_Race\": \"White\", \"Record_ID\": 104, \"Agency_Code\": 104, \"Agency_Name\": 104, \"Agency_Type\": 104, \"City\": 104, \"Year\": 104, \"Month\": 104, \"Incident\": 104, \"Crime_Type\": 104, \"Crime_Solved\": 104, \"Victim_Sex\": 104, \"Victim_Age\": 104, \"Victim_Race\": 104, \"Victim_Ethnicity\": 104, \"Perpetrator_Age\": 104, \"Perpetrator_Ethnicity\": 104, \"Relationship\": 104, \"Weapon\": 104, \"Victim_Count\": 104, \"Perpetrator_Count\": 104, \"Record_Source\": 104, \"State_Code\": 104, \"id\": 53}, {\"Perpetrator_Sex\": \"Male\", \"State\": \"West Virginia\", \"Perpetrator_Race\": \"White\", \"Record_ID\": 30, \"Agency_Code\": 30, \"Agency_Name\": 30, \"Agency_Type\": 30, \"City\": 30, \"Year\": 30, \"Month\": 30, \"Incident\": 30, \"Crime_Type\": 30, \"Crime_Solved\": 30, \"Victim_Sex\": 30, \"Victim_Age\": 30, \"Victim_Race\": 30, \"Victim_Ethnicity\": 30, \"Perpetrator_Age\": 30, \"Perpetrator_Ethnicity\": 30, \"Relationship\": 30, \"Weapon\": 30, \"Victim_Count\": 30, \"Perpetrator_Count\": 30, \"Record_Source\": 30, \"State_Code\": 30, \"id\": 54}, {\"Perpetrator_Sex\": \"Male\", \"State\": \"Wisconsin\", \"Perpetrator_Race\": \"White\", \"Record_ID\": 59, \"Agency_Code\": 59, \"Agency_Name\": 59, \"Agency_Type\": 59, \"City\": 59, \"Year\": 59, \"Month\": 59, \"Incident\": 59, \"Crime_Type\": 59, \"Crime_Solved\": 59, \"Victim_Sex\": 59, \"Victim_Age\": 59, \"Victim_Race\": 59, \"Victim_Ethnicity\": 59, \"Perpetrator_Age\": 59, \"Perpetrator_Ethnicity\": 59, \"Relationship\": 59, \"Weapon\": 59, \"Victim_Count\": 59, \"Perpetrator_Count\": 59, \"Record_Source\": 59, \"State_Code\": 59, \"id\": 55}, {\"Perpetrator_Sex\": \"Male\", \"State\": \"Wyoming\", \"Perpetrator_Race\": \"White\", \"Record_ID\": 6, \"Agency_Code\": 6, \"Agency_Name\": 6, \"Agency_Type\": 6, \"City\": 6, \"Year\": 6, \"Month\": 6, \"Incident\": 6, \"Crime_Type\": 6, \"Crime_Solved\": 6, \"Victim_Sex\": 6, \"Victim_Age\": 6, \"Victim_Race\": 6, \"Victim_Ethnicity\": 6, \"Perpetrator_Age\": 6, \"Perpetrator_Ethnicity\": 6, \"Relationship\": 6, \"Weapon\": 6, \"Victim_Count\": 6, \"Perpetrator_Count\": 6, \"Record_Source\": 6, \"State_Code\": 6, \"id\": 56}, {\"Perpetrator_Sex\": \"Unknown\", \"State\": \"Texas\", \"Perpetrator_Race\": \"White\", \"Record_ID\": 1, \"Agency_Code\": 1, \"Agency_Name\": 1, \"Agency_Type\": 1, \"City\": 1, \"Year\": 1, \"Month\": 1, \"Incident\": 1, \"Crime_Type\": 1, \"Crime_Solved\": 1, \"Victim_Sex\": 1, \"Victim_Age\": 1, \"Victim_Race\": 1, \"Victim_Ethnicity\": 1, \"Perpetrator_Age\": 1, \"Perpetrator_Ethnicity\": 1, \"Relationship\": 1, \"Weapon\": 1, \"Victim_Count\": 1, \"Perpetrator_Count\": 1, \"Record_Source\": 1, \"State_Code\": 1, \"id\": 48}]}}, {\"mode\": \"vega-lite\"});\n",
       "</script>"
      ],
      "text/plain": [
       "alt.Chart(...)"
      ]
     },
     "execution_count": 241,
     "metadata": {},
     "output_type": "execute_result"
    }
   ],
   "source": [
    "bar"
   ]
  },
  {
   "cell_type": "code",
   "execution_count": null,
   "id": "ee342f93",
   "metadata": {},
   "outputs": [],
   "source": []
  },
  {
   "cell_type": "code",
   "execution_count": null,
   "id": "b0872169",
   "metadata": {},
   "outputs": [],
   "source": []
  },
  {
   "cell_type": "code",
   "execution_count": null,
   "id": "43a6ad6a",
   "metadata": {},
   "outputs": [],
   "source": []
  }
 ],
 "metadata": {
  "kernelspec": {
   "display_name": "Python 3 (ipykernel)",
   "language": "python",
   "name": "python3"
  },
  "language_info": {
   "codemirror_mode": {
    "name": "ipython",
    "version": 3
   },
   "file_extension": ".py",
   "mimetype": "text/x-python",
   "name": "python",
   "nbconvert_exporter": "python",
   "pygments_lexer": "ipython3",
   "version": "3.9.7"
  }
 },
 "nbformat": 4,
 "nbformat_minor": 5
}
